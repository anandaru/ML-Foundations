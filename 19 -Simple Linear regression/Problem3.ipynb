{
 "cells": [
  {
   "cell_type": "markdown",
   "id": "f6b89639",
   "metadata": {},
   "source": [
    "## Problem3"
   ]
  },
  {
   "cell_type": "markdown",
   "id": "3516dc0f",
   "metadata": {},
   "source": [
    "A certain organization wants an early estimate of their employee churn out rate. So the HR department gathered the data regarding the employee’s salary hike and the churn out rate in a financial year. The analytics team will have to perform an analysis and predict an estimate of employee churn based on the salary hike. Build a Simple Linear Regression model with churn out rate as the target variable. Apply necessary transformations and record the RMSE and correlation coefficient values for different models."
   ]
  },
  {
   "cell_type": "code",
   "execution_count": 2,
   "id": "f21cac29",
   "metadata": {
    "scrolled": true
   },
   "outputs": [
    {
     "data": {
      "text/html": [
       "<div>\n",
       "<style scoped>\n",
       "    .dataframe tbody tr th:only-of-type {\n",
       "        vertical-align: middle;\n",
       "    }\n",
       "\n",
       "    .dataframe tbody tr th {\n",
       "        vertical-align: top;\n",
       "    }\n",
       "\n",
       "    .dataframe thead th {\n",
       "        text-align: right;\n",
       "    }\n",
       "</style>\n",
       "<table border=\"1\" class=\"dataframe\">\n",
       "  <thead>\n",
       "    <tr style=\"text-align: right;\">\n",
       "      <th></th>\n",
       "      <th>Salary_hike</th>\n",
       "      <th>Churn_out_rate</th>\n",
       "    </tr>\n",
       "  </thead>\n",
       "  <tbody>\n",
       "    <tr>\n",
       "      <th>count</th>\n",
       "      <td>10.000000</td>\n",
       "      <td>10.000000</td>\n",
       "    </tr>\n",
       "    <tr>\n",
       "      <th>mean</th>\n",
       "      <td>1688.600000</td>\n",
       "      <td>72.900000</td>\n",
       "    </tr>\n",
       "    <tr>\n",
       "      <th>std</th>\n",
       "      <td>92.096809</td>\n",
       "      <td>10.257247</td>\n",
       "    </tr>\n",
       "    <tr>\n",
       "      <th>min</th>\n",
       "      <td>1580.000000</td>\n",
       "      <td>60.000000</td>\n",
       "    </tr>\n",
       "    <tr>\n",
       "      <th>25%</th>\n",
       "      <td>1617.500000</td>\n",
       "      <td>65.750000</td>\n",
       "    </tr>\n",
       "    <tr>\n",
       "      <th>50%</th>\n",
       "      <td>1675.000000</td>\n",
       "      <td>71.000000</td>\n",
       "    </tr>\n",
       "    <tr>\n",
       "      <th>75%</th>\n",
       "      <td>1724.000000</td>\n",
       "      <td>78.750000</td>\n",
       "    </tr>\n",
       "    <tr>\n",
       "      <th>max</th>\n",
       "      <td>1870.000000</td>\n",
       "      <td>92.000000</td>\n",
       "    </tr>\n",
       "  </tbody>\n",
       "</table>\n",
       "</div>"
      ],
      "text/plain": [
       "       Salary_hike  Churn_out_rate\n",
       "count    10.000000       10.000000\n",
       "mean   1688.600000       72.900000\n",
       "std      92.096809       10.257247\n",
       "min    1580.000000       60.000000\n",
       "25%    1617.500000       65.750000\n",
       "50%    1675.000000       71.000000\n",
       "75%    1724.000000       78.750000\n",
       "max    1870.000000       92.000000"
      ]
     },
     "execution_count": 2,
     "metadata": {},
     "output_type": "execute_result"
    }
   ],
   "source": [
    "# Importing necessary libraries\n",
    "import pandas as pd # deals with data frame  \n",
    "import numpy as np  # deals with numerical values\n",
    "\n",
    "dt = pd.read_csv(\"emp_data.csv\")\n",
    "\n",
    "# Exploratory data analysis:\n",
    "# 1. Measures of central tendency\n",
    "# 2. Measures of dispersion\n",
    "# 3. Third moment business decision\n",
    "# 4. Fourth moment business decision\n",
    "# 5. Probability distributions of variables \n",
    "# 6. Graphical representations (Histogram, Box plot, Dot plot, Stem & Leaf plot, Bar plot, etc.)\n",
    "\n",
    "dt.describe()\n",
    "\n"
   ]
  },
  {
   "cell_type": "code",
   "execution_count": 3,
   "id": "ac2af7cf",
   "metadata": {},
   "outputs": [
    {
     "data": {
      "text/plain": [
       "(10, 2)"
      ]
     },
     "execution_count": 3,
     "metadata": {},
     "output_type": "execute_result"
    }
   ],
   "source": [
    "dt.shape"
   ]
  },
  {
   "cell_type": "code",
   "execution_count": 4,
   "id": "f8bbeee1",
   "metadata": {
    "scrolled": true
   },
   "outputs": [
    {
     "data": {
      "text/html": [
       "<div>\n",
       "<style scoped>\n",
       "    .dataframe tbody tr th:only-of-type {\n",
       "        vertical-align: middle;\n",
       "    }\n",
       "\n",
       "    .dataframe tbody tr th {\n",
       "        vertical-align: top;\n",
       "    }\n",
       "\n",
       "    .dataframe thead th {\n",
       "        text-align: right;\n",
       "    }\n",
       "</style>\n",
       "<table border=\"1\" class=\"dataframe\">\n",
       "  <thead>\n",
       "    <tr style=\"text-align: right;\">\n",
       "      <th></th>\n",
       "      <th>Salary_hike</th>\n",
       "      <th>Churn_out_rate</th>\n",
       "    </tr>\n",
       "  </thead>\n",
       "  <tbody>\n",
       "    <tr>\n",
       "      <th>0</th>\n",
       "      <td>1580</td>\n",
       "      <td>92</td>\n",
       "    </tr>\n",
       "    <tr>\n",
       "      <th>1</th>\n",
       "      <td>1600</td>\n",
       "      <td>85</td>\n",
       "    </tr>\n",
       "    <tr>\n",
       "      <th>2</th>\n",
       "      <td>1610</td>\n",
       "      <td>80</td>\n",
       "    </tr>\n",
       "    <tr>\n",
       "      <th>3</th>\n",
       "      <td>1640</td>\n",
       "      <td>75</td>\n",
       "    </tr>\n",
       "    <tr>\n",
       "      <th>4</th>\n",
       "      <td>1660</td>\n",
       "      <td>72</td>\n",
       "    </tr>\n",
       "  </tbody>\n",
       "</table>\n",
       "</div>"
      ],
      "text/plain": [
       "   Salary_hike  Churn_out_rate\n",
       "0         1580              92\n",
       "1         1600              85\n",
       "2         1610              80\n",
       "3         1640              75\n",
       "4         1660              72"
      ]
     },
     "execution_count": 4,
     "metadata": {},
     "output_type": "execute_result"
    }
   ],
   "source": [
    "dt.head()"
   ]
  },
  {
   "cell_type": "code",
   "execution_count": 5,
   "id": "98f6ec4c",
   "metadata": {},
   "outputs": [
    {
     "data": {
      "text/plain": [
       "<AxesSubplot:xlabel='Churn_out_rate', ylabel='Density'>"
      ]
     },
     "execution_count": 5,
     "metadata": {},
     "output_type": "execute_result"
    },
    {
     "data": {
      "image/png": "[encoded data removed]",
      "text/plain": [
       "<Figure size 432x288 with 1 Axes>"
      ]
     },
     "metadata": {},
     "output_type": "display_data"
    }
   ],
   "source": [
    "#Graphical Representation\n",
    "import matplotlib.pyplot as plt # mostly used for visualization purposes\n",
    "import seaborn as sns\n",
    "sns.set()\n",
    "\n",
    "#plt.bar(height = dt['Churn_out_rate'], x = np.arange(100, 1100, 100))\n",
    "\n",
    "sns.kdeplot(data=dt,x= dt['Churn_out_rate'],fill=True,color=\"navy\")"
   ]
  },
  {
   "cell_type": "code",
   "execution_count": 6,
   "id": "31ff36a9",
   "metadata": {},
   "outputs": [
    {
     "data": {
      "text/plain": [
       "(array([2., 1., 1., 2., 1., 0., 1., 1., 0., 1.]),\n",
       " array([60. , 63.2, 66.4, 69.6, 72.8, 76. , 79.2, 82.4, 85.6, 88.8, 92. ]),\n",
       " <BarContainer object of 10 artists>)"
      ]
     },
     "execution_count": 6,
     "metadata": {},
     "output_type": "execute_result"
    },
    {
     "data": {
      "image/png": "[encoded data removed]",
      "text/plain": [
       "<Figure size 432x288 with 1 Axes>"
      ]
     },
     "metadata": {},
     "output_type": "display_data"
    }
   ],
   "source": [
    "plt.hist(dt['Churn_out_rate']) #histogram"
   ]
  },
  {
   "cell_type": "code",
   "execution_count": 7,
   "id": "795d2ac2",
   "metadata": {},
   "outputs": [
    {
     "data": {
      "text/plain": [
       "{'whiskers': [<matplotlib.lines.Line2D at 0x2ac1bf1b520>,\n",
       "  <matplotlib.lines.Line2D at 0x2ac1bf1b7f0>],\n",
       " 'caps': [<matplotlib.lines.Line2D at 0x2ac1bf1bb80>,\n",
       "  <matplotlib.lines.Line2D at 0x2ac1bf1bf10>],\n",
       " 'boxes': [<matplotlib.lines.Line2D at 0x2ac1bf1b130>],\n",
       " 'medians': [<matplotlib.lines.Line2D at 0x2ac1bf262e0>],\n",
       " 'fliers': [<matplotlib.lines.Line2D at 0x2ac1bf26670>],\n",
       " 'means': []}"
      ]
     },
     "execution_count": 7,
     "metadata": {},
     "output_type": "execute_result"
    },
    {
     "data": {
      "image/png": "[encoded data removed]",
      "text/plain": [
       "<Figure size 432x288 with 1 Axes>"
      ]
     },
     "metadata": {},
     "output_type": "display_data"
    }
   ],
   "source": [
    "plt.boxplot(dt['Churn_out_rate']) #boxplot"
   ]
  },
  {
   "cell_type": "code",
   "execution_count": 8,
   "id": "87931d4c",
   "metadata": {},
   "outputs": [
    {
     "data": {
      "text/plain": [
       "<AxesSubplot:xlabel='Salary_hike', ylabel='Density'>"
      ]
     },
     "execution_count": 8,
     "metadata": {},
     "output_type": "execute_result"
    },
    {
     "data": {
      "image/png": "[encoded data removed]",
      "text/plain": [
       "<Figure size 432x288 with 1 Axes>"
      ]
     },
     "metadata": {},
     "output_type": "display_data"
    }
   ],
   "source": [
    "sns.kdeplot(data=dt,x= dt['Salary_hike'],fill=True,color=\"navy\")"
   ]
  },
  {
   "cell_type": "code",
   "execution_count": 9,
   "id": "e257b29c",
   "metadata": {},
   "outputs": [
    {
     "data": {
      "text/plain": [
       "(array([2., 1., 2., 1., 1., 1., 0., 1., 0., 1.]),\n",
       " array([1580., 1609., 1638., 1667., 1696., 1725., 1754., 1783., 1812.,\n",
       "        1841., 1870.]),\n",
       " <BarContainer object of 10 artists>)"
      ]
     },
     "execution_count": 9,
     "metadata": {},
     "output_type": "execute_result"
    },
    {
     "data": {
      "image/png": "[encoded data removed]",
      "text/plain": [
       "<Figure size 432x288 with 1 Axes>"
      ]
     },
     "metadata": {},
     "output_type": "display_data"
    }
   ],
   "source": [
    "plt.hist(dt['Salary_hike']) #histogram"
   ]
  },
  {
   "cell_type": "code",
   "execution_count": 10,
   "id": "a86932d6",
   "metadata": {},
   "outputs": [
    {
     "data": {
      "text/plain": [
       "{'whiskers': [<matplotlib.lines.Line2D at 0x2ac1c040dc0>,\n",
       "  <matplotlib.lines.Line2D at 0x2ac1c04f190>],\n",
       " 'caps': [<matplotlib.lines.Line2D at 0x2ac1c04f520>,\n",
       "  <matplotlib.lines.Line2D at 0x2ac1c04f8b0>],\n",
       " 'boxes': [<matplotlib.lines.Line2D at 0x2ac1c040a60>],\n",
       " 'medians': [<matplotlib.lines.Line2D at 0x2ac1c04fc40>],\n",
       " 'fliers': [<matplotlib.lines.Line2D at 0x2ac1c04ffd0>],\n",
       " 'means': []}"
      ]
     },
     "execution_count": 10,
     "metadata": {},
     "output_type": "execute_result"
    },
    {
     "data": {
      "image/png": "[encoded data removed]",
      "text/plain": [
       "<Figure size 432x288 with 1 Axes>"
      ]
     },
     "metadata": {},
     "output_type": "display_data"
    }
   ],
   "source": [
    "plt.boxplot(dt['Salary_hike']) #boxplot"
   ]
  },
  {
   "cell_type": "markdown",
   "id": "c89fd3a3",
   "metadata": {},
   "source": [
    "### Bivariate"
   ]
  },
  {
   "cell_type": "code",
   "execution_count": 11,
   "id": "cff7aa5f",
   "metadata": {},
   "outputs": [
    {
     "data": {
      "text/plain": [
       "<matplotlib.collections.PathCollection at 0x2ac1c0ad220>"
      ]
     },
     "execution_count": 11,
     "metadata": {},
     "output_type": "execute_result"
    },
    {
     "data": {
      "image/png": "[encoded data removed]",
      "text/plain": [
       "<Figure size 432x288 with 1 Axes>"
      ]
     },
     "metadata": {},
     "output_type": "display_data"
    }
   ],
   "source": [
    "# Scatter plot\n",
    "plt.scatter(x = dt['Salary_hike'], y = dt['Churn_out_rate'], color = 'green')\n"
   ]
  },
  {
   "cell_type": "code",
   "execution_count": 13,
   "id": "e66a7e57",
   "metadata": {},
   "outputs": [
    {
     "data": {
      "text/plain": [
       "Index(['Salary_hike', 'Churn_out_rate'], dtype='object')"
      ]
     },
     "execution_count": 13,
     "metadata": {},
     "output_type": "execute_result"
    }
   ],
   "source": [
    "dt.columns"
   ]
  },
  {
   "cell_type": "code",
   "execution_count": 14,
   "id": "4d3dbe96",
   "metadata": {},
   "outputs": [
    {
     "data": {
      "text/plain": [
       "array([[ 1.        , -0.91172162],\n",
       "       [-0.91172162,  1.        ]])"
      ]
     },
     "execution_count": 14,
     "metadata": {},
     "output_type": "execute_result"
    }
   ],
   "source": [
    "# correlation\n",
    "np.corrcoef(dt['Churn_out_rate'], dt['Salary_hike']) "
   ]
  },
  {
   "cell_type": "code",
   "execution_count": 15,
   "id": "32d043d3",
   "metadata": {},
   "outputs": [
    {
     "data": {
      "text/plain": [
       "-861.2666666666667"
      ]
     },
     "execution_count": 15,
     "metadata": {},
     "output_type": "execute_result"
    }
   ],
   "source": [
    "# Covariance\n",
    "# NumPy does not have a function to calculate the covariance between two variables directly. \n",
    "# Function for calculating a covariance matrix called cov() \n",
    "# By default, the cov() function will calculate the unbiased or sample covariance between the provided random variables.\n",
    "\n",
    "cov_output = np.cov(dt['Churn_out_rate'], dt['Salary_hike'])[0, 1]\n",
    "cov_output\n",
    "\n"
   ]
  },
  {
   "cell_type": "code",
   "execution_count": 73,
   "id": "b3fbeac6",
   "metadata": {},
   "outputs": [],
   "source": [
    "#from sklearn.preprocessing import MinMaxScaler\n",
    "#scaler = MinMaxScaler()\n",
    "#dt=scaler.fit_transform(dt)"
   ]
  },
  {
   "cell_type": "code",
   "execution_count": 16,
   "id": "6541acee",
   "metadata": {},
   "outputs": [
    {
     "data": {
      "text/html": [
       "<div>\n",
       "<style scoped>\n",
       "    .dataframe tbody tr th:only-of-type {\n",
       "        vertical-align: middle;\n",
       "    }\n",
       "\n",
       "    .dataframe tbody tr th {\n",
       "        vertical-align: top;\n",
       "    }\n",
       "\n",
       "    .dataframe thead th {\n",
       "        text-align: right;\n",
       "    }\n",
       "</style>\n",
       "<table border=\"1\" class=\"dataframe\">\n",
       "  <thead>\n",
       "    <tr style=\"text-align: right;\">\n",
       "      <th></th>\n",
       "      <th>Salary_hike</th>\n",
       "      <th>Churn_out_rate</th>\n",
       "    </tr>\n",
       "  </thead>\n",
       "  <tbody>\n",
       "    <tr>\n",
       "      <th>0</th>\n",
       "      <td>1580</td>\n",
       "      <td>92</td>\n",
       "    </tr>\n",
       "    <tr>\n",
       "      <th>1</th>\n",
       "      <td>1600</td>\n",
       "      <td>85</td>\n",
       "    </tr>\n",
       "    <tr>\n",
       "      <th>2</th>\n",
       "      <td>1610</td>\n",
       "      <td>80</td>\n",
       "    </tr>\n",
       "    <tr>\n",
       "      <th>3</th>\n",
       "      <td>1640</td>\n",
       "      <td>75</td>\n",
       "    </tr>\n",
       "    <tr>\n",
       "      <th>4</th>\n",
       "      <td>1660</td>\n",
       "      <td>72</td>\n",
       "    </tr>\n",
       "    <tr>\n",
       "      <th>5</th>\n",
       "      <td>1690</td>\n",
       "      <td>70</td>\n",
       "    </tr>\n",
       "    <tr>\n",
       "      <th>6</th>\n",
       "      <td>1706</td>\n",
       "      <td>68</td>\n",
       "    </tr>\n",
       "    <tr>\n",
       "      <th>7</th>\n",
       "      <td>1730</td>\n",
       "      <td>65</td>\n",
       "    </tr>\n",
       "    <tr>\n",
       "      <th>8</th>\n",
       "      <td>1800</td>\n",
       "      <td>62</td>\n",
       "    </tr>\n",
       "    <tr>\n",
       "      <th>9</th>\n",
       "      <td>1870</td>\n",
       "      <td>60</td>\n",
       "    </tr>\n",
       "  </tbody>\n",
       "</table>\n",
       "</div>"
      ],
      "text/plain": [
       "   Salary_hike  Churn_out_rate\n",
       "0         1580              92\n",
       "1         1600              85\n",
       "2         1610              80\n",
       "3         1640              75\n",
       "4         1660              72\n",
       "5         1690              70\n",
       "6         1706              68\n",
       "7         1730              65\n",
       "8         1800              62\n",
       "9         1870              60"
      ]
     },
     "execution_count": 16,
     "metadata": {},
     "output_type": "execute_result"
    }
   ],
   "source": [
    "dt"
   ]
  },
  {
   "cell_type": "code",
   "execution_count": 17,
   "id": "077389ed",
   "metadata": {},
   "outputs": [
    {
     "name": "stderr",
     "output_type": "stream",
     "text": [
      "c:\\users\\aanand.oradev\\appdata\\local\\programs\\python\\python39\\lib\\site-packages\\scipy\\stats\\_stats_py.py:1477: UserWarning: kurtosistest only valid for n>=20 ... continuing anyway, n=10\n",
      "  warnings.warn(\"kurtosistest only valid for n>=20 ... continuing \"\n"
     ]
    },
    {
     "data": {
      "text/html": [
       "<table class=\"simpletable\">\n",
       "<caption>OLS Regression Results</caption>\n",
       "<tr>\n",
       "  <th>Dep. Variable:</th>     <td>Churn_out_rate</td>  <th>  R-squared:         </th> <td>   0.831</td>\n",
       "</tr>\n",
       "<tr>\n",
       "  <th>Model:</th>                   <td>OLS</td>       <th>  Adj. R-squared:    </th> <td>   0.810</td>\n",
       "</tr>\n",
       "<tr>\n",
       "  <th>Method:</th>             <td>Least Squares</td>  <th>  F-statistic:       </th> <td>   39.40</td>\n",
       "</tr>\n",
       "<tr>\n",
       "  <th>Date:</th>             <td>Tue, 19 Apr 2022</td> <th>  Prob (F-statistic):</th> <td>0.000239</td>\n",
       "</tr>\n",
       "<tr>\n",
       "  <th>Time:</th>                 <td>12:28:25</td>     <th>  Log-Likelihood:    </th> <td> -28.046</td>\n",
       "</tr>\n",
       "<tr>\n",
       "  <th>No. Observations:</th>      <td>    10</td>      <th>  AIC:               </th> <td>   60.09</td>\n",
       "</tr>\n",
       "<tr>\n",
       "  <th>Df Residuals:</th>          <td>     8</td>      <th>  BIC:               </th> <td>   60.70</td>\n",
       "</tr>\n",
       "<tr>\n",
       "  <th>Df Model:</th>              <td>     1</td>      <th>                     </th>     <td> </td>   \n",
       "</tr>\n",
       "<tr>\n",
       "  <th>Covariance Type:</th>      <td>nonrobust</td>    <th>                     </th>     <td> </td>   \n",
       "</tr>\n",
       "</table>\n",
       "<table class=\"simpletable\">\n",
       "<tr>\n",
       "       <td></td>          <th>coef</th>     <th>std err</th>      <th>t</th>      <th>P>|t|</th>  <th>[0.025</th>    <th>0.975]</th>  \n",
       "</tr>\n",
       "<tr>\n",
       "  <th>Intercept</th>   <td>  244.3649</td> <td>   27.352</td> <td>    8.934</td> <td> 0.000</td> <td>  181.291</td> <td>  307.439</td>\n",
       "</tr>\n",
       "<tr>\n",
       "  <th>Salary_hike</th> <td>   -0.1015</td> <td>    0.016</td> <td>   -6.277</td> <td> 0.000</td> <td>   -0.139</td> <td>   -0.064</td>\n",
       "</tr>\n",
       "</table>\n",
       "<table class=\"simpletable\">\n",
       "<tr>\n",
       "  <th>Omnibus:</th>       <td> 2.201</td> <th>  Durbin-Watson:     </th> <td>   0.562</td>\n",
       "</tr>\n",
       "<tr>\n",
       "  <th>Prob(Omnibus):</th> <td> 0.333</td> <th>  Jarque-Bera (JB):  </th> <td>   1.408</td>\n",
       "</tr>\n",
       "<tr>\n",
       "  <th>Skew:</th>          <td> 0.851</td> <th>  Prob(JB):          </th> <td>   0.495</td>\n",
       "</tr>\n",
       "<tr>\n",
       "  <th>Kurtosis:</th>      <td> 2.304</td> <th>  Cond. No.          </th> <td>3.27e+04</td>\n",
       "</tr>\n",
       "</table><br/><br/>Notes:<br/>[1] Standard Errors assume that the covariance matrix of the errors is correctly specified.<br/>[2] The condition number is large, 3.27e+04. This might indicate that there are<br/>strong multicollinearity or other numerical problems."
      ],
      "text/plain": [
       "<class 'statsmodels.iolib.summary.Summary'>\n",
       "\"\"\"\n",
       "                            OLS Regression Results                            \n",
       "==============================================================================\n",
       "Dep. Variable:         Churn_out_rate   R-squared:                       0.831\n",
       "Model:                            OLS   Adj. R-squared:                  0.810\n",
       "Method:                 Least Squares   F-statistic:                     39.40\n",
       "Date:                Tue, 19 Apr 2022   Prob (F-statistic):           0.000239\n",
       "Time:                        12:28:25   Log-Likelihood:                -28.046\n",
       "No. Observations:                  10   AIC:                             60.09\n",
       "Df Residuals:                       8   BIC:                             60.70\n",
       "Df Model:                           1                                         \n",
       "Covariance Type:            nonrobust                                         \n",
       "===============================================================================\n",
       "                  coef    std err          t      P>|t|      [0.025      0.975]\n",
       "-------------------------------------------------------------------------------\n",
       "Intercept     244.3649     27.352      8.934      0.000     181.291     307.439\n",
       "Salary_hike    -0.1015      0.016     -6.277      0.000      -0.139      -0.064\n",
       "==============================================================================\n",
       "Omnibus:                        2.201   Durbin-Watson:                   0.562\n",
       "Prob(Omnibus):                  0.333   Jarque-Bera (JB):                1.408\n",
       "Skew:                           0.851   Prob(JB):                        0.495\n",
       "Kurtosis:                       2.304   Cond. No.                     3.27e+04\n",
       "==============================================================================\n",
       "\n",
       "Notes:\n",
       "[1] Standard Errors assume that the covariance matrix of the errors is correctly specified.\n",
       "[2] The condition number is large, 3.27e+04. This might indicate that there are\n",
       "strong multicollinearity or other numerical problems.\n",
       "\"\"\""
      ]
     },
     "execution_count": 17,
     "metadata": {},
     "output_type": "execute_result"
    }
   ],
   "source": [
    "# dt.cov()\n",
    "\n",
    "\n",
    "# Import library\n",
    "import statsmodels.formula.api as smf\n",
    "\n",
    "# Simple Linear Regression\n",
    "model = smf.ols('Churn_out_rate ~ Salary_hike', data = dt).fit()\n",
    "model.summary()\n"
   ]
  },
  {
   "cell_type": "code",
   "execution_count": 18,
   "id": "7cab9f13",
   "metadata": {},
   "outputs": [
    {
     "data": {
      "image/png": "[encoded data removed]",
      "text/plain": [
       "<Figure size 432x288 with 1 Axes>"
      ]
     },
     "metadata": {},
     "output_type": "display_data"
    }
   ],
   "source": [
    "pred1 = model.predict(pd.DataFrame(dt['Salary_hike']))\n",
    "\n",
    "# Regression Line\n",
    "plt.scatter(dt.Salary_hike, dt.Churn_out_rate)\n",
    "plt.plot(dt.Salary_hike, pred1, \"r\")\n",
    "plt.legend(['Predicted line', 'Observed data'])\n",
    "plt.show()"
   ]
  },
  {
   "cell_type": "code",
   "execution_count": 19,
   "id": "e02dc36e",
   "metadata": {},
   "outputs": [
    {
     "data": {
      "text/plain": [
       "3.9975284623377902"
      ]
     },
     "execution_count": 19,
     "metadata": {},
     "output_type": "execute_result"
    }
   ],
   "source": [
    "# Error calculation\n",
    "res1 = dt.Churn_out_rate - pred1\n",
    "res_sqr1 = res1 * res1\n",
    "mse1 = np.mean(res_sqr1)\n",
    "rmse1 = np.sqrt(mse1)\n",
    "rmse1"
   ]
  },
  {
   "cell_type": "code",
   "execution_count": 20,
   "id": "f11bd580",
   "metadata": {},
   "outputs": [
    {
     "data": {
      "text/plain": [
       "<matplotlib.collections.PathCollection at 0x2ac1bff3ca0>"
      ]
     },
     "execution_count": 20,
     "metadata": {},
     "output_type": "execute_result"
    },
    {
     "data": {
      "image/png": "[encoded data removed]",
      "text/plain": [
       "<Figure size 432x288 with 1 Axes>"
      ]
     },
     "metadata": {},
     "output_type": "display_data"
    }
   ],
   "source": [
    "######### Model building on Transformed Data\n",
    "# Log Transformation\n",
    "# x = log(waist); y = at\n",
    "\n",
    "plt.scatter(x = np.log(dt['Salary_hike']), y = dt['Churn_out_rate'], color = 'brown')"
   ]
  },
  {
   "cell_type": "code",
   "execution_count": 21,
   "id": "2ebff793",
   "metadata": {},
   "outputs": [
    {
     "data": {
      "text/plain": [
       "array([[ 1.        , -0.92120773],\n",
       "       [-0.92120773,  1.        ]])"
      ]
     },
     "execution_count": 21,
     "metadata": {},
     "output_type": "execute_result"
    }
   ],
   "source": [
    "np.corrcoef(np.log(dt.Salary_hike), dt.Churn_out_rate) #correlation"
   ]
  },
  {
   "cell_type": "code",
   "execution_count": 22,
   "id": "2b8a0edd",
   "metadata": {},
   "outputs": [
    {
     "name": "stderr",
     "output_type": "stream",
     "text": [
      "c:\\users\\aanand.oradev\\appdata\\local\\programs\\python\\python39\\lib\\site-packages\\scipy\\stats\\_stats_py.py:1477: UserWarning: kurtosistest only valid for n>=20 ... continuing anyway, n=10\n",
      "  warnings.warn(\"kurtosistest only valid for n>=20 ... continuing \"\n"
     ]
    },
    {
     "data": {
      "text/html": [
       "<table class=\"simpletable\">\n",
       "<caption>OLS Regression Results</caption>\n",
       "<tr>\n",
       "  <th>Dep. Variable:</th>     <td>Churn_out_rate</td>  <th>  R-squared:         </th> <td>   0.849</td>\n",
       "</tr>\n",
       "<tr>\n",
       "  <th>Model:</th>                   <td>OLS</td>       <th>  Adj. R-squared:    </th> <td>   0.830</td>\n",
       "</tr>\n",
       "<tr>\n",
       "  <th>Method:</th>             <td>Least Squares</td>  <th>  F-statistic:       </th> <td>   44.85</td>\n",
       "</tr>\n",
       "<tr>\n",
       "  <th>Date:</th>             <td>Tue, 19 Apr 2022</td> <th>  Prob (F-statistic):</th> <td>0.000153</td>\n",
       "</tr>\n",
       "<tr>\n",
       "  <th>Time:</th>                 <td>12:28:57</td>     <th>  Log-Likelihood:    </th> <td> -27.502</td>\n",
       "</tr>\n",
       "<tr>\n",
       "  <th>No. Observations:</th>      <td>    10</td>      <th>  AIC:               </th> <td>   59.00</td>\n",
       "</tr>\n",
       "<tr>\n",
       "  <th>Df Residuals:</th>          <td>     8</td>      <th>  BIC:               </th> <td>   59.61</td>\n",
       "</tr>\n",
       "<tr>\n",
       "  <th>Df Model:</th>              <td>     1</td>      <th>                     </th>     <td> </td>   \n",
       "</tr>\n",
       "<tr>\n",
       "  <th>Covariance Type:</th>      <td>nonrobust</td>    <th>                     </th>     <td> </td>   \n",
       "</tr>\n",
       "</table>\n",
       "<table class=\"simpletable\">\n",
       "<tr>\n",
       "           <td></td>              <th>coef</th>     <th>std err</th>      <th>t</th>      <th>P>|t|</th>  <th>[0.025</th>    <th>0.975]</th>  \n",
       "</tr>\n",
       "<tr>\n",
       "  <th>Intercept</th>           <td> 1381.4562</td> <td>  195.402</td> <td>    7.070</td> <td> 0.000</td> <td>  930.858</td> <td> 1832.054</td>\n",
       "</tr>\n",
       "<tr>\n",
       "  <th>np.log(Salary_hike)</th> <td> -176.1097</td> <td>   26.297</td> <td>   -6.697</td> <td> 0.000</td> <td> -236.751</td> <td> -115.468</td>\n",
       "</tr>\n",
       "</table>\n",
       "<table class=\"simpletable\">\n",
       "<tr>\n",
       "  <th>Omnibus:</th>       <td> 2.213</td> <th>  Durbin-Watson:     </th> <td>   0.571</td>\n",
       "</tr>\n",
       "<tr>\n",
       "  <th>Prob(Omnibus):</th> <td> 0.331</td> <th>  Jarque-Bera (JB):  </th> <td>   1.418</td>\n",
       "</tr>\n",
       "<tr>\n",
       "  <th>Skew:</th>          <td> 0.853</td> <th>  Prob(JB):          </th> <td>   0.492</td>\n",
       "</tr>\n",
       "<tr>\n",
       "  <th>Kurtosis:</th>      <td> 2.298</td> <th>  Cond. No.          </th> <td>1.10e+03</td>\n",
       "</tr>\n",
       "</table><br/><br/>Notes:<br/>[1] Standard Errors assume that the covariance matrix of the errors is correctly specified.<br/>[2] The condition number is large, 1.1e+03. This might indicate that there are<br/>strong multicollinearity or other numerical problems."
      ],
      "text/plain": [
       "<class 'statsmodels.iolib.summary.Summary'>\n",
       "\"\"\"\n",
       "                            OLS Regression Results                            \n",
       "==============================================================================\n",
       "Dep. Variable:         Churn_out_rate   R-squared:                       0.849\n",
       "Model:                            OLS   Adj. R-squared:                  0.830\n",
       "Method:                 Least Squares   F-statistic:                     44.85\n",
       "Date:                Tue, 19 Apr 2022   Prob (F-statistic):           0.000153\n",
       "Time:                        12:28:57   Log-Likelihood:                -27.502\n",
       "No. Observations:                  10   AIC:                             59.00\n",
       "Df Residuals:                       8   BIC:                             59.61\n",
       "Df Model:                           1                                         \n",
       "Covariance Type:            nonrobust                                         \n",
       "=======================================================================================\n",
       "                          coef    std err          t      P>|t|      [0.025      0.975]\n",
       "---------------------------------------------------------------------------------------\n",
       "Intercept            1381.4562    195.402      7.070      0.000     930.858    1832.054\n",
       "np.log(Salary_hike)  -176.1097     26.297     -6.697      0.000    -236.751    -115.468\n",
       "==============================================================================\n",
       "Omnibus:                        2.213   Durbin-Watson:                   0.571\n",
       "Prob(Omnibus):                  0.331   Jarque-Bera (JB):                1.418\n",
       "Skew:                           0.853   Prob(JB):                        0.492\n",
       "Kurtosis:                       2.298   Cond. No.                     1.10e+03\n",
       "==============================================================================\n",
       "\n",
       "Notes:\n",
       "[1] Standard Errors assume that the covariance matrix of the errors is correctly specified.\n",
       "[2] The condition number is large, 1.1e+03. This might indicate that there are\n",
       "strong multicollinearity or other numerical problems.\n",
       "\"\"\""
      ]
     },
     "execution_count": 22,
     "metadata": {},
     "output_type": "execute_result"
    }
   ],
   "source": [
    "model2 = smf.ols('Churn_out_rate ~ np.log(Salary_hike)', data = dt).fit()\n",
    "model2.summary()"
   ]
  },
  {
   "cell_type": "code",
   "execution_count": 23,
   "id": "9ccff189",
   "metadata": {},
   "outputs": [
    {
     "data": {
      "image/png": "[encoded data removed]",
      "text/plain": [
       "<Figure size 432x288 with 1 Axes>"
      ]
     },
     "metadata": {},
     "output_type": "display_data"
    }
   ],
   "source": [
    "pred2 = model2.predict(pd.DataFrame(dt['Salary_hike']))\n",
    "\n",
    "# Regression Line\n",
    "plt.scatter(np.log(dt.Salary_hike), dt.Churn_out_rate)\n",
    "plt.plot(np.log(dt.Salary_hike), pred2, \"r\")\n",
    "plt.legend(['Predicted line', 'Observed data'])\n",
    "plt.show()\n"
   ]
  },
  {
   "cell_type": "code",
   "execution_count": 24,
   "id": "ef462b8c",
   "metadata": {},
   "outputs": [
    {
     "data": {
      "text/plain": [
       "3.7860036130228245"
      ]
     },
     "execution_count": 24,
     "metadata": {},
     "output_type": "execute_result"
    }
   ],
   "source": [
    "# Error calculation\n",
    "res2 = dt.Churn_out_rate - pred2\n",
    "res_sqr2 = res2 * res2\n",
    "mse2 = np.mean(res_sqr2)\n",
    "rmse2 = np.sqrt(mse2)\n",
    "rmse2"
   ]
  },
  {
   "cell_type": "code",
   "execution_count": 25,
   "id": "4d81dca6",
   "metadata": {},
   "outputs": [
    {
     "data": {
      "text/plain": [
       "<matplotlib.collections.PathCollection at 0x2ac1c688af0>"
      ]
     },
     "execution_count": 25,
     "metadata": {},
     "output_type": "execute_result"
    },
    {
     "data": {
      "image/png": "[encoded data removed]",
      "text/plain": [
       "<Figure size 432x288 with 1 Axes>"
      ]
     },
     "metadata": {},
     "output_type": "display_data"
    }
   ],
   "source": [
    "#### Exponential transformation\n",
    "# x = waist; y = log(at)\n",
    "\n",
    "plt.scatter(x = dt['Salary_hike'], y = np.log(dt['Churn_out_rate']), color = 'orange')"
   ]
  },
  {
   "cell_type": "code",
   "execution_count": 26,
   "id": "2eb322a5",
   "metadata": {},
   "outputs": [
    {
     "data": {
      "text/plain": [
       "array([[ 1.        , -0.93463607],\n",
       "       [-0.93463607,  1.        ]])"
      ]
     },
     "execution_count": 26,
     "metadata": {},
     "output_type": "execute_result"
    }
   ],
   "source": [
    "np.corrcoef(dt.Salary_hike, np.log(dt.Churn_out_rate)) #correlation"
   ]
  },
  {
   "cell_type": "code",
   "execution_count": 27,
   "id": "77312112",
   "metadata": {},
   "outputs": [
    {
     "name": "stderr",
     "output_type": "stream",
     "text": [
      "c:\\users\\aanand.oradev\\appdata\\local\\programs\\python\\python39\\lib\\site-packages\\scipy\\stats\\_stats_py.py:1477: UserWarning: kurtosistest only valid for n>=20 ... continuing anyway, n=10\n",
      "  warnings.warn(\"kurtosistest only valid for n>=20 ... continuing \"\n"
     ]
    },
    {
     "data": {
      "text/html": [
       "<table class=\"simpletable\">\n",
       "<caption>OLS Regression Results</caption>\n",
       "<tr>\n",
       "  <th>Dep. Variable:</th>    <td>np.log(Churn_out_rate)</td> <th>  R-squared:         </th> <td>   0.874</td>\n",
       "</tr>\n",
       "<tr>\n",
       "  <th>Model:</th>                      <td>OLS</td>          <th>  Adj. R-squared:    </th> <td>   0.858</td>\n",
       "</tr>\n",
       "<tr>\n",
       "  <th>Method:</th>                <td>Least Squares</td>     <th>  F-statistic:       </th> <td>   55.26</td>\n",
       "</tr>\n",
       "<tr>\n",
       "  <th>Date:</th>                <td>Tue, 19 Apr 2022</td>    <th>  Prob (F-statistic):</th> <td>7.38e-05</td>\n",
       "</tr>\n",
       "<tr>\n",
       "  <th>Time:</th>                    <td>12:29:18</td>        <th>  Log-Likelihood:    </th> <td>  16.511</td>\n",
       "</tr>\n",
       "<tr>\n",
       "  <th>No. Observations:</th>         <td>    10</td>         <th>  AIC:               </th> <td>  -29.02</td>\n",
       "</tr>\n",
       "<tr>\n",
       "  <th>Df Residuals:</th>             <td>     8</td>         <th>  BIC:               </th> <td>  -28.42</td>\n",
       "</tr>\n",
       "<tr>\n",
       "  <th>Df Model:</th>                 <td>     1</td>         <th>                     </th>     <td> </td>   \n",
       "</tr>\n",
       "<tr>\n",
       "  <th>Covariance Type:</th>         <td>nonrobust</td>       <th>                     </th>     <td> </td>   \n",
       "</tr>\n",
       "</table>\n",
       "<table class=\"simpletable\">\n",
       "<tr>\n",
       "       <td></td>          <th>coef</th>     <th>std err</th>      <th>t</th>      <th>P>|t|</th>  <th>[0.025</th>    <th>0.975]</th>  \n",
       "</tr>\n",
       "<tr>\n",
       "  <th>Intercept</th>   <td>    6.6383</td> <td>    0.318</td> <td>   20.902</td> <td> 0.000</td> <td>    5.906</td> <td>    7.371</td>\n",
       "</tr>\n",
       "<tr>\n",
       "  <th>Salary_hike</th> <td>   -0.0014</td> <td>    0.000</td> <td>   -7.434</td> <td> 0.000</td> <td>   -0.002</td> <td>   -0.001</td>\n",
       "</tr>\n",
       "</table>\n",
       "<table class=\"simpletable\">\n",
       "<tr>\n",
       "  <th>Omnibus:</th>       <td> 1.935</td> <th>  Durbin-Watson:     </th> <td>   0.585</td>\n",
       "</tr>\n",
       "<tr>\n",
       "  <th>Prob(Omnibus):</th> <td> 0.380</td> <th>  Jarque-Bera (JB):  </th> <td>   1.314</td>\n",
       "</tr>\n",
       "<tr>\n",
       "  <th>Skew:</th>          <td> 0.780</td> <th>  Prob(JB):          </th> <td>   0.519</td>\n",
       "</tr>\n",
       "<tr>\n",
       "  <th>Kurtosis:</th>      <td> 2.152</td> <th>  Cond. No.          </th> <td>3.27e+04</td>\n",
       "</tr>\n",
       "</table><br/><br/>Notes:<br/>[1] Standard Errors assume that the covariance matrix of the errors is correctly specified.<br/>[2] The condition number is large, 3.27e+04. This might indicate that there are<br/>strong multicollinearity or other numerical problems."
      ],
      "text/plain": [
       "<class 'statsmodels.iolib.summary.Summary'>\n",
       "\"\"\"\n",
       "                              OLS Regression Results                              \n",
       "==================================================================================\n",
       "Dep. Variable:     np.log(Churn_out_rate)   R-squared:                       0.874\n",
       "Model:                                OLS   Adj. R-squared:                  0.858\n",
       "Method:                     Least Squares   F-statistic:                     55.26\n",
       "Date:                    Tue, 19 Apr 2022   Prob (F-statistic):           7.38e-05\n",
       "Time:                            12:29:18   Log-Likelihood:                 16.511\n",
       "No. Observations:                      10   AIC:                            -29.02\n",
       "Df Residuals:                           8   BIC:                            -28.42\n",
       "Df Model:                               1                                         \n",
       "Covariance Type:                nonrobust                                         \n",
       "===============================================================================\n",
       "                  coef    std err          t      P>|t|      [0.025      0.975]\n",
       "-------------------------------------------------------------------------------\n",
       "Intercept       6.6383      0.318     20.902      0.000       5.906       7.371\n",
       "Salary_hike    -0.0014      0.000     -7.434      0.000      -0.002      -0.001\n",
       "==============================================================================\n",
       "Omnibus:                        1.935   Durbin-Watson:                   0.585\n",
       "Prob(Omnibus):                  0.380   Jarque-Bera (JB):                1.314\n",
       "Skew:                           0.780   Prob(JB):                        0.519\n",
       "Kurtosis:                       2.152   Cond. No.                     3.27e+04\n",
       "==============================================================================\n",
       "\n",
       "Notes:\n",
       "[1] Standard Errors assume that the covariance matrix of the errors is correctly specified.\n",
       "[2] The condition number is large, 3.27e+04. This might indicate that there are\n",
       "strong multicollinearity or other numerical problems.\n",
       "\"\"\""
      ]
     },
     "execution_count": 27,
     "metadata": {},
     "output_type": "execute_result"
    }
   ],
   "source": [
    "model3 = smf.ols('np.log(Churn_out_rate) ~ Salary_hike', data = dt).fit()\n",
    "model3.summary()"
   ]
  },
  {
   "cell_type": "code",
   "execution_count": 28,
   "id": "1aa74ab0",
   "metadata": {},
   "outputs": [
    {
     "data": {
      "text/plain": [
       "0    84.107097\n",
       "1    81.790758\n",
       "2    80.656622\n",
       "3    77.347701\n",
       "4    75.217518\n",
       "5    72.131736\n",
       "6    70.538084\n",
       "7    68.213379\n",
       "8    61.861455\n",
       "9    56.101012\n",
       "dtype: float64"
      ]
     },
     "execution_count": 28,
     "metadata": {},
     "output_type": "execute_result"
    }
   ],
   "source": [
    "pred3 = model3.predict(pd.DataFrame(dt['Salary_hike']))\n",
    "pred3_at = np.exp(pred3)\n",
    "pred3_at"
   ]
  },
  {
   "cell_type": "code",
   "execution_count": 29,
   "id": "9b28a030",
   "metadata": {},
   "outputs": [
    {
     "data": {
      "image/png": "[encoded data removed]",
      "text/plain": [
       "<Figure size 432x288 with 1 Axes>"
      ]
     },
     "metadata": {},
     "output_type": "display_data"
    }
   ],
   "source": [
    "# Regression Line\n",
    "plt.scatter(dt.Salary_hike, np.log(dt.Churn_out_rate))\n",
    "plt.plot(dt.Salary_hike, pred3, \"r\")\n",
    "plt.legend(['Predicted line', 'Observed data'])\n",
    "plt.show()"
   ]
  },
  {
   "cell_type": "code",
   "execution_count": 30,
   "id": "d76a5f6a",
   "metadata": {},
   "outputs": [
    {
     "data": {
      "text/plain": [
       "3.5415493188215934"
      ]
     },
     "execution_count": 30,
     "metadata": {},
     "output_type": "execute_result"
    }
   ],
   "source": [
    "# Error calculation\n",
    "res3 = dt.Churn_out_rate - pred3_at\n",
    "res_sqr3 = res3 * res3\n",
    "mse3 = np.mean(res_sqr3)\n",
    "rmse3 = np.sqrt(mse3)\n",
    "rmse3"
   ]
  },
  {
   "cell_type": "code",
   "execution_count": 31,
   "id": "785be201",
   "metadata": {},
   "outputs": [
    {
     "name": "stderr",
     "output_type": "stream",
     "text": [
      "c:\\users\\aanand.oradev\\appdata\\local\\programs\\python\\python39\\lib\\site-packages\\scipy\\stats\\_stats_py.py:1477: UserWarning: kurtosistest only valid for n>=20 ... continuing anyway, n=10\n",
      "  warnings.warn(\"kurtosistest only valid for n>=20 ... continuing \"\n"
     ]
    },
    {
     "data": {
      "text/html": [
       "<table class=\"simpletable\">\n",
       "<caption>OLS Regression Results</caption>\n",
       "<tr>\n",
       "  <th>Dep. Variable:</th>    <td>np.log(Churn_out_rate)</td> <th>  R-squared:         </th> <td>   0.984</td>\n",
       "</tr>\n",
       "<tr>\n",
       "  <th>Model:</th>                      <td>OLS</td>          <th>  Adj. R-squared:    </th> <td>   0.979</td>\n",
       "</tr>\n",
       "<tr>\n",
       "  <th>Method:</th>                <td>Least Squares</td>     <th>  F-statistic:       </th> <td>   210.1</td>\n",
       "</tr>\n",
       "<tr>\n",
       "  <th>Date:</th>                <td>Tue, 19 Apr 2022</td>    <th>  Prob (F-statistic):</th> <td>5.63e-07</td>\n",
       "</tr>\n",
       "<tr>\n",
       "  <th>Time:</th>                    <td>12:29:32</td>        <th>  Log-Likelihood:    </th> <td>  26.728</td>\n",
       "</tr>\n",
       "<tr>\n",
       "  <th>No. Observations:</th>         <td>    10</td>         <th>  AIC:               </th> <td>  -47.46</td>\n",
       "</tr>\n",
       "<tr>\n",
       "  <th>Df Residuals:</th>             <td>     7</td>         <th>  BIC:               </th> <td>  -46.55</td>\n",
       "</tr>\n",
       "<tr>\n",
       "  <th>Df Model:</th>                 <td>     2</td>         <th>                     </th>     <td> </td>   \n",
       "</tr>\n",
       "<tr>\n",
       "  <th>Covariance Type:</th>         <td>nonrobust</td>       <th>                     </th>     <td> </td>   \n",
       "</tr>\n",
       "</table>\n",
       "<table class=\"simpletable\">\n",
       "<tr>\n",
       "                <td></td>                  <th>coef</th>     <th>std err</th>      <th>t</th>      <th>P>|t|</th>  <th>[0.025</th>    <th>0.975]</th>  \n",
       "</tr>\n",
       "<tr>\n",
       "  <th>Intercept</th>                    <td>   23.1762</td> <td>    2.415</td> <td>    9.597</td> <td> 0.000</td> <td>   17.466</td> <td>   28.887</td>\n",
       "</tr>\n",
       "<tr>\n",
       "  <th>Salary_hike</th>                  <td>   -0.0207</td> <td>    0.003</td> <td>   -7.351</td> <td> 0.000</td> <td>   -0.027</td> <td>   -0.014</td>\n",
       "</tr>\n",
       "<tr>\n",
       "  <th>I(Salary_hike * Salary_hike)</th> <td> 5.605e-06</td> <td> 8.17e-07</td> <td>    6.857</td> <td> 0.000</td> <td> 3.67e-06</td> <td> 7.54e-06</td>\n",
       "</tr>\n",
       "</table>\n",
       "<table class=\"simpletable\">\n",
       "<tr>\n",
       "  <th>Omnibus:</th>       <td> 0.520</td> <th>  Durbin-Watson:     </th> <td>   1.272</td>\n",
       "</tr>\n",
       "<tr>\n",
       "  <th>Prob(Omnibus):</th> <td> 0.771</td> <th>  Jarque-Bera (JB):  </th> <td>   0.506</td>\n",
       "</tr>\n",
       "<tr>\n",
       "  <th>Skew:</th>          <td>-0.088</td> <th>  Prob(JB):          </th> <td>   0.777</td>\n",
       "</tr>\n",
       "<tr>\n",
       "  <th>Kurtosis:</th>      <td> 1.913</td> <th>  Cond. No.          </th> <td>1.10e+09</td>\n",
       "</tr>\n",
       "</table><br/><br/>Notes:<br/>[1] Standard Errors assume that the covariance matrix of the errors is correctly specified.<br/>[2] The condition number is large, 1.1e+09. This might indicate that there are<br/>strong multicollinearity or other numerical problems."
      ],
      "text/plain": [
       "<class 'statsmodels.iolib.summary.Summary'>\n",
       "\"\"\"\n",
       "                              OLS Regression Results                              \n",
       "==================================================================================\n",
       "Dep. Variable:     np.log(Churn_out_rate)   R-squared:                       0.984\n",
       "Model:                                OLS   Adj. R-squared:                  0.979\n",
       "Method:                     Least Squares   F-statistic:                     210.1\n",
       "Date:                    Tue, 19 Apr 2022   Prob (F-statistic):           5.63e-07\n",
       "Time:                            12:29:32   Log-Likelihood:                 26.728\n",
       "No. Observations:                      10   AIC:                            -47.46\n",
       "Df Residuals:                           7   BIC:                            -46.55\n",
       "Df Model:                               2                                         \n",
       "Covariance Type:                nonrobust                                         \n",
       "================================================================================================\n",
       "                                   coef    std err          t      P>|t|      [0.025      0.975]\n",
       "------------------------------------------------------------------------------------------------\n",
       "Intercept                       23.1762      2.415      9.597      0.000      17.466      28.887\n",
       "Salary_hike                     -0.0207      0.003     -7.351      0.000      -0.027      -0.014\n",
       "I(Salary_hike * Salary_hike)  5.605e-06   8.17e-07      6.857      0.000    3.67e-06    7.54e-06\n",
       "==============================================================================\n",
       "Omnibus:                        0.520   Durbin-Watson:                   1.272\n",
       "Prob(Omnibus):                  0.771   Jarque-Bera (JB):                0.506\n",
       "Skew:                          -0.088   Prob(JB):                        0.777\n",
       "Kurtosis:                       1.913   Cond. No.                     1.10e+09\n",
       "==============================================================================\n",
       "\n",
       "Notes:\n",
       "[1] Standard Errors assume that the covariance matrix of the errors is correctly specified.\n",
       "[2] The condition number is large, 1.1e+09. This might indicate that there are\n",
       "strong multicollinearity or other numerical problems.\n",
       "\"\"\""
      ]
     },
     "execution_count": 31,
     "metadata": {},
     "output_type": "execute_result"
    }
   ],
   "source": [
    "#### Polynomial transformation\n",
    "# x = waist; x^2 = waist*waist; y = log(at)\n",
    "\n",
    "model4 = smf.ols('np.log(Churn_out_rate) ~ Salary_hike + I(Salary_hike*Salary_hike)', data = dt).fit()\n",
    "model4.summary()"
   ]
  },
  {
   "cell_type": "code",
   "execution_count": 32,
   "id": "8f1268a6",
   "metadata": {},
   "outputs": [
    {
     "data": {
      "text/plain": [
       "0    89.470282\n",
       "1    84.502725\n",
       "2    82.261561\n",
       "3    76.400595\n",
       "4    73.135942\n",
       "5    69.076991\n",
       "6    67.282128\n",
       "7    65.025854\n",
       "8    61.079708\n",
       "9    60.612686\n",
       "dtype: float64"
      ]
     },
     "execution_count": 32,
     "metadata": {},
     "output_type": "execute_result"
    }
   ],
   "source": [
    "pred4 = model4.predict(pd.DataFrame(dt))\n",
    "pred4_at = np.exp(pred4)\n",
    "pred4_at"
   ]
  },
  {
   "cell_type": "code",
   "execution_count": 33,
   "id": "d37fe787",
   "metadata": {},
   "outputs": [],
   "source": [
    "# Regression line\n",
    "from sklearn.preprocessing import PolynomialFeatures\n",
    "poly_reg = PolynomialFeatures(degree = 2)\n",
    "X = dt.iloc[:, 0:1].values\n",
    "X_poly = poly_reg.fit_transform(X)\n",
    "# y = dt.iloc[:, 1].values"
   ]
  },
  {
   "cell_type": "code",
   "execution_count": 34,
   "id": "41ad091f",
   "metadata": {},
   "outputs": [
    {
     "data": {
      "image/png": "[encoded data removed]",
      "text/plain": [
       "<Figure size 432x288 with 1 Axes>"
      ]
     },
     "metadata": {},
     "output_type": "display_data"
    }
   ],
   "source": [
    "plt.scatter(dt.Salary_hike, np.log(dt.Churn_out_rate))\n",
    "plt.plot(X, pred4, color = 'red')\n",
    "plt.legend(['Predicted line', 'Observed data'])\n",
    "plt.show()"
   ]
  },
  {
   "cell_type": "code",
   "execution_count": 35,
   "id": "90927b16",
   "metadata": {},
   "outputs": [
    {
     "data": {
      "text/plain": [
       "1.3267899683868878"
      ]
     },
     "execution_count": 35,
     "metadata": {},
     "output_type": "execute_result"
    }
   ],
   "source": [
    "# Error calculation\n",
    "res4 = dt.Churn_out_rate - pred4_at\n",
    "res_sqr4 = res4 * res4\n",
    "mse4 = np.mean(res_sqr4)\n",
    "rmse4 = np.sqrt(mse4)\n",
    "rmse4"
   ]
  },
  {
   "cell_type": "code",
   "execution_count": 36,
   "id": "7ebcdaae",
   "metadata": {},
   "outputs": [
    {
     "data": {
      "text/html": [
       "<div>\n",
       "<style scoped>\n",
       "    .dataframe tbody tr th:only-of-type {\n",
       "        vertical-align: middle;\n",
       "    }\n",
       "\n",
       "    .dataframe tbody tr th {\n",
       "        vertical-align: top;\n",
       "    }\n",
       "\n",
       "    .dataframe thead th {\n",
       "        text-align: right;\n",
       "    }\n",
       "</style>\n",
       "<table border=\"1\" class=\"dataframe\">\n",
       "  <thead>\n",
       "    <tr style=\"text-align: right;\">\n",
       "      <th></th>\n",
       "      <th>MODEL</th>\n",
       "      <th>RMSE</th>\n",
       "    </tr>\n",
       "  </thead>\n",
       "  <tbody>\n",
       "    <tr>\n",
       "      <th>0</th>\n",
       "      <td>SLR</td>\n",
       "      <td>3.997528</td>\n",
       "    </tr>\n",
       "    <tr>\n",
       "      <th>1</th>\n",
       "      <td>Log model</td>\n",
       "      <td>3.786004</td>\n",
       "    </tr>\n",
       "    <tr>\n",
       "      <th>2</th>\n",
       "      <td>Exp model</td>\n",
       "      <td>3.541549</td>\n",
       "    </tr>\n",
       "    <tr>\n",
       "      <th>3</th>\n",
       "      <td>Poly model</td>\n",
       "      <td>1.326790</td>\n",
       "    </tr>\n",
       "  </tbody>\n",
       "</table>\n",
       "</div>"
      ],
      "text/plain": [
       "        MODEL      RMSE\n",
       "0         SLR  3.997528\n",
       "1   Log model  3.786004\n",
       "2   Exp model  3.541549\n",
       "3  Poly model  1.326790"
      ]
     },
     "execution_count": 36,
     "metadata": {},
     "output_type": "execute_result"
    }
   ],
   "source": [
    "# Choose the best model using RMSE\n",
    "data = {\"MODEL\":pd.Series([\"SLR\", \"Log model\", \"Exp model\", \"Poly model\"]), \"RMSE\":pd.Series([rmse1, rmse2, rmse3, rmse4])}\n",
    "\n",
    "table_rmse = pd.DataFrame(data)\n",
    "table_rmse"
   ]
  },
  {
   "cell_type": "code",
   "execution_count": 37,
   "id": "34e42d85",
   "metadata": {},
   "outputs": [
    {
     "name": "stderr",
     "output_type": "stream",
     "text": [
      "c:\\users\\aanand.oradev\\appdata\\local\\programs\\python\\python39\\lib\\site-packages\\scipy\\stats\\_stats_py.py:1477: UserWarning: kurtosistest only valid for n>=20 ... continuing anyway, n=10\n",
      "  warnings.warn(\"kurtosistest only valid for n>=20 ... continuing \"\n"
     ]
    },
    {
     "data": {
      "text/html": [
       "<table class=\"simpletable\">\n",
       "<caption>OLS Regression Results</caption>\n",
       "<tr>\n",
       "  <th>Dep. Variable:</th>    <td>np.log(Churn_out_rate)</td> <th>  R-squared:         </th> <td>   0.984</td>\n",
       "</tr>\n",
       "<tr>\n",
       "  <th>Model:</th>                      <td>OLS</td>          <th>  Adj. R-squared:    </th> <td>   0.979</td>\n",
       "</tr>\n",
       "<tr>\n",
       "  <th>Method:</th>                <td>Least Squares</td>     <th>  F-statistic:       </th> <td>   210.1</td>\n",
       "</tr>\n",
       "<tr>\n",
       "  <th>Date:</th>                <td>Tue, 19 Apr 2022</td>    <th>  Prob (F-statistic):</th> <td>5.63e-07</td>\n",
       "</tr>\n",
       "<tr>\n",
       "  <th>Time:</th>                    <td>12:31:01</td>        <th>  Log-Likelihood:    </th> <td>  26.728</td>\n",
       "</tr>\n",
       "<tr>\n",
       "  <th>No. Observations:</th>         <td>    10</td>         <th>  AIC:               </th> <td>  -47.46</td>\n",
       "</tr>\n",
       "<tr>\n",
       "  <th>Df Residuals:</th>             <td>     7</td>         <th>  BIC:               </th> <td>  -46.55</td>\n",
       "</tr>\n",
       "<tr>\n",
       "  <th>Df Model:</th>                 <td>     2</td>         <th>                     </th>     <td> </td>   \n",
       "</tr>\n",
       "<tr>\n",
       "  <th>Covariance Type:</th>         <td>nonrobust</td>       <th>                     </th>     <td> </td>   \n",
       "</tr>\n",
       "</table>\n",
       "<table class=\"simpletable\">\n",
       "<tr>\n",
       "                <td></td>                  <th>coef</th>     <th>std err</th>      <th>t</th>      <th>P>|t|</th>  <th>[0.025</th>    <th>0.975]</th>  \n",
       "</tr>\n",
       "<tr>\n",
       "  <th>Intercept</th>                    <td>   23.1762</td> <td>    2.415</td> <td>    9.597</td> <td> 0.000</td> <td>   17.466</td> <td>   28.887</td>\n",
       "</tr>\n",
       "<tr>\n",
       "  <th>Salary_hike</th>                  <td>   -0.0207</td> <td>    0.003</td> <td>   -7.351</td> <td> 0.000</td> <td>   -0.027</td> <td>   -0.014</td>\n",
       "</tr>\n",
       "<tr>\n",
       "  <th>I(Salary_hike * Salary_hike)</th> <td> 5.605e-06</td> <td> 8.17e-07</td> <td>    6.857</td> <td> 0.000</td> <td> 3.67e-06</td> <td> 7.54e-06</td>\n",
       "</tr>\n",
       "</table>\n",
       "<table class=\"simpletable\">\n",
       "<tr>\n",
       "  <th>Omnibus:</th>       <td> 0.520</td> <th>  Durbin-Watson:     </th> <td>   1.272</td>\n",
       "</tr>\n",
       "<tr>\n",
       "  <th>Prob(Omnibus):</th> <td> 0.771</td> <th>  Jarque-Bera (JB):  </th> <td>   0.506</td>\n",
       "</tr>\n",
       "<tr>\n",
       "  <th>Skew:</th>          <td>-0.088</td> <th>  Prob(JB):          </th> <td>   0.777</td>\n",
       "</tr>\n",
       "<tr>\n",
       "  <th>Kurtosis:</th>      <td> 1.913</td> <th>  Cond. No.          </th> <td>1.10e+09</td>\n",
       "</tr>\n",
       "</table><br/><br/>Notes:<br/>[1] Standard Errors assume that the covariance matrix of the errors is correctly specified.<br/>[2] The condition number is large, 1.1e+09. This might indicate that there are<br/>strong multicollinearity or other numerical problems."
      ],
      "text/plain": [
       "<class 'statsmodels.iolib.summary.Summary'>\n",
       "\"\"\"\n",
       "                              OLS Regression Results                              \n",
       "==================================================================================\n",
       "Dep. Variable:     np.log(Churn_out_rate)   R-squared:                       0.984\n",
       "Model:                                OLS   Adj. R-squared:                  0.979\n",
       "Method:                     Least Squares   F-statistic:                     210.1\n",
       "Date:                    Tue, 19 Apr 2022   Prob (F-statistic):           5.63e-07\n",
       "Time:                            12:31:01   Log-Likelihood:                 26.728\n",
       "No. Observations:                      10   AIC:                            -47.46\n",
       "Df Residuals:                           7   BIC:                            -46.55\n",
       "Df Model:                               2                                         \n",
       "Covariance Type:                nonrobust                                         \n",
       "================================================================================================\n",
       "                                   coef    std err          t      P>|t|      [0.025      0.975]\n",
       "------------------------------------------------------------------------------------------------\n",
       "Intercept                       23.1762      2.415      9.597      0.000      17.466      28.887\n",
       "Salary_hike                     -0.0207      0.003     -7.351      0.000      -0.027      -0.014\n",
       "I(Salary_hike * Salary_hike)  5.605e-06   8.17e-07      6.857      0.000    3.67e-06    7.54e-06\n",
       "==============================================================================\n",
       "Omnibus:                        0.520   Durbin-Watson:                   1.272\n",
       "Prob(Omnibus):                  0.771   Jarque-Bera (JB):                0.506\n",
       "Skew:                          -0.088   Prob(JB):                        0.777\n",
       "Kurtosis:                       1.913   Cond. No.                     1.10e+09\n",
       "==============================================================================\n",
       "\n",
       "Notes:\n",
       "[1] Standard Errors assume that the covariance matrix of the errors is correctly specified.\n",
       "[2] The condition number is large, 1.1e+09. This might indicate that there are\n",
       "strong multicollinearity or other numerical problems.\n",
       "\"\"\""
      ]
     },
     "execution_count": 37,
     "metadata": {},
     "output_type": "execute_result"
    }
   ],
   "source": [
    "###################\n",
    "# The best model\n",
    "\n",
    "from sklearn.model_selection import train_test_split\n",
    "\n",
    "train, test = train_test_split(dt, test_size = 0.2)\n",
    "\n",
    "finalmodel = smf.ols('np.log(Churn_out_rate) ~ Salary_hike + I(Salary_hike*Salary_hike)', data = dt).fit()\n",
    "finalmodel.summary()\n",
    "# Simple Linear Regression\n",
    "\n"
   ]
  },
  {
   "cell_type": "code",
   "execution_count": 38,
   "id": "2e01a1cc",
   "metadata": {},
   "outputs": [
    {
     "data": {
      "text/plain": [
       "2    4.409904\n",
       "9    4.104504\n",
       "dtype: float64"
      ]
     },
     "execution_count": 38,
     "metadata": {},
     "output_type": "execute_result"
    }
   ],
   "source": [
    "# Predict on test data\n",
    "test_pred = finalmodel.predict(pd.DataFrame(test))\n",
    "test_pred"
   ]
  },
  {
   "cell_type": "code",
   "execution_count": 39,
   "id": "773889c0",
   "metadata": {},
   "outputs": [
    {
     "data": {
      "text/plain": [
       "66.47619526006315"
      ]
     },
     "execution_count": 39,
     "metadata": {},
     "output_type": "execute_result"
    }
   ],
   "source": [
    "# Model Evaluation on Test data\n",
    "test_res = test.Churn_out_rate - test_pred\n",
    "test_sqrs = test_res * test_res\n",
    "test_mse = np.mean(test_sqrs)\n",
    "test_rmse = np.sqrt(test_mse)\n",
    "test_rmse"
   ]
  },
  {
   "cell_type": "code",
   "execution_count": 40,
   "id": "d6b78c41",
   "metadata": {},
   "outputs": [
    {
     "data": {
      "text/plain": [
       "3    4.335990\n",
       "0    4.493907\n",
       "5    4.235222\n",
       "8    4.112180\n",
       "1    4.436784\n",
       "7    4.174785\n",
       "4    4.292320\n",
       "6    4.208895\n",
       "dtype: float64"
      ]
     },
     "execution_count": 40,
     "metadata": {},
     "output_type": "execute_result"
    }
   ],
   "source": [
    "# Prediction on train data\n",
    "train_pred = finalmodel.predict(pd.DataFrame(train))\n",
    "train_pred"
   ]
  },
  {
   "cell_type": "code",
   "execution_count": 41,
   "id": "c14c4364",
   "metadata": {},
   "outputs": [
    {
     "data": {
      "text/plain": [
       "69.97365405594319"
      ]
     },
     "execution_count": 41,
     "metadata": {},
     "output_type": "execute_result"
    }
   ],
   "source": [
    "# Model Evaluation on train data\n",
    "train_res = train.Churn_out_rate -train_pred\n",
    "train_sqrs = train_res * train_res\n",
    "train_mse = np.mean(train_sqrs)\n",
    "train_rmse = np.sqrt(train_mse)\n",
    "train_rmse\n",
    "\n"
   ]
  },
  {
   "cell_type": "code",
   "execution_count": null,
   "id": "4033b3cf",
   "metadata": {},
   "outputs": [],
   "source": []
  },
  {
   "cell_type": "code",
   "execution_count": null,
   "id": "8445f2ae",
   "metadata": {},
   "outputs": [],
   "source": []
  },
  {
   "cell_type": "code",
   "execution_count": null,
   "id": "0fa9ecc3",
   "metadata": {},
   "outputs": [],
   "source": []
  },
  {
   "cell_type": "code",
   "execution_count": null,
   "id": "6ede305f",
   "metadata": {},
   "outputs": [],
   "source": []
  }
 ],
 "metadata": {
  "kernelspec": {
   "display_name": "Python 3 (ipykernel)",
   "language": "python",
   "name": "python3"
  },
  "language_info": {
   "codemirror_mode": {
    "name": "ipython",
    "version": 3
   },
   "file_extension": ".py",
   "mimetype": "text/x-python",
   "name": "python",
   "nbconvert_exporter": "python",
   "pygments_lexer": "ipython3",
   "version": "3.9.5"
  },
  "toc": {
   "base_numbering": 1,
   "nav_menu": {},
   "number_sections": true,
   "sideBar": true,
   "skip_h1_title": false,
   "title_cell": "Table of Contents",
   "title_sidebar": "Contents",
   "toc_cell": false,
   "toc_position": {
    "height": "calc(100% - 180px)",
    "left": "10px",
    "top": "150px",
    "width": "165px"
   },
   "toc_section_display": true,
   "toc_window_display": true
  },
  "varInspector": {
   "cols": {
    "lenName": 16,
    "lenType": 16,
    "lenVar": 40
   },
   "kernels_config": {
    "python": {
     "delete_cmd_postfix": "",
     "delete_cmd_prefix": "del ",
     "library": "var_list.py",
     "varRefreshCmd": "print(var_dic_list())"
    },
    "r": {
     "delete_cmd_postfix": ") ",
     "delete_cmd_prefix": "rm(",
     "library": "var_list.r",
     "varRefreshCmd": "cat(var_dic_list()) "
    }
   },
   "types_to_exclude": [
    "module",
    "function",
    "builtin_function_or_method",
    "instance",
    "_Feature"
   ],
   "window_display": false
  }
 },
 "nbformat": 4,
 "nbformat_minor": 5
}
