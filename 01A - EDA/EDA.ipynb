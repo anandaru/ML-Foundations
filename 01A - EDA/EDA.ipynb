{
 "cells": [
  {
   "cell_type": "markdown",
   "id": "43920b81",
   "metadata": {},
   "source": [
    "# Exploratory Data Analysis"
   ]
  },
  {
   "cell_type": "markdown",
   "id": "bda38527",
   "metadata": {},
   "source": [
    "## Structure Analysis"
   ]
  },
  {
   "cell_type": "code",
   "execution_count": 2,
   "id": "3b30e2a7",
   "metadata": {},
   "outputs": [],
   "source": [
    "import pandas as pd\n",
    "#edu = pd.read_csv(r\"C:\\D\\personal\\Development\\360\\02- EDA\\Datasets_EDA (1)\\education.csv\")\n",
    "edu = pd.read_csv(\"C:/D/personal/Development/360/02- EDA/Datasets_EDA (1)/education.csv\")"
   ]
  },
  {
   "cell_type": "code",
   "execution_count": 3,
   "id": "02d8eba8",
   "metadata": {},
   "outputs": [
    {
     "name": "stdout",
     "output_type": "stream",
     "text": [
      "<class 'pandas.core.frame.DataFrame'>\n",
      "RangeIndex: 773 entries, 0 to 772\n",
      "Data columns (total 3 columns):\n",
      " #   Column    Non-Null Count  Dtype\n",
      "---  ------    --------------  -----\n",
      " 0   datasrno  773 non-null    int64\n",
      " 1   workex    773 non-null    int64\n",
      " 2   gmat      773 non-null    int64\n",
      "dtypes: int64(3)\n",
      "memory usage: 18.2 KB\n"
     ]
    }
   ],
   "source": [
    "edu.info()"
   ]
  },
  {
   "cell_type": "code",
   "execution_count": 4,
   "id": "bdeefbb0",
   "metadata": {},
   "outputs": [
    {
     "data": {
      "text/plain": [
       "datasrno    int64\n",
       "workex      int64\n",
       "gmat        int64\n",
       "dtype: object"
      ]
     },
     "execution_count": 4,
     "metadata": {},
     "output_type": "execute_result"
    }
   ],
   "source": [
    "edu.dtypes"
   ]
  },
  {
   "cell_type": "code",
   "execution_count": 5,
   "id": "e6cef04b",
   "metadata": {},
   "outputs": [
    {
     "data": {
      "text/html": [
       "<div>\n",
       "<style scoped>\n",
       "    .dataframe tbody tr th:only-of-type {\n",
       "        vertical-align: middle;\n",
       "    }\n",
       "\n",
       "    .dataframe tbody tr th {\n",
       "        vertical-align: top;\n",
       "    }\n",
       "\n",
       "    .dataframe thead th {\n",
       "        text-align: right;\n",
       "    }\n",
       "</style>\n",
       "<table border=\"1\" class=\"dataframe\">\n",
       "  <thead>\n",
       "    <tr style=\"text-align: right;\">\n",
       "      <th></th>\n",
       "      <th>datasrno</th>\n",
       "      <th>workex</th>\n",
       "      <th>gmat</th>\n",
       "    </tr>\n",
       "  </thead>\n",
       "  <tbody>\n",
       "    <tr>\n",
       "      <th>0</th>\n",
       "      <td>1</td>\n",
       "      <td>21</td>\n",
       "      <td>720</td>\n",
       "    </tr>\n",
       "    <tr>\n",
       "      <th>1</th>\n",
       "      <td>2</td>\n",
       "      <td>107</td>\n",
       "      <td>640</td>\n",
       "    </tr>\n",
       "    <tr>\n",
       "      <th>2</th>\n",
       "      <td>3</td>\n",
       "      <td>57</td>\n",
       "      <td>740</td>\n",
       "    </tr>\n",
       "    <tr>\n",
       "      <th>3</th>\n",
       "      <td>4</td>\n",
       "      <td>99</td>\n",
       "      <td>690</td>\n",
       "    </tr>\n",
       "    <tr>\n",
       "      <th>4</th>\n",
       "      <td>5</td>\n",
       "      <td>208</td>\n",
       "      <td>710</td>\n",
       "    </tr>\n",
       "  </tbody>\n",
       "</table>\n",
       "</div>"
      ],
      "text/plain": [
       "   datasrno  workex  gmat\n",
       "0         1      21   720\n",
       "1         2     107   640\n",
       "2         3      57   740\n",
       "3         4      99   690\n",
       "4         5     208   710"
      ]
     },
     "execution_count": 5,
     "metadata": {},
     "output_type": "execute_result"
    }
   ],
   "source": [
    "edu.head()"
   ]
  },
  {
   "cell_type": "code",
   "execution_count": 6,
   "id": "e13322ba",
   "metadata": {},
   "outputs": [
    {
     "data": {
      "text/html": [
       "<div>\n",
       "<style scoped>\n",
       "    .dataframe tbody tr th:only-of-type {\n",
       "        vertical-align: middle;\n",
       "    }\n",
       "\n",
       "    .dataframe tbody tr th {\n",
       "        vertical-align: top;\n",
       "    }\n",
       "\n",
       "    .dataframe thead th {\n",
       "        text-align: right;\n",
       "    }\n",
       "</style>\n",
       "<table border=\"1\" class=\"dataframe\">\n",
       "  <thead>\n",
       "    <tr style=\"text-align: right;\">\n",
       "      <th></th>\n",
       "      <th>datasrno</th>\n",
       "      <th>workex</th>\n",
       "      <th>gmat</th>\n",
       "    </tr>\n",
       "  </thead>\n",
       "  <tbody>\n",
       "    <tr>\n",
       "      <th>768</th>\n",
       "      <td>769</td>\n",
       "      <td>88</td>\n",
       "      <td>620</td>\n",
       "    </tr>\n",
       "    <tr>\n",
       "      <th>769</th>\n",
       "      <td>770</td>\n",
       "      <td>132</td>\n",
       "      <td>670</td>\n",
       "    </tr>\n",
       "    <tr>\n",
       "      <th>770</th>\n",
       "      <td>771</td>\n",
       "      <td>28</td>\n",
       "      <td>610</td>\n",
       "    </tr>\n",
       "    <tr>\n",
       "      <th>771</th>\n",
       "      <td>772</td>\n",
       "      <td>10</td>\n",
       "      <td>610</td>\n",
       "    </tr>\n",
       "    <tr>\n",
       "      <th>772</th>\n",
       "      <td>773</td>\n",
       "      <td>52</td>\n",
       "      <td>620</td>\n",
       "    </tr>\n",
       "  </tbody>\n",
       "</table>\n",
       "</div>"
      ],
      "text/plain": [
       "     datasrno  workex  gmat\n",
       "768       769      88   620\n",
       "769       770     132   670\n",
       "770       771      28   610\n",
       "771       772      10   610\n",
       "772       773      52   620"
      ]
     },
     "execution_count": 6,
     "metadata": {},
     "output_type": "execute_result"
    }
   ],
   "source": [
    "edu.tail()"
   ]
  },
  {
   "cell_type": "code",
   "execution_count": 74,
   "id": "fcdc7843",
   "metadata": {},
   "outputs": [
    {
     "data": {
      "text/plain": [
       "(773, 3)"
      ]
     },
     "execution_count": 74,
     "metadata": {},
     "output_type": "execute_result"
    }
   ],
   "source": [
    "edu.shape"
   ]
  },
  {
   "cell_type": "code",
   "execution_count": 41,
   "id": "afdedaae",
   "metadata": {},
   "outputs": [
    {
     "data": {
      "text/plain": [
       "<AxesSubplot:xlabel='value', ylabel='variable'>"
      ]
     },
     "execution_count": 41,
     "metadata": {},
     "output_type": "execute_result"
    },
    {
     "data": {
      "image/png": "[encoded data removed]",
      "text/plain": [
       "<Figure size 432x288 with 1 Axes>"
      ]
     },
     "metadata": {
      "needs_background": "light"
     },
     "output_type": "display_data"
    }
   ],
   "source": [
    "import seaborn as sns\n",
    "#sns.boxplot(data=edu)\n",
    "#sns.boxplot(data=[edu[\"gmat\"],edu[\"workex\"]] ,orient=\"h\", palette=\"pastel\")\n",
    "#sns.boxplot(data=edu, orient=\"h\", palette=\"pastel\")\n",
    "\n",
    "df = pd.DataFrame(data=edu, columns=[\"gmat\", \"workex\"])\n",
    "sns.boxplot(x=\"value\", y=\"variable\", data=pd.melt(df))"
   ]
  },
  {
   "cell_type": "markdown",
   "id": "b27445e7",
   "metadata": {},
   "source": [
    "## Moments"
   ]
  },
  {
   "cell_type": "code",
   "execution_count": 135,
   "id": "5bceaab5",
   "metadata": {},
   "outputs": [
    {
     "data": {
      "text/html": [
       "<div>\n",
       "<style scoped>\n",
       "    .dataframe tbody tr th:only-of-type {\n",
       "        vertical-align: middle;\n",
       "    }\n",
       "\n",
       "    .dataframe tbody tr th {\n",
       "        vertical-align: top;\n",
       "    }\n",
       "\n",
       "    .dataframe thead th {\n",
       "        text-align: right;\n",
       "    }\n",
       "</style>\n",
       "<table border=\"1\" class=\"dataframe\">\n",
       "  <thead>\n",
       "    <tr style=\"text-align: right;\">\n",
       "      <th></th>\n",
       "      <th>datasrno</th>\n",
       "      <th>workex</th>\n",
       "      <th>gmat</th>\n",
       "    </tr>\n",
       "  </thead>\n",
       "  <tbody>\n",
       "    <tr>\n",
       "      <th>count</th>\n",
       "      <td>773.00000</td>\n",
       "      <td>773.00000</td>\n",
       "      <td>773.000000</td>\n",
       "    </tr>\n",
       "    <tr>\n",
       "      <th>mean</th>\n",
       "      <td>387.00000</td>\n",
       "      <td>57.50194</td>\n",
       "      <td>711.164295</td>\n",
       "    </tr>\n",
       "    <tr>\n",
       "      <th>std</th>\n",
       "      <td>223.29017</td>\n",
       "      <td>27.38682</td>\n",
       "      <td>29.339714</td>\n",
       "    </tr>\n",
       "    <tr>\n",
       "      <th>min</th>\n",
       "      <td>1.00000</td>\n",
       "      <td>9.00000</td>\n",
       "      <td>600.000000</td>\n",
       "    </tr>\n",
       "    <tr>\n",
       "      <th>25%</th>\n",
       "      <td>194.00000</td>\n",
       "      <td>41.00000</td>\n",
       "      <td>690.000000</td>\n",
       "    </tr>\n",
       "    <tr>\n",
       "      <th>50%</th>\n",
       "      <td>387.00000</td>\n",
       "      <td>52.00000</td>\n",
       "      <td>710.000000</td>\n",
       "    </tr>\n",
       "    <tr>\n",
       "      <th>75%</th>\n",
       "      <td>580.00000</td>\n",
       "      <td>69.00000</td>\n",
       "      <td>730.000000</td>\n",
       "    </tr>\n",
       "    <tr>\n",
       "      <th>max</th>\n",
       "      <td>773.00000</td>\n",
       "      <td>279.00000</td>\n",
       "      <td>780.000000</td>\n",
       "    </tr>\n",
       "  </tbody>\n",
       "</table>\n",
       "</div>"
      ],
      "text/plain": [
       "        datasrno     workex        gmat\n",
       "count  773.00000  773.00000  773.000000\n",
       "mean   387.00000   57.50194  711.164295\n",
       "std    223.29017   27.38682   29.339714\n",
       "min      1.00000    9.00000  600.000000\n",
       "25%    194.00000   41.00000  690.000000\n",
       "50%    387.00000   52.00000  710.000000\n",
       "75%    580.00000   69.00000  730.000000\n",
       "max    773.00000  279.00000  780.000000"
      ]
     },
     "execution_count": 135,
     "metadata": {},
     "output_type": "execute_result"
    }
   ],
   "source": [
    "edu.describe()"
   ]
  },
  {
   "cell_type": "markdown",
   "id": "c157502a",
   "metadata": {},
   "source": [
    "### Measures of Central Tendency / First moment business decision"
   ]
  },
  {
   "attachments": {
    "image-2.png": {
     "image/png": "[encoded data removed]"
    }
   },
   "cell_type": "markdown",
   "id": "702f8456",
   "metadata": {},
   "source": [
    "![image-2.png](attachment:image-2.png)"
   ]
  },
  {
   "cell_type": "code",
   "execution_count": 46,
   "id": "1dfa9dec",
   "metadata": {},
   "outputs": [
    {
     "data": {
      "text/plain": [
       "(711.1642949547219, 57.501940491591206)"
      ]
     },
     "execution_count": 46,
     "metadata": {},
     "output_type": "execute_result"
    }
   ],
   "source": [
    "# Mean\n",
    "edu.gmat.mean() ,edu.workex.mean()"
   ]
  },
  {
   "cell_type": "code",
   "execution_count": 47,
   "id": "a217bab5",
   "metadata": {},
   "outputs": [
    {
     "data": {
      "text/plain": [
       "(710.0, 52.0)"
      ]
     },
     "execution_count": 47,
     "metadata": {},
     "output_type": "execute_result"
    }
   ],
   "source": [
    "# Median\n",
    "edu.gmat.median() ,edu.workex.median()"
   ]
  },
  {
   "cell_type": "code",
   "execution_count": 48,
   "id": "f770607e",
   "metadata": {},
   "outputs": [
    {
     "data": {
      "text/plain": [
       "(0    710\n",
       " dtype: int64,\n",
       " 0    45\n",
       " dtype: int64)"
      ]
     },
     "execution_count": 48,
     "metadata": {},
     "output_type": "execute_result"
    }
   ],
   "source": [
    "# Mode\n",
    "edu.gmat.mode() ,edu.workex.mode()"
   ]
  },
  {
   "cell_type": "markdown",
   "id": "8400bc7b",
   "metadata": {},
   "source": [
    "### Measures of Dispersion / Second moment business decision"
   ]
  },
  {
   "cell_type": "code",
   "execution_count": 49,
   "id": "0b239d15",
   "metadata": {},
   "outputs": [
    {
     "data": {
      "text/plain": [
       "(750.0378848306511, 860.8188271253243)"
      ]
     },
     "execution_count": 49,
     "metadata": {},
     "output_type": "execute_result"
    }
   ],
   "source": [
    "#Variance\n",
    "edu.workex.var(),edu.gmat.var()"
   ]
  },
  {
   "cell_type": "code",
   "execution_count": 50,
   "id": "ce5132b9",
   "metadata": {},
   "outputs": [
    {
     "data": {
      "text/plain": [
       "(27.386819545734973, 29.339714162297565)"
      ]
     },
     "execution_count": 50,
     "metadata": {},
     "output_type": "execute_result"
    }
   ],
   "source": [
    "#Standard Deviation\n",
    "edu.workex.std(),edu.gmat.std()"
   ]
  },
  {
   "cell_type": "code",
   "execution_count": 52,
   "id": "3c442682",
   "metadata": {},
   "outputs": [
    {
     "data": {
      "text/plain": [
       "(270, 180)"
      ]
     },
     "execution_count": 52,
     "metadata": {},
     "output_type": "execute_result"
    }
   ],
   "source": [
    "#Range\n",
    "rangeworkex = max(edu.workex) - min(edu.workex) # range\n",
    "rangegmat = max(edu.gmat) - min(edu.gmat) # range\n",
    "rangeworkex,rangegmat"
   ]
  },
  {
   "cell_type": "code",
   "execution_count": 55,
   "id": "0aacec14",
   "metadata": {},
   "outputs": [
    {
     "data": {
      "text/plain": [
       "(28.0, 40.0)"
      ]
     },
     "execution_count": 55,
     "metadata": {},
     "output_type": "execute_result"
    }
   ],
   "source": [
    "#IQR\n",
    "iqr_workex = edu['workex'].quantile(0.75) - edu['workex'].quantile(0.25) # IQR\n",
    "iqr_gmat = edu['gmat'].quantile(0.75) - edu['gmat'].quantile(0.25) # IQR\n",
    "iqr_workex,iqr_gmat"
   ]
  },
  {
   "cell_type": "markdown",
   "id": "452b0108",
   "metadata": {},
   "source": [
    "### Skew /Third moment business decision"
   ]
  },
  {
   "cell_type": "code",
   "execution_count": 56,
   "id": "fe18c6d2",
   "metadata": {},
   "outputs": [
    {
     "data": {
      "text/plain": [
       "(2.6085365678230614, -0.5954765248452923)"
      ]
     },
     "execution_count": 56,
     "metadata": {},
     "output_type": "execute_result"
    }
   ],
   "source": [
    "edu.workex.skew(),edu.gmat.skew()"
   ]
  },
  {
   "attachments": {
    "image.png": {
     "image/png": "[encoded data removed]"
    }
   },
   "cell_type": "markdown",
   "id": "2ca0cf34",
   "metadata": {},
   "source": [
    "<b> Analysis: </b>  \n",
    "<b>Karl Pearson's second coefficient of skewness </b>   \n",
    "a) -0.5 to 0.5 - symmetrical  \n",
    "b) -1 to -0.5  - negative skew  \n",
    "c) 0.5 to 1 - positive skew  \n",
    "d) lower than -1 or greater that 1 - extreme skew  \n",
    "\n",
    "\n",
    "1) workex is extreme positive skew (2.6>1). See PDF below   \n",
    "2) gmat is almost symmetrical with slight negative skew (-0.59<-0.5). See PDF below   \n",
    "\n",
    "![image.png](attachment:image.png)"
   ]
  },
  {
   "cell_type": "markdown",
   "id": "d88a41f0",
   "metadata": {},
   "source": [
    "### Kurtosis / Fourth moment business decision"
   ]
  },
  {
   "cell_type": "code",
   "execution_count": 69,
   "id": "711913b3",
   "metadata": {},
   "outputs": [
    {
     "data": {
      "text/plain": [
       "(13.404731601273921, 1.167164158069025)"
      ]
     },
     "execution_count": 69,
     "metadata": {},
     "output_type": "execute_result"
    }
   ],
   "source": [
    "edu.workex.kurt(),edu.gmat.kurt()"
   ]
  },
  {
   "attachments": {
    "image-2.png": {
     "image/png": "[encoded data removed]"
    }
   },
   "cell_type": "markdown",
   "id": "474c5996",
   "metadata": {},
   "source": [
    "<b> Analysis: </b>  \n",
    "<b>1) workex is letptokurtic (13.4>3). heavy tailed. </b>   \n",
    "       -influenced by outliers.    \n",
    "       -Accuracy of variance impacted    \n",
    "       -Power of tests on means is low  \n",
    "<b>2) gmat score is platykurtic (1.16 less than 3). </b>  \n",
    "        -flat topped.thin tailed.  \n",
    "        -less number of outliers  \n",
    "![image-2.png](attachment:image-2.png)"
   ]
  },
  {
   "cell_type": "markdown",
   "id": "12651952",
   "metadata": {},
   "source": [
    "## Data Visualization"
   ]
  },
  {
   "cell_type": "markdown",
   "id": "39b146e8",
   "metadata": {},
   "source": [
    "#### Probability Density function"
   ]
  },
  {
   "cell_type": "code",
   "execution_count": 217,
   "id": "4f3c7d24",
   "metadata": {},
   "outputs": [
    {
     "data": {
      "text/plain": [
       "<seaborn.axisgrid.FacetGrid at 0x1e0f377da30>"
      ]
     },
     "execution_count": 217,
     "metadata": {},
     "output_type": "execute_result"
    },
    {
     "data": {
      "image/png": "[encoded data removed]",
      "text/plain": [
       "<Figure size 360x360 with 1 Axes>"
      ]
     },
     "metadata": {
      "needs_background": "light"
     },
     "output_type": "display_data"
    }
   ],
   "source": [
    "#Probability Density function\n",
    "sns.displot(edu, x=\"workex\", kind=\"kde\")"
   ]
  },
  {
   "cell_type": "code",
   "execution_count": 228,
   "id": "2f084e38",
   "metadata": {},
   "outputs": [
    {
     "data": {
      "image/png": "[encoded data removed]",
      "text/plain": [
       "<Figure size 360x360 with 1 Axes>"
      ]
     },
     "metadata": {
      "needs_background": "light"
     },
     "output_type": "display_data"
    },
    {
     "data": {
      "image/png": "[encoded data removed]",
      "text/plain": [
       "<Figure size 360x360 with 1 Axes>"
      ]
     },
     "metadata": {
      "needs_background": "light"
     },
     "output_type": "display_data"
    },
    {
     "data": {
      "image/png": "[encoded data removed]",
      "text/plain": [
       "<Figure size 360x360 with 1 Axes>"
      ]
     },
     "metadata": {
      "needs_background": "light"
     },
     "output_type": "display_data"
    }
   ],
   "source": [
    "for col in edu.columns:\n",
    "    #sns.displot(edu, x=col, kind=\"kde\")\n",
    "    sns.displot(edu[col], kind=\"kde\")"
   ]
  },
  {
   "cell_type": "code",
   "execution_count": 222,
   "id": "e2a9c8a9",
   "metadata": {},
   "outputs": [
    {
     "data": {
      "image/png": "[encoded data removed]",
      "text/plain": [
       "<Figure size 432x288 with 1 Axes>"
      ]
     },
     "metadata": {
      "needs_background": "light"
     },
     "output_type": "display_data"
    }
   ],
   "source": [
    "for col in edu.columns:\n",
    "    sns.kdeplot(edu[col], shade= True)"
   ]
  },
  {
   "cell_type": "markdown",
   "id": "95eccdbc",
   "metadata": {},
   "source": [
    "#### Barchart"
   ]
  },
  {
   "cell_type": "code",
   "execution_count": 76,
   "id": "46356f7c",
   "metadata": {},
   "outputs": [
    {
     "data": {
      "text/plain": [
       "<BarContainer object of 773 artists>"
      ]
     },
     "execution_count": 76,
     "metadata": {},
     "output_type": "execute_result"
    },
    {
     "data": {
      "image/png": "[encoded data removed]",
      "text/plain": [
       "<Figure size 432x288 with 1 Axes>"
      ]
     },
     "metadata": {
      "needs_background": "light"
     },
     "output_type": "display_data"
    }
   ],
   "source": [
    "import matplotlib.pyplot as plt\n",
    "# Barchart matplotlib\n",
    "plt.bar(height = edu.gmat, x = np.arange(1, 774, 1)) # initializing the parameter"
   ]
  },
  {
   "cell_type": "code",
   "execution_count": 88,
   "id": "a3528b16",
   "metadata": {},
   "outputs": [
    {
     "data": {
      "text/plain": [
       "<AxesSubplot:ylabel='gmat'>"
      ]
     },
     "execution_count": 88,
     "metadata": {},
     "output_type": "execute_result"
    },
    {
     "data": {
      "image/png": "[encoded data removed]",
      "text/plain": [
       "<Figure size 432x288 with 1 Axes>"
      ]
     },
     "metadata": {
      "needs_background": "light"
     },
     "output_type": "display_data"
    }
   ],
   "source": [
    "# Barchart seaborn\n",
    "sns.barplot(x = np.arange(1, 774, 1), y= edu.gmat, data=edu)"
   ]
  },
  {
   "cell_type": "code",
   "execution_count": 216,
   "id": "43f1caac",
   "metadata": {},
   "outputs": [
    {
     "name": "stdout",
     "output_type": "stream",
     "text": [
      "   survived  pclass     sex   age  sibsp  parch     fare embarked  class  \\\n",
      "0         0       3    male  22.0      1      0   7.2500        S  Third   \n",
      "1         1       1  female  38.0      1      0  71.2833        C  First   \n",
      "2         1       3  female  26.0      0      0   7.9250        S  Third   \n",
      "3         1       1  female  35.0      1      0  53.1000        S  First   \n",
      "4         0       3    male  35.0      0      0   8.0500        S  Third   \n",
      "\n",
      "     who  adult_male deck  embark_town alive  alone  \n",
      "0    man        True  NaN  Southampton    no  False  \n",
      "1  woman       False    C    Cherbourg   yes  False  \n",
      "2  woman       False  NaN  Southampton   yes   True  \n",
      "3  woman       False    C  Southampton   yes  False  \n",
      "4    man        True  NaN  Southampton    no   True  \n",
      "sex     class \n",
      "female  First     0.968085\n",
      "        Second    0.921053\n",
      "        Third     0.500000\n",
      "male    First     0.368852\n",
      "        Second    0.157407\n",
      "        Third     0.135447\n",
      "Name: survived, dtype: float64\n",
      "sex     class \n",
      "female  First     0.176716\n",
      "        Second    0.271448\n",
      "        Third     0.501745\n",
      "male    First     0.484484\n",
      "        Second    0.365882\n",
      "        Third     0.342694\n",
      "Name: survived, dtype: float64\n"
     ]
    },
    {
     "data": {
      "image/png": "[encoded data removed]",
      "text/plain": [
       "<Figure size 432x288 with 1 Axes>"
      ]
     },
     "metadata": {
      "needs_background": "light"
     },
     "output_type": "display_data"
    }
   ],
   "source": [
    "sns.set_context('paper')\n",
    "\n",
    "# load dataset\n",
    "titanic = sns.load_dataset('titanic')\n",
    "print(titanic.head())\n",
    "\n",
    "# create plot\n",
    "sns.barplot(x = 'sex', y = 'survived', hue = 'class', data = titanic,\n",
    "            palette = 'magma',\n",
    "            order = ['male', 'female'],  \n",
    "            capsize = 0.05,             \n",
    "            saturation = 8,             \n",
    "            errcolor = 'gray', errwidth = 2,  \n",
    "            ci = 'sd'   \n",
    "            )\n",
    "\n",
    "print(titanic.groupby(['sex', 'class']).mean()['survived'])\n",
    "print(titanic.groupby(['sex', 'class']).std()['survived'])\n",
    "\n",
    "plt.show()"
   ]
  },
  {
   "cell_type": "markdown",
   "id": "3d6745c7",
   "metadata": {},
   "source": [
    "#### Histogram"
   ]
  },
  {
   "cell_type": "code",
   "execution_count": 77,
   "id": "e4665417",
   "metadata": {},
   "outputs": [
    {
     "data": {
      "text/plain": [
       "(array([  6.,   9.,  20.,  30.,  54., 143., 282., 143.,  67.,  19.]),\n",
       " array([600., 618., 636., 654., 672., 690., 708., 726., 744., 762., 780.]),\n",
       " <BarContainer object of 10 artists>)"
      ]
     },
     "execution_count": 77,
     "metadata": {},
     "output_type": "execute_result"
    },
    {
     "data": {
      "image/png": "[encoded data removed]",
      "text/plain": [
       "<Figure size 432x288 with 1 Axes>"
      ]
     },
     "metadata": {
      "needs_background": "light"
     },
     "output_type": "display_data"
    }
   ],
   "source": [
    "# Histogram matplotlib\n",
    "plt.hist(edu.gmat) #histogram"
   ]
  },
  {
   "cell_type": "code",
   "execution_count": 86,
   "id": "268ff2ff",
   "metadata": {},
   "outputs": [
    {
     "data": {
      "text/plain": [
       "<seaborn.axisgrid.FacetGrid at 0x1e0eee14760>"
      ]
     },
     "execution_count": 86,
     "metadata": {},
     "output_type": "execute_result"
    },
    {
     "data": {
      "image/png": "[encoded data removed]",
      "text/plain": [
       "<Figure size 360x360 with 1 Axes>"
      ]
     },
     "metadata": {
      "needs_background": "light"
     },
     "output_type": "display_data"
    }
   ],
   "source": [
    "# Histogram seaborn\n",
    "#sns.displot(edu, x=\"gmat\", kind=\"hist\")\n",
    "sns.displot(edu, x=\"gmat\", bins=10)"
   ]
  },
  {
   "cell_type": "markdown",
   "id": "e917159b",
   "metadata": {},
   "source": [
    "#### Boxplot"
   ]
  },
  {
   "cell_type": "code",
   "execution_count": 78,
   "id": "dae63684",
   "metadata": {},
   "outputs": [
    {
     "data": {
      "text/plain": [
       "{'whiskers': [<matplotlib.lines.Line2D at 0x1e0eeae6d60>,\n",
       "  <matplotlib.lines.Line2D at 0x1e0eeaf5130>],\n",
       " 'caps': [<matplotlib.lines.Line2D at 0x1e0eeaf54c0>,\n",
       "  <matplotlib.lines.Line2D at 0x1e0eeaf5850>],\n",
       " 'boxes': [<matplotlib.lines.Line2D at 0x1e0eeae69d0>],\n",
       " 'medians': [<matplotlib.lines.Line2D at 0x1e0eeaf5be0>],\n",
       " 'fliers': [<matplotlib.lines.Line2D at 0x1e0eeaf5f70>],\n",
       " 'means': []}"
      ]
     },
     "execution_count": 78,
     "metadata": {},
     "output_type": "execute_result"
    },
    {
     "data": {
      "image/png": "[encoded data removed]",
      "text/plain": [
       "<Figure size 432x288 with 1 Axes>"
      ]
     },
     "metadata": {
      "needs_background": "light"
     },
     "output_type": "display_data"
    }
   ],
   "source": [
    "# Boxplot\n",
    "plt.boxplot(edu.gmat) #boxplot"
   ]
  },
  {
   "cell_type": "code",
   "execution_count": 82,
   "id": "17b041ed",
   "metadata": {
    "scrolled": true
   },
   "outputs": [
    {
     "data": {
      "text/plain": [
       "<AxesSubplot:>"
      ]
     },
     "execution_count": 82,
     "metadata": {},
     "output_type": "execute_result"
    },
    {
     "data": {
      "image/png": "[encoded data removed]",
      "text/plain": [
       "<Figure size 432x288 with 1 Axes>"
      ]
     },
     "metadata": {
      "needs_background": "light"
     },
     "output_type": "display_data"
    }
   ],
   "source": [
    "#sns.boxplot(data=[edu[\"gmat\"],edu[\"workex\"]] ,orient=\"v\", palette=\"pastel\")\n",
    "sns.boxplot(data=[edu[\"gmat\"]] ,orient=\"v\")"
   ]
  },
  {
   "cell_type": "markdown",
   "id": "637d948f",
   "metadata": {},
   "source": [
    "#### Normal Quantile  Quantile Plot"
   ]
  },
  {
   "cell_type": "markdown",
   "id": "1edc8eee",
   "metadata": {},
   "source": [
    "* A q-q plot is a plot of the quantiles of the first data set against the quantiles of the second data set.  \n",
    "* Quantiles are cut points dividing the range of a probability distribution into continuous intervals with equal probabilities  \n",
    "* Q-Q plots are used to find the type of distribution for a random variable whether it be a Gaussian Distribution, Uniform         Distribution, Exponential Distribution or even Pareto Distribution"
   ]
  },
  {
   "cell_type": "code",
   "execution_count": null,
   "id": "04c01320",
   "metadata": {},
   "outputs": [],
   "source": [
    "#>>> # example 3\n",
    "#>>> pplot = sm.ProbPlot(res, stats.t, distargs=(4,), loc=3, scale=10)\n",
    "#>>> fig = pplot.qqplot()\n",
    "#>>> h = plt.title(\"Ex. 3 - qqplot - resids vs quantiles of t-dist\")\n",
    "#>>> plt.show()"
   ]
  },
  {
   "cell_type": "code",
   "execution_count": 657,
   "id": "380fe22c",
   "metadata": {},
   "outputs": [],
   "source": [
    "# Normal Quantile-Quantile Plot\n",
    "\n",
    "import pandas as pd\n",
    "\n",
    "# Read data into Python\n",
    "education = pd.read_csv(\"C:/D/personal/Development/360/02- EDA/Datasets_EDA (1)/education.csv\")"
   ]
  },
  {
   "cell_type": "code",
   "execution_count": 658,
   "id": "b503b1c6",
   "metadata": {},
   "outputs": [
    {
     "data": {
      "text/plain": [
       "((array([-3.12260341, -2.85151707, -2.69984322, -2.59267337, -2.50893963,\n",
       "         -2.43979696, -2.38066073, -2.32883665, -2.28260202, -2.24078627,\n",
       "         -2.20255648, -2.16729818, -2.13454461, -2.1039326 , -2.07517382,\n",
       "         -2.04803542, -2.02232653, -1.99788867, -1.97458879, -1.95231403,\n",
       "         -1.93096781, -1.91046682, -1.89073868, -1.8717201 , -1.85335538,\n",
       "         -1.83559526, -1.81839593, -1.80171828, -1.78552721, -1.76979112,\n",
       "         -1.75448146, -1.73957231, -1.7250401 , -1.71086332, -1.69702228,\n",
       "         -1.68349892, -1.6702766 , -1.65734002, -1.644675  , -1.63226842,\n",
       "         -1.62010812, -1.60818277, -1.59648185, -1.5849955 , -1.57371454,\n",
       "         -1.56263038, -1.55173494, -1.54102065, -1.5304804 , -1.52010749,\n",
       "         -1.50989561, -1.4998388 , -1.48993143, -1.48016819, -1.47054404,\n",
       "         -1.4610542 , -1.45169414, -1.44245956, -1.43334639, -1.42435072,\n",
       "         -1.41546885, -1.40669727, -1.39803261, -1.38947165, -1.38101133,\n",
       "         -1.37264872, -1.36438101, -1.35620554, -1.34811971, -1.34012108,\n",
       "         -1.33220728, -1.32437605, -1.3166252 , -1.30895266, -1.30135641,\n",
       "         -1.29383451, -1.28638512, -1.27900643, -1.27169673, -1.26445436,\n",
       "         -1.25727771, -1.25016523, -1.24311544, -1.2361269 , -1.22919822,\n",
       "         -1.22232804, -1.21551508, -1.20875808, -1.20205582, -1.19540713,\n",
       "         -1.18881086, -1.18226592, -1.17577123, -1.16932576, -1.16292851,\n",
       "         -1.1565785 , -1.15027479, -1.14401646, -1.13780262, -1.1316324 ,\n",
       "         -1.12550497, -1.1194195 , -1.11337521, -1.10737133, -1.1014071 ,\n",
       "         -1.09548179, -1.0895947 , -1.08374513, -1.07793241, -1.07215588,\n",
       "         -1.06641491, -1.06070888, -1.05503717, -1.0493992 , -1.04379439,\n",
       "         -1.03822218, -1.03268202, -1.02717338, -1.02169573, -1.01624857,\n",
       "         -1.0108314 , -1.00544372, -1.00008508, -0.994755  , -0.98945303,\n",
       "         -0.98417874, -0.97893168, -0.97371143, -0.96851758, -0.96334973,\n",
       "         -0.95820748, -0.95309045, -0.94799825, -0.94293051, -0.93788688,\n",
       "         -0.93286699, -0.9278705 , -0.92289706, -0.91794635, -0.91301804,\n",
       "         -0.90811181, -0.90322733, -0.89836431, -0.89352245, -0.88870144,\n",
       "         -0.883901  , -0.87912084, -0.87436068, -0.86962026, -0.8648993 ,\n",
       "         -0.86019753, -0.85551471, -0.85085057, -0.84620487, -0.84157736,\n",
       "         -0.8369678 , -0.83237595, -0.8278016 , -0.82324449, -0.81870442,\n",
       "         -0.81418116, -0.8096745 , -0.80518423, -0.80071013, -0.796252  ,\n",
       "         -0.79180964, -0.78738286, -0.78297144, -0.77857522, -0.77419399,\n",
       "         -0.76982757, -0.76547578, -0.76113843, -0.75681536, -0.75250639,\n",
       "         -0.74821135, -0.74393006, -0.73966236, -0.7354081 , -0.7311671 ,\n",
       "         -0.72693921, -0.72272428, -0.71852215, -0.71433267, -0.71015569,\n",
       "         -0.70599106, -0.70183864, -0.69769828, -0.69356986, -0.68945322,\n",
       "         -0.68534823, -0.68125476, -0.67717267, -0.67310183, -0.66904212,\n",
       "         -0.66499341, -0.66095557, -0.65692847, -0.652912  , -0.64890604,\n",
       "         -0.64491046, -0.64092515, -0.63694999, -0.63298488, -0.62902969,\n",
       "         -0.62508432, -0.62114865, -0.61722258, -0.61330601, -0.60939882,\n",
       "         -0.6055009 , -0.60161217, -0.59773252, -0.59386184, -0.59000003,\n",
       "         -0.58614701, -0.58230267, -0.57846691, -0.57463965, -0.57082078,\n",
       "         -0.56701023, -0.56320788, -0.55941367, -0.55562749, -0.55184925,\n",
       "         -0.54807888, -0.54431629, -0.54056138, -0.53681408, -0.53307431,\n",
       "         -0.52934197, -0.525617  , -0.5218993 , -0.5181888 , -0.51448542,\n",
       "         -0.51078909, -0.50709972, -0.50341724, -0.49974158, -0.49607265,\n",
       "         -0.49241039, -0.48875472, -0.48510558, -0.48146288, -0.47782656,\n",
       "         -0.47419654, -0.47057277, -0.46695516, -0.46334365, -0.45973818,\n",
       "         -0.45613867, -0.45254506, -0.44895729, -0.44537529, -0.44179899,\n",
       "         -0.43822834, -0.43466326, -0.4311037 , -0.42754959, -0.42400088,\n",
       "         -0.4204575 , -0.41691938, -0.41338648, -0.40985874, -0.40633608,\n",
       "         -0.40281846, -0.39930582, -0.3957981 , -0.39229524, -0.38879719,\n",
       "         -0.38530388, -0.38181528, -0.37833131, -0.37485194, -0.37137709,\n",
       "         -0.36790672, -0.36444078, -0.36097921, -0.35752196, -0.35406897,\n",
       "         -0.35062021, -0.34717561, -0.34373512, -0.3402987 , -0.33686629,\n",
       "         -0.33343785, -0.33001332, -0.32659265, -0.32317581, -0.31976273,\n",
       "         -0.31635337, -0.31294769, -0.30954563, -0.30614715, -0.30275221,\n",
       "         -0.29936075, -0.29597273, -0.2925881 , -0.28920682, -0.28582885,\n",
       "         -0.28245413, -0.27908263, -0.27571429, -0.27234909, -0.26898696,\n",
       "         -0.26562787, -0.26227178, -0.25891863, -0.2555684 , -0.25222103,\n",
       "         -0.24887649, -0.24553472, -0.2421957 , -0.23885938, -0.23552571,\n",
       "         -0.23219466, -0.22886618, -0.22554023, -0.22221678, -0.21889578,\n",
       "         -0.21557719, -0.21226098, -0.2089471 , -0.20563551, -0.20232618,\n",
       "         -0.19901906, -0.19571411, -0.1924113 , -0.18911059, -0.18581194,\n",
       "         -0.18251531, -0.17922066, -0.17592795, -0.17263715, -0.16934822,\n",
       "         -0.16606112, -0.16277582, -0.15949227, -0.15621043, -0.15293028,\n",
       "         -0.14965178, -0.14637488, -0.14309956, -0.13982576, -0.13655347,\n",
       "         -0.13328264, -0.13001323, -0.12674521, -0.12347855, -0.1202132 ,\n",
       "         -0.11694913, -0.11368631, -0.1104247 , -0.10716426, -0.10390496,\n",
       "         -0.10064677, -0.09738964, -0.09413355, -0.09087845, -0.08762432,\n",
       "         -0.08437111, -0.0811188 , -0.07786734, -0.07461671, -0.07136687,\n",
       "         -0.06811778, -0.06486941, -0.06162172, -0.05837468, -0.05512826,\n",
       "         -0.05188242, -0.04863712, -0.04539234, -0.04214804, -0.03890417,\n",
       "         -0.03566072, -0.03241765, -0.02917491, -0.02593248, -0.02269033,\n",
       "         -0.01944841, -0.01620669, -0.01296515, -0.00972374, -0.00648244,\n",
       "         -0.0032412 ,  0.        ,  0.0032412 ,  0.00648244,  0.00972374,\n",
       "          0.01296515,  0.01620669,  0.01944841,  0.02269033,  0.02593248,\n",
       "          0.02917491,  0.03241765,  0.03566072,  0.03890417,  0.04214804,\n",
       "          0.04539234,  0.04863712,  0.05188242,  0.05512826,  0.05837468,\n",
       "          0.06162172,  0.06486941,  0.06811778,  0.07136687,  0.07461671,\n",
       "          0.07786734,  0.0811188 ,  0.08437111,  0.08762432,  0.09087845,\n",
       "          0.09413355,  0.09738964,  0.10064677,  0.10390496,  0.10716426,\n",
       "          0.1104247 ,  0.11368631,  0.11694913,  0.1202132 ,  0.12347855,\n",
       "          0.12674521,  0.13001323,  0.13328264,  0.13655347,  0.13982576,\n",
       "          0.14309956,  0.14637488,  0.14965178,  0.15293028,  0.15621043,\n",
       "          0.15949227,  0.16277582,  0.16606112,  0.16934822,  0.17263715,\n",
       "          0.17592795,  0.17922066,  0.18251531,  0.18581194,  0.18911059,\n",
       "          0.1924113 ,  0.19571411,  0.19901906,  0.20232618,  0.20563551,\n",
       "          0.2089471 ,  0.21226098,  0.21557719,  0.21889578,  0.22221678,\n",
       "          0.22554023,  0.22886618,  0.23219466,  0.23552571,  0.23885938,\n",
       "          0.2421957 ,  0.24553472,  0.24887649,  0.25222103,  0.2555684 ,\n",
       "          0.25891863,  0.26227178,  0.26562787,  0.26898696,  0.27234909,\n",
       "          0.27571429,  0.27908263,  0.28245413,  0.28582885,  0.28920682,\n",
       "          0.2925881 ,  0.29597273,  0.29936075,  0.30275221,  0.30614715,\n",
       "          0.30954563,  0.31294769,  0.31635337,  0.31976273,  0.32317581,\n",
       "          0.32659265,  0.33001332,  0.33343785,  0.33686629,  0.3402987 ,\n",
       "          0.34373512,  0.34717561,  0.35062021,  0.35406897,  0.35752196,\n",
       "          0.36097921,  0.36444078,  0.36790672,  0.37137709,  0.37485194,\n",
       "          0.37833131,  0.38181528,  0.38530388,  0.38879719,  0.39229524,\n",
       "          0.3957981 ,  0.39930582,  0.40281846,  0.40633608,  0.40985874,\n",
       "          0.41338648,  0.41691938,  0.4204575 ,  0.42400088,  0.42754959,\n",
       "          0.4311037 ,  0.43466326,  0.43822834,  0.44179899,  0.44537529,\n",
       "          0.44895729,  0.45254506,  0.45613867,  0.45973818,  0.46334365,\n",
       "          0.46695516,  0.47057277,  0.47419654,  0.47782656,  0.48146288,\n",
       "          0.48510558,  0.48875472,  0.49241039,  0.49607265,  0.49974158,\n",
       "          0.50341724,  0.50709972,  0.51078909,  0.51448542,  0.5181888 ,\n",
       "          0.5218993 ,  0.525617  ,  0.52934197,  0.53307431,  0.53681408,\n",
       "          0.54056138,  0.54431629,  0.54807888,  0.55184925,  0.55562749,\n",
       "          0.55941367,  0.56320788,  0.56701023,  0.57082078,  0.57463965,\n",
       "          0.57846691,  0.58230267,  0.58614701,  0.59000003,  0.59386184,\n",
       "          0.59773252,  0.60161217,  0.6055009 ,  0.60939882,  0.61330601,\n",
       "          0.61722258,  0.62114865,  0.62508432,  0.62902969,  0.63298488,\n",
       "          0.63694999,  0.64092515,  0.64491046,  0.64890604,  0.652912  ,\n",
       "          0.65692847,  0.66095557,  0.66499341,  0.66904212,  0.67310183,\n",
       "          0.67717267,  0.68125476,  0.68534823,  0.68945322,  0.69356986,\n",
       "          0.69769828,  0.70183864,  0.70599106,  0.71015569,  0.71433267,\n",
       "          0.71852215,  0.72272428,  0.72693921,  0.7311671 ,  0.7354081 ,\n",
       "          0.73966236,  0.74393006,  0.74821135,  0.75250639,  0.75681536,\n",
       "          0.76113843,  0.76547578,  0.76982757,  0.77419399,  0.77857522,\n",
       "          0.78297144,  0.78738286,  0.79180964,  0.796252  ,  0.80071013,\n",
       "          0.80518423,  0.8096745 ,  0.81418116,  0.81870442,  0.82324449,\n",
       "          0.8278016 ,  0.83237595,  0.8369678 ,  0.84157736,  0.84620487,\n",
       "          0.85085057,  0.85551471,  0.86019753,  0.8648993 ,  0.86962026,\n",
       "          0.87436068,  0.87912084,  0.883901  ,  0.88870144,  0.89352245,\n",
       "          0.89836431,  0.90322733,  0.90811181,  0.91301804,  0.91794635,\n",
       "          0.92289706,  0.9278705 ,  0.93286699,  0.93788688,  0.94293051,\n",
       "          0.94799825,  0.95309045,  0.95820748,  0.96334973,  0.96851758,\n",
       "          0.97371143,  0.97893168,  0.98417874,  0.98945303,  0.994755  ,\n",
       "          1.00008508,  1.00544372,  1.0108314 ,  1.01624857,  1.02169573,\n",
       "          1.02717338,  1.03268202,  1.03822218,  1.04379439,  1.0493992 ,\n",
       "          1.05503717,  1.06070888,  1.06641491,  1.07215588,  1.07793241,\n",
       "          1.08374513,  1.0895947 ,  1.09548179,  1.1014071 ,  1.10737133,\n",
       "          1.11337521,  1.1194195 ,  1.12550497,  1.1316324 ,  1.13780262,\n",
       "          1.14401646,  1.15027479,  1.1565785 ,  1.16292851,  1.16932576,\n",
       "          1.17577123,  1.18226592,  1.18881086,  1.19540713,  1.20205582,\n",
       "          1.20875808,  1.21551508,  1.22232804,  1.22919822,  1.2361269 ,\n",
       "          1.24311544,  1.25016523,  1.25727771,  1.26445436,  1.27169673,\n",
       "          1.27900643,  1.28638512,  1.29383451,  1.30135641,  1.30895266,\n",
       "          1.3166252 ,  1.32437605,  1.33220728,  1.34012108,  1.34811971,\n",
       "          1.35620554,  1.36438101,  1.37264872,  1.38101133,  1.38947165,\n",
       "          1.39803261,  1.40669727,  1.41546885,  1.42435072,  1.43334639,\n",
       "          1.44245956,  1.45169414,  1.4610542 ,  1.47054404,  1.48016819,\n",
       "          1.48993143,  1.4998388 ,  1.50989561,  1.52010749,  1.5304804 ,\n",
       "          1.54102065,  1.55173494,  1.56263038,  1.57371454,  1.5849955 ,\n",
       "          1.59648185,  1.60818277,  1.62010812,  1.63226842,  1.644675  ,\n",
       "          1.65734002,  1.6702766 ,  1.68349892,  1.69702228,  1.71086332,\n",
       "          1.7250401 ,  1.73957231,  1.75448146,  1.76979112,  1.78552721,\n",
       "          1.80171828,  1.81839593,  1.83559526,  1.85335538,  1.8717201 ,\n",
       "          1.89073868,  1.91046682,  1.93096781,  1.95231403,  1.97458879,\n",
       "          1.99788867,  2.02232653,  2.04803542,  2.07517382,  2.1039326 ,\n",
       "          2.13454461,  2.16729818,  2.20255648,  2.24078627,  2.28260202,\n",
       "          2.32883665,  2.38066073,  2.43979696,  2.50893963,  2.59267337,\n",
       "          2.69984322,  2.85151707,  3.12260341]),\n",
       "  array([600, 600, 610, 610, 610, 610, 620, 620, 620, 620, 620, 620, 630,\n",
       "         630, 630, 640, 640, 640, 650, 650, 650, 650, 650, 650, 650, 650,\n",
       "         650, 650, 650, 650, 650, 650, 650, 650, 650, 660, 660, 660, 660,\n",
       "         660, 660, 660, 660, 660, 660, 660, 660, 660, 660, 660, 660, 660,\n",
       "         670, 670, 670, 670, 670, 670, 670, 670, 670, 670, 670, 670, 670,\n",
       "         680, 680, 680, 680, 680, 680, 680, 680, 680, 680, 680, 680, 680,\n",
       "         680, 680, 680, 680, 680, 680, 680, 680, 680, 680, 680, 680, 680,\n",
       "         680, 680, 680, 680, 680, 680, 680, 680, 680, 680, 680, 680, 680,\n",
       "         680, 680, 680, 680, 680, 680, 680, 680, 680, 680, 680, 680, 680,\n",
       "         680, 680, 690, 690, 690, 690, 690, 690, 690, 690, 690, 690, 690,\n",
       "         690, 690, 690, 690, 690, 690, 690, 690, 690, 690, 690, 690, 690,\n",
       "         690, 690, 690, 690, 690, 690, 690, 690, 690, 690, 690, 690, 690,\n",
       "         690, 690, 690, 690, 690, 690, 690, 690, 690, 690, 690, 690, 690,\n",
       "         690, 690, 690, 690, 690, 690, 690, 690, 690, 690, 690, 690, 690,\n",
       "         690, 690, 690, 690, 690, 690, 690, 690, 690, 690, 690, 690, 690,\n",
       "         690, 690, 700, 700, 700, 700, 700, 700, 700, 700, 700, 700, 700,\n",
       "         700, 700, 700, 700, 700, 700, 700, 700, 700, 700, 700, 700, 700,\n",
       "         700, 700, 700, 700, 700, 700, 700, 700, 700, 700, 700, 700, 700,\n",
       "         700, 700, 700, 700, 700, 700, 700, 700, 700, 700, 700, 700, 700,\n",
       "         700, 700, 700, 700, 700, 700, 700, 700, 700, 700, 700, 700, 700,\n",
       "         700, 700, 710, 710, 710, 710, 710, 710, 710, 710, 710, 710, 710,\n",
       "         710, 710, 710, 710, 710, 710, 710, 710, 710, 710, 710, 710, 710,\n",
       "         710, 710, 710, 710, 710, 710, 710, 710, 710, 710, 710, 710, 710,\n",
       "         710, 710, 710, 710, 710, 710, 710, 710, 710, 710, 710, 710, 710,\n",
       "         710, 710, 710, 710, 710, 710, 710, 710, 710, 710, 710, 710, 710,\n",
       "         710, 710, 710, 710, 710, 710, 710, 710, 710, 710, 710, 710, 710,\n",
       "         710, 710, 710, 710, 710, 710, 710, 710, 710, 710, 710, 710, 710,\n",
       "         710, 710, 710, 710, 710, 710, 710, 710, 710, 710, 710, 710, 710,\n",
       "         710, 710, 710, 710, 710, 710, 710, 710, 710, 710, 710, 710, 710,\n",
       "         710, 710, 710, 710, 710, 710, 710, 710, 710, 710, 710, 710, 710,\n",
       "         710, 710, 710, 710, 710, 710, 710, 710, 710, 710, 710, 710, 710,\n",
       "         710, 710, 710, 710, 710, 710, 710, 710, 710, 710, 710, 710, 710,\n",
       "         710, 710, 710, 710, 710, 710, 710, 710, 710, 710, 710, 710, 710,\n",
       "         710, 710, 710, 710, 710, 710, 710, 710, 710, 710, 710, 720, 720,\n",
       "         720, 720, 720, 720, 720, 720, 720, 720, 720, 720, 720, 720, 720,\n",
       "         720, 720, 720, 720, 720, 720, 720, 720, 720, 720, 720, 720, 720,\n",
       "         720, 720, 720, 720, 720, 720, 720, 720, 720, 720, 720, 720, 720,\n",
       "         720, 720, 720, 720, 720, 720, 720, 720, 720, 720, 720, 720, 720,\n",
       "         720, 720, 720, 720, 720, 720, 720, 720, 720, 720, 720, 720, 720,\n",
       "         720, 720, 720, 720, 720, 720, 720, 720, 720, 720, 720, 720, 720,\n",
       "         720, 720, 720, 720, 720, 720, 720, 720, 720, 720, 720, 720, 720,\n",
       "         720, 720, 720, 720, 720, 720, 720, 720, 720, 720, 720, 730, 730,\n",
       "         730, 730, 730, 730, 730, 730, 730, 730, 730, 730, 730, 730, 730,\n",
       "         730, 730, 730, 730, 730, 730, 730, 730, 730, 730, 730, 730, 730,\n",
       "         730, 730, 730, 730, 730, 730, 730, 730, 730, 730, 730, 730, 730,\n",
       "         730, 730, 730, 730, 730, 730, 730, 730, 730, 730, 730, 730, 730,\n",
       "         730, 730, 730, 730, 730, 730, 730, 730, 730, 730, 730, 730, 730,\n",
       "         730, 730, 730, 730, 730, 730, 730, 730, 730, 740, 740, 740, 740,\n",
       "         740, 740, 740, 740, 740, 740, 740, 740, 740, 740, 740, 740, 740,\n",
       "         740, 740, 740, 740, 740, 740, 740, 740, 740, 740, 740, 740, 740,\n",
       "         740, 740, 740, 740, 740, 740, 740, 740, 740, 740, 740, 740, 740,\n",
       "         740, 740, 740, 740, 740, 740, 740, 740, 740, 740, 740, 740, 740,\n",
       "         740, 740, 740, 740, 740, 740, 740, 740, 740, 740, 740, 750, 750,\n",
       "         750, 750, 750, 750, 750, 750, 750, 750, 750, 750, 750, 750, 750,\n",
       "         750, 750, 750, 750, 750, 750, 750, 750, 750, 750, 750, 750, 750,\n",
       "         750, 750, 750, 750, 750, 750, 750, 760, 760, 760, 760, 760, 760,\n",
       "         760, 760, 760, 760, 760, 760, 760, 760, 760, 760, 760, 760, 760,\n",
       "         760, 760, 760, 760, 760, 760, 760, 760, 760, 760, 760, 760, 760,\n",
       "         770, 770, 770, 770, 770, 770, 770, 770, 770, 770, 770, 770, 770,\n",
       "         770, 770, 770, 770, 780, 780], dtype=int64)),\n",
       " (28.850523939327235, 711.1642949547219, 0.9805385708242976))"
      ]
     },
     "execution_count": 658,
     "metadata": {},
     "output_type": "execute_result"
    },
    {
     "data": {
      "image/png": "[encoded data removed]",
      "text/plain": [
       "<Figure size 432x288 with 1 Axes>"
      ]
     },
     "metadata": {
      "needs_background": "light"
     },
     "output_type": "display_data"
    }
   ],
   "source": [
    "import scipy.stats as stats\n",
    "import pylab\n",
    "# Checking Whether data is normally distributed\n",
    "stats.probplot(education.gmat, dist=\"norm\", plot=pylab)"
   ]
  },
  {
   "cell_type": "code",
   "execution_count": 659,
   "id": "b827534f",
   "metadata": {
    "scrolled": false
   },
   "outputs": [
    {
     "data": {
      "text/plain": [
       "((array([-3.12260341, -2.85151707, -2.69984322, -2.59267337, -2.50893963,\n",
       "         -2.43979696, -2.38066073, -2.32883665, -2.28260202, -2.24078627,\n",
       "         -2.20255648, -2.16729818, -2.13454461, -2.1039326 , -2.07517382,\n",
       "         -2.04803542, -2.02232653, -1.99788867, -1.97458879, -1.95231403,\n",
       "         -1.93096781, -1.91046682, -1.89073868, -1.8717201 , -1.85335538,\n",
       "         -1.83559526, -1.81839593, -1.80171828, -1.78552721, -1.76979112,\n",
       "         -1.75448146, -1.73957231, -1.7250401 , -1.71086332, -1.69702228,\n",
       "         -1.68349892, -1.6702766 , -1.65734002, -1.644675  , -1.63226842,\n",
       "         -1.62010812, -1.60818277, -1.59648185, -1.5849955 , -1.57371454,\n",
       "         -1.56263038, -1.55173494, -1.54102065, -1.5304804 , -1.52010749,\n",
       "         -1.50989561, -1.4998388 , -1.48993143, -1.48016819, -1.47054404,\n",
       "         -1.4610542 , -1.45169414, -1.44245956, -1.43334639, -1.42435072,\n",
       "         -1.41546885, -1.40669727, -1.39803261, -1.38947165, -1.38101133,\n",
       "         -1.37264872, -1.36438101, -1.35620554, -1.34811971, -1.34012108,\n",
       "         -1.33220728, -1.32437605, -1.3166252 , -1.30895266, -1.30135641,\n",
       "         -1.29383451, -1.28638512, -1.27900643, -1.27169673, -1.26445436,\n",
       "         -1.25727771, -1.25016523, -1.24311544, -1.2361269 , -1.22919822,\n",
       "         -1.22232804, -1.21551508, -1.20875808, -1.20205582, -1.19540713,\n",
       "         -1.18881086, -1.18226592, -1.17577123, -1.16932576, -1.16292851,\n",
       "         -1.1565785 , -1.15027479, -1.14401646, -1.13780262, -1.1316324 ,\n",
       "         -1.12550497, -1.1194195 , -1.11337521, -1.10737133, -1.1014071 ,\n",
       "         -1.09548179, -1.0895947 , -1.08374513, -1.07793241, -1.07215588,\n",
       "         -1.06641491, -1.06070888, -1.05503717, -1.0493992 , -1.04379439,\n",
       "         -1.03822218, -1.03268202, -1.02717338, -1.02169573, -1.01624857,\n",
       "         -1.0108314 , -1.00544372, -1.00008508, -0.994755  , -0.98945303,\n",
       "         -0.98417874, -0.97893168, -0.97371143, -0.96851758, -0.96334973,\n",
       "         -0.95820748, -0.95309045, -0.94799825, -0.94293051, -0.93788688,\n",
       "         -0.93286699, -0.9278705 , -0.92289706, -0.91794635, -0.91301804,\n",
       "         -0.90811181, -0.90322733, -0.89836431, -0.89352245, -0.88870144,\n",
       "         -0.883901  , -0.87912084, -0.87436068, -0.86962026, -0.8648993 ,\n",
       "         -0.86019753, -0.85551471, -0.85085057, -0.84620487, -0.84157736,\n",
       "         -0.8369678 , -0.83237595, -0.8278016 , -0.82324449, -0.81870442,\n",
       "         -0.81418116, -0.8096745 , -0.80518423, -0.80071013, -0.796252  ,\n",
       "         -0.79180964, -0.78738286, -0.78297144, -0.77857522, -0.77419399,\n",
       "         -0.76982757, -0.76547578, -0.76113843, -0.75681536, -0.75250639,\n",
       "         -0.74821135, -0.74393006, -0.73966236, -0.7354081 , -0.7311671 ,\n",
       "         -0.72693921, -0.72272428, -0.71852215, -0.71433267, -0.71015569,\n",
       "         -0.70599106, -0.70183864, -0.69769828, -0.69356986, -0.68945322,\n",
       "         -0.68534823, -0.68125476, -0.67717267, -0.67310183, -0.66904212,\n",
       "         -0.66499341, -0.66095557, -0.65692847, -0.652912  , -0.64890604,\n",
       "         -0.64491046, -0.64092515, -0.63694999, -0.63298488, -0.62902969,\n",
       "         -0.62508432, -0.62114865, -0.61722258, -0.61330601, -0.60939882,\n",
       "         -0.6055009 , -0.60161217, -0.59773252, -0.59386184, -0.59000003,\n",
       "         -0.58614701, -0.58230267, -0.57846691, -0.57463965, -0.57082078,\n",
       "         -0.56701023, -0.56320788, -0.55941367, -0.55562749, -0.55184925,\n",
       "         -0.54807888, -0.54431629, -0.54056138, -0.53681408, -0.53307431,\n",
       "         -0.52934197, -0.525617  , -0.5218993 , -0.5181888 , -0.51448542,\n",
       "         -0.51078909, -0.50709972, -0.50341724, -0.49974158, -0.49607265,\n",
       "         -0.49241039, -0.48875472, -0.48510558, -0.48146288, -0.47782656,\n",
       "         -0.47419654, -0.47057277, -0.46695516, -0.46334365, -0.45973818,\n",
       "         -0.45613867, -0.45254506, -0.44895729, -0.44537529, -0.44179899,\n",
       "         -0.43822834, -0.43466326, -0.4311037 , -0.42754959, -0.42400088,\n",
       "         -0.4204575 , -0.41691938, -0.41338648, -0.40985874, -0.40633608,\n",
       "         -0.40281846, -0.39930582, -0.3957981 , -0.39229524, -0.38879719,\n",
       "         -0.38530388, -0.38181528, -0.37833131, -0.37485194, -0.37137709,\n",
       "         -0.36790672, -0.36444078, -0.36097921, -0.35752196, -0.35406897,\n",
       "         -0.35062021, -0.34717561, -0.34373512, -0.3402987 , -0.33686629,\n",
       "         -0.33343785, -0.33001332, -0.32659265, -0.32317581, -0.31976273,\n",
       "         -0.31635337, -0.31294769, -0.30954563, -0.30614715, -0.30275221,\n",
       "         -0.29936075, -0.29597273, -0.2925881 , -0.28920682, -0.28582885,\n",
       "         -0.28245413, -0.27908263, -0.27571429, -0.27234909, -0.26898696,\n",
       "         -0.26562787, -0.26227178, -0.25891863, -0.2555684 , -0.25222103,\n",
       "         -0.24887649, -0.24553472, -0.2421957 , -0.23885938, -0.23552571,\n",
       "         -0.23219466, -0.22886618, -0.22554023, -0.22221678, -0.21889578,\n",
       "         -0.21557719, -0.21226098, -0.2089471 , -0.20563551, -0.20232618,\n",
       "         -0.19901906, -0.19571411, -0.1924113 , -0.18911059, -0.18581194,\n",
       "         -0.18251531, -0.17922066, -0.17592795, -0.17263715, -0.16934822,\n",
       "         -0.16606112, -0.16277582, -0.15949227, -0.15621043, -0.15293028,\n",
       "         -0.14965178, -0.14637488, -0.14309956, -0.13982576, -0.13655347,\n",
       "         -0.13328264, -0.13001323, -0.12674521, -0.12347855, -0.1202132 ,\n",
       "         -0.11694913, -0.11368631, -0.1104247 , -0.10716426, -0.10390496,\n",
       "         -0.10064677, -0.09738964, -0.09413355, -0.09087845, -0.08762432,\n",
       "         -0.08437111, -0.0811188 , -0.07786734, -0.07461671, -0.07136687,\n",
       "         -0.06811778, -0.06486941, -0.06162172, -0.05837468, -0.05512826,\n",
       "         -0.05188242, -0.04863712, -0.04539234, -0.04214804, -0.03890417,\n",
       "         -0.03566072, -0.03241765, -0.02917491, -0.02593248, -0.02269033,\n",
       "         -0.01944841, -0.01620669, -0.01296515, -0.00972374, -0.00648244,\n",
       "         -0.0032412 ,  0.        ,  0.0032412 ,  0.00648244,  0.00972374,\n",
       "          0.01296515,  0.01620669,  0.01944841,  0.02269033,  0.02593248,\n",
       "          0.02917491,  0.03241765,  0.03566072,  0.03890417,  0.04214804,\n",
       "          0.04539234,  0.04863712,  0.05188242,  0.05512826,  0.05837468,\n",
       "          0.06162172,  0.06486941,  0.06811778,  0.07136687,  0.07461671,\n",
       "          0.07786734,  0.0811188 ,  0.08437111,  0.08762432,  0.09087845,\n",
       "          0.09413355,  0.09738964,  0.10064677,  0.10390496,  0.10716426,\n",
       "          0.1104247 ,  0.11368631,  0.11694913,  0.1202132 ,  0.12347855,\n",
       "          0.12674521,  0.13001323,  0.13328264,  0.13655347,  0.13982576,\n",
       "          0.14309956,  0.14637488,  0.14965178,  0.15293028,  0.15621043,\n",
       "          0.15949227,  0.16277582,  0.16606112,  0.16934822,  0.17263715,\n",
       "          0.17592795,  0.17922066,  0.18251531,  0.18581194,  0.18911059,\n",
       "          0.1924113 ,  0.19571411,  0.19901906,  0.20232618,  0.20563551,\n",
       "          0.2089471 ,  0.21226098,  0.21557719,  0.21889578,  0.22221678,\n",
       "          0.22554023,  0.22886618,  0.23219466,  0.23552571,  0.23885938,\n",
       "          0.2421957 ,  0.24553472,  0.24887649,  0.25222103,  0.2555684 ,\n",
       "          0.25891863,  0.26227178,  0.26562787,  0.26898696,  0.27234909,\n",
       "          0.27571429,  0.27908263,  0.28245413,  0.28582885,  0.28920682,\n",
       "          0.2925881 ,  0.29597273,  0.29936075,  0.30275221,  0.30614715,\n",
       "          0.30954563,  0.31294769,  0.31635337,  0.31976273,  0.32317581,\n",
       "          0.32659265,  0.33001332,  0.33343785,  0.33686629,  0.3402987 ,\n",
       "          0.34373512,  0.34717561,  0.35062021,  0.35406897,  0.35752196,\n",
       "          0.36097921,  0.36444078,  0.36790672,  0.37137709,  0.37485194,\n",
       "          0.37833131,  0.38181528,  0.38530388,  0.38879719,  0.39229524,\n",
       "          0.3957981 ,  0.39930582,  0.40281846,  0.40633608,  0.40985874,\n",
       "          0.41338648,  0.41691938,  0.4204575 ,  0.42400088,  0.42754959,\n",
       "          0.4311037 ,  0.43466326,  0.43822834,  0.44179899,  0.44537529,\n",
       "          0.44895729,  0.45254506,  0.45613867,  0.45973818,  0.46334365,\n",
       "          0.46695516,  0.47057277,  0.47419654,  0.47782656,  0.48146288,\n",
       "          0.48510558,  0.48875472,  0.49241039,  0.49607265,  0.49974158,\n",
       "          0.50341724,  0.50709972,  0.51078909,  0.51448542,  0.5181888 ,\n",
       "          0.5218993 ,  0.525617  ,  0.52934197,  0.53307431,  0.53681408,\n",
       "          0.54056138,  0.54431629,  0.54807888,  0.55184925,  0.55562749,\n",
       "          0.55941367,  0.56320788,  0.56701023,  0.57082078,  0.57463965,\n",
       "          0.57846691,  0.58230267,  0.58614701,  0.59000003,  0.59386184,\n",
       "          0.59773252,  0.60161217,  0.6055009 ,  0.60939882,  0.61330601,\n",
       "          0.61722258,  0.62114865,  0.62508432,  0.62902969,  0.63298488,\n",
       "          0.63694999,  0.64092515,  0.64491046,  0.64890604,  0.652912  ,\n",
       "          0.65692847,  0.66095557,  0.66499341,  0.66904212,  0.67310183,\n",
       "          0.67717267,  0.68125476,  0.68534823,  0.68945322,  0.69356986,\n",
       "          0.69769828,  0.70183864,  0.70599106,  0.71015569,  0.71433267,\n",
       "          0.71852215,  0.72272428,  0.72693921,  0.7311671 ,  0.7354081 ,\n",
       "          0.73966236,  0.74393006,  0.74821135,  0.75250639,  0.75681536,\n",
       "          0.76113843,  0.76547578,  0.76982757,  0.77419399,  0.77857522,\n",
       "          0.78297144,  0.78738286,  0.79180964,  0.796252  ,  0.80071013,\n",
       "          0.80518423,  0.8096745 ,  0.81418116,  0.81870442,  0.82324449,\n",
       "          0.8278016 ,  0.83237595,  0.8369678 ,  0.84157736,  0.84620487,\n",
       "          0.85085057,  0.85551471,  0.86019753,  0.8648993 ,  0.86962026,\n",
       "          0.87436068,  0.87912084,  0.883901  ,  0.88870144,  0.89352245,\n",
       "          0.89836431,  0.90322733,  0.90811181,  0.91301804,  0.91794635,\n",
       "          0.92289706,  0.9278705 ,  0.93286699,  0.93788688,  0.94293051,\n",
       "          0.94799825,  0.95309045,  0.95820748,  0.96334973,  0.96851758,\n",
       "          0.97371143,  0.97893168,  0.98417874,  0.98945303,  0.994755  ,\n",
       "          1.00008508,  1.00544372,  1.0108314 ,  1.01624857,  1.02169573,\n",
       "          1.02717338,  1.03268202,  1.03822218,  1.04379439,  1.0493992 ,\n",
       "          1.05503717,  1.06070888,  1.06641491,  1.07215588,  1.07793241,\n",
       "          1.08374513,  1.0895947 ,  1.09548179,  1.1014071 ,  1.10737133,\n",
       "          1.11337521,  1.1194195 ,  1.12550497,  1.1316324 ,  1.13780262,\n",
       "          1.14401646,  1.15027479,  1.1565785 ,  1.16292851,  1.16932576,\n",
       "          1.17577123,  1.18226592,  1.18881086,  1.19540713,  1.20205582,\n",
       "          1.20875808,  1.21551508,  1.22232804,  1.22919822,  1.2361269 ,\n",
       "          1.24311544,  1.25016523,  1.25727771,  1.26445436,  1.27169673,\n",
       "          1.27900643,  1.28638512,  1.29383451,  1.30135641,  1.30895266,\n",
       "          1.3166252 ,  1.32437605,  1.33220728,  1.34012108,  1.34811971,\n",
       "          1.35620554,  1.36438101,  1.37264872,  1.38101133,  1.38947165,\n",
       "          1.39803261,  1.40669727,  1.41546885,  1.42435072,  1.43334639,\n",
       "          1.44245956,  1.45169414,  1.4610542 ,  1.47054404,  1.48016819,\n",
       "          1.48993143,  1.4998388 ,  1.50989561,  1.52010749,  1.5304804 ,\n",
       "          1.54102065,  1.55173494,  1.56263038,  1.57371454,  1.5849955 ,\n",
       "          1.59648185,  1.60818277,  1.62010812,  1.63226842,  1.644675  ,\n",
       "          1.65734002,  1.6702766 ,  1.68349892,  1.69702228,  1.71086332,\n",
       "          1.7250401 ,  1.73957231,  1.75448146,  1.76979112,  1.78552721,\n",
       "          1.80171828,  1.81839593,  1.83559526,  1.85335538,  1.8717201 ,\n",
       "          1.89073868,  1.91046682,  1.93096781,  1.95231403,  1.97458879,\n",
       "          1.99788867,  2.02232653,  2.04803542,  2.07517382,  2.1039326 ,\n",
       "          2.13454461,  2.16729818,  2.20255648,  2.24078627,  2.28260202,\n",
       "          2.32883665,  2.38066073,  2.43979696,  2.50893963,  2.59267337,\n",
       "          2.69984322,  2.85151707,  3.12260341]),\n",
       "  array([  9,  10,  19,  20,  20,  20,  21,  21,  21,  22,  22,  22,  22,\n",
       "          23,  23,  24,  24,  25,  25,  27,  27,  28,  28,  28,  28,  29,\n",
       "          29,  29,  29,  29,  29,  29,  30,  30,  30,  30,  30,  30,  30,\n",
       "          31,  31,  31,  31,  31,  31,  31,  32,  32,  32,  32,  32,  32,\n",
       "          32,  32,  32,  32,  32,  32,  32,  32,  32,  32,  32,  32,  32,\n",
       "          32,  32,  33,  33,  33,  33,  33,  33,  33,  33,  33,  33,  33,\n",
       "          33,  33,  33,  33,  33,  33,  33,  33,  33,  33,  33,  33,  33,\n",
       "          33,  33,  33,  33,  33,  33,  33,  33,  33,  33,  33,  33,  33,\n",
       "          33,  33,  33,  33,  33,  33,  33,  34,  34,  34,  34,  34,  34,\n",
       "          34,  34,  34,  34,  34,  34,  34,  34,  34,  34,  34,  34,  34,\n",
       "          34,  34,  34,  34,  34,  34,  34,  34,  34,  34,  34,  34,  34,\n",
       "          34,  34,  34,  34,  34,  34,  34,  35,  35,  35,  35,  35,  35,\n",
       "          36,  36,  36,  36,  37,  37,  37,  37,  37,  37,  38,  38,  38,\n",
       "          38,  38,  38,  38,  38,  39,  39,  39,  39,  39,  39,  40,  40,\n",
       "          40,  40,  40,  40,  40,  40,  40,  41,  41,  41,  41,  41,  41,\n",
       "          41,  42,  42,  42,  42,  42,  42,  42,  42,  43,  43,  43,  43,\n",
       "          43,  43,  43,  43,  43,  43,  43,  43,  43,  43,  43,  43,  43,\n",
       "          43,  43,  43,  43,  44,  44,  44,  44,  44,  44,  44,  44,  44,\n",
       "          44,  44,  44,  44,  44,  44,  44,  44,  44,  44,  44,  44,  44,\n",
       "          44,  44,  44,  44,  44,  44,  44,  44,  44,  44,  44,  44,  44,\n",
       "          44,  44,  44,  44,  44,  44,  45,  45,  45,  45,  45,  45,  45,\n",
       "          45,  45,  45,  45,  45,  45,  45,  45,  45,  45,  45,  45,  45,\n",
       "          45,  45,  45,  45,  45,  45,  45,  45,  45,  45,  45,  45,  45,\n",
       "          45,  45,  45,  45,  45,  45,  45,  45,  45,  45,  45,  45,  45,\n",
       "          45,  45,  45,  45,  45,  45,  45,  45,  45,  45,  45,  45,  45,\n",
       "          45,  46,  46,  46,  46,  46,  46,  46,  46,  46,  46,  46,  46,\n",
       "          46,  46,  46,  46,  46,  46,  46,  46,  46,  46,  46,  46,  46,\n",
       "          46,  46,  46,  46,  46,  46,  46,  47,  47,  47,  47,  47,  47,\n",
       "          47,  48,  48,  48,  48,  48,  49,  49,  49,  49,  50,  50,  50,\n",
       "          50,  50,  50,  50,  51,  51,  51,  52,  52,  52,  52,  52,  52,\n",
       "          52,  53,  53,  53,  53,  53,  53,  53,  53,  53,  54,  54,  54,\n",
       "          54,  54,  54,  54,  54,  55,  55,  55,  55,  55,  55,  55,  55,\n",
       "          55,  55,  55,  55,  56,  56,  56,  56,  56,  56,  56,  56,  56,\n",
       "          56,  56,  56,  56,  56,  56,  56,  56,  56,  56,  56,  57,  57,\n",
       "          57,  57,  57,  57,  57,  57,  57,  57,  57,  57,  57,  57,  57,\n",
       "          57,  57,  57,  57,  57,  57,  57,  57,  57,  57,  57,  57,  57,\n",
       "          57,  57,  57,  57,  57,  57,  57,  57,  57,  57,  57,  57,  57,\n",
       "          57,  58,  58,  58,  58,  58,  58,  58,  58,  58,  58,  58,  58,\n",
       "          58,  58,  58,  58,  58,  58,  58,  58,  58,  58,  58,  58,  58,\n",
       "          58,  58,  58,  58,  59,  59,  59,  59,  59,  59,  60,  60,  61,\n",
       "          61,  62,  62,  62,  63,  63,  64,  64,  64,  65,  65,  66,  66,\n",
       "          66,  66,  66,  66,  67,  67,  68,  68,  68,  68,  68,  68,  68,\n",
       "          68,  68,  68,  68,  68,  68,  68,  68,  68,  68,  68,  68,  69,\n",
       "          69,  69,  69,  69,  69,  69,  69,  69,  69,  69,  69,  69,  69,\n",
       "          69,  69,  69,  69,  69,  69,  69,  69,  69,  69,  69,  69,  69,\n",
       "          69,  69,  69,  69,  69,  69,  69,  69,  69,  69,  69,  69,  69,\n",
       "          69,  70,  70,  70,  70,  70,  70,  70,  70,  70,  70,  70,  70,\n",
       "          70,  70,  70,  70,  70,  71,  71,  71,  71,  72,  72,  72,  72,\n",
       "          72,  73,  74,  74,  74,  75,  77,  77,  77,  77,  78,  78,  78,\n",
       "          79,  79,  79,  79,  79,  79,  79,  79,  79,  80,  80,  80,  80,\n",
       "          80,  80,  80,  81,  81,  81,  81,  81,  81,  81,  81,  81,  81,\n",
       "          81,  81,  81,  81,  82,  82,  82,  82,  82,  82,  82,  82,  82,\n",
       "          82,  82,  82,  82,  83,  83,  83,  84,  85,  85,  86,  86,  86,\n",
       "          87,  88,  88,  89,  89,  89,  89,  90,  90,  90,  91,  91,  91,\n",
       "          91,  91,  92,  92,  92,  92,  92,  92,  92,  92,  92,  93,  93,\n",
       "          93,  93,  93,  93,  93,  94,  94,  94,  94,  95,  96,  98,  99,\n",
       "          99, 100, 101, 103, 103, 105, 105, 106, 106, 107, 109, 109, 110,\n",
       "         111, 112, 116, 116, 117, 118, 118, 119, 122, 124, 125, 126, 128,\n",
       "         130, 130, 130, 130, 131, 131, 131, 132, 132, 136, 141, 142, 143,\n",
       "         175, 176, 208, 231, 268, 279], dtype=int64)),\n",
       " (24.70445662554617, 57.501940491591206, 0.8994987448059084))"
      ]
     },
     "execution_count": 659,
     "metadata": {},
     "output_type": "execute_result"
    },
    {
     "data": {
      "image/png": "[encoded data removed]",
      "text/plain": [
       "<Figure size 432x288 with 1 Axes>"
      ]
     },
     "metadata": {
      "needs_background": "light"
     },
     "output_type": "display_data"
    }
   ],
   "source": [
    "#comparing quantiles of education.workex with normal quantiles\n",
    "stats.probplot(education.workex, dist=\"norm\", plot=pylab)"
   ]
  },
  {
   "cell_type": "markdown",
   "id": "367bdf18",
   "metadata": {},
   "source": [
    "observe that education.workex is not normally distributed"
   ]
  },
  {
   "cell_type": "markdown",
   "id": "c9e3aea4",
   "metadata": {},
   "source": [
    "#### Tranform to normal distribution"
   ]
  },
  {
   "cell_type": "code",
   "execution_count": 660,
   "id": "b422b85b",
   "metadata": {
    "scrolled": false
   },
   "outputs": [
    {
     "data": {
      "text/plain": [
       "((array([-3.12260341, -2.85151707, -2.69984322, -2.59267337, -2.50893963,\n",
       "         -2.43979696, -2.38066073, -2.32883665, -2.28260202, -2.24078627,\n",
       "         -2.20255648, -2.16729818, -2.13454461, -2.1039326 , -2.07517382,\n",
       "         -2.04803542, -2.02232653, -1.99788867, -1.97458879, -1.95231403,\n",
       "         -1.93096781, -1.91046682, -1.89073868, -1.8717201 , -1.85335538,\n",
       "         -1.83559526, -1.81839593, -1.80171828, -1.78552721, -1.76979112,\n",
       "         -1.75448146, -1.73957231, -1.7250401 , -1.71086332, -1.69702228,\n",
       "         -1.68349892, -1.6702766 , -1.65734002, -1.644675  , -1.63226842,\n",
       "         -1.62010812, -1.60818277, -1.59648185, -1.5849955 , -1.57371454,\n",
       "         -1.56263038, -1.55173494, -1.54102065, -1.5304804 , -1.52010749,\n",
       "         -1.50989561, -1.4998388 , -1.48993143, -1.48016819, -1.47054404,\n",
       "         -1.4610542 , -1.45169414, -1.44245956, -1.43334639, -1.42435072,\n",
       "         -1.41546885, -1.40669727, -1.39803261, -1.38947165, -1.38101133,\n",
       "         -1.37264872, -1.36438101, -1.35620554, -1.34811971, -1.34012108,\n",
       "         -1.33220728, -1.32437605, -1.3166252 , -1.30895266, -1.30135641,\n",
       "         -1.29383451, -1.28638512, -1.27900643, -1.27169673, -1.26445436,\n",
       "         -1.25727771, -1.25016523, -1.24311544, -1.2361269 , -1.22919822,\n",
       "         -1.22232804, -1.21551508, -1.20875808, -1.20205582, -1.19540713,\n",
       "         -1.18881086, -1.18226592, -1.17577123, -1.16932576, -1.16292851,\n",
       "         -1.1565785 , -1.15027479, -1.14401646, -1.13780262, -1.1316324 ,\n",
       "         -1.12550497, -1.1194195 , -1.11337521, -1.10737133, -1.1014071 ,\n",
       "         -1.09548179, -1.0895947 , -1.08374513, -1.07793241, -1.07215588,\n",
       "         -1.06641491, -1.06070888, -1.05503717, -1.0493992 , -1.04379439,\n",
       "         -1.03822218, -1.03268202, -1.02717338, -1.02169573, -1.01624857,\n",
       "         -1.0108314 , -1.00544372, -1.00008508, -0.994755  , -0.98945303,\n",
       "         -0.98417874, -0.97893168, -0.97371143, -0.96851758, -0.96334973,\n",
       "         -0.95820748, -0.95309045, -0.94799825, -0.94293051, -0.93788688,\n",
       "         -0.93286699, -0.9278705 , -0.92289706, -0.91794635, -0.91301804,\n",
       "         -0.90811181, -0.90322733, -0.89836431, -0.89352245, -0.88870144,\n",
       "         -0.883901  , -0.87912084, -0.87436068, -0.86962026, -0.8648993 ,\n",
       "         -0.86019753, -0.85551471, -0.85085057, -0.84620487, -0.84157736,\n",
       "         -0.8369678 , -0.83237595, -0.8278016 , -0.82324449, -0.81870442,\n",
       "         -0.81418116, -0.8096745 , -0.80518423, -0.80071013, -0.796252  ,\n",
       "         -0.79180964, -0.78738286, -0.78297144, -0.77857522, -0.77419399,\n",
       "         -0.76982757, -0.76547578, -0.76113843, -0.75681536, -0.75250639,\n",
       "         -0.74821135, -0.74393006, -0.73966236, -0.7354081 , -0.7311671 ,\n",
       "         -0.72693921, -0.72272428, -0.71852215, -0.71433267, -0.71015569,\n",
       "         -0.70599106, -0.70183864, -0.69769828, -0.69356986, -0.68945322,\n",
       "         -0.68534823, -0.68125476, -0.67717267, -0.67310183, -0.66904212,\n",
       "         -0.66499341, -0.66095557, -0.65692847, -0.652912  , -0.64890604,\n",
       "         -0.64491046, -0.64092515, -0.63694999, -0.63298488, -0.62902969,\n",
       "         -0.62508432, -0.62114865, -0.61722258, -0.61330601, -0.60939882,\n",
       "         -0.6055009 , -0.60161217, -0.59773252, -0.59386184, -0.59000003,\n",
       "         -0.58614701, -0.58230267, -0.57846691, -0.57463965, -0.57082078,\n",
       "         -0.56701023, -0.56320788, -0.55941367, -0.55562749, -0.55184925,\n",
       "         -0.54807888, -0.54431629, -0.54056138, -0.53681408, -0.53307431,\n",
       "         -0.52934197, -0.525617  , -0.5218993 , -0.5181888 , -0.51448542,\n",
       "         -0.51078909, -0.50709972, -0.50341724, -0.49974158, -0.49607265,\n",
       "         -0.49241039, -0.48875472, -0.48510558, -0.48146288, -0.47782656,\n",
       "         -0.47419654, -0.47057277, -0.46695516, -0.46334365, -0.45973818,\n",
       "         -0.45613867, -0.45254506, -0.44895729, -0.44537529, -0.44179899,\n",
       "         -0.43822834, -0.43466326, -0.4311037 , -0.42754959, -0.42400088,\n",
       "         -0.4204575 , -0.41691938, -0.41338648, -0.40985874, -0.40633608,\n",
       "         -0.40281846, -0.39930582, -0.3957981 , -0.39229524, -0.38879719,\n",
       "         -0.38530388, -0.38181528, -0.37833131, -0.37485194, -0.37137709,\n",
       "         -0.36790672, -0.36444078, -0.36097921, -0.35752196, -0.35406897,\n",
       "         -0.35062021, -0.34717561, -0.34373512, -0.3402987 , -0.33686629,\n",
       "         -0.33343785, -0.33001332, -0.32659265, -0.32317581, -0.31976273,\n",
       "         -0.31635337, -0.31294769, -0.30954563, -0.30614715, -0.30275221,\n",
       "         -0.29936075, -0.29597273, -0.2925881 , -0.28920682, -0.28582885,\n",
       "         -0.28245413, -0.27908263, -0.27571429, -0.27234909, -0.26898696,\n",
       "         -0.26562787, -0.26227178, -0.25891863, -0.2555684 , -0.25222103,\n",
       "         -0.24887649, -0.24553472, -0.2421957 , -0.23885938, -0.23552571,\n",
       "         -0.23219466, -0.22886618, -0.22554023, -0.22221678, -0.21889578,\n",
       "         -0.21557719, -0.21226098, -0.2089471 , -0.20563551, -0.20232618,\n",
       "         -0.19901906, -0.19571411, -0.1924113 , -0.18911059, -0.18581194,\n",
       "         -0.18251531, -0.17922066, -0.17592795, -0.17263715, -0.16934822,\n",
       "         -0.16606112, -0.16277582, -0.15949227, -0.15621043, -0.15293028,\n",
       "         -0.14965178, -0.14637488, -0.14309956, -0.13982576, -0.13655347,\n",
       "         -0.13328264, -0.13001323, -0.12674521, -0.12347855, -0.1202132 ,\n",
       "         -0.11694913, -0.11368631, -0.1104247 , -0.10716426, -0.10390496,\n",
       "         -0.10064677, -0.09738964, -0.09413355, -0.09087845, -0.08762432,\n",
       "         -0.08437111, -0.0811188 , -0.07786734, -0.07461671, -0.07136687,\n",
       "         -0.06811778, -0.06486941, -0.06162172, -0.05837468, -0.05512826,\n",
       "         -0.05188242, -0.04863712, -0.04539234, -0.04214804, -0.03890417,\n",
       "         -0.03566072, -0.03241765, -0.02917491, -0.02593248, -0.02269033,\n",
       "         -0.01944841, -0.01620669, -0.01296515, -0.00972374, -0.00648244,\n",
       "         -0.0032412 ,  0.        ,  0.0032412 ,  0.00648244,  0.00972374,\n",
       "          0.01296515,  0.01620669,  0.01944841,  0.02269033,  0.02593248,\n",
       "          0.02917491,  0.03241765,  0.03566072,  0.03890417,  0.04214804,\n",
       "          0.04539234,  0.04863712,  0.05188242,  0.05512826,  0.05837468,\n",
       "          0.06162172,  0.06486941,  0.06811778,  0.07136687,  0.07461671,\n",
       "          0.07786734,  0.0811188 ,  0.08437111,  0.08762432,  0.09087845,\n",
       "          0.09413355,  0.09738964,  0.10064677,  0.10390496,  0.10716426,\n",
       "          0.1104247 ,  0.11368631,  0.11694913,  0.1202132 ,  0.12347855,\n",
       "          0.12674521,  0.13001323,  0.13328264,  0.13655347,  0.13982576,\n",
       "          0.14309956,  0.14637488,  0.14965178,  0.15293028,  0.15621043,\n",
       "          0.15949227,  0.16277582,  0.16606112,  0.16934822,  0.17263715,\n",
       "          0.17592795,  0.17922066,  0.18251531,  0.18581194,  0.18911059,\n",
       "          0.1924113 ,  0.19571411,  0.19901906,  0.20232618,  0.20563551,\n",
       "          0.2089471 ,  0.21226098,  0.21557719,  0.21889578,  0.22221678,\n",
       "          0.22554023,  0.22886618,  0.23219466,  0.23552571,  0.23885938,\n",
       "          0.2421957 ,  0.24553472,  0.24887649,  0.25222103,  0.2555684 ,\n",
       "          0.25891863,  0.26227178,  0.26562787,  0.26898696,  0.27234909,\n",
       "          0.27571429,  0.27908263,  0.28245413,  0.28582885,  0.28920682,\n",
       "          0.2925881 ,  0.29597273,  0.29936075,  0.30275221,  0.30614715,\n",
       "          0.30954563,  0.31294769,  0.31635337,  0.31976273,  0.32317581,\n",
       "          0.32659265,  0.33001332,  0.33343785,  0.33686629,  0.3402987 ,\n",
       "          0.34373512,  0.34717561,  0.35062021,  0.35406897,  0.35752196,\n",
       "          0.36097921,  0.36444078,  0.36790672,  0.37137709,  0.37485194,\n",
       "          0.37833131,  0.38181528,  0.38530388,  0.38879719,  0.39229524,\n",
       "          0.3957981 ,  0.39930582,  0.40281846,  0.40633608,  0.40985874,\n",
       "          0.41338648,  0.41691938,  0.4204575 ,  0.42400088,  0.42754959,\n",
       "          0.4311037 ,  0.43466326,  0.43822834,  0.44179899,  0.44537529,\n",
       "          0.44895729,  0.45254506,  0.45613867,  0.45973818,  0.46334365,\n",
       "          0.46695516,  0.47057277,  0.47419654,  0.47782656,  0.48146288,\n",
       "          0.48510558,  0.48875472,  0.49241039,  0.49607265,  0.49974158,\n",
       "          0.50341724,  0.50709972,  0.51078909,  0.51448542,  0.5181888 ,\n",
       "          0.5218993 ,  0.525617  ,  0.52934197,  0.53307431,  0.53681408,\n",
       "          0.54056138,  0.54431629,  0.54807888,  0.55184925,  0.55562749,\n",
       "          0.55941367,  0.56320788,  0.56701023,  0.57082078,  0.57463965,\n",
       "          0.57846691,  0.58230267,  0.58614701,  0.59000003,  0.59386184,\n",
       "          0.59773252,  0.60161217,  0.6055009 ,  0.60939882,  0.61330601,\n",
       "          0.61722258,  0.62114865,  0.62508432,  0.62902969,  0.63298488,\n",
       "          0.63694999,  0.64092515,  0.64491046,  0.64890604,  0.652912  ,\n",
       "          0.65692847,  0.66095557,  0.66499341,  0.66904212,  0.67310183,\n",
       "          0.67717267,  0.68125476,  0.68534823,  0.68945322,  0.69356986,\n",
       "          0.69769828,  0.70183864,  0.70599106,  0.71015569,  0.71433267,\n",
       "          0.71852215,  0.72272428,  0.72693921,  0.7311671 ,  0.7354081 ,\n",
       "          0.73966236,  0.74393006,  0.74821135,  0.75250639,  0.75681536,\n",
       "          0.76113843,  0.76547578,  0.76982757,  0.77419399,  0.77857522,\n",
       "          0.78297144,  0.78738286,  0.79180964,  0.796252  ,  0.80071013,\n",
       "          0.80518423,  0.8096745 ,  0.81418116,  0.81870442,  0.82324449,\n",
       "          0.8278016 ,  0.83237595,  0.8369678 ,  0.84157736,  0.84620487,\n",
       "          0.85085057,  0.85551471,  0.86019753,  0.8648993 ,  0.86962026,\n",
       "          0.87436068,  0.87912084,  0.883901  ,  0.88870144,  0.89352245,\n",
       "          0.89836431,  0.90322733,  0.90811181,  0.91301804,  0.91794635,\n",
       "          0.92289706,  0.9278705 ,  0.93286699,  0.93788688,  0.94293051,\n",
       "          0.94799825,  0.95309045,  0.95820748,  0.96334973,  0.96851758,\n",
       "          0.97371143,  0.97893168,  0.98417874,  0.98945303,  0.994755  ,\n",
       "          1.00008508,  1.00544372,  1.0108314 ,  1.01624857,  1.02169573,\n",
       "          1.02717338,  1.03268202,  1.03822218,  1.04379439,  1.0493992 ,\n",
       "          1.05503717,  1.06070888,  1.06641491,  1.07215588,  1.07793241,\n",
       "          1.08374513,  1.0895947 ,  1.09548179,  1.1014071 ,  1.10737133,\n",
       "          1.11337521,  1.1194195 ,  1.12550497,  1.1316324 ,  1.13780262,\n",
       "          1.14401646,  1.15027479,  1.1565785 ,  1.16292851,  1.16932576,\n",
       "          1.17577123,  1.18226592,  1.18881086,  1.19540713,  1.20205582,\n",
       "          1.20875808,  1.21551508,  1.22232804,  1.22919822,  1.2361269 ,\n",
       "          1.24311544,  1.25016523,  1.25727771,  1.26445436,  1.27169673,\n",
       "          1.27900643,  1.28638512,  1.29383451,  1.30135641,  1.30895266,\n",
       "          1.3166252 ,  1.32437605,  1.33220728,  1.34012108,  1.34811971,\n",
       "          1.35620554,  1.36438101,  1.37264872,  1.38101133,  1.38947165,\n",
       "          1.39803261,  1.40669727,  1.41546885,  1.42435072,  1.43334639,\n",
       "          1.44245956,  1.45169414,  1.4610542 ,  1.47054404,  1.48016819,\n",
       "          1.48993143,  1.4998388 ,  1.50989561,  1.52010749,  1.5304804 ,\n",
       "          1.54102065,  1.55173494,  1.56263038,  1.57371454,  1.5849955 ,\n",
       "          1.59648185,  1.60818277,  1.62010812,  1.63226842,  1.644675  ,\n",
       "          1.65734002,  1.6702766 ,  1.68349892,  1.69702228,  1.71086332,\n",
       "          1.7250401 ,  1.73957231,  1.75448146,  1.76979112,  1.78552721,\n",
       "          1.80171828,  1.81839593,  1.83559526,  1.85335538,  1.8717201 ,\n",
       "          1.89073868,  1.91046682,  1.93096781,  1.95231403,  1.97458879,\n",
       "          1.99788867,  2.02232653,  2.04803542,  2.07517382,  2.1039326 ,\n",
       "          2.13454461,  2.16729818,  2.20255648,  2.24078627,  2.28260202,\n",
       "          2.32883665,  2.38066073,  2.43979696,  2.50893963,  2.59267337,\n",
       "          2.69984322,  2.85151707,  3.12260341]),\n",
       "  array([2.19722458, 2.30258509, 2.94443898, 2.99573227, 2.99573227,\n",
       "         2.99573227, 3.04452244, 3.04452244, 3.04452244, 3.09104245,\n",
       "         3.09104245, 3.09104245, 3.09104245, 3.13549422, 3.13549422,\n",
       "         3.17805383, 3.17805383, 3.21887582, 3.21887582, 3.29583687,\n",
       "         3.29583687, 3.33220451, 3.33220451, 3.33220451, 3.33220451,\n",
       "         3.36729583, 3.36729583, 3.36729583, 3.36729583, 3.36729583,\n",
       "         3.36729583, 3.36729583, 3.40119738, 3.40119738, 3.40119738,\n",
       "         3.40119738, 3.40119738, 3.40119738, 3.40119738, 3.4339872 ,\n",
       "         3.4339872 , 3.4339872 , 3.4339872 , 3.4339872 , 3.4339872 ,\n",
       "         3.4339872 , 3.4657359 , 3.4657359 , 3.4657359 , 3.4657359 ,\n",
       "         3.4657359 , 3.4657359 , 3.4657359 , 3.4657359 , 3.4657359 ,\n",
       "         3.4657359 , 3.4657359 , 3.4657359 , 3.4657359 , 3.4657359 ,\n",
       "         3.4657359 , 3.4657359 , 3.4657359 , 3.4657359 , 3.4657359 ,\n",
       "         3.4657359 , 3.4657359 , 3.49650756, 3.49650756, 3.49650756,\n",
       "         3.49650756, 3.49650756, 3.49650756, 3.49650756, 3.49650756,\n",
       "         3.49650756, 3.49650756, 3.49650756, 3.49650756, 3.49650756,\n",
       "         3.49650756, 3.49650756, 3.49650756, 3.49650756, 3.49650756,\n",
       "         3.49650756, 3.49650756, 3.49650756, 3.49650756, 3.49650756,\n",
       "         3.49650756, 3.49650756, 3.49650756, 3.49650756, 3.49650756,\n",
       "         3.49650756, 3.49650756, 3.49650756, 3.49650756, 3.49650756,\n",
       "         3.49650756, 3.49650756, 3.49650756, 3.49650756, 3.49650756,\n",
       "         3.49650756, 3.49650756, 3.49650756, 3.49650756, 3.49650756,\n",
       "         3.49650756, 3.52636052, 3.52636052, 3.52636052, 3.52636052,\n",
       "         3.52636052, 3.52636052, 3.52636052, 3.52636052, 3.52636052,\n",
       "         3.52636052, 3.52636052, 3.52636052, 3.52636052, 3.52636052,\n",
       "         3.52636052, 3.52636052, 3.52636052, 3.52636052, 3.52636052,\n",
       "         3.52636052, 3.52636052, 3.52636052, 3.52636052, 3.52636052,\n",
       "         3.52636052, 3.52636052, 3.52636052, 3.52636052, 3.52636052,\n",
       "         3.52636052, 3.52636052, 3.52636052, 3.52636052, 3.52636052,\n",
       "         3.52636052, 3.52636052, 3.52636052, 3.52636052, 3.52636052,\n",
       "         3.55534806, 3.55534806, 3.55534806, 3.55534806, 3.55534806,\n",
       "         3.55534806, 3.58351894, 3.58351894, 3.58351894, 3.58351894,\n",
       "         3.61091791, 3.61091791, 3.61091791, 3.61091791, 3.61091791,\n",
       "         3.61091791, 3.63758616, 3.63758616, 3.63758616, 3.63758616,\n",
       "         3.63758616, 3.63758616, 3.63758616, 3.63758616, 3.66356165,\n",
       "         3.66356165, 3.66356165, 3.66356165, 3.66356165, 3.66356165,\n",
       "         3.68887945, 3.68887945, 3.68887945, 3.68887945, 3.68887945,\n",
       "         3.68887945, 3.68887945, 3.68887945, 3.68887945, 3.71357207,\n",
       "         3.71357207, 3.71357207, 3.71357207, 3.71357207, 3.71357207,\n",
       "         3.71357207, 3.73766962, 3.73766962, 3.73766962, 3.73766962,\n",
       "         3.73766962, 3.73766962, 3.73766962, 3.73766962, 3.76120012,\n",
       "         3.76120012, 3.76120012, 3.76120012, 3.76120012, 3.76120012,\n",
       "         3.76120012, 3.76120012, 3.76120012, 3.76120012, 3.76120012,\n",
       "         3.76120012, 3.76120012, 3.76120012, 3.76120012, 3.76120012,\n",
       "         3.76120012, 3.76120012, 3.76120012, 3.76120012, 3.76120012,\n",
       "         3.78418963, 3.78418963, 3.78418963, 3.78418963, 3.78418963,\n",
       "         3.78418963, 3.78418963, 3.78418963, 3.78418963, 3.78418963,\n",
       "         3.78418963, 3.78418963, 3.78418963, 3.78418963, 3.78418963,\n",
       "         3.78418963, 3.78418963, 3.78418963, 3.78418963, 3.78418963,\n",
       "         3.78418963, 3.78418963, 3.78418963, 3.78418963, 3.78418963,\n",
       "         3.78418963, 3.78418963, 3.78418963, 3.78418963, 3.78418963,\n",
       "         3.78418963, 3.78418963, 3.78418963, 3.78418963, 3.78418963,\n",
       "         3.78418963, 3.78418963, 3.78418963, 3.78418963, 3.78418963,\n",
       "         3.78418963, 3.80666249, 3.80666249, 3.80666249, 3.80666249,\n",
       "         3.80666249, 3.80666249, 3.80666249, 3.80666249, 3.80666249,\n",
       "         3.80666249, 3.80666249, 3.80666249, 3.80666249, 3.80666249,\n",
       "         3.80666249, 3.80666249, 3.80666249, 3.80666249, 3.80666249,\n",
       "         3.80666249, 3.80666249, 3.80666249, 3.80666249, 3.80666249,\n",
       "         3.80666249, 3.80666249, 3.80666249, 3.80666249, 3.80666249,\n",
       "         3.80666249, 3.80666249, 3.80666249, 3.80666249, 3.80666249,\n",
       "         3.80666249, 3.80666249, 3.80666249, 3.80666249, 3.80666249,\n",
       "         3.80666249, 3.80666249, 3.80666249, 3.80666249, 3.80666249,\n",
       "         3.80666249, 3.80666249, 3.80666249, 3.80666249, 3.80666249,\n",
       "         3.80666249, 3.80666249, 3.80666249, 3.80666249, 3.80666249,\n",
       "         3.80666249, 3.80666249, 3.80666249, 3.80666249, 3.80666249,\n",
       "         3.80666249, 3.8286414 , 3.8286414 , 3.8286414 , 3.8286414 ,\n",
       "         3.8286414 , 3.8286414 , 3.8286414 , 3.8286414 , 3.8286414 ,\n",
       "         3.8286414 , 3.8286414 , 3.8286414 , 3.8286414 , 3.8286414 ,\n",
       "         3.8286414 , 3.8286414 , 3.8286414 , 3.8286414 , 3.8286414 ,\n",
       "         3.8286414 , 3.8286414 , 3.8286414 , 3.8286414 , 3.8286414 ,\n",
       "         3.8286414 , 3.8286414 , 3.8286414 , 3.8286414 , 3.8286414 ,\n",
       "         3.8286414 , 3.8286414 , 3.8286414 , 3.8501476 , 3.8501476 ,\n",
       "         3.8501476 , 3.8501476 , 3.8501476 , 3.8501476 , 3.8501476 ,\n",
       "         3.87120101, 3.87120101, 3.87120101, 3.87120101, 3.87120101,\n",
       "         3.8918203 , 3.8918203 , 3.8918203 , 3.8918203 , 3.91202301,\n",
       "         3.91202301, 3.91202301, 3.91202301, 3.91202301, 3.91202301,\n",
       "         3.91202301, 3.93182563, 3.93182563, 3.93182563, 3.95124372,\n",
       "         3.95124372, 3.95124372, 3.95124372, 3.95124372, 3.95124372,\n",
       "         3.95124372, 3.97029191, 3.97029191, 3.97029191, 3.97029191,\n",
       "         3.97029191, 3.97029191, 3.97029191, 3.97029191, 3.97029191,\n",
       "         3.98898405, 3.98898405, 3.98898405, 3.98898405, 3.98898405,\n",
       "         3.98898405, 3.98898405, 3.98898405, 4.00733319, 4.00733319,\n",
       "         4.00733319, 4.00733319, 4.00733319, 4.00733319, 4.00733319,\n",
       "         4.00733319, 4.00733319, 4.00733319, 4.00733319, 4.00733319,\n",
       "         4.02535169, 4.02535169, 4.02535169, 4.02535169, 4.02535169,\n",
       "         4.02535169, 4.02535169, 4.02535169, 4.02535169, 4.02535169,\n",
       "         4.02535169, 4.02535169, 4.02535169, 4.02535169, 4.02535169,\n",
       "         4.02535169, 4.02535169, 4.02535169, 4.02535169, 4.02535169,\n",
       "         4.04305127, 4.04305127, 4.04305127, 4.04305127, 4.04305127,\n",
       "         4.04305127, 4.04305127, 4.04305127, 4.04305127, 4.04305127,\n",
       "         4.04305127, 4.04305127, 4.04305127, 4.04305127, 4.04305127,\n",
       "         4.04305127, 4.04305127, 4.04305127, 4.04305127, 4.04305127,\n",
       "         4.04305127, 4.04305127, 4.04305127, 4.04305127, 4.04305127,\n",
       "         4.04305127, 4.04305127, 4.04305127, 4.04305127, 4.04305127,\n",
       "         4.04305127, 4.04305127, 4.04305127, 4.04305127, 4.04305127,\n",
       "         4.04305127, 4.04305127, 4.04305127, 4.04305127, 4.04305127,\n",
       "         4.04305127, 4.04305127, 4.06044301, 4.06044301, 4.06044301,\n",
       "         4.06044301, 4.06044301, 4.06044301, 4.06044301, 4.06044301,\n",
       "         4.06044301, 4.06044301, 4.06044301, 4.06044301, 4.06044301,\n",
       "         4.06044301, 4.06044301, 4.06044301, 4.06044301, 4.06044301,\n",
       "         4.06044301, 4.06044301, 4.06044301, 4.06044301, 4.06044301,\n",
       "         4.06044301, 4.06044301, 4.06044301, 4.06044301, 4.06044301,\n",
       "         4.06044301, 4.07753744, 4.07753744, 4.07753744, 4.07753744,\n",
       "         4.07753744, 4.07753744, 4.09434456, 4.09434456, 4.11087386,\n",
       "         4.11087386, 4.12713439, 4.12713439, 4.12713439, 4.14313473,\n",
       "         4.14313473, 4.15888308, 4.15888308, 4.15888308, 4.17438727,\n",
       "         4.17438727, 4.18965474, 4.18965474, 4.18965474, 4.18965474,\n",
       "         4.18965474, 4.18965474, 4.20469262, 4.20469262, 4.21950771,\n",
       "         4.21950771, 4.21950771, 4.21950771, 4.21950771, 4.21950771,\n",
       "         4.21950771, 4.21950771, 4.21950771, 4.21950771, 4.21950771,\n",
       "         4.21950771, 4.21950771, 4.21950771, 4.21950771, 4.21950771,\n",
       "         4.21950771, 4.21950771, 4.21950771, 4.2341065 , 4.2341065 ,\n",
       "         4.2341065 , 4.2341065 , 4.2341065 , 4.2341065 , 4.2341065 ,\n",
       "         4.2341065 , 4.2341065 , 4.2341065 , 4.2341065 , 4.2341065 ,\n",
       "         4.2341065 , 4.2341065 , 4.2341065 , 4.2341065 , 4.2341065 ,\n",
       "         4.2341065 , 4.2341065 , 4.2341065 , 4.2341065 , 4.2341065 ,\n",
       "         4.2341065 , 4.2341065 , 4.2341065 , 4.2341065 , 4.2341065 ,\n",
       "         4.2341065 , 4.2341065 , 4.2341065 , 4.2341065 , 4.2341065 ,\n",
       "         4.2341065 , 4.2341065 , 4.2341065 , 4.2341065 , 4.2341065 ,\n",
       "         4.2341065 , 4.2341065 , 4.2341065 , 4.2341065 , 4.24849524,\n",
       "         4.24849524, 4.24849524, 4.24849524, 4.24849524, 4.24849524,\n",
       "         4.24849524, 4.24849524, 4.24849524, 4.24849524, 4.24849524,\n",
       "         4.24849524, 4.24849524, 4.24849524, 4.24849524, 4.24849524,\n",
       "         4.24849524, 4.26267988, 4.26267988, 4.26267988, 4.26267988,\n",
       "         4.27666612, 4.27666612, 4.27666612, 4.27666612, 4.27666612,\n",
       "         4.29045944, 4.30406509, 4.30406509, 4.30406509, 4.31748811,\n",
       "         4.34380542, 4.34380542, 4.34380542, 4.34380542, 4.35670883,\n",
       "         4.35670883, 4.35670883, 4.36944785, 4.36944785, 4.36944785,\n",
       "         4.36944785, 4.36944785, 4.36944785, 4.36944785, 4.36944785,\n",
       "         4.36944785, 4.38202663, 4.38202663, 4.38202663, 4.38202663,\n",
       "         4.38202663, 4.38202663, 4.38202663, 4.39444915, 4.39444915,\n",
       "         4.39444915, 4.39444915, 4.39444915, 4.39444915, 4.39444915,\n",
       "         4.39444915, 4.39444915, 4.39444915, 4.39444915, 4.39444915,\n",
       "         4.39444915, 4.39444915, 4.40671925, 4.40671925, 4.40671925,\n",
       "         4.40671925, 4.40671925, 4.40671925, 4.40671925, 4.40671925,\n",
       "         4.40671925, 4.40671925, 4.40671925, 4.40671925, 4.40671925,\n",
       "         4.41884061, 4.41884061, 4.41884061, 4.4308168 , 4.44265126,\n",
       "         4.44265126, 4.4543473 , 4.4543473 , 4.4543473 , 4.46590812,\n",
       "         4.47733681, 4.47733681, 4.48863637, 4.48863637, 4.48863637,\n",
       "         4.48863637, 4.49980967, 4.49980967, 4.49980967, 4.51085951,\n",
       "         4.51085951, 4.51085951, 4.51085951, 4.51085951, 4.52178858,\n",
       "         4.52178858, 4.52178858, 4.52178858, 4.52178858, 4.52178858,\n",
       "         4.52178858, 4.52178858, 4.52178858, 4.53259949, 4.53259949,\n",
       "         4.53259949, 4.53259949, 4.53259949, 4.53259949, 4.53259949,\n",
       "         4.54329478, 4.54329478, 4.54329478, 4.54329478, 4.55387689,\n",
       "         4.56434819, 4.58496748, 4.59511985, 4.59511985, 4.60517019,\n",
       "         4.61512052, 4.63472899, 4.63472899, 4.65396035, 4.65396035,\n",
       "         4.66343909, 4.66343909, 4.67282883, 4.69134788, 4.69134788,\n",
       "         4.70048037, 4.7095302 , 4.71849887, 4.75359019, 4.75359019,\n",
       "         4.76217393, 4.77068462, 4.77068462, 4.77912349, 4.80402104,\n",
       "         4.82028157, 4.82831374, 4.83628191, 4.85203026, 4.86753445,\n",
       "         4.86753445, 4.86753445, 4.86753445, 4.87519732, 4.87519732,\n",
       "         4.87519732, 4.88280192, 4.88280192, 4.91265489, 4.94875989,\n",
       "         4.95582706, 4.96284463, 5.16478597, 5.170484  , 5.33753808,\n",
       "         5.44241771, 5.59098698, 5.63121178])),\n",
       " (0.4075063546694173, 3.963201462522061, 0.9887574208341396))"
      ]
     },
     "execution_count": 660,
     "metadata": {},
     "output_type": "execute_result"
    },
    {
     "data": {
      "image/png": "[encoded data removed]",
      "text/plain": [
       "<Figure size 432x288 with 1 Axes>"
      ]
     },
     "metadata": {
      "needs_background": "light"
     },
     "output_type": "display_data"
    }
   ],
   "source": [
    "import numpy as np\n",
    "\n",
    "# Transformation to make workex variable normal\n",
    "stats.probplot(np.log(education.workex), dist=\"norm\", plot=pylab)"
   ]
  },
  {
   "cell_type": "markdown",
   "id": "6fd7fa78",
   "metadata": {},
   "source": [
    "## Data Preprocessing"
   ]
  },
  {
   "cell_type": "markdown",
   "id": "ae4c5cc5",
   "metadata": {},
   "source": [
    "It is the process of cleaning, structuring and enriching raw data into desired format for better decision making"
   ]
  },
  {
   "cell_type": "markdown",
   "id": "f37fda85",
   "metadata": {},
   "source": [
    "### Zero Variance/Static columns"
   ]
  },
  {
   "cell_type": "markdown",
   "id": "31963ff7",
   "metadata": {},
   "source": [
    "Two approaches:\n",
    "1) Columns with same value for all observations are not useful as predictors.a zero variance column will always have exactly one    distinct value. get columns with one unique value.  \n",
    "2) If the variance is low or close to zero, then a feature is approximately constant and will not improve the performance of the    model. These zero variance predictors can be removed.  \n",
    "\n",
    "**Feature selection** techniques prune away nonuseful features in order to reduce the complexity of the resulting model. The end goal is a parsimonious model that is quicker to compute, with little or no degradation in predictive accuracy."
   ]
  },
  {
   "cell_type": "markdown",
   "id": "8cab5492",
   "metadata": {},
   "source": [
    "#### nunique"
   ]
  },
  {
   "cell_type": "markdown",
   "id": "a6b32456",
   "metadata": {},
   "source": [
    "1) Columns with same value for all observations are not useful as predictors.a zero variance column will always have exactly one    distinct value. get columns with one unique value. "
   ]
  },
  {
   "cell_type": "code",
   "execution_count": 333,
   "id": "26cee0bf",
   "metadata": {},
   "outputs": [],
   "source": [
    "#load data\n",
    "oil_data = pd.read_csv(\"C:/D/personal/Development/360/02- EDA/Datasets_EDA (1)/oil-spill.csv\")"
   ]
  },
  {
   "cell_type": "code",
   "execution_count": 334,
   "id": "dc227304",
   "metadata": {},
   "outputs": [
    {
     "data": {
      "text/plain": [
       "(937, 50)"
      ]
     },
     "execution_count": 334,
     "metadata": {},
     "output_type": "execute_result"
    }
   ],
   "source": [
    "oil_data.shape"
   ]
  },
  {
   "cell_type": "code",
   "execution_count": 335,
   "id": "c8a3ec0d",
   "metadata": {},
   "outputs": [
    {
     "data": {
      "text/html": [
       "<div>\n",
       "<style scoped>\n",
       "    .dataframe tbody tr th:only-of-type {\n",
       "        vertical-align: middle;\n",
       "    }\n",
       "\n",
       "    .dataframe tbody tr th {\n",
       "        vertical-align: top;\n",
       "    }\n",
       "\n",
       "    .dataframe thead th {\n",
       "        text-align: right;\n",
       "    }\n",
       "</style>\n",
       "<table border=\"1\" class=\"dataframe\">\n",
       "  <thead>\n",
       "    <tr style=\"text-align: right;\">\n",
       "      <th></th>\n",
       "      <th>A1</th>\n",
       "      <th>A2</th>\n",
       "      <th>A3</th>\n",
       "      <th>A4</th>\n",
       "      <th>A5</th>\n",
       "      <th>A6</th>\n",
       "      <th>A7</th>\n",
       "      <th>A8</th>\n",
       "      <th>A9</th>\n",
       "      <th>A10</th>\n",
       "      <th>...</th>\n",
       "      <th>A41</th>\n",
       "      <th>A42</th>\n",
       "      <th>A43</th>\n",
       "      <th>A44</th>\n",
       "      <th>A45</th>\n",
       "      <th>A46</th>\n",
       "      <th>A47</th>\n",
       "      <th>A48</th>\n",
       "      <th>A49</th>\n",
       "      <th>A50</th>\n",
       "    </tr>\n",
       "  </thead>\n",
       "  <tbody>\n",
       "    <tr>\n",
       "      <th>0</th>\n",
       "      <td>1</td>\n",
       "      <td>2558</td>\n",
       "      <td>1506.09</td>\n",
       "      <td>456.63</td>\n",
       "      <td>90</td>\n",
       "      <td>6395000.0</td>\n",
       "      <td>40.88</td>\n",
       "      <td>7.89</td>\n",
       "      <td>29780.0</td>\n",
       "      <td>0.19</td>\n",
       "      <td>...</td>\n",
       "      <td>2850.00</td>\n",
       "      <td>1000.00</td>\n",
       "      <td>763.16</td>\n",
       "      <td>135.46</td>\n",
       "      <td>3.73</td>\n",
       "      <td>0</td>\n",
       "      <td>33243.19</td>\n",
       "      <td>65.74</td>\n",
       "      <td>7.95</td>\n",
       "      <td>1</td>\n",
       "    </tr>\n",
       "    <tr>\n",
       "      <th>1</th>\n",
       "      <td>2</td>\n",
       "      <td>22325</td>\n",
       "      <td>79.11</td>\n",
       "      <td>841.03</td>\n",
       "      <td>180</td>\n",
       "      <td>55812500.0</td>\n",
       "      <td>51.11</td>\n",
       "      <td>1.21</td>\n",
       "      <td>61900.0</td>\n",
       "      <td>0.02</td>\n",
       "      <td>...</td>\n",
       "      <td>5750.00</td>\n",
       "      <td>11500.00</td>\n",
       "      <td>9593.48</td>\n",
       "      <td>1648.80</td>\n",
       "      <td>0.60</td>\n",
       "      <td>0</td>\n",
       "      <td>51572.04</td>\n",
       "      <td>65.73</td>\n",
       "      <td>6.26</td>\n",
       "      <td>0</td>\n",
       "    </tr>\n",
       "    <tr>\n",
       "      <th>2</th>\n",
       "      <td>3</td>\n",
       "      <td>115</td>\n",
       "      <td>1449.85</td>\n",
       "      <td>608.43</td>\n",
       "      <td>88</td>\n",
       "      <td>287500.0</td>\n",
       "      <td>40.42</td>\n",
       "      <td>7.34</td>\n",
       "      <td>3340.0</td>\n",
       "      <td>0.18</td>\n",
       "      <td>...</td>\n",
       "      <td>1400.00</td>\n",
       "      <td>250.00</td>\n",
       "      <td>150.00</td>\n",
       "      <td>45.13</td>\n",
       "      <td>9.33</td>\n",
       "      <td>1</td>\n",
       "      <td>31692.84</td>\n",
       "      <td>65.81</td>\n",
       "      <td>7.84</td>\n",
       "      <td>1</td>\n",
       "    </tr>\n",
       "    <tr>\n",
       "      <th>3</th>\n",
       "      <td>4</td>\n",
       "      <td>1201</td>\n",
       "      <td>1562.53</td>\n",
       "      <td>295.65</td>\n",
       "      <td>66</td>\n",
       "      <td>3002500.0</td>\n",
       "      <td>42.40</td>\n",
       "      <td>7.97</td>\n",
       "      <td>18030.0</td>\n",
       "      <td>0.19</td>\n",
       "      <td>...</td>\n",
       "      <td>6041.52</td>\n",
       "      <td>761.58</td>\n",
       "      <td>453.21</td>\n",
       "      <td>144.97</td>\n",
       "      <td>13.33</td>\n",
       "      <td>1</td>\n",
       "      <td>37696.21</td>\n",
       "      <td>65.67</td>\n",
       "      <td>8.07</td>\n",
       "      <td>1</td>\n",
       "    </tr>\n",
       "    <tr>\n",
       "      <th>4</th>\n",
       "      <td>5</td>\n",
       "      <td>312</td>\n",
       "      <td>950.27</td>\n",
       "      <td>440.86</td>\n",
       "      <td>37</td>\n",
       "      <td>780000.0</td>\n",
       "      <td>41.43</td>\n",
       "      <td>7.03</td>\n",
       "      <td>3350.0</td>\n",
       "      <td>0.17</td>\n",
       "      <td>...</td>\n",
       "      <td>1320.04</td>\n",
       "      <td>710.63</td>\n",
       "      <td>512.54</td>\n",
       "      <td>109.16</td>\n",
       "      <td>2.58</td>\n",
       "      <td>0</td>\n",
       "      <td>29038.17</td>\n",
       "      <td>65.66</td>\n",
       "      <td>7.35</td>\n",
       "      <td>0</td>\n",
       "    </tr>\n",
       "  </tbody>\n",
       "</table>\n",
       "<p>5 rows × 50 columns</p>\n",
       "</div>"
      ],
      "text/plain": [
       "   A1     A2       A3      A4   A5          A6     A7    A8       A9   A10  \\\n",
       "0   1   2558  1506.09  456.63   90   6395000.0  40.88  7.89  29780.0  0.19   \n",
       "1   2  22325    79.11  841.03  180  55812500.0  51.11  1.21  61900.0  0.02   \n",
       "2   3    115  1449.85  608.43   88    287500.0  40.42  7.34   3340.0  0.18   \n",
       "3   4   1201  1562.53  295.65   66   3002500.0  42.40  7.97  18030.0  0.19   \n",
       "4   5    312   950.27  440.86   37    780000.0  41.43  7.03   3350.0  0.17   \n",
       "\n",
       "   ...      A41       A42      A43      A44    A45  A46       A47    A48  \\\n",
       "0  ...  2850.00   1000.00   763.16   135.46   3.73    0  33243.19  65.74   \n",
       "1  ...  5750.00  11500.00  9593.48  1648.80   0.60    0  51572.04  65.73   \n",
       "2  ...  1400.00    250.00   150.00    45.13   9.33    1  31692.84  65.81   \n",
       "3  ...  6041.52    761.58   453.21   144.97  13.33    1  37696.21  65.67   \n",
       "4  ...  1320.04    710.63   512.54   109.16   2.58    0  29038.17  65.66   \n",
       "\n",
       "    A49  A50  \n",
       "0  7.95    1  \n",
       "1  6.26    0  \n",
       "2  7.84    1  \n",
       "3  8.07    1  \n",
       "4  7.35    0  \n",
       "\n",
       "[5 rows x 50 columns]"
      ]
     },
     "execution_count": 335,
     "metadata": {},
     "output_type": "execute_result"
    }
   ],
   "source": [
    "oil_data.head()"
   ]
  },
  {
   "cell_type": "code",
   "execution_count": 377,
   "id": "75b92c78",
   "metadata": {},
   "outputs": [
    {
     "data": {
      "text/plain": [
       "A50      2\n",
       "A46      2\n",
       "A37      3\n",
       "A33      4\n",
       "A26      8\n",
       "A22      9\n",
       "A39      9\n",
       "A27      9\n",
       "A25      9\n",
       "A40      9\n",
       "A32     42\n",
       "A34     45\n",
       "A15     53\n",
       "A20     53\n",
       "A10     57\n",
       "A12     59\n",
       "A21     68\n",
       "A13     73\n",
       "A16     91\n",
       "A24     92\n",
       "A31    107\n",
       "A14    107\n",
       "A36    110\n",
       "A35    141\n",
       "A48    169\n",
       "A19    170\n",
       "A5     179\n",
       "A42    220\n",
       "A1     238\n",
       "A49    286\n",
       "A2     297\n",
       "A28    308\n",
       "A6     375\n",
       "A41    388\n",
       "A30    392\n",
       "A29    447\n",
       "A45    499\n",
       "A9     561\n",
       "A11    577\n",
       "A8     618\n",
       "A43    644\n",
       "A44    649\n",
       "A38    758\n",
       "A18    810\n",
       "A7     820\n",
       "A17    893\n",
       "A3     927\n",
       "A4     933\n",
       "A47    937\n",
       "dtype: int64"
      ]
     },
     "execution_count": 377,
     "metadata": {},
     "output_type": "execute_result"
    }
   ],
   "source": [
    "#oil_data.nunique(dropna=False)==1 #Count of unique values including NaN\n",
    "oil_data.nunique().sort_values()"
   ]
  },
  {
   "cell_type": "code",
   "execution_count": 361,
   "id": "602ac4c2",
   "metadata": {},
   "outputs": [],
   "source": [
    "#get column names where unique count is 1 ( takes pandas series as input)\n",
    "cols = oil_data.columns[oil_data.nunique()==1]"
   ]
  },
  {
   "cell_type": "code",
   "execution_count": 362,
   "id": "906f9c8e",
   "metadata": {},
   "outputs": [
    {
     "data": {
      "text/plain": [
       "Index(['A23'], dtype='object')"
      ]
     },
     "execution_count": 362,
     "metadata": {},
     "output_type": "execute_result"
    }
   ],
   "source": [
    "cols"
   ]
  },
  {
   "cell_type": "code",
   "execution_count": 371,
   "id": "dd5afe67",
   "metadata": {},
   "outputs": [],
   "source": [
    "oil_data.drop(cols, axis=1, inplace=True)"
   ]
  },
  {
   "cell_type": "code",
   "execution_count": 387,
   "id": "331e0d23",
   "metadata": {},
   "outputs": [
    {
     "data": {
      "text/plain": [
       "array([1, 0], dtype=int64)"
      ]
     },
     "execution_count": 387,
     "metadata": {},
     "output_type": "execute_result"
    }
   ],
   "source": [
    "oil_data.A50.unique()"
   ]
  },
  {
   "cell_type": "markdown",
   "id": "9d2ec94c",
   "metadata": {},
   "source": [
    "#### Variance"
   ]
  },
  {
   "cell_type": "markdown",
   "id": "42d69072",
   "metadata": {},
   "source": [
    "If the variance is low or close to zero, then a feature is approximately constant and will not improve the performance of the    model. These zero variance predictors can be removed."
   ]
  },
  {
   "cell_type": "code",
   "execution_count": 396,
   "id": "a9ac35d1",
   "metadata": {},
   "outputs": [],
   "source": [
    "oil_data1 = pd.read_csv(\"C:/D/personal/Development/360/02- EDA/Datasets_EDA (1)/oil-spill.csv\")"
   ]
  },
  {
   "cell_type": "code",
   "execution_count": 400,
   "id": "379fc93b",
   "metadata": {},
   "outputs": [
    {
     "data": {
      "text/plain": [
       "A23    0.000000\n",
       "A37    0.000028\n",
       "A33    0.002400\n",
       "A20    0.005687\n",
       "A15    0.006880\n",
       "A12    0.007767\n",
       "A10    0.008157\n",
       "A21    0.011102\n",
       "A13    0.014735\n",
       "A50    0.041887\n",
       "dtype: float64"
      ]
     },
     "execution_count": 400,
     "metadata": {},
     "output_type": "execute_result"
    }
   ],
   "source": [
    "oil_data1.var().sort_values().head(10)"
   ]
  },
  {
   "cell_type": "code",
   "execution_count": 399,
   "id": "5450878d",
   "metadata": {},
   "outputs": [],
   "source": [
    "cols = oil_data1.columns[oil_data1.var()==0]"
   ]
  },
  {
   "cell_type": "code",
   "execution_count": 401,
   "id": "3eecc130",
   "metadata": {},
   "outputs": [],
   "source": [
    "oil_data1.drop(cols, axis=1, inplace=True)"
   ]
  },
  {
   "cell_type": "code",
   "execution_count": 402,
   "id": "37b7b786",
   "metadata": {},
   "outputs": [
    {
     "data": {
      "text/plain": [
       "A37    0.000028\n",
       "A33    0.002400\n",
       "A20    0.005687\n",
       "A15    0.006880\n",
       "A12    0.007767\n",
       "dtype: float64"
      ]
     },
     "execution_count": 402,
     "metadata": {},
     "output_type": "execute_result"
    }
   ],
   "source": [
    "oil_data1.var().sort_values().head()"
   ]
  },
  {
   "cell_type": "markdown",
   "id": "5b5167d0",
   "metadata": {},
   "source": [
    "### Type casting"
   ]
  },
  {
   "cell_type": "code",
   "execution_count": 95,
   "id": "207e0e9b",
   "metadata": {},
   "outputs": [],
   "source": [
    "#load data\n",
    "data = pd.read_csv(\"C:/D/personal/Development/360/02- EDA/Datasets_EDA (1)/ethnic diversity.csv\")"
   ]
  },
  {
   "cell_type": "code",
   "execution_count": 96,
   "id": "c4588fc2",
   "metadata": {},
   "outputs": [
    {
     "data": {
      "text/plain": [
       "Employee_Name        object\n",
       "EmpID                 int64\n",
       "Position             object\n",
       "State                object\n",
       "Zip                   int64\n",
       "Sex                  object\n",
       "MaritalDesc          object\n",
       "CitizenDesc          object\n",
       "EmploymentStatus     object\n",
       "Department           object\n",
       "Salaries            float64\n",
       "age                   int64\n",
       "Race                 object\n",
       "dtype: object"
      ]
     },
     "execution_count": 96,
     "metadata": {},
     "output_type": "execute_result"
    }
   ],
   "source": [
    "data.dtypes"
   ]
  },
  {
   "cell_type": "code",
   "execution_count": 97,
   "id": "dcd18158",
   "metadata": {},
   "outputs": [
    {
     "data": {
      "text/html": [
       "<div>\n",
       "<style scoped>\n",
       "    .dataframe tbody tr th:only-of-type {\n",
       "        vertical-align: middle;\n",
       "    }\n",
       "\n",
       "    .dataframe tbody tr th {\n",
       "        vertical-align: top;\n",
       "    }\n",
       "\n",
       "    .dataframe thead th {\n",
       "        text-align: right;\n",
       "    }\n",
       "</style>\n",
       "<table border=\"1\" class=\"dataframe\">\n",
       "  <thead>\n",
       "    <tr style=\"text-align: right;\">\n",
       "      <th></th>\n",
       "      <th>Employee_Name</th>\n",
       "      <th>EmpID</th>\n",
       "      <th>Position</th>\n",
       "      <th>State</th>\n",
       "      <th>Zip</th>\n",
       "      <th>Sex</th>\n",
       "      <th>MaritalDesc</th>\n",
       "      <th>CitizenDesc</th>\n",
       "      <th>EmploymentStatus</th>\n",
       "      <th>Department</th>\n",
       "      <th>Salaries</th>\n",
       "      <th>age</th>\n",
       "      <th>Race</th>\n",
       "    </tr>\n",
       "  </thead>\n",
       "  <tbody>\n",
       "    <tr>\n",
       "      <th>0</th>\n",
       "      <td>Brown, Mia</td>\n",
       "      <td>1103024456</td>\n",
       "      <td>Accountant I</td>\n",
       "      <td>MA</td>\n",
       "      <td>1450</td>\n",
       "      <td>F</td>\n",
       "      <td>Married</td>\n",
       "      <td>US Citizen</td>\n",
       "      <td>Active</td>\n",
       "      <td>Admin Offices</td>\n",
       "      <td>674.28</td>\n",
       "      <td>28</td>\n",
       "      <td>Black or African American</td>\n",
       "    </tr>\n",
       "    <tr>\n",
       "      <th>1</th>\n",
       "      <td>LaRotonda, William</td>\n",
       "      <td>1106026572</td>\n",
       "      <td>Accountant I</td>\n",
       "      <td>MA</td>\n",
       "      <td>1460</td>\n",
       "      <td>M</td>\n",
       "      <td>Divorced</td>\n",
       "      <td>US Citizen</td>\n",
       "      <td>Active</td>\n",
       "      <td>Admin Offices</td>\n",
       "      <td>674.28</td>\n",
       "      <td>50</td>\n",
       "      <td>Black or African American</td>\n",
       "    </tr>\n",
       "    <tr>\n",
       "      <th>2</th>\n",
       "      <td>Steans, Tyrone</td>\n",
       "      <td>1302053333</td>\n",
       "      <td>Accountant I</td>\n",
       "      <td>MA</td>\n",
       "      <td>2703</td>\n",
       "      <td>M</td>\n",
       "      <td>Single</td>\n",
       "      <td>US Citizen</td>\n",
       "      <td>Active</td>\n",
       "      <td>Admin Offices</td>\n",
       "      <td>674.28</td>\n",
       "      <td>43</td>\n",
       "      <td>White</td>\n",
       "    </tr>\n",
       "    <tr>\n",
       "      <th>3</th>\n",
       "      <td>Howard, Estelle</td>\n",
       "      <td>1211050782</td>\n",
       "      <td>Administrative Assistant</td>\n",
       "      <td>MA</td>\n",
       "      <td>2170</td>\n",
       "      <td>F</td>\n",
       "      <td>Married</td>\n",
       "      <td>US Citizen</td>\n",
       "      <td>Terminated for Cause</td>\n",
       "      <td>Admin Offices</td>\n",
       "      <td>47822.00</td>\n",
       "      <td>44</td>\n",
       "      <td>White</td>\n",
       "    </tr>\n",
       "    <tr>\n",
       "      <th>4</th>\n",
       "      <td>Singh, Nan</td>\n",
       "      <td>1307059817</td>\n",
       "      <td>Administrative Assistant</td>\n",
       "      <td>MA</td>\n",
       "      <td>2330</td>\n",
       "      <td>F</td>\n",
       "      <td>Single</td>\n",
       "      <td>US Citizen</td>\n",
       "      <td>Active</td>\n",
       "      <td>Admin Offices</td>\n",
       "      <td>61089.35</td>\n",
       "      <td>33</td>\n",
       "      <td>White</td>\n",
       "    </tr>\n",
       "  </tbody>\n",
       "</table>\n",
       "</div>"
      ],
      "text/plain": [
       "          Employee_Name       EmpID                  Position State   Zip Sex  \\\n",
       "0            Brown, Mia  1103024456              Accountant I    MA  1450   F   \n",
       "1  LaRotonda, William    1106026572              Accountant I    MA  1460  M    \n",
       "2      Steans, Tyrone    1302053333              Accountant I    MA  2703  M    \n",
       "3       Howard, Estelle  1211050782  Administrative Assistant    MA  2170   F   \n",
       "4           Singh, Nan   1307059817  Administrative Assistant    MA  2330   F   \n",
       "\n",
       "  MaritalDesc CitizenDesc      EmploymentStatus     Department  Salaries  age  \\\n",
       "0     Married  US Citizen                Active  Admin Offices    674.28   28   \n",
       "1    Divorced  US Citizen                Active  Admin Offices    674.28   50   \n",
       "2      Single  US Citizen                Active  Admin Offices    674.28   43   \n",
       "3     Married  US Citizen  Terminated for Cause  Admin Offices  47822.00   44   \n",
       "4      Single  US Citizen                Active  Admin Offices  61089.35   33   \n",
       "\n",
       "                        Race  \n",
       "0  Black or African American  \n",
       "1  Black or African American  \n",
       "2                      White  \n",
       "3                      White  \n",
       "4                      White  "
      ]
     },
     "execution_count": 97,
     "metadata": {},
     "output_type": "execute_result"
    }
   ],
   "source": [
    "data.head()"
   ]
  },
  {
   "cell_type": "code",
   "execution_count": 100,
   "id": "aa86aaca",
   "metadata": {},
   "outputs": [],
   "source": [
    "#change Salaries dtype  to int64\n",
    "data.Salaries = data.Salaries.astype('int64')\n",
    "#truncates - does not round off"
   ]
  },
  {
   "cell_type": "code",
   "execution_count": 101,
   "id": "461ca667",
   "metadata": {},
   "outputs": [
    {
     "data": {
      "text/plain": [
       "Employee_Name       object\n",
       "EmpID                int64\n",
       "Position            object\n",
       "State               object\n",
       "Zip                  int64\n",
       "Sex                 object\n",
       "MaritalDesc         object\n",
       "CitizenDesc         object\n",
       "EmploymentStatus    object\n",
       "Department          object\n",
       "Salaries             int64\n",
       "age                  int64\n",
       "Race                object\n",
       "dtype: object"
      ]
     },
     "execution_count": 101,
     "metadata": {},
     "output_type": "execute_result"
    }
   ],
   "source": [
    "#check dataypes\n",
    "data.dtypes"
   ]
  },
  {
   "cell_type": "code",
   "execution_count": 102,
   "id": "2b2b811e",
   "metadata": {},
   "outputs": [
    {
     "data": {
      "text/html": [
       "<div>\n",
       "<style scoped>\n",
       "    .dataframe tbody tr th:only-of-type {\n",
       "        vertical-align: middle;\n",
       "    }\n",
       "\n",
       "    .dataframe tbody tr th {\n",
       "        vertical-align: top;\n",
       "    }\n",
       "\n",
       "    .dataframe thead th {\n",
       "        text-align: right;\n",
       "    }\n",
       "</style>\n",
       "<table border=\"1\" class=\"dataframe\">\n",
       "  <thead>\n",
       "    <tr style=\"text-align: right;\">\n",
       "      <th></th>\n",
       "      <th>Employee_Name</th>\n",
       "      <th>EmpID</th>\n",
       "      <th>Position</th>\n",
       "      <th>State</th>\n",
       "      <th>Zip</th>\n",
       "      <th>Sex</th>\n",
       "      <th>MaritalDesc</th>\n",
       "      <th>CitizenDesc</th>\n",
       "      <th>EmploymentStatus</th>\n",
       "      <th>Department</th>\n",
       "      <th>Salaries</th>\n",
       "      <th>age</th>\n",
       "      <th>Race</th>\n",
       "    </tr>\n",
       "  </thead>\n",
       "  <tbody>\n",
       "    <tr>\n",
       "      <th>0</th>\n",
       "      <td>Brown, Mia</td>\n",
       "      <td>1103024456</td>\n",
       "      <td>Accountant I</td>\n",
       "      <td>MA</td>\n",
       "      <td>1450</td>\n",
       "      <td>F</td>\n",
       "      <td>Married</td>\n",
       "      <td>US Citizen</td>\n",
       "      <td>Active</td>\n",
       "      <td>Admin Offices</td>\n",
       "      <td>674</td>\n",
       "      <td>28</td>\n",
       "      <td>Black or African American</td>\n",
       "    </tr>\n",
       "    <tr>\n",
       "      <th>1</th>\n",
       "      <td>LaRotonda, William</td>\n",
       "      <td>1106026572</td>\n",
       "      <td>Accountant I</td>\n",
       "      <td>MA</td>\n",
       "      <td>1460</td>\n",
       "      <td>M</td>\n",
       "      <td>Divorced</td>\n",
       "      <td>US Citizen</td>\n",
       "      <td>Active</td>\n",
       "      <td>Admin Offices</td>\n",
       "      <td>674</td>\n",
       "      <td>50</td>\n",
       "      <td>Black or African American</td>\n",
       "    </tr>\n",
       "    <tr>\n",
       "      <th>2</th>\n",
       "      <td>Steans, Tyrone</td>\n",
       "      <td>1302053333</td>\n",
       "      <td>Accountant I</td>\n",
       "      <td>MA</td>\n",
       "      <td>2703</td>\n",
       "      <td>M</td>\n",
       "      <td>Single</td>\n",
       "      <td>US Citizen</td>\n",
       "      <td>Active</td>\n",
       "      <td>Admin Offices</td>\n",
       "      <td>674</td>\n",
       "      <td>43</td>\n",
       "      <td>White</td>\n",
       "    </tr>\n",
       "    <tr>\n",
       "      <th>3</th>\n",
       "      <td>Howard, Estelle</td>\n",
       "      <td>1211050782</td>\n",
       "      <td>Administrative Assistant</td>\n",
       "      <td>MA</td>\n",
       "      <td>2170</td>\n",
       "      <td>F</td>\n",
       "      <td>Married</td>\n",
       "      <td>US Citizen</td>\n",
       "      <td>Terminated for Cause</td>\n",
       "      <td>Admin Offices</td>\n",
       "      <td>47822</td>\n",
       "      <td>44</td>\n",
       "      <td>White</td>\n",
       "    </tr>\n",
       "    <tr>\n",
       "      <th>4</th>\n",
       "      <td>Singh, Nan</td>\n",
       "      <td>1307059817</td>\n",
       "      <td>Administrative Assistant</td>\n",
       "      <td>MA</td>\n",
       "      <td>2330</td>\n",
       "      <td>F</td>\n",
       "      <td>Single</td>\n",
       "      <td>US Citizen</td>\n",
       "      <td>Active</td>\n",
       "      <td>Admin Offices</td>\n",
       "      <td>61089</td>\n",
       "      <td>33</td>\n",
       "      <td>White</td>\n",
       "    </tr>\n",
       "  </tbody>\n",
       "</table>\n",
       "</div>"
      ],
      "text/plain": [
       "          Employee_Name       EmpID                  Position State   Zip Sex  \\\n",
       "0            Brown, Mia  1103024456              Accountant I    MA  1450   F   \n",
       "1  LaRotonda, William    1106026572              Accountant I    MA  1460  M    \n",
       "2      Steans, Tyrone    1302053333              Accountant I    MA  2703  M    \n",
       "3       Howard, Estelle  1211050782  Administrative Assistant    MA  2170   F   \n",
       "4           Singh, Nan   1307059817  Administrative Assistant    MA  2330   F   \n",
       "\n",
       "  MaritalDesc CitizenDesc      EmploymentStatus     Department  Salaries  age  \\\n",
       "0     Married  US Citizen                Active  Admin Offices       674   28   \n",
       "1    Divorced  US Citizen                Active  Admin Offices       674   50   \n",
       "2      Single  US Citizen                Active  Admin Offices       674   43   \n",
       "3     Married  US Citizen  Terminated for Cause  Admin Offices     47822   44   \n",
       "4      Single  US Citizen                Active  Admin Offices     61089   33   \n",
       "\n",
       "                        Race  \n",
       "0  Black or African American  \n",
       "1  Black or African American  \n",
       "2                      White  \n",
       "3                      White  \n",
       "4                      White  "
      ]
     },
     "execution_count": 102,
     "metadata": {},
     "output_type": "execute_result"
    }
   ],
   "source": [
    "data.head()"
   ]
  },
  {
   "cell_type": "code",
   "execution_count": 103,
   "id": "c41f1aa6",
   "metadata": {},
   "outputs": [],
   "source": [
    "#change age dtype  to float32\n",
    "data.age = data.age.astype('float32')"
   ]
  },
  {
   "cell_type": "code",
   "execution_count": 104,
   "id": "f8a6759d",
   "metadata": {},
   "outputs": [
    {
     "data": {
      "text/plain": [
       "Employee_Name        object\n",
       "EmpID                 int64\n",
       "Position             object\n",
       "State                object\n",
       "Zip                   int64\n",
       "Sex                  object\n",
       "MaritalDesc          object\n",
       "CitizenDesc          object\n",
       "EmploymentStatus     object\n",
       "Department           object\n",
       "Salaries              int64\n",
       "age                 float32\n",
       "Race                 object\n",
       "dtype: object"
      ]
     },
     "execution_count": 104,
     "metadata": {},
     "output_type": "execute_result"
    }
   ],
   "source": [
    "#check dataypes\n",
    "data.dtypes"
   ]
  },
  {
   "cell_type": "code",
   "execution_count": 105,
   "id": "b28d226b",
   "metadata": {},
   "outputs": [
    {
     "data": {
      "text/html": [
       "<div>\n",
       "<style scoped>\n",
       "    .dataframe tbody tr th:only-of-type {\n",
       "        vertical-align: middle;\n",
       "    }\n",
       "\n",
       "    .dataframe tbody tr th {\n",
       "        vertical-align: top;\n",
       "    }\n",
       "\n",
       "    .dataframe thead th {\n",
       "        text-align: right;\n",
       "    }\n",
       "</style>\n",
       "<table border=\"1\" class=\"dataframe\">\n",
       "  <thead>\n",
       "    <tr style=\"text-align: right;\">\n",
       "      <th></th>\n",
       "      <th>Employee_Name</th>\n",
       "      <th>EmpID</th>\n",
       "      <th>Position</th>\n",
       "      <th>State</th>\n",
       "      <th>Zip</th>\n",
       "      <th>Sex</th>\n",
       "      <th>MaritalDesc</th>\n",
       "      <th>CitizenDesc</th>\n",
       "      <th>EmploymentStatus</th>\n",
       "      <th>Department</th>\n",
       "      <th>Salaries</th>\n",
       "      <th>age</th>\n",
       "      <th>Race</th>\n",
       "    </tr>\n",
       "  </thead>\n",
       "  <tbody>\n",
       "    <tr>\n",
       "      <th>0</th>\n",
       "      <td>Brown, Mia</td>\n",
       "      <td>1103024456</td>\n",
       "      <td>Accountant I</td>\n",
       "      <td>MA</td>\n",
       "      <td>1450</td>\n",
       "      <td>F</td>\n",
       "      <td>Married</td>\n",
       "      <td>US Citizen</td>\n",
       "      <td>Active</td>\n",
       "      <td>Admin Offices</td>\n",
       "      <td>674</td>\n",
       "      <td>28.0</td>\n",
       "      <td>Black or African American</td>\n",
       "    </tr>\n",
       "    <tr>\n",
       "      <th>1</th>\n",
       "      <td>LaRotonda, William</td>\n",
       "      <td>1106026572</td>\n",
       "      <td>Accountant I</td>\n",
       "      <td>MA</td>\n",
       "      <td>1460</td>\n",
       "      <td>M</td>\n",
       "      <td>Divorced</td>\n",
       "      <td>US Citizen</td>\n",
       "      <td>Active</td>\n",
       "      <td>Admin Offices</td>\n",
       "      <td>674</td>\n",
       "      <td>50.0</td>\n",
       "      <td>Black or African American</td>\n",
       "    </tr>\n",
       "    <tr>\n",
       "      <th>2</th>\n",
       "      <td>Steans, Tyrone</td>\n",
       "      <td>1302053333</td>\n",
       "      <td>Accountant I</td>\n",
       "      <td>MA</td>\n",
       "      <td>2703</td>\n",
       "      <td>M</td>\n",
       "      <td>Single</td>\n",
       "      <td>US Citizen</td>\n",
       "      <td>Active</td>\n",
       "      <td>Admin Offices</td>\n",
       "      <td>674</td>\n",
       "      <td>43.0</td>\n",
       "      <td>White</td>\n",
       "    </tr>\n",
       "    <tr>\n",
       "      <th>3</th>\n",
       "      <td>Howard, Estelle</td>\n",
       "      <td>1211050782</td>\n",
       "      <td>Administrative Assistant</td>\n",
       "      <td>MA</td>\n",
       "      <td>2170</td>\n",
       "      <td>F</td>\n",
       "      <td>Married</td>\n",
       "      <td>US Citizen</td>\n",
       "      <td>Terminated for Cause</td>\n",
       "      <td>Admin Offices</td>\n",
       "      <td>47822</td>\n",
       "      <td>44.0</td>\n",
       "      <td>White</td>\n",
       "    </tr>\n",
       "    <tr>\n",
       "      <th>4</th>\n",
       "      <td>Singh, Nan</td>\n",
       "      <td>1307059817</td>\n",
       "      <td>Administrative Assistant</td>\n",
       "      <td>MA</td>\n",
       "      <td>2330</td>\n",
       "      <td>F</td>\n",
       "      <td>Single</td>\n",
       "      <td>US Citizen</td>\n",
       "      <td>Active</td>\n",
       "      <td>Admin Offices</td>\n",
       "      <td>61089</td>\n",
       "      <td>33.0</td>\n",
       "      <td>White</td>\n",
       "    </tr>\n",
       "  </tbody>\n",
       "</table>\n",
       "</div>"
      ],
      "text/plain": [
       "          Employee_Name       EmpID                  Position State   Zip Sex  \\\n",
       "0            Brown, Mia  1103024456              Accountant I    MA  1450   F   \n",
       "1  LaRotonda, William    1106026572              Accountant I    MA  1460  M    \n",
       "2      Steans, Tyrone    1302053333              Accountant I    MA  2703  M    \n",
       "3       Howard, Estelle  1211050782  Administrative Assistant    MA  2170   F   \n",
       "4           Singh, Nan   1307059817  Administrative Assistant    MA  2330   F   \n",
       "\n",
       "  MaritalDesc CitizenDesc      EmploymentStatus     Department  Salaries  \\\n",
       "0     Married  US Citizen                Active  Admin Offices       674   \n",
       "1    Divorced  US Citizen                Active  Admin Offices       674   \n",
       "2      Single  US Citizen                Active  Admin Offices       674   \n",
       "3     Married  US Citizen  Terminated for Cause  Admin Offices     47822   \n",
       "4      Single  US Citizen                Active  Admin Offices     61089   \n",
       "\n",
       "    age                       Race  \n",
       "0  28.0  Black or African American  \n",
       "1  50.0  Black or African American  \n",
       "2  43.0                      White  \n",
       "3  44.0                      White  \n",
       "4  33.0                      White  "
      ]
     },
     "execution_count": 105,
     "metadata": {},
     "output_type": "execute_result"
    }
   ],
   "source": [
    "data.head()"
   ]
  },
  {
   "cell_type": "markdown",
   "id": "bde6e1c5",
   "metadata": {},
   "source": [
    "### Deduplication"
   ]
  },
  {
   "cell_type": "markdown",
   "id": "0c8ff987",
   "metadata": {},
   "source": [
    "#### Identify duplicates"
   ]
  },
  {
   "cell_type": "code",
   "execution_count": 403,
   "id": "be796df8",
   "metadata": {},
   "outputs": [],
   "source": [
    "#load data\n",
    "data = pd.read_csv(\"C:/D/personal/Development/360/02- EDA/Datasets_EDA (1)/mtcars_dup.csv\")"
   ]
  },
  {
   "cell_type": "code",
   "execution_count": 404,
   "id": "ea9dd061",
   "metadata": {},
   "outputs": [
    {
     "data": {
      "text/plain": [
       "0     False\n",
       "1     False\n",
       "2     False\n",
       "3     False\n",
       "4     False\n",
       "5     False\n",
       "6     False\n",
       "7     False\n",
       "8     False\n",
       "9     False\n",
       "10    False\n",
       "11    False\n",
       "12    False\n",
       "13    False\n",
       "14    False\n",
       "15    False\n",
       "16    False\n",
       "17     True\n",
       "18    False\n",
       "19    False\n",
       "20    False\n",
       "21    False\n",
       "22    False\n",
       "23     True\n",
       "24    False\n",
       "25    False\n",
       "26    False\n",
       "27     True\n",
       "28    False\n",
       "29    False\n",
       "30    False\n",
       "31    False\n",
       "dtype: bool"
      ]
     },
     "execution_count": 404,
     "metadata": {},
     "output_type": "execute_result"
    }
   ],
   "source": [
    "data.duplicated()"
   ]
  },
  {
   "cell_type": "code",
   "execution_count": 405,
   "id": "c88c1064",
   "metadata": {},
   "outputs": [],
   "source": [
    "dup = data.duplicated()"
   ]
  },
  {
   "cell_type": "code",
   "execution_count": 206,
   "id": "c58f2542",
   "metadata": {},
   "outputs": [
    {
     "data": {
      "text/plain": [
       "pandas.core.series.Series"
      ]
     },
     "execution_count": 206,
     "metadata": {},
     "output_type": "execute_result"
    }
   ],
   "source": [
    "type(dup)"
   ]
  },
  {
   "cell_type": "code",
   "execution_count": 406,
   "id": "8145b42b",
   "metadata": {},
   "outputs": [
    {
     "data": {
      "text/plain": [
       "3"
      ]
     },
     "execution_count": 406,
     "metadata": {},
     "output_type": "execute_result"
    }
   ],
   "source": [
    "#total duplicated records\n",
    "sum(dup)"
   ]
  },
  {
   "cell_type": "code",
   "execution_count": 407,
   "id": "66b1f3d2",
   "metadata": {},
   "outputs": [
    {
     "data": {
      "text/html": [
       "<div>\n",
       "<style scoped>\n",
       "    .dataframe tbody tr th:only-of-type {\n",
       "        vertical-align: middle;\n",
       "    }\n",
       "\n",
       "    .dataframe tbody tr th {\n",
       "        vertical-align: top;\n",
       "    }\n",
       "\n",
       "    .dataframe thead th {\n",
       "        text-align: right;\n",
       "    }\n",
       "</style>\n",
       "<table border=\"1\" class=\"dataframe\">\n",
       "  <thead>\n",
       "    <tr style=\"text-align: right;\">\n",
       "      <th></th>\n",
       "      <th>mpg</th>\n",
       "      <th>cyl</th>\n",
       "      <th>disp</th>\n",
       "      <th>hp</th>\n",
       "      <th>drat</th>\n",
       "      <th>wt</th>\n",
       "      <th>qsec</th>\n",
       "      <th>vs</th>\n",
       "      <th>am</th>\n",
       "      <th>gear</th>\n",
       "      <th>carb</th>\n",
       "    </tr>\n",
       "  </thead>\n",
       "  <tbody>\n",
       "    <tr>\n",
       "      <th>17</th>\n",
       "      <td>22.8</td>\n",
       "      <td>4</td>\n",
       "      <td>108.0</td>\n",
       "      <td>93</td>\n",
       "      <td>3.85</td>\n",
       "      <td>2.32</td>\n",
       "      <td>18.61</td>\n",
       "      <td>1</td>\n",
       "      <td>1</td>\n",
       "      <td>4</td>\n",
       "      <td>1</td>\n",
       "    </tr>\n",
       "    <tr>\n",
       "      <th>23</th>\n",
       "      <td>14.3</td>\n",
       "      <td>8</td>\n",
       "      <td>360.0</td>\n",
       "      <td>245</td>\n",
       "      <td>3.21</td>\n",
       "      <td>3.57</td>\n",
       "      <td>15.84</td>\n",
       "      <td>0</td>\n",
       "      <td>0</td>\n",
       "      <td>3</td>\n",
       "      <td>4</td>\n",
       "    </tr>\n",
       "    <tr>\n",
       "      <th>27</th>\n",
       "      <td>14.3</td>\n",
       "      <td>8</td>\n",
       "      <td>360.0</td>\n",
       "      <td>245</td>\n",
       "      <td>3.21</td>\n",
       "      <td>3.57</td>\n",
       "      <td>15.84</td>\n",
       "      <td>0</td>\n",
       "      <td>0</td>\n",
       "      <td>3</td>\n",
       "      <td>4</td>\n",
       "    </tr>\n",
       "  </tbody>\n",
       "</table>\n",
       "</div>"
      ],
      "text/plain": [
       "     mpg  cyl   disp   hp  drat    wt   qsec  vs  am  gear  carb\n",
       "17  22.8    4  108.0   93  3.85  2.32  18.61   1   1     4     1\n",
       "23  14.3    8  360.0  245  3.21  3.57  15.84   0   0     3     4\n",
       "27  14.3    8  360.0  245  3.21  3.57  15.84   0   0     3     4"
      ]
     },
     "execution_count": 407,
     "metadata": {},
     "output_type": "execute_result"
    }
   ],
   "source": [
    "#display duplicated records\n",
    "data[data.duplicated()]"
   ]
  },
  {
   "cell_type": "code",
   "execution_count": 408,
   "id": "94ceffad",
   "metadata": {},
   "outputs": [
    {
     "data": {
      "text/plain": [
       "(32, 11)"
      ]
     },
     "execution_count": 408,
     "metadata": {},
     "output_type": "execute_result"
    }
   ],
   "source": [
    "data.shape"
   ]
  },
  {
   "cell_type": "markdown",
   "id": "79df65d7",
   "metadata": {},
   "source": [
    "#### Removing Duplicates"
   ]
  },
  {
   "cell_type": "code",
   "execution_count": 409,
   "id": "0c503a09",
   "metadata": {},
   "outputs": [],
   "source": [
    "#drop duplicates and copy to another dataframe\n",
    "data1 = data.drop_duplicates()"
   ]
  },
  {
   "cell_type": "code",
   "execution_count": 410,
   "id": "9ae8a8ff",
   "metadata": {},
   "outputs": [
    {
     "data": {
      "text/plain": [
       "(29, 11)"
      ]
     },
     "execution_count": 410,
     "metadata": {},
     "output_type": "execute_result"
    }
   ],
   "source": [
    "#check total records in new dataframe\n",
    "data1.shape"
   ]
  },
  {
   "cell_type": "code",
   "execution_count": 411,
   "id": "61bc6b1b",
   "metadata": {},
   "outputs": [
    {
     "data": {
      "text/plain": [
       "(32, 11)"
      ]
     },
     "execution_count": 411,
     "metadata": {},
     "output_type": "execute_result"
    }
   ],
   "source": [
    "#check total records in original dataframe\n",
    "data.shape"
   ]
  },
  {
   "cell_type": "code",
   "execution_count": 412,
   "id": "2383837d",
   "metadata": {},
   "outputs": [],
   "source": [
    "#inplace - drop duplicates in original dataframe, keep first record\n",
    "data.drop_duplicates(keep='first',inplace= True)"
   ]
  },
  {
   "cell_type": "code",
   "execution_count": 413,
   "id": "13517dd9",
   "metadata": {},
   "outputs": [
    {
     "data": {
      "text/plain": [
       "(29, 11)"
      ]
     },
     "execution_count": 413,
     "metadata": {},
     "output_type": "execute_result"
    }
   ],
   "source": [
    "#check total records in original dataframe\n",
    "data.shape"
   ]
  },
  {
   "cell_type": "code",
   "execution_count": 414,
   "id": "258df183",
   "metadata": {},
   "outputs": [
    {
     "data": {
      "text/plain": [
       "False"
      ]
     },
     "execution_count": 414,
     "metadata": {},
     "output_type": "execute_result"
    }
   ],
   "source": [
    "#cross verify if any duplicates remain\n",
    "data.duplicated().any()"
   ]
  },
  {
   "cell_type": "markdown",
   "id": "62d2fc63",
   "metadata": {},
   "source": [
    "### Outlier Treatment"
   ]
  },
  {
   "cell_type": "markdown",
   "id": "2116d943",
   "metadata": {},
   "source": [
    "<b>1) Remove</b>    \n",
    "      Trimming outliers. On the down side, these values, may contain useful information for other variables included in the           dataset.(np.where)  \n",
    "<b>2) Replace</b>    \n",
    "       a) np.where  \n",
    "       b) Winsorization  \n",
    "<b>3) Discretize</b>    \n",
    "        Discretization  is the transformation of continuous variables into discrete variables.  \n",
    "        It involves assigning the variable values into defined groups. The outlier is binned with other values hence the impact           is diluted."
   ]
  },
  {
   "cell_type": "markdown",
   "id": "6775c8d2",
   "metadata": {},
   "source": [
    "#### Remove"
   ]
  },
  {
   "cell_type": "code",
   "execution_count": 118,
   "id": "f348921c",
   "metadata": {},
   "outputs": [],
   "source": [
    "#load data\n",
    "div = pd.read_csv(\"C:/D/personal/Development/360/02- EDA/Datasets_EDA (1)/ethnic diversity.csv\")"
   ]
  },
  {
   "cell_type": "code",
   "execution_count": 164,
   "id": "7f84ff52",
   "metadata": {},
   "outputs": [
    {
     "data": {
      "text/plain": [
       "<AxesSubplot:>"
      ]
     },
     "execution_count": 164,
     "metadata": {},
     "output_type": "execute_result"
    },
    {
     "data": {
      "image/png": "[encoded data removed]",
      "text/plain": [
       "<Figure size 432x288 with 1 Axes>"
      ]
     },
     "metadata": {
      "needs_background": "light"
     },
     "output_type": "display_data"
    }
   ],
   "source": [
    "# let's find outliers in Salaries (boxplot)\n",
    "sns.boxplot(data = div.Salaries,orient=\"h\")"
   ]
  },
  {
   "cell_type": "markdown",
   "id": "aafc5205",
   "metadata": {},
   "source": [
    "Outliers in Salary. positive skew"
   ]
  },
  {
   "cell_type": "code",
   "execution_count": 165,
   "id": "c3856ff1",
   "metadata": {},
   "outputs": [
    {
     "data": {
      "text/plain": [
       "<AxesSubplot:>"
      ]
     },
     "execution_count": 165,
     "metadata": {},
     "output_type": "execute_result"
    },
    {
     "data": {
      "image/png": "[encoded data removed]",
      "text/plain": [
       "<Figure size 432x288 with 1 Axes>"
      ]
     },
     "metadata": {
      "needs_background": "light"
     },
     "output_type": "display_data"
    }
   ],
   "source": [
    "# let's find outliers in Age (boxplot)\n",
    "sns.boxplot(data = div.age,orient=\"h\")"
   ]
  },
  {
   "cell_type": "markdown",
   "id": "89ddacd9",
   "metadata": {},
   "source": [
    "No Outliers in age"
   ]
  },
  {
   "cell_type": "code",
   "execution_count": 123,
   "id": "732f9e44",
   "metadata": {},
   "outputs": [
    {
     "data": {
      "text/plain": [
       "(-19446.967499999995, 93992.8125)"
      ]
     },
     "execution_count": 123,
     "metadata": {},
     "output_type": "execute_result"
    }
   ],
   "source": [
    "# Detection of outliers (find limits for salary based on IQR)\n",
    "IQR = div['Salaries'].quantile(0.75) - div['Salaries'].quantile(0.25)\n",
    "lower_limit = div['Salaries'].quantile(0.25) - (IQR * 1.5)\n",
    "upper_limit = div['Salaries'].quantile(0.75) + (IQR * 1.5)\n",
    "lower_limit,upper_limit"
   ]
  },
  {
   "cell_type": "code",
   "execution_count": 166,
   "id": "9b9f504d",
   "metadata": {},
   "outputs": [],
   "source": [
    "#since negative salaries are not valid lets trim lower_limit to zero (zero-coding)\n",
    "lower_limit = 0"
   ]
  },
  {
   "cell_type": "code",
   "execution_count": 167,
   "id": "151a14d7",
   "metadata": {},
   "outputs": [
    {
     "data": {
      "text/plain": [
       "(0, 93992.8125)"
      ]
     },
     "execution_count": 167,
     "metadata": {},
     "output_type": "execute_result"
    }
   ],
   "source": [
    "lower_limit,upper_limit"
   ]
  },
  {
   "cell_type": "code",
   "execution_count": 168,
   "id": "96f12159",
   "metadata": {},
   "outputs": [],
   "source": [
    "# Trimming Technique\n",
    "# get the outliers in a boolean series\n",
    "outliers_div = np.where(div['Salaries'] > upper_limit, True, np.where(df['Salaries'] < lower_limit, True, False))"
   ]
  },
  {
   "cell_type": "markdown",
   "id": "4ca8bee7",
   "metadata": {},
   "source": [
    "Syntax :numpy.where(condition[, x, y])\n",
    "Parameters:\n",
    "condition : When True, yield x, otherwise yield y."
   ]
  },
  {
   "cell_type": "code",
   "execution_count": 170,
   "id": "b66d4c5e",
   "metadata": {},
   "outputs": [
    {
     "data": {
      "text/plain": [
       "4"
      ]
     },
     "execution_count": 170,
     "metadata": {},
     "output_type": "execute_result"
    }
   ],
   "source": [
    "#total outliers in series\n",
    "sum(outliers_div)"
   ]
  },
  {
   "cell_type": "code",
   "execution_count": 171,
   "id": "6e9696e5",
   "metadata": {},
   "outputs": [
    {
     "data": {
      "text/plain": [
       "array([False, False, False, False, False, False, False, False, False,\n",
       "       False, False, False, False, False, False, False, False, False,\n",
       "       False, False, False, False, False,  True, False, False, False,\n",
       "       False, False, False, False, False, False, False, False, False,\n",
       "       False, False, False, False, False, False, False, False, False,\n",
       "       False, False, False, False, False, False, False, False, False,\n",
       "       False, False, False, False, False, False, False, False, False,\n",
       "        True, False, False, False, False, False, False, False, False,\n",
       "       False, False,  True, False, False, False, False, False, False,\n",
       "       False, False, False, False, False, False, False, False, False,\n",
       "       False, False, False, False, False, False, False, False, False,\n",
       "       False, False, False, False, False, False, False, False, False,\n",
       "       False, False, False, False, False, False, False, False, False,\n",
       "       False, False, False, False, False, False, False, False, False,\n",
       "       False, False, False, False, False, False, False, False, False,\n",
       "       False, False, False, False, False, False, False, False, False,\n",
       "       False, False, False, False, False, False, False, False, False,\n",
       "       False, False, False, False, False, False, False, False, False,\n",
       "       False, False, False, False, False, False, False, False, False,\n",
       "       False, False, False, False, False, False, False, False, False,\n",
       "       False, False, False, False, False, False, False, False, False,\n",
       "       False, False, False, False, False, False, False, False, False,\n",
       "       False, False, False, False, False, False, False, False, False,\n",
       "       False, False, False, False, False, False, False, False, False,\n",
       "        True, False, False, False, False, False, False, False, False,\n",
       "       False, False, False, False, False, False, False, False, False,\n",
       "       False, False, False, False, False, False, False, False, False,\n",
       "       False, False, False, False, False, False, False, False, False,\n",
       "       False, False, False, False, False, False, False, False, False,\n",
       "       False, False, False, False, False, False, False, False, False,\n",
       "       False, False, False, False, False, False, False, False, False,\n",
       "       False, False, False, False, False, False, False, False, False,\n",
       "       False, False, False, False, False, False, False, False, False,\n",
       "       False, False, False, False, False, False, False, False, False,\n",
       "       False, False, False, False])"
      ]
     },
     "execution_count": 171,
     "metadata": {},
     "output_type": "execute_result"
    }
   ],
   "source": [
    "#display series\n",
    "outliers_div"
   ]
  },
  {
   "cell_type": "code",
   "execution_count": 172,
   "id": "416ea425",
   "metadata": {},
   "outputs": [],
   "source": [
    "div_trimmed = div.loc[~(outliers_div), ]                #passing numpy.ndarray series to loc"
   ]
  },
  {
   "cell_type": "code",
   "execution_count": null,
   "id": "67735208",
   "metadata": {},
   "outputs": [],
   "source": [
    "#loc\n",
    "# 1) df.loc[4, :]                                       #single label  \n",
    "# 2) df.loc[[3,8,5] , ['State','Position']]             #list of labels\n",
    "# 3) df.loc[2:4, 'EmpID':'Salary']                      #slice object  \n",
    "# 4) df.loc[df.MaritalDesc=='Single', :]                #boolean series or numpy.ndarray  \n",
    "# 5) df.loc[lambda df: df.MaritalDesc == 'Single', :]   #function "
   ]
  },
  {
   "cell_type": "code",
   "execution_count": null,
   "id": "3b88c4f5",
   "metadata": {},
   "outputs": [],
   "source": [
    "#iloc\n",
    "# 1) df.iloc[4, :]                                      #single label  \n",
    "# 2) df.iloc[[3,8,5] , [1,0]]                           #list of labels\n",
    "# 3) df.iloc[2:5, 0:4]                                  #slice object  \n",
    "# 4) df.iloc[:, :].query(\"MaritalDesc=='Single'\")       #query  \n",
    "# 5) df.iloc[lambda x: x.index % 2 == 0]                #function "
   ]
  },
  {
   "cell_type": "code",
   "execution_count": 173,
   "id": "3e6deeaa",
   "metadata": {},
   "outputs": [
    {
     "data": {
      "text/plain": [
       "((310, 13), (306, 13))"
      ]
     },
     "execution_count": 173,
     "metadata": {},
     "output_type": "execute_result"
    }
   ],
   "source": [
    "#verify the shape of original and trimmed dataframe\n",
    "div.shape, div_trimmed.shape"
   ]
  },
  {
   "cell_type": "code",
   "execution_count": 174,
   "id": "7f141fbf",
   "metadata": {},
   "outputs": [
    {
     "data": {
      "text/plain": [
       "<AxesSubplot:>"
      ]
     },
     "execution_count": 174,
     "metadata": {},
     "output_type": "execute_result"
    },
    {
     "data": {
      "image/png": "[encoded data removed]",
      "text/plain": [
       "<Figure size 432x288 with 1 Axes>"
      ]
     },
     "metadata": {
      "needs_background": "light"
     },
     "output_type": "display_data"
    }
   ],
   "source": [
    "# boxplot - without outliers in Salaries\n",
    "sns.boxplot(data = div_trimmed.Salaries,orient=\"h\")"
   ]
  },
  {
   "cell_type": "markdown",
   "id": "fb3e9556",
   "metadata": {},
   "source": [
    "#### Replace"
   ]
  },
  {
   "cell_type": "markdown",
   "id": "6395e8ae",
   "metadata": {},
   "source": [
    "**Top-coding** - outlier is capped at a certain maximum value and therefore looks like many other observations, it is not uniquely identifiable any more.   \n",
    "**Bottom-coding** is analogous, but on the left side of the distribution. All values below a certain threshold, are capped at that threshold.   \n",
    "**Zero-coding** If the threshold is zero, then it is known as zero-coding  \n",
    "\n",
    "You can choose to define your outlier threshold based on what works. two options among many are given below:\n",
    "\n",
    "**option1** You can define an outlier as any point that is outside the **3σ** interval (usually for gaussian), which should encompass 99.7% of your data points in a gaussian distribution. In this case, you'd expect that around 0.3% of your data points would be outliers  \n",
    "\n",
    "**option2** For any other distribution you can define any data point beyond 1.5 times IQR from Q1 and Q3 as outlier which would be **2.7σ** interval.you'd expect that around 0.7% of your data points would be outliers."
   ]
  },
  {
   "attachments": {
    "image.png": {
     "image/png": "[encoded data removed]"
    }
   },
   "cell_type": "markdown",
   "id": "f54faeb0",
   "metadata": {},
   "source": [
    "![image.png](attachment:image.png)"
   ]
  },
  {
   "cell_type": "code",
   "execution_count": 175,
   "id": "9242b707",
   "metadata": {},
   "outputs": [],
   "source": [
    "# Now let's replace the outliers by the maximum and minimum limit to new column (pd.DataFrame= typecasting array to dataframe)\n",
    "div['df_replaced'] = pd.DataFrame(np.where(div['Salaries'] > upper_limit, upper_limit, np.where(div['Salaries'] < lower_limit, lower_limit, div['Salaries'])))"
   ]
  },
  {
   "cell_type": "code",
   "execution_count": 177,
   "id": "eb6a55d9",
   "metadata": {},
   "outputs": [
    {
     "data": {
      "text/plain": [
       "<AxesSubplot:>"
      ]
     },
     "execution_count": 177,
     "metadata": {},
     "output_type": "execute_result"
    },
    {
     "data": {
      "image/png": "[encoded data removed]",
      "text/plain": [
       "<Figure size 432x288 with 1 Axes>"
      ]
     },
     "metadata": {
      "needs_background": "light"
     },
     "output_type": "display_data"
    }
   ],
   "source": [
    "# check if ouliers exist in new column\n",
    "sns.boxplot(data = div.df_replaced,orient=\"h\")"
   ]
  },
  {
   "cell_type": "markdown",
   "id": "e0a61b31",
   "metadata": {},
   "source": [
    "##### Winsorization"
   ]
  },
  {
   "cell_type": "code",
   "execution_count": 181,
   "id": "c65e2b67",
   "metadata": {},
   "outputs": [],
   "source": [
    "from feature_engine.outliers import Winsorizer"
   ]
  },
  {
   "cell_type": "code",
   "execution_count": 182,
   "id": "193e6e88",
   "metadata": {},
   "outputs": [],
   "source": [
    "winsor = Winsorizer(capping_method='iqr', # choose  IQR rule boundaries or gaussian for mean and std\n",
    "                          tail='both', # cap left, right or both tails \n",
    "                          fold=1.5,\n",
    "                          variables=['Salaries'])"
   ]
  },
  {
   "cell_type": "code",
   "execution_count": 183,
   "id": "3a619c81",
   "metadata": {},
   "outputs": [],
   "source": [
    "df_t = winsor.fit_transform(df[['Salaries']])"
   ]
  },
  {
   "cell_type": "code",
   "execution_count": 185,
   "id": "bea77eb8",
   "metadata": {},
   "outputs": [],
   "source": [
    "div['df_t'] = df_t"
   ]
  },
  {
   "cell_type": "code",
   "execution_count": 186,
   "id": "8b7e01d1",
   "metadata": {
    "scrolled": true
   },
   "outputs": [
    {
     "data": {
      "text/plain": [
       "<AxesSubplot:>"
      ]
     },
     "execution_count": 186,
     "metadata": {},
     "output_type": "execute_result"
    },
    {
     "data": {
      "image/png": "[encoded data removed]",
      "text/plain": [
       "<Figure size 432x288 with 1 Axes>"
      ]
     },
     "metadata": {
      "needs_background": "light"
     },
     "output_type": "display_data"
    }
   ],
   "source": [
    "sns.boxplot(data = div.df_t,orient=\"h\")"
   ]
  },
  {
   "cell_type": "code",
   "execution_count": 276,
   "id": "f69e5424",
   "metadata": {},
   "outputs": [
    {
     "data": {
      "text/plain": [
       "<AxesSubplot:>"
      ]
     },
     "execution_count": 276,
     "metadata": {},
     "output_type": "execute_result"
    },
    {
     "data": {
      "image/png": "[encoded data removed]",
      "text/plain": [
       "<Figure size 432x288 with 1 Axes>"
      ]
     },
     "metadata": {
      "needs_background": "light"
     },
     "output_type": "display_data"
    }
   ],
   "source": [
    "sns.boxplot(data = div.Salaries,orient=\"h\")"
   ]
  },
  {
   "cell_type": "code",
   "execution_count": 278,
   "id": "95294d42",
   "metadata": {},
   "outputs": [],
   "source": [
    "#trim right only \n",
    "winsor1 = Winsorizer(capping_method='iqr', # choose  IQR rule boundaries or gaussian for mean and std\n",
    "                          tail='right', # cap left, right or both tails \n",
    "                          fold=1.5,\n",
    "                          variables=['Salaries'])"
   ]
  },
  {
   "cell_type": "code",
   "execution_count": 279,
   "id": "e98c25c8",
   "metadata": {},
   "outputs": [],
   "source": [
    "df_t1 = winsor1.fit_transform(df[['Salaries']])"
   ]
  },
  {
   "cell_type": "code",
   "execution_count": 280,
   "id": "86adde8c",
   "metadata": {},
   "outputs": [],
   "source": [
    "div['df_t1'] = df_t1"
   ]
  },
  {
   "cell_type": "code",
   "execution_count": 281,
   "id": "0160b88c",
   "metadata": {},
   "outputs": [
    {
     "data": {
      "text/plain": [
       "<AxesSubplot:>"
      ]
     },
     "execution_count": 281,
     "metadata": {},
     "output_type": "execute_result"
    },
    {
     "data": {
      "image/png": "[encoded data removed]",
      "text/plain": [
       "<Figure size 432x288 with 1 Axes>"
      ]
     },
     "metadata": {
      "needs_background": "light"
     },
     "output_type": "display_data"
    }
   ],
   "source": [
    "sns.boxplot(data = div.df_t1,orient=\"h\")"
   ]
  },
  {
   "cell_type": "markdown",
   "id": "d8581a2c",
   "metadata": {},
   "source": [
    "### Discretization"
   ]
  },
  {
   "cell_type": "markdown",
   "id": "0dec1e02",
   "metadata": {},
   "source": [
    "* Converts continuous numerical data to categorical data"
   ]
  },
  {
   "cell_type": "code",
   "execution_count": 124,
   "id": "d130b05c",
   "metadata": {},
   "outputs": [],
   "source": [
    "import pandas as pd\n",
    "data = pd.read_csv(\"C:/D/personal/Development/360/02- EDA/Datasets_EDA (1)/ethnic diversity.csv\")"
   ]
  },
  {
   "cell_type": "code",
   "execution_count": 125,
   "id": "1f21fec5",
   "metadata": {},
   "outputs": [
    {
     "data": {
      "text/html": [
       "<div>\n",
       "<style scoped>\n",
       "    .dataframe tbody tr th:only-of-type {\n",
       "        vertical-align: middle;\n",
       "    }\n",
       "\n",
       "    .dataframe tbody tr th {\n",
       "        vertical-align: top;\n",
       "    }\n",
       "\n",
       "    .dataframe thead th {\n",
       "        text-align: right;\n",
       "    }\n",
       "</style>\n",
       "<table border=\"1\" class=\"dataframe\">\n",
       "  <thead>\n",
       "    <tr style=\"text-align: right;\">\n",
       "      <th></th>\n",
       "      <th>Employee_Name</th>\n",
       "      <th>EmpID</th>\n",
       "      <th>Position</th>\n",
       "      <th>State</th>\n",
       "      <th>Zip</th>\n",
       "      <th>Sex</th>\n",
       "      <th>MaritalDesc</th>\n",
       "      <th>CitizenDesc</th>\n",
       "      <th>EmploymentStatus</th>\n",
       "      <th>Department</th>\n",
       "      <th>Salaries</th>\n",
       "      <th>age</th>\n",
       "      <th>Race</th>\n",
       "    </tr>\n",
       "  </thead>\n",
       "  <tbody>\n",
       "    <tr>\n",
       "      <th>0</th>\n",
       "      <td>Brown, Mia</td>\n",
       "      <td>1103024456</td>\n",
       "      <td>Accountant I</td>\n",
       "      <td>MA</td>\n",
       "      <td>1450</td>\n",
       "      <td>F</td>\n",
       "      <td>Married</td>\n",
       "      <td>US Citizen</td>\n",
       "      <td>Active</td>\n",
       "      <td>Admin Offices</td>\n",
       "      <td>674.28</td>\n",
       "      <td>28</td>\n",
       "      <td>Black or African American</td>\n",
       "    </tr>\n",
       "    <tr>\n",
       "      <th>1</th>\n",
       "      <td>LaRotonda, William</td>\n",
       "      <td>1106026572</td>\n",
       "      <td>Accountant I</td>\n",
       "      <td>MA</td>\n",
       "      <td>1460</td>\n",
       "      <td>M</td>\n",
       "      <td>Divorced</td>\n",
       "      <td>US Citizen</td>\n",
       "      <td>Active</td>\n",
       "      <td>Admin Offices</td>\n",
       "      <td>674.28</td>\n",
       "      <td>50</td>\n",
       "      <td>Black or African American</td>\n",
       "    </tr>\n",
       "    <tr>\n",
       "      <th>2</th>\n",
       "      <td>Steans, Tyrone</td>\n",
       "      <td>1302053333</td>\n",
       "      <td>Accountant I</td>\n",
       "      <td>MA</td>\n",
       "      <td>2703</td>\n",
       "      <td>M</td>\n",
       "      <td>Single</td>\n",
       "      <td>US Citizen</td>\n",
       "      <td>Active</td>\n",
       "      <td>Admin Offices</td>\n",
       "      <td>674.28</td>\n",
       "      <td>43</td>\n",
       "      <td>White</td>\n",
       "    </tr>\n",
       "    <tr>\n",
       "      <th>3</th>\n",
       "      <td>Howard, Estelle</td>\n",
       "      <td>1211050782</td>\n",
       "      <td>Administrative Assistant</td>\n",
       "      <td>MA</td>\n",
       "      <td>2170</td>\n",
       "      <td>F</td>\n",
       "      <td>Married</td>\n",
       "      <td>US Citizen</td>\n",
       "      <td>Terminated for Cause</td>\n",
       "      <td>Admin Offices</td>\n",
       "      <td>47822.00</td>\n",
       "      <td>44</td>\n",
       "      <td>White</td>\n",
       "    </tr>\n",
       "    <tr>\n",
       "      <th>4</th>\n",
       "      <td>Singh, Nan</td>\n",
       "      <td>1307059817</td>\n",
       "      <td>Administrative Assistant</td>\n",
       "      <td>MA</td>\n",
       "      <td>2330</td>\n",
       "      <td>F</td>\n",
       "      <td>Single</td>\n",
       "      <td>US Citizen</td>\n",
       "      <td>Active</td>\n",
       "      <td>Admin Offices</td>\n",
       "      <td>61089.35</td>\n",
       "      <td>33</td>\n",
       "      <td>White</td>\n",
       "    </tr>\n",
       "  </tbody>\n",
       "</table>\n",
       "</div>"
      ],
      "text/plain": [
       "          Employee_Name       EmpID                  Position State   Zip Sex  \\\n",
       "0            Brown, Mia  1103024456              Accountant I    MA  1450   F   \n",
       "1  LaRotonda, William    1106026572              Accountant I    MA  1460  M    \n",
       "2      Steans, Tyrone    1302053333              Accountant I    MA  2703  M    \n",
       "3       Howard, Estelle  1211050782  Administrative Assistant    MA  2170   F   \n",
       "4           Singh, Nan   1307059817  Administrative Assistant    MA  2330   F   \n",
       "\n",
       "  MaritalDesc CitizenDesc      EmploymentStatus     Department  Salaries  age  \\\n",
       "0     Married  US Citizen                Active  Admin Offices    674.28   28   \n",
       "1    Divorced  US Citizen                Active  Admin Offices    674.28   50   \n",
       "2      Single  US Citizen                Active  Admin Offices    674.28   43   \n",
       "3     Married  US Citizen  Terminated for Cause  Admin Offices  47822.00   44   \n",
       "4      Single  US Citizen                Active  Admin Offices  61089.35   33   \n",
       "\n",
       "                        Race  \n",
       "0  Black or African American  \n",
       "1  Black or African American  \n",
       "2                      White  \n",
       "3                      White  \n",
       "4                      White  "
      ]
     },
     "execution_count": 125,
     "metadata": {},
     "output_type": "execute_result"
    }
   ],
   "source": [
    "data.head()"
   ]
  },
  {
   "cell_type": "code",
   "execution_count": 126,
   "id": "dd1f2550",
   "metadata": {},
   "outputs": [
    {
     "data": {
      "text/html": [
       "<div>\n",
       "<style scoped>\n",
       "    .dataframe tbody tr th:only-of-type {\n",
       "        vertical-align: middle;\n",
       "    }\n",
       "\n",
       "    .dataframe tbody tr th {\n",
       "        vertical-align: top;\n",
       "    }\n",
       "\n",
       "    .dataframe thead th {\n",
       "        text-align: right;\n",
       "    }\n",
       "</style>\n",
       "<table border=\"1\" class=\"dataframe\">\n",
       "  <thead>\n",
       "    <tr style=\"text-align: right;\">\n",
       "      <th></th>\n",
       "      <th>EmpID</th>\n",
       "      <th>Zip</th>\n",
       "      <th>Salaries</th>\n",
       "      <th>age</th>\n",
       "    </tr>\n",
       "  </thead>\n",
       "  <tbody>\n",
       "    <tr>\n",
       "      <th>count</th>\n",
       "      <td>3.100000e+02</td>\n",
       "      <td>310.000000</td>\n",
       "      <td>310.000000</td>\n",
       "      <td>310.000000</td>\n",
       "    </tr>\n",
       "    <tr>\n",
       "      <th>mean</th>\n",
       "      <td>1.199745e+09</td>\n",
       "      <td>6569.732258</td>\n",
       "      <td>36670.102742</td>\n",
       "      <td>38.696774</td>\n",
       "    </tr>\n",
       "    <tr>\n",
       "      <th>std</th>\n",
       "      <td>1.829600e+08</td>\n",
       "      <td>16933.864054</td>\n",
       "      <td>21075.942369</td>\n",
       "      <td>9.258163</td>\n",
       "    </tr>\n",
       "    <tr>\n",
       "      <th>min</th>\n",
       "      <td>6.020003e+08</td>\n",
       "      <td>1013.000000</td>\n",
       "      <td>0.000000</td>\n",
       "      <td>23.000000</td>\n",
       "    </tr>\n",
       "    <tr>\n",
       "      <th>25%</th>\n",
       "      <td>1.101024e+09</td>\n",
       "      <td>1901.250000</td>\n",
       "      <td>23092.950000</td>\n",
       "      <td>31.000000</td>\n",
       "    </tr>\n",
       "    <tr>\n",
       "      <th>50%</th>\n",
       "      <td>1.203032e+09</td>\n",
       "      <td>2132.000000</td>\n",
       "      <td>34554.745000</td>\n",
       "      <td>39.000000</td>\n",
       "    </tr>\n",
       "    <tr>\n",
       "      <th>75%</th>\n",
       "      <td>1.378814e+09</td>\n",
       "      <td>2357.000000</td>\n",
       "      <td>51452.895000</td>\n",
       "      <td>46.000000</td>\n",
       "    </tr>\n",
       "    <tr>\n",
       "      <th>max</th>\n",
       "      <td>1.988300e+09</td>\n",
       "      <td>98052.000000</td>\n",
       "      <td>108304.000000</td>\n",
       "      <td>54.000000</td>\n",
       "    </tr>\n",
       "  </tbody>\n",
       "</table>\n",
       "</div>"
      ],
      "text/plain": [
       "              EmpID           Zip       Salaries         age\n",
       "count  3.100000e+02    310.000000     310.000000  310.000000\n",
       "mean   1.199745e+09   6569.732258   36670.102742   38.696774\n",
       "std    1.829600e+08  16933.864054   21075.942369    9.258163\n",
       "min    6.020003e+08   1013.000000       0.000000   23.000000\n",
       "25%    1.101024e+09   1901.250000   23092.950000   31.000000\n",
       "50%    1.203032e+09   2132.000000   34554.745000   39.000000\n",
       "75%    1.378814e+09   2357.000000   51452.895000   46.000000\n",
       "max    1.988300e+09  98052.000000  108304.000000   54.000000"
      ]
     },
     "execution_count": 126,
     "metadata": {},
     "output_type": "execute_result"
    }
   ],
   "source": [
    "data.describe()"
   ]
  },
  {
   "cell_type": "code",
   "execution_count": 128,
   "id": "02d4a7af",
   "metadata": {},
   "outputs": [],
   "source": [
    "data['Salaries_new'] = pd.cut(data['Salaries'], bins=[min(data.Salaries) - 1, \n",
    "                                                  data.Salaries.mean(), max(data.Salaries)], labels=[\"Low\",\"High\"])"
   ]
  },
  {
   "cell_type": "code",
   "execution_count": 129,
   "id": "140406fc",
   "metadata": {},
   "outputs": [
    {
     "data": {
      "text/html": [
       "<div>\n",
       "<style scoped>\n",
       "    .dataframe tbody tr th:only-of-type {\n",
       "        vertical-align: middle;\n",
       "    }\n",
       "\n",
       "    .dataframe tbody tr th {\n",
       "        vertical-align: top;\n",
       "    }\n",
       "\n",
       "    .dataframe thead th {\n",
       "        text-align: right;\n",
       "    }\n",
       "</style>\n",
       "<table border=\"1\" class=\"dataframe\">\n",
       "  <thead>\n",
       "    <tr style=\"text-align: right;\">\n",
       "      <th></th>\n",
       "      <th>Employee_Name</th>\n",
       "      <th>EmpID</th>\n",
       "      <th>Position</th>\n",
       "      <th>State</th>\n",
       "      <th>Zip</th>\n",
       "      <th>Sex</th>\n",
       "      <th>MaritalDesc</th>\n",
       "      <th>CitizenDesc</th>\n",
       "      <th>EmploymentStatus</th>\n",
       "      <th>Department</th>\n",
       "      <th>Salaries</th>\n",
       "      <th>age</th>\n",
       "      <th>Race</th>\n",
       "      <th>Salaries_new</th>\n",
       "    </tr>\n",
       "  </thead>\n",
       "  <tbody>\n",
       "    <tr>\n",
       "      <th>0</th>\n",
       "      <td>Brown, Mia</td>\n",
       "      <td>1103024456</td>\n",
       "      <td>Accountant I</td>\n",
       "      <td>MA</td>\n",
       "      <td>1450</td>\n",
       "      <td>F</td>\n",
       "      <td>Married</td>\n",
       "      <td>US Citizen</td>\n",
       "      <td>Active</td>\n",
       "      <td>Admin Offices</td>\n",
       "      <td>674.28</td>\n",
       "      <td>28</td>\n",
       "      <td>Black or African American</td>\n",
       "      <td>Low</td>\n",
       "    </tr>\n",
       "    <tr>\n",
       "      <th>1</th>\n",
       "      <td>LaRotonda, William</td>\n",
       "      <td>1106026572</td>\n",
       "      <td>Accountant I</td>\n",
       "      <td>MA</td>\n",
       "      <td>1460</td>\n",
       "      <td>M</td>\n",
       "      <td>Divorced</td>\n",
       "      <td>US Citizen</td>\n",
       "      <td>Active</td>\n",
       "      <td>Admin Offices</td>\n",
       "      <td>674.28</td>\n",
       "      <td>50</td>\n",
       "      <td>Black or African American</td>\n",
       "      <td>Low</td>\n",
       "    </tr>\n",
       "    <tr>\n",
       "      <th>2</th>\n",
       "      <td>Steans, Tyrone</td>\n",
       "      <td>1302053333</td>\n",
       "      <td>Accountant I</td>\n",
       "      <td>MA</td>\n",
       "      <td>2703</td>\n",
       "      <td>M</td>\n",
       "      <td>Single</td>\n",
       "      <td>US Citizen</td>\n",
       "      <td>Active</td>\n",
       "      <td>Admin Offices</td>\n",
       "      <td>674.28</td>\n",
       "      <td>43</td>\n",
       "      <td>White</td>\n",
       "      <td>Low</td>\n",
       "    </tr>\n",
       "    <tr>\n",
       "      <th>3</th>\n",
       "      <td>Howard, Estelle</td>\n",
       "      <td>1211050782</td>\n",
       "      <td>Administrative Assistant</td>\n",
       "      <td>MA</td>\n",
       "      <td>2170</td>\n",
       "      <td>F</td>\n",
       "      <td>Married</td>\n",
       "      <td>US Citizen</td>\n",
       "      <td>Terminated for Cause</td>\n",
       "      <td>Admin Offices</td>\n",
       "      <td>47822.00</td>\n",
       "      <td>44</td>\n",
       "      <td>White</td>\n",
       "      <td>High</td>\n",
       "    </tr>\n",
       "    <tr>\n",
       "      <th>4</th>\n",
       "      <td>Singh, Nan</td>\n",
       "      <td>1307059817</td>\n",
       "      <td>Administrative Assistant</td>\n",
       "      <td>MA</td>\n",
       "      <td>2330</td>\n",
       "      <td>F</td>\n",
       "      <td>Single</td>\n",
       "      <td>US Citizen</td>\n",
       "      <td>Active</td>\n",
       "      <td>Admin Offices</td>\n",
       "      <td>61089.35</td>\n",
       "      <td>33</td>\n",
       "      <td>White</td>\n",
       "      <td>High</td>\n",
       "    </tr>\n",
       "  </tbody>\n",
       "</table>\n",
       "</div>"
      ],
      "text/plain": [
       "          Employee_Name       EmpID                  Position State   Zip Sex  \\\n",
       "0            Brown, Mia  1103024456              Accountant I    MA  1450   F   \n",
       "1  LaRotonda, William    1106026572              Accountant I    MA  1460  M    \n",
       "2      Steans, Tyrone    1302053333              Accountant I    MA  2703  M    \n",
       "3       Howard, Estelle  1211050782  Administrative Assistant    MA  2170   F   \n",
       "4           Singh, Nan   1307059817  Administrative Assistant    MA  2330   F   \n",
       "\n",
       "  MaritalDesc CitizenDesc      EmploymentStatus     Department  Salaries  age  \\\n",
       "0     Married  US Citizen                Active  Admin Offices    674.28   28   \n",
       "1    Divorced  US Citizen                Active  Admin Offices    674.28   50   \n",
       "2      Single  US Citizen                Active  Admin Offices    674.28   43   \n",
       "3     Married  US Citizen  Terminated for Cause  Admin Offices  47822.00   44   \n",
       "4      Single  US Citizen                Active  Admin Offices  61089.35   33   \n",
       "\n",
       "                        Race Salaries_new  \n",
       "0  Black or African American          Low  \n",
       "1  Black or African American          Low  \n",
       "2                      White          Low  \n",
       "3                      White         High  \n",
       "4                      White         High  "
      ]
     },
     "execution_count": 129,
     "metadata": {},
     "output_type": "execute_result"
    }
   ],
   "source": [
    "data.head()"
   ]
  },
  {
   "cell_type": "code",
   "execution_count": 130,
   "id": "c9d82ab1",
   "metadata": {},
   "outputs": [
    {
     "data": {
      "text/plain": [
       "Low     167\n",
       "High    143\n",
       "Name: Salaries_new, dtype: int64"
      ]
     },
     "execution_count": 130,
     "metadata": {},
     "output_type": "execute_result"
    }
   ],
   "source": [
    "data.Salaries_new.value_counts()"
   ]
  },
  {
   "cell_type": "code",
   "execution_count": 131,
   "id": "e7825b7c",
   "metadata": {},
   "outputs": [
    {
     "data": {
      "text/plain": [
       "(310, 14)"
      ]
     },
     "execution_count": 131,
     "metadata": {},
     "output_type": "execute_result"
    }
   ],
   "source": [
    "data.shape"
   ]
  },
  {
   "cell_type": "markdown",
   "id": "96684dab",
   "metadata": {},
   "source": [
    "### Missing Values Imputation"
   ]
  },
  {
   "cell_type": "markdown",
   "id": "e3406590",
   "metadata": {},
   "source": [
    "* Imputation is the act of replacing missing data with statistical estimates of the missing values. The goal of any imputation technique is to produce a complete dataset that can then be then used for machine learning.  \n",
    "* Mean/median imputation consists of replacing all occurrences of missing values (NA) within a variable by the mean (if the variable has a Gaussian distribution) or median (if the variable has a skewed distribution)  \n",
    "\n",
    "\n",
    "\n",
    "\n",
    "* **MCAR: Missing Completely at random :**\n",
    "If the probability of being missing is the same for all cases, then the data are said to be missing completely at random (MCAR). This effectively implies that causes of the missing data are unrelated to the data.\n",
    "\n",
    "* **MAR: Missing at Random:**\n",
    "If the probability of being missing is the same only within groups defined by the observed data, then the data are missing at random (MAR). MAR is a much broader class than MCAR. For example, when placed on a soft surface, a weighing scale may produce more missing values than when placed on a hard surface.\n",
    "\n",
    "* **MNAR: Missing Not at Random**\n",
    "MNAR means that the probability of being missing varies for reasons that are unknown to us. For example, the weighing scale mechanism may wear out over time, producing more missing data as time progresses, but we may fail to note this.\n",
    "MNAR is called “non-ignorable” because the missing data mechanism itself has to be modeled as you deal with the missing data. Strategies to handle MNAR are to find more data about the causes for the missingness, or to perform what-if analyses to see how sensitive the results are under various scenarios.\n",
    "\n",
    "\n",
    "isnull() and isna() give the same output. isnull() is just an alias of the isna() method as shown in pandas source code.\n",
    "You can use the pd.NaT, np.NaN or None to denote the missing values in the dataframe."
   ]
  },
  {
   "cell_type": "code",
   "execution_count": 601,
   "id": "6c72e340",
   "metadata": {},
   "outputs": [],
   "source": [
    "df = pd.read_csv('C:/D/personal/Development/360/02- EDA/Datasets_EDA (1)/modified ethnic.csv') # for doing modifications"
   ]
  },
  {
   "cell_type": "code",
   "execution_count": 522,
   "id": "579cdf94",
   "metadata": {},
   "outputs": [
    {
     "data": {
      "text/html": [
       "<div>\n",
       "<style scoped>\n",
       "    .dataframe tbody tr th:only-of-type {\n",
       "        vertical-align: middle;\n",
       "    }\n",
       "\n",
       "    .dataframe tbody tr th {\n",
       "        vertical-align: top;\n",
       "    }\n",
       "\n",
       "    .dataframe thead th {\n",
       "        text-align: right;\n",
       "    }\n",
       "</style>\n",
       "<table border=\"1\" class=\"dataframe\">\n",
       "  <thead>\n",
       "    <tr style=\"text-align: right;\">\n",
       "      <th></th>\n",
       "      <th>Position</th>\n",
       "      <th>State</th>\n",
       "      <th>Sex</th>\n",
       "      <th>MaritalDesc</th>\n",
       "      <th>CitizenDesc</th>\n",
       "      <th>EmploymentStatus</th>\n",
       "      <th>Department</th>\n",
       "      <th>Salaries</th>\n",
       "      <th>age</th>\n",
       "      <th>Race</th>\n",
       "    </tr>\n",
       "  </thead>\n",
       "  <tbody>\n",
       "    <tr>\n",
       "      <th>0</th>\n",
       "      <td>False</td>\n",
       "      <td>True</td>\n",
       "      <td>False</td>\n",
       "      <td>False</td>\n",
       "      <td>False</td>\n",
       "      <td>False</td>\n",
       "      <td>False</td>\n",
       "      <td>False</td>\n",
       "      <td>True</td>\n",
       "      <td>False</td>\n",
       "    </tr>\n",
       "    <tr>\n",
       "      <th>1</th>\n",
       "      <td>False</td>\n",
       "      <td>False</td>\n",
       "      <td>False</td>\n",
       "      <td>False</td>\n",
       "      <td>False</td>\n",
       "      <td>False</td>\n",
       "      <td>False</td>\n",
       "      <td>False</td>\n",
       "      <td>False</td>\n",
       "      <td>False</td>\n",
       "    </tr>\n",
       "    <tr>\n",
       "      <th>2</th>\n",
       "      <td>False</td>\n",
       "      <td>False</td>\n",
       "      <td>False</td>\n",
       "      <td>False</td>\n",
       "      <td>True</td>\n",
       "      <td>False</td>\n",
       "      <td>False</td>\n",
       "      <td>False</td>\n",
       "      <td>False</td>\n",
       "      <td>False</td>\n",
       "    </tr>\n",
       "    <tr>\n",
       "      <th>3</th>\n",
       "      <td>False</td>\n",
       "      <td>False</td>\n",
       "      <td>False</td>\n",
       "      <td>True</td>\n",
       "      <td>False</td>\n",
       "      <td>False</td>\n",
       "      <td>False</td>\n",
       "      <td>False</td>\n",
       "      <td>False</td>\n",
       "      <td>True</td>\n",
       "    </tr>\n",
       "    <tr>\n",
       "      <th>4</th>\n",
       "      <td>True</td>\n",
       "      <td>False</td>\n",
       "      <td>False</td>\n",
       "      <td>False</td>\n",
       "      <td>False</td>\n",
       "      <td>False</td>\n",
       "      <td>False</td>\n",
       "      <td>True</td>\n",
       "      <td>False</td>\n",
       "      <td>False</td>\n",
       "    </tr>\n",
       "    <tr>\n",
       "      <th>...</th>\n",
       "      <td>...</td>\n",
       "      <td>...</td>\n",
       "      <td>...</td>\n",
       "      <td>...</td>\n",
       "      <td>...</td>\n",
       "      <td>...</td>\n",
       "      <td>...</td>\n",
       "      <td>...</td>\n",
       "      <td>...</td>\n",
       "      <td>...</td>\n",
       "    </tr>\n",
       "    <tr>\n",
       "      <th>305</th>\n",
       "      <td>False</td>\n",
       "      <td>False</td>\n",
       "      <td>False</td>\n",
       "      <td>False</td>\n",
       "      <td>False</td>\n",
       "      <td>False</td>\n",
       "      <td>False</td>\n",
       "      <td>True</td>\n",
       "      <td>False</td>\n",
       "      <td>False</td>\n",
       "    </tr>\n",
       "    <tr>\n",
       "      <th>306</th>\n",
       "      <td>False</td>\n",
       "      <td>False</td>\n",
       "      <td>False</td>\n",
       "      <td>False</td>\n",
       "      <td>False</td>\n",
       "      <td>False</td>\n",
       "      <td>False</td>\n",
       "      <td>False</td>\n",
       "      <td>False</td>\n",
       "      <td>False</td>\n",
       "    </tr>\n",
       "    <tr>\n",
       "      <th>307</th>\n",
       "      <td>True</td>\n",
       "      <td>False</td>\n",
       "      <td>False</td>\n",
       "      <td>False</td>\n",
       "      <td>False</td>\n",
       "      <td>False</td>\n",
       "      <td>False</td>\n",
       "      <td>False</td>\n",
       "      <td>False</td>\n",
       "      <td>False</td>\n",
       "    </tr>\n",
       "    <tr>\n",
       "      <th>308</th>\n",
       "      <td>False</td>\n",
       "      <td>False</td>\n",
       "      <td>False</td>\n",
       "      <td>True</td>\n",
       "      <td>False</td>\n",
       "      <td>False</td>\n",
       "      <td>False</td>\n",
       "      <td>False</td>\n",
       "      <td>False</td>\n",
       "      <td>False</td>\n",
       "    </tr>\n",
       "    <tr>\n",
       "      <th>309</th>\n",
       "      <td>False</td>\n",
       "      <td>False</td>\n",
       "      <td>False</td>\n",
       "      <td>False</td>\n",
       "      <td>False</td>\n",
       "      <td>False</td>\n",
       "      <td>False</td>\n",
       "      <td>False</td>\n",
       "      <td>False</td>\n",
       "      <td>False</td>\n",
       "    </tr>\n",
       "  </tbody>\n",
       "</table>\n",
       "<p>310 rows × 10 columns</p>\n",
       "</div>"
      ],
      "text/plain": [
       "     Position  State    Sex  MaritalDesc  CitizenDesc  EmploymentStatus  \\\n",
       "0       False   True  False        False        False             False   \n",
       "1       False  False  False        False        False             False   \n",
       "2       False  False  False        False         True             False   \n",
       "3       False  False  False         True        False             False   \n",
       "4        True  False  False        False        False             False   \n",
       "..        ...    ...    ...          ...          ...               ...   \n",
       "305     False  False  False        False        False             False   \n",
       "306     False  False  False        False        False             False   \n",
       "307      True  False  False        False        False             False   \n",
       "308     False  False  False         True        False             False   \n",
       "309     False  False  False        False        False             False   \n",
       "\n",
       "     Department  Salaries    age   Race  \n",
       "0         False     False   True  False  \n",
       "1         False     False  False  False  \n",
       "2         False     False  False  False  \n",
       "3         False     False  False   True  \n",
       "4         False      True  False  False  \n",
       "..          ...       ...    ...    ...  \n",
       "305       False      True  False  False  \n",
       "306       False     False  False  False  \n",
       "307       False     False  False  False  \n",
       "308       False     False  False  False  \n",
       "309       False     False  False  False  \n",
       "\n",
       "[310 rows x 10 columns]"
      ]
     },
     "execution_count": 522,
     "metadata": {},
     "output_type": "execute_result"
    }
   ],
   "source": [
    "df.isna()"
   ]
  },
  {
   "cell_type": "code",
   "execution_count": 523,
   "id": "22fcc030",
   "metadata": {},
   "outputs": [
    {
     "data": {
      "text/plain": [
       "Position            43\n",
       "State               35\n",
       "Sex                 34\n",
       "MaritalDesc         29\n",
       "CitizenDesc         27\n",
       "EmploymentStatus    32\n",
       "Department          18\n",
       "Salaries            32\n",
       "age                 35\n",
       "Race                25\n",
       "dtype: int64"
      ]
     },
     "execution_count": 523,
     "metadata": {},
     "output_type": "execute_result"
    }
   ],
   "source": [
    "# check for count of NA'sin each column\n",
    "df.isna().sum()"
   ]
  },
  {
   "cell_type": "code",
   "execution_count": 524,
   "id": "40a0b293",
   "metadata": {},
   "outputs": [],
   "source": [
    "# Create an imputer object that fills 'Nan' values\n",
    "# Mean and Median imputer are used for numeric data (Salaries)\n",
    "# Mode is used for discrete data (ex: Position, Sex, MaritalDesc)\n",
    "\n",
    "# for Mean, Median, Mode imputation we can use Simple Imputer or df.fillna()\n",
    "from sklearn.impute import SimpleImputer"
   ]
  },
  {
   "cell_type": "markdown",
   "id": "33c2e7de",
   "metadata": {},
   "source": [
    "The imputation strategy for SimpleImputer.\n",
    "\n",
    "* If “mean”, then replace missing values using the mean along each column. Can only be used with numeric data.  \n",
    "* If “median”, then replace missing values using the median along each column. Can only be used with numeric data.  \n",
    "* If “most_frequent”, then replace missing using the most frequent value along each column. Can be used with strings or numeric data. If there is more than one such value, only the smallest is returned.  \n",
    "* If “constant”, then replace missing values with fill_value. Can be used with strings or numeric data.  "
   ]
  },
  {
   "cell_type": "markdown",
   "id": "ea0c2b65",
   "metadata": {},
   "source": [
    "#### Mean Imputer "
   ]
  },
  {
   "cell_type": "code",
   "execution_count": 525,
   "id": "3b94d0e7",
   "metadata": {},
   "outputs": [],
   "source": [
    "mean_imputer = SimpleImputer(missing_values=np.nan, strategy='mean')"
   ]
  },
  {
   "cell_type": "code",
   "execution_count": 529,
   "id": "683b5873",
   "metadata": {},
   "outputs": [],
   "source": [
    "df[\"Salaries\"] = pd.DataFrame(mean_imputer.fit_transform(df[[\"Salaries\"]]))"
   ]
  },
  {
   "cell_type": "code",
   "execution_count": 530,
   "id": "56ec34bd",
   "metadata": {},
   "outputs": [
    {
     "data": {
      "text/plain": [
       "0"
      ]
     },
     "execution_count": 530,
     "metadata": {},
     "output_type": "execute_result"
    }
   ],
   "source": [
    "df[\"Salaries\"].isna().sum()"
   ]
  },
  {
   "cell_type": "code",
   "execution_count": 531,
   "id": "3df5b461",
   "metadata": {},
   "outputs": [
    {
     "data": {
      "text/plain": [
       "Position            43\n",
       "State               35\n",
       "Sex                 34\n",
       "MaritalDesc         29\n",
       "CitizenDesc         27\n",
       "EmploymentStatus    32\n",
       "Department          18\n",
       "Salaries             0\n",
       "age                 35\n",
       "Race                25\n",
       "dtype: int64"
      ]
     },
     "execution_count": 531,
     "metadata": {},
     "output_type": "execute_result"
    }
   ],
   "source": [
    "df.isna().sum()"
   ]
  },
  {
   "cell_type": "markdown",
   "id": "e73e1853",
   "metadata": {},
   "source": [
    "#### Median Imputer "
   ]
  },
  {
   "cell_type": "code",
   "execution_count": 532,
   "id": "f2c7664e",
   "metadata": {},
   "outputs": [],
   "source": [
    "median_imputer = SimpleImputer(missing_values=np.nan, strategy='median')"
   ]
  },
  {
   "cell_type": "code",
   "execution_count": 533,
   "id": "ab5a4405",
   "metadata": {},
   "outputs": [
    {
     "data": {
      "text/plain": [
       "35"
      ]
     },
     "execution_count": 533,
     "metadata": {},
     "output_type": "execute_result"
    }
   ],
   "source": [
    "df[\"age\"].isna().sum()"
   ]
  },
  {
   "cell_type": "code",
   "execution_count": 534,
   "id": "bd2a8c76",
   "metadata": {},
   "outputs": [],
   "source": [
    "df[\"age\"] = pd.DataFrame(median_imputer.fit_transform(df[[\"age\"]]))"
   ]
  },
  {
   "cell_type": "code",
   "execution_count": 535,
   "id": "fa534361",
   "metadata": {},
   "outputs": [
    {
     "data": {
      "text/plain": [
       "0"
      ]
     },
     "execution_count": 535,
     "metadata": {},
     "output_type": "execute_result"
    }
   ],
   "source": [
    "df[\"age\"].isna().sum()  # all 2 records replaced by median "
   ]
  },
  {
   "cell_type": "code",
   "execution_count": 536,
   "id": "a60b11b2",
   "metadata": {},
   "outputs": [
    {
     "data": {
      "text/plain": [
       "Position            43\n",
       "State               35\n",
       "Sex                 34\n",
       "MaritalDesc         29\n",
       "CitizenDesc         27\n",
       "EmploymentStatus    32\n",
       "Department          18\n",
       "Salaries             0\n",
       "age                  0\n",
       "Race                25\n",
       "dtype: int64"
      ]
     },
     "execution_count": 536,
     "metadata": {},
     "output_type": "execute_result"
    }
   ],
   "source": [
    "df.isna().sum()"
   ]
  },
  {
   "cell_type": "markdown",
   "id": "2f338669",
   "metadata": {},
   "source": [
    "#### Mode Imputer "
   ]
  },
  {
   "cell_type": "code",
   "execution_count": 537,
   "id": "f844ef0a",
   "metadata": {},
   "outputs": [],
   "source": [
    "mode_imputer = SimpleImputer(missing_values=np.nan, strategy='most_frequent')"
   ]
  },
  {
   "cell_type": "code",
   "execution_count": 538,
   "id": "ee89b5df",
   "metadata": {},
   "outputs": [
    {
     "data": {
      "text/plain": [
       "34"
      ]
     },
     "execution_count": 538,
     "metadata": {},
     "output_type": "execute_result"
    }
   ],
   "source": [
    "df[\"Sex\"].isna().sum()"
   ]
  },
  {
   "cell_type": "code",
   "execution_count": 539,
   "id": "b46faac2",
   "metadata": {},
   "outputs": [],
   "source": [
    "df[\"Sex\"] = pd.DataFrame(mode_imputer.fit_transform(df[[\"Sex\"]]))"
   ]
  },
  {
   "cell_type": "code",
   "execution_count": 540,
   "id": "19677153",
   "metadata": {},
   "outputs": [],
   "source": [
    "df[\"MaritalDesc\"] = pd.DataFrame(mode_imputer.fit_transform(df[[\"MaritalDesc\"]]))"
   ]
  },
  {
   "cell_type": "code",
   "execution_count": 541,
   "id": "6b8f1e9f",
   "metadata": {},
   "outputs": [
    {
     "data": {
      "text/plain": [
       "Position            43\n",
       "State               35\n",
       "Sex                  0\n",
       "MaritalDesc          0\n",
       "CitizenDesc         27\n",
       "EmploymentStatus    32\n",
       "Department          18\n",
       "Salaries             0\n",
       "age                  0\n",
       "Race                25\n",
       "dtype: int64"
      ]
     },
     "execution_count": 541,
     "metadata": {},
     "output_type": "execute_result"
    }
   ],
   "source": [
    "df.isnull().sum()  # all Sex, MaritalDesc records replaced by mode"
   ]
  },
  {
   "cell_type": "markdown",
   "id": "84ba0971",
   "metadata": {},
   "source": [
    "#### Fillna"
   ]
  },
  {
   "cell_type": "code",
   "execution_count": 602,
   "id": "5ab33631",
   "metadata": {},
   "outputs": [
    {
     "data": {
      "text/plain": [
       "White                               175\n",
       "Black or African American            54\n",
       "Asian                                32\n",
       "Two or more races                    16\n",
       "American Indian or Alaska Native      4\n",
       "Hispanic                              4\n",
       "Name: Race, dtype: int64"
      ]
     },
     "execution_count": 602,
     "metadata": {},
     "output_type": "execute_result"
    }
   ],
   "source": [
    "df.Race.value_counts()"
   ]
  },
  {
   "cell_type": "code",
   "execution_count": 603,
   "id": "6563befd",
   "metadata": {},
   "outputs": [
    {
     "data": {
      "text/plain": [
       "25"
      ]
     },
     "execution_count": 603,
     "metadata": {},
     "output_type": "execute_result"
    }
   ],
   "source": [
    "df.Race.isnull().sum()"
   ]
  },
  {
   "cell_type": "code",
   "execution_count": 604,
   "id": "530768b2",
   "metadata": {},
   "outputs": [],
   "source": [
    "#find the mode of categorical variable\n",
    "race_mode= df['Race'].mode()[0] #[0] to get series as mode returns dataframe"
   ]
  },
  {
   "cell_type": "code",
   "execution_count": 605,
   "id": "0f1a39a5",
   "metadata": {},
   "outputs": [
    {
     "data": {
      "text/plain": [
       "'White'"
      ]
     },
     "execution_count": 605,
     "metadata": {},
     "output_type": "execute_result"
    }
   ],
   "source": [
    "race_mode"
   ]
  },
  {
   "cell_type": "code",
   "execution_count": 593,
   "id": "09258899",
   "metadata": {},
   "outputs": [
    {
     "data": {
      "text/html": [
       "<div>\n",
       "<style scoped>\n",
       "    .dataframe tbody tr th:only-of-type {\n",
       "        vertical-align: middle;\n",
       "    }\n",
       "\n",
       "    .dataframe tbody tr th {\n",
       "        vertical-align: top;\n",
       "    }\n",
       "\n",
       "    .dataframe thead th {\n",
       "        text-align: right;\n",
       "    }\n",
       "</style>\n",
       "<table border=\"1\" class=\"dataframe\">\n",
       "  <thead>\n",
       "    <tr style=\"text-align: right;\">\n",
       "      <th></th>\n",
       "      <th>Position</th>\n",
       "      <th>State</th>\n",
       "      <th>Sex</th>\n",
       "      <th>MaritalDesc</th>\n",
       "      <th>CitizenDesc</th>\n",
       "      <th>EmploymentStatus</th>\n",
       "      <th>Department</th>\n",
       "      <th>Salaries</th>\n",
       "      <th>age</th>\n",
       "      <th>Race</th>\n",
       "    </tr>\n",
       "  </thead>\n",
       "  <tbody>\n",
       "    <tr>\n",
       "      <th>0</th>\n",
       "      <td>Accountant I</td>\n",
       "      <td>NaN</td>\n",
       "      <td>F</td>\n",
       "      <td>Married</td>\n",
       "      <td>US Citizen</td>\n",
       "      <td>Active</td>\n",
       "      <td>Admin Offices</td>\n",
       "      <td>674.280000</td>\n",
       "      <td>39.0</td>\n",
       "      <td>Black or African American</td>\n",
       "    </tr>\n",
       "    <tr>\n",
       "      <th>1</th>\n",
       "      <td>Accountant I</td>\n",
       "      <td>MA</td>\n",
       "      <td>M</td>\n",
       "      <td>Divorced</td>\n",
       "      <td>US Citizen</td>\n",
       "      <td>Active</td>\n",
       "      <td>Admin Offices</td>\n",
       "      <td>674.280000</td>\n",
       "      <td>50.0</td>\n",
       "      <td>Black or African American</td>\n",
       "    </tr>\n",
       "    <tr>\n",
       "      <th>2</th>\n",
       "      <td>Accountant I</td>\n",
       "      <td>MA</td>\n",
       "      <td>M</td>\n",
       "      <td>Single</td>\n",
       "      <td>NaN</td>\n",
       "      <td>Active</td>\n",
       "      <td>Admin Offices</td>\n",
       "      <td>674.280000</td>\n",
       "      <td>43.0</td>\n",
       "      <td>White</td>\n",
       "    </tr>\n",
       "    <tr>\n",
       "      <th>3</th>\n",
       "      <td>Administrative Assistant</td>\n",
       "      <td>MA</td>\n",
       "      <td>F</td>\n",
       "      <td>Single</td>\n",
       "      <td>US Citizen</td>\n",
       "      <td>Terminated for Cause</td>\n",
       "      <td>Admin Offices</td>\n",
       "      <td>47822.000000</td>\n",
       "      <td>44.0</td>\n",
       "      <td>White</td>\n",
       "    </tr>\n",
       "    <tr>\n",
       "      <th>4</th>\n",
       "      <td>NaN</td>\n",
       "      <td>MA</td>\n",
       "      <td>F</td>\n",
       "      <td>Single</td>\n",
       "      <td>US Citizen</td>\n",
       "      <td>Active</td>\n",
       "      <td>Admin Offices</td>\n",
       "      <td>36725.396007</td>\n",
       "      <td>33.0</td>\n",
       "      <td>White</td>\n",
       "    </tr>\n",
       "    <tr>\n",
       "      <th>...</th>\n",
       "      <td>...</td>\n",
       "      <td>...</td>\n",
       "      <td>...</td>\n",
       "      <td>...</td>\n",
       "      <td>...</td>\n",
       "      <td>...</td>\n",
       "      <td>...</td>\n",
       "      <td>...</td>\n",
       "      <td>...</td>\n",
       "      <td>...</td>\n",
       "    </tr>\n",
       "    <tr>\n",
       "      <th>305</th>\n",
       "      <td>Sr. Network Engineer</td>\n",
       "      <td>CT</td>\n",
       "      <td>F</td>\n",
       "      <td>Married</td>\n",
       "      <td>US Citizen</td>\n",
       "      <td>Leave of Absence</td>\n",
       "      <td>IT/IS</td>\n",
       "      <td>36725.396007</td>\n",
       "      <td>38.0</td>\n",
       "      <td>White</td>\n",
       "    </tr>\n",
       "    <tr>\n",
       "      <th>306</th>\n",
       "      <td>Sr. Network Engineer</td>\n",
       "      <td>MA</td>\n",
       "      <td>M</td>\n",
       "      <td>Married</td>\n",
       "      <td>US Citizen</td>\n",
       "      <td>Leave of Absence</td>\n",
       "      <td>IT/IS</td>\n",
       "      <td>27603.000000</td>\n",
       "      <td>34.0</td>\n",
       "      <td>White</td>\n",
       "    </tr>\n",
       "    <tr>\n",
       "      <th>307</th>\n",
       "      <td>NaN</td>\n",
       "      <td>MA</td>\n",
       "      <td>M</td>\n",
       "      <td>Married</td>\n",
       "      <td>US Citizen</td>\n",
       "      <td>Future Start</td>\n",
       "      <td>IT/IS</td>\n",
       "      <td>27587.460000</td>\n",
       "      <td>24.0</td>\n",
       "      <td>Asian</td>\n",
       "    </tr>\n",
       "    <tr>\n",
       "      <th>308</th>\n",
       "      <td>Sr. Network Engineer</td>\n",
       "      <td>CT</td>\n",
       "      <td>M</td>\n",
       "      <td>Single</td>\n",
       "      <td>US Citizen</td>\n",
       "      <td>Active</td>\n",
       "      <td>IT/IS</td>\n",
       "      <td>12126.530000</td>\n",
       "      <td>31.0</td>\n",
       "      <td>White</td>\n",
       "    </tr>\n",
       "    <tr>\n",
       "      <th>309</th>\n",
       "      <td>Sr. Network Engineer</td>\n",
       "      <td>MA</td>\n",
       "      <td>F</td>\n",
       "      <td>Widowed</td>\n",
       "      <td>US Citizen</td>\n",
       "      <td>Active</td>\n",
       "      <td>IT/IS</td>\n",
       "      <td>37257.000000</td>\n",
       "      <td>46.0</td>\n",
       "      <td>Asian</td>\n",
       "    </tr>\n",
       "  </tbody>\n",
       "</table>\n",
       "<p>310 rows × 10 columns</p>\n",
       "</div>"
      ],
      "text/plain": [
       "                     Position State Sex MaritalDesc CitizenDesc  \\\n",
       "0                Accountant I   NaN   F     Married  US Citizen   \n",
       "1                Accountant I    MA  M     Divorced  US Citizen   \n",
       "2                Accountant I    MA  M       Single         NaN   \n",
       "3    Administrative Assistant    MA   F      Single  US Citizen   \n",
       "4                         NaN    MA   F      Single  US Citizen   \n",
       "..                        ...   ...  ..         ...         ...   \n",
       "305      Sr. Network Engineer    CT   F     Married  US Citizen   \n",
       "306      Sr. Network Engineer    MA  M      Married  US Citizen   \n",
       "307                       NaN    MA  M      Married  US Citizen   \n",
       "308      Sr. Network Engineer    CT  M       Single  US Citizen   \n",
       "309      Sr. Network Engineer    MA   F     Widowed  US Citizen   \n",
       "\n",
       "         EmploymentStatus     Department      Salaries   age  \\\n",
       "0                  Active  Admin Offices    674.280000  39.0   \n",
       "1                  Active  Admin Offices    674.280000  50.0   \n",
       "2                  Active  Admin Offices    674.280000  43.0   \n",
       "3    Terminated for Cause  Admin Offices  47822.000000  44.0   \n",
       "4                  Active  Admin Offices  36725.396007  33.0   \n",
       "..                    ...            ...           ...   ...   \n",
       "305      Leave of Absence          IT/IS  36725.396007  38.0   \n",
       "306      Leave of Absence          IT/IS  27603.000000  34.0   \n",
       "307          Future Start          IT/IS  27587.460000  24.0   \n",
       "308                Active          IT/IS  12126.530000  31.0   \n",
       "309                Active          IT/IS  37257.000000  46.0   \n",
       "\n",
       "                          Race  \n",
       "0    Black or African American  \n",
       "1    Black or African American  \n",
       "2                        White  \n",
       "3                        White  \n",
       "4                        White  \n",
       "..                         ...  \n",
       "305                      White  \n",
       "306                      White  \n",
       "307                      Asian  \n",
       "308                      White  \n",
       "309                      Asian  \n",
       "\n",
       "[310 rows x 10 columns]"
      ]
     },
     "execution_count": 593,
     "metadata": {},
     "output_type": "execute_result"
    }
   ],
   "source": [
    "df.drop(['Race1'], axis=1)"
   ]
  },
  {
   "cell_type": "code",
   "execution_count": 607,
   "id": "18a7f635",
   "metadata": {},
   "outputs": [],
   "source": [
    "#alternative method fillna\n",
    "df['Race'].fillna(race_mode, inplace=True)"
   ]
  },
  {
   "cell_type": "code",
   "execution_count": 610,
   "id": "d480657b",
   "metadata": {},
   "outputs": [
    {
     "data": {
      "text/plain": [
       "0"
      ]
     },
     "execution_count": 610,
     "metadata": {},
     "output_type": "execute_result"
    }
   ],
   "source": [
    "df.Race.isnull().sum()"
   ]
  },
  {
   "cell_type": "markdown",
   "id": "5cfa8bcf",
   "metadata": {},
   "source": [
    "#### Random Sampling"
   ]
  },
  {
   "cell_type": "markdown",
   "id": "aea6ef39",
   "metadata": {},
   "source": [
    "Pandas sample() is used to generate a sample random row or column from the function caller data frame. Returns a dataframe.   \n",
    "**dataframe.sample(n, frac, replace, weights, random_state, axis)**\n",
    "\n",
    "* data.sample(n = 1)  returns any 1 sample row\n",
    "* data.sample(frac = 0.25) returns 25% sample rows from dataframe\n",
    "* random_state = seed of random generator"
   ]
  },
  {
   "cell_type": "code",
   "execution_count": 628,
   "id": "98c3d431",
   "metadata": {},
   "outputs": [],
   "source": [
    "df = pd.read_csv('C:/D/personal/Development/360/02- EDA/Datasets_EDA (1)/modified ethnic.csv') # for doing modifications"
   ]
  },
  {
   "cell_type": "code",
   "execution_count": 629,
   "id": "81f660f9",
   "metadata": {},
   "outputs": [
    {
     "data": {
      "text/plain": [
       "Position            43\n",
       "State               35\n",
       "Sex                 34\n",
       "MaritalDesc         29\n",
       "CitizenDesc         27\n",
       "EmploymentStatus    32\n",
       "Department          18\n",
       "Salaries            32\n",
       "age                 35\n",
       "Race                25\n",
       "dtype: int64"
      ]
     },
     "execution_count": 629,
     "metadata": {},
     "output_type": "execute_result"
    }
   ],
   "source": [
    "df.isnull().sum() "
   ]
  },
  {
   "cell_type": "code",
   "execution_count": 630,
   "id": "082d159d",
   "metadata": {},
   "outputs": [],
   "source": [
    "# copy the age column\n",
    "df['age_Random'] = df['age']\n",
    "\n",
    "# get the count of missing values for age\n",
    "missing_count = df['age'].isna().sum()\n",
    "\n",
    "# drop all null valued rows and get a sample from remaining records (sample size = missing count)\n",
    "random_sample = df['age'].dropna().sample(missing_count, random_state = 0)\n",
    "\n",
    "#random_sample.index has indexes from original dataframe sample\n",
    "#assign missing value indexes to random sample\n",
    "random_sample.index = df[df['age'].isna()].index\n",
    "\n",
    "#assign the random sample (with indexes) to rows where boolean series df['age'].isna() is true\n",
    "df.loc[df['age'].isna(), 'age_Random'] = random_sample"
   ]
  },
  {
   "cell_type": "code",
   "execution_count": 631,
   "id": "fa1c2a60",
   "metadata": {},
   "outputs": [
    {
     "data": {
      "text/plain": [
       "Position            43\n",
       "State               35\n",
       "Sex                 34\n",
       "MaritalDesc         29\n",
       "CitizenDesc         27\n",
       "EmploymentStatus    32\n",
       "Department          18\n",
       "Salaries            32\n",
       "age                 35\n",
       "Race                25\n",
       "age_Random           0\n",
       "dtype: int64"
      ]
     },
     "execution_count": 631,
     "metadata": {},
     "output_type": "execute_result"
    }
   ],
   "source": [
    "df.isnull().sum()"
   ]
  },
  {
   "cell_type": "code",
   "execution_count": 632,
   "id": "306fd79d",
   "metadata": {},
   "outputs": [],
   "source": [
    "median_imputer = SimpleImputer(missing_values=np.nan, strategy='median')\n",
    "df[\"age_median\"] = pd.DataFrame(median_imputer.fit_transform(df[[\"age\"]]))"
   ]
  },
  {
   "cell_type": "code",
   "execution_count": 633,
   "id": "4c3cebe6",
   "metadata": {},
   "outputs": [
    {
     "data": {
      "text/plain": [
       "Position            43\n",
       "State               35\n",
       "Sex                 34\n",
       "MaritalDesc         29\n",
       "CitizenDesc         27\n",
       "EmploymentStatus    32\n",
       "Department          18\n",
       "Salaries            32\n",
       "age                 35\n",
       "Race                25\n",
       "age_Random           0\n",
       "age_median           0\n",
       "dtype: int64"
      ]
     },
     "execution_count": 633,
     "metadata": {},
     "output_type": "execute_result"
    }
   ],
   "source": [
    "df.isnull().sum()"
   ]
  },
  {
   "cell_type": "code",
   "execution_count": 634,
   "id": "2fef5501",
   "metadata": {},
   "outputs": [],
   "source": [
    "mean_imputer = SimpleImputer(missing_values=np.nan, strategy='mean')\n",
    "df[\"age_mean\"] = pd.DataFrame(median_imputer.fit_transform(df[[\"age\"]]))"
   ]
  },
  {
   "cell_type": "code",
   "execution_count": 635,
   "id": "46bccc05",
   "metadata": {},
   "outputs": [
    {
     "data": {
      "text/plain": [
       "Position            43\n",
       "State               35\n",
       "Sex                 34\n",
       "MaritalDesc         29\n",
       "CitizenDesc         27\n",
       "EmploymentStatus    32\n",
       "Department          18\n",
       "Salaries            32\n",
       "age                 35\n",
       "Race                25\n",
       "age_Random           0\n",
       "age_median           0\n",
       "age_mean             0\n",
       "dtype: int64"
      ]
     },
     "execution_count": 635,
     "metadata": {},
     "output_type": "execute_result"
    }
   ],
   "source": [
    "df.isnull().sum()"
   ]
  },
  {
   "cell_type": "code",
   "execution_count": 654,
   "id": "cfb4f3a1",
   "metadata": {},
   "outputs": [
    {
     "data": {
      "text/plain": [
       "<AxesSubplot:xlabel='age', ylabel='Density'>"
      ]
     },
     "execution_count": 654,
     "metadata": {},
     "output_type": "execute_result"
    },
    {
     "data": {
      "image/png": "[encoded data removed]",
      "text/plain": [
       "<Figure size 432x288 with 1 Axes>"
      ]
     },
     "metadata": {
      "needs_background": "light"
     },
     "output_type": "display_data"
    }
   ],
   "source": [
    "sns.kdeplot(df['age'], shade= True, color= 'red')\n",
    "sns.kdeplot(df['age_median'], shade= False ,color = 'blue')\n",
    "sns.kdeplot(df['age_mean'], shade= False, color = 'black')\n",
    "sns.kdeplot(df['age_Random'], shade= False, color = 'green')"
   ]
  },
  {
   "cell_type": "markdown",
   "id": "cd57b976",
   "metadata": {},
   "source": [
    "We can see that the random sampling imputation (green line) is closest to age distribution (red line)"
   ]
  },
  {
   "cell_type": "markdown",
   "id": "4f1491b5",
   "metadata": {},
   "source": [
    "### Encoding Categorical Variables"
   ]
  },
  {
   "cell_type": "markdown",
   "id": "b6a7eb9e",
   "metadata": {},
   "source": [
    "We need to convert categorical columns to numerical columns so that a machine learning algorithm can understand the input.   \n",
    "Categorical encoding is a process of converting categories to numbers.  \n",
    "\n",
    "**Target variable**    \n",
    "\n",
    "**1) Label Encoding** : Each label is assigned a unique integer based on alphabetical ordering. Should be used only on target variable.\n",
    "\n",
    "**Predictors** \n",
    "\n",
    "**2) One-Hot Encoding** When data is nominal. It simply creates additional features based on the number of unique values in the categorical feature. Every unique value in the category will be added as a feature(Dummy Variable).It overcomes the above disadvantage.  \n",
    "Disadvantages:   \n",
    " * **Multicollinearity** It occurs where there is a dependency between the independent features.Multicollinearity is a serious  issue in machine learning models like Linear Regression and Logistic Regression.to overcome this one of the dummy variables has to be dropped.Dummy coding removes the extra degree of freedom by using only k–1 features in the representation  \n",
    " * **Dimensionality curse** Hughes phenomenon states that with a fixed number of training samples, the average (expected) predictive power of a classifier or regressor first increases as the number of dimensions or features used is increased but beyond a certain dimensionality it starts deteriorating instead of improving steadily.\n",
    "\n",
    "**3) Ordinal Encoding** When data is ordinal.\n",
    "\n",
    "**4) Bag of Words** is popular for text or token counts\n",
    "\n",
    "**Application**  \n",
    "* We apply One-Hot Encoding when:  \n",
    "The categorical feature is not ordinal \n",
    "The number of categorical features is less so one-hot encoding can be effectively applied  \n",
    "\n",
    "* We apply Label Encoding when:  \n",
    "The categorical feature is ordinal (like low,medium,high)  \n",
    "The number of categories is quite large as one-hot encoding can lead to high memory consumption  \n",
    "\n",
    "To Compress the features. There are two choices:  \n",
    "\n",
    "* Feature hashing, popular with linear models  \n",
    "  The idea of bin counting is deviously simple: rather than using the value of the categorical variable as the feature, instead   use the conditional probability of the target under that value. \n",
    "  \n",
    "* Bin counting, popular with linear models as well as trees  \n",
    "  \n"
   ]
  },
  {
   "cell_type": "markdown",
   "id": "22f8884e",
   "metadata": {},
   "source": [
    "#### One Hot encoder"
   ]
  },
  {
   "cell_type": "markdown",
   "id": "0e2c250f",
   "metadata": {},
   "source": [
    "**One-Hot Encoding** When data is nominal. It simply creates additional features based on the number of unique values in the categorical feature. Every unique value in the category will be added as a feature(Dummy Variable).\n",
    "\n",
    "Disadvantages:   \n",
    " * **Multicollinearity** It occurs where there is a dependency between the independent features.Multicollinearity is a serious  issue in machine learning models like Linear Regression and Logistic Regression.to overcome this one of the dummy variables has to be dropped.Dummy coding removes the extra degree of freedom by using only k–1 features in the representation(drop='first')  \n",
    " * **Dimensionality curse** Hughes phenomenon states that with a fixed number of training samples, the average (expected) predictive power of a classifier or regressor first increases as the number of dimensions or features used is increased but beyond a certain dimensionality it starts deteriorating instead of improving steadily.  \n",
    "* To reduce the number of dimensions we group together the least frequent values and create another column.\n",
    "\n"
   ]
  },
  {
   "cell_type": "code",
   "execution_count": 766,
   "id": "43f41cd1",
   "metadata": {},
   "outputs": [],
   "source": [
    "cars = pd.read_csv(\"C:/D/personal/Development/360/02- EDA/Datasets_EDA (1)/cars.csv\")"
   ]
  },
  {
   "cell_type": "code",
   "execution_count": 768,
   "id": "00ef6086",
   "metadata": {},
   "outputs": [
    {
     "data": {
      "text/html": [
       "<div>\n",
       "<style scoped>\n",
       "    .dataframe tbody tr th:only-of-type {\n",
       "        vertical-align: middle;\n",
       "    }\n",
       "\n",
       "    .dataframe tbody tr th {\n",
       "        vertical-align: top;\n",
       "    }\n",
       "\n",
       "    .dataframe thead th {\n",
       "        text-align: right;\n",
       "    }\n",
       "</style>\n",
       "<table border=\"1\" class=\"dataframe\">\n",
       "  <thead>\n",
       "    <tr style=\"text-align: right;\">\n",
       "      <th></th>\n",
       "      <th>brand</th>\n",
       "      <th>km_driven</th>\n",
       "      <th>fuel</th>\n",
       "      <th>owner</th>\n",
       "      <th>selling_price</th>\n",
       "    </tr>\n",
       "  </thead>\n",
       "  <tbody>\n",
       "    <tr>\n",
       "      <th>7384</th>\n",
       "      <td>Maruti</td>\n",
       "      <td>35000</td>\n",
       "      <td>Petrol</td>\n",
       "      <td>Second Owner</td>\n",
       "      <td>240000</td>\n",
       "    </tr>\n",
       "    <tr>\n",
       "      <th>6807</th>\n",
       "      <td>Ford</td>\n",
       "      <td>120000</td>\n",
       "      <td>Diesel</td>\n",
       "      <td>Second Owner</td>\n",
       "      <td>325000</td>\n",
       "    </tr>\n",
       "    <tr>\n",
       "      <th>6729</th>\n",
       "      <td>Maruti</td>\n",
       "      <td>56000</td>\n",
       "      <td>Diesel</td>\n",
       "      <td>Second Owner</td>\n",
       "      <td>425000</td>\n",
       "    </tr>\n",
       "    <tr>\n",
       "      <th>3744</th>\n",
       "      <td>Maruti</td>\n",
       "      <td>82000</td>\n",
       "      <td>Petrol</td>\n",
       "      <td>Third Owner</td>\n",
       "      <td>270000</td>\n",
       "    </tr>\n",
       "    <tr>\n",
       "      <th>2997</th>\n",
       "      <td>Maruti</td>\n",
       "      <td>175000</td>\n",
       "      <td>Diesel</td>\n",
       "      <td>Second Owner</td>\n",
       "      <td>170000</td>\n",
       "    </tr>\n",
       "  </tbody>\n",
       "</table>\n",
       "</div>"
      ],
      "text/plain": [
       "       brand  km_driven    fuel         owner  selling_price\n",
       "7384  Maruti      35000  Petrol  Second Owner         240000\n",
       "6807    Ford     120000  Diesel  Second Owner         325000\n",
       "6729  Maruti      56000  Diesel  Second Owner         425000\n",
       "3744  Maruti      82000  Petrol   Third Owner         270000\n",
       "2997  Maruti     175000  Diesel  Second Owner         170000"
      ]
     },
     "execution_count": 768,
     "metadata": {},
     "output_type": "execute_result"
    }
   ],
   "source": [
    "cars.sample(5)"
   ]
  },
  {
   "cell_type": "code",
   "execution_count": 770,
   "id": "6f49a3b2",
   "metadata": {},
   "outputs": [
    {
     "data": {
      "text/plain": [
       "Maruti           2448\n",
       "Hyundai          1415\n",
       "Mahindra          772\n",
       "Tata              734\n",
       "Toyota            488\n",
       "Honda             467\n",
       "Ford              397\n",
       "Chevrolet         230\n",
       "Renault           228\n",
       "Volkswagen        186\n",
       "BMW               120\n",
       "Skoda             105\n",
       "Nissan             81\n",
       "Jaguar             71\n",
       "Volvo              67\n",
       "Datsun             65\n",
       "Mercedes-Benz      54\n",
       "Fiat               47\n",
       "Audi               40\n",
       "Lexus              34\n",
       "Jeep               31\n",
       "Mitsubishi         14\n",
       "Force               6\n",
       "Land                6\n",
       "Isuzu               5\n",
       "Kia                 4\n",
       "Ambassador          4\n",
       "Daewoo              3\n",
       "MG                  3\n",
       "Ashok               1\n",
       "Opel                1\n",
       "Peugeot             1\n",
       "Name: brand, dtype: int64"
      ]
     },
     "execution_count": 770,
     "metadata": {},
     "output_type": "execute_result"
    }
   ],
   "source": [
    "cars.brand.value_counts()"
   ]
  },
  {
   "cell_type": "code",
   "execution_count": 771,
   "id": "e13fd8e6",
   "metadata": {},
   "outputs": [
    {
     "data": {
      "text/plain": [
       "32"
      ]
     },
     "execution_count": 771,
     "metadata": {},
     "output_type": "execute_result"
    }
   ],
   "source": [
    "cars.brand.nunique()"
   ]
  },
  {
   "cell_type": "code",
   "execution_count": 772,
   "id": "076606a3",
   "metadata": {},
   "outputs": [
    {
     "data": {
      "text/plain": [
       "Diesel    4402\n",
       "Petrol    3631\n",
       "CNG         57\n",
       "LPG         38\n",
       "Name: fuel, dtype: int64"
      ]
     },
     "execution_count": 772,
     "metadata": {},
     "output_type": "execute_result"
    }
   ],
   "source": [
    "cars.fuel.value_counts()"
   ]
  },
  {
   "cell_type": "code",
   "execution_count": 773,
   "id": "7002e19d",
   "metadata": {},
   "outputs": [
    {
     "data": {
      "text/plain": [
       "First Owner             5289\n",
       "Second Owner            2105\n",
       "Third Owner              555\n",
       "Fourth & Above Owner     174\n",
       "Test Drive Car             5\n",
       "Name: owner, dtype: int64"
      ]
     },
     "execution_count": 773,
     "metadata": {},
     "output_type": "execute_result"
    }
   ],
   "source": [
    "cars.owner.value_counts()"
   ]
  },
  {
   "cell_type": "code",
   "execution_count": 774,
   "id": "6e958260",
   "metadata": {},
   "outputs": [
    {
     "data": {
      "text/html": [
       "<div>\n",
       "<style scoped>\n",
       "    .dataframe tbody tr th:only-of-type {\n",
       "        vertical-align: middle;\n",
       "    }\n",
       "\n",
       "    .dataframe tbody tr th {\n",
       "        vertical-align: top;\n",
       "    }\n",
       "\n",
       "    .dataframe thead th {\n",
       "        text-align: right;\n",
       "    }\n",
       "</style>\n",
       "<table border=\"1\" class=\"dataframe\">\n",
       "  <thead>\n",
       "    <tr style=\"text-align: right;\">\n",
       "      <th></th>\n",
       "      <th>brand</th>\n",
       "      <th>km_driven</th>\n",
       "      <th>selling_price</th>\n",
       "      <th>fuel_CNG</th>\n",
       "      <th>fuel_Diesel</th>\n",
       "      <th>fuel_LPG</th>\n",
       "      <th>fuel_Petrol</th>\n",
       "      <th>owner_First Owner</th>\n",
       "      <th>owner_Fourth &amp; Above Owner</th>\n",
       "      <th>owner_Second Owner</th>\n",
       "      <th>owner_Test Drive Car</th>\n",
       "      <th>owner_Third Owner</th>\n",
       "    </tr>\n",
       "  </thead>\n",
       "  <tbody>\n",
       "    <tr>\n",
       "      <th>0</th>\n",
       "      <td>Maruti</td>\n",
       "      <td>145500</td>\n",
       "      <td>450000</td>\n",
       "      <td>0</td>\n",
       "      <td>1</td>\n",
       "      <td>0</td>\n",
       "      <td>0</td>\n",
       "      <td>1</td>\n",
       "      <td>0</td>\n",
       "      <td>0</td>\n",
       "      <td>0</td>\n",
       "      <td>0</td>\n",
       "    </tr>\n",
       "    <tr>\n",
       "      <th>1</th>\n",
       "      <td>Skoda</td>\n",
       "      <td>120000</td>\n",
       "      <td>370000</td>\n",
       "      <td>0</td>\n",
       "      <td>1</td>\n",
       "      <td>0</td>\n",
       "      <td>0</td>\n",
       "      <td>0</td>\n",
       "      <td>0</td>\n",
       "      <td>1</td>\n",
       "      <td>0</td>\n",
       "      <td>0</td>\n",
       "    </tr>\n",
       "    <tr>\n",
       "      <th>2</th>\n",
       "      <td>Honda</td>\n",
       "      <td>140000</td>\n",
       "      <td>158000</td>\n",
       "      <td>0</td>\n",
       "      <td>0</td>\n",
       "      <td>0</td>\n",
       "      <td>1</td>\n",
       "      <td>0</td>\n",
       "      <td>0</td>\n",
       "      <td>0</td>\n",
       "      <td>0</td>\n",
       "      <td>1</td>\n",
       "    </tr>\n",
       "    <tr>\n",
       "      <th>3</th>\n",
       "      <td>Hyundai</td>\n",
       "      <td>127000</td>\n",
       "      <td>225000</td>\n",
       "      <td>0</td>\n",
       "      <td>1</td>\n",
       "      <td>0</td>\n",
       "      <td>0</td>\n",
       "      <td>1</td>\n",
       "      <td>0</td>\n",
       "      <td>0</td>\n",
       "      <td>0</td>\n",
       "      <td>0</td>\n",
       "    </tr>\n",
       "    <tr>\n",
       "      <th>4</th>\n",
       "      <td>Maruti</td>\n",
       "      <td>120000</td>\n",
       "      <td>130000</td>\n",
       "      <td>0</td>\n",
       "      <td>0</td>\n",
       "      <td>0</td>\n",
       "      <td>1</td>\n",
       "      <td>1</td>\n",
       "      <td>0</td>\n",
       "      <td>0</td>\n",
       "      <td>0</td>\n",
       "      <td>0</td>\n",
       "    </tr>\n",
       "    <tr>\n",
       "      <th>...</th>\n",
       "      <td>...</td>\n",
       "      <td>...</td>\n",
       "      <td>...</td>\n",
       "      <td>...</td>\n",
       "      <td>...</td>\n",
       "      <td>...</td>\n",
       "      <td>...</td>\n",
       "      <td>...</td>\n",
       "      <td>...</td>\n",
       "      <td>...</td>\n",
       "      <td>...</td>\n",
       "      <td>...</td>\n",
       "    </tr>\n",
       "    <tr>\n",
       "      <th>8123</th>\n",
       "      <td>Hyundai</td>\n",
       "      <td>110000</td>\n",
       "      <td>320000</td>\n",
       "      <td>0</td>\n",
       "      <td>0</td>\n",
       "      <td>0</td>\n",
       "      <td>1</td>\n",
       "      <td>1</td>\n",
       "      <td>0</td>\n",
       "      <td>0</td>\n",
       "      <td>0</td>\n",
       "      <td>0</td>\n",
       "    </tr>\n",
       "    <tr>\n",
       "      <th>8124</th>\n",
       "      <td>Hyundai</td>\n",
       "      <td>119000</td>\n",
       "      <td>135000</td>\n",
       "      <td>0</td>\n",
       "      <td>1</td>\n",
       "      <td>0</td>\n",
       "      <td>0</td>\n",
       "      <td>0</td>\n",
       "      <td>1</td>\n",
       "      <td>0</td>\n",
       "      <td>0</td>\n",
       "      <td>0</td>\n",
       "    </tr>\n",
       "    <tr>\n",
       "      <th>8125</th>\n",
       "      <td>Maruti</td>\n",
       "      <td>120000</td>\n",
       "      <td>382000</td>\n",
       "      <td>0</td>\n",
       "      <td>1</td>\n",
       "      <td>0</td>\n",
       "      <td>0</td>\n",
       "      <td>1</td>\n",
       "      <td>0</td>\n",
       "      <td>0</td>\n",
       "      <td>0</td>\n",
       "      <td>0</td>\n",
       "    </tr>\n",
       "    <tr>\n",
       "      <th>8126</th>\n",
       "      <td>Tata</td>\n",
       "      <td>25000</td>\n",
       "      <td>290000</td>\n",
       "      <td>0</td>\n",
       "      <td>1</td>\n",
       "      <td>0</td>\n",
       "      <td>0</td>\n",
       "      <td>1</td>\n",
       "      <td>0</td>\n",
       "      <td>0</td>\n",
       "      <td>0</td>\n",
       "      <td>0</td>\n",
       "    </tr>\n",
       "    <tr>\n",
       "      <th>8127</th>\n",
       "      <td>Tata</td>\n",
       "      <td>25000</td>\n",
       "      <td>290000</td>\n",
       "      <td>0</td>\n",
       "      <td>1</td>\n",
       "      <td>0</td>\n",
       "      <td>0</td>\n",
       "      <td>1</td>\n",
       "      <td>0</td>\n",
       "      <td>0</td>\n",
       "      <td>0</td>\n",
       "      <td>0</td>\n",
       "    </tr>\n",
       "  </tbody>\n",
       "</table>\n",
       "<p>8128 rows × 12 columns</p>\n",
       "</div>"
      ],
      "text/plain": [
       "        brand  km_driven  selling_price  fuel_CNG  fuel_Diesel  fuel_LPG  \\\n",
       "0      Maruti     145500         450000         0            1         0   \n",
       "1       Skoda     120000         370000         0            1         0   \n",
       "2       Honda     140000         158000         0            0         0   \n",
       "3     Hyundai     127000         225000         0            1         0   \n",
       "4      Maruti     120000         130000         0            0         0   \n",
       "...       ...        ...            ...       ...          ...       ...   \n",
       "8123  Hyundai     110000         320000         0            0         0   \n",
       "8124  Hyundai     119000         135000         0            1         0   \n",
       "8125   Maruti     120000         382000         0            1         0   \n",
       "8126     Tata      25000         290000         0            1         0   \n",
       "8127     Tata      25000         290000         0            1         0   \n",
       "\n",
       "      fuel_Petrol  owner_First Owner  owner_Fourth & Above Owner  \\\n",
       "0               0                  1                           0   \n",
       "1               0                  0                           0   \n",
       "2               1                  0                           0   \n",
       "3               0                  1                           0   \n",
       "4               1                  1                           0   \n",
       "...           ...                ...                         ...   \n",
       "8123            1                  1                           0   \n",
       "8124            0                  0                           1   \n",
       "8125            0                  1                           0   \n",
       "8126            0                  1                           0   \n",
       "8127            0                  1                           0   \n",
       "\n",
       "      owner_Second Owner  owner_Test Drive Car  owner_Third Owner  \n",
       "0                      0                     0                  0  \n",
       "1                      1                     0                  0  \n",
       "2                      0                     0                  1  \n",
       "3                      0                     0                  0  \n",
       "4                      0                     0                  0  \n",
       "...                  ...                   ...                ...  \n",
       "8123                   0                     0                  0  \n",
       "8124                   0                     0                  0  \n",
       "8125                   0                     0                  0  \n",
       "8126                   0                     0                  0  \n",
       "8127                   0                     0                  0  \n",
       "\n",
       "[8128 rows x 12 columns]"
      ]
     },
     "execution_count": 774,
     "metadata": {},
     "output_type": "execute_result"
    }
   ],
   "source": [
    "# one hot encoding using pandas function. generally not used in projects as the encoding is not retained every run.\n",
    "pd.get_dummies(cars,columns=['fuel','owner'])"
   ]
  },
  {
   "cell_type": "code",
   "execution_count": 775,
   "id": "fe3cdc85",
   "metadata": {},
   "outputs": [
    {
     "data": {
      "text/html": [
       "<div>\n",
       "<style scoped>\n",
       "    .dataframe tbody tr th:only-of-type {\n",
       "        vertical-align: middle;\n",
       "    }\n",
       "\n",
       "    .dataframe tbody tr th {\n",
       "        vertical-align: top;\n",
       "    }\n",
       "\n",
       "    .dataframe thead th {\n",
       "        text-align: right;\n",
       "    }\n",
       "</style>\n",
       "<table border=\"1\" class=\"dataframe\">\n",
       "  <thead>\n",
       "    <tr style=\"text-align: right;\">\n",
       "      <th></th>\n",
       "      <th>brand</th>\n",
       "      <th>km_driven</th>\n",
       "      <th>selling_price</th>\n",
       "      <th>fuel_Diesel</th>\n",
       "      <th>fuel_LPG</th>\n",
       "      <th>fuel_Petrol</th>\n",
       "      <th>owner_Fourth &amp; Above Owner</th>\n",
       "      <th>owner_Second Owner</th>\n",
       "      <th>owner_Test Drive Car</th>\n",
       "      <th>owner_Third Owner</th>\n",
       "    </tr>\n",
       "  </thead>\n",
       "  <tbody>\n",
       "    <tr>\n",
       "      <th>0</th>\n",
       "      <td>Maruti</td>\n",
       "      <td>145500</td>\n",
       "      <td>450000</td>\n",
       "      <td>1</td>\n",
       "      <td>0</td>\n",
       "      <td>0</td>\n",
       "      <td>0</td>\n",
       "      <td>0</td>\n",
       "      <td>0</td>\n",
       "      <td>0</td>\n",
       "    </tr>\n",
       "    <tr>\n",
       "      <th>1</th>\n",
       "      <td>Skoda</td>\n",
       "      <td>120000</td>\n",
       "      <td>370000</td>\n",
       "      <td>1</td>\n",
       "      <td>0</td>\n",
       "      <td>0</td>\n",
       "      <td>0</td>\n",
       "      <td>1</td>\n",
       "      <td>0</td>\n",
       "      <td>0</td>\n",
       "    </tr>\n",
       "    <tr>\n",
       "      <th>2</th>\n",
       "      <td>Honda</td>\n",
       "      <td>140000</td>\n",
       "      <td>158000</td>\n",
       "      <td>0</td>\n",
       "      <td>0</td>\n",
       "      <td>1</td>\n",
       "      <td>0</td>\n",
       "      <td>0</td>\n",
       "      <td>0</td>\n",
       "      <td>1</td>\n",
       "    </tr>\n",
       "    <tr>\n",
       "      <th>3</th>\n",
       "      <td>Hyundai</td>\n",
       "      <td>127000</td>\n",
       "      <td>225000</td>\n",
       "      <td>1</td>\n",
       "      <td>0</td>\n",
       "      <td>0</td>\n",
       "      <td>0</td>\n",
       "      <td>0</td>\n",
       "      <td>0</td>\n",
       "      <td>0</td>\n",
       "    </tr>\n",
       "    <tr>\n",
       "      <th>4</th>\n",
       "      <td>Maruti</td>\n",
       "      <td>120000</td>\n",
       "      <td>130000</td>\n",
       "      <td>0</td>\n",
       "      <td>0</td>\n",
       "      <td>1</td>\n",
       "      <td>0</td>\n",
       "      <td>0</td>\n",
       "      <td>0</td>\n",
       "      <td>0</td>\n",
       "    </tr>\n",
       "    <tr>\n",
       "      <th>...</th>\n",
       "      <td>...</td>\n",
       "      <td>...</td>\n",
       "      <td>...</td>\n",
       "      <td>...</td>\n",
       "      <td>...</td>\n",
       "      <td>...</td>\n",
       "      <td>...</td>\n",
       "      <td>...</td>\n",
       "      <td>...</td>\n",
       "      <td>...</td>\n",
       "    </tr>\n",
       "    <tr>\n",
       "      <th>8123</th>\n",
       "      <td>Hyundai</td>\n",
       "      <td>110000</td>\n",
       "      <td>320000</td>\n",
       "      <td>0</td>\n",
       "      <td>0</td>\n",
       "      <td>1</td>\n",
       "      <td>0</td>\n",
       "      <td>0</td>\n",
       "      <td>0</td>\n",
       "      <td>0</td>\n",
       "    </tr>\n",
       "    <tr>\n",
       "      <th>8124</th>\n",
       "      <td>Hyundai</td>\n",
       "      <td>119000</td>\n",
       "      <td>135000</td>\n",
       "      <td>1</td>\n",
       "      <td>0</td>\n",
       "      <td>0</td>\n",
       "      <td>1</td>\n",
       "      <td>0</td>\n",
       "      <td>0</td>\n",
       "      <td>0</td>\n",
       "    </tr>\n",
       "    <tr>\n",
       "      <th>8125</th>\n",
       "      <td>Maruti</td>\n",
       "      <td>120000</td>\n",
       "      <td>382000</td>\n",
       "      <td>1</td>\n",
       "      <td>0</td>\n",
       "      <td>0</td>\n",
       "      <td>0</td>\n",
       "      <td>0</td>\n",
       "      <td>0</td>\n",
       "      <td>0</td>\n",
       "    </tr>\n",
       "    <tr>\n",
       "      <th>8126</th>\n",
       "      <td>Tata</td>\n",
       "      <td>25000</td>\n",
       "      <td>290000</td>\n",
       "      <td>1</td>\n",
       "      <td>0</td>\n",
       "      <td>0</td>\n",
       "      <td>0</td>\n",
       "      <td>0</td>\n",
       "      <td>0</td>\n",
       "      <td>0</td>\n",
       "    </tr>\n",
       "    <tr>\n",
       "      <th>8127</th>\n",
       "      <td>Tata</td>\n",
       "      <td>25000</td>\n",
       "      <td>290000</td>\n",
       "      <td>1</td>\n",
       "      <td>0</td>\n",
       "      <td>0</td>\n",
       "      <td>0</td>\n",
       "      <td>0</td>\n",
       "      <td>0</td>\n",
       "      <td>0</td>\n",
       "    </tr>\n",
       "  </tbody>\n",
       "</table>\n",
       "<p>8128 rows × 10 columns</p>\n",
       "</div>"
      ],
      "text/plain": [
       "        brand  km_driven  selling_price  fuel_Diesel  fuel_LPG  fuel_Petrol  \\\n",
       "0      Maruti     145500         450000            1         0            0   \n",
       "1       Skoda     120000         370000            1         0            0   \n",
       "2       Honda     140000         158000            0         0            1   \n",
       "3     Hyundai     127000         225000            1         0            0   \n",
       "4      Maruti     120000         130000            0         0            1   \n",
       "...       ...        ...            ...          ...       ...          ...   \n",
       "8123  Hyundai     110000         320000            0         0            1   \n",
       "8124  Hyundai     119000         135000            1         0            0   \n",
       "8125   Maruti     120000         382000            1         0            0   \n",
       "8126     Tata      25000         290000            1         0            0   \n",
       "8127     Tata      25000         290000            1         0            0   \n",
       "\n",
       "      owner_Fourth & Above Owner  owner_Second Owner  owner_Test Drive Car  \\\n",
       "0                              0                   0                     0   \n",
       "1                              0                   1                     0   \n",
       "2                              0                   0                     0   \n",
       "3                              0                   0                     0   \n",
       "4                              0                   0                     0   \n",
       "...                          ...                 ...                   ...   \n",
       "8123                           0                   0                     0   \n",
       "8124                           1                   0                     0   \n",
       "8125                           0                   0                     0   \n",
       "8126                           0                   0                     0   \n",
       "8127                           0                   0                     0   \n",
       "\n",
       "      owner_Third Owner  \n",
       "0                     0  \n",
       "1                     0  \n",
       "2                     1  \n",
       "3                     0  \n",
       "4                     0  \n",
       "...                 ...  \n",
       "8123                  0  \n",
       "8124                  0  \n",
       "8125                  0  \n",
       "8126                  0  \n",
       "8127                  0  \n",
       "\n",
       "[8128 rows x 10 columns]"
      ]
     },
     "execution_count": 775,
     "metadata": {},
     "output_type": "execute_result"
    }
   ],
   "source": [
    "# k-1 one hot encoding using (to solve multicollinearity problem)\n",
    "pd.get_dummies(cars,columns=['fuel','owner'],drop_first=True)"
   ]
  },
  {
   "cell_type": "code",
   "execution_count": 779,
   "id": "4fadbb28",
   "metadata": {},
   "outputs": [],
   "source": [
    "# one hot encoding using sklearn\n",
    "X_train,X_test,y_train,y_test = train_test_split(cars.iloc[:,0:4],cars.iloc[:,-1],test_size=0.2,random_state=5)"
   ]
  },
  {
   "cell_type": "code",
   "execution_count": 781,
   "id": "e641fc0b",
   "metadata": {},
   "outputs": [
    {
     "data": {
      "text/html": [
       "<div>\n",
       "<style scoped>\n",
       "    .dataframe tbody tr th:only-of-type {\n",
       "        vertical-align: middle;\n",
       "    }\n",
       "\n",
       "    .dataframe tbody tr th {\n",
       "        vertical-align: top;\n",
       "    }\n",
       "\n",
       "    .dataframe thead th {\n",
       "        text-align: right;\n",
       "    }\n",
       "</style>\n",
       "<table border=\"1\" class=\"dataframe\">\n",
       "  <thead>\n",
       "    <tr style=\"text-align: right;\">\n",
       "      <th></th>\n",
       "      <th>brand</th>\n",
       "      <th>km_driven</th>\n",
       "      <th>fuel</th>\n",
       "      <th>owner</th>\n",
       "    </tr>\n",
       "  </thead>\n",
       "  <tbody>\n",
       "    <tr>\n",
       "      <th>111</th>\n",
       "      <td>Tata</td>\n",
       "      <td>100000</td>\n",
       "      <td>Diesel</td>\n",
       "      <td>First Owner</td>\n",
       "    </tr>\n",
       "    <tr>\n",
       "      <th>7818</th>\n",
       "      <td>Mahindra</td>\n",
       "      <td>200000</td>\n",
       "      <td>Diesel</td>\n",
       "      <td>Fourth &amp; Above Owner</td>\n",
       "    </tr>\n",
       "    <tr>\n",
       "      <th>6183</th>\n",
       "      <td>Skoda</td>\n",
       "      <td>11000</td>\n",
       "      <td>Petrol</td>\n",
       "      <td>First Owner</td>\n",
       "    </tr>\n",
       "    <tr>\n",
       "      <th>6672</th>\n",
       "      <td>Tata</td>\n",
       "      <td>135000</td>\n",
       "      <td>Diesel</td>\n",
       "      <td>First Owner</td>\n",
       "    </tr>\n",
       "    <tr>\n",
       "      <th>529</th>\n",
       "      <td>Maruti</td>\n",
       "      <td>46000</td>\n",
       "      <td>Petrol</td>\n",
       "      <td>First Owner</td>\n",
       "    </tr>\n",
       "  </tbody>\n",
       "</table>\n",
       "</div>"
      ],
      "text/plain": [
       "         brand  km_driven    fuel                 owner\n",
       "111       Tata     100000  Diesel           First Owner\n",
       "7818  Mahindra     200000  Diesel  Fourth & Above Owner\n",
       "6183     Skoda      11000  Petrol           First Owner\n",
       "6672      Tata     135000  Diesel           First Owner\n",
       "529     Maruti      46000  Petrol           First Owner"
      ]
     },
     "execution_count": 781,
     "metadata": {},
     "output_type": "execute_result"
    }
   ],
   "source": [
    "X_train.head()"
   ]
  },
  {
   "cell_type": "code",
   "execution_count": 782,
   "id": "a7c4392c",
   "metadata": {
    "scrolled": true
   },
   "outputs": [
    {
     "data": {
      "text/html": [
       "<div>\n",
       "<style scoped>\n",
       "    .dataframe tbody tr th:only-of-type {\n",
       "        vertical-align: middle;\n",
       "    }\n",
       "\n",
       "    .dataframe tbody tr th {\n",
       "        vertical-align: top;\n",
       "    }\n",
       "\n",
       "    .dataframe thead th {\n",
       "        text-align: right;\n",
       "    }\n",
       "</style>\n",
       "<table border=\"1\" class=\"dataframe\">\n",
       "  <thead>\n",
       "    <tr style=\"text-align: right;\">\n",
       "      <th></th>\n",
       "      <th>brand</th>\n",
       "      <th>km_driven</th>\n",
       "      <th>fuel</th>\n",
       "      <th>owner</th>\n",
       "    </tr>\n",
       "  </thead>\n",
       "  <tbody>\n",
       "    <tr>\n",
       "      <th>7746</th>\n",
       "      <td>Isuzu</td>\n",
       "      <td>56800</td>\n",
       "      <td>Diesel</td>\n",
       "      <td>First Owner</td>\n",
       "    </tr>\n",
       "    <tr>\n",
       "      <th>1752</th>\n",
       "      <td>Mahindra</td>\n",
       "      <td>54000</td>\n",
       "      <td>Diesel</td>\n",
       "      <td>First Owner</td>\n",
       "    </tr>\n",
       "    <tr>\n",
       "      <th>1904</th>\n",
       "      <td>Ford</td>\n",
       "      <td>90000</td>\n",
       "      <td>Petrol</td>\n",
       "      <td>Second Owner</td>\n",
       "    </tr>\n",
       "    <tr>\n",
       "      <th>2019</th>\n",
       "      <td>Maruti</td>\n",
       "      <td>40000</td>\n",
       "      <td>Petrol</td>\n",
       "      <td>First Owner</td>\n",
       "    </tr>\n",
       "    <tr>\n",
       "      <th>5269</th>\n",
       "      <td>Maruti</td>\n",
       "      <td>100000</td>\n",
       "      <td>Petrol</td>\n",
       "      <td>First Owner</td>\n",
       "    </tr>\n",
       "  </tbody>\n",
       "</table>\n",
       "</div>"
      ],
      "text/plain": [
       "         brand  km_driven    fuel         owner\n",
       "7746     Isuzu      56800  Diesel   First Owner\n",
       "1752  Mahindra      54000  Diesel   First Owner\n",
       "1904      Ford      90000  Petrol  Second Owner\n",
       "2019    Maruti      40000  Petrol   First Owner\n",
       "5269    Maruti     100000  Petrol   First Owner"
      ]
     },
     "execution_count": 782,
     "metadata": {},
     "output_type": "execute_result"
    }
   ],
   "source": [
    "X_test.head()"
   ]
  },
  {
   "cell_type": "code",
   "execution_count": null,
   "id": "dff1d3cc",
   "metadata": {},
   "outputs": [],
   "source": [
    "from sklearn.preprocessing import OneHotEncoder"
   ]
  },
  {
   "cell_type": "code",
   "execution_count": 821,
   "id": "1bd1b1b6",
   "metadata": {},
   "outputs": [],
   "source": [
    "#ohe = OneHotEncoder(drop='first')\n",
    "ohe = OneHotEncoder(drop='first',sparse=True,dtype=np.int32) #to return np array & integer for encoded values"
   ]
  },
  {
   "cell_type": "code",
   "execution_count": 814,
   "id": "57cf947d",
   "metadata": {},
   "outputs": [],
   "source": [
    "# we want to apply ohe on fuel and owner. \n",
    "#so first we split the columns fuel and owner \n",
    "#apply ohe and concatenate with the other columns\n",
    "#column transformer overcomes this additional step. It transforms in a single step\n",
    "# bypass ohe.fit_transform(X_train[['fuel','owner']]).toarray() since sparse= true"
   ]
  },
  {
   "cell_type": "code",
   "execution_count": 822,
   "id": "134fdbad",
   "metadata": {},
   "outputs": [],
   "source": [
    "# fit and tranform with ohe and get the resultant columns (for 'fuel','owner') in an array X_train_new from X_train\n",
    "X_train_new= ohe.fit_transform(X_train[['fuel','owner']]).toarray()"
   ]
  },
  {
   "cell_type": "code",
   "execution_count": 823,
   "id": "fb9866a9",
   "metadata": {},
   "outputs": [],
   "source": [
    "# get the two columns in an array X_test_new from X_test\n",
    "X_test_new= ohe.transform(X_test[['fuel','owner']]).toarray()"
   ]
  },
  {
   "cell_type": "code",
   "execution_count": 824,
   "id": "4a800b4b",
   "metadata": {},
   "outputs": [
    {
     "data": {
      "text/plain": [
       "array([['Tata', 100000],\n",
       "       ['Mahindra', 200000],\n",
       "       ['Skoda', 11000],\n",
       "       ...,\n",
       "       ['Maruti', 35000],\n",
       "       ['Maruti', 120000],\n",
       "       ['Maruti', 52000]], dtype=object)"
      ]
     },
     "execution_count": 824,
     "metadata": {},
     "output_type": "execute_result"
    }
   ],
   "source": [
    "X_train[['brand','km_driven']].values"
   ]
  },
  {
   "cell_type": "code",
   "execution_count": 825,
   "id": "52c637ab",
   "metadata": {},
   "outputs": [
    {
     "data": {
      "text/plain": [
       "(6502, 9)"
      ]
     },
     "execution_count": 825,
     "metadata": {},
     "output_type": "execute_result"
    }
   ],
   "source": [
    "#Stack them horizontally\n",
    "np.hstack((X_train[['brand','km_driven']].values,X_train_new)).shape"
   ]
  },
  {
   "cell_type": "code",
   "execution_count": 826,
   "id": "89495430",
   "metadata": {},
   "outputs": [
    {
     "data": {
      "text/plain": [
       "array([['Tata', 100000, 1, ..., 0, 0, 0],\n",
       "       ['Mahindra', 200000, 1, ..., 0, 0, 0],\n",
       "       ['Skoda', 11000, 0, ..., 0, 0, 0],\n",
       "       ...,\n",
       "       ['Maruti', 35000, 1, ..., 0, 0, 0],\n",
       "       ['Maruti', 120000, 0, ..., 1, 0, 0],\n",
       "       ['Maruti', 52000, 1, ..., 0, 0, 0]], dtype=object)"
      ]
     },
     "execution_count": 826,
     "metadata": {},
     "output_type": "execute_result"
    }
   ],
   "source": [
    "np.hstack((X_train[['brand','km_driven']].values,X_train_new))"
   ]
  },
  {
   "cell_type": "markdown",
   "id": "7d9d6a9e",
   "metadata": {},
   "source": [
    "##### OneHotEncoding with top categories"
   ]
  },
  {
   "cell_type": "markdown",
   "id": "1465104f",
   "metadata": {},
   "source": [
    "One way to deal with rare categories is through **back-off** , a simple technique that accumulates the counts of all   \n",
    "rare categories in a special bin - back-off bin. If the count is greater than a certain threshold, then the category  \n",
    "gets its own count statistics. Otherwise, we use the statistics from the back-off bin.  "
   ]
  },
  {
   "cell_type": "code",
   "execution_count": 828,
   "id": "ac0f4761",
   "metadata": {},
   "outputs": [
    {
     "data": {
      "text/plain": [
       "32"
      ]
     },
     "execution_count": 828,
     "metadata": {},
     "output_type": "execute_result"
    }
   ],
   "source": [
    "cars.brand.nunique()"
   ]
  },
  {
   "cell_type": "code",
   "execution_count": 831,
   "id": "07815715",
   "metadata": {},
   "outputs": [
    {
     "data": {
      "text/plain": [
       "Maruti           2448\n",
       "Hyundai          1415\n",
       "Mahindra          772\n",
       "Tata              734\n",
       "Toyota            488\n",
       "Honda             467\n",
       "Ford              397\n",
       "Chevrolet         230\n",
       "Renault           228\n",
       "Volkswagen        186\n",
       "BMW               120\n",
       "Skoda             105\n",
       "Nissan             81\n",
       "Jaguar             71\n",
       "Volvo              67\n",
       "Datsun             65\n",
       "Mercedes-Benz      54\n",
       "Fiat               47\n",
       "Audi               40\n",
       "Lexus              34\n",
       "Jeep               31\n",
       "Mitsubishi         14\n",
       "Force               6\n",
       "Land                6\n",
       "Isuzu               5\n",
       "Kia                 4\n",
       "Ambassador          4\n",
       "Daewoo              3\n",
       "MG                  3\n",
       "Ashok               1\n",
       "Opel                1\n",
       "Peugeot             1\n",
       "Name: brand, dtype: int64"
      ]
     },
     "execution_count": 831,
     "metadata": {},
     "output_type": "execute_result"
    }
   ],
   "source": [
    "cars.brand.value_counts()"
   ]
  },
  {
   "cell_type": "markdown",
   "id": "4c85f41b",
   "metadata": {},
   "source": [
    "Group together brands having less than 100 cars into a separate column (to reduce dimensionaly) before OHE"
   ]
  },
  {
   "cell_type": "code",
   "execution_count": 832,
   "id": "d5d0821d",
   "metadata": {},
   "outputs": [],
   "source": [
    "car_count = cars.brand.value_counts()"
   ]
  },
  {
   "cell_type": "code",
   "execution_count": 836,
   "id": "b4a14c26",
   "metadata": {},
   "outputs": [
    {
     "data": {
      "text/plain": [
       "Index(['Nissan', 'Jaguar', 'Volvo', 'Datsun', 'Mercedes-Benz', 'Fiat', 'Audi',\n",
       "       'Lexus', 'Jeep', 'Mitsubishi', 'Force', 'Land', 'Isuzu', 'Kia',\n",
       "       'Ambassador', 'Daewoo', 'MG', 'Ashok', 'Opel', 'Peugeot'],\n",
       "      dtype='object')"
      ]
     },
     "execution_count": 836,
     "metadata": {},
     "output_type": "execute_result"
    }
   ],
   "source": [
    "car_count[car_count<100].index"
   ]
  },
  {
   "cell_type": "code",
   "execution_count": 853,
   "id": "ecb1f169",
   "metadata": {},
   "outputs": [],
   "source": [
    "replace_col = car_count[car_count<100].index"
   ]
  },
  {
   "cell_type": "code",
   "execution_count": 856,
   "id": "90433e6d",
   "metadata": {},
   "outputs": [
    {
     "data": {
      "text/plain": [
       "Maruti        2448\n",
       "Hyundai       1415\n",
       "Mahindra       772\n",
       "Tata           734\n",
       "Others         538\n",
       "Toyota         488\n",
       "Honda          467\n",
       "Ford           397\n",
       "Chevrolet      230\n",
       "Renault        228\n",
       "Volkswagen     186\n",
       "BMW            120\n",
       "Skoda          105\n",
       "Name: brand, dtype: int64"
      ]
     },
     "execution_count": 856,
     "metadata": {},
     "output_type": "execute_result"
    }
   ],
   "source": [
    "cars['brand'].replace(replace_col,'Others').value_counts()"
   ]
  },
  {
   "cell_type": "code",
   "execution_count": 857,
   "id": "bc24c49a",
   "metadata": {},
   "outputs": [
    {
     "data": {
      "text/html": [
       "<div>\n",
       "<style scoped>\n",
       "    .dataframe tbody tr th:only-of-type {\n",
       "        vertical-align: middle;\n",
       "    }\n",
       "\n",
       "    .dataframe tbody tr th {\n",
       "        vertical-align: top;\n",
       "    }\n",
       "\n",
       "    .dataframe thead th {\n",
       "        text-align: right;\n",
       "    }\n",
       "</style>\n",
       "<table border=\"1\" class=\"dataframe\">\n",
       "  <thead>\n",
       "    <tr style=\"text-align: right;\">\n",
       "      <th></th>\n",
       "      <th>BMW</th>\n",
       "      <th>Chevrolet</th>\n",
       "      <th>Ford</th>\n",
       "      <th>Honda</th>\n",
       "      <th>Hyundai</th>\n",
       "      <th>Mahindra</th>\n",
       "      <th>Maruti</th>\n",
       "      <th>Others</th>\n",
       "      <th>Renault</th>\n",
       "      <th>Skoda</th>\n",
       "      <th>Tata</th>\n",
       "      <th>Toyota</th>\n",
       "      <th>Volkswagen</th>\n",
       "    </tr>\n",
       "  </thead>\n",
       "  <tbody>\n",
       "    <tr>\n",
       "      <th>0</th>\n",
       "      <td>0</td>\n",
       "      <td>0</td>\n",
       "      <td>0</td>\n",
       "      <td>0</td>\n",
       "      <td>0</td>\n",
       "      <td>0</td>\n",
       "      <td>1</td>\n",
       "      <td>0</td>\n",
       "      <td>0</td>\n",
       "      <td>0</td>\n",
       "      <td>0</td>\n",
       "      <td>0</td>\n",
       "      <td>0</td>\n",
       "    </tr>\n",
       "    <tr>\n",
       "      <th>1</th>\n",
       "      <td>0</td>\n",
       "      <td>0</td>\n",
       "      <td>0</td>\n",
       "      <td>0</td>\n",
       "      <td>0</td>\n",
       "      <td>0</td>\n",
       "      <td>0</td>\n",
       "      <td>0</td>\n",
       "      <td>0</td>\n",
       "      <td>1</td>\n",
       "      <td>0</td>\n",
       "      <td>0</td>\n",
       "      <td>0</td>\n",
       "    </tr>\n",
       "    <tr>\n",
       "      <th>2</th>\n",
       "      <td>0</td>\n",
       "      <td>0</td>\n",
       "      <td>0</td>\n",
       "      <td>1</td>\n",
       "      <td>0</td>\n",
       "      <td>0</td>\n",
       "      <td>0</td>\n",
       "      <td>0</td>\n",
       "      <td>0</td>\n",
       "      <td>0</td>\n",
       "      <td>0</td>\n",
       "      <td>0</td>\n",
       "      <td>0</td>\n",
       "    </tr>\n",
       "    <tr>\n",
       "      <th>3</th>\n",
       "      <td>0</td>\n",
       "      <td>0</td>\n",
       "      <td>0</td>\n",
       "      <td>0</td>\n",
       "      <td>1</td>\n",
       "      <td>0</td>\n",
       "      <td>0</td>\n",
       "      <td>0</td>\n",
       "      <td>0</td>\n",
       "      <td>0</td>\n",
       "      <td>0</td>\n",
       "      <td>0</td>\n",
       "      <td>0</td>\n",
       "    </tr>\n",
       "    <tr>\n",
       "      <th>4</th>\n",
       "      <td>0</td>\n",
       "      <td>0</td>\n",
       "      <td>0</td>\n",
       "      <td>0</td>\n",
       "      <td>0</td>\n",
       "      <td>0</td>\n",
       "      <td>1</td>\n",
       "      <td>0</td>\n",
       "      <td>0</td>\n",
       "      <td>0</td>\n",
       "      <td>0</td>\n",
       "      <td>0</td>\n",
       "      <td>0</td>\n",
       "    </tr>\n",
       "    <tr>\n",
       "      <th>...</th>\n",
       "      <td>...</td>\n",
       "      <td>...</td>\n",
       "      <td>...</td>\n",
       "      <td>...</td>\n",
       "      <td>...</td>\n",
       "      <td>...</td>\n",
       "      <td>...</td>\n",
       "      <td>...</td>\n",
       "      <td>...</td>\n",
       "      <td>...</td>\n",
       "      <td>...</td>\n",
       "      <td>...</td>\n",
       "      <td>...</td>\n",
       "    </tr>\n",
       "    <tr>\n",
       "      <th>8123</th>\n",
       "      <td>0</td>\n",
       "      <td>0</td>\n",
       "      <td>0</td>\n",
       "      <td>0</td>\n",
       "      <td>1</td>\n",
       "      <td>0</td>\n",
       "      <td>0</td>\n",
       "      <td>0</td>\n",
       "      <td>0</td>\n",
       "      <td>0</td>\n",
       "      <td>0</td>\n",
       "      <td>0</td>\n",
       "      <td>0</td>\n",
       "    </tr>\n",
       "    <tr>\n",
       "      <th>8124</th>\n",
       "      <td>0</td>\n",
       "      <td>0</td>\n",
       "      <td>0</td>\n",
       "      <td>0</td>\n",
       "      <td>1</td>\n",
       "      <td>0</td>\n",
       "      <td>0</td>\n",
       "      <td>0</td>\n",
       "      <td>0</td>\n",
       "      <td>0</td>\n",
       "      <td>0</td>\n",
       "      <td>0</td>\n",
       "      <td>0</td>\n",
       "    </tr>\n",
       "    <tr>\n",
       "      <th>8125</th>\n",
       "      <td>0</td>\n",
       "      <td>0</td>\n",
       "      <td>0</td>\n",
       "      <td>0</td>\n",
       "      <td>0</td>\n",
       "      <td>0</td>\n",
       "      <td>1</td>\n",
       "      <td>0</td>\n",
       "      <td>0</td>\n",
       "      <td>0</td>\n",
       "      <td>0</td>\n",
       "      <td>0</td>\n",
       "      <td>0</td>\n",
       "    </tr>\n",
       "    <tr>\n",
       "      <th>8126</th>\n",
       "      <td>0</td>\n",
       "      <td>0</td>\n",
       "      <td>0</td>\n",
       "      <td>0</td>\n",
       "      <td>0</td>\n",
       "      <td>0</td>\n",
       "      <td>0</td>\n",
       "      <td>0</td>\n",
       "      <td>0</td>\n",
       "      <td>0</td>\n",
       "      <td>1</td>\n",
       "      <td>0</td>\n",
       "      <td>0</td>\n",
       "    </tr>\n",
       "    <tr>\n",
       "      <th>8127</th>\n",
       "      <td>0</td>\n",
       "      <td>0</td>\n",
       "      <td>0</td>\n",
       "      <td>0</td>\n",
       "      <td>0</td>\n",
       "      <td>0</td>\n",
       "      <td>0</td>\n",
       "      <td>0</td>\n",
       "      <td>0</td>\n",
       "      <td>0</td>\n",
       "      <td>1</td>\n",
       "      <td>0</td>\n",
       "      <td>0</td>\n",
       "    </tr>\n",
       "  </tbody>\n",
       "</table>\n",
       "<p>8128 rows × 13 columns</p>\n",
       "</div>"
      ],
      "text/plain": [
       "      BMW  Chevrolet  Ford  Honda  Hyundai  Mahindra  Maruti  Others  Renault  \\\n",
       "0       0          0     0      0        0         0       1       0        0   \n",
       "1       0          0     0      0        0         0       0       0        0   \n",
       "2       0          0     0      1        0         0       0       0        0   \n",
       "3       0          0     0      0        1         0       0       0        0   \n",
       "4       0          0     0      0        0         0       1       0        0   \n",
       "...   ...        ...   ...    ...      ...       ...     ...     ...      ...   \n",
       "8123    0          0     0      0        1         0       0       0        0   \n",
       "8124    0          0     0      0        1         0       0       0        0   \n",
       "8125    0          0     0      0        0         0       1       0        0   \n",
       "8126    0          0     0      0        0         0       0       0        0   \n",
       "8127    0          0     0      0        0         0       0       0        0   \n",
       "\n",
       "      Skoda  Tata  Toyota  Volkswagen  \n",
       "0         0     0       0           0  \n",
       "1         1     0       0           0  \n",
       "2         0     0       0           0  \n",
       "3         0     0       0           0  \n",
       "4         0     0       0           0  \n",
       "...     ...   ...     ...         ...  \n",
       "8123      0     0       0           0  \n",
       "8124      0     0       0           0  \n",
       "8125      0     0       0           0  \n",
       "8126      0     1       0           0  \n",
       "8127      0     1       0           0  \n",
       "\n",
       "[8128 rows x 13 columns]"
      ]
     },
     "execution_count": 857,
     "metadata": {},
     "output_type": "execute_result"
    }
   ],
   "source": [
    "pd.get_dummies(cars['brand'].replace(replace_col,'Others'))"
   ]
  },
  {
   "cell_type": "code",
   "execution_count": null,
   "id": "fd58f4a4",
   "metadata": {},
   "outputs": [],
   "source": [
    "np.hstack((X_train[['brand','km_driven']].values,X_train_new))"
   ]
  },
  {
   "cell_type": "markdown",
   "id": "eb612863",
   "metadata": {},
   "source": [
    "#### Ordinal Encoder"
   ]
  },
  {
   "cell_type": "markdown",
   "id": "3bd305cd",
   "metadata": {},
   "source": [
    "Encode categorical features as an integer array.\n",
    "\n",
    "The input to this transformer should be an array-like of integers or strings, denoting the values taken  \n",
    "on by categorical (discrete) features. The features are converted to ordinal integers.   \n",
    "This results in a single column of integers (0 to n_categories - 1) per feature.  \n",
    "\n",
    "* before performing any column transformation you need to do a train test split  \n",
    "* fit with train and transform both train and test"
   ]
  },
  {
   "cell_type": "code",
   "execution_count": 765,
   "id": "b7d91407",
   "metadata": {},
   "outputs": [],
   "source": [
    "df1 = pd.read_csv(\"C:/D/personal/Development/360/02- EDA/Datasets_EDA (1)/customer.csv\")"
   ]
  },
  {
   "cell_type": "code",
   "execution_count": 764,
   "id": "1ac072c8",
   "metadata": {},
   "outputs": [
    {
     "data": {
      "text/html": [
       "<div>\n",
       "<style scoped>\n",
       "    .dataframe tbody tr th:only-of-type {\n",
       "        vertical-align: middle;\n",
       "    }\n",
       "\n",
       "    .dataframe tbody tr th {\n",
       "        vertical-align: top;\n",
       "    }\n",
       "\n",
       "    .dataframe thead th {\n",
       "        text-align: right;\n",
       "    }\n",
       "</style>\n",
       "<table border=\"1\" class=\"dataframe\">\n",
       "  <thead>\n",
       "    <tr style=\"text-align: right;\">\n",
       "      <th></th>\n",
       "      <th>review</th>\n",
       "      <th>education</th>\n",
       "      <th>purchased</th>\n",
       "    </tr>\n",
       "  </thead>\n",
       "  <tbody>\n",
       "    <tr>\n",
       "      <th>0</th>\n",
       "      <td>Average</td>\n",
       "      <td>School</td>\n",
       "      <td>No</td>\n",
       "    </tr>\n",
       "    <tr>\n",
       "      <th>1</th>\n",
       "      <td>Poor</td>\n",
       "      <td>UG</td>\n",
       "      <td>No</td>\n",
       "    </tr>\n",
       "    <tr>\n",
       "      <th>2</th>\n",
       "      <td>Good</td>\n",
       "      <td>PG</td>\n",
       "      <td>No</td>\n",
       "    </tr>\n",
       "  </tbody>\n",
       "</table>\n",
       "</div>"
      ],
      "text/plain": [
       "    review education purchased\n",
       "0  Average    School        No\n",
       "1     Poor        UG        No\n",
       "2     Good        PG        No"
      ]
     },
     "execution_count": 764,
     "metadata": {},
     "output_type": "execute_result"
    }
   ],
   "source": [
    "df1.head(3)"
   ]
  },
  {
   "cell_type": "code",
   "execution_count": 732,
   "id": "d4d2f246",
   "metadata": {},
   "outputs": [
    {
     "data": {
      "text/html": [
       "<div>\n",
       "<style scoped>\n",
       "    .dataframe tbody tr th:only-of-type {\n",
       "        vertical-align: middle;\n",
       "    }\n",
       "\n",
       "    .dataframe tbody tr th {\n",
       "        vertical-align: top;\n",
       "    }\n",
       "\n",
       "    .dataframe thead th {\n",
       "        text-align: right;\n",
       "    }\n",
       "</style>\n",
       "<table border=\"1\" class=\"dataframe\">\n",
       "  <thead>\n",
       "    <tr style=\"text-align: right;\">\n",
       "      <th></th>\n",
       "      <th>age</th>\n",
       "      <th>gender</th>\n",
       "      <th>review</th>\n",
       "      <th>education</th>\n",
       "      <th>purchased</th>\n",
       "    </tr>\n",
       "  </thead>\n",
       "  <tbody>\n",
       "    <tr>\n",
       "      <th>8</th>\n",
       "      <td>65</td>\n",
       "      <td>Female</td>\n",
       "      <td>Average</td>\n",
       "      <td>UG</td>\n",
       "      <td>No</td>\n",
       "    </tr>\n",
       "    <tr>\n",
       "      <th>4</th>\n",
       "      <td>16</td>\n",
       "      <td>Female</td>\n",
       "      <td>Average</td>\n",
       "      <td>UG</td>\n",
       "      <td>No</td>\n",
       "    </tr>\n",
       "    <tr>\n",
       "      <th>26</th>\n",
       "      <td>53</td>\n",
       "      <td>Female</td>\n",
       "      <td>Poor</td>\n",
       "      <td>PG</td>\n",
       "      <td>No</td>\n",
       "    </tr>\n",
       "    <tr>\n",
       "      <th>38</th>\n",
       "      <td>45</td>\n",
       "      <td>Female</td>\n",
       "      <td>Good</td>\n",
       "      <td>School</td>\n",
       "      <td>No</td>\n",
       "    </tr>\n",
       "    <tr>\n",
       "      <th>13</th>\n",
       "      <td>57</td>\n",
       "      <td>Female</td>\n",
       "      <td>Average</td>\n",
       "      <td>School</td>\n",
       "      <td>No</td>\n",
       "    </tr>\n",
       "    <tr>\n",
       "      <th>17</th>\n",
       "      <td>22</td>\n",
       "      <td>Female</td>\n",
       "      <td>Poor</td>\n",
       "      <td>UG</td>\n",
       "      <td>Yes</td>\n",
       "    </tr>\n",
       "    <tr>\n",
       "      <th>27</th>\n",
       "      <td>69</td>\n",
       "      <td>Female</td>\n",
       "      <td>Poor</td>\n",
       "      <td>PG</td>\n",
       "      <td>No</td>\n",
       "    </tr>\n",
       "    <tr>\n",
       "      <th>21</th>\n",
       "      <td>32</td>\n",
       "      <td>Male</td>\n",
       "      <td>Average</td>\n",
       "      <td>PG</td>\n",
       "      <td>No</td>\n",
       "    </tr>\n",
       "    <tr>\n",
       "      <th>43</th>\n",
       "      <td>27</td>\n",
       "      <td>Male</td>\n",
       "      <td>Poor</td>\n",
       "      <td>PG</td>\n",
       "      <td>No</td>\n",
       "    </tr>\n",
       "    <tr>\n",
       "      <th>7</th>\n",
       "      <td>60</td>\n",
       "      <td>Female</td>\n",
       "      <td>Poor</td>\n",
       "      <td>School</td>\n",
       "      <td>Yes</td>\n",
       "    </tr>\n",
       "  </tbody>\n",
       "</table>\n",
       "</div>"
      ],
      "text/plain": [
       "    age  gender   review education purchased\n",
       "8    65  Female  Average        UG        No\n",
       "4    16  Female  Average        UG        No\n",
       "26   53  Female     Poor        PG        No\n",
       "38   45  Female     Good    School        No\n",
       "13   57  Female  Average    School        No\n",
       "17   22  Female     Poor        UG       Yes\n",
       "27   69  Female     Poor        PG        No\n",
       "21   32    Male  Average        PG        No\n",
       "43   27    Male     Poor        PG        No\n",
       "7    60  Female     Poor    School       Yes"
      ]
     },
     "execution_count": 732,
     "metadata": {},
     "output_type": "execute_result"
    }
   ],
   "source": [
    "df1.sample(10)"
   ]
  },
  {
   "cell_type": "markdown",
   "id": "c47033d1",
   "metadata": {},
   "source": [
    "* review and education are ordinal data - apply ordinal encoder  \n",
    "* gender is nominal data - apply one hot encoder  \n",
    "* purchased is nominal target vaiable - label encoder  "
   ]
  },
  {
   "cell_type": "code",
   "execution_count": 733,
   "id": "2eb1683f",
   "metadata": {},
   "outputs": [],
   "source": [
    "#extract ordinal predictors and target variable\n",
    "df1 = df1.iloc[:,2:]"
   ]
  },
  {
   "cell_type": "code",
   "execution_count": 734,
   "id": "3d93dc25",
   "metadata": {},
   "outputs": [
    {
     "data": {
      "text/html": [
       "<div>\n",
       "<style scoped>\n",
       "    .dataframe tbody tr th:only-of-type {\n",
       "        vertical-align: middle;\n",
       "    }\n",
       "\n",
       "    .dataframe tbody tr th {\n",
       "        vertical-align: top;\n",
       "    }\n",
       "\n",
       "    .dataframe thead th {\n",
       "        text-align: right;\n",
       "    }\n",
       "</style>\n",
       "<table border=\"1\" class=\"dataframe\">\n",
       "  <thead>\n",
       "    <tr style=\"text-align: right;\">\n",
       "      <th></th>\n",
       "      <th>review</th>\n",
       "      <th>education</th>\n",
       "      <th>purchased</th>\n",
       "    </tr>\n",
       "  </thead>\n",
       "  <tbody>\n",
       "    <tr>\n",
       "      <th>1</th>\n",
       "      <td>Poor</td>\n",
       "      <td>UG</td>\n",
       "      <td>No</td>\n",
       "    </tr>\n",
       "    <tr>\n",
       "      <th>12</th>\n",
       "      <td>Poor</td>\n",
       "      <td>School</td>\n",
       "      <td>No</td>\n",
       "    </tr>\n",
       "    <tr>\n",
       "      <th>6</th>\n",
       "      <td>Good</td>\n",
       "      <td>School</td>\n",
       "      <td>No</td>\n",
       "    </tr>\n",
       "    <tr>\n",
       "      <th>3</th>\n",
       "      <td>Good</td>\n",
       "      <td>PG</td>\n",
       "      <td>No</td>\n",
       "    </tr>\n",
       "    <tr>\n",
       "      <th>48</th>\n",
       "      <td>Good</td>\n",
       "      <td>UG</td>\n",
       "      <td>Yes</td>\n",
       "    </tr>\n",
       "    <tr>\n",
       "      <th>38</th>\n",
       "      <td>Good</td>\n",
       "      <td>School</td>\n",
       "      <td>No</td>\n",
       "    </tr>\n",
       "    <tr>\n",
       "      <th>36</th>\n",
       "      <td>Good</td>\n",
       "      <td>UG</td>\n",
       "      <td>Yes</td>\n",
       "    </tr>\n",
       "    <tr>\n",
       "      <th>22</th>\n",
       "      <td>Poor</td>\n",
       "      <td>PG</td>\n",
       "      <td>Yes</td>\n",
       "    </tr>\n",
       "    <tr>\n",
       "      <th>9</th>\n",
       "      <td>Good</td>\n",
       "      <td>UG</td>\n",
       "      <td>Yes</td>\n",
       "    </tr>\n",
       "    <tr>\n",
       "      <th>29</th>\n",
       "      <td>Average</td>\n",
       "      <td>UG</td>\n",
       "      <td>Yes</td>\n",
       "    </tr>\n",
       "  </tbody>\n",
       "</table>\n",
       "</div>"
      ],
      "text/plain": [
       "     review education purchased\n",
       "1      Poor        UG        No\n",
       "12     Poor    School        No\n",
       "6      Good    School        No\n",
       "3      Good        PG        No\n",
       "48     Good        UG       Yes\n",
       "38     Good    School        No\n",
       "36     Good        UG       Yes\n",
       "22     Poor        PG       Yes\n",
       "9      Good        UG       Yes\n",
       "29  Average        UG       Yes"
      ]
     },
     "execution_count": 734,
     "metadata": {},
     "output_type": "execute_result"
    }
   ],
   "source": [
    "df1.sample(10)"
   ]
  },
  {
   "cell_type": "markdown",
   "id": "fe96568f",
   "metadata": {},
   "source": [
    "* before performing any column transformation you need to do a train test split  \n",
    "* fit with train and transform both train and test"
   ]
  },
  {
   "cell_type": "code",
   "execution_count": 737,
   "id": "314ed172",
   "metadata": {},
   "outputs": [],
   "source": [
    "from sklearn.model_selection import train_test_split\n",
    "X_train,X_test,y_train,y_test = train_test_split(df1.iloc[:,0:2],df1.iloc[:,-1],test_size=0.2)"
   ]
  },
  {
   "cell_type": "code",
   "execution_count": 738,
   "id": "7621435f",
   "metadata": {},
   "outputs": [
    {
     "data": {
      "text/plain": [
       "(40, 2)"
      ]
     },
     "execution_count": 738,
     "metadata": {},
     "output_type": "execute_result"
    }
   ],
   "source": [
    "X_train.shape"
   ]
  },
  {
   "cell_type": "code",
   "execution_count": 739,
   "id": "5bbbe4e6",
   "metadata": {},
   "outputs": [
    {
     "data": {
      "text/plain": [
       "(10, 2)"
      ]
     },
     "execution_count": 739,
     "metadata": {},
     "output_type": "execute_result"
    }
   ],
   "source": [
    "X_test.shape"
   ]
  },
  {
   "cell_type": "code",
   "execution_count": 740,
   "id": "2e09d32c",
   "metadata": {},
   "outputs": [],
   "source": [
    "from sklearn.preprocessing import OrdinalEncoder"
   ]
  },
  {
   "cell_type": "code",
   "execution_count": 741,
   "id": "be979b63",
   "metadata": {},
   "outputs": [
    {
     "data": {
      "text/plain": [
       "array(['Average', 'Poor', 'Good'], dtype=object)"
      ]
     },
     "execution_count": 741,
     "metadata": {},
     "output_type": "execute_result"
    }
   ],
   "source": [
    "df1.review.unique()"
   ]
  },
  {
   "cell_type": "code",
   "execution_count": 742,
   "id": "f36dde55",
   "metadata": {},
   "outputs": [
    {
     "data": {
      "text/plain": [
       "array(['School', 'UG', 'PG'], dtype=object)"
      ]
     },
     "execution_count": 742,
     "metadata": {},
     "output_type": "execute_result"
    }
   ],
   "source": [
    "df1.education.unique()"
   ]
  },
  {
   "cell_type": "code",
   "execution_count": 744,
   "id": "5bf5c071",
   "metadata": {},
   "outputs": [
    {
     "data": {
      "text/html": [
       "<div>\n",
       "<style scoped>\n",
       "    .dataframe tbody tr th:only-of-type {\n",
       "        vertical-align: middle;\n",
       "    }\n",
       "\n",
       "    .dataframe tbody tr th {\n",
       "        vertical-align: top;\n",
       "    }\n",
       "\n",
       "    .dataframe thead th {\n",
       "        text-align: right;\n",
       "    }\n",
       "</style>\n",
       "<table border=\"1\" class=\"dataframe\">\n",
       "  <thead>\n",
       "    <tr style=\"text-align: right;\">\n",
       "      <th></th>\n",
       "      <th>review</th>\n",
       "      <th>education</th>\n",
       "    </tr>\n",
       "  </thead>\n",
       "  <tbody>\n",
       "    <tr>\n",
       "      <th>21</th>\n",
       "      <td>Average</td>\n",
       "      <td>PG</td>\n",
       "    </tr>\n",
       "    <tr>\n",
       "      <th>23</th>\n",
       "      <td>Good</td>\n",
       "      <td>School</td>\n",
       "    </tr>\n",
       "    <tr>\n",
       "      <th>31</th>\n",
       "      <td>Poor</td>\n",
       "      <td>School</td>\n",
       "    </tr>\n",
       "    <tr>\n",
       "      <th>19</th>\n",
       "      <td>Poor</td>\n",
       "      <td>PG</td>\n",
       "    </tr>\n",
       "    <tr>\n",
       "      <th>6</th>\n",
       "      <td>Good</td>\n",
       "      <td>School</td>\n",
       "    </tr>\n",
       "  </tbody>\n",
       "</table>\n",
       "</div>"
      ],
      "text/plain": [
       "     review education\n",
       "21  Average        PG\n",
       "23     Good    School\n",
       "31     Poor    School\n",
       "19     Poor        PG\n",
       "6      Good    School"
      ]
     },
     "execution_count": 744,
     "metadata": {},
     "output_type": "execute_result"
    }
   ],
   "source": [
    "X_train.head(5)"
   ]
  },
  {
   "cell_type": "code",
   "execution_count": 745,
   "id": "0dca30b0",
   "metadata": {},
   "outputs": [
    {
     "data": {
      "text/html": [
       "<div>\n",
       "<style scoped>\n",
       "    .dataframe tbody tr th:only-of-type {\n",
       "        vertical-align: middle;\n",
       "    }\n",
       "\n",
       "    .dataframe tbody tr th {\n",
       "        vertical-align: top;\n",
       "    }\n",
       "\n",
       "    .dataframe thead th {\n",
       "        text-align: right;\n",
       "    }\n",
       "</style>\n",
       "<table border=\"1\" class=\"dataframe\">\n",
       "  <thead>\n",
       "    <tr style=\"text-align: right;\">\n",
       "      <th></th>\n",
       "      <th>review</th>\n",
       "      <th>education</th>\n",
       "    </tr>\n",
       "  </thead>\n",
       "  <tbody>\n",
       "    <tr>\n",
       "      <th>27</th>\n",
       "      <td>Poor</td>\n",
       "      <td>PG</td>\n",
       "    </tr>\n",
       "    <tr>\n",
       "      <th>44</th>\n",
       "      <td>Average</td>\n",
       "      <td>UG</td>\n",
       "    </tr>\n",
       "    <tr>\n",
       "      <th>45</th>\n",
       "      <td>Poor</td>\n",
       "      <td>PG</td>\n",
       "    </tr>\n",
       "    <tr>\n",
       "      <th>17</th>\n",
       "      <td>Poor</td>\n",
       "      <td>UG</td>\n",
       "    </tr>\n",
       "    <tr>\n",
       "      <th>35</th>\n",
       "      <td>Poor</td>\n",
       "      <td>School</td>\n",
       "    </tr>\n",
       "    <tr>\n",
       "      <th>16</th>\n",
       "      <td>Poor</td>\n",
       "      <td>UG</td>\n",
       "    </tr>\n",
       "    <tr>\n",
       "      <th>26</th>\n",
       "      <td>Poor</td>\n",
       "      <td>PG</td>\n",
       "    </tr>\n",
       "    <tr>\n",
       "      <th>41</th>\n",
       "      <td>Good</td>\n",
       "      <td>PG</td>\n",
       "    </tr>\n",
       "    <tr>\n",
       "      <th>15</th>\n",
       "      <td>Poor</td>\n",
       "      <td>UG</td>\n",
       "    </tr>\n",
       "    <tr>\n",
       "      <th>36</th>\n",
       "      <td>Good</td>\n",
       "      <td>UG</td>\n",
       "    </tr>\n",
       "  </tbody>\n",
       "</table>\n",
       "</div>"
      ],
      "text/plain": [
       "     review education\n",
       "27     Poor        PG\n",
       "44  Average        UG\n",
       "45     Poor        PG\n",
       "17     Poor        UG\n",
       "35     Poor    School\n",
       "16     Poor        UG\n",
       "26     Poor        PG\n",
       "41     Good        PG\n",
       "15     Poor        UG\n",
       "36     Good        UG"
      ]
     },
     "execution_count": 745,
     "metadata": {},
     "output_type": "execute_result"
    }
   ],
   "source": [
    "X_test"
   ]
  },
  {
   "cell_type": "code",
   "execution_count": 746,
   "id": "6c9d0587",
   "metadata": {},
   "outputs": [],
   "source": [
    "ord_enc = OrdinalEncoder(categories = [['Poor', 'Average', 'Good'],['School', 'UG', 'PG']])"
   ]
  },
  {
   "cell_type": "code",
   "execution_count": 747,
   "id": "ad4b66d9",
   "metadata": {},
   "outputs": [
    {
     "data": {
      "text/plain": [
       "OrdinalEncoder(categories=[['Poor', 'Average', 'Good'], ['School', 'UG', 'PG']])"
      ]
     },
     "execution_count": 747,
     "metadata": {},
     "output_type": "execute_result"
    }
   ],
   "source": [
    "ord_enc.fit(X_train)"
   ]
  },
  {
   "cell_type": "code",
   "execution_count": 748,
   "id": "028a7054",
   "metadata": {},
   "outputs": [],
   "source": [
    "X_train = ord_enc.transform(X_train)\n",
    "X_test =  ord_enc.transform(X_test)"
   ]
  },
  {
   "cell_type": "code",
   "execution_count": 751,
   "id": "2df14fc1",
   "metadata": {},
   "outputs": [
    {
     "data": {
      "text/plain": [
       "array([[1., 2.],\n",
       "       [2., 0.],\n",
       "       [0., 0.],\n",
       "       [0., 2.],\n",
       "       [2., 0.],\n",
       "       [2., 1.],\n",
       "       [2., 2.],\n",
       "       [1., 0.],\n",
       "       [2., 0.],\n",
       "       [0., 2.],\n",
       "       [0., 0.],\n",
       "       [0., 1.],\n",
       "       [2., 2.],\n",
       "       [1., 0.],\n",
       "       [2., 2.],\n",
       "       [1., 2.],\n",
       "       [0., 2.],\n",
       "       [2., 2.],\n",
       "       [2., 2.],\n",
       "       [2., 0.],\n",
       "       [0., 2.],\n",
       "       [1., 1.],\n",
       "       [1., 1.],\n",
       "       [2., 0.],\n",
       "       [0., 2.],\n",
       "       [1., 0.],\n",
       "       [2., 1.],\n",
       "       [2., 1.],\n",
       "       [0., 0.],\n",
       "       [1., 1.],\n",
       "       [2., 1.],\n",
       "       [2., 1.],\n",
       "       [0., 2.],\n",
       "       [1., 1.],\n",
       "       [1., 2.],\n",
       "       [2., 0.],\n",
       "       [1., 1.],\n",
       "       [1., 0.],\n",
       "       [1., 0.],\n",
       "       [0., 0.]])"
      ]
     },
     "execution_count": 751,
     "metadata": {},
     "output_type": "execute_result"
    }
   ],
   "source": [
    "X_train"
   ]
  },
  {
   "cell_type": "code",
   "execution_count": 752,
   "id": "72822815",
   "metadata": {},
   "outputs": [
    {
     "data": {
      "text/plain": [
       "array([[0., 2.],\n",
       "       [1., 1.],\n",
       "       [0., 2.],\n",
       "       [0., 1.],\n",
       "       [0., 0.],\n",
       "       [0., 1.],\n",
       "       [0., 2.],\n",
       "       [2., 2.],\n",
       "       [0., 1.],\n",
       "       [2., 1.]])"
      ]
     },
     "execution_count": 752,
     "metadata": {},
     "output_type": "execute_result"
    }
   ],
   "source": [
    "X_test"
   ]
  },
  {
   "cell_type": "code",
   "execution_count": 753,
   "id": "2968c3fe",
   "metadata": {},
   "outputs": [
    {
     "data": {
      "text/plain": [
       "[array(['Poor', 'Average', 'Good'], dtype=object),\n",
       " array(['School', 'UG', 'PG'], dtype=object)]"
      ]
     },
     "execution_count": 753,
     "metadata": {},
     "output_type": "execute_result"
    }
   ],
   "source": [
    "ord_enc.categories_"
   ]
  },
  {
   "cell_type": "markdown",
   "id": "60bee0a5",
   "metadata": {},
   "source": [
    "#### Label Encoder"
   ]
  },
  {
   "cell_type": "markdown",
   "id": "efee8edd",
   "metadata": {},
   "source": [
    "* Encode target labels with value between 0 and n_classes-1.  \n",
    "* This transformer should be used to encode target values, i.e. y, and not the input X.  \n",
    "* Here's an entire package of alternatives: contrib.scikit-learn.org/category_encoders"
   ]
  },
  {
   "cell_type": "code",
   "execution_count": 754,
   "id": "3b2f170d",
   "metadata": {},
   "outputs": [],
   "source": [
    "from sklearn.preprocessing import LabelEncoder\n",
    "# creating instance of labelencoder\n",
    "lbl_enc = LabelEncoder()"
   ]
  },
  {
   "cell_type": "code",
   "execution_count": 756,
   "id": "8d300c60",
   "metadata": {},
   "outputs": [
    {
     "data": {
      "text/plain": [
       "LabelEncoder()"
      ]
     },
     "execution_count": 756,
     "metadata": {},
     "output_type": "execute_result"
    }
   ],
   "source": [
    "lbl_enc.fit(y_train)"
   ]
  },
  {
   "cell_type": "code",
   "execution_count": 758,
   "id": "03a6a338",
   "metadata": {},
   "outputs": [
    {
     "data": {
      "text/plain": [
       "array(['No', 'Yes'], dtype=object)"
      ]
     },
     "execution_count": 758,
     "metadata": {},
     "output_type": "execute_result"
    }
   ],
   "source": [
    "lbl_enc.classes_"
   ]
  },
  {
   "cell_type": "code",
   "execution_count": 759,
   "id": "04d1e58e",
   "metadata": {},
   "outputs": [],
   "source": [
    "y_train = lbl_enc.transform(y_train)\n",
    "y_test =  lbl_enc.transform(y_test)"
   ]
  },
  {
   "cell_type": "code",
   "execution_count": 760,
   "id": "3d311045",
   "metadata": {},
   "outputs": [
    {
     "data": {
      "text/plain": [
       "array([0, 0, 1, 1, 0, 1, 0, 0, 0, 0, 0, 0, 0, 0, 1, 1, 0, 1, 1, 0, 1, 0,\n",
       "       0, 0, 0, 1, 1, 1, 1, 1, 0, 1, 1, 1, 1, 0, 0, 1, 0, 0])"
      ]
     },
     "execution_count": 760,
     "metadata": {},
     "output_type": "execute_result"
    }
   ],
   "source": [
    "y_train"
   ]
  },
  {
   "cell_type": "code",
   "execution_count": 763,
   "id": "068f635f",
   "metadata": {},
   "outputs": [
    {
     "data": {
      "text/plain": [
       "array([0, 0, 1, 1, 1, 1, 0, 1, 0, 1])"
      ]
     },
     "execution_count": 763,
     "metadata": {},
     "output_type": "execute_result"
    }
   ],
   "source": [
    "y_test"
   ]
  },
  {
   "cell_type": "markdown",
   "id": "64501c10",
   "metadata": {},
   "source": [
    "### Feature Scaling"
   ]
  },
  {
   "cell_type": "markdown",
   "id": "6e8c2ebc",
   "metadata": {},
   "source": [
    "#### Standardization"
   ]
  },
  {
   "cell_type": "code",
   "execution_count": null,
   "id": "29c9408e",
   "metadata": {},
   "outputs": [],
   "source": []
  },
  {
   "cell_type": "code",
   "execution_count": 662,
   "id": "f8afa57e",
   "metadata": {},
   "outputs": [],
   "source": [
    "import pandas as pd\n",
    "import numpy as np"
   ]
  },
  {
   "cell_type": "code",
   "execution_count": 663,
   "id": "ac499977",
   "metadata": {},
   "outputs": [],
   "source": [
    "### Standardization\n",
    "from sklearn.preprocessing import StandardScaler\n",
    "d = pd.read_csv(\"C:/D/personal/Development/360/02- EDA/Datasets_EDA (1)/mtcars.csv\")\n",
    "a = d.describe()"
   ]
  },
  {
   "cell_type": "code",
   "execution_count": 664,
   "id": "69726110",
   "metadata": {},
   "outputs": [
    {
     "data": {
      "text/html": [
       "<div>\n",
       "<style scoped>\n",
       "    .dataframe tbody tr th:only-of-type {\n",
       "        vertical-align: middle;\n",
       "    }\n",
       "\n",
       "    .dataframe tbody tr th {\n",
       "        vertical-align: top;\n",
       "    }\n",
       "\n",
       "    .dataframe thead th {\n",
       "        text-align: right;\n",
       "    }\n",
       "</style>\n",
       "<table border=\"1\" class=\"dataframe\">\n",
       "  <thead>\n",
       "    <tr style=\"text-align: right;\">\n",
       "      <th></th>\n",
       "      <th>mpg</th>\n",
       "      <th>cyl</th>\n",
       "      <th>disp</th>\n",
       "      <th>hp</th>\n",
       "      <th>drat</th>\n",
       "      <th>wt</th>\n",
       "      <th>qsec</th>\n",
       "      <th>vs</th>\n",
       "      <th>am</th>\n",
       "      <th>gear</th>\n",
       "      <th>carb</th>\n",
       "    </tr>\n",
       "  </thead>\n",
       "  <tbody>\n",
       "    <tr>\n",
       "      <th>count</th>\n",
       "      <td>32.000000</td>\n",
       "      <td>32.000000</td>\n",
       "      <td>32.000000</td>\n",
       "      <td>32.000000</td>\n",
       "      <td>32.000000</td>\n",
       "      <td>32.000000</td>\n",
       "      <td>32.000000</td>\n",
       "      <td>32.000000</td>\n",
       "      <td>32.000000</td>\n",
       "      <td>32.000000</td>\n",
       "      <td>32.0000</td>\n",
       "    </tr>\n",
       "    <tr>\n",
       "      <th>mean</th>\n",
       "      <td>20.090625</td>\n",
       "      <td>6.187500</td>\n",
       "      <td>230.721875</td>\n",
       "      <td>146.687500</td>\n",
       "      <td>3.596563</td>\n",
       "      <td>3.217250</td>\n",
       "      <td>17.848750</td>\n",
       "      <td>0.437500</td>\n",
       "      <td>0.406250</td>\n",
       "      <td>3.687500</td>\n",
       "      <td>2.8125</td>\n",
       "    </tr>\n",
       "    <tr>\n",
       "      <th>std</th>\n",
       "      <td>6.026948</td>\n",
       "      <td>1.785922</td>\n",
       "      <td>123.938694</td>\n",
       "      <td>68.562868</td>\n",
       "      <td>0.534679</td>\n",
       "      <td>0.978457</td>\n",
       "      <td>1.786943</td>\n",
       "      <td>0.504016</td>\n",
       "      <td>0.498991</td>\n",
       "      <td>0.737804</td>\n",
       "      <td>1.6152</td>\n",
       "    </tr>\n",
       "    <tr>\n",
       "      <th>min</th>\n",
       "      <td>10.400000</td>\n",
       "      <td>4.000000</td>\n",
       "      <td>71.100000</td>\n",
       "      <td>52.000000</td>\n",
       "      <td>2.760000</td>\n",
       "      <td>1.513000</td>\n",
       "      <td>14.500000</td>\n",
       "      <td>0.000000</td>\n",
       "      <td>0.000000</td>\n",
       "      <td>3.000000</td>\n",
       "      <td>1.0000</td>\n",
       "    </tr>\n",
       "    <tr>\n",
       "      <th>25%</th>\n",
       "      <td>15.425000</td>\n",
       "      <td>4.000000</td>\n",
       "      <td>120.825000</td>\n",
       "      <td>96.500000</td>\n",
       "      <td>3.080000</td>\n",
       "      <td>2.581250</td>\n",
       "      <td>16.892500</td>\n",
       "      <td>0.000000</td>\n",
       "      <td>0.000000</td>\n",
       "      <td>3.000000</td>\n",
       "      <td>2.0000</td>\n",
       "    </tr>\n",
       "    <tr>\n",
       "      <th>50%</th>\n",
       "      <td>19.200000</td>\n",
       "      <td>6.000000</td>\n",
       "      <td>196.300000</td>\n",
       "      <td>123.000000</td>\n",
       "      <td>3.695000</td>\n",
       "      <td>3.325000</td>\n",
       "      <td>17.710000</td>\n",
       "      <td>0.000000</td>\n",
       "      <td>0.000000</td>\n",
       "      <td>4.000000</td>\n",
       "      <td>2.0000</td>\n",
       "    </tr>\n",
       "    <tr>\n",
       "      <th>75%</th>\n",
       "      <td>22.800000</td>\n",
       "      <td>8.000000</td>\n",
       "      <td>326.000000</td>\n",
       "      <td>180.000000</td>\n",
       "      <td>3.920000</td>\n",
       "      <td>3.610000</td>\n",
       "      <td>18.900000</td>\n",
       "      <td>1.000000</td>\n",
       "      <td>1.000000</td>\n",
       "      <td>4.000000</td>\n",
       "      <td>4.0000</td>\n",
       "    </tr>\n",
       "    <tr>\n",
       "      <th>max</th>\n",
       "      <td>33.900000</td>\n",
       "      <td>8.000000</td>\n",
       "      <td>472.000000</td>\n",
       "      <td>335.000000</td>\n",
       "      <td>4.930000</td>\n",
       "      <td>5.424000</td>\n",
       "      <td>22.900000</td>\n",
       "      <td>1.000000</td>\n",
       "      <td>1.000000</td>\n",
       "      <td>5.000000</td>\n",
       "      <td>8.0000</td>\n",
       "    </tr>\n",
       "  </tbody>\n",
       "</table>\n",
       "</div>"
      ],
      "text/plain": [
       "             mpg        cyl        disp          hp       drat         wt  \\\n",
       "count  32.000000  32.000000   32.000000   32.000000  32.000000  32.000000   \n",
       "mean   20.090625   6.187500  230.721875  146.687500   3.596563   3.217250   \n",
       "std     6.026948   1.785922  123.938694   68.562868   0.534679   0.978457   \n",
       "min    10.400000   4.000000   71.100000   52.000000   2.760000   1.513000   \n",
       "25%    15.425000   4.000000  120.825000   96.500000   3.080000   2.581250   \n",
       "50%    19.200000   6.000000  196.300000  123.000000   3.695000   3.325000   \n",
       "75%    22.800000   8.000000  326.000000  180.000000   3.920000   3.610000   \n",
       "max    33.900000   8.000000  472.000000  335.000000   4.930000   5.424000   \n",
       "\n",
       "            qsec         vs         am       gear     carb  \n",
       "count  32.000000  32.000000  32.000000  32.000000  32.0000  \n",
       "mean   17.848750   0.437500   0.406250   3.687500   2.8125  \n",
       "std     1.786943   0.504016   0.498991   0.737804   1.6152  \n",
       "min    14.500000   0.000000   0.000000   3.000000   1.0000  \n",
       "25%    16.892500   0.000000   0.000000   3.000000   2.0000  \n",
       "50%    17.710000   0.000000   0.000000   4.000000   2.0000  \n",
       "75%    18.900000   1.000000   1.000000   4.000000   4.0000  \n",
       "max    22.900000   1.000000   1.000000   5.000000   8.0000  "
      ]
     },
     "execution_count": 664,
     "metadata": {},
     "output_type": "execute_result"
    }
   ],
   "source": [
    "a"
   ]
  },
  {
   "cell_type": "code",
   "execution_count": 665,
   "id": "8cf1c7b7",
   "metadata": {},
   "outputs": [],
   "source": [
    "# Initialise the Scaler\n",
    "scaler = StandardScaler()"
   ]
  },
  {
   "cell_type": "code",
   "execution_count": 666,
   "id": "6eb392e6",
   "metadata": {},
   "outputs": [],
   "source": [
    "# To scale data\n",
    "df = scaler.fit_transform(d)"
   ]
  },
  {
   "cell_type": "code",
   "execution_count": 667,
   "id": "1316a120",
   "metadata": {},
   "outputs": [],
   "source": [
    "# Convert the array back to a dataframe\n",
    "dataset = pd.DataFrame(df)\n",
    "res = dataset.describe()"
   ]
  },
  {
   "cell_type": "code",
   "execution_count": 668,
   "id": "0a2d1a8e",
   "metadata": {
    "scrolled": true
   },
   "outputs": [
    {
     "data": {
      "text/html": [
       "<div>\n",
       "<style scoped>\n",
       "    .dataframe tbody tr th:only-of-type {\n",
       "        vertical-align: middle;\n",
       "    }\n",
       "\n",
       "    .dataframe tbody tr th {\n",
       "        vertical-align: top;\n",
       "    }\n",
       "\n",
       "    .dataframe thead th {\n",
       "        text-align: right;\n",
       "    }\n",
       "</style>\n",
       "<table border=\"1\" class=\"dataframe\">\n",
       "  <thead>\n",
       "    <tr style=\"text-align: right;\">\n",
       "      <th></th>\n",
       "      <th>0</th>\n",
       "      <th>1</th>\n",
       "      <th>2</th>\n",
       "      <th>3</th>\n",
       "      <th>4</th>\n",
       "      <th>5</th>\n",
       "      <th>6</th>\n",
       "      <th>7</th>\n",
       "      <th>8</th>\n",
       "      <th>9</th>\n",
       "      <th>10</th>\n",
       "    </tr>\n",
       "  </thead>\n",
       "  <tbody>\n",
       "    <tr>\n",
       "      <th>count</th>\n",
       "      <td>3.200000e+01</td>\n",
       "      <td>3.200000e+01</td>\n",
       "      <td>3.200000e+01</td>\n",
       "      <td>32.000000</td>\n",
       "      <td>3.200000e+01</td>\n",
       "      <td>3.200000e+01</td>\n",
       "      <td>3.200000e+01</td>\n",
       "      <td>32.000000</td>\n",
       "      <td>32.000000</td>\n",
       "      <td>3.200000e+01</td>\n",
       "      <td>3.200000e+01</td>\n",
       "    </tr>\n",
       "    <tr>\n",
       "      <th>mean</th>\n",
       "      <td>-4.996004e-16</td>\n",
       "      <td>2.775558e-17</td>\n",
       "      <td>1.665335e-16</td>\n",
       "      <td>0.000000</td>\n",
       "      <td>-3.053113e-16</td>\n",
       "      <td>-4.718448e-16</td>\n",
       "      <td>-1.471046e-15</td>\n",
       "      <td>0.000000</td>\n",
       "      <td>0.000000</td>\n",
       "      <td>-2.775558e-17</td>\n",
       "      <td>-2.775558e-17</td>\n",
       "    </tr>\n",
       "    <tr>\n",
       "      <th>std</th>\n",
       "      <td>1.016001e+00</td>\n",
       "      <td>1.016001e+00</td>\n",
       "      <td>1.016001e+00</td>\n",
       "      <td>1.016001</td>\n",
       "      <td>1.016001e+00</td>\n",
       "      <td>1.016001e+00</td>\n",
       "      <td>1.016001e+00</td>\n",
       "      <td>1.016001</td>\n",
       "      <td>1.016001</td>\n",
       "      <td>1.016001e+00</td>\n",
       "      <td>1.016001e+00</td>\n",
       "    </tr>\n",
       "    <tr>\n",
       "      <th>min</th>\n",
       "      <td>-1.633610e+00</td>\n",
       "      <td>-1.244457e+00</td>\n",
       "      <td>-1.308518e+00</td>\n",
       "      <td>-1.403130</td>\n",
       "      <td>-1.589643e+00</td>\n",
       "      <td>-1.769642e+00</td>\n",
       "      <td>-1.903996e+00</td>\n",
       "      <td>-0.881917</td>\n",
       "      <td>-0.827170</td>\n",
       "      <td>-9.467293e-01</td>\n",
       "      <td>-1.140108e+00</td>\n",
       "    </tr>\n",
       "    <tr>\n",
       "      <th>25%</th>\n",
       "      <td>-7.865141e-01</td>\n",
       "      <td>-1.244457e+00</td>\n",
       "      <td>-9.008917e-01</td>\n",
       "      <td>-0.743705</td>\n",
       "      <td>-9.815764e-01</td>\n",
       "      <td>-6.604034e-01</td>\n",
       "      <td>-5.436944e-01</td>\n",
       "      <td>-0.881917</td>\n",
       "      <td>-0.827170</td>\n",
       "      <td>-9.467293e-01</td>\n",
       "      <td>-5.110827e-01</td>\n",
       "    </tr>\n",
       "    <tr>\n",
       "      <th>50%</th>\n",
       "      <td>-1.501383e-01</td>\n",
       "      <td>-1.066677e-01</td>\n",
       "      <td>-2.821771e-01</td>\n",
       "      <td>-0.351014</td>\n",
       "      <td>1.870518e-01</td>\n",
       "      <td>1.118844e-01</td>\n",
       "      <td>-7.888899e-02</td>\n",
       "      <td>-0.881917</td>\n",
       "      <td>-0.827170</td>\n",
       "      <td>4.303315e-01</td>\n",
       "      <td>-5.110827e-01</td>\n",
       "    </tr>\n",
       "    <tr>\n",
       "      <th>75%</th>\n",
       "      <td>4.567366e-01</td>\n",
       "      <td>1.031121e+00</td>\n",
       "      <td>7.810529e-01</td>\n",
       "      <td>0.493642</td>\n",
       "      <td>6.145986e-01</td>\n",
       "      <td>4.078199e-01</td>\n",
       "      <td>5.977084e-01</td>\n",
       "      <td>1.133893</td>\n",
       "      <td>1.208941</td>\n",
       "      <td>4.303315e-01</td>\n",
       "      <td>7.469671e-01</td>\n",
       "    </tr>\n",
       "    <tr>\n",
       "      <th>max</th>\n",
       "      <td>2.327934e+00</td>\n",
       "      <td>1.031121e+00</td>\n",
       "      <td>1.977904e+00</td>\n",
       "      <td>2.790515</td>\n",
       "      <td>2.533809e+00</td>\n",
       "      <td>2.291423e+00</td>\n",
       "      <td>2.871986e+00</td>\n",
       "      <td>1.133893</td>\n",
       "      <td>1.208941</td>\n",
       "      <td>1.807392e+00</td>\n",
       "      <td>3.263067e+00</td>\n",
       "    </tr>\n",
       "  </tbody>\n",
       "</table>\n",
       "</div>"
      ],
      "text/plain": [
       "                 0             1             2          3             4   \\\n",
       "count  3.200000e+01  3.200000e+01  3.200000e+01  32.000000  3.200000e+01   \n",
       "mean  -4.996004e-16  2.775558e-17  1.665335e-16   0.000000 -3.053113e-16   \n",
       "std    1.016001e+00  1.016001e+00  1.016001e+00   1.016001  1.016001e+00   \n",
       "min   -1.633610e+00 -1.244457e+00 -1.308518e+00  -1.403130 -1.589643e+00   \n",
       "25%   -7.865141e-01 -1.244457e+00 -9.008917e-01  -0.743705 -9.815764e-01   \n",
       "50%   -1.501383e-01 -1.066677e-01 -2.821771e-01  -0.351014  1.870518e-01   \n",
       "75%    4.567366e-01  1.031121e+00  7.810529e-01   0.493642  6.145986e-01   \n",
       "max    2.327934e+00  1.031121e+00  1.977904e+00   2.790515  2.533809e+00   \n",
       "\n",
       "                 5             6          7          8             9   \\\n",
       "count  3.200000e+01  3.200000e+01  32.000000  32.000000  3.200000e+01   \n",
       "mean  -4.718448e-16 -1.471046e-15   0.000000   0.000000 -2.775558e-17   \n",
       "std    1.016001e+00  1.016001e+00   1.016001   1.016001  1.016001e+00   \n",
       "min   -1.769642e+00 -1.903996e+00  -0.881917  -0.827170 -9.467293e-01   \n",
       "25%   -6.604034e-01 -5.436944e-01  -0.881917  -0.827170 -9.467293e-01   \n",
       "50%    1.118844e-01 -7.888899e-02  -0.881917  -0.827170  4.303315e-01   \n",
       "75%    4.078199e-01  5.977084e-01   1.133893   1.208941  4.303315e-01   \n",
       "max    2.291423e+00  2.871986e+00   1.133893   1.208941  1.807392e+00   \n",
       "\n",
       "                 10  \n",
       "count  3.200000e+01  \n",
       "mean  -2.775558e-17  \n",
       "std    1.016001e+00  \n",
       "min   -1.140108e+00  \n",
       "25%   -5.110827e-01  \n",
       "50%   -5.110827e-01  \n",
       "75%    7.469671e-01  \n",
       "max    3.263067e+00  "
      ]
     },
     "execution_count": 668,
     "metadata": {},
     "output_type": "execute_result"
    }
   ],
   "source": [
    "#std dev is 1.016 because of degrees of freedom\n",
    "res"
   ]
  },
  {
   "cell_type": "markdown",
   "id": "d299aaa7",
   "metadata": {},
   "source": [
    "#### Normalization"
   ]
  },
  {
   "cell_type": "code",
   "execution_count": 669,
   "id": "3a2c63cf",
   "metadata": {},
   "outputs": [],
   "source": [
    "## load data set\n",
    "ethnic = pd.read_csv(\"C:/D/personal/Development/360/02- EDA/Datasets_EDA (1)/ethnic diversity.csv\")\n",
    "ethnic.columns\n",
    "ethnic.drop(['Employee_Name', 'EmpID', 'Zip'], axis = 1, inplace = True)\n",
    "a1 = ethnic.describe()"
   ]
  },
  {
   "cell_type": "code",
   "execution_count": 670,
   "id": "7da5cdd9",
   "metadata": {},
   "outputs": [
    {
     "data": {
      "text/html": [
       "<div>\n",
       "<style scoped>\n",
       "    .dataframe tbody tr th:only-of-type {\n",
       "        vertical-align: middle;\n",
       "    }\n",
       "\n",
       "    .dataframe tbody tr th {\n",
       "        vertical-align: top;\n",
       "    }\n",
       "\n",
       "    .dataframe thead th {\n",
       "        text-align: right;\n",
       "    }\n",
       "</style>\n",
       "<table border=\"1\" class=\"dataframe\">\n",
       "  <thead>\n",
       "    <tr style=\"text-align: right;\">\n",
       "      <th></th>\n",
       "      <th>Salaries</th>\n",
       "      <th>age</th>\n",
       "    </tr>\n",
       "  </thead>\n",
       "  <tbody>\n",
       "    <tr>\n",
       "      <th>count</th>\n",
       "      <td>310.000000</td>\n",
       "      <td>310.000000</td>\n",
       "    </tr>\n",
       "    <tr>\n",
       "      <th>mean</th>\n",
       "      <td>36670.102742</td>\n",
       "      <td>38.696774</td>\n",
       "    </tr>\n",
       "    <tr>\n",
       "      <th>std</th>\n",
       "      <td>21075.942369</td>\n",
       "      <td>9.258163</td>\n",
       "    </tr>\n",
       "    <tr>\n",
       "      <th>min</th>\n",
       "      <td>0.000000</td>\n",
       "      <td>23.000000</td>\n",
       "    </tr>\n",
       "    <tr>\n",
       "      <th>25%</th>\n",
       "      <td>23092.950000</td>\n",
       "      <td>31.000000</td>\n",
       "    </tr>\n",
       "    <tr>\n",
       "      <th>50%</th>\n",
       "      <td>34554.745000</td>\n",
       "      <td>39.000000</td>\n",
       "    </tr>\n",
       "    <tr>\n",
       "      <th>75%</th>\n",
       "      <td>51452.895000</td>\n",
       "      <td>46.000000</td>\n",
       "    </tr>\n",
       "    <tr>\n",
       "      <th>max</th>\n",
       "      <td>108304.000000</td>\n",
       "      <td>54.000000</td>\n",
       "    </tr>\n",
       "  </tbody>\n",
       "</table>\n",
       "</div>"
      ],
      "text/plain": [
       "            Salaries         age\n",
       "count     310.000000  310.000000\n",
       "mean    36670.102742   38.696774\n",
       "std     21075.942369    9.258163\n",
       "min         0.000000   23.000000\n",
       "25%     23092.950000   31.000000\n",
       "50%     34554.745000   39.000000\n",
       "75%     51452.895000   46.000000\n",
       "max    108304.000000   54.000000"
      ]
     },
     "execution_count": 670,
     "metadata": {},
     "output_type": "execute_result"
    }
   ],
   "source": [
    "a1"
   ]
  },
  {
   "cell_type": "code",
   "execution_count": 671,
   "id": "24a66d10",
   "metadata": {},
   "outputs": [],
   "source": [
    "# get dummies\n",
    "ethnic = pd.get_dummies(ethnic, drop_first = True)"
   ]
  },
  {
   "cell_type": "code",
   "execution_count": 672,
   "id": "8b93e5a9",
   "metadata": {},
   "outputs": [
    {
     "data": {
      "text/html": [
       "<div>\n",
       "<style scoped>\n",
       "    .dataframe tbody tr th:only-of-type {\n",
       "        vertical-align: middle;\n",
       "    }\n",
       "\n",
       "    .dataframe tbody tr th {\n",
       "        vertical-align: top;\n",
       "    }\n",
       "\n",
       "    .dataframe thead th {\n",
       "        text-align: right;\n",
       "    }\n",
       "</style>\n",
       "<table border=\"1\" class=\"dataframe\">\n",
       "  <thead>\n",
       "    <tr style=\"text-align: right;\">\n",
       "      <th></th>\n",
       "      <th>Salaries</th>\n",
       "      <th>age</th>\n",
       "      <th>Position_Administrative Assistant</th>\n",
       "      <th>Position_Area Sales Manager</th>\n",
       "      <th>Position_BI Developer</th>\n",
       "      <th>Position_BI Director</th>\n",
       "      <th>Position_CIO</th>\n",
       "      <th>Position_Data Analyst</th>\n",
       "      <th>Position_Data Analyst</th>\n",
       "      <th>Position_Data Architect</th>\n",
       "      <th>...</th>\n",
       "      <th>Department_Executive Office</th>\n",
       "      <th>Department_IT/IS</th>\n",
       "      <th>Department_Production</th>\n",
       "      <th>Department_Sales</th>\n",
       "      <th>Department_Software Engineering</th>\n",
       "      <th>Race_Asian</th>\n",
       "      <th>Race_Black or African American</th>\n",
       "      <th>Race_Hispanic</th>\n",
       "      <th>Race_Two or more races</th>\n",
       "      <th>Race_White</th>\n",
       "    </tr>\n",
       "  </thead>\n",
       "  <tbody>\n",
       "    <tr>\n",
       "      <th>0</th>\n",
       "      <td>674.28</td>\n",
       "      <td>28</td>\n",
       "      <td>0</td>\n",
       "      <td>0</td>\n",
       "      <td>0</td>\n",
       "      <td>0</td>\n",
       "      <td>0</td>\n",
       "      <td>0</td>\n",
       "      <td>0</td>\n",
       "      <td>0</td>\n",
       "      <td>...</td>\n",
       "      <td>0</td>\n",
       "      <td>0</td>\n",
       "      <td>0</td>\n",
       "      <td>0</td>\n",
       "      <td>0</td>\n",
       "      <td>0</td>\n",
       "      <td>1</td>\n",
       "      <td>0</td>\n",
       "      <td>0</td>\n",
       "      <td>0</td>\n",
       "    </tr>\n",
       "    <tr>\n",
       "      <th>1</th>\n",
       "      <td>674.28</td>\n",
       "      <td>50</td>\n",
       "      <td>0</td>\n",
       "      <td>0</td>\n",
       "      <td>0</td>\n",
       "      <td>0</td>\n",
       "      <td>0</td>\n",
       "      <td>0</td>\n",
       "      <td>0</td>\n",
       "      <td>0</td>\n",
       "      <td>...</td>\n",
       "      <td>0</td>\n",
       "      <td>0</td>\n",
       "      <td>0</td>\n",
       "      <td>0</td>\n",
       "      <td>0</td>\n",
       "      <td>0</td>\n",
       "      <td>1</td>\n",
       "      <td>0</td>\n",
       "      <td>0</td>\n",
       "      <td>0</td>\n",
       "    </tr>\n",
       "    <tr>\n",
       "      <th>2</th>\n",
       "      <td>674.28</td>\n",
       "      <td>43</td>\n",
       "      <td>0</td>\n",
       "      <td>0</td>\n",
       "      <td>0</td>\n",
       "      <td>0</td>\n",
       "      <td>0</td>\n",
       "      <td>0</td>\n",
       "      <td>0</td>\n",
       "      <td>0</td>\n",
       "      <td>...</td>\n",
       "      <td>0</td>\n",
       "      <td>0</td>\n",
       "      <td>0</td>\n",
       "      <td>0</td>\n",
       "      <td>0</td>\n",
       "      <td>0</td>\n",
       "      <td>0</td>\n",
       "      <td>0</td>\n",
       "      <td>0</td>\n",
       "      <td>1</td>\n",
       "    </tr>\n",
       "    <tr>\n",
       "      <th>3</th>\n",
       "      <td>47822.00</td>\n",
       "      <td>44</td>\n",
       "      <td>1</td>\n",
       "      <td>0</td>\n",
       "      <td>0</td>\n",
       "      <td>0</td>\n",
       "      <td>0</td>\n",
       "      <td>0</td>\n",
       "      <td>0</td>\n",
       "      <td>0</td>\n",
       "      <td>...</td>\n",
       "      <td>0</td>\n",
       "      <td>0</td>\n",
       "      <td>0</td>\n",
       "      <td>0</td>\n",
       "      <td>0</td>\n",
       "      <td>0</td>\n",
       "      <td>0</td>\n",
       "      <td>0</td>\n",
       "      <td>0</td>\n",
       "      <td>1</td>\n",
       "    </tr>\n",
       "    <tr>\n",
       "      <th>4</th>\n",
       "      <td>61089.35</td>\n",
       "      <td>33</td>\n",
       "      <td>1</td>\n",
       "      <td>0</td>\n",
       "      <td>0</td>\n",
       "      <td>0</td>\n",
       "      <td>0</td>\n",
       "      <td>0</td>\n",
       "      <td>0</td>\n",
       "      <td>0</td>\n",
       "      <td>...</td>\n",
       "      <td>0</td>\n",
       "      <td>0</td>\n",
       "      <td>0</td>\n",
       "      <td>0</td>\n",
       "      <td>0</td>\n",
       "      <td>0</td>\n",
       "      <td>0</td>\n",
       "      <td>0</td>\n",
       "      <td>0</td>\n",
       "      <td>1</td>\n",
       "    </tr>\n",
       "    <tr>\n",
       "      <th>...</th>\n",
       "      <td>...</td>\n",
       "      <td>...</td>\n",
       "      <td>...</td>\n",
       "      <td>...</td>\n",
       "      <td>...</td>\n",
       "      <td>...</td>\n",
       "      <td>...</td>\n",
       "      <td>...</td>\n",
       "      <td>...</td>\n",
       "      <td>...</td>\n",
       "      <td>...</td>\n",
       "      <td>...</td>\n",
       "      <td>...</td>\n",
       "      <td>...</td>\n",
       "      <td>...</td>\n",
       "      <td>...</td>\n",
       "      <td>...</td>\n",
       "      <td>...</td>\n",
       "      <td>...</td>\n",
       "      <td>...</td>\n",
       "      <td>...</td>\n",
       "    </tr>\n",
       "    <tr>\n",
       "      <th>305</th>\n",
       "      <td>37619.01</td>\n",
       "      <td>38</td>\n",
       "      <td>0</td>\n",
       "      <td>0</td>\n",
       "      <td>0</td>\n",
       "      <td>0</td>\n",
       "      <td>0</td>\n",
       "      <td>0</td>\n",
       "      <td>0</td>\n",
       "      <td>0</td>\n",
       "      <td>...</td>\n",
       "      <td>0</td>\n",
       "      <td>1</td>\n",
       "      <td>0</td>\n",
       "      <td>0</td>\n",
       "      <td>0</td>\n",
       "      <td>0</td>\n",
       "      <td>0</td>\n",
       "      <td>0</td>\n",
       "      <td>0</td>\n",
       "      <td>1</td>\n",
       "    </tr>\n",
       "    <tr>\n",
       "      <th>306</th>\n",
       "      <td>27603.00</td>\n",
       "      <td>34</td>\n",
       "      <td>0</td>\n",
       "      <td>0</td>\n",
       "      <td>0</td>\n",
       "      <td>0</td>\n",
       "      <td>0</td>\n",
       "      <td>0</td>\n",
       "      <td>0</td>\n",
       "      <td>0</td>\n",
       "      <td>...</td>\n",
       "      <td>0</td>\n",
       "      <td>1</td>\n",
       "      <td>0</td>\n",
       "      <td>0</td>\n",
       "      <td>0</td>\n",
       "      <td>0</td>\n",
       "      <td>0</td>\n",
       "      <td>0</td>\n",
       "      <td>0</td>\n",
       "      <td>1</td>\n",
       "    </tr>\n",
       "    <tr>\n",
       "      <th>307</th>\n",
       "      <td>27587.46</td>\n",
       "      <td>24</td>\n",
       "      <td>0</td>\n",
       "      <td>0</td>\n",
       "      <td>0</td>\n",
       "      <td>0</td>\n",
       "      <td>0</td>\n",
       "      <td>0</td>\n",
       "      <td>0</td>\n",
       "      <td>0</td>\n",
       "      <td>...</td>\n",
       "      <td>0</td>\n",
       "      <td>1</td>\n",
       "      <td>0</td>\n",
       "      <td>0</td>\n",
       "      <td>0</td>\n",
       "      <td>1</td>\n",
       "      <td>0</td>\n",
       "      <td>0</td>\n",
       "      <td>0</td>\n",
       "      <td>0</td>\n",
       "    </tr>\n",
       "    <tr>\n",
       "      <th>308</th>\n",
       "      <td>12126.53</td>\n",
       "      <td>31</td>\n",
       "      <td>0</td>\n",
       "      <td>0</td>\n",
       "      <td>0</td>\n",
       "      <td>0</td>\n",
       "      <td>0</td>\n",
       "      <td>0</td>\n",
       "      <td>0</td>\n",
       "      <td>0</td>\n",
       "      <td>...</td>\n",
       "      <td>0</td>\n",
       "      <td>1</td>\n",
       "      <td>0</td>\n",
       "      <td>0</td>\n",
       "      <td>0</td>\n",
       "      <td>0</td>\n",
       "      <td>0</td>\n",
       "      <td>0</td>\n",
       "      <td>0</td>\n",
       "      <td>1</td>\n",
       "    </tr>\n",
       "    <tr>\n",
       "      <th>309</th>\n",
       "      <td>37257.00</td>\n",
       "      <td>46</td>\n",
       "      <td>0</td>\n",
       "      <td>0</td>\n",
       "      <td>0</td>\n",
       "      <td>0</td>\n",
       "      <td>0</td>\n",
       "      <td>0</td>\n",
       "      <td>0</td>\n",
       "      <td>0</td>\n",
       "      <td>...</td>\n",
       "      <td>0</td>\n",
       "      <td>1</td>\n",
       "      <td>0</td>\n",
       "      <td>0</td>\n",
       "      <td>0</td>\n",
       "      <td>1</td>\n",
       "      <td>0</td>\n",
       "      <td>0</td>\n",
       "      <td>0</td>\n",
       "      <td>0</td>\n",
       "    </tr>\n",
       "  </tbody>\n",
       "</table>\n",
       "<p>310 rows × 81 columns</p>\n",
       "</div>"
      ],
      "text/plain": [
       "     Salaries  age  Position_Administrative Assistant  \\\n",
       "0      674.28   28                                  0   \n",
       "1      674.28   50                                  0   \n",
       "2      674.28   43                                  0   \n",
       "3    47822.00   44                                  1   \n",
       "4    61089.35   33                                  1   \n",
       "..        ...  ...                                ...   \n",
       "305  37619.01   38                                  0   \n",
       "306  27603.00   34                                  0   \n",
       "307  27587.46   24                                  0   \n",
       "308  12126.53   31                                  0   \n",
       "309  37257.00   46                                  0   \n",
       "\n",
       "     Position_Area Sales Manager  Position_BI Developer  Position_BI Director  \\\n",
       "0                              0                      0                     0   \n",
       "1                              0                      0                     0   \n",
       "2                              0                      0                     0   \n",
       "3                              0                      0                     0   \n",
       "4                              0                      0                     0   \n",
       "..                           ...                    ...                   ...   \n",
       "305                            0                      0                     0   \n",
       "306                            0                      0                     0   \n",
       "307                            0                      0                     0   \n",
       "308                            0                      0                     0   \n",
       "309                            0                      0                     0   \n",
       "\n",
       "     Position_CIO  Position_Data Analyst  Position_Data Analyst   \\\n",
       "0               0                      0                       0   \n",
       "1               0                      0                       0   \n",
       "2               0                      0                       0   \n",
       "3               0                      0                       0   \n",
       "4               0                      0                       0   \n",
       "..            ...                    ...                     ...   \n",
       "305             0                      0                       0   \n",
       "306             0                      0                       0   \n",
       "307             0                      0                       0   \n",
       "308             0                      0                       0   \n",
       "309             0                      0                       0   \n",
       "\n",
       "     Position_Data Architect  ...  Department_Executive Office  \\\n",
       "0                          0  ...                            0   \n",
       "1                          0  ...                            0   \n",
       "2                          0  ...                            0   \n",
       "3                          0  ...                            0   \n",
       "4                          0  ...                            0   \n",
       "..                       ...  ...                          ...   \n",
       "305                        0  ...                            0   \n",
       "306                        0  ...                            0   \n",
       "307                        0  ...                            0   \n",
       "308                        0  ...                            0   \n",
       "309                        0  ...                            0   \n",
       "\n",
       "     Department_IT/IS  Department_Production         Department_Sales  \\\n",
       "0                   0                             0                 0   \n",
       "1                   0                             0                 0   \n",
       "2                   0                             0                 0   \n",
       "3                   0                             0                 0   \n",
       "4                   0                             0                 0   \n",
       "..                ...                           ...               ...   \n",
       "305                 1                             0                 0   \n",
       "306                 1                             0                 0   \n",
       "307                 1                             0                 0   \n",
       "308                 1                             0                 0   \n",
       "309                 1                             0                 0   \n",
       "\n",
       "     Department_Software Engineering  Race_Asian  \\\n",
       "0                                  0           0   \n",
       "1                                  0           0   \n",
       "2                                  0           0   \n",
       "3                                  0           0   \n",
       "4                                  0           0   \n",
       "..                               ...         ...   \n",
       "305                                0           0   \n",
       "306                                0           0   \n",
       "307                                0           1   \n",
       "308                                0           0   \n",
       "309                                0           1   \n",
       "\n",
       "     Race_Black or African American  Race_Hispanic  Race_Two or more races  \\\n",
       "0                                 1              0                       0   \n",
       "1                                 1              0                       0   \n",
       "2                                 0              0                       0   \n",
       "3                                 0              0                       0   \n",
       "4                                 0              0                       0   \n",
       "..                              ...            ...                     ...   \n",
       "305                               0              0                       0   \n",
       "306                               0              0                       0   \n",
       "307                               0              0                       0   \n",
       "308                               0              0                       0   \n",
       "309                               0              0                       0   \n",
       "\n",
       "     Race_White  \n",
       "0             0  \n",
       "1             0  \n",
       "2             1  \n",
       "3             1  \n",
       "4             1  \n",
       "..          ...  \n",
       "305           1  \n",
       "306           1  \n",
       "307           0  \n",
       "308           1  \n",
       "309           0  \n",
       "\n",
       "[310 rows x 81 columns]"
      ]
     },
     "execution_count": 672,
     "metadata": {},
     "output_type": "execute_result"
    }
   ],
   "source": [
    "ethnic"
   ]
  },
  {
   "cell_type": "code",
   "execution_count": 673,
   "id": "4b6cf23a",
   "metadata": {},
   "outputs": [],
   "source": [
    "### Normalization function - Custom Function\n",
    "# Range converts to: 0 to 1\n",
    "def norm_func(i):\n",
    "    x = (i-i.min())/(i.max()-i.min())\n",
    "    return(x)\n",
    "df_norm = norm_func(ethnic)\n",
    "b = df_norm.describe()"
   ]
  },
  {
   "cell_type": "code",
   "execution_count": 674,
   "id": "26566fb4",
   "metadata": {},
   "outputs": [
    {
     "data": {
      "text/html": [
       "<div>\n",
       "<style scoped>\n",
       "    .dataframe tbody tr th:only-of-type {\n",
       "        vertical-align: middle;\n",
       "    }\n",
       "\n",
       "    .dataframe tbody tr th {\n",
       "        vertical-align: top;\n",
       "    }\n",
       "\n",
       "    .dataframe thead th {\n",
       "        text-align: right;\n",
       "    }\n",
       "</style>\n",
       "<table border=\"1\" class=\"dataframe\">\n",
       "  <thead>\n",
       "    <tr style=\"text-align: right;\">\n",
       "      <th></th>\n",
       "      <th>Salaries</th>\n",
       "      <th>age</th>\n",
       "      <th>Position_Administrative Assistant</th>\n",
       "      <th>Position_Area Sales Manager</th>\n",
       "      <th>Position_BI Developer</th>\n",
       "      <th>Position_BI Director</th>\n",
       "      <th>Position_CIO</th>\n",
       "      <th>Position_Data Analyst</th>\n",
       "      <th>Position_Data Analyst</th>\n",
       "      <th>Position_Data Architect</th>\n",
       "      <th>...</th>\n",
       "      <th>Department_Executive Office</th>\n",
       "      <th>Department_IT/IS</th>\n",
       "      <th>Department_Production</th>\n",
       "      <th>Department_Sales</th>\n",
       "      <th>Department_Software Engineering</th>\n",
       "      <th>Race_Asian</th>\n",
       "      <th>Race_Black or African American</th>\n",
       "      <th>Race_Hispanic</th>\n",
       "      <th>Race_Two or more races</th>\n",
       "      <th>Race_White</th>\n",
       "    </tr>\n",
       "  </thead>\n",
       "  <tbody>\n",
       "    <tr>\n",
       "      <th>0</th>\n",
       "      <td>0.006226</td>\n",
       "      <td>0.161290</td>\n",
       "      <td>0.0</td>\n",
       "      <td>0.0</td>\n",
       "      <td>0.0</td>\n",
       "      <td>0.0</td>\n",
       "      <td>0.0</td>\n",
       "      <td>0.0</td>\n",
       "      <td>0.0</td>\n",
       "      <td>0.0</td>\n",
       "      <td>...</td>\n",
       "      <td>0.0</td>\n",
       "      <td>0.0</td>\n",
       "      <td>0.0</td>\n",
       "      <td>0.0</td>\n",
       "      <td>0.0</td>\n",
       "      <td>0.0</td>\n",
       "      <td>1.0</td>\n",
       "      <td>0.0</td>\n",
       "      <td>0.0</td>\n",
       "      <td>0.0</td>\n",
       "    </tr>\n",
       "    <tr>\n",
       "      <th>1</th>\n",
       "      <td>0.006226</td>\n",
       "      <td>0.870968</td>\n",
       "      <td>0.0</td>\n",
       "      <td>0.0</td>\n",
       "      <td>0.0</td>\n",
       "      <td>0.0</td>\n",
       "      <td>0.0</td>\n",
       "      <td>0.0</td>\n",
       "      <td>0.0</td>\n",
       "      <td>0.0</td>\n",
       "      <td>...</td>\n",
       "      <td>0.0</td>\n",
       "      <td>0.0</td>\n",
       "      <td>0.0</td>\n",
       "      <td>0.0</td>\n",
       "      <td>0.0</td>\n",
       "      <td>0.0</td>\n",
       "      <td>1.0</td>\n",
       "      <td>0.0</td>\n",
       "      <td>0.0</td>\n",
       "      <td>0.0</td>\n",
       "    </tr>\n",
       "    <tr>\n",
       "      <th>2</th>\n",
       "      <td>0.006226</td>\n",
       "      <td>0.645161</td>\n",
       "      <td>0.0</td>\n",
       "      <td>0.0</td>\n",
       "      <td>0.0</td>\n",
       "      <td>0.0</td>\n",
       "      <td>0.0</td>\n",
       "      <td>0.0</td>\n",
       "      <td>0.0</td>\n",
       "      <td>0.0</td>\n",
       "      <td>...</td>\n",
       "      <td>0.0</td>\n",
       "      <td>0.0</td>\n",
       "      <td>0.0</td>\n",
       "      <td>0.0</td>\n",
       "      <td>0.0</td>\n",
       "      <td>0.0</td>\n",
       "      <td>0.0</td>\n",
       "      <td>0.0</td>\n",
       "      <td>0.0</td>\n",
       "      <td>1.0</td>\n",
       "    </tr>\n",
       "    <tr>\n",
       "      <th>3</th>\n",
       "      <td>0.441553</td>\n",
       "      <td>0.677419</td>\n",
       "      <td>1.0</td>\n",
       "      <td>0.0</td>\n",
       "      <td>0.0</td>\n",
       "      <td>0.0</td>\n",
       "      <td>0.0</td>\n",
       "      <td>0.0</td>\n",
       "      <td>0.0</td>\n",
       "      <td>0.0</td>\n",
       "      <td>...</td>\n",
       "      <td>0.0</td>\n",
       "      <td>0.0</td>\n",
       "      <td>0.0</td>\n",
       "      <td>0.0</td>\n",
       "      <td>0.0</td>\n",
       "      <td>0.0</td>\n",
       "      <td>0.0</td>\n",
       "      <td>0.0</td>\n",
       "      <td>0.0</td>\n",
       "      <td>1.0</td>\n",
       "    </tr>\n",
       "    <tr>\n",
       "      <th>4</th>\n",
       "      <td>0.564054</td>\n",
       "      <td>0.322581</td>\n",
       "      <td>1.0</td>\n",
       "      <td>0.0</td>\n",
       "      <td>0.0</td>\n",
       "      <td>0.0</td>\n",
       "      <td>0.0</td>\n",
       "      <td>0.0</td>\n",
       "      <td>0.0</td>\n",
       "      <td>0.0</td>\n",
       "      <td>...</td>\n",
       "      <td>0.0</td>\n",
       "      <td>0.0</td>\n",
       "      <td>0.0</td>\n",
       "      <td>0.0</td>\n",
       "      <td>0.0</td>\n",
       "      <td>0.0</td>\n",
       "      <td>0.0</td>\n",
       "      <td>0.0</td>\n",
       "      <td>0.0</td>\n",
       "      <td>1.0</td>\n",
       "    </tr>\n",
       "    <tr>\n",
       "      <th>...</th>\n",
       "      <td>...</td>\n",
       "      <td>...</td>\n",
       "      <td>...</td>\n",
       "      <td>...</td>\n",
       "      <td>...</td>\n",
       "      <td>...</td>\n",
       "      <td>...</td>\n",
       "      <td>...</td>\n",
       "      <td>...</td>\n",
       "      <td>...</td>\n",
       "      <td>...</td>\n",
       "      <td>...</td>\n",
       "      <td>...</td>\n",
       "      <td>...</td>\n",
       "      <td>...</td>\n",
       "      <td>...</td>\n",
       "      <td>...</td>\n",
       "      <td>...</td>\n",
       "      <td>...</td>\n",
       "      <td>...</td>\n",
       "      <td>...</td>\n",
       "    </tr>\n",
       "    <tr>\n",
       "      <th>305</th>\n",
       "      <td>0.347346</td>\n",
       "      <td>0.483871</td>\n",
       "      <td>0.0</td>\n",
       "      <td>0.0</td>\n",
       "      <td>0.0</td>\n",
       "      <td>0.0</td>\n",
       "      <td>0.0</td>\n",
       "      <td>0.0</td>\n",
       "      <td>0.0</td>\n",
       "      <td>0.0</td>\n",
       "      <td>...</td>\n",
       "      <td>0.0</td>\n",
       "      <td>1.0</td>\n",
       "      <td>0.0</td>\n",
       "      <td>0.0</td>\n",
       "      <td>0.0</td>\n",
       "      <td>0.0</td>\n",
       "      <td>0.0</td>\n",
       "      <td>0.0</td>\n",
       "      <td>0.0</td>\n",
       "      <td>1.0</td>\n",
       "    </tr>\n",
       "    <tr>\n",
       "      <th>306</th>\n",
       "      <td>0.254866</td>\n",
       "      <td>0.354839</td>\n",
       "      <td>0.0</td>\n",
       "      <td>0.0</td>\n",
       "      <td>0.0</td>\n",
       "      <td>0.0</td>\n",
       "      <td>0.0</td>\n",
       "      <td>0.0</td>\n",
       "      <td>0.0</td>\n",
       "      <td>0.0</td>\n",
       "      <td>...</td>\n",
       "      <td>0.0</td>\n",
       "      <td>1.0</td>\n",
       "      <td>0.0</td>\n",
       "      <td>0.0</td>\n",
       "      <td>0.0</td>\n",
       "      <td>0.0</td>\n",
       "      <td>0.0</td>\n",
       "      <td>0.0</td>\n",
       "      <td>0.0</td>\n",
       "      <td>1.0</td>\n",
       "    </tr>\n",
       "    <tr>\n",
       "      <th>307</th>\n",
       "      <td>0.254722</td>\n",
       "      <td>0.032258</td>\n",
       "      <td>0.0</td>\n",
       "      <td>0.0</td>\n",
       "      <td>0.0</td>\n",
       "      <td>0.0</td>\n",
       "      <td>0.0</td>\n",
       "      <td>0.0</td>\n",
       "      <td>0.0</td>\n",
       "      <td>0.0</td>\n",
       "      <td>...</td>\n",
       "      <td>0.0</td>\n",
       "      <td>1.0</td>\n",
       "      <td>0.0</td>\n",
       "      <td>0.0</td>\n",
       "      <td>0.0</td>\n",
       "      <td>1.0</td>\n",
       "      <td>0.0</td>\n",
       "      <td>0.0</td>\n",
       "      <td>0.0</td>\n",
       "      <td>0.0</td>\n",
       "    </tr>\n",
       "    <tr>\n",
       "      <th>308</th>\n",
       "      <td>0.111968</td>\n",
       "      <td>0.258065</td>\n",
       "      <td>0.0</td>\n",
       "      <td>0.0</td>\n",
       "      <td>0.0</td>\n",
       "      <td>0.0</td>\n",
       "      <td>0.0</td>\n",
       "      <td>0.0</td>\n",
       "      <td>0.0</td>\n",
       "      <td>0.0</td>\n",
       "      <td>...</td>\n",
       "      <td>0.0</td>\n",
       "      <td>1.0</td>\n",
       "      <td>0.0</td>\n",
       "      <td>0.0</td>\n",
       "      <td>0.0</td>\n",
       "      <td>0.0</td>\n",
       "      <td>0.0</td>\n",
       "      <td>0.0</td>\n",
       "      <td>0.0</td>\n",
       "      <td>1.0</td>\n",
       "    </tr>\n",
       "    <tr>\n",
       "      <th>309</th>\n",
       "      <td>0.344004</td>\n",
       "      <td>0.741935</td>\n",
       "      <td>0.0</td>\n",
       "      <td>0.0</td>\n",
       "      <td>0.0</td>\n",
       "      <td>0.0</td>\n",
       "      <td>0.0</td>\n",
       "      <td>0.0</td>\n",
       "      <td>0.0</td>\n",
       "      <td>0.0</td>\n",
       "      <td>...</td>\n",
       "      <td>0.0</td>\n",
       "      <td>1.0</td>\n",
       "      <td>0.0</td>\n",
       "      <td>0.0</td>\n",
       "      <td>0.0</td>\n",
       "      <td>1.0</td>\n",
       "      <td>0.0</td>\n",
       "      <td>0.0</td>\n",
       "      <td>0.0</td>\n",
       "      <td>0.0</td>\n",
       "    </tr>\n",
       "  </tbody>\n",
       "</table>\n",
       "<p>310 rows × 81 columns</p>\n",
       "</div>"
      ],
      "text/plain": [
       "     Salaries       age  Position_Administrative Assistant  \\\n",
       "0    0.006226  0.161290                                0.0   \n",
       "1    0.006226  0.870968                                0.0   \n",
       "2    0.006226  0.645161                                0.0   \n",
       "3    0.441553  0.677419                                1.0   \n",
       "4    0.564054  0.322581                                1.0   \n",
       "..        ...       ...                                ...   \n",
       "305  0.347346  0.483871                                0.0   \n",
       "306  0.254866  0.354839                                0.0   \n",
       "307  0.254722  0.032258                                0.0   \n",
       "308  0.111968  0.258065                                0.0   \n",
       "309  0.344004  0.741935                                0.0   \n",
       "\n",
       "     Position_Area Sales Manager  Position_BI Developer  Position_BI Director  \\\n",
       "0                            0.0                    0.0                   0.0   \n",
       "1                            0.0                    0.0                   0.0   \n",
       "2                            0.0                    0.0                   0.0   \n",
       "3                            0.0                    0.0                   0.0   \n",
       "4                            0.0                    0.0                   0.0   \n",
       "..                           ...                    ...                   ...   \n",
       "305                          0.0                    0.0                   0.0   \n",
       "306                          0.0                    0.0                   0.0   \n",
       "307                          0.0                    0.0                   0.0   \n",
       "308                          0.0                    0.0                   0.0   \n",
       "309                          0.0                    0.0                   0.0   \n",
       "\n",
       "     Position_CIO  Position_Data Analyst  Position_Data Analyst   \\\n",
       "0             0.0                    0.0                     0.0   \n",
       "1             0.0                    0.0                     0.0   \n",
       "2             0.0                    0.0                     0.0   \n",
       "3             0.0                    0.0                     0.0   \n",
       "4             0.0                    0.0                     0.0   \n",
       "..            ...                    ...                     ...   \n",
       "305           0.0                    0.0                     0.0   \n",
       "306           0.0                    0.0                     0.0   \n",
       "307           0.0                    0.0                     0.0   \n",
       "308           0.0                    0.0                     0.0   \n",
       "309           0.0                    0.0                     0.0   \n",
       "\n",
       "     Position_Data Architect  ...  Department_Executive Office  \\\n",
       "0                        0.0  ...                          0.0   \n",
       "1                        0.0  ...                          0.0   \n",
       "2                        0.0  ...                          0.0   \n",
       "3                        0.0  ...                          0.0   \n",
       "4                        0.0  ...                          0.0   \n",
       "..                       ...  ...                          ...   \n",
       "305                      0.0  ...                          0.0   \n",
       "306                      0.0  ...                          0.0   \n",
       "307                      0.0  ...                          0.0   \n",
       "308                      0.0  ...                          0.0   \n",
       "309                      0.0  ...                          0.0   \n",
       "\n",
       "     Department_IT/IS  Department_Production         Department_Sales  \\\n",
       "0                 0.0                           0.0               0.0   \n",
       "1                 0.0                           0.0               0.0   \n",
       "2                 0.0                           0.0               0.0   \n",
       "3                 0.0                           0.0               0.0   \n",
       "4                 0.0                           0.0               0.0   \n",
       "..                ...                           ...               ...   \n",
       "305               1.0                           0.0               0.0   \n",
       "306               1.0                           0.0               0.0   \n",
       "307               1.0                           0.0               0.0   \n",
       "308               1.0                           0.0               0.0   \n",
       "309               1.0                           0.0               0.0   \n",
       "\n",
       "     Department_Software Engineering  Race_Asian  \\\n",
       "0                                0.0         0.0   \n",
       "1                                0.0         0.0   \n",
       "2                                0.0         0.0   \n",
       "3                                0.0         0.0   \n",
       "4                                0.0         0.0   \n",
       "..                               ...         ...   \n",
       "305                              0.0         0.0   \n",
       "306                              0.0         0.0   \n",
       "307                              0.0         1.0   \n",
       "308                              0.0         0.0   \n",
       "309                              0.0         1.0   \n",
       "\n",
       "     Race_Black or African American  Race_Hispanic  Race_Two or more races  \\\n",
       "0                               1.0            0.0                     0.0   \n",
       "1                               1.0            0.0                     0.0   \n",
       "2                               0.0            0.0                     0.0   \n",
       "3                               0.0            0.0                     0.0   \n",
       "4                               0.0            0.0                     0.0   \n",
       "..                              ...            ...                     ...   \n",
       "305                             0.0            0.0                     0.0   \n",
       "306                             0.0            0.0                     0.0   \n",
       "307                             0.0            0.0                     0.0   \n",
       "308                             0.0            0.0                     0.0   \n",
       "309                             0.0            0.0                     0.0   \n",
       "\n",
       "     Race_White  \n",
       "0           0.0  \n",
       "1           0.0  \n",
       "2           1.0  \n",
       "3           1.0  \n",
       "4           1.0  \n",
       "..          ...  \n",
       "305         1.0  \n",
       "306         1.0  \n",
       "307         0.0  \n",
       "308         1.0  \n",
       "309         0.0  \n",
       "\n",
       "[310 rows x 81 columns]"
      ]
     },
     "execution_count": 674,
     "metadata": {},
     "output_type": "execute_result"
    }
   ],
   "source": [
    "df_norm"
   ]
  },
  {
   "cell_type": "code",
   "execution_count": 675,
   "id": "678fd627",
   "metadata": {},
   "outputs": [
    {
     "data": {
      "text/html": [
       "<div>\n",
       "<style scoped>\n",
       "    .dataframe tbody tr th:only-of-type {\n",
       "        vertical-align: middle;\n",
       "    }\n",
       "\n",
       "    .dataframe tbody tr th {\n",
       "        vertical-align: top;\n",
       "    }\n",
       "\n",
       "    .dataframe thead th {\n",
       "        text-align: right;\n",
       "    }\n",
       "</style>\n",
       "<table border=\"1\" class=\"dataframe\">\n",
       "  <thead>\n",
       "    <tr style=\"text-align: right;\">\n",
       "      <th></th>\n",
       "      <th>Salaries</th>\n",
       "      <th>age</th>\n",
       "      <th>Position_Administrative Assistant</th>\n",
       "      <th>Position_Area Sales Manager</th>\n",
       "      <th>Position_BI Developer</th>\n",
       "      <th>Position_BI Director</th>\n",
       "      <th>Position_CIO</th>\n",
       "      <th>Position_Data Analyst</th>\n",
       "      <th>Position_Data Analyst</th>\n",
       "      <th>Position_Data Architect</th>\n",
       "      <th>...</th>\n",
       "      <th>Department_Executive Office</th>\n",
       "      <th>Department_IT/IS</th>\n",
       "      <th>Department_Production</th>\n",
       "      <th>Department_Sales</th>\n",
       "      <th>Department_Software Engineering</th>\n",
       "      <th>Race_Asian</th>\n",
       "      <th>Race_Black or African American</th>\n",
       "      <th>Race_Hispanic</th>\n",
       "      <th>Race_Two or more races</th>\n",
       "      <th>Race_White</th>\n",
       "    </tr>\n",
       "  </thead>\n",
       "  <tbody>\n",
       "    <tr>\n",
       "      <th>count</th>\n",
       "      <td>310.000000</td>\n",
       "      <td>310.000000</td>\n",
       "      <td>310.000000</td>\n",
       "      <td>310.000000</td>\n",
       "      <td>310.000000</td>\n",
       "      <td>310.000000</td>\n",
       "      <td>310.000000</td>\n",
       "      <td>310.000000</td>\n",
       "      <td>310.000000</td>\n",
       "      <td>310.000000</td>\n",
       "      <td>...</td>\n",
       "      <td>310.000000</td>\n",
       "      <td>310.000000</td>\n",
       "      <td>310.000000</td>\n",
       "      <td>310.000000</td>\n",
       "      <td>310.000000</td>\n",
       "      <td>310.000000</td>\n",
       "      <td>310.000000</td>\n",
       "      <td>310.000000</td>\n",
       "      <td>310.000000</td>\n",
       "      <td>310.000000</td>\n",
       "    </tr>\n",
       "    <tr>\n",
       "      <th>mean</th>\n",
       "      <td>0.338585</td>\n",
       "      <td>0.506348</td>\n",
       "      <td>0.009677</td>\n",
       "      <td>0.087097</td>\n",
       "      <td>0.012903</td>\n",
       "      <td>0.003226</td>\n",
       "      <td>0.003226</td>\n",
       "      <td>0.022581</td>\n",
       "      <td>0.003226</td>\n",
       "      <td>0.003226</td>\n",
       "      <td>...</td>\n",
       "      <td>0.003226</td>\n",
       "      <td>0.161290</td>\n",
       "      <td>0.670968</td>\n",
       "      <td>0.100000</td>\n",
       "      <td>0.032258</td>\n",
       "      <td>0.109677</td>\n",
       "      <td>0.183871</td>\n",
       "      <td>0.012903</td>\n",
       "      <td>0.058065</td>\n",
       "      <td>0.622581</td>\n",
       "    </tr>\n",
       "    <tr>\n",
       "      <th>std</th>\n",
       "      <td>0.194600</td>\n",
       "      <td>0.298650</td>\n",
       "      <td>0.098055</td>\n",
       "      <td>0.282433</td>\n",
       "      <td>0.113040</td>\n",
       "      <td>0.056796</td>\n",
       "      <td>0.056796</td>\n",
       "      <td>0.148803</td>\n",
       "      <td>0.056796</td>\n",
       "      <td>0.056796</td>\n",
       "      <td>...</td>\n",
       "      <td>0.056796</td>\n",
       "      <td>0.368393</td>\n",
       "      <td>0.470621</td>\n",
       "      <td>0.300485</td>\n",
       "      <td>0.176970</td>\n",
       "      <td>0.312992</td>\n",
       "      <td>0.388005</td>\n",
       "      <td>0.113040</td>\n",
       "      <td>0.234244</td>\n",
       "      <td>0.485525</td>\n",
       "    </tr>\n",
       "    <tr>\n",
       "      <th>min</th>\n",
       "      <td>0.000000</td>\n",
       "      <td>0.000000</td>\n",
       "      <td>0.000000</td>\n",
       "      <td>0.000000</td>\n",
       "      <td>0.000000</td>\n",
       "      <td>0.000000</td>\n",
       "      <td>0.000000</td>\n",
       "      <td>0.000000</td>\n",
       "      <td>0.000000</td>\n",
       "      <td>0.000000</td>\n",
       "      <td>...</td>\n",
       "      <td>0.000000</td>\n",
       "      <td>0.000000</td>\n",
       "      <td>0.000000</td>\n",
       "      <td>0.000000</td>\n",
       "      <td>0.000000</td>\n",
       "      <td>0.000000</td>\n",
       "      <td>0.000000</td>\n",
       "      <td>0.000000</td>\n",
       "      <td>0.000000</td>\n",
       "      <td>0.000000</td>\n",
       "    </tr>\n",
       "    <tr>\n",
       "      <th>25%</th>\n",
       "      <td>0.213223</td>\n",
       "      <td>0.258065</td>\n",
       "      <td>0.000000</td>\n",
       "      <td>0.000000</td>\n",
       "      <td>0.000000</td>\n",
       "      <td>0.000000</td>\n",
       "      <td>0.000000</td>\n",
       "      <td>0.000000</td>\n",
       "      <td>0.000000</td>\n",
       "      <td>0.000000</td>\n",
       "      <td>...</td>\n",
       "      <td>0.000000</td>\n",
       "      <td>0.000000</td>\n",
       "      <td>0.000000</td>\n",
       "      <td>0.000000</td>\n",
       "      <td>0.000000</td>\n",
       "      <td>0.000000</td>\n",
       "      <td>0.000000</td>\n",
       "      <td>0.000000</td>\n",
       "      <td>0.000000</td>\n",
       "      <td>0.000000</td>\n",
       "    </tr>\n",
       "    <tr>\n",
       "      <th>50%</th>\n",
       "      <td>0.319053</td>\n",
       "      <td>0.516129</td>\n",
       "      <td>0.000000</td>\n",
       "      <td>0.000000</td>\n",
       "      <td>0.000000</td>\n",
       "      <td>0.000000</td>\n",
       "      <td>0.000000</td>\n",
       "      <td>0.000000</td>\n",
       "      <td>0.000000</td>\n",
       "      <td>0.000000</td>\n",
       "      <td>...</td>\n",
       "      <td>0.000000</td>\n",
       "      <td>0.000000</td>\n",
       "      <td>1.000000</td>\n",
       "      <td>0.000000</td>\n",
       "      <td>0.000000</td>\n",
       "      <td>0.000000</td>\n",
       "      <td>0.000000</td>\n",
       "      <td>0.000000</td>\n",
       "      <td>0.000000</td>\n",
       "      <td>1.000000</td>\n",
       "    </tr>\n",
       "    <tr>\n",
       "      <th>75%</th>\n",
       "      <td>0.475078</td>\n",
       "      <td>0.741935</td>\n",
       "      <td>0.000000</td>\n",
       "      <td>0.000000</td>\n",
       "      <td>0.000000</td>\n",
       "      <td>0.000000</td>\n",
       "      <td>0.000000</td>\n",
       "      <td>0.000000</td>\n",
       "      <td>0.000000</td>\n",
       "      <td>0.000000</td>\n",
       "      <td>...</td>\n",
       "      <td>0.000000</td>\n",
       "      <td>0.000000</td>\n",
       "      <td>1.000000</td>\n",
       "      <td>0.000000</td>\n",
       "      <td>0.000000</td>\n",
       "      <td>0.000000</td>\n",
       "      <td>0.000000</td>\n",
       "      <td>0.000000</td>\n",
       "      <td>0.000000</td>\n",
       "      <td>1.000000</td>\n",
       "    </tr>\n",
       "    <tr>\n",
       "      <th>max</th>\n",
       "      <td>1.000000</td>\n",
       "      <td>1.000000</td>\n",
       "      <td>1.000000</td>\n",
       "      <td>1.000000</td>\n",
       "      <td>1.000000</td>\n",
       "      <td>1.000000</td>\n",
       "      <td>1.000000</td>\n",
       "      <td>1.000000</td>\n",
       "      <td>1.000000</td>\n",
       "      <td>1.000000</td>\n",
       "      <td>...</td>\n",
       "      <td>1.000000</td>\n",
       "      <td>1.000000</td>\n",
       "      <td>1.000000</td>\n",
       "      <td>1.000000</td>\n",
       "      <td>1.000000</td>\n",
       "      <td>1.000000</td>\n",
       "      <td>1.000000</td>\n",
       "      <td>1.000000</td>\n",
       "      <td>1.000000</td>\n",
       "      <td>1.000000</td>\n",
       "    </tr>\n",
       "  </tbody>\n",
       "</table>\n",
       "<p>8 rows × 81 columns</p>\n",
       "</div>"
      ],
      "text/plain": [
       "         Salaries         age  Position_Administrative Assistant  \\\n",
       "count  310.000000  310.000000                         310.000000   \n",
       "mean     0.338585    0.506348                           0.009677   \n",
       "std      0.194600    0.298650                           0.098055   \n",
       "min      0.000000    0.000000                           0.000000   \n",
       "25%      0.213223    0.258065                           0.000000   \n",
       "50%      0.319053    0.516129                           0.000000   \n",
       "75%      0.475078    0.741935                           0.000000   \n",
       "max      1.000000    1.000000                           1.000000   \n",
       "\n",
       "       Position_Area Sales Manager  Position_BI Developer  \\\n",
       "count                   310.000000             310.000000   \n",
       "mean                      0.087097               0.012903   \n",
       "std                       0.282433               0.113040   \n",
       "min                       0.000000               0.000000   \n",
       "25%                       0.000000               0.000000   \n",
       "50%                       0.000000               0.000000   \n",
       "75%                       0.000000               0.000000   \n",
       "max                       1.000000               1.000000   \n",
       "\n",
       "       Position_BI Director  Position_CIO  Position_Data Analyst  \\\n",
       "count            310.000000    310.000000             310.000000   \n",
       "mean               0.003226      0.003226               0.022581   \n",
       "std                0.056796      0.056796               0.148803   \n",
       "min                0.000000      0.000000               0.000000   \n",
       "25%                0.000000      0.000000               0.000000   \n",
       "50%                0.000000      0.000000               0.000000   \n",
       "75%                0.000000      0.000000               0.000000   \n",
       "max                1.000000      1.000000               1.000000   \n",
       "\n",
       "       Position_Data Analyst   Position_Data Architect  ...  \\\n",
       "count              310.000000               310.000000  ...   \n",
       "mean                 0.003226                 0.003226  ...   \n",
       "std                  0.056796                 0.056796  ...   \n",
       "min                  0.000000                 0.000000  ...   \n",
       "25%                  0.000000                 0.000000  ...   \n",
       "50%                  0.000000                 0.000000  ...   \n",
       "75%                  0.000000                 0.000000  ...   \n",
       "max                  1.000000                 1.000000  ...   \n",
       "\n",
       "       Department_Executive Office  Department_IT/IS  \\\n",
       "count                   310.000000        310.000000   \n",
       "mean                      0.003226          0.161290   \n",
       "std                       0.056796          0.368393   \n",
       "min                       0.000000          0.000000   \n",
       "25%                       0.000000          0.000000   \n",
       "50%                       0.000000          0.000000   \n",
       "75%                       0.000000          0.000000   \n",
       "max                       1.000000          1.000000   \n",
       "\n",
       "       Department_Production         Department_Sales  \\\n",
       "count                    310.000000        310.000000   \n",
       "mean                       0.670968          0.100000   \n",
       "std                        0.470621          0.300485   \n",
       "min                        0.000000          0.000000   \n",
       "25%                        0.000000          0.000000   \n",
       "50%                        1.000000          0.000000   \n",
       "75%                        1.000000          0.000000   \n",
       "max                        1.000000          1.000000   \n",
       "\n",
       "       Department_Software Engineering  Race_Asian  \\\n",
       "count                       310.000000  310.000000   \n",
       "mean                          0.032258    0.109677   \n",
       "std                           0.176970    0.312992   \n",
       "min                           0.000000    0.000000   \n",
       "25%                           0.000000    0.000000   \n",
       "50%                           0.000000    0.000000   \n",
       "75%                           0.000000    0.000000   \n",
       "max                           1.000000    1.000000   \n",
       "\n",
       "       Race_Black or African American  Race_Hispanic  Race_Two or more races  \\\n",
       "count                      310.000000     310.000000              310.000000   \n",
       "mean                         0.183871       0.012903                0.058065   \n",
       "std                          0.388005       0.113040                0.234244   \n",
       "min                          0.000000       0.000000                0.000000   \n",
       "25%                          0.000000       0.000000                0.000000   \n",
       "50%                          0.000000       0.000000                0.000000   \n",
       "75%                          0.000000       0.000000                0.000000   \n",
       "max                          1.000000       1.000000                1.000000   \n",
       "\n",
       "       Race_White  \n",
       "count  310.000000  \n",
       "mean     0.622581  \n",
       "std      0.485525  \n",
       "min      0.000000  \n",
       "25%      0.000000  \n",
       "50%      1.000000  \n",
       "75%      1.000000  \n",
       "max      1.000000  \n",
       "\n",
       "[8 rows x 81 columns]"
      ]
     },
     "execution_count": 675,
     "metadata": {},
     "output_type": "execute_result"
    }
   ],
   "source": [
    "b"
   ]
  },
  {
   "cell_type": "markdown",
   "id": "db64da33",
   "metadata": {},
   "source": [
    "### Column Transformer"
   ]
  },
  {
   "cell_type": "code",
   "execution_count": 858,
   "id": "2cd4914f",
   "metadata": {},
   "outputs": [],
   "source": [
    "covid = pd.read_csv(\"C:/D/personal/Development/360/02- EDA/Datasets_EDA (1)/covid_toy.csv\")"
   ]
  },
  {
   "cell_type": "code",
   "execution_count": 872,
   "id": "db3b32de",
   "metadata": {},
   "outputs": [
    {
     "name": "stdout",
     "output_type": "stream",
     "text": [
      "<class 'pandas.core.frame.DataFrame'>\n",
      "RangeIndex: 100 entries, 0 to 99\n",
      "Data columns (total 6 columns):\n",
      " #   Column     Non-Null Count  Dtype  \n",
      "---  ------     --------------  -----  \n",
      " 0   age        100 non-null    int64  \n",
      " 1   gender     100 non-null    object \n",
      " 2   fever      90 non-null     float64\n",
      " 3   cough      100 non-null    object \n",
      " 4   city       100 non-null    object \n",
      " 5   has_covid  100 non-null    object \n",
      "dtypes: float64(1), int64(1), object(4)\n",
      "memory usage: 4.8+ KB\n"
     ]
    }
   ],
   "source": [
    "covid.info()"
   ]
  },
  {
   "cell_type": "code",
   "execution_count": 859,
   "id": "33bf4d5a",
   "metadata": {},
   "outputs": [
    {
     "data": {
      "text/html": [
       "<div>\n",
       "<style scoped>\n",
       "    .dataframe tbody tr th:only-of-type {\n",
       "        vertical-align: middle;\n",
       "    }\n",
       "\n",
       "    .dataframe tbody tr th {\n",
       "        vertical-align: top;\n",
       "    }\n",
       "\n",
       "    .dataframe thead th {\n",
       "        text-align: right;\n",
       "    }\n",
       "</style>\n",
       "<table border=\"1\" class=\"dataframe\">\n",
       "  <thead>\n",
       "    <tr style=\"text-align: right;\">\n",
       "      <th></th>\n",
       "      <th>age</th>\n",
       "      <th>gender</th>\n",
       "      <th>fever</th>\n",
       "      <th>cough</th>\n",
       "      <th>city</th>\n",
       "      <th>has_covid</th>\n",
       "    </tr>\n",
       "  </thead>\n",
       "  <tbody>\n",
       "    <tr>\n",
       "      <th>85</th>\n",
       "      <td>16</td>\n",
       "      <td>Female</td>\n",
       "      <td>103.0</td>\n",
       "      <td>Mild</td>\n",
       "      <td>Bangalore</td>\n",
       "      <td>Yes</td>\n",
       "    </tr>\n",
       "    <tr>\n",
       "      <th>26</th>\n",
       "      <td>19</td>\n",
       "      <td>Female</td>\n",
       "      <td>100.0</td>\n",
       "      <td>Mild</td>\n",
       "      <td>Kolkata</td>\n",
       "      <td>Yes</td>\n",
       "    </tr>\n",
       "    <tr>\n",
       "      <th>34</th>\n",
       "      <td>74</td>\n",
       "      <td>Male</td>\n",
       "      <td>102.0</td>\n",
       "      <td>Mild</td>\n",
       "      <td>Mumbai</td>\n",
       "      <td>Yes</td>\n",
       "    </tr>\n",
       "    <tr>\n",
       "      <th>7</th>\n",
       "      <td>20</td>\n",
       "      <td>Female</td>\n",
       "      <td>NaN</td>\n",
       "      <td>Strong</td>\n",
       "      <td>Mumbai</td>\n",
       "      <td>Yes</td>\n",
       "    </tr>\n",
       "    <tr>\n",
       "      <th>44</th>\n",
       "      <td>20</td>\n",
       "      <td>Male</td>\n",
       "      <td>102.0</td>\n",
       "      <td>Strong</td>\n",
       "      <td>Delhi</td>\n",
       "      <td>No</td>\n",
       "    </tr>\n",
       "  </tbody>\n",
       "</table>\n",
       "</div>"
      ],
      "text/plain": [
       "    age  gender  fever   cough       city has_covid\n",
       "85   16  Female  103.0    Mild  Bangalore       Yes\n",
       "26   19  Female  100.0    Mild    Kolkata       Yes\n",
       "34   74    Male  102.0    Mild     Mumbai       Yes\n",
       "7    20  Female    NaN  Strong     Mumbai       Yes\n",
       "44   20    Male  102.0  Strong      Delhi        No"
      ]
     },
     "execution_count": 859,
     "metadata": {},
     "output_type": "execute_result"
    }
   ],
   "source": [
    "covid.sample(5)"
   ]
  },
  {
   "cell_type": "code",
   "execution_count": 864,
   "id": "b708abaf",
   "metadata": {},
   "outputs": [
    {
     "data": {
      "text/plain": [
       "age           0\n",
       "gender        0\n",
       "fever        10\n",
       "cough         0\n",
       "city          0\n",
       "has_covid     0\n",
       "dtype: int64"
      ]
     },
     "execution_count": 864,
     "metadata": {},
     "output_type": "execute_result"
    }
   ],
   "source": [
    "covid.isnull().sum()"
   ]
  },
  {
   "cell_type": "code",
   "execution_count": 890,
   "id": "e27014b6",
   "metadata": {},
   "outputs": [
    {
     "data": {
      "text/plain": [
       "100.84444444444445"
      ]
     },
     "execution_count": 890,
     "metadata": {},
     "output_type": "execute_result"
    }
   ],
   "source": [
    "covid.fever.mean()"
   ]
  },
  {
   "cell_type": "code",
   "execution_count": 865,
   "id": "358d828b",
   "metadata": {},
   "outputs": [
    {
     "data": {
      "text/plain": [
       "Mild      62\n",
       "Strong    38\n",
       "Name: cough, dtype: int64"
      ]
     },
     "execution_count": 865,
     "metadata": {},
     "output_type": "execute_result"
    }
   ],
   "source": [
    "covid.cough.value_counts()"
   ]
  },
  {
   "cell_type": "code",
   "execution_count": 866,
   "id": "d22b72b2",
   "metadata": {},
   "outputs": [
    {
     "data": {
      "text/plain": [
       "Kolkata      32\n",
       "Bangalore    30\n",
       "Delhi        22\n",
       "Mumbai       16\n",
       "Name: city, dtype: int64"
      ]
     },
     "execution_count": 866,
     "metadata": {},
     "output_type": "execute_result"
    }
   ],
   "source": [
    "covid.city.value_counts()"
   ]
  },
  {
   "cell_type": "code",
   "execution_count": 868,
   "id": "d964e805",
   "metadata": {},
   "outputs": [],
   "source": [
    "# train test split\n",
    "X_train,X_test,y_train,y_test = train_test_split(covid.drop(columns=['has_covid']),covid['has_covid'],test_size= 0.2)"
   ]
  },
  {
   "cell_type": "markdown",
   "id": "e2520214",
   "metadata": {},
   "source": [
    "#### Without column transformer"
   ]
  },
  {
   "cell_type": "markdown",
   "id": "42e36f2a",
   "metadata": {},
   "source": [
    "* gender        : One hot encoding  \n",
    "* fever         : missing value imputation  \n",
    "* cough         : Ordinal encoding  \n",
    "* city          : One hot encoding  \n",
    "* has_covid     : Label encoding  "
   ]
  },
  {
   "cell_type": "code",
   "execution_count": 870,
   "id": "eebff186",
   "metadata": {},
   "outputs": [
    {
     "data": {
      "text/html": [
       "<div>\n",
       "<style scoped>\n",
       "    .dataframe tbody tr th:only-of-type {\n",
       "        vertical-align: middle;\n",
       "    }\n",
       "\n",
       "    .dataframe tbody tr th {\n",
       "        vertical-align: top;\n",
       "    }\n",
       "\n",
       "    .dataframe thead th {\n",
       "        text-align: right;\n",
       "    }\n",
       "</style>\n",
       "<table border=\"1\" class=\"dataframe\">\n",
       "  <thead>\n",
       "    <tr style=\"text-align: right;\">\n",
       "      <th></th>\n",
       "      <th>age</th>\n",
       "      <th>gender</th>\n",
       "      <th>fever</th>\n",
       "      <th>cough</th>\n",
       "      <th>city</th>\n",
       "    </tr>\n",
       "  </thead>\n",
       "  <tbody>\n",
       "    <tr>\n",
       "      <th>91</th>\n",
       "      <td>38</td>\n",
       "      <td>Male</td>\n",
       "      <td>NaN</td>\n",
       "      <td>Mild</td>\n",
       "      <td>Delhi</td>\n",
       "    </tr>\n",
       "    <tr>\n",
       "      <th>46</th>\n",
       "      <td>19</td>\n",
       "      <td>Female</td>\n",
       "      <td>101.0</td>\n",
       "      <td>Mild</td>\n",
       "      <td>Mumbai</td>\n",
       "    </tr>\n",
       "    <tr>\n",
       "      <th>6</th>\n",
       "      <td>14</td>\n",
       "      <td>Male</td>\n",
       "      <td>101.0</td>\n",
       "      <td>Strong</td>\n",
       "      <td>Bangalore</td>\n",
       "    </tr>\n",
       "    <tr>\n",
       "      <th>33</th>\n",
       "      <td>26</td>\n",
       "      <td>Female</td>\n",
       "      <td>98.0</td>\n",
       "      <td>Mild</td>\n",
       "      <td>Kolkata</td>\n",
       "    </tr>\n",
       "    <tr>\n",
       "      <th>55</th>\n",
       "      <td>81</td>\n",
       "      <td>Female</td>\n",
       "      <td>101.0</td>\n",
       "      <td>Mild</td>\n",
       "      <td>Mumbai</td>\n",
       "    </tr>\n",
       "  </tbody>\n",
       "</table>\n",
       "</div>"
      ],
      "text/plain": [
       "    age  gender  fever   cough       city\n",
       "91   38    Male    NaN    Mild      Delhi\n",
       "46   19  Female  101.0    Mild     Mumbai\n",
       "6    14    Male  101.0  Strong  Bangalore\n",
       "33   26  Female   98.0    Mild    Kolkata\n",
       "55   81  Female  101.0    Mild     Mumbai"
      ]
     },
     "execution_count": 870,
     "metadata": {},
     "output_type": "execute_result"
    }
   ],
   "source": [
    "X_train.sample(5)"
   ]
  },
  {
   "cell_type": "code",
   "execution_count": 871,
   "id": "2ca37bdb",
   "metadata": {},
   "outputs": [
    {
     "data": {
      "text/plain": [
       "24     No\n",
       "74     No\n",
       "97     No\n",
       "54    Yes\n",
       "27     No\n",
       "Name: has_covid, dtype: object"
      ]
     },
     "execution_count": 871,
     "metadata": {},
     "output_type": "execute_result"
    }
   ],
   "source": [
    "y_train.sample(5)"
   ]
  },
  {
   "cell_type": "code",
   "execution_count": 932,
   "id": "1c41a64a",
   "metadata": {},
   "outputs": [],
   "source": [
    "#fever : missing value imputation\n",
    "im = SimpleImputer(strategy='mean')\n",
    "X_train_fever = im.fit_transform(X_train[['fever']])\n",
    "X_test_fever = im.transform(X_test[['fever']])"
   ]
  },
  {
   "cell_type": "code",
   "execution_count": 934,
   "id": "5e12cb8a",
   "metadata": {},
   "outputs": [
    {
     "data": {
      "text/plain": [
       "(80, 1)"
      ]
     },
     "execution_count": 934,
     "metadata": {},
     "output_type": "execute_result"
    }
   ],
   "source": [
    "X_train_fever.shape"
   ]
  },
  {
   "cell_type": "code",
   "execution_count": 935,
   "id": "a66da81d",
   "metadata": {},
   "outputs": [],
   "source": [
    "#cough : ordinal encoding\n",
    "ord = OrdinalEncoder(categories=[['Mild','Strong']],dtype=np.int32)\n",
    "X_train_cough = ord.fit_transform(X_train[['cough']])\n",
    "X_test_cough = ord.transform(X_test[['cough']])"
   ]
  },
  {
   "cell_type": "code",
   "execution_count": 936,
   "id": "79149c0b",
   "metadata": {},
   "outputs": [
    {
     "data": {
      "text/plain": [
       "(80, 1)"
      ]
     },
     "execution_count": 936,
     "metadata": {},
     "output_type": "execute_result"
    }
   ],
   "source": [
    "X_train_cough.shape"
   ]
  },
  {
   "cell_type": "code",
   "execution_count": 902,
   "id": "2c3475df",
   "metadata": {},
   "outputs": [],
   "source": [
    "#gender and city : one hot encoding\n",
    "ohe = OneHotEncoder(drop='first',sparse= False,dtype=np.int32)\n",
    "X_train_gender_city = ohe.fit_transform(X_train[['gender','city']])\n",
    "X_test_gender_city = ohe.transform(X_test[['gender','city']])"
   ]
  },
  {
   "cell_type": "code",
   "execution_count": 937,
   "id": "fd969eed",
   "metadata": {},
   "outputs": [
    {
     "data": {
      "text/plain": [
       "(80, 4)"
      ]
     },
     "execution_count": 937,
     "metadata": {},
     "output_type": "execute_result"
    }
   ],
   "source": [
    "X_train_gender_city.shape"
   ]
  },
  {
   "cell_type": "code",
   "execution_count": 938,
   "id": "dc0883e6",
   "metadata": {},
   "outputs": [],
   "source": [
    "#Extract age\n",
    "X_train_age = X_train.drop(columns= ['gender','fever','cough','city']).values\n",
    "X_test_age = X_test.drop(columns= ['gender','fever','cough','city']).values"
   ]
  },
  {
   "cell_type": "code",
   "execution_count": 939,
   "id": "052c5027",
   "metadata": {},
   "outputs": [
    {
     "data": {
      "text/plain": [
       "(80, 1)"
      ]
     },
     "execution_count": 939,
     "metadata": {},
     "output_type": "execute_result"
    }
   ],
   "source": [
    "X_train_age.shape"
   ]
  },
  {
   "cell_type": "code",
   "execution_count": 940,
   "id": "48164e61",
   "metadata": {},
   "outputs": [],
   "source": [
    "#concatenate\n",
    "X_train_transformed = np.concatenate((X_train_age,X_train_gender_city,X_train_fever,X_train_cough),axis=1)\n",
    "X_test_transformed = np.concatenate((X_test_age,X_test_gender_city,X_test_fever,X_test_cough),axis=1)"
   ]
  },
  {
   "cell_type": "code",
   "execution_count": 942,
   "id": "6eb0b60b",
   "metadata": {},
   "outputs": [
    {
     "data": {
      "text/plain": [
       "(80, 7)"
      ]
     },
     "execution_count": 942,
     "metadata": {},
     "output_type": "execute_result"
    }
   ],
   "source": [
    "X_train_transformed.shape"
   ]
  },
  {
   "cell_type": "code",
   "execution_count": 943,
   "id": "383216c4",
   "metadata": {},
   "outputs": [
    {
     "data": {
      "text/plain": [
       "array([[ 38.,   0.,   0.,   0.,   0., 101.,   0.],\n",
       "       [ 11.,   0.,   0.,   1.,   0., 100.,   1.],\n",
       "       [ 80.,   1.,   0.,   0.,   0., 100.,   0.],\n",
       "       [ 71.,   0.,   0.,   1.,   0.,  98.,   1.],\n",
       "       [ 59.,   0.,   1.,   0.,   0.,  99.,   1.]])"
      ]
     },
     "execution_count": 943,
     "metadata": {},
     "output_type": "execute_result"
    }
   ],
   "source": [
    "#get top 5 rows\n",
    "X_train_transformed[0:5,:]"
   ]
  },
  {
   "cell_type": "code",
   "execution_count": 945,
   "id": "4849bdca",
   "metadata": {},
   "outputs": [
    {
     "data": {
      "text/plain": [
       "array([[ 69.        ,   0.        ,   0.        ,   0.        ,\n",
       "          0.        , 102.        ,   0.        ],\n",
       "       [ 34.        ,   0.        ,   0.        ,   0.        ,\n",
       "          1.        , 100.75675676,   1.        ],\n",
       "       [  6.        ,   0.        ,   0.        ,   1.        ,\n",
       "          0.        , 104.        ,   0.        ],\n",
       "       [ 84.        ,   0.        ,   0.        ,   0.        ,\n",
       "          0.        , 100.75675676,   0.        ],\n",
       "       [ 68.        ,   0.        ,   1.        ,   0.        ,\n",
       "          0.        , 101.        ,   1.        ]])"
      ]
     },
     "execution_count": 945,
     "metadata": {},
     "output_type": "execute_result"
    }
   ],
   "source": [
    "X_test_transformed[0:5,:]"
   ]
  },
  {
   "cell_type": "markdown",
   "id": "4a98eacd",
   "metadata": {},
   "source": [
    "#### With column transformer"
   ]
  },
  {
   "cell_type": "code",
   "execution_count": 946,
   "id": "7d0ca60f",
   "metadata": {},
   "outputs": [],
   "source": [
    "from sklearn.compose import ColumnTransformer"
   ]
  },
  {
   "cell_type": "code",
   "execution_count": 947,
   "id": "1fa7ea52",
   "metadata": {},
   "outputs": [],
   "source": [
    "# pass argument transformers as list of tuples with remainder = 'passthrough' or 'drop'\n",
    "transformer = ColumnTransformer(transformers=[\n",
    "    ('tnf1',SimpleImputer(strategy='mean'),['fever']),\n",
    "    ('tnf2',OrdinalEncoder(categories=[['Mild','Strong']],dtype=np.int32),['cough']),\n",
    "    ('tnf3',OneHotEncoder(drop='first',sparse= False,dtype=np.int32),['gender','city'])],\n",
    "                                remainder = 'passthrough')"
   ]
  },
  {
   "cell_type": "code",
   "execution_count": 948,
   "id": "f1b8abea",
   "metadata": {},
   "outputs": [
    {
     "data": {
      "text/plain": [
       "(80, 7)"
      ]
     },
     "execution_count": 948,
     "metadata": {},
     "output_type": "execute_result"
    }
   ],
   "source": [
    "transformer.fit_transform(X_train).shape"
   ]
  },
  {
   "cell_type": "code",
   "execution_count": 949,
   "id": "b37e38b9",
   "metadata": {},
   "outputs": [
    {
     "data": {
      "text/plain": [
       "(20, 7)"
      ]
     },
     "execution_count": 949,
     "metadata": {},
     "output_type": "execute_result"
    }
   ],
   "source": [
    "transformer.transform(X_test).shape"
   ]
  },
  {
   "cell_type": "code",
   "execution_count": 951,
   "id": "7d9b2ba6",
   "metadata": {},
   "outputs": [],
   "source": [
    "X_train_transformed1= transformer.fit_transform(X_train)"
   ]
  },
  {
   "cell_type": "code",
   "execution_count": 955,
   "id": "ca808594",
   "metadata": {},
   "outputs": [],
   "source": [
    "X_test_transformed1 = transformer.transform(X_test)"
   ]
  },
  {
   "cell_type": "code",
   "execution_count": 954,
   "id": "a21df3aa",
   "metadata": {},
   "outputs": [
    {
     "data": {
      "text/plain": [
       "array([[101.,   0.,   0.,   0.,   0.,   0.,  38.],\n",
       "       [100.,   1.,   0.,   0.,   1.,   0.,  11.],\n",
       "       [100.,   0.,   1.,   0.,   0.,   0.,  80.],\n",
       "       [ 98.,   1.,   0.,   0.,   1.,   0.,  71.],\n",
       "       [ 99.,   1.,   0.,   1.,   0.,   0.,  59.]])"
      ]
     },
     "execution_count": 954,
     "metadata": {},
     "output_type": "execute_result"
    }
   ],
   "source": [
    "X_train_transformed1[0:5,:]"
   ]
  },
  {
   "cell_type": "code",
   "execution_count": 956,
   "id": "3a10fb6a",
   "metadata": {},
   "outputs": [
    {
     "data": {
      "text/plain": [
       "array([[102.        ,   0.        ,   0.        ,   0.        ,\n",
       "          0.        ,   0.        ,  69.        ],\n",
       "       [100.75675676,   1.        ,   0.        ,   0.        ,\n",
       "          0.        ,   1.        ,  34.        ],\n",
       "       [104.        ,   0.        ,   0.        ,   0.        ,\n",
       "          1.        ,   0.        ,   6.        ],\n",
       "       [100.75675676,   0.        ,   0.        ,   0.        ,\n",
       "          0.        ,   0.        ,  84.        ],\n",
       "       [101.        ,   1.        ,   0.        ,   1.        ,\n",
       "          0.        ,   0.        ,  68.        ]])"
      ]
     },
     "execution_count": 956,
     "metadata": {},
     "output_type": "execute_result"
    }
   ],
   "source": [
    "X_test_transformed1[0:5,:]"
   ]
  },
  {
   "cell_type": "markdown",
   "id": "57c323c3",
   "metadata": {},
   "source": [
    "### Pipelines (sklearn)"
   ]
  },
  {
   "cell_type": "markdown",
   "id": "da9fff4b",
   "metadata": {},
   "source": [
    "Transformers are usually combined with classifiers, regressors or other estimators to build a composite estimator.   \n",
    "The most common tool is a Pipeline. Pipeline is often used in combination with FeatureUnion which concatenates the   \n",
    "output of transformers into a composite feature space. TransformedTargetRegressor deals with transforming the   \n",
    "target (i.e. log-transform y). In contrast, Pipelines only transform the observed data (X).\n",
    "\n",
    "Pipeline can be used to chain multiple estimators. Output of one acts as input to the other.  \n",
    "Makes it easy to apply the same preprocessing to train and test.  "
   ]
  },
  {
   "cell_type": "code",
   "execution_count": 960,
   "id": "21be38fb",
   "metadata": {},
   "outputs": [],
   "source": [
    "from sklearn.pipeline import Pipeline,make_pipeline\n",
    "from sklearn.feature_selection import SelectKBest,chi2\n",
    "from sklearn.tree import DecisionTreeClassifier"
   ]
  },
  {
   "cell_type": "code",
   "execution_count": 961,
   "id": "07fa903f",
   "metadata": {},
   "outputs": [],
   "source": [
    "df = pd.read_csv('C:/D/personal/Development/360/02- EDA/Datasets_EDA (1)/train.csv')"
   ]
  },
  {
   "cell_type": "markdown",
   "id": "1658702f",
   "metadata": {},
   "source": [
    "**Plan (pass output to input of next step)** \n",
    "\n",
    "Pipeline:\n",
    "\n",
    "impute missing values -> one hot encoding -> scaling -> feature selection -> Train Model (decision Tree)"
   ]
  },
  {
   "cell_type": "markdown",
   "id": "4c6de29c",
   "metadata": {},
   "source": [
    "#### Load Data"
   ]
  },
  {
   "cell_type": "code",
   "execution_count": 962,
   "id": "02930208",
   "metadata": {},
   "outputs": [],
   "source": [
    "df.drop(columns=['PassengerId','Name','Ticket','Cabin'],inplace=True)"
   ]
  },
  {
   "cell_type": "markdown",
   "id": "aba419ff",
   "metadata": {},
   "source": [
    "#### Train Test Split"
   ]
  },
  {
   "cell_type": "code",
   "execution_count": 973,
   "id": "f6a405a9",
   "metadata": {},
   "outputs": [],
   "source": [
    "# Step 1 -> train/test/split\n",
    "X_train,X_test,y_train,y_test = train_test_split(df.drop(columns=['Survived']),\n",
    "                                                 df['Survived'],\n",
    "                                                 test_size=0.2,\n",
    "                                                random_state=42)"
   ]
  },
  {
   "cell_type": "code",
   "execution_count": 964,
   "id": "94e1269a",
   "metadata": {},
   "outputs": [
    {
     "data": {
      "text/html": [
       "<div>\n",
       "<style scoped>\n",
       "    .dataframe tbody tr th:only-of-type {\n",
       "        vertical-align: middle;\n",
       "    }\n",
       "\n",
       "    .dataframe tbody tr th {\n",
       "        vertical-align: top;\n",
       "    }\n",
       "\n",
       "    .dataframe thead th {\n",
       "        text-align: right;\n",
       "    }\n",
       "</style>\n",
       "<table border=\"1\" class=\"dataframe\">\n",
       "  <thead>\n",
       "    <tr style=\"text-align: right;\">\n",
       "      <th></th>\n",
       "      <th>Pclass</th>\n",
       "      <th>Sex</th>\n",
       "      <th>Age</th>\n",
       "      <th>SibSp</th>\n",
       "      <th>Parch</th>\n",
       "      <th>Fare</th>\n",
       "      <th>Embarked</th>\n",
       "    </tr>\n",
       "  </thead>\n",
       "  <tbody>\n",
       "    <tr>\n",
       "      <th>838</th>\n",
       "      <td>3</td>\n",
       "      <td>male</td>\n",
       "      <td>32.0</td>\n",
       "      <td>0</td>\n",
       "      <td>0</td>\n",
       "      <td>56.4958</td>\n",
       "      <td>S</td>\n",
       "    </tr>\n",
       "    <tr>\n",
       "      <th>801</th>\n",
       "      <td>2</td>\n",
       "      <td>female</td>\n",
       "      <td>31.0</td>\n",
       "      <td>1</td>\n",
       "      <td>1</td>\n",
       "      <td>26.2500</td>\n",
       "      <td>S</td>\n",
       "    </tr>\n",
       "    <tr>\n",
       "      <th>389</th>\n",
       "      <td>2</td>\n",
       "      <td>female</td>\n",
       "      <td>17.0</td>\n",
       "      <td>0</td>\n",
       "      <td>0</td>\n",
       "      <td>12.0000</td>\n",
       "      <td>C</td>\n",
       "    </tr>\n",
       "  </tbody>\n",
       "</table>\n",
       "</div>"
      ],
      "text/plain": [
       "     Pclass     Sex   Age  SibSp  Parch     Fare Embarked\n",
       "838       3    male  32.0      0      0  56.4958        S\n",
       "801       2  female  31.0      1      1  26.2500        S\n",
       "389       2  female  17.0      0      0  12.0000        C"
      ]
     },
     "execution_count": 964,
     "metadata": {},
     "output_type": "execute_result"
    }
   ],
   "source": [
    "X_train.sample(3)"
   ]
  },
  {
   "cell_type": "markdown",
   "id": "4445b0c3",
   "metadata": {},
   "source": [
    "#### Create Transformations"
   ]
  },
  {
   "cell_type": "code",
   "execution_count": 966,
   "id": "36b2afec",
   "metadata": {},
   "outputs": [],
   "source": [
    "# imputation transformer\n",
    "#using index since pipeline will have np array\n",
    "trf1 = ColumnTransformer([\n",
    "    ('impute_age',SimpleImputer(),[2]),\n",
    "    ('impute_embarked',SimpleImputer(strategy='most_frequent'),[6])\n",
    "],remainder='passthrough')"
   ]
  },
  {
   "cell_type": "code",
   "execution_count": 968,
   "id": "d34879e4",
   "metadata": {},
   "outputs": [],
   "source": [
    "# one hot encoding\n",
    "#both columns together sex,embarked\n",
    "trf2 = ColumnTransformer([\n",
    "    ('ohe_sex_embarked',OneHotEncoder(sparse=False,handle_unknown='ignore'),[1,6])\n",
    "],remainder='passthrough')"
   ]
  },
  {
   "cell_type": "code",
   "execution_count": 970,
   "id": "c96c291b",
   "metadata": {},
   "outputs": [],
   "source": [
    "# Scaling\n",
    "#using minmax scaler since we will do feature selection\n",
    "# we have 10 columns and want to apply this for all columns\n",
    "from sklearn.preprocessing import MinMaxScaler\n",
    "\n",
    "trf3 = ColumnTransformer([\n",
    "    ('scale',MinMaxScaler(),slice(0,10))\n",
    "])"
   ]
  },
  {
   "cell_type": "code",
   "execution_count": 971,
   "id": "ffec87c4",
   "metadata": {},
   "outputs": [],
   "source": [
    "# Feature selection\n",
    "trf4 = SelectKBest(score_func=chi2,k=8)"
   ]
  },
  {
   "cell_type": "code",
   "execution_count": 972,
   "id": "cf60c5bf",
   "metadata": {},
   "outputs": [],
   "source": [
    "# train the model\n",
    "trf5 = DecisionTreeClassifier()"
   ]
  },
  {
   "cell_type": "markdown",
   "id": "48a4d759",
   "metadata": {},
   "source": [
    "#### Create Pipeline"
   ]
  },
  {
   "cell_type": "code",
   "execution_count": 974,
   "id": "033d7f8d",
   "metadata": {},
   "outputs": [],
   "source": [
    "#pass list of tuples\n",
    "# pass key (any name), value (name of transformer)\n",
    "pipe = Pipeline([\n",
    "    ('trf1',trf1),\n",
    "    ('trf2',trf2),\n",
    "    ('trf3',trf3),\n",
    "    ('trf4',trf4),\n",
    "    ('trf5',trf5)\n",
    "])"
   ]
  },
  {
   "cell_type": "code",
   "execution_count": null,
   "id": "63ef61fe",
   "metadata": {},
   "outputs": [],
   "source": [
    "# Alternate Syntax but later cannot reference\n",
    "#pipe = make_pipeline(trf1,trf2,trf3,trf4,trf5)"
   ]
  },
  {
   "cell_type": "code",
   "execution_count": 975,
   "id": "93e67833",
   "metadata": {},
   "outputs": [
    {
     "data": {
      "text/plain": [
       "Pipeline(steps=[('trf1',\n",
       "                 ColumnTransformer(remainder='passthrough',\n",
       "                                   transformers=[('impute_age', SimpleImputer(),\n",
       "                                                  [2]),\n",
       "                                                 ('impute_embarked',\n",
       "                                                  SimpleImputer(strategy='most_frequent'),\n",
       "                                                  [6])])),\n",
       "                ('trf2',\n",
       "                 ColumnTransformer(remainder='passthrough',\n",
       "                                   transformers=[('ohe_sex_embarked',\n",
       "                                                  OneHotEncoder(handle_unknown='ignore',\n",
       "                                                                sparse=False),\n",
       "                                                  [1, 6])])),\n",
       "                ('trf3',\n",
       "                 ColumnTransformer(transformers=[('scale', MinMaxScaler(),\n",
       "                                                  slice(0, 10, None))])),\n",
       "                ('trf4',\n",
       "                 SelectKBest(k=8,\n",
       "                             score_func=<function chi2 at 0x000001E0F8E961F0>)),\n",
       "                ('trf5', DecisionTreeClassifier())])"
      ]
     },
     "execution_count": 975,
     "metadata": {},
     "output_type": "execute_result"
    }
   ],
   "source": [
    "# train\n",
    "#If you are only transforming and not training model (classifier/regressor) use fit_transform\n",
    "pipe.fit(X_train,y_train)"
   ]
  },
  {
   "cell_type": "markdown",
   "id": "c48619f3",
   "metadata": {},
   "source": [
    "#### Explore the Pipeline"
   ]
  },
  {
   "cell_type": "code",
   "execution_count": null,
   "id": "6aea9a4c",
   "metadata": {},
   "outputs": [],
   "source": [
    "# Display Pipeline\n",
    "\n",
    "from sklearn import set_config\n",
    "set_config(display='diagram')"
   ]
  },
  {
   "cell_type": "code",
   "execution_count": 978,
   "id": "9cecaaed",
   "metadata": {},
   "outputs": [
    {
     "data": {
      "text/plain": [
       "{'trf1': ColumnTransformer(remainder='passthrough',\n",
       "                   transformers=[('impute_age', SimpleImputer(), [2]),\n",
       "                                 ('impute_embarked',\n",
       "                                  SimpleImputer(strategy='most_frequent'),\n",
       "                                  [6])]),\n",
       " 'trf2': ColumnTransformer(remainder='passthrough',\n",
       "                   transformers=[('ohe_sex_embarked',\n",
       "                                  OneHotEncoder(handle_unknown='ignore',\n",
       "                                                sparse=False),\n",
       "                                  [1, 6])]),\n",
       " 'trf3': ColumnTransformer(transformers=[('scale', MinMaxScaler(), slice(0, 10, None))]),\n",
       " 'trf4': SelectKBest(k=8, score_func=<function chi2 at 0x000001E0F8E961F0>),\n",
       " 'trf5': DecisionTreeClassifier()}"
      ]
     },
     "execution_count": 978,
     "metadata": {},
     "output_type": "execute_result"
    }
   ],
   "source": [
    "# Code here\n",
    "pipe.named_steps"
   ]
  },
  {
   "cell_type": "code",
   "execution_count": 979,
   "id": "06ede09b",
   "metadata": {
    "scrolled": true
   },
   "outputs": [
    {
     "data": {
      "text/html": [
       "<style>#sk-e4a5f659-7b53-4fa6-8c5e-9f27d3afb652 {color: black;background-color: white;}#sk-e4a5f659-7b53-4fa6-8c5e-9f27d3afb652 pre{padding: 0;}#sk-e4a5f659-7b53-4fa6-8c5e-9f27d3afb652 div.sk-toggleable {background-color: white;}#sk-e4a5f659-7b53-4fa6-8c5e-9f27d3afb652 label.sk-toggleable__label {cursor: pointer;display: block;width: 100%;margin-bottom: 0;padding: 0.3em;box-sizing: border-box;text-align: center;}#sk-e4a5f659-7b53-4fa6-8c5e-9f27d3afb652 div.sk-toggleable__content {max-height: 0;max-width: 0;overflow: hidden;text-align: left;background-color: #f0f8ff;}#sk-e4a5f659-7b53-4fa6-8c5e-9f27d3afb652 div.sk-toggleable__content pre {margin: 0.2em;color: black;border-radius: 0.25em;background-color: #f0f8ff;}#sk-e4a5f659-7b53-4fa6-8c5e-9f27d3afb652 input.sk-toggleable__control:checked~div.sk-toggleable__content {max-height: 200px;max-width: 100%;overflow: auto;}#sk-e4a5f659-7b53-4fa6-8c5e-9f27d3afb652 div.sk-estimator input.sk-toggleable__control:checked~label.sk-toggleable__label {background-color: #d4ebff;}#sk-e4a5f659-7b53-4fa6-8c5e-9f27d3afb652 div.sk-label input.sk-toggleable__control:checked~label.sk-toggleable__label {background-color: #d4ebff;}#sk-e4a5f659-7b53-4fa6-8c5e-9f27d3afb652 input.sk-hidden--visually {border: 0;clip: rect(1px 1px 1px 1px);clip: rect(1px, 1px, 1px, 1px);height: 1px;margin: -1px;overflow: hidden;padding: 0;position: absolute;width: 1px;}#sk-e4a5f659-7b53-4fa6-8c5e-9f27d3afb652 div.sk-estimator {font-family: monospace;background-color: #f0f8ff;border: 1px dotted black;border-radius: 0.25em;box-sizing: border-box;margin-bottom: 0.5em;}#sk-e4a5f659-7b53-4fa6-8c5e-9f27d3afb652 div.sk-estimator:hover {background-color: #d4ebff;}#sk-e4a5f659-7b53-4fa6-8c5e-9f27d3afb652 div.sk-parallel-item::after {content: \"\";width: 100%;border-bottom: 1px solid gray;flex-grow: 1;}#sk-e4a5f659-7b53-4fa6-8c5e-9f27d3afb652 div.sk-label:hover label.sk-toggleable__label {background-color: #d4ebff;}#sk-e4a5f659-7b53-4fa6-8c5e-9f27d3afb652 div.sk-serial::before {content: \"\";position: absolute;border-left: 1px solid gray;box-sizing: border-box;top: 2em;bottom: 0;left: 50%;}#sk-e4a5f659-7b53-4fa6-8c5e-9f27d3afb652 div.sk-serial {display: flex;flex-direction: column;align-items: center;background-color: white;padding-right: 0.2em;padding-left: 0.2em;}#sk-e4a5f659-7b53-4fa6-8c5e-9f27d3afb652 div.sk-item {z-index: 1;}#sk-e4a5f659-7b53-4fa6-8c5e-9f27d3afb652 div.sk-parallel {display: flex;align-items: stretch;justify-content: center;background-color: white;}#sk-e4a5f659-7b53-4fa6-8c5e-9f27d3afb652 div.sk-parallel::before {content: \"\";position: absolute;border-left: 1px solid gray;box-sizing: border-box;top: 2em;bottom: 0;left: 50%;}#sk-e4a5f659-7b53-4fa6-8c5e-9f27d3afb652 div.sk-parallel-item {display: flex;flex-direction: column;position: relative;background-color: white;}#sk-e4a5f659-7b53-4fa6-8c5e-9f27d3afb652 div.sk-parallel-item:first-child::after {align-self: flex-end;width: 50%;}#sk-e4a5f659-7b53-4fa6-8c5e-9f27d3afb652 div.sk-parallel-item:last-child::after {align-self: flex-start;width: 50%;}#sk-e4a5f659-7b53-4fa6-8c5e-9f27d3afb652 div.sk-parallel-item:only-child::after {width: 0;}#sk-e4a5f659-7b53-4fa6-8c5e-9f27d3afb652 div.sk-dashed-wrapped {border: 1px dashed gray;margin: 0 0.4em 0.5em 0.4em;box-sizing: border-box;padding-bottom: 0.4em;background-color: white;position: relative;}#sk-e4a5f659-7b53-4fa6-8c5e-9f27d3afb652 div.sk-label label {font-family: monospace;font-weight: bold;background-color: white;display: inline-block;line-height: 1.2em;}#sk-e4a5f659-7b53-4fa6-8c5e-9f27d3afb652 div.sk-label-container {position: relative;z-index: 2;text-align: center;}#sk-e4a5f659-7b53-4fa6-8c5e-9f27d3afb652 div.sk-container {display: inline-block;position: relative;}</style><div id=\"sk-e4a5f659-7b53-4fa6-8c5e-9f27d3afb652\" class\"sk-top-container\"><div class=\"sk-container\"><div class=\"sk-item sk-dashed-wrapped\"><div class=\"sk-label-container\"><div class=\"sk-label sk-toggleable\"><input class=\"sk-toggleable__control sk-hidden--visually\" id=\"69f2949a-d1a9-4990-b004-be929c208f66\" type=\"checkbox\" ><label class=\"sk-toggleable__label\" for=\"69f2949a-d1a9-4990-b004-be929c208f66\">Pipeline</label><div class=\"sk-toggleable__content\"><pre>Pipeline(steps=[('trf1',\n",
       "                 ColumnTransformer(remainder='passthrough',\n",
       "                                   transformers=[('impute_age', SimpleImputer(),\n",
       "                                                  [2]),\n",
       "                                                 ('impute_embarked',\n",
       "                                                  SimpleImputer(strategy='most_frequent'),\n",
       "                                                  [6])])),\n",
       "                ('trf2',\n",
       "                 ColumnTransformer(remainder='passthrough',\n",
       "                                   transformers=[('ohe_sex_embarked',\n",
       "                                                  OneHotEncoder(handle_unknown='ignore',\n",
       "                                                                sparse=False),\n",
       "                                                  [1, 6])])),\n",
       "                ('trf3',\n",
       "                 ColumnTransformer(transformers=[('scale', MinMaxScaler(),\n",
       "                                                  slice(0, 10, None))])),\n",
       "                ('trf4',\n",
       "                 SelectKBest(k=8,\n",
       "                             score_func=<function chi2 at 0x000001E0F8E961F0>)),\n",
       "                ('trf5', DecisionTreeClassifier())])</pre></div></div></div><div class=\"sk-serial\"><div class=\"sk-item sk-dashed-wrapped\"><div class=\"sk-label-container\"><div class=\"sk-label sk-toggleable\"><input class=\"sk-toggleable__control sk-hidden--visually\" id=\"beb2aca5-e224-4cc3-a02c-e928c693e791\" type=\"checkbox\" ><label class=\"sk-toggleable__label\" for=\"beb2aca5-e224-4cc3-a02c-e928c693e791\">trf1: ColumnTransformer</label><div class=\"sk-toggleable__content\"><pre>ColumnTransformer(remainder='passthrough',\n",
       "                  transformers=[('impute_age', SimpleImputer(), [2]),\n",
       "                                ('impute_embarked',\n",
       "                                 SimpleImputer(strategy='most_frequent'),\n",
       "                                 [6])])</pre></div></div></div><div class=\"sk-parallel\"><div class=\"sk-parallel-item\"><div class=\"sk-item\"><div class=\"sk-label-container\"><div class=\"sk-label sk-toggleable\"><input class=\"sk-toggleable__control sk-hidden--visually\" id=\"96e8250b-574f-4192-a695-efe9ed3d9592\" type=\"checkbox\" ><label class=\"sk-toggleable__label\" for=\"96e8250b-574f-4192-a695-efe9ed3d9592\">impute_age</label><div class=\"sk-toggleable__content\"><pre>[2]</pre></div></div></div><div class=\"sk-serial\"><div class=\"sk-item\"><div class=\"sk-estimator sk-toggleable\"><input class=\"sk-toggleable__control sk-hidden--visually\" id=\"9921af74-043c-4f1b-8f79-6fa4a6106973\" type=\"checkbox\" ><label class=\"sk-toggleable__label\" for=\"9921af74-043c-4f1b-8f79-6fa4a6106973\">SimpleImputer</label><div class=\"sk-toggleable__content\"><pre>SimpleImputer()</pre></div></div></div></div></div></div><div class=\"sk-parallel-item\"><div class=\"sk-item\"><div class=\"sk-label-container\"><div class=\"sk-label sk-toggleable\"><input class=\"sk-toggleable__control sk-hidden--visually\" id=\"e868c23f-3090-4989-acae-cbd2c599288d\" type=\"checkbox\" ><label class=\"sk-toggleable__label\" for=\"e868c23f-3090-4989-acae-cbd2c599288d\">impute_embarked</label><div class=\"sk-toggleable__content\"><pre>[6]</pre></div></div></div><div class=\"sk-serial\"><div class=\"sk-item\"><div class=\"sk-estimator sk-toggleable\"><input class=\"sk-toggleable__control sk-hidden--visually\" id=\"c7716218-ee51-4707-b1b8-4e9ccf589389\" type=\"checkbox\" ><label class=\"sk-toggleable__label\" for=\"c7716218-ee51-4707-b1b8-4e9ccf589389\">SimpleImputer</label><div class=\"sk-toggleable__content\"><pre>SimpleImputer(strategy='most_frequent')</pre></div></div></div></div></div></div><div class=\"sk-parallel-item\"><div class=\"sk-item\"><div class=\"sk-label-container\"><div class=\"sk-label sk-toggleable\"><input class=\"sk-toggleable__control sk-hidden--visually\" id=\"ce774ab8-b866-4d44-a119-80698a3dace3\" type=\"checkbox\" ><label class=\"sk-toggleable__label\" for=\"ce774ab8-b866-4d44-a119-80698a3dace3\">remainder</label><div class=\"sk-toggleable__content\"><pre>['Pclass', 'Sex', 'SibSp', 'Parch', 'Fare']</pre></div></div></div><div class=\"sk-serial\"><div class=\"sk-item\"><div class=\"sk-estimator sk-toggleable\"><input class=\"sk-toggleable__control sk-hidden--visually\" id=\"ab39e2b1-2bb4-417f-9859-07342889b5bc\" type=\"checkbox\" ><label class=\"sk-toggleable__label\" for=\"ab39e2b1-2bb4-417f-9859-07342889b5bc\">passthrough</label><div class=\"sk-toggleable__content\"><pre>passthrough</pre></div></div></div></div></div></div></div></div><div class=\"sk-item sk-dashed-wrapped\"><div class=\"sk-label-container\"><div class=\"sk-label sk-toggleable\"><input class=\"sk-toggleable__control sk-hidden--visually\" id=\"a036739b-c967-4da4-937d-52c18db6e54a\" type=\"checkbox\" ><label class=\"sk-toggleable__label\" for=\"a036739b-c967-4da4-937d-52c18db6e54a\">trf2: ColumnTransformer</label><div class=\"sk-toggleable__content\"><pre>ColumnTransformer(remainder='passthrough',\n",
       "                  transformers=[('ohe_sex_embarked',\n",
       "                                 OneHotEncoder(handle_unknown='ignore',\n",
       "                                               sparse=False),\n",
       "                                 [1, 6])])</pre></div></div></div><div class=\"sk-parallel\"><div class=\"sk-parallel-item\"><div class=\"sk-item\"><div class=\"sk-label-container\"><div class=\"sk-label sk-toggleable\"><input class=\"sk-toggleable__control sk-hidden--visually\" id=\"83787f62-61e1-45e9-b644-efef54eceb2f\" type=\"checkbox\" ><label class=\"sk-toggleable__label\" for=\"83787f62-61e1-45e9-b644-efef54eceb2f\">ohe_sex_embarked</label><div class=\"sk-toggleable__content\"><pre>[1, 6]</pre></div></div></div><div class=\"sk-serial\"><div class=\"sk-item\"><div class=\"sk-estimator sk-toggleable\"><input class=\"sk-toggleable__control sk-hidden--visually\" id=\"f152943d-3d7c-4017-88f0-f564027ac71d\" type=\"checkbox\" ><label class=\"sk-toggleable__label\" for=\"f152943d-3d7c-4017-88f0-f564027ac71d\">OneHotEncoder</label><div class=\"sk-toggleable__content\"><pre>OneHotEncoder(handle_unknown='ignore', sparse=False)</pre></div></div></div></div></div></div><div class=\"sk-parallel-item\"><div class=\"sk-item\"><div class=\"sk-label-container\"><div class=\"sk-label sk-toggleable\"><input class=\"sk-toggleable__control sk-hidden--visually\" id=\"a01e0cce-ce7c-47c9-9b90-0b70edda114b\" type=\"checkbox\" ><label class=\"sk-toggleable__label\" for=\"a01e0cce-ce7c-47c9-9b90-0b70edda114b\">remainder</label><div class=\"sk-toggleable__content\"><pre>[0, 2, 3, 4, 5]</pre></div></div></div><div class=\"sk-serial\"><div class=\"sk-item\"><div class=\"sk-estimator sk-toggleable\"><input class=\"sk-toggleable__control sk-hidden--visually\" id=\"f7cb483e-7107-40ef-8215-a10e3ab61e4a\" type=\"checkbox\" ><label class=\"sk-toggleable__label\" for=\"f7cb483e-7107-40ef-8215-a10e3ab61e4a\">passthrough</label><div class=\"sk-toggleable__content\"><pre>passthrough</pre></div></div></div></div></div></div></div></div><div class=\"sk-item sk-dashed-wrapped\"><div class=\"sk-label-container\"><div class=\"sk-label sk-toggleable\"><input class=\"sk-toggleable__control sk-hidden--visually\" id=\"d3dd1599-1406-4220-9f51-fb6cddaf4935\" type=\"checkbox\" ><label class=\"sk-toggleable__label\" for=\"d3dd1599-1406-4220-9f51-fb6cddaf4935\">trf3: ColumnTransformer</label><div class=\"sk-toggleable__content\"><pre>ColumnTransformer(transformers=[('scale', MinMaxScaler(), slice(0, 10, None))])</pre></div></div></div><div class=\"sk-parallel\"><div class=\"sk-parallel-item\"><div class=\"sk-item\"><div class=\"sk-label-container\"><div class=\"sk-label sk-toggleable\"><input class=\"sk-toggleable__control sk-hidden--visually\" id=\"445f594e-95ee-429e-945d-3491d8f4df1d\" type=\"checkbox\" ><label class=\"sk-toggleable__label\" for=\"445f594e-95ee-429e-945d-3491d8f4df1d\">scale</label><div class=\"sk-toggleable__content\"><pre>slice(0, 10, None)</pre></div></div></div><div class=\"sk-serial\"><div class=\"sk-item\"><div class=\"sk-estimator sk-toggleable\"><input class=\"sk-toggleable__control sk-hidden--visually\" id=\"3c8a219c-6bf8-454c-b91c-7fe42c14a12d\" type=\"checkbox\" ><label class=\"sk-toggleable__label\" for=\"3c8a219c-6bf8-454c-b91c-7fe42c14a12d\">MinMaxScaler</label><div class=\"sk-toggleable__content\"><pre>MinMaxScaler()</pre></div></div></div></div></div></div></div></div><div class=\"sk-item\"><div class=\"sk-estimator sk-toggleable\"><input class=\"sk-toggleable__control sk-hidden--visually\" id=\"3570ab42-2e06-447e-8f43-e1253c792175\" type=\"checkbox\" ><label class=\"sk-toggleable__label\" for=\"3570ab42-2e06-447e-8f43-e1253c792175\">SelectKBest</label><div class=\"sk-toggleable__content\"><pre>SelectKBest(k=8, score_func=<function chi2 at 0x000001E0F8E961F0>)</pre></div></div></div><div class=\"sk-item\"><div class=\"sk-estimator sk-toggleable\"><input class=\"sk-toggleable__control sk-hidden--visually\" id=\"248c917a-cda9-4cef-947d-415ac63a6550\" type=\"checkbox\" ><label class=\"sk-toggleable__label\" for=\"248c917a-cda9-4cef-947d-415ac63a6550\">DecisionTreeClassifier</label><div class=\"sk-toggleable__content\"><pre>DecisionTreeClassifier()</pre></div></div></div></div></div></div></div>"
      ],
      "text/plain": [
       "Pipeline(steps=[('trf1',\n",
       "                 ColumnTransformer(remainder='passthrough',\n",
       "                                   transformers=[('impute_age', SimpleImputer(),\n",
       "                                                  [2]),\n",
       "                                                 ('impute_embarked',\n",
       "                                                  SimpleImputer(strategy='most_frequent'),\n",
       "                                                  [6])])),\n",
       "                ('trf2',\n",
       "                 ColumnTransformer(remainder='passthrough',\n",
       "                                   transformers=[('ohe_sex_embarked',\n",
       "                                                  OneHotEncoder(handle_unknown='ignore',\n",
       "                                                                sparse=False),\n",
       "                                                  [1, 6])])),\n",
       "                ('trf3',\n",
       "                 ColumnTransformer(transformers=[('scale', MinMaxScaler(),\n",
       "                                                  slice(0, 10, None))])),\n",
       "                ('trf4',\n",
       "                 SelectKBest(k=8,\n",
       "                             score_func=<function chi2 at 0x000001E0F8E961F0>)),\n",
       "                ('trf5', DecisionTreeClassifier())])"
      ]
     },
     "execution_count": 979,
     "metadata": {},
     "output_type": "execute_result"
    }
   ],
   "source": [
    "pipe.fit(X_train,y_train)"
   ]
  },
  {
   "cell_type": "code",
   "execution_count": 980,
   "id": "c77aaee2",
   "metadata": {},
   "outputs": [
    {
     "data": {
      "text/plain": [
       "array([29.49884615])"
      ]
     },
     "execution_count": 980,
     "metadata": {},
     "output_type": "execute_result"
    }
   ],
   "source": [
    "#mean value for first transformer\n",
    "pipe.named_steps['trf1'].transformers_[0][1].statistics_"
   ]
  },
  {
   "cell_type": "code",
   "execution_count": 981,
   "id": "8b43b2b2",
   "metadata": {},
   "outputs": [
    {
     "data": {
      "text/plain": [
       "array(['S'], dtype=object)"
      ]
     },
     "execution_count": 981,
     "metadata": {},
     "output_type": "execute_result"
    }
   ],
   "source": [
    "#mean value for second transformer (Southhampton most frequent)\n",
    "pipe.named_steps['trf1'].transformers_[1][1].statistics_"
   ]
  },
  {
   "cell_type": "markdown",
   "id": "4e992ddc",
   "metadata": {},
   "source": [
    "#### Predict"
   ]
  },
  {
   "cell_type": "code",
   "execution_count": 982,
   "id": "ba91b30a",
   "metadata": {},
   "outputs": [],
   "source": [
    "# Predict\n",
    "y_pred = pipe.predict(X_test)"
   ]
  },
  {
   "cell_type": "code",
   "execution_count": 983,
   "id": "ec72990d",
   "metadata": {},
   "outputs": [
    {
     "data": {
      "text/plain": [
       "array([1, 0, 0, 0, 1, 0, 0, 0, 0, 0, 0, 0, 0, 1, 0, 0, 0, 0, 0, 0, 0, 0,\n",
       "       0, 0, 0, 0, 1, 0, 0, 0, 0, 0, 1, 0, 0, 1, 0, 0, 1, 0, 0, 0, 0, 0,\n",
       "       1, 0, 0, 0, 0, 1, 1, 0, 0, 0, 0, 0, 0, 1, 0, 0, 0, 0, 0, 0, 0, 0,\n",
       "       0, 0, 1, 1, 0, 1, 1, 1, 0, 0, 0, 1, 0, 0, 0, 0, 1, 0, 1, 1, 1, 1,\n",
       "       0, 0, 0, 0, 0, 0, 0, 0, 0, 0, 0, 0, 0, 0, 1, 0, 0, 0, 0, 0, 0, 1,\n",
       "       0, 0, 1, 0, 0, 0, 1, 1, 0, 0, 0, 1, 0, 0, 0, 1, 0, 1, 1, 0, 0, 1,\n",
       "       0, 0, 1, 1, 1, 0, 0, 0, 0, 0, 0, 0, 0, 0, 0, 0, 1, 0, 1, 0, 0, 0,\n",
       "       0, 0, 0, 0, 0, 0, 1, 0, 0, 1, 0, 1, 0, 0, 0, 0, 1, 0, 0, 1, 0, 1,\n",
       "       0, 0, 0], dtype=int64)"
      ]
     },
     "execution_count": 983,
     "metadata": {},
     "output_type": "execute_result"
    }
   ],
   "source": [
    "y_pred"
   ]
  },
  {
   "cell_type": "code",
   "execution_count": 984,
   "id": "d86e1938",
   "metadata": {},
   "outputs": [
    {
     "data": {
      "text/plain": [
       "0.6256983240223464"
      ]
     },
     "execution_count": 984,
     "metadata": {},
     "output_type": "execute_result"
    }
   ],
   "source": [
    "from sklearn.metrics import accuracy_score\n",
    "accuracy_score(y_test,y_pred)"
   ]
  },
  {
   "cell_type": "markdown",
   "id": "b9cfa100",
   "metadata": {},
   "source": [
    "#### Cross Validation using Pipeline"
   ]
  },
  {
   "cell_type": "code",
   "execution_count": 985,
   "id": "f4c251a9",
   "metadata": {},
   "outputs": [
    {
     "data": {
      "text/plain": [
       "0.6391214419383433"
      ]
     },
     "execution_count": 985,
     "metadata": {},
     "output_type": "execute_result"
    }
   ],
   "source": [
    "# cross validation using cross_val_score\n",
    "from sklearn.model_selection import cross_val_score\n",
    "cross_val_score(pipe, X_train, y_train, cv=5, scoring='accuracy').mean()"
   ]
  },
  {
   "cell_type": "markdown",
   "id": "f60bf157",
   "metadata": {},
   "source": [
    "#### GridSearch using Pipeline"
   ]
  },
  {
   "cell_type": "code",
   "execution_count": 986,
   "id": "0d87d72c",
   "metadata": {},
   "outputs": [],
   "source": [
    "# gridsearchcv\n",
    "#passing tr5 pipeline\n",
    "params = {\n",
    "    'trf5__max_depth':[1,2,3,4,5,None]\n",
    "}"
   ]
  },
  {
   "cell_type": "code",
   "execution_count": 987,
   "id": "b51f9549",
   "metadata": {},
   "outputs": [
    {
     "data": {
      "text/html": [
       "<style>#sk-868f35b1-0207-4b03-8b9b-7557fa06cc0c {color: black;background-color: white;}#sk-868f35b1-0207-4b03-8b9b-7557fa06cc0c pre{padding: 0;}#sk-868f35b1-0207-4b03-8b9b-7557fa06cc0c div.sk-toggleable {background-color: white;}#sk-868f35b1-0207-4b03-8b9b-7557fa06cc0c label.sk-toggleable__label {cursor: pointer;display: block;width: 100%;margin-bottom: 0;padding: 0.3em;box-sizing: border-box;text-align: center;}#sk-868f35b1-0207-4b03-8b9b-7557fa06cc0c div.sk-toggleable__content {max-height: 0;max-width: 0;overflow: hidden;text-align: left;background-color: #f0f8ff;}#sk-868f35b1-0207-4b03-8b9b-7557fa06cc0c div.sk-toggleable__content pre {margin: 0.2em;color: black;border-radius: 0.25em;background-color: #f0f8ff;}#sk-868f35b1-0207-4b03-8b9b-7557fa06cc0c input.sk-toggleable__control:checked~div.sk-toggleable__content {max-height: 200px;max-width: 100%;overflow: auto;}#sk-868f35b1-0207-4b03-8b9b-7557fa06cc0c div.sk-estimator input.sk-toggleable__control:checked~label.sk-toggleable__label {background-color: #d4ebff;}#sk-868f35b1-0207-4b03-8b9b-7557fa06cc0c div.sk-label input.sk-toggleable__control:checked~label.sk-toggleable__label {background-color: #d4ebff;}#sk-868f35b1-0207-4b03-8b9b-7557fa06cc0c input.sk-hidden--visually {border: 0;clip: rect(1px 1px 1px 1px);clip: rect(1px, 1px, 1px, 1px);height: 1px;margin: -1px;overflow: hidden;padding: 0;position: absolute;width: 1px;}#sk-868f35b1-0207-4b03-8b9b-7557fa06cc0c div.sk-estimator {font-family: monospace;background-color: #f0f8ff;border: 1px dotted black;border-radius: 0.25em;box-sizing: border-box;margin-bottom: 0.5em;}#sk-868f35b1-0207-4b03-8b9b-7557fa06cc0c div.sk-estimator:hover {background-color: #d4ebff;}#sk-868f35b1-0207-4b03-8b9b-7557fa06cc0c div.sk-parallel-item::after {content: \"\";width: 100%;border-bottom: 1px solid gray;flex-grow: 1;}#sk-868f35b1-0207-4b03-8b9b-7557fa06cc0c div.sk-label:hover label.sk-toggleable__label {background-color: #d4ebff;}#sk-868f35b1-0207-4b03-8b9b-7557fa06cc0c div.sk-serial::before {content: \"\";position: absolute;border-left: 1px solid gray;box-sizing: border-box;top: 2em;bottom: 0;left: 50%;}#sk-868f35b1-0207-4b03-8b9b-7557fa06cc0c div.sk-serial {display: flex;flex-direction: column;align-items: center;background-color: white;padding-right: 0.2em;padding-left: 0.2em;}#sk-868f35b1-0207-4b03-8b9b-7557fa06cc0c div.sk-item {z-index: 1;}#sk-868f35b1-0207-4b03-8b9b-7557fa06cc0c div.sk-parallel {display: flex;align-items: stretch;justify-content: center;background-color: white;}#sk-868f35b1-0207-4b03-8b9b-7557fa06cc0c div.sk-parallel::before {content: \"\";position: absolute;border-left: 1px solid gray;box-sizing: border-box;top: 2em;bottom: 0;left: 50%;}#sk-868f35b1-0207-4b03-8b9b-7557fa06cc0c div.sk-parallel-item {display: flex;flex-direction: column;position: relative;background-color: white;}#sk-868f35b1-0207-4b03-8b9b-7557fa06cc0c div.sk-parallel-item:first-child::after {align-self: flex-end;width: 50%;}#sk-868f35b1-0207-4b03-8b9b-7557fa06cc0c div.sk-parallel-item:last-child::after {align-self: flex-start;width: 50%;}#sk-868f35b1-0207-4b03-8b9b-7557fa06cc0c div.sk-parallel-item:only-child::after {width: 0;}#sk-868f35b1-0207-4b03-8b9b-7557fa06cc0c div.sk-dashed-wrapped {border: 1px dashed gray;margin: 0 0.4em 0.5em 0.4em;box-sizing: border-box;padding-bottom: 0.4em;background-color: white;position: relative;}#sk-868f35b1-0207-4b03-8b9b-7557fa06cc0c div.sk-label label {font-family: monospace;font-weight: bold;background-color: white;display: inline-block;line-height: 1.2em;}#sk-868f35b1-0207-4b03-8b9b-7557fa06cc0c div.sk-label-container {position: relative;z-index: 2;text-align: center;}#sk-868f35b1-0207-4b03-8b9b-7557fa06cc0c div.sk-container {display: inline-block;position: relative;}</style><div id=\"sk-868f35b1-0207-4b03-8b9b-7557fa06cc0c\" class\"sk-top-container\"><div class=\"sk-container\"><div class=\"sk-item sk-dashed-wrapped\"><div class=\"sk-label-container\"><div class=\"sk-label sk-toggleable\"><input class=\"sk-toggleable__control sk-hidden--visually\" id=\"0042ed8b-927c-454a-b4b4-12c7b48160b2\" type=\"checkbox\" ><label class=\"sk-toggleable__label\" for=\"0042ed8b-927c-454a-b4b4-12c7b48160b2\">GridSearchCV</label><div class=\"sk-toggleable__content\"><pre>GridSearchCV(cv=5,\n",
       "             estimator=Pipeline(steps=[('trf1',\n",
       "                                        ColumnTransformer(remainder='passthrough',\n",
       "                                                          transformers=[('impute_age',\n",
       "                                                                         SimpleImputer(),\n",
       "                                                                         [2]),\n",
       "                                                                        ('impute_embarked',\n",
       "                                                                         SimpleImputer(strategy='most_frequent'),\n",
       "                                                                         [6])])),\n",
       "                                       ('trf2',\n",
       "                                        ColumnTransformer(remainder='passthrough',\n",
       "                                                          transformers=[('ohe_sex_embarked',\n",
       "                                                                         OneHotEncoder(handle_unknown='ignore',\n",
       "                                                                                       sparse=False),\n",
       "                                                                         [1,\n",
       "                                                                          6])])),\n",
       "                                       ('trf3',\n",
       "                                        ColumnTransformer(transformers=[('scale',\n",
       "                                                                         MinMaxScaler(),\n",
       "                                                                         slice(0, 10, None))])),\n",
       "                                       ('trf4',\n",
       "                                        SelectKBest(k=8,\n",
       "                                                    score_func=<function chi2 at 0x000001E0F8E961F0>)),\n",
       "                                       ('trf5', DecisionTreeClassifier())]),\n",
       "             param_grid={'trf5__max_depth': [1, 2, 3, 4, 5, None]},\n",
       "             scoring='accuracy')</pre></div></div></div><div class=\"sk-parallel\"><div class=\"sk-parallel-item\"><div class=\"sk-item\"><div class=\"sk-serial\"><div class=\"sk-item\"><div class=\"sk-serial\"><div class=\"sk-item sk-dashed-wrapped\"><div class=\"sk-label-container\"><div class=\"sk-label sk-toggleable\"><input class=\"sk-toggleable__control sk-hidden--visually\" id=\"ffdd4d03-b254-43ad-b11e-47e16bfd8bfd\" type=\"checkbox\" ><label class=\"sk-toggleable__label\" for=\"ffdd4d03-b254-43ad-b11e-47e16bfd8bfd\">trf1: ColumnTransformer</label><div class=\"sk-toggleable__content\"><pre>ColumnTransformer(remainder='passthrough',\n",
       "                  transformers=[('impute_age', SimpleImputer(), [2]),\n",
       "                                ('impute_embarked',\n",
       "                                 SimpleImputer(strategy='most_frequent'),\n",
       "                                 [6])])</pre></div></div></div><div class=\"sk-parallel\"><div class=\"sk-parallel-item\"><div class=\"sk-item\"><div class=\"sk-label-container\"><div class=\"sk-label sk-toggleable\"><input class=\"sk-toggleable__control sk-hidden--visually\" id=\"ad5b9636-997f-4d9a-9de1-f3ee2d1654f5\" type=\"checkbox\" ><label class=\"sk-toggleable__label\" for=\"ad5b9636-997f-4d9a-9de1-f3ee2d1654f5\">impute_age</label><div class=\"sk-toggleable__content\"><pre>[2]</pre></div></div></div><div class=\"sk-serial\"><div class=\"sk-item\"><div class=\"sk-estimator sk-toggleable\"><input class=\"sk-toggleable__control sk-hidden--visually\" id=\"c1a8cc3d-e381-4448-9ac4-a02f222f904c\" type=\"checkbox\" ><label class=\"sk-toggleable__label\" for=\"c1a8cc3d-e381-4448-9ac4-a02f222f904c\">SimpleImputer</label><div class=\"sk-toggleable__content\"><pre>SimpleImputer()</pre></div></div></div></div></div></div><div class=\"sk-parallel-item\"><div class=\"sk-item\"><div class=\"sk-label-container\"><div class=\"sk-label sk-toggleable\"><input class=\"sk-toggleable__control sk-hidden--visually\" id=\"9576be02-616e-411a-85ab-b20e7252b4d0\" type=\"checkbox\" ><label class=\"sk-toggleable__label\" for=\"9576be02-616e-411a-85ab-b20e7252b4d0\">impute_embarked</label><div class=\"sk-toggleable__content\"><pre>[6]</pre></div></div></div><div class=\"sk-serial\"><div class=\"sk-item\"><div class=\"sk-estimator sk-toggleable\"><input class=\"sk-toggleable__control sk-hidden--visually\" id=\"e95f2d2d-1c9e-42f3-a619-b8b333275289\" type=\"checkbox\" ><label class=\"sk-toggleable__label\" for=\"e95f2d2d-1c9e-42f3-a619-b8b333275289\">SimpleImputer</label><div class=\"sk-toggleable__content\"><pre>SimpleImputer(strategy='most_frequent')</pre></div></div></div></div></div></div><div class=\"sk-parallel-item\"><div class=\"sk-item\"><div class=\"sk-label-container\"><div class=\"sk-label sk-toggleable\"><input class=\"sk-toggleable__control sk-hidden--visually\" id=\"91e12127-a9f8-4239-a6c6-ce25c27d8e61\" type=\"checkbox\" ><label class=\"sk-toggleable__label\" for=\"91e12127-a9f8-4239-a6c6-ce25c27d8e61\">remainder</label><div class=\"sk-toggleable__content\"><pre>['Pclass', 'Sex', 'SibSp', 'Parch', 'Fare']</pre></div></div></div><div class=\"sk-serial\"><div class=\"sk-item\"><div class=\"sk-estimator sk-toggleable\"><input class=\"sk-toggleable__control sk-hidden--visually\" id=\"a530a3bd-5412-4c79-b6a2-76d0c68cd3dd\" type=\"checkbox\" ><label class=\"sk-toggleable__label\" for=\"a530a3bd-5412-4c79-b6a2-76d0c68cd3dd\">passthrough</label><div class=\"sk-toggleable__content\"><pre>passthrough</pre></div></div></div></div></div></div></div></div><div class=\"sk-item sk-dashed-wrapped\"><div class=\"sk-label-container\"><div class=\"sk-label sk-toggleable\"><input class=\"sk-toggleable__control sk-hidden--visually\" id=\"e019827f-7bcf-4016-bb49-565c3934e36d\" type=\"checkbox\" ><label class=\"sk-toggleable__label\" for=\"e019827f-7bcf-4016-bb49-565c3934e36d\">trf2: ColumnTransformer</label><div class=\"sk-toggleable__content\"><pre>ColumnTransformer(remainder='passthrough',\n",
       "                  transformers=[('ohe_sex_embarked',\n",
       "                                 OneHotEncoder(handle_unknown='ignore',\n",
       "                                               sparse=False),\n",
       "                                 [1, 6])])</pre></div></div></div><div class=\"sk-parallel\"><div class=\"sk-parallel-item\"><div class=\"sk-item\"><div class=\"sk-label-container\"><div class=\"sk-label sk-toggleable\"><input class=\"sk-toggleable__control sk-hidden--visually\" id=\"97676426-b7b3-4dfe-bd4d-8a49971cca2b\" type=\"checkbox\" ><label class=\"sk-toggleable__label\" for=\"97676426-b7b3-4dfe-bd4d-8a49971cca2b\">ohe_sex_embarked</label><div class=\"sk-toggleable__content\"><pre>[1, 6]</pre></div></div></div><div class=\"sk-serial\"><div class=\"sk-item\"><div class=\"sk-estimator sk-toggleable\"><input class=\"sk-toggleable__control sk-hidden--visually\" id=\"37a52e84-8b30-4a8d-b273-2e3bebaad4c3\" type=\"checkbox\" ><label class=\"sk-toggleable__label\" for=\"37a52e84-8b30-4a8d-b273-2e3bebaad4c3\">OneHotEncoder</label><div class=\"sk-toggleable__content\"><pre>OneHotEncoder(handle_unknown='ignore', sparse=False)</pre></div></div></div></div></div></div><div class=\"sk-parallel-item\"><div class=\"sk-item\"><div class=\"sk-label-container\"><div class=\"sk-label sk-toggleable\"><input class=\"sk-toggleable__control sk-hidden--visually\" id=\"5afc3045-7ecf-4483-8429-e14a30a8cc44\" type=\"checkbox\" ><label class=\"sk-toggleable__label\" for=\"5afc3045-7ecf-4483-8429-e14a30a8cc44\">remainder</label><div class=\"sk-toggleable__content\"><pre>[0, 2, 3, 4, 5]</pre></div></div></div><div class=\"sk-serial\"><div class=\"sk-item\"><div class=\"sk-estimator sk-toggleable\"><input class=\"sk-toggleable__control sk-hidden--visually\" id=\"60df462b-7715-4785-9254-b6fe33d4362d\" type=\"checkbox\" ><label class=\"sk-toggleable__label\" for=\"60df462b-7715-4785-9254-b6fe33d4362d\">passthrough</label><div class=\"sk-toggleable__content\"><pre>passthrough</pre></div></div></div></div></div></div></div></div><div class=\"sk-item sk-dashed-wrapped\"><div class=\"sk-label-container\"><div class=\"sk-label sk-toggleable\"><input class=\"sk-toggleable__control sk-hidden--visually\" id=\"08f4148b-2172-45c3-9308-ae5318e74366\" type=\"checkbox\" ><label class=\"sk-toggleable__label\" for=\"08f4148b-2172-45c3-9308-ae5318e74366\">trf3: ColumnTransformer</label><div class=\"sk-toggleable__content\"><pre>ColumnTransformer(transformers=[('scale', MinMaxScaler(), slice(0, 10, None))])</pre></div></div></div><div class=\"sk-parallel\"><div class=\"sk-parallel-item\"><div class=\"sk-item\"><div class=\"sk-label-container\"><div class=\"sk-label sk-toggleable\"><input class=\"sk-toggleable__control sk-hidden--visually\" id=\"56685134-7f22-44d2-bf8d-bb2169939f00\" type=\"checkbox\" ><label class=\"sk-toggleable__label\" for=\"56685134-7f22-44d2-bf8d-bb2169939f00\">scale</label><div class=\"sk-toggleable__content\"><pre>slice(0, 10, None)</pre></div></div></div><div class=\"sk-serial\"><div class=\"sk-item\"><div class=\"sk-estimator sk-toggleable\"><input class=\"sk-toggleable__control sk-hidden--visually\" id=\"9a59e196-99ca-496d-820a-0cb3cc858829\" type=\"checkbox\" ><label class=\"sk-toggleable__label\" for=\"9a59e196-99ca-496d-820a-0cb3cc858829\">MinMaxScaler</label><div class=\"sk-toggleable__content\"><pre>MinMaxScaler()</pre></div></div></div></div></div></div></div></div><div class=\"sk-item\"><div class=\"sk-estimator sk-toggleable\"><input class=\"sk-toggleable__control sk-hidden--visually\" id=\"4dcb283c-3926-43e2-b411-a74139a7be27\" type=\"checkbox\" ><label class=\"sk-toggleable__label\" for=\"4dcb283c-3926-43e2-b411-a74139a7be27\">SelectKBest</label><div class=\"sk-toggleable__content\"><pre>SelectKBest(k=8, score_func=<function chi2 at 0x000001E0F8E961F0>)</pre></div></div></div><div class=\"sk-item\"><div class=\"sk-estimator sk-toggleable\"><input class=\"sk-toggleable__control sk-hidden--visually\" id=\"22509dc1-e983-46e8-9736-a38601eb6982\" type=\"checkbox\" ><label class=\"sk-toggleable__label\" for=\"22509dc1-e983-46e8-9736-a38601eb6982\">DecisionTreeClassifier</label><div class=\"sk-toggleable__content\"><pre>DecisionTreeClassifier()</pre></div></div></div></div></div></div></div></div></div></div></div></div>"
      ],
      "text/plain": [
       "GridSearchCV(cv=5,\n",
       "             estimator=Pipeline(steps=[('trf1',\n",
       "                                        ColumnTransformer(remainder='passthrough',\n",
       "                                                          transformers=[('impute_age',\n",
       "                                                                         SimpleImputer(),\n",
       "                                                                         [2]),\n",
       "                                                                        ('impute_embarked',\n",
       "                                                                         SimpleImputer(strategy='most_frequent'),\n",
       "                                                                         [6])])),\n",
       "                                       ('trf2',\n",
       "                                        ColumnTransformer(remainder='passthrough',\n",
       "                                                          transformers=[('ohe_sex_embarked',\n",
       "                                                                         OneHotEncoder(handle_unknown='ignore',\n",
       "                                                                                       sparse=False),\n",
       "                                                                         [1,\n",
       "                                                                          6])])),\n",
       "                                       ('trf3',\n",
       "                                        ColumnTransformer(transformers=[('scale',\n",
       "                                                                         MinMaxScaler(),\n",
       "                                                                         slice(0, 10, None))])),\n",
       "                                       ('trf4',\n",
       "                                        SelectKBest(k=8,\n",
       "                                                    score_func=<function chi2 at 0x000001E0F8E961F0>)),\n",
       "                                       ('trf5', DecisionTreeClassifier())]),\n",
       "             param_grid={'trf5__max_depth': [1, 2, 3, 4, 5, None]},\n",
       "             scoring='accuracy')"
      ]
     },
     "execution_count": 987,
     "metadata": {},
     "output_type": "execute_result"
    }
   ],
   "source": [
    "from sklearn.model_selection import GridSearchCV\n",
    "grid = GridSearchCV(pipe, params, cv=5, scoring='accuracy')\n",
    "grid.fit(X_train, y_train)"
   ]
  },
  {
   "cell_type": "code",
   "execution_count": 988,
   "id": "581cf832",
   "metadata": {},
   "outputs": [
    {
     "data": {
      "text/plain": [
       "0.6391214419383433"
      ]
     },
     "execution_count": 988,
     "metadata": {},
     "output_type": "execute_result"
    }
   ],
   "source": [
    "grid.best_score_"
   ]
  },
  {
   "cell_type": "code",
   "execution_count": 989,
   "id": "3ed6b23f",
   "metadata": {},
   "outputs": [
    {
     "data": {
      "text/plain": [
       "{'trf5__max_depth': 2}"
      ]
     },
     "execution_count": 989,
     "metadata": {},
     "output_type": "execute_result"
    }
   ],
   "source": [
    "grid.best_params_"
   ]
  },
  {
   "cell_type": "markdown",
   "id": "634eb354",
   "metadata": {},
   "source": [
    "#### Exporting the Pipeline"
   ]
  },
  {
   "cell_type": "code",
   "execution_count": 990,
   "id": "de2858cc",
   "metadata": {},
   "outputs": [],
   "source": [
    "# export \n",
    "import pickle\n",
    "pickle.dump(pipe,open('pipe.pkl','wb'))"
   ]
  }
 ],
 "metadata": {
  "kernelspec": {
   "display_name": "Python 3 (ipykernel)",
   "language": "python",
   "name": "python3"
  },
  "language_info": {
   "codemirror_mode": {
    "name": "ipython",
    "version": 3
   },
   "file_extension": ".py",
   "mimetype": "text/x-python",
   "name": "python",
   "nbconvert_exporter": "python",
   "pygments_lexer": "ipython3",
   "version": "3.9.5"
  },
  "toc": {
   "base_numbering": 1,
   "nav_menu": {},
   "number_sections": true,
   "sideBar": true,
   "skip_h1_title": false,
   "title_cell": "Table of Contents",
   "title_sidebar": "Contents",
   "toc_cell": false,
   "toc_position": {
    "height": "calc(100% - 180px)",
    "left": "10px",
    "top": "150px",
    "width": "336px"
   },
   "toc_section_display": true,
   "toc_window_display": true
  },
  "varInspector": {
   "cols": {
    "lenName": 16,
    "lenType": 16,
    "lenVar": 40
   },
   "kernels_config": {
    "python": {
     "delete_cmd_postfix": "",
     "delete_cmd_prefix": "del ",
     "library": "var_list.py",
     "varRefreshCmd": "print(var_dic_list())"
    },
    "r": {
     "delete_cmd_postfix": ") ",
     "delete_cmd_prefix": "rm(",
     "library": "var_list.r",
     "varRefreshCmd": "cat(var_dic_list()) "
    }
   },
   "types_to_exclude": [
    "module",
    "function",
    "builtin_function_or_method",
    "instance",
    "_Feature"
   ],
   "window_display": false
  }
 },
 "nbformat": 4,
 "nbformat_minor": 5
}
