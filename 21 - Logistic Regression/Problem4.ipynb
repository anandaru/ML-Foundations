{
 "cells": [
  {
   "cell_type": "markdown",
   "id": "23937000",
   "metadata": {},
   "source": [
    "## Problem4"
   ]
  },
  {
   "cell_type": "markdown",
   "id": "38ff0007",
   "metadata": {},
   "source": [
    "It is vital for banks that customers put in long term fixed deposits as they use it to pay interest to customers and it is not viable to ask every customer if they will put in a long-term deposit or not. So, build a Logistic Regression model to predict whether a customer will put in a long-term fixed deposit or not based on the different variables given in the data. The output variable in the dataset is Y which is binary. Snapshot of the dataset is given below."
   ]
  },
  {
   "cell_type": "code",
   "execution_count": 1,
   "id": "658896bc",
   "metadata": {},
   "outputs": [],
   "source": [
    "import pandas as pd\n",
    "import numpy as np\n",
    "import seaborn as sns\n",
    "import matplotlib.pyplot as plt\n",
    "import statsmodels.formula.api as sm\n",
    "from sklearn.model_selection import train_test_split # train and test \n",
    "from sklearn import metrics\n",
    "from sklearn.metrics import roc_curve, auc\n",
    "from sklearn.metrics import classification_report\n",
    "\n",
    "#Importing Data\n",
    "data = pd.read_csv(\"bank_data.csv\", sep = \",\")\n"
   ]
  },
  {
   "cell_type": "code",
   "execution_count": 2,
   "id": "59cae0ae",
   "metadata": {},
   "outputs": [
    {
     "data": {
      "text/html": [
       "<div>\n",
       "<style scoped>\n",
       "    .dataframe tbody tr th:only-of-type {\n",
       "        vertical-align: middle;\n",
       "    }\n",
       "\n",
       "    .dataframe tbody tr th {\n",
       "        vertical-align: top;\n",
       "    }\n",
       "\n",
       "    .dataframe thead th {\n",
       "        text-align: right;\n",
       "    }\n",
       "</style>\n",
       "<table border=\"1\" class=\"dataframe\">\n",
       "  <thead>\n",
       "    <tr style=\"text-align: right;\">\n",
       "      <th></th>\n",
       "      <th>age</th>\n",
       "      <th>default</th>\n",
       "      <th>balance</th>\n",
       "      <th>housing</th>\n",
       "      <th>loan</th>\n",
       "      <th>duration</th>\n",
       "      <th>campaign</th>\n",
       "      <th>pdays</th>\n",
       "      <th>previous</th>\n",
       "      <th>poutfailure</th>\n",
       "      <th>...</th>\n",
       "      <th>johousemaid</th>\n",
       "      <th>jomanagement</th>\n",
       "      <th>joretired</th>\n",
       "      <th>joself.employed</th>\n",
       "      <th>joservices</th>\n",
       "      <th>jostudent</th>\n",
       "      <th>jotechnician</th>\n",
       "      <th>jounemployed</th>\n",
       "      <th>jounknown</th>\n",
       "      <th>y</th>\n",
       "    </tr>\n",
       "  </thead>\n",
       "  <tbody>\n",
       "    <tr>\n",
       "      <th>0</th>\n",
       "      <td>58</td>\n",
       "      <td>0</td>\n",
       "      <td>2143</td>\n",
       "      <td>1</td>\n",
       "      <td>0</td>\n",
       "      <td>261</td>\n",
       "      <td>1</td>\n",
       "      <td>-1</td>\n",
       "      <td>0</td>\n",
       "      <td>0</td>\n",
       "      <td>...</td>\n",
       "      <td>0</td>\n",
       "      <td>1</td>\n",
       "      <td>0</td>\n",
       "      <td>0</td>\n",
       "      <td>0</td>\n",
       "      <td>0</td>\n",
       "      <td>0</td>\n",
       "      <td>0</td>\n",
       "      <td>0</td>\n",
       "      <td>0</td>\n",
       "    </tr>\n",
       "    <tr>\n",
       "      <th>1</th>\n",
       "      <td>44</td>\n",
       "      <td>0</td>\n",
       "      <td>29</td>\n",
       "      <td>1</td>\n",
       "      <td>0</td>\n",
       "      <td>151</td>\n",
       "      <td>1</td>\n",
       "      <td>-1</td>\n",
       "      <td>0</td>\n",
       "      <td>0</td>\n",
       "      <td>...</td>\n",
       "      <td>0</td>\n",
       "      <td>0</td>\n",
       "      <td>0</td>\n",
       "      <td>0</td>\n",
       "      <td>0</td>\n",
       "      <td>0</td>\n",
       "      <td>1</td>\n",
       "      <td>0</td>\n",
       "      <td>0</td>\n",
       "      <td>0</td>\n",
       "    </tr>\n",
       "    <tr>\n",
       "      <th>2</th>\n",
       "      <td>33</td>\n",
       "      <td>0</td>\n",
       "      <td>2</td>\n",
       "      <td>1</td>\n",
       "      <td>1</td>\n",
       "      <td>76</td>\n",
       "      <td>1</td>\n",
       "      <td>-1</td>\n",
       "      <td>0</td>\n",
       "      <td>0</td>\n",
       "      <td>...</td>\n",
       "      <td>0</td>\n",
       "      <td>0</td>\n",
       "      <td>0</td>\n",
       "      <td>0</td>\n",
       "      <td>0</td>\n",
       "      <td>0</td>\n",
       "      <td>0</td>\n",
       "      <td>0</td>\n",
       "      <td>0</td>\n",
       "      <td>0</td>\n",
       "    </tr>\n",
       "    <tr>\n",
       "      <th>3</th>\n",
       "      <td>47</td>\n",
       "      <td>0</td>\n",
       "      <td>1506</td>\n",
       "      <td>1</td>\n",
       "      <td>0</td>\n",
       "      <td>92</td>\n",
       "      <td>1</td>\n",
       "      <td>-1</td>\n",
       "      <td>0</td>\n",
       "      <td>0</td>\n",
       "      <td>...</td>\n",
       "      <td>0</td>\n",
       "      <td>0</td>\n",
       "      <td>0</td>\n",
       "      <td>0</td>\n",
       "      <td>0</td>\n",
       "      <td>0</td>\n",
       "      <td>0</td>\n",
       "      <td>0</td>\n",
       "      <td>0</td>\n",
       "      <td>0</td>\n",
       "    </tr>\n",
       "    <tr>\n",
       "      <th>4</th>\n",
       "      <td>33</td>\n",
       "      <td>0</td>\n",
       "      <td>1</td>\n",
       "      <td>0</td>\n",
       "      <td>0</td>\n",
       "      <td>198</td>\n",
       "      <td>1</td>\n",
       "      <td>-1</td>\n",
       "      <td>0</td>\n",
       "      <td>0</td>\n",
       "      <td>...</td>\n",
       "      <td>0</td>\n",
       "      <td>0</td>\n",
       "      <td>0</td>\n",
       "      <td>0</td>\n",
       "      <td>0</td>\n",
       "      <td>0</td>\n",
       "      <td>0</td>\n",
       "      <td>0</td>\n",
       "      <td>1</td>\n",
       "      <td>0</td>\n",
       "    </tr>\n",
       "  </tbody>\n",
       "</table>\n",
       "<p>5 rows × 32 columns</p>\n",
       "</div>"
      ],
      "text/plain": [
       "   age  default  balance  housing  loan  duration  campaign  pdays  previous  \\\n",
       "0   58        0     2143        1     0       261         1     -1         0   \n",
       "1   44        0       29        1     0       151         1     -1         0   \n",
       "2   33        0        2        1     1        76         1     -1         0   \n",
       "3   47        0     1506        1     0        92         1     -1         0   \n",
       "4   33        0        1        0     0       198         1     -1         0   \n",
       "\n",
       "   poutfailure  ...  johousemaid  jomanagement  joretired  joself.employed  \\\n",
       "0            0  ...            0             1          0                0   \n",
       "1            0  ...            0             0          0                0   \n",
       "2            0  ...            0             0          0                0   \n",
       "3            0  ...            0             0          0                0   \n",
       "4            0  ...            0             0          0                0   \n",
       "\n",
       "   joservices  jostudent  jotechnician  jounemployed  jounknown  y  \n",
       "0           0          0             0             0          0  0  \n",
       "1           0          0             1             0          0  0  \n",
       "2           0          0             0             0          0  0  \n",
       "3           0          0             0             0          0  0  \n",
       "4           0          0             0             0          1  0  \n",
       "\n",
       "[5 rows x 32 columns]"
      ]
     },
     "execution_count": 2,
     "metadata": {},
     "output_type": "execute_result"
    }
   ],
   "source": [
    "data.head()"
   ]
  },
  {
   "cell_type": "code",
   "execution_count": 3,
   "id": "00bcedcf",
   "metadata": {},
   "outputs": [
    {
     "data": {
      "text/plain": [
       "(45211, 32)"
      ]
     },
     "execution_count": 3,
     "metadata": {},
     "output_type": "execute_result"
    }
   ],
   "source": [
    "data.shape"
   ]
  },
  {
   "cell_type": "code",
   "execution_count": 4,
   "id": "101427da",
   "metadata": {},
   "outputs": [
    {
     "data": {
      "text/plain": [
       "age                int64\n",
       "default            int64\n",
       "balance            int64\n",
       "housing            int64\n",
       "loan               int64\n",
       "duration           int64\n",
       "campaign           int64\n",
       "pdays              int64\n",
       "previous           int64\n",
       "poutfailure        int64\n",
       "poutother          int64\n",
       "poutsuccess        int64\n",
       "poutunknown        int64\n",
       "con_cellular       int64\n",
       "con_telephone      int64\n",
       "con_unknown        int64\n",
       "divorced           int64\n",
       "married            int64\n",
       "single             int64\n",
       "joadmin.           int64\n",
       "joblue.collar      int64\n",
       "joentrepreneur     int64\n",
       "johousemaid        int64\n",
       "jomanagement       int64\n",
       "joretired          int64\n",
       "joself.employed    int64\n",
       "joservices         int64\n",
       "jostudent          int64\n",
       "jotechnician       int64\n",
       "jounemployed       int64\n",
       "jounknown          int64\n",
       "y                  int64\n",
       "dtype: object"
      ]
     },
     "execution_count": 4,
     "metadata": {},
     "output_type": "execute_result"
    }
   ],
   "source": [
    "data.dtypes"
   ]
  },
  {
   "cell_type": "code",
   "execution_count": 7,
   "id": "97a6e96c",
   "metadata": {},
   "outputs": [
    {
     "data": {
      "text/html": [
       "<div>\n",
       "<style scoped>\n",
       "    .dataframe tbody tr th:only-of-type {\n",
       "        vertical-align: middle;\n",
       "    }\n",
       "\n",
       "    .dataframe tbody tr th {\n",
       "        vertical-align: top;\n",
       "    }\n",
       "\n",
       "    .dataframe thead th {\n",
       "        text-align: right;\n",
       "    }\n",
       "</style>\n",
       "<table border=\"1\" class=\"dataframe\">\n",
       "  <thead>\n",
       "    <tr style=\"text-align: right;\">\n",
       "      <th></th>\n",
       "      <th>age</th>\n",
       "      <th>default</th>\n",
       "      <th>balance</th>\n",
       "      <th>housing</th>\n",
       "      <th>loan</th>\n",
       "      <th>duration</th>\n",
       "      <th>campaign</th>\n",
       "      <th>pdays</th>\n",
       "      <th>previous</th>\n",
       "      <th>poutfailure</th>\n",
       "      <th>...</th>\n",
       "      <th>johousemaid</th>\n",
       "      <th>jomanagement</th>\n",
       "      <th>joretired</th>\n",
       "      <th>joself.employed</th>\n",
       "      <th>joservices</th>\n",
       "      <th>jostudent</th>\n",
       "      <th>jotechnician</th>\n",
       "      <th>jounemployed</th>\n",
       "      <th>jounknown</th>\n",
       "      <th>y</th>\n",
       "    </tr>\n",
       "  </thead>\n",
       "  <tbody>\n",
       "    <tr>\n",
       "      <th>26091</th>\n",
       "      <td>54</td>\n",
       "      <td>0</td>\n",
       "      <td>0</td>\n",
       "      <td>0</td>\n",
       "      <td>0</td>\n",
       "      <td>214</td>\n",
       "      <td>3</td>\n",
       "      <td>-1</td>\n",
       "      <td>0</td>\n",
       "      <td>0</td>\n",
       "      <td>...</td>\n",
       "      <td>0</td>\n",
       "      <td>1</td>\n",
       "      <td>0</td>\n",
       "      <td>0</td>\n",
       "      <td>0</td>\n",
       "      <td>0</td>\n",
       "      <td>0</td>\n",
       "      <td>0</td>\n",
       "      <td>0</td>\n",
       "      <td>0</td>\n",
       "    </tr>\n",
       "  </tbody>\n",
       "</table>\n",
       "<p>1 rows × 32 columns</p>\n",
       "</div>"
      ],
      "text/plain": [
       "       age  default  balance  housing  loan  duration  campaign  pdays  \\\n",
       "26091   54        0        0        0     0       214         3     -1   \n",
       "\n",
       "       previous  poutfailure  ...  johousemaid  jomanagement  joretired  \\\n",
       "26091         0            0  ...            0             1          0   \n",
       "\n",
       "       joself.employed  joservices  jostudent  jotechnician  jounemployed  \\\n",
       "26091                0           0          0             0             0   \n",
       "\n",
       "       jounknown  y  \n",
       "26091          0  0  \n",
       "\n",
       "[1 rows x 32 columns]"
      ]
     },
     "execution_count": 7,
     "metadata": {},
     "output_type": "execute_result"
    }
   ],
   "source": [
    "data[data.duplicated()]"
   ]
  },
  {
   "cell_type": "code",
   "execution_count": null,
   "id": "6f3d87fd",
   "metadata": {},
   "outputs": [],
   "source": [
    "data[data.duplicated()]"
   ]
  },
  {
   "cell_type": "code",
   "execution_count": 8,
   "id": "92f7b424",
   "metadata": {},
   "outputs": [],
   "source": [
    "data.drop_duplicates(keep='first',inplace= True)"
   ]
  },
  {
   "cell_type": "code",
   "execution_count": 19,
   "id": "b8dfc375",
   "metadata": {},
   "outputs": [
    {
     "data": {
      "text/plain": [
       "age                1.127568e+02\n",
       "default            1.770240e-02\n",
       "balance            9.270763e+06\n",
       "housing            2.468862e-01\n",
       "loan               1.345593e-01\n",
       "duration           6.632200e+04\n",
       "campaign           9.597944e+00\n",
       "pdays              1.002595e+04\n",
       "previous           5.305951e+00\n",
       "poutfailure        9.665567e-02\n",
       "poutother          3.904342e-02\n",
       "poutsuccess        3.230551e-02\n",
       "poutunknown        1.492136e-01\n",
       "con_cellular       2.281801e-01\n",
       "con_telephone      6.014751e-02\n",
       "con_unknown        2.050560e-01\n",
       "divorced           1.019109e-01\n",
       "married            2.396167e-01\n",
       "single             2.028730e-01\n",
       "joadmin.           1.012974e-01\n",
       "joblue.collar      1.689281e-01\n",
       "joentrepreneur     3.180984e-02\n",
       "johousemaid        2.667588e-02\n",
       "jomanagement       1.654270e-01\n",
       "joretired          4.757072e-02\n",
       "joself.employed    3.370683e-02\n",
       "joservices         8.344181e-02\n",
       "jostudent          2.031761e-02\n",
       "jotechnician       1.398044e-01\n",
       "jounemployed       2.799102e-02\n",
       "jounknown          6.329832e-03\n",
       "y                  1.033036e-01\n",
       "dtype: float64"
      ]
     },
     "execution_count": 19,
     "metadata": {},
     "output_type": "execute_result"
    }
   ],
   "source": [
    "data.var()"
   ]
  },
  {
   "cell_type": "code",
   "execution_count": 9,
   "id": "99b2ca90",
   "metadata": {},
   "outputs": [
    {
     "data": {
      "text/plain": [
       "<AxesSubplot:>"
      ]
     },
     "execution_count": 9,
     "metadata": {},
     "output_type": "execute_result"
    },
    {
     "data": {
      "image/png": "[encoded data removed]",
      "text/plain": [
       "<Figure size 432x288 with 2 Axes>"
      ]
     },
     "metadata": {
      "needs_background": "light"
     },
     "output_type": "display_data"
    }
   ],
   "source": [
    "# check correlations in train data with a heatmap\n",
    "sns.heatmap(data.corr())"
   ]
  },
  {
   "cell_type": "code",
   "execution_count": 16,
   "id": "93168393",
   "metadata": {},
   "outputs": [],
   "source": [
    "from sklearn.preprocessing import StandardScaler\n",
    "trans = StandardScaler()"
   ]
  },
  {
   "cell_type": "code",
   "execution_count": 17,
   "id": "ea748ad0",
   "metadata": {},
   "outputs": [],
   "source": [
    "X = trans.fit_transform(data.iloc[:,0:31])\n",
    "y = data.iloc[:,31]"
   ]
  },
  {
   "cell_type": "code",
   "execution_count": 18,
   "id": "9cbb5e2e",
   "metadata": {},
   "outputs": [
    {
     "data": {
      "text/plain": [
       "array([[ 1.6070013 , -0.13549141,  0.25640709, ..., -0.44941967,\n",
       "        -0.17226828, -0.08006942],\n",
       "       [ 0.28855812, -0.13549141, -0.43790072, ...,  2.22509175,\n",
       "        -0.17226828, -0.08006942],\n",
       "       [-0.74736152, -0.13549141, -0.44676841, ..., -0.44941967,\n",
       "        -0.17226828, -0.08006942],\n",
       "       ...,\n",
       "       [ 2.92544448, -0.13549141,  1.42957051, ..., -0.44941967,\n",
       "        -0.17226828, -0.08006942],\n",
       "       [ 1.51282679, -0.13549141, -0.2280319 , ..., -0.44941967,\n",
       "        -0.17226828, -0.08006942],\n",
       "       [-0.37066347, -0.13549141,  0.52834979, ..., -0.44941967,\n",
       "        -0.17226828, -0.08006942]])"
      ]
     },
     "execution_count": 18,
     "metadata": {},
     "output_type": "execute_result"
    }
   ],
   "source": [
    "X"
   ]
  },
  {
   "cell_type": "code",
   "execution_count": 59,
   "id": "33ab7366",
   "metadata": {},
   "outputs": [
    {
     "data": {
      "text/html": [
       "<div>\n",
       "<style scoped>\n",
       "    .dataframe tbody tr th:only-of-type {\n",
       "        vertical-align: middle;\n",
       "    }\n",
       "\n",
       "    .dataframe tbody tr th {\n",
       "        vertical-align: top;\n",
       "    }\n",
       "\n",
       "    .dataframe thead th {\n",
       "        text-align: right;\n",
       "    }\n",
       "</style>\n",
       "<table border=\"1\" class=\"dataframe\">\n",
       "  <thead>\n",
       "    <tr style=\"text-align: right;\">\n",
       "      <th></th>\n",
       "      <th>Daily_Time_ Spent _on_Site</th>\n",
       "      <th>Age</th>\n",
       "      <th>Area_Income</th>\n",
       "      <th>Daily Internet Usage</th>\n",
       "      <th>City</th>\n",
       "      <th>Male</th>\n",
       "      <th>Country</th>\n",
       "      <th>month</th>\n",
       "      <th>Clicked_Ad</th>\n",
       "    </tr>\n",
       "  </thead>\n",
       "  <tbody>\n",
       "  </tbody>\n",
       "</table>\n",
       "</div>"
      ],
      "text/plain": [
       "Empty DataFrame\n",
       "Columns: [Daily_Time_ Spent _on_Site, Age, Area_Income, Daily Internet Usage, City, Male, Country, month, Clicked_Ad]\n",
       "Index: []"
      ]
     },
     "execution_count": 59,
     "metadata": {},
     "output_type": "execute_result"
    }
   ],
   "source": [
    "data[data.duplicated()]"
   ]
  },
  {
   "cell_type": "code",
   "execution_count": 54,
   "id": "d1c2231c",
   "metadata": {},
   "outputs": [],
   "source": [
    "from sklearn.preprocessing import StandardScaler\n",
    "trans = StandardScaler()\n"
   ]
  },
  {
   "cell_type": "code",
   "execution_count": 63,
   "id": "da52d567",
   "metadata": {},
   "outputs": [],
   "source": [
    "X = trans.fit_transform(data.iloc[:,0:8])\n",
    "y = data.iloc[:,8]"
   ]
  },
  {
   "cell_type": "code",
   "execution_count": 20,
   "id": "5acf0473",
   "metadata": {},
   "outputs": [
    {
     "data": {
      "text/plain": [
       "(45210, 31)"
      ]
     },
     "execution_count": 20,
     "metadata": {},
     "output_type": "execute_result"
    }
   ],
   "source": [
    "X.shape"
   ]
  },
  {
   "cell_type": "code",
   "execution_count": 21,
   "id": "29c8f891",
   "metadata": {},
   "outputs": [
    {
     "data": {
      "text/plain": [
       "(45210,)"
      ]
     },
     "execution_count": 21,
     "metadata": {},
     "output_type": "execute_result"
    }
   ],
   "source": [
    "y.shape"
   ]
  },
  {
   "cell_type": "code",
   "execution_count": 22,
   "id": "7059df61",
   "metadata": {},
   "outputs": [],
   "source": [
    "X_train, X_test, y_train, y_test = train_test_split(X, y, test_size=0.3, random_state=0)"
   ]
  },
  {
   "cell_type": "markdown",
   "id": "36c8c27e",
   "metadata": {},
   "source": [
    "### Random Forest Classifier"
   ]
  },
  {
   "cell_type": "code",
   "execution_count": 23,
   "id": "3cbe150a",
   "metadata": {},
   "outputs": [],
   "source": [
    "from sklearn.metrics import roc_curve\n",
    "from sklearn.metrics import roc_auc_score"
   ]
  },
  {
   "cell_type": "code",
   "execution_count": 24,
   "id": "40c21f46",
   "metadata": {},
   "outputs": [
    {
     "name": "stdout",
     "output_type": "stream",
     "text": [
      "RF train roc-auc: 1.0\n",
      "RF test roc-auc: 0.8831579329991992\n"
     ]
    }
   ],
   "source": [
    "## Apply RandomForestClassifier\n",
    "from sklearn.ensemble import RandomForestClassifier\n",
    "rf_model = RandomForestClassifier()\n",
    "rf_model.fit(X_train, y_train)\n",
    "ytrain_pred = rf_model.predict_proba(X_train)\n",
    "print('RF train roc-auc: {}'.format(roc_auc_score(y_train, ytrain_pred[:,1])))\n",
    "ytest_pred = rf_model.predict_proba(X_test)\n",
    "print('RF test roc-auc: {}'.format(roc_auc_score(y_test, ytest_pred[:,1])))\n"
   ]
  },
  {
   "cell_type": "markdown",
   "id": "6e2983a3",
   "metadata": {},
   "source": [
    "### Logistic Classifier"
   ]
  },
  {
   "cell_type": "code",
   "execution_count": 25,
   "id": "1c1f38af",
   "metadata": {},
   "outputs": [
    {
     "name": "stdout",
     "output_type": "stream",
     "text": [
      "Logistic train roc-auc: 0.894954088359387\n",
      "Logistic test roc-auc: 0.8815653394574392\n"
     ]
    }
   ],
   "source": [
    "from sklearn.linear_model import LogisticRegression\n",
    "log_classifier=LogisticRegression()\n",
    "log_classifier.fit(X_train, y_train)\n",
    "ytrain_pred = log_classifier.predict_proba(X_train)\n",
    "print('Logistic train roc-auc: {}'.format(roc_auc_score(y_train, ytrain_pred[:,1])))\n",
    "ytest_pred = log_classifier.predict_proba(X_test)\n",
    "print('Logistic test roc-auc: {}'.format(roc_auc_score(y_test, ytest_pred[:,1])))\n",
    "y_pred_logistic = log_classifier.decision_function(X_test)"
   ]
  },
  {
   "cell_type": "markdown",
   "id": "863476d2",
   "metadata": {},
   "source": [
    "### Adaboost Classifier"
   ]
  },
  {
   "cell_type": "code",
   "execution_count": 26,
   "id": "93ce027f",
   "metadata": {},
   "outputs": [
    {
     "name": "stdout",
     "output_type": "stream",
     "text": [
      "Adaboost train roc-auc: 0.904898359069419\n",
      "Adaboost test roc-auc: 0.8892879053267064\n"
     ]
    }
   ],
   "source": [
    "from sklearn.ensemble import AdaBoostClassifier\n",
    "ada_classifier=AdaBoostClassifier()\n",
    "ada_classifier.fit(X_train, y_train)\n",
    "ytrain_pred = ada_classifier.predict_proba(X_train)\n",
    "print('Adaboost train roc-auc: {}'.format(roc_auc_score(y_train, ytrain_pred[:,1])))\n",
    "ytest_pred = ada_classifier.predict_proba(X_test)\n",
    "print('Adaboost test roc-auc: {}'.format(roc_auc_score(y_test, ytest_pred[:,1])))\n",
    "y_pred_adaboost = ada_classifier.decision_function(X_test)"
   ]
  },
  {
   "cell_type": "markdown",
   "id": "e69a8663",
   "metadata": {},
   "source": [
    "### KNN Classifier"
   ]
  },
  {
   "cell_type": "code",
   "execution_count": 27,
   "id": "8d4f13ba",
   "metadata": {},
   "outputs": [
    {
     "name": "stdout",
     "output_type": "stream",
     "text": [
      "knn train roc-auc: 0.9490136249249362\n",
      "knn test roc-auc: 0.7886890581467537\n"
     ]
    }
   ],
   "source": [
    "from sklearn.neighbors import KNeighborsClassifier\n",
    "knn_classifier=KNeighborsClassifier()\n",
    "knn_classifier.fit(X_train, y_train)\n",
    "ytrain_pred = knn_classifier.predict_proba(X_train)\n",
    "print('knn train roc-auc: {}'.format(roc_auc_score(y_train, ytrain_pred[:,1])))\n",
    "ytest_pred = knn_classifier.predict_proba(X_test)\n",
    "print('knn test roc-auc: {}'.format(roc_auc_score(y_test, ytest_pred[:,1])))"
   ]
  },
  {
   "cell_type": "markdown",
   "id": "8f530bfb",
   "metadata": {},
   "source": [
    "### SVM Classifier"
   ]
  },
  {
   "cell_type": "code",
   "execution_count": 28,
   "id": "04613e19",
   "metadata": {},
   "outputs": [
    {
     "name": "stdout",
     "output_type": "stream",
     "text": [
      "svm train roc-auc: 0.888010309113299\n",
      "svm test roc-auc: 0.8315006691921106\n"
     ]
    }
   ],
   "source": [
    "from sklearn.svm import SVC\n",
    "model_SVC=SVC(kernel = 'rbf', random_state = 4,probability=True)\n",
    "model_SVC.fit(X_train, y_train)\n",
    "ytrain_pred = model_SVC.predict_proba(X_train)\n",
    "print('svm train roc-auc: {}'.format(roc_auc_score(y_train, ytrain_pred[:,1])))\n",
    "ytest_pred = model_SVC.predict_proba(X_test)\n",
    "print('svm test roc-auc: {}'.format(roc_auc_score(y_test, ytest_pred[:,1])))\n",
    "y_pred_svm = model_SVC.decision_function(X_test)"
   ]
  },
  {
   "cell_type": "markdown",
   "id": "7396f023",
   "metadata": {},
   "source": [
    "### Ensemble"
   ]
  },
  {
   "cell_type": "code",
   "execution_count": 29,
   "id": "3b436911",
   "metadata": {},
   "outputs": [
    {
     "name": "stdout",
     "output_type": "stream",
     "text": [
      "Ensemble test roc-auc: 0.8842946181682391\n"
     ]
    }
   ],
   "source": [
    "pred=[]\n",
    "for model in [log_classifier,ada_classifier]:\n",
    "    pred.append(pd.Series(model.predict_proba(X_test)[:,1]))\n",
    "final_prediction=pd.concat(pred,axis=1).mean(axis=1)\n",
    "print('Ensemble test roc-auc: {}'.format(roc_auc_score(y_test,final_prediction)))"
   ]
  },
  {
   "cell_type": "markdown",
   "id": "0431ae6f",
   "metadata": {},
   "source": [
    "### Get the optimum threshold and plot ROC curve"
   ]
  },
  {
   "cell_type": "code",
   "execution_count": 30,
   "id": "f096fe8a",
   "metadata": {},
   "outputs": [
    {
     "data": {
      "text/plain": [
       "array([1.7611308 , 0.7611308 , 0.75733813, ..., 0.23033132, 0.23031062,\n",
       "       0.22415474])"
      ]
     },
     "execution_count": 30,
     "metadata": {},
     "output_type": "execute_result"
    }
   ],
   "source": [
    "fpr, tpr, thresholds = roc_curve(y_test, final_prediction)\n",
    "thresholds"
   ]
  },
  {
   "cell_type": "code",
   "execution_count": 31,
   "id": "e88c18b7",
   "metadata": {},
   "outputs": [
    {
     "data": {
      "text/html": [
       "<div>\n",
       "<style scoped>\n",
       "    .dataframe tbody tr th:only-of-type {\n",
       "        vertical-align: middle;\n",
       "    }\n",
       "\n",
       "    .dataframe tbody tr th {\n",
       "        vertical-align: top;\n",
       "    }\n",
       "\n",
       "    .dataframe thead th {\n",
       "        text-align: right;\n",
       "    }\n",
       "</style>\n",
       "<table border=\"1\" class=\"dataframe\">\n",
       "  <thead>\n",
       "    <tr style=\"text-align: right;\">\n",
       "      <th></th>\n",
       "      <th>thresholds</th>\n",
       "      <th>accuracy</th>\n",
       "    </tr>\n",
       "  </thead>\n",
       "  <tbody>\n",
       "    <tr>\n",
       "      <th>379</th>\n",
       "      <td>0.520025</td>\n",
       "      <td>0.895967</td>\n",
       "    </tr>\n",
       "    <tr>\n",
       "      <th>376</th>\n",
       "      <td>0.521807</td>\n",
       "      <td>0.895893</td>\n",
       "    </tr>\n",
       "    <tr>\n",
       "      <th>377</th>\n",
       "      <td>0.520903</td>\n",
       "      <td>0.895893</td>\n",
       "    </tr>\n",
       "    <tr>\n",
       "      <th>380</th>\n",
       "      <td>0.519253</td>\n",
       "      <td>0.895893</td>\n",
       "    </tr>\n",
       "    <tr>\n",
       "      <th>378</th>\n",
       "      <td>0.520285</td>\n",
       "      <td>0.895893</td>\n",
       "    </tr>\n",
       "  </tbody>\n",
       "</table>\n",
       "</div>"
      ],
      "text/plain": [
       "     thresholds  accuracy\n",
       "379    0.520025  0.895967\n",
       "376    0.521807  0.895893\n",
       "377    0.520903  0.895893\n",
       "380    0.519253  0.895893\n",
       "378    0.520285  0.895893"
      ]
     },
     "execution_count": 31,
     "metadata": {},
     "output_type": "execute_result"
    }
   ],
   "source": [
    "from sklearn.metrics import accuracy_score\n",
    "accuracy_ls = []\n",
    "for thres in thresholds:\n",
    "    y_pred = np.where(final_prediction>thres,1,0)\n",
    "    accuracy_ls.append(accuracy_score(y_test, y_pred, normalize=True))\n",
    "    \n",
    "accuracy_ls = pd.concat([pd.Series(thresholds), pd.Series(accuracy_ls)],\n",
    "                        axis=1)\n",
    "accuracy_ls.columns = ['thresholds', 'accuracy']\n",
    "accuracy_ls.sort_values(by='accuracy', ascending=False, inplace=True)\n",
    "accuracy_ls.head()"
   ]
  },
  {
   "cell_type": "markdown",
   "id": "f76316af",
   "metadata": {},
   "source": [
    "We choose the threshold 0.52 with accuracy of 0.895"
   ]
  },
  {
   "cell_type": "code",
   "execution_count": 32,
   "id": "60b60459",
   "metadata": {},
   "outputs": [
    {
     "name": "stdout",
     "output_type": "stream",
     "text": [
      "F1 Score: 0.21081794195250658\n"
     ]
    }
   ],
   "source": [
    "from sklearn.metrics import f1_score\n",
    "print(\"F1 Score: {}\".format(f1_score(y_test,y_pred)))"
   ]
  },
  {
   "cell_type": "code",
   "execution_count": 33,
   "id": "93be8141",
   "metadata": {},
   "outputs": [],
   "source": [
    "def plot_roc_curve(fpr, tpr):\n",
    "    plt.plot(fpr, tpr, color='orange', label=' ROC ensemble (auc = %0.3f)')\n",
    "    plt.plot([0, 1], [0, 1], color='darkblue', linestyle='--')\n",
    "    plt.xlabel('False Positive Rate')\n",
    "    plt.ylabel('True Positive Rate')\n",
    "    plt.title('Receiver Operating Characteristic (ROC) Curve')\n",
    "    plt.legend()\n",
    "    plt.show()"
   ]
  },
  {
   "cell_type": "code",
   "execution_count": 34,
   "id": "baf281e6",
   "metadata": {},
   "outputs": [
    {
     "data": {
      "image/png": "[encoded data removed]",
      "text/plain": [
       "<Figure size 432x288 with 1 Axes>"
      ]
     },
     "metadata": {
      "needs_background": "light"
     },
     "output_type": "display_data"
    }
   ],
   "source": [
    "plot_roc_curve(fpr,tpr)"
   ]
  }
 ],
 "metadata": {
  "kernelspec": {
   "display_name": "Python 3 (ipykernel)",
   "language": "python",
   "name": "python3"
  },
  "language_info": {
   "codemirror_mode": {
    "name": "ipython",
    "version": 3
   },
   "file_extension": ".py",
   "mimetype": "text/x-python",
   "name": "python",
   "nbconvert_exporter": "python",
   "pygments_lexer": "ipython3",
   "version": "3.9.5"
  },
  "toc": {
   "base_numbering": 1,
   "nav_menu": {},
   "number_sections": true,
   "sideBar": true,
   "skip_h1_title": false,
   "title_cell": "Table of Contents",
   "title_sidebar": "Contents",
   "toc_cell": false,
   "toc_position": {
    "height": "calc(100% - 180px)",
    "left": "10px",
    "top": "150px",
    "width": "165px"
   },
   "toc_section_display": true,
   "toc_window_display": true
  },
  "varInspector": {
   "cols": {
    "lenName": 16,
    "lenType": 16,
    "lenVar": 40
   },
   "kernels_config": {
    "python": {
     "delete_cmd_postfix": "",
     "delete_cmd_prefix": "del ",
     "library": "var_list.py",
     "varRefreshCmd": "print(var_dic_list())"
    },
    "r": {
     "delete_cmd_postfix": ") ",
     "delete_cmd_prefix": "rm(",
     "library": "var_list.r",
     "varRefreshCmd": "cat(var_dic_list()) "
    }
   },
   "types_to_exclude": [
    "module",
    "function",
    "builtin_function_or_method",
    "instance",
    "_Feature"
   ],
   "window_display": false
  }
 },
 "nbformat": 4,
 "nbformat_minor": 5
}
