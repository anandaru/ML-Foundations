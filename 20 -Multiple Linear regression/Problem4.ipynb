{
 "cells": [
  {
   "cell_type": "markdown",
   "id": "6a664308",
   "metadata": {},
   "source": [
    "## Problem4"
   ]
  },
  {
   "cell_type": "markdown",
   "id": "ddff265b",
   "metadata": {},
   "source": [
    "With the growing consumption of avocados in the USA, a freelance company would like to do some analysis on the patterns of consumption in different cities and would like to come up with a prediction model for the price of avocados. For this to be implemented, build a prediction model using multilinear regression and provide your insights on it."
   ]
  },
  {
   "cell_type": "code",
   "execution_count": 1,
   "id": "dd5a9f0c",
   "metadata": {},
   "outputs": [],
   "source": [
    "import pandas as pd\n",
    "import numpy as np\n",
    "from sklearn.preprocessing import LabelEncoder\n",
    "\n",
    "data = pd.read_csv('Avacado_Price.csv',encoding='unicode_escape')"
   ]
  },
  {
   "cell_type": "code",
   "execution_count": 2,
   "id": "c2fefa3b",
   "metadata": {},
   "outputs": [
    {
     "data": {
      "text/plain": [
       "(18249, 12)"
      ]
     },
     "execution_count": 2,
     "metadata": {},
     "output_type": "execute_result"
    }
   ],
   "source": [
    "data.shape"
   ]
  },
  {
   "cell_type": "markdown",
   "id": "bea94c9a",
   "metadata": {},
   "source": [
    "### Null values imputation"
   ]
  },
  {
   "cell_type": "code",
   "execution_count": 3,
   "id": "2a51ce1f",
   "metadata": {},
   "outputs": [
    {
     "data": {
      "text/plain": [
       "0"
      ]
     },
     "execution_count": 3,
     "metadata": {},
     "output_type": "execute_result"
    }
   ],
   "source": [
    "data.isnull().sum().sum()"
   ]
  },
  {
   "cell_type": "markdown",
   "id": "e307a1ad",
   "metadata": {},
   "source": [
    "We observe that Actual_Shipment_Time, Shipment_Delay and Delivery_Status are null for the same set of rows. Remaining null values (406) are in Planned_TimeofTravel. We can drop these 82008 rows."
   ]
  },
  {
   "cell_type": "code",
   "execution_count": 187,
   "id": "9c57a1b9",
   "metadata": {},
   "outputs": [],
   "source": [
    "#Drop null valued rows\n",
    "#data.dropna(inplace=True)"
   ]
  },
  {
   "cell_type": "code",
   "execution_count": 4,
   "id": "8af90837",
   "metadata": {},
   "outputs": [
    {
     "data": {
      "text/plain": [
       "(18249, 12)"
      ]
     },
     "execution_count": 4,
     "metadata": {},
     "output_type": "execute_result"
    }
   ],
   "source": [
    "data.shape"
   ]
  },
  {
   "cell_type": "code",
   "execution_count": 5,
   "id": "3a20e55b",
   "metadata": {},
   "outputs": [
    {
     "data": {
      "text/plain": [
       "0"
      ]
     },
     "execution_count": 5,
     "metadata": {},
     "output_type": "execute_result"
    }
   ],
   "source": [
    "data.isnull().sum().sum()"
   ]
  },
  {
   "cell_type": "code",
   "execution_count": 6,
   "id": "64c10d1b",
   "metadata": {},
   "outputs": [
    {
     "data": {
      "text/html": [
       "<div>\n",
       "<style scoped>\n",
       "    .dataframe tbody tr th:only-of-type {\n",
       "        vertical-align: middle;\n",
       "    }\n",
       "\n",
       "    .dataframe tbody tr th {\n",
       "        vertical-align: top;\n",
       "    }\n",
       "\n",
       "    .dataframe thead th {\n",
       "        text-align: right;\n",
       "    }\n",
       "</style>\n",
       "<table border=\"1\" class=\"dataframe\">\n",
       "  <thead>\n",
       "    <tr style=\"text-align: right;\">\n",
       "      <th></th>\n",
       "      <th>AveragePrice</th>\n",
       "      <th>Total_Volume</th>\n",
       "      <th>tot_ava1</th>\n",
       "      <th>tot_ava2</th>\n",
       "      <th>tot_ava3</th>\n",
       "      <th>Total_Bags</th>\n",
       "      <th>Small_Bags</th>\n",
       "      <th>Large_Bags</th>\n",
       "      <th>XLarge Bags</th>\n",
       "      <th>type</th>\n",
       "      <th>year</th>\n",
       "      <th>region</th>\n",
       "    </tr>\n",
       "  </thead>\n",
       "  <tbody>\n",
       "    <tr>\n",
       "      <th>0</th>\n",
       "      <td>1.33</td>\n",
       "      <td>64236.62</td>\n",
       "      <td>1036.74</td>\n",
       "      <td>54454.85</td>\n",
       "      <td>48.16</td>\n",
       "      <td>8696.87</td>\n",
       "      <td>8603.62</td>\n",
       "      <td>93.25</td>\n",
       "      <td>0.0</td>\n",
       "      <td>conventional</td>\n",
       "      <td>2015</td>\n",
       "      <td>Albany</td>\n",
       "    </tr>\n",
       "    <tr>\n",
       "      <th>1</th>\n",
       "      <td>1.35</td>\n",
       "      <td>54876.98</td>\n",
       "      <td>674.28</td>\n",
       "      <td>44638.81</td>\n",
       "      <td>58.33</td>\n",
       "      <td>9505.56</td>\n",
       "      <td>9408.07</td>\n",
       "      <td>97.49</td>\n",
       "      <td>0.0</td>\n",
       "      <td>conventional</td>\n",
       "      <td>2015</td>\n",
       "      <td>Albany</td>\n",
       "    </tr>\n",
       "    <tr>\n",
       "      <th>2</th>\n",
       "      <td>0.93</td>\n",
       "      <td>118220.22</td>\n",
       "      <td>794.70</td>\n",
       "      <td>109149.67</td>\n",
       "      <td>130.50</td>\n",
       "      <td>8145.35</td>\n",
       "      <td>8042.21</td>\n",
       "      <td>103.14</td>\n",
       "      <td>0.0</td>\n",
       "      <td>conventional</td>\n",
       "      <td>2015</td>\n",
       "      <td>Albany</td>\n",
       "    </tr>\n",
       "    <tr>\n",
       "      <th>3</th>\n",
       "      <td>1.08</td>\n",
       "      <td>78992.15</td>\n",
       "      <td>1132.00</td>\n",
       "      <td>71976.41</td>\n",
       "      <td>72.58</td>\n",
       "      <td>5811.16</td>\n",
       "      <td>5677.40</td>\n",
       "      <td>133.76</td>\n",
       "      <td>0.0</td>\n",
       "      <td>conventional</td>\n",
       "      <td>2015</td>\n",
       "      <td>Albany</td>\n",
       "    </tr>\n",
       "    <tr>\n",
       "      <th>4</th>\n",
       "      <td>1.28</td>\n",
       "      <td>51039.60</td>\n",
       "      <td>941.48</td>\n",
       "      <td>43838.39</td>\n",
       "      <td>75.78</td>\n",
       "      <td>6183.95</td>\n",
       "      <td>5986.26</td>\n",
       "      <td>197.69</td>\n",
       "      <td>0.0</td>\n",
       "      <td>conventional</td>\n",
       "      <td>2015</td>\n",
       "      <td>Albany</td>\n",
       "    </tr>\n",
       "  </tbody>\n",
       "</table>\n",
       "</div>"
      ],
      "text/plain": [
       "   AveragePrice  Total_Volume  tot_ava1   tot_ava2  tot_ava3  Total_Bags  \\\n",
       "0          1.33      64236.62   1036.74   54454.85     48.16     8696.87   \n",
       "1          1.35      54876.98    674.28   44638.81     58.33     9505.56   \n",
       "2          0.93     118220.22    794.70  109149.67    130.50     8145.35   \n",
       "3          1.08      78992.15   1132.00   71976.41     72.58     5811.16   \n",
       "4          1.28      51039.60    941.48   43838.39     75.78     6183.95   \n",
       "\n",
       "   Small_Bags  Large_Bags  XLarge Bags          type  year  region  \n",
       "0     8603.62       93.25          0.0  conventional  2015  Albany  \n",
       "1     9408.07       97.49          0.0  conventional  2015  Albany  \n",
       "2     8042.21      103.14          0.0  conventional  2015  Albany  \n",
       "3     5677.40      133.76          0.0  conventional  2015  Albany  \n",
       "4     5986.26      197.69          0.0  conventional  2015  Albany  "
      ]
     },
     "execution_count": 6,
     "metadata": {},
     "output_type": "execute_result"
    }
   ],
   "source": [
    "data.head()"
   ]
  },
  {
   "cell_type": "code",
   "execution_count": 7,
   "id": "83ea04a9",
   "metadata": {},
   "outputs": [
    {
     "data": {
      "text/plain": [
       "Index(['AveragePrice', 'Total_Volume', 'tot_ava1', 'tot_ava2', 'tot_ava3',\n",
       "       'Total_Bags', 'Small_Bags', 'Large_Bags', 'XLarge Bags', 'type', 'year',\n",
       "       'region'],\n",
       "      dtype='object')"
      ]
     },
     "execution_count": 7,
     "metadata": {},
     "output_type": "execute_result"
    }
   ],
   "source": [
    "data.columns"
   ]
  },
  {
   "cell_type": "code",
   "execution_count": 192,
   "id": "8a3df833",
   "metadata": {},
   "outputs": [],
   "source": [
    "#data.drop(['Id'],axis=1,inplace=True)"
   ]
  },
  {
   "cell_type": "markdown",
   "id": "8a46ff07",
   "metadata": {},
   "source": [
    "### EDA"
   ]
  },
  {
   "cell_type": "code",
   "execution_count": 8,
   "id": "71a31a59",
   "metadata": {},
   "outputs": [
    {
     "data": {
      "text/plain": [
       "conventional    9126\n",
       "organic         9123\n",
       "Name: type, dtype: int64"
      ]
     },
     "execution_count": 8,
     "metadata": {},
     "output_type": "execute_result"
    }
   ],
   "source": [
    "data.type.value_counts()"
   ]
  },
  {
   "cell_type": "code",
   "execution_count": 9,
   "id": "ff18106a",
   "metadata": {},
   "outputs": [
    {
     "data": {
      "text/plain": [
       "2017    5722\n",
       "2016    5616\n",
       "2015    5615\n",
       "2018    1296\n",
       "Name: year, dtype: int64"
      ]
     },
     "execution_count": 9,
     "metadata": {},
     "output_type": "execute_result"
    }
   ],
   "source": [
    "data.year.value_counts()"
   ]
  },
  {
   "cell_type": "code",
   "execution_count": 10,
   "id": "f05efac0",
   "metadata": {},
   "outputs": [
    {
     "data": {
      "text/plain": [
       "Albany                 338\n",
       "Sacramento             338\n",
       "Northeast              338\n",
       "NorthernNewEngland     338\n",
       "Orlando                338\n",
       "Philadelphia           338\n",
       "PhoenixTucson          338\n",
       "Pittsburgh             338\n",
       "Plains                 338\n",
       "Portland               338\n",
       "RaleighGreensboro      338\n",
       "RichmondNorfolk        338\n",
       "Roanoke                338\n",
       "SanDiego               338\n",
       "Atlanta                338\n",
       "SanFrancisco           338\n",
       "Seattle                338\n",
       "SouthCarolina          338\n",
       "SouthCentral           338\n",
       "Southeast              338\n",
       "Spokane                338\n",
       "StLouis                338\n",
       "Syracuse               338\n",
       "Tampa                  338\n",
       "TotalUS                338\n",
       "West                   338\n",
       "NewYork                338\n",
       "NewOrleansMobile       338\n",
       "Nashville              338\n",
       "Midsouth               338\n",
       "BaltimoreWashington    338\n",
       "Boise                  338\n",
       "Boston                 338\n",
       "BuffaloRochester       338\n",
       "California             338\n",
       "Charlotte              338\n",
       "Chicago                338\n",
       "CincinnatiDayton       338\n",
       "Columbus               338\n",
       "DallasFtWorth          338\n",
       "Denver                 338\n",
       "Detroit                338\n",
       "GrandRapids            338\n",
       "GreatLakes             338\n",
       "HarrisburgScranton     338\n",
       "HartfordSpringfield    338\n",
       "Houston                338\n",
       "Indianapolis           338\n",
       "Jacksonville           338\n",
       "LasVegas               338\n",
       "LosAngeles             338\n",
       "Louisville             338\n",
       "MiamiFtLauderdale      338\n",
       "WestTexNewMexico       335\n",
       "Name: region, dtype: int64"
      ]
     },
     "execution_count": 10,
     "metadata": {},
     "output_type": "execute_result"
    }
   ],
   "source": [
    "data.region.value_counts()"
   ]
  },
  {
   "cell_type": "code",
   "execution_count": 11,
   "id": "fd50be98",
   "metadata": {},
   "outputs": [
    {
     "data": {
      "text/plain": [
       "0.00       12048\n",
       "3.33          29\n",
       "6.67          16\n",
       "1.11          15\n",
       "5.00          12\n",
       "           ...  \n",
       "3018.05        1\n",
       "2739.44        1\n",
       "9301.67        1\n",
       "8640.00        1\n",
       "24.18          1\n",
       "Name: XLarge Bags, Length: 5588, dtype: int64"
      ]
     },
     "execution_count": 11,
     "metadata": {},
     "output_type": "execute_result"
    }
   ],
   "source": [
    "data['XLarge Bags'].value_counts()"
   ]
  },
  {
   "cell_type": "code",
   "execution_count": 12,
   "id": "e276f125",
   "metadata": {},
   "outputs": [
    {
     "name": "stderr",
     "output_type": "stream",
     "text": [
      "C:\\Users\\AANAND~1.ORA\\AppData\\Local\\Temp/ipykernel_9772/445316826.py:1: FutureWarning: Dropping of nuisance columns in DataFrame reductions (with 'numeric_only=None') is deprecated; in a future version this will raise TypeError.  Select only valid columns before calling the reduction.\n",
      "  data.var()\n"
     ]
    },
    {
     "data": {
      "text/plain": [
       "AveragePrice    1.621484e-01\n",
       "Total_Volume    1.192698e+13\n",
       "tot_ava1        1.600197e+12\n",
       "tot_ava2        1.449906e+12\n",
       "tot_ava3        1.154853e+10\n",
       "Total_Bags      9.726741e+11\n",
       "Small_Bags      5.567824e+11\n",
       "Large_Bags      5.951939e+10\n",
       "XLarge Bags     3.130385e+08\n",
       "year            8.834843e-01\n",
       "dtype: float64"
      ]
     },
     "execution_count": 12,
     "metadata": {},
     "output_type": "execute_result"
    }
   ],
   "source": [
    "data.var()"
   ]
  },
  {
   "cell_type": "code",
   "execution_count": 13,
   "id": "bc920b3d",
   "metadata": {},
   "outputs": [
    {
     "data": {
      "text/plain": [
       "AveragePrice    float64\n",
       "Total_Volume    float64\n",
       "tot_ava1        float64\n",
       "tot_ava2        float64\n",
       "tot_ava3        float64\n",
       "Total_Bags      float64\n",
       "Small_Bags      float64\n",
       "Large_Bags      float64\n",
       "XLarge Bags     float64\n",
       "type             object\n",
       "year              int64\n",
       "region           object\n",
       "dtype: object"
      ]
     },
     "execution_count": 13,
     "metadata": {},
     "output_type": "execute_result"
    }
   ],
   "source": [
    "data.dtypes"
   ]
  },
  {
   "cell_type": "code",
   "execution_count": 14,
   "id": "88e755aa",
   "metadata": {},
   "outputs": [
    {
     "data": {
      "text/html": [
       "<div>\n",
       "<style scoped>\n",
       "    .dataframe tbody tr th:only-of-type {\n",
       "        vertical-align: middle;\n",
       "    }\n",
       "\n",
       "    .dataframe tbody tr th {\n",
       "        vertical-align: top;\n",
       "    }\n",
       "\n",
       "    .dataframe thead th {\n",
       "        text-align: right;\n",
       "    }\n",
       "</style>\n",
       "<table border=\"1\" class=\"dataframe\">\n",
       "  <thead>\n",
       "    <tr style=\"text-align: right;\">\n",
       "      <th></th>\n",
       "      <th>AveragePrice</th>\n",
       "      <th>Total_Volume</th>\n",
       "      <th>tot_ava1</th>\n",
       "      <th>tot_ava2</th>\n",
       "      <th>tot_ava3</th>\n",
       "      <th>Total_Bags</th>\n",
       "      <th>Small_Bags</th>\n",
       "      <th>Large_Bags</th>\n",
       "      <th>XLarge Bags</th>\n",
       "      <th>year</th>\n",
       "    </tr>\n",
       "  </thead>\n",
       "  <tbody>\n",
       "    <tr>\n",
       "      <th>AveragePrice</th>\n",
       "      <td>1.000000</td>\n",
       "      <td>-0.192752</td>\n",
       "      <td>-0.208317</td>\n",
       "      <td>-0.172928</td>\n",
       "      <td>-0.179446</td>\n",
       "      <td>-0.177088</td>\n",
       "      <td>-0.174730</td>\n",
       "      <td>-0.172940</td>\n",
       "      <td>-0.117592</td>\n",
       "      <td>0.093197</td>\n",
       "    </tr>\n",
       "    <tr>\n",
       "      <th>Total_Volume</th>\n",
       "      <td>-0.192752</td>\n",
       "      <td>1.000000</td>\n",
       "      <td>0.977863</td>\n",
       "      <td>0.974181</td>\n",
       "      <td>0.872202</td>\n",
       "      <td>0.963047</td>\n",
       "      <td>0.967238</td>\n",
       "      <td>0.880640</td>\n",
       "      <td>0.747157</td>\n",
       "      <td>0.017193</td>\n",
       "    </tr>\n",
       "    <tr>\n",
       "      <th>tot_ava1</th>\n",
       "      <td>-0.208317</td>\n",
       "      <td>0.977863</td>\n",
       "      <td>1.000000</td>\n",
       "      <td>0.926110</td>\n",
       "      <td>0.833389</td>\n",
       "      <td>0.920057</td>\n",
       "      <td>0.925280</td>\n",
       "      <td>0.838645</td>\n",
       "      <td>0.699377</td>\n",
       "      <td>0.003353</td>\n",
       "    </tr>\n",
       "    <tr>\n",
       "      <th>tot_ava2</th>\n",
       "      <td>-0.172928</td>\n",
       "      <td>0.974181</td>\n",
       "      <td>0.926110</td>\n",
       "      <td>1.000000</td>\n",
       "      <td>0.887855</td>\n",
       "      <td>0.905787</td>\n",
       "      <td>0.916031</td>\n",
       "      <td>0.810015</td>\n",
       "      <td>0.688809</td>\n",
       "      <td>-0.009559</td>\n",
       "    </tr>\n",
       "    <tr>\n",
       "      <th>tot_ava3</th>\n",
       "      <td>-0.179446</td>\n",
       "      <td>0.872202</td>\n",
       "      <td>0.833389</td>\n",
       "      <td>0.887855</td>\n",
       "      <td>1.000000</td>\n",
       "      <td>0.792314</td>\n",
       "      <td>0.802733</td>\n",
       "      <td>0.698471</td>\n",
       "      <td>0.679861</td>\n",
       "      <td>-0.036531</td>\n",
       "    </tr>\n",
       "    <tr>\n",
       "      <th>Total_Bags</th>\n",
       "      <td>-0.177088</td>\n",
       "      <td>0.963047</td>\n",
       "      <td>0.920057</td>\n",
       "      <td>0.905787</td>\n",
       "      <td>0.792314</td>\n",
       "      <td>1.000000</td>\n",
       "      <td>0.994335</td>\n",
       "      <td>0.943009</td>\n",
       "      <td>0.804233</td>\n",
       "      <td>0.071552</td>\n",
       "    </tr>\n",
       "    <tr>\n",
       "      <th>Small_Bags</th>\n",
       "      <td>-0.174730</td>\n",
       "      <td>0.967238</td>\n",
       "      <td>0.925280</td>\n",
       "      <td>0.916031</td>\n",
       "      <td>0.802733</td>\n",
       "      <td>0.994335</td>\n",
       "      <td>1.000000</td>\n",
       "      <td>0.902589</td>\n",
       "      <td>0.806845</td>\n",
       "      <td>0.063915</td>\n",
       "    </tr>\n",
       "    <tr>\n",
       "      <th>Large_Bags</th>\n",
       "      <td>-0.172940</td>\n",
       "      <td>0.880640</td>\n",
       "      <td>0.838645</td>\n",
       "      <td>0.810015</td>\n",
       "      <td>0.698471</td>\n",
       "      <td>0.943009</td>\n",
       "      <td>0.902589</td>\n",
       "      <td>1.000000</td>\n",
       "      <td>0.710858</td>\n",
       "      <td>0.087891</td>\n",
       "    </tr>\n",
       "    <tr>\n",
       "      <th>XLarge Bags</th>\n",
       "      <td>-0.117592</td>\n",
       "      <td>0.747157</td>\n",
       "      <td>0.699377</td>\n",
       "      <td>0.688809</td>\n",
       "      <td>0.679861</td>\n",
       "      <td>0.804233</td>\n",
       "      <td>0.806845</td>\n",
       "      <td>0.710858</td>\n",
       "      <td>1.000000</td>\n",
       "      <td>0.081033</td>\n",
       "    </tr>\n",
       "    <tr>\n",
       "      <th>year</th>\n",
       "      <td>0.093197</td>\n",
       "      <td>0.017193</td>\n",
       "      <td>0.003353</td>\n",
       "      <td>-0.009559</td>\n",
       "      <td>-0.036531</td>\n",
       "      <td>0.071552</td>\n",
       "      <td>0.063915</td>\n",
       "      <td>0.087891</td>\n",
       "      <td>0.081033</td>\n",
       "      <td>1.000000</td>\n",
       "    </tr>\n",
       "  </tbody>\n",
       "</table>\n",
       "</div>"
      ],
      "text/plain": [
       "              AveragePrice  Total_Volume  tot_ava1  tot_ava2  tot_ava3  \\\n",
       "AveragePrice      1.000000     -0.192752 -0.208317 -0.172928 -0.179446   \n",
       "Total_Volume     -0.192752      1.000000  0.977863  0.974181  0.872202   \n",
       "tot_ava1         -0.208317      0.977863  1.000000  0.926110  0.833389   \n",
       "tot_ava2         -0.172928      0.974181  0.926110  1.000000  0.887855   \n",
       "tot_ava3         -0.179446      0.872202  0.833389  0.887855  1.000000   \n",
       "Total_Bags       -0.177088      0.963047  0.920057  0.905787  0.792314   \n",
       "Small_Bags       -0.174730      0.967238  0.925280  0.916031  0.802733   \n",
       "Large_Bags       -0.172940      0.880640  0.838645  0.810015  0.698471   \n",
       "XLarge Bags      -0.117592      0.747157  0.699377  0.688809  0.679861   \n",
       "year              0.093197      0.017193  0.003353 -0.009559 -0.036531   \n",
       "\n",
       "              Total_Bags  Small_Bags  Large_Bags  XLarge Bags      year  \n",
       "AveragePrice   -0.177088   -0.174730   -0.172940    -0.117592  0.093197  \n",
       "Total_Volume    0.963047    0.967238    0.880640     0.747157  0.017193  \n",
       "tot_ava1        0.920057    0.925280    0.838645     0.699377  0.003353  \n",
       "tot_ava2        0.905787    0.916031    0.810015     0.688809 -0.009559  \n",
       "tot_ava3        0.792314    0.802733    0.698471     0.679861 -0.036531  \n",
       "Total_Bags      1.000000    0.994335    0.943009     0.804233  0.071552  \n",
       "Small_Bags      0.994335    1.000000    0.902589     0.806845  0.063915  \n",
       "Large_Bags      0.943009    0.902589    1.000000     0.710858  0.087891  \n",
       "XLarge Bags     0.804233    0.806845    0.710858     1.000000  0.081033  \n",
       "year            0.071552    0.063915    0.087891     0.081033  1.000000  "
      ]
     },
     "execution_count": 14,
     "metadata": {},
     "output_type": "execute_result"
    }
   ],
   "source": [
    "data.corr()"
   ]
  },
  {
   "cell_type": "code",
   "execution_count": 16,
   "id": "2426b616",
   "metadata": {},
   "outputs": [],
   "source": [
    "data.drop(['Total_Volume'],axis=1,inplace=True) #drop zero variance column"
   ]
  },
  {
   "cell_type": "code",
   "execution_count": 17,
   "id": "0ea5f645",
   "metadata": {},
   "outputs": [
    {
     "data": {
      "text/plain": [
       "<AxesSubplot:>"
      ]
     },
     "execution_count": 17,
     "metadata": {},
     "output_type": "execute_result"
    },
    {
     "data": {
      "image/png": "[encoded data removed]",
      "text/plain": [
       "<Figure size 432x288 with 2 Axes>"
      ]
     },
     "metadata": {},
     "output_type": "display_data"
    }
   ],
   "source": [
    "import seaborn as sns\n",
    "sns.set()\n",
    "sns.heatmap(data.corr())"
   ]
  },
  {
   "cell_type": "code",
   "execution_count": 18,
   "id": "42e34807",
   "metadata": {
    "id": "AtWtsnOkGdGq"
   },
   "outputs": [],
   "source": [
    "import matplotlib.pyplot as plt"
   ]
  },
  {
   "cell_type": "markdown",
   "id": "6b20dea6",
   "metadata": {
    "id": "L0faGgMlvXcA"
   },
   "source": [
    "#### Label Encode"
   ]
  },
  {
   "cell_type": "code",
   "execution_count": 19,
   "id": "04f1edef",
   "metadata": {},
   "outputs": [],
   "source": [
    "# Label encode Class variable\n",
    "from sklearn.preprocessing import LabelEncoder\n",
    "encoder = LabelEncoder()\n",
    "data['type'] = encoder.fit_transform(data['type'])\n",
    "data['region'] = encoder.fit_transform(data['region'])"
   ]
  },
  {
   "cell_type": "code",
   "execution_count": null,
   "id": "97343731",
   "metadata": {},
   "outputs": [],
   "source": []
  },
  {
   "cell_type": "code",
   "execution_count": 20,
   "id": "64d39a6c",
   "metadata": {},
   "outputs": [
    {
     "name": "stdout",
     "output_type": "stream",
     "text": [
      "<class 'pandas.core.frame.DataFrame'>\n",
      "RangeIndex: 18249 entries, 0 to 18248\n",
      "Data columns (total 11 columns):\n",
      " #   Column        Non-Null Count  Dtype  \n",
      "---  ------        --------------  -----  \n",
      " 0   AveragePrice  18249 non-null  float64\n",
      " 1   tot_ava1      18249 non-null  float64\n",
      " 2   tot_ava2      18249 non-null  float64\n",
      " 3   tot_ava3      18249 non-null  float64\n",
      " 4   Total_Bags    18249 non-null  float64\n",
      " 5   Small_Bags    18249 non-null  float64\n",
      " 6   Large_Bags    18249 non-null  float64\n",
      " 7   XLarge Bags   18249 non-null  float64\n",
      " 8   type          18249 non-null  int32  \n",
      " 9   year          18249 non-null  int64  \n",
      " 10  region        18249 non-null  int32  \n",
      "dtypes: float64(8), int32(2), int64(1)\n",
      "memory usage: 1.4 MB\n"
     ]
    }
   ],
   "source": [
    "data.info()\n"
   ]
  },
  {
   "cell_type": "code",
   "execution_count": 21,
   "id": "d742adcf",
   "metadata": {},
   "outputs": [
    {
     "data": {
      "text/html": [
       "<div>\n",
       "<style scoped>\n",
       "    .dataframe tbody tr th:only-of-type {\n",
       "        vertical-align: middle;\n",
       "    }\n",
       "\n",
       "    .dataframe tbody tr th {\n",
       "        vertical-align: top;\n",
       "    }\n",
       "\n",
       "    .dataframe thead th {\n",
       "        text-align: right;\n",
       "    }\n",
       "</style>\n",
       "<table border=\"1\" class=\"dataframe\">\n",
       "  <thead>\n",
       "    <tr style=\"text-align: right;\">\n",
       "      <th></th>\n",
       "      <th>AveragePrice</th>\n",
       "      <th>tot_ava1</th>\n",
       "      <th>tot_ava2</th>\n",
       "      <th>tot_ava3</th>\n",
       "      <th>Total_Bags</th>\n",
       "      <th>Small_Bags</th>\n",
       "      <th>Large_Bags</th>\n",
       "      <th>XLarge Bags</th>\n",
       "      <th>type</th>\n",
       "      <th>year</th>\n",
       "      <th>region</th>\n",
       "    </tr>\n",
       "  </thead>\n",
       "  <tbody>\n",
       "    <tr>\n",
       "      <th>0</th>\n",
       "      <td>1.33</td>\n",
       "      <td>1036.74</td>\n",
       "      <td>54454.85</td>\n",
       "      <td>48.16</td>\n",
       "      <td>8696.87</td>\n",
       "      <td>8603.62</td>\n",
       "      <td>93.25</td>\n",
       "      <td>0.0</td>\n",
       "      <td>0</td>\n",
       "      <td>2015</td>\n",
       "      <td>0</td>\n",
       "    </tr>\n",
       "    <tr>\n",
       "      <th>1</th>\n",
       "      <td>1.35</td>\n",
       "      <td>674.28</td>\n",
       "      <td>44638.81</td>\n",
       "      <td>58.33</td>\n",
       "      <td>9505.56</td>\n",
       "      <td>9408.07</td>\n",
       "      <td>97.49</td>\n",
       "      <td>0.0</td>\n",
       "      <td>0</td>\n",
       "      <td>2015</td>\n",
       "      <td>0</td>\n",
       "    </tr>\n",
       "    <tr>\n",
       "      <th>2</th>\n",
       "      <td>0.93</td>\n",
       "      <td>794.70</td>\n",
       "      <td>109149.67</td>\n",
       "      <td>130.50</td>\n",
       "      <td>8145.35</td>\n",
       "      <td>8042.21</td>\n",
       "      <td>103.14</td>\n",
       "      <td>0.0</td>\n",
       "      <td>0</td>\n",
       "      <td>2015</td>\n",
       "      <td>0</td>\n",
       "    </tr>\n",
       "    <tr>\n",
       "      <th>3</th>\n",
       "      <td>1.08</td>\n",
       "      <td>1132.00</td>\n",
       "      <td>71976.41</td>\n",
       "      <td>72.58</td>\n",
       "      <td>5811.16</td>\n",
       "      <td>5677.40</td>\n",
       "      <td>133.76</td>\n",
       "      <td>0.0</td>\n",
       "      <td>0</td>\n",
       "      <td>2015</td>\n",
       "      <td>0</td>\n",
       "    </tr>\n",
       "    <tr>\n",
       "      <th>4</th>\n",
       "      <td>1.28</td>\n",
       "      <td>941.48</td>\n",
       "      <td>43838.39</td>\n",
       "      <td>75.78</td>\n",
       "      <td>6183.95</td>\n",
       "      <td>5986.26</td>\n",
       "      <td>197.69</td>\n",
       "      <td>0.0</td>\n",
       "      <td>0</td>\n",
       "      <td>2015</td>\n",
       "      <td>0</td>\n",
       "    </tr>\n",
       "  </tbody>\n",
       "</table>\n",
       "</div>"
      ],
      "text/plain": [
       "   AveragePrice  tot_ava1   tot_ava2  tot_ava3  Total_Bags  Small_Bags  \\\n",
       "0          1.33   1036.74   54454.85     48.16     8696.87     8603.62   \n",
       "1          1.35    674.28   44638.81     58.33     9505.56     9408.07   \n",
       "2          0.93    794.70  109149.67    130.50     8145.35     8042.21   \n",
       "3          1.08   1132.00   71976.41     72.58     5811.16     5677.40   \n",
       "4          1.28    941.48   43838.39     75.78     6183.95     5986.26   \n",
       "\n",
       "   Large_Bags  XLarge Bags  type  year  region  \n",
       "0       93.25          0.0     0  2015       0  \n",
       "1       97.49          0.0     0  2015       0  \n",
       "2      103.14          0.0     0  2015       0  \n",
       "3      133.76          0.0     0  2015       0  \n",
       "4      197.69          0.0     0  2015       0  "
      ]
     },
     "execution_count": 21,
     "metadata": {},
     "output_type": "execute_result"
    }
   ],
   "source": [
    "data.head()"
   ]
  },
  {
   "cell_type": "markdown",
   "id": "11dff19c",
   "metadata": {},
   "source": [
    "#### Drop Duplicates"
   ]
  },
  {
   "cell_type": "code",
   "execution_count": 22,
   "id": "0cb7d6e2",
   "metadata": {},
   "outputs": [
    {
     "data": {
      "text/plain": [
       "0"
      ]
     },
     "execution_count": 22,
     "metadata": {},
     "output_type": "execute_result"
    }
   ],
   "source": [
    "data.duplicated().sum()"
   ]
  },
  {
   "cell_type": "code",
   "execution_count": 212,
   "id": "bbbac585",
   "metadata": {},
   "outputs": [],
   "source": [
    "#data.drop_duplicates(subset=None, keep='first', inplace=True)"
   ]
  },
  {
   "cell_type": "code",
   "execution_count": 23,
   "id": "f6a82cd6",
   "metadata": {},
   "outputs": [
    {
     "data": {
      "text/plain": [
       "(18249, 11)"
      ]
     },
     "execution_count": 23,
     "metadata": {},
     "output_type": "execute_result"
    }
   ],
   "source": [
    "data.shape"
   ]
  },
  {
   "cell_type": "code",
   "execution_count": 24,
   "id": "825b0f38",
   "metadata": {},
   "outputs": [
    {
     "data": {
      "text/plain": [
       "Index(['AveragePrice', 'tot_ava1', 'tot_ava2', 'tot_ava3', 'Total_Bags',\n",
       "       'Small_Bags', 'Large_Bags', 'XLarge Bags', 'type', 'year', 'region'],\n",
       "      dtype='object')"
      ]
     },
     "execution_count": 24,
     "metadata": {},
     "output_type": "execute_result"
    }
   ],
   "source": [
    "data.columns"
   ]
  },
  {
   "cell_type": "markdown",
   "id": "61aa49e6",
   "metadata": {},
   "source": [
    "#### standardize"
   ]
  },
  {
   "cell_type": "code",
   "execution_count": 25,
   "id": "d1d46cba",
   "metadata": {
    "scrolled": true
   },
   "outputs": [
    {
     "data": {
      "text/html": [
       "<div>\n",
       "<style scoped>\n",
       "    .dataframe tbody tr th:only-of-type {\n",
       "        vertical-align: middle;\n",
       "    }\n",
       "\n",
       "    .dataframe tbody tr th {\n",
       "        vertical-align: top;\n",
       "    }\n",
       "\n",
       "    .dataframe thead th {\n",
       "        text-align: right;\n",
       "    }\n",
       "</style>\n",
       "<table border=\"1\" class=\"dataframe\">\n",
       "  <thead>\n",
       "    <tr style=\"text-align: right;\">\n",
       "      <th></th>\n",
       "      <th>tot_ava1</th>\n",
       "      <th>tot_ava2</th>\n",
       "      <th>tot_ava3</th>\n",
       "      <th>Total_Bags</th>\n",
       "      <th>Small_Bags</th>\n",
       "      <th>Large_Bags</th>\n",
       "      <th>XLarge Bags</th>\n",
       "      <th>type</th>\n",
       "      <th>year</th>\n",
       "      <th>region</th>\n",
       "    </tr>\n",
       "  </thead>\n",
       "  <tbody>\n",
       "    <tr>\n",
       "      <th>0</th>\n",
       "      <td>1036.74</td>\n",
       "      <td>54454.85</td>\n",
       "      <td>48.16</td>\n",
       "      <td>8696.87</td>\n",
       "      <td>8603.62</td>\n",
       "      <td>93.25</td>\n",
       "      <td>0.0</td>\n",
       "      <td>0</td>\n",
       "      <td>2015</td>\n",
       "      <td>0</td>\n",
       "    </tr>\n",
       "    <tr>\n",
       "      <th>1</th>\n",
       "      <td>674.28</td>\n",
       "      <td>44638.81</td>\n",
       "      <td>58.33</td>\n",
       "      <td>9505.56</td>\n",
       "      <td>9408.07</td>\n",
       "      <td>97.49</td>\n",
       "      <td>0.0</td>\n",
       "      <td>0</td>\n",
       "      <td>2015</td>\n",
       "      <td>0</td>\n",
       "    </tr>\n",
       "    <tr>\n",
       "      <th>2</th>\n",
       "      <td>794.70</td>\n",
       "      <td>109149.67</td>\n",
       "      <td>130.50</td>\n",
       "      <td>8145.35</td>\n",
       "      <td>8042.21</td>\n",
       "      <td>103.14</td>\n",
       "      <td>0.0</td>\n",
       "      <td>0</td>\n",
       "      <td>2015</td>\n",
       "      <td>0</td>\n",
       "    </tr>\n",
       "    <tr>\n",
       "      <th>3</th>\n",
       "      <td>1132.00</td>\n",
       "      <td>71976.41</td>\n",
       "      <td>72.58</td>\n",
       "      <td>5811.16</td>\n",
       "      <td>5677.40</td>\n",
       "      <td>133.76</td>\n",
       "      <td>0.0</td>\n",
       "      <td>0</td>\n",
       "      <td>2015</td>\n",
       "      <td>0</td>\n",
       "    </tr>\n",
       "    <tr>\n",
       "      <th>4</th>\n",
       "      <td>941.48</td>\n",
       "      <td>43838.39</td>\n",
       "      <td>75.78</td>\n",
       "      <td>6183.95</td>\n",
       "      <td>5986.26</td>\n",
       "      <td>197.69</td>\n",
       "      <td>0.0</td>\n",
       "      <td>0</td>\n",
       "      <td>2015</td>\n",
       "      <td>0</td>\n",
       "    </tr>\n",
       "    <tr>\n",
       "      <th>...</th>\n",
       "      <td>...</td>\n",
       "      <td>...</td>\n",
       "      <td>...</td>\n",
       "      <td>...</td>\n",
       "      <td>...</td>\n",
       "      <td>...</td>\n",
       "      <td>...</td>\n",
       "      <td>...</td>\n",
       "      <td>...</td>\n",
       "      <td>...</td>\n",
       "    </tr>\n",
       "    <tr>\n",
       "      <th>18244</th>\n",
       "      <td>2046.96</td>\n",
       "      <td>1529.20</td>\n",
       "      <td>0.00</td>\n",
       "      <td>13498.67</td>\n",
       "      <td>13066.82</td>\n",
       "      <td>431.85</td>\n",
       "      <td>0.0</td>\n",
       "      <td>1</td>\n",
       "      <td>2018</td>\n",
       "      <td>53</td>\n",
       "    </tr>\n",
       "    <tr>\n",
       "      <th>18245</th>\n",
       "      <td>1191.70</td>\n",
       "      <td>3431.50</td>\n",
       "      <td>0.00</td>\n",
       "      <td>9264.84</td>\n",
       "      <td>8940.04</td>\n",
       "      <td>324.80</td>\n",
       "      <td>0.0</td>\n",
       "      <td>1</td>\n",
       "      <td>2018</td>\n",
       "      <td>53</td>\n",
       "    </tr>\n",
       "    <tr>\n",
       "      <th>18246</th>\n",
       "      <td>1191.92</td>\n",
       "      <td>2452.79</td>\n",
       "      <td>727.94</td>\n",
       "      <td>9394.11</td>\n",
       "      <td>9351.80</td>\n",
       "      <td>42.31</td>\n",
       "      <td>0.0</td>\n",
       "      <td>1</td>\n",
       "      <td>2018</td>\n",
       "      <td>53</td>\n",
       "    </tr>\n",
       "    <tr>\n",
       "      <th>18247</th>\n",
       "      <td>1527.63</td>\n",
       "      <td>2981.04</td>\n",
       "      <td>727.01</td>\n",
       "      <td>10969.54</td>\n",
       "      <td>10919.54</td>\n",
       "      <td>50.00</td>\n",
       "      <td>0.0</td>\n",
       "      <td>1</td>\n",
       "      <td>2018</td>\n",
       "      <td>53</td>\n",
       "    </tr>\n",
       "    <tr>\n",
       "      <th>18248</th>\n",
       "      <td>2894.77</td>\n",
       "      <td>2356.13</td>\n",
       "      <td>224.53</td>\n",
       "      <td>12014.15</td>\n",
       "      <td>11988.14</td>\n",
       "      <td>26.01</td>\n",
       "      <td>0.0</td>\n",
       "      <td>1</td>\n",
       "      <td>2018</td>\n",
       "      <td>53</td>\n",
       "    </tr>\n",
       "  </tbody>\n",
       "</table>\n",
       "<p>18249 rows × 10 columns</p>\n",
       "</div>"
      ],
      "text/plain": [
       "       tot_ava1   tot_ava2  tot_ava3  Total_Bags  Small_Bags  Large_Bags  \\\n",
       "0       1036.74   54454.85     48.16     8696.87     8603.62       93.25   \n",
       "1        674.28   44638.81     58.33     9505.56     9408.07       97.49   \n",
       "2        794.70  109149.67    130.50     8145.35     8042.21      103.14   \n",
       "3       1132.00   71976.41     72.58     5811.16     5677.40      133.76   \n",
       "4        941.48   43838.39     75.78     6183.95     5986.26      197.69   \n",
       "...         ...        ...       ...         ...         ...         ...   \n",
       "18244   2046.96    1529.20      0.00    13498.67    13066.82      431.85   \n",
       "18245   1191.70    3431.50      0.00     9264.84     8940.04      324.80   \n",
       "18246   1191.92    2452.79    727.94     9394.11     9351.80       42.31   \n",
       "18247   1527.63    2981.04    727.01    10969.54    10919.54       50.00   \n",
       "18248   2894.77    2356.13    224.53    12014.15    11988.14       26.01   \n",
       "\n",
       "       XLarge Bags  type  year  region  \n",
       "0              0.0     0  2015       0  \n",
       "1              0.0     0  2015       0  \n",
       "2              0.0     0  2015       0  \n",
       "3              0.0     0  2015       0  \n",
       "4              0.0     0  2015       0  \n",
       "...            ...   ...   ...     ...  \n",
       "18244          0.0     1  2018      53  \n",
       "18245          0.0     1  2018      53  \n",
       "18246          0.0     1  2018      53  \n",
       "18247          0.0     1  2018      53  \n",
       "18248          0.0     1  2018      53  \n",
       "\n",
       "[18249 rows x 10 columns]"
      ]
     },
     "execution_count": 25,
     "metadata": {},
     "output_type": "execute_result"
    }
   ],
   "source": [
    "data.iloc[:,1:]"
   ]
  },
  {
   "cell_type": "code",
   "execution_count": 26,
   "id": "d3a5406d",
   "metadata": {},
   "outputs": [],
   "source": [
    "### Standardization\n",
    "from sklearn.compose import ColumnTransformer\n",
    "from sklearn.compose import make_column_transformer\n",
    "from sklearn.preprocessing import StandardScaler\n",
    "# Initialise the Scaler\n",
    "#scaler = MinMaxScaler()\n",
    "# To scale data\n",
    "#scaler.fit_transform(data.iloc[:,0:4])\n",
    "#ct = ColumnTransformer([('MinMax', MinMaxScaler(), data.iloc[:,0:4])],'passthrough')\n",
    "\n",
    "numerical_columns = ['tot_ava1', 'tot_ava2', 'tot_ava3', 'Total_Bags',\n",
    "       'Small_Bags', 'Large_Bags', 'XLarge Bags', 'type', 'year', 'region']\n",
    "#column_trans = make_column_transformer((numerical_columns, RobustScaler()),remainder='passthrough')\n",
    "#column_trans.fit_transform(data)\n",
    "\n",
    "preprocess = make_column_transformer(\n",
    "    (StandardScaler(),numerical_columns),\n",
    "    ('passthrough',['AveragePrice'])\n",
    ")\n",
    "data1= preprocess.fit_transform(data)\n",
    "data1= pd.DataFrame(data1)\n",
    "data1.columns= data.columns"
   ]
  },
  {
   "cell_type": "code",
   "execution_count": 27,
   "id": "24e014af",
   "metadata": {
    "scrolled": true
   },
   "outputs": [
    {
     "data": {
      "text/html": [
       "<div>\n",
       "<style scoped>\n",
       "    .dataframe tbody tr th:only-of-type {\n",
       "        vertical-align: middle;\n",
       "    }\n",
       "\n",
       "    .dataframe tbody tr th {\n",
       "        vertical-align: top;\n",
       "    }\n",
       "\n",
       "    .dataframe thead th {\n",
       "        text-align: right;\n",
       "    }\n",
       "</style>\n",
       "<table border=\"1\" class=\"dataframe\">\n",
       "  <thead>\n",
       "    <tr style=\"text-align: right;\">\n",
       "      <th></th>\n",
       "      <th>AveragePrice</th>\n",
       "      <th>tot_ava1</th>\n",
       "      <th>tot_ava2</th>\n",
       "      <th>tot_ava3</th>\n",
       "      <th>Total_Bags</th>\n",
       "      <th>Small_Bags</th>\n",
       "      <th>Large_Bags</th>\n",
       "      <th>XLarge Bags</th>\n",
       "      <th>type</th>\n",
       "      <th>year</th>\n",
       "      <th>region</th>\n",
       "    </tr>\n",
       "  </thead>\n",
       "  <tbody>\n",
       "    <tr>\n",
       "      <th>0</th>\n",
       "      <td>-0.230816</td>\n",
       "      <td>-0.199902</td>\n",
       "      <td>-0.212091</td>\n",
       "      <td>-0.234170</td>\n",
       "      <td>-0.232647</td>\n",
       "      <td>-0.222352</td>\n",
       "      <td>-0.17558</td>\n",
       "      <td>-0.999836</td>\n",
       "      <td>-1.221282</td>\n",
       "      <td>-1.700252</td>\n",
       "      <td>1.33</td>\n",
       "    </tr>\n",
       "    <tr>\n",
       "      <th>1</th>\n",
       "      <td>-0.231103</td>\n",
       "      <td>-0.208054</td>\n",
       "      <td>-0.211997</td>\n",
       "      <td>-0.233350</td>\n",
       "      <td>-0.231568</td>\n",
       "      <td>-0.222335</td>\n",
       "      <td>-0.17558</td>\n",
       "      <td>-0.999836</td>\n",
       "      <td>-1.221282</td>\n",
       "      <td>-1.700252</td>\n",
       "      <td>1.35</td>\n",
       "    </tr>\n",
       "    <tr>\n",
       "      <th>2</th>\n",
       "      <td>-0.231007</td>\n",
       "      <td>-0.154478</td>\n",
       "      <td>-0.211325</td>\n",
       "      <td>-0.234730</td>\n",
       "      <td>-0.233399</td>\n",
       "      <td>-0.222311</td>\n",
       "      <td>-0.17558</td>\n",
       "      <td>-0.999836</td>\n",
       "      <td>-1.221282</td>\n",
       "      <td>-1.700252</td>\n",
       "      <td>0.93</td>\n",
       "    </tr>\n",
       "    <tr>\n",
       "      <th>3</th>\n",
       "      <td>-0.230741</td>\n",
       "      <td>-0.185350</td>\n",
       "      <td>-0.211864</td>\n",
       "      <td>-0.237096</td>\n",
       "      <td>-0.236568</td>\n",
       "      <td>-0.222186</td>\n",
       "      <td>-0.17558</td>\n",
       "      <td>-0.999836</td>\n",
       "      <td>-1.221282</td>\n",
       "      <td>-1.700252</td>\n",
       "      <td>1.08</td>\n",
       "    </tr>\n",
       "    <tr>\n",
       "      <th>4</th>\n",
       "      <td>-0.230891</td>\n",
       "      <td>-0.208719</td>\n",
       "      <td>-0.211834</td>\n",
       "      <td>-0.236718</td>\n",
       "      <td>-0.236154</td>\n",
       "      <td>-0.221924</td>\n",
       "      <td>-0.17558</td>\n",
       "      <td>-0.999836</td>\n",
       "      <td>-1.221282</td>\n",
       "      <td>-1.700252</td>\n",
       "      <td>1.28</td>\n",
       "    </tr>\n",
       "    <tr>\n",
       "      <th>...</th>\n",
       "      <td>...</td>\n",
       "      <td>...</td>\n",
       "      <td>...</td>\n",
       "      <td>...</td>\n",
       "      <td>...</td>\n",
       "      <td>...</td>\n",
       "      <td>...</td>\n",
       "      <td>...</td>\n",
       "      <td>...</td>\n",
       "      <td>...</td>\n",
       "      <td>...</td>\n",
       "    </tr>\n",
       "    <tr>\n",
       "      <th>18244</th>\n",
       "      <td>-0.230017</td>\n",
       "      <td>-0.243857</td>\n",
       "      <td>-0.212540</td>\n",
       "      <td>-0.229301</td>\n",
       "      <td>-0.226665</td>\n",
       "      <td>-0.220964</td>\n",
       "      <td>-0.17558</td>\n",
       "      <td>1.000164</td>\n",
       "      <td>1.970504</td>\n",
       "      <td>1.700811</td>\n",
       "      <td>1.63</td>\n",
       "    </tr>\n",
       "    <tr>\n",
       "      <th>18245</th>\n",
       "      <td>-0.230693</td>\n",
       "      <td>-0.242277</td>\n",
       "      <td>-0.212540</td>\n",
       "      <td>-0.233594</td>\n",
       "      <td>-0.232196</td>\n",
       "      <td>-0.221403</td>\n",
       "      <td>-0.17558</td>\n",
       "      <td>1.000164</td>\n",
       "      <td>1.970504</td>\n",
       "      <td>1.700811</td>\n",
       "      <td>1.71</td>\n",
       "    </tr>\n",
       "    <tr>\n",
       "      <th>18246</th>\n",
       "      <td>-0.230693</td>\n",
       "      <td>-0.243090</td>\n",
       "      <td>-0.205766</td>\n",
       "      <td>-0.233463</td>\n",
       "      <td>-0.231644</td>\n",
       "      <td>-0.222561</td>\n",
       "      <td>-0.17558</td>\n",
       "      <td>1.000164</td>\n",
       "      <td>1.970504</td>\n",
       "      <td>1.700811</td>\n",
       "      <td>1.87</td>\n",
       "    </tr>\n",
       "    <tr>\n",
       "      <th>18247</th>\n",
       "      <td>-0.230428</td>\n",
       "      <td>-0.242651</td>\n",
       "      <td>-0.205774</td>\n",
       "      <td>-0.231866</td>\n",
       "      <td>-0.229543</td>\n",
       "      <td>-0.222529</td>\n",
       "      <td>-0.17558</td>\n",
       "      <td>1.000164</td>\n",
       "      <td>1.970504</td>\n",
       "      <td>1.700811</td>\n",
       "      <td>1.93</td>\n",
       "    </tr>\n",
       "    <tr>\n",
       "      <th>18248</th>\n",
       "      <td>-0.229347</td>\n",
       "      <td>-0.243170</td>\n",
       "      <td>-0.210450</td>\n",
       "      <td>-0.230807</td>\n",
       "      <td>-0.228111</td>\n",
       "      <td>-0.222628</td>\n",
       "      <td>-0.17558</td>\n",
       "      <td>1.000164</td>\n",
       "      <td>1.970504</td>\n",
       "      <td>1.700811</td>\n",
       "      <td>1.62</td>\n",
       "    </tr>\n",
       "  </tbody>\n",
       "</table>\n",
       "<p>18249 rows × 11 columns</p>\n",
       "</div>"
      ],
      "text/plain": [
       "       AveragePrice  tot_ava1  tot_ava2  tot_ava3  Total_Bags  Small_Bags  \\\n",
       "0         -0.230816 -0.199902 -0.212091 -0.234170   -0.232647   -0.222352   \n",
       "1         -0.231103 -0.208054 -0.211997 -0.233350   -0.231568   -0.222335   \n",
       "2         -0.231007 -0.154478 -0.211325 -0.234730   -0.233399   -0.222311   \n",
       "3         -0.230741 -0.185350 -0.211864 -0.237096   -0.236568   -0.222186   \n",
       "4         -0.230891 -0.208719 -0.211834 -0.236718   -0.236154   -0.221924   \n",
       "...             ...       ...       ...       ...         ...         ...   \n",
       "18244     -0.230017 -0.243857 -0.212540 -0.229301   -0.226665   -0.220964   \n",
       "18245     -0.230693 -0.242277 -0.212540 -0.233594   -0.232196   -0.221403   \n",
       "18246     -0.230693 -0.243090 -0.205766 -0.233463   -0.231644   -0.222561   \n",
       "18247     -0.230428 -0.242651 -0.205774 -0.231866   -0.229543   -0.222529   \n",
       "18248     -0.229347 -0.243170 -0.210450 -0.230807   -0.228111   -0.222628   \n",
       "\n",
       "       Large_Bags  XLarge Bags      type      year  region  \n",
       "0        -0.17558    -0.999836 -1.221282 -1.700252    1.33  \n",
       "1        -0.17558    -0.999836 -1.221282 -1.700252    1.35  \n",
       "2        -0.17558    -0.999836 -1.221282 -1.700252    0.93  \n",
       "3        -0.17558    -0.999836 -1.221282 -1.700252    1.08  \n",
       "4        -0.17558    -0.999836 -1.221282 -1.700252    1.28  \n",
       "...           ...          ...       ...       ...     ...  \n",
       "18244    -0.17558     1.000164  1.970504  1.700811    1.63  \n",
       "18245    -0.17558     1.000164  1.970504  1.700811    1.71  \n",
       "18246    -0.17558     1.000164  1.970504  1.700811    1.87  \n",
       "18247    -0.17558     1.000164  1.970504  1.700811    1.93  \n",
       "18248    -0.17558     1.000164  1.970504  1.700811    1.62  \n",
       "\n",
       "[18249 rows x 11 columns]"
      ]
     },
     "execution_count": 27,
     "metadata": {},
     "output_type": "execute_result"
    }
   ],
   "source": [
    "data1"
   ]
  },
  {
   "cell_type": "code",
   "execution_count": 29,
   "id": "34d5a0a0",
   "metadata": {},
   "outputs": [],
   "source": [
    "data1.rename(columns = {'XLarge Bags':'XLargeBags'}, inplace = True)"
   ]
  },
  {
   "cell_type": "code",
   "execution_count": 30,
   "id": "ddea18bb",
   "metadata": {},
   "outputs": [
    {
     "data": {
      "text/html": [
       "<table class=\"simpletable\">\n",
       "<caption>OLS Regression Results</caption>\n",
       "<tr>\n",
       "  <th>Dep. Variable:</th>      <td>AveragePrice</td>   <th>  R-squared:         </th> <td>   0.902</td> \n",
       "</tr>\n",
       "<tr>\n",
       "  <th>Model:</th>                   <td>OLS</td>       <th>  Adj. R-squared:    </th> <td>   0.902</td> \n",
       "</tr>\n",
       "<tr>\n",
       "  <th>Method:</th>             <td>Least Squares</td>  <th>  F-statistic:       </th> <td>1.687e+04</td>\n",
       "</tr>\n",
       "<tr>\n",
       "  <th>Date:</th>             <td>Mon, 25 Apr 2022</td> <th>  Prob (F-statistic):</th>  <td>  0.00</td>  \n",
       "</tr>\n",
       "<tr>\n",
       "  <th>Time:</th>                 <td>07:28:51</td>     <th>  Log-Likelihood:    </th> <td> -4660.1</td> \n",
       "</tr>\n",
       "<tr>\n",
       "  <th>No. Observations:</th>      <td> 18249</td>      <th>  AIC:               </th> <td>   9342.</td> \n",
       "</tr>\n",
       "<tr>\n",
       "  <th>Df Residuals:</th>          <td> 18238</td>      <th>  BIC:               </th> <td>   9428.</td> \n",
       "</tr>\n",
       "<tr>\n",
       "  <th>Df Model:</th>              <td>    10</td>      <th>                     </th>     <td> </td>    \n",
       "</tr>\n",
       "<tr>\n",
       "  <th>Covariance Type:</th>      <td>nonrobust</td>    <th>                     </th>     <td> </td>    \n",
       "</tr>\n",
       "</table>\n",
       "<table class=\"simpletable\">\n",
       "<tr>\n",
       "       <td></td>         <th>coef</th>     <th>std err</th>      <th>t</th>      <th>P>|t|</th>  <th>[0.025</th>    <th>0.975]</th>  \n",
       "</tr>\n",
       "<tr>\n",
       "  <th>Intercept</th>  <td>    0.1634</td> <td>    0.011</td> <td>   15.318</td> <td> 0.000</td> <td>    0.143</td> <td>    0.184</td>\n",
       "</tr>\n",
       "<tr>\n",
       "  <th>tot_ava1</th>   <td>    0.3595</td> <td>    0.008</td> <td>   44.460</td> <td> 0.000</td> <td>    0.344</td> <td>    0.375</td>\n",
       "</tr>\n",
       "<tr>\n",
       "  <th>tot_ava2</th>   <td>    0.1083</td> <td>    0.005</td> <td>   20.381</td> <td> 0.000</td> <td>    0.098</td> <td>    0.119</td>\n",
       "</tr>\n",
       "<tr>\n",
       "  <th>tot_ava3</th>   <td> 7.812e+04</td> <td> 3.56e+04</td> <td>    2.195</td> <td> 0.028</td> <td> 8367.531</td> <td> 1.48e+05</td>\n",
       "</tr>\n",
       "<tr>\n",
       "  <th>Total_Bags</th> <td>-5.911e+04</td> <td> 2.69e+04</td> <td>   -2.195</td> <td> 0.028</td> <td>-1.12e+05</td> <td>-6330.245</td>\n",
       "</tr>\n",
       "<tr>\n",
       "  <th>Small_Bags</th> <td>-1.933e+04</td> <td> 8803.422</td> <td>   -2.195</td> <td> 0.028</td> <td>-3.66e+04</td> <td>-2069.823</td>\n",
       "</tr>\n",
       "<tr>\n",
       "  <th>Large_Bags</th> <td>-1401.5976</td> <td>  638.442</td> <td>   -2.195</td> <td> 0.028</td> <td>-2653.003</td> <td> -150.192</td>\n",
       "</tr>\n",
       "<tr>\n",
       "  <th>XLargeBags</th> <td>    0.0194</td> <td>    0.003</td> <td>    6.482</td> <td> 0.000</td> <td>    0.014</td> <td>    0.025</td>\n",
       "</tr>\n",
       "<tr>\n",
       "  <th>type</th>       <td>   -0.0159</td> <td>    0.002</td> <td>   -6.665</td> <td> 0.000</td> <td>   -0.021</td> <td>   -0.011</td>\n",
       "</tr>\n",
       "<tr>\n",
       "  <th>year</th>       <td>    0.0401</td> <td>    0.002</td> <td>   16.894</td> <td> 0.000</td> <td>    0.035</td> <td>    0.045</td>\n",
       "</tr>\n",
       "<tr>\n",
       "  <th>region</th>     <td>   -0.1162</td> <td>    0.007</td> <td>  -15.692</td> <td> 0.000</td> <td>   -0.131</td> <td>   -0.102</td>\n",
       "</tr>\n",
       "</table>\n",
       "<table class=\"simpletable\">\n",
       "<tr>\n",
       "  <th>Omnibus:</th>       <td>10438.076</td> <th>  Durbin-Watson:     </th>  <td>   0.165</td>  \n",
       "</tr>\n",
       "<tr>\n",
       "  <th>Prob(Omnibus):</th>  <td> 0.000</td>   <th>  Jarque-Bera (JB):  </th> <td>1188266.395</td>\n",
       "</tr>\n",
       "<tr>\n",
       "  <th>Skew:</th>           <td> 1.808</td>   <th>  Prob(JB):          </th>  <td>    0.00</td>  \n",
       "</tr>\n",
       "<tr>\n",
       "  <th>Kurtosis:</th>       <td>42.366</td>   <th>  Cond. No.          </th>  <td>4.50e+07</td>  \n",
       "</tr>\n",
       "</table><br/><br/>Notes:<br/>[1] Standard Errors assume that the covariance matrix of the errors is correctly specified.<br/>[2] The smallest eigenvalue is 4.72e-11. This might indicate that there are<br/>strong multicollinearity problems or that the design matrix is singular."
      ],
      "text/plain": [
       "<class 'statsmodels.iolib.summary.Summary'>\n",
       "\"\"\"\n",
       "                            OLS Regression Results                            \n",
       "==============================================================================\n",
       "Dep. Variable:           AveragePrice   R-squared:                       0.902\n",
       "Model:                            OLS   Adj. R-squared:                  0.902\n",
       "Method:                 Least Squares   F-statistic:                 1.687e+04\n",
       "Date:                Mon, 25 Apr 2022   Prob (F-statistic):               0.00\n",
       "Time:                        07:28:51   Log-Likelihood:                -4660.1\n",
       "No. Observations:               18249   AIC:                             9342.\n",
       "Df Residuals:                   18238   BIC:                             9428.\n",
       "Df Model:                          10                                         \n",
       "Covariance Type:            nonrobust                                         \n",
       "==============================================================================\n",
       "                 coef    std err          t      P>|t|      [0.025      0.975]\n",
       "------------------------------------------------------------------------------\n",
       "Intercept      0.1634      0.011     15.318      0.000       0.143       0.184\n",
       "tot_ava1       0.3595      0.008     44.460      0.000       0.344       0.375\n",
       "tot_ava2       0.1083      0.005     20.381      0.000       0.098       0.119\n",
       "tot_ava3    7.812e+04   3.56e+04      2.195      0.028    8367.531    1.48e+05\n",
       "Total_Bags -5.911e+04   2.69e+04     -2.195      0.028   -1.12e+05   -6330.245\n",
       "Small_Bags -1.933e+04   8803.422     -2.195      0.028   -3.66e+04   -2069.823\n",
       "Large_Bags -1401.5976    638.442     -2.195      0.028   -2653.003    -150.192\n",
       "XLargeBags     0.0194      0.003      6.482      0.000       0.014       0.025\n",
       "type          -0.0159      0.002     -6.665      0.000      -0.021      -0.011\n",
       "year           0.0401      0.002     16.894      0.000       0.035       0.045\n",
       "region        -0.1162      0.007    -15.692      0.000      -0.131      -0.102\n",
       "==============================================================================\n",
       "Omnibus:                    10438.076   Durbin-Watson:                   0.165\n",
       "Prob(Omnibus):                  0.000   Jarque-Bera (JB):          1188266.395\n",
       "Skew:                           1.808   Prob(JB):                         0.00\n",
       "Kurtosis:                      42.366   Cond. No.                     4.50e+07\n",
       "==============================================================================\n",
       "\n",
       "Notes:\n",
       "[1] Standard Errors assume that the covariance matrix of the errors is correctly specified.\n",
       "[2] The smallest eigenvalue is 4.72e-11. This might indicate that there are\n",
       "strong multicollinearity problems or that the design matrix is singular.\n",
       "\"\"\""
      ]
     },
     "execution_count": 30,
     "metadata": {},
     "output_type": "execute_result"
    }
   ],
   "source": [
    "# preparing model considering all the variables \n",
    "import statsmodels.formula.api as smf # for regression model\n",
    "         \n",
    "ml1 = smf.ols('AveragePrice ~ tot_ava1+ tot_ava2+ tot_ava3+ Total_Bags+Small_Bags+ Large_Bags+ XLargeBags+ type+ year+ region', data = data1).fit() # regression model\n",
    "# Summary\n",
    "ml1.summary()\n",
    "# p-values for WT, VOL are more than 0.05"
   ]
  },
  {
   "cell_type": "code",
   "execution_count": 31,
   "id": "0567e9ea",
   "metadata": {},
   "outputs": [
    {
     "data": {
      "image/png": "[encoded data removed]",
      "text/plain": [
       "<Figure size 432x288 with 1 Axes>"
      ]
     },
     "execution_count": 31,
     "metadata": {},
     "output_type": "execute_result"
    },
    {
     "data": {
      "image/png": "[encoded data removed]",
      "text/plain": [
       "<Figure size 432x288 with 1 Axes>"
      ]
     },
     "metadata": {},
     "output_type": "display_data"
    }
   ],
   "source": [
    "# Checking whether data has any influential values \n",
    "# Influence Index Plots\n",
    "import statsmodels.api as sm\n",
    "\n",
    "sm.graphics.influence_plot(ml1)\n",
    "# Studentized Residuals = Residual/standard deviation of residuals\n",
    "# index 76 is showing high influence so we can exclude that entire row"
   ]
  },
  {
   "cell_type": "code",
   "execution_count": 32,
   "id": "01de0fdc",
   "metadata": {},
   "outputs": [
    {
     "data": {
      "text/html": [
       "<table class=\"simpletable\">\n",
       "<caption>OLS Regression Results</caption>\n",
       "<tr>\n",
       "  <th>Dep. Variable:</th>      <td>AveragePrice</td>   <th>  R-squared:         </th> <td>   0.902</td> \n",
       "</tr>\n",
       "<tr>\n",
       "  <th>Model:</th>                   <td>OLS</td>       <th>  Adj. R-squared:    </th> <td>   0.902</td> \n",
       "</tr>\n",
       "<tr>\n",
       "  <th>Method:</th>             <td>Least Squares</td>  <th>  F-statistic:       </th> <td>1.687e+04</td>\n",
       "</tr>\n",
       "<tr>\n",
       "  <th>Date:</th>             <td>Mon, 25 Apr 2022</td> <th>  Prob (F-statistic):</th>  <td>  0.00</td>  \n",
       "</tr>\n",
       "<tr>\n",
       "  <th>Time:</th>                 <td>07:54:54</td>     <th>  Log-Likelihood:    </th> <td> -4660.1</td> \n",
       "</tr>\n",
       "<tr>\n",
       "  <th>No. Observations:</th>      <td> 18249</td>      <th>  AIC:               </th> <td>   9342.</td> \n",
       "</tr>\n",
       "<tr>\n",
       "  <th>Df Residuals:</th>          <td> 18238</td>      <th>  BIC:               </th> <td>   9428.</td> \n",
       "</tr>\n",
       "<tr>\n",
       "  <th>Df Model:</th>              <td>    10</td>      <th>                     </th>     <td> </td>    \n",
       "</tr>\n",
       "<tr>\n",
       "  <th>Covariance Type:</th>      <td>nonrobust</td>    <th>                     </th>     <td> </td>    \n",
       "</tr>\n",
       "</table>\n",
       "<table class=\"simpletable\">\n",
       "<tr>\n",
       "       <td></td>         <th>coef</th>     <th>std err</th>      <th>t</th>      <th>P>|t|</th>  <th>[0.025</th>    <th>0.975]</th>  \n",
       "</tr>\n",
       "<tr>\n",
       "  <th>Intercept</th>  <td>    0.1634</td> <td>    0.011</td> <td>   15.318</td> <td> 0.000</td> <td>    0.143</td> <td>    0.184</td>\n",
       "</tr>\n",
       "<tr>\n",
       "  <th>tot_ava1</th>   <td>    0.3595</td> <td>    0.008</td> <td>   44.460</td> <td> 0.000</td> <td>    0.344</td> <td>    0.375</td>\n",
       "</tr>\n",
       "<tr>\n",
       "  <th>tot_ava2</th>   <td>    0.1083</td> <td>    0.005</td> <td>   20.381</td> <td> 0.000</td> <td>    0.098</td> <td>    0.119</td>\n",
       "</tr>\n",
       "<tr>\n",
       "  <th>tot_ava3</th>   <td> 7.812e+04</td> <td> 3.56e+04</td> <td>    2.195</td> <td> 0.028</td> <td> 8367.531</td> <td> 1.48e+05</td>\n",
       "</tr>\n",
       "<tr>\n",
       "  <th>Total_Bags</th> <td>-5.911e+04</td> <td> 2.69e+04</td> <td>   -2.195</td> <td> 0.028</td> <td>-1.12e+05</td> <td>-6330.245</td>\n",
       "</tr>\n",
       "<tr>\n",
       "  <th>Small_Bags</th> <td>-1.933e+04</td> <td> 8803.422</td> <td>   -2.195</td> <td> 0.028</td> <td>-3.66e+04</td> <td>-2069.823</td>\n",
       "</tr>\n",
       "<tr>\n",
       "  <th>Large_Bags</th> <td>-1401.5976</td> <td>  638.442</td> <td>   -2.195</td> <td> 0.028</td> <td>-2653.003</td> <td> -150.192</td>\n",
       "</tr>\n",
       "<tr>\n",
       "  <th>XLargeBags</th> <td>    0.0194</td> <td>    0.003</td> <td>    6.482</td> <td> 0.000</td> <td>    0.014</td> <td>    0.025</td>\n",
       "</tr>\n",
       "<tr>\n",
       "  <th>type</th>       <td>   -0.0159</td> <td>    0.002</td> <td>   -6.665</td> <td> 0.000</td> <td>   -0.021</td> <td>   -0.011</td>\n",
       "</tr>\n",
       "<tr>\n",
       "  <th>year</th>       <td>    0.0401</td> <td>    0.002</td> <td>   16.894</td> <td> 0.000</td> <td>    0.035</td> <td>    0.045</td>\n",
       "</tr>\n",
       "<tr>\n",
       "  <th>region</th>     <td>   -0.1162</td> <td>    0.007</td> <td>  -15.692</td> <td> 0.000</td> <td>   -0.131</td> <td>   -0.102</td>\n",
       "</tr>\n",
       "</table>\n",
       "<table class=\"simpletable\">\n",
       "<tr>\n",
       "  <th>Omnibus:</th>       <td>10438.076</td> <th>  Durbin-Watson:     </th>  <td>   0.165</td>  \n",
       "</tr>\n",
       "<tr>\n",
       "  <th>Prob(Omnibus):</th>  <td> 0.000</td>   <th>  Jarque-Bera (JB):  </th> <td>1188266.395</td>\n",
       "</tr>\n",
       "<tr>\n",
       "  <th>Skew:</th>           <td> 1.808</td>   <th>  Prob(JB):          </th>  <td>    0.00</td>  \n",
       "</tr>\n",
       "<tr>\n",
       "  <th>Kurtosis:</th>       <td>42.366</td>   <th>  Cond. No.          </th>  <td>4.50e+07</td>  \n",
       "</tr>\n",
       "</table><br/><br/>Notes:<br/>[1] Standard Errors assume that the covariance matrix of the errors is correctly specified.<br/>[2] The smallest eigenvalue is 4.72e-11. This might indicate that there are<br/>strong multicollinearity problems or that the design matrix is singular."
      ],
      "text/plain": [
       "<class 'statsmodels.iolib.summary.Summary'>\n",
       "\"\"\"\n",
       "                            OLS Regression Results                            \n",
       "==============================================================================\n",
       "Dep. Variable:           AveragePrice   R-squared:                       0.902\n",
       "Model:                            OLS   Adj. R-squared:                  0.902\n",
       "Method:                 Least Squares   F-statistic:                 1.687e+04\n",
       "Date:                Mon, 25 Apr 2022   Prob (F-statistic):               0.00\n",
       "Time:                        07:54:54   Log-Likelihood:                -4660.1\n",
       "No. Observations:               18249   AIC:                             9342.\n",
       "Df Residuals:                   18238   BIC:                             9428.\n",
       "Df Model:                          10                                         \n",
       "Covariance Type:            nonrobust                                         \n",
       "==============================================================================\n",
       "                 coef    std err          t      P>|t|      [0.025      0.975]\n",
       "------------------------------------------------------------------------------\n",
       "Intercept      0.1634      0.011     15.318      0.000       0.143       0.184\n",
       "tot_ava1       0.3595      0.008     44.460      0.000       0.344       0.375\n",
       "tot_ava2       0.1083      0.005     20.381      0.000       0.098       0.119\n",
       "tot_ava3    7.812e+04   3.56e+04      2.195      0.028    8367.531    1.48e+05\n",
       "Total_Bags -5.911e+04   2.69e+04     -2.195      0.028   -1.12e+05   -6330.245\n",
       "Small_Bags -1.933e+04   8803.422     -2.195      0.028   -3.66e+04   -2069.823\n",
       "Large_Bags -1401.5976    638.442     -2.195      0.028   -2653.003    -150.192\n",
       "XLargeBags     0.0194      0.003      6.482      0.000       0.014       0.025\n",
       "type          -0.0159      0.002     -6.665      0.000      -0.021      -0.011\n",
       "year           0.0401      0.002     16.894      0.000       0.035       0.045\n",
       "region        -0.1162      0.007    -15.692      0.000      -0.131      -0.102\n",
       "==============================================================================\n",
       "Omnibus:                    10438.076   Durbin-Watson:                   0.165\n",
       "Prob(Omnibus):                  0.000   Jarque-Bera (JB):          1188266.395\n",
       "Skew:                           1.808   Prob(JB):                         0.00\n",
       "Kurtosis:                      42.366   Cond. No.                     4.50e+07\n",
       "==============================================================================\n",
       "\n",
       "Notes:\n",
       "[1] Standard Errors assume that the covariance matrix of the errors is correctly specified.\n",
       "[2] The smallest eigenvalue is 4.72e-11. This might indicate that there are\n",
       "strong multicollinearity problems or that the design matrix is singular.\n",
       "\"\"\""
      ]
     },
     "execution_count": 32,
     "metadata": {},
     "output_type": "execute_result"
    }
   ],
   "source": [
    "data1_new = data1.drop(data1.index[[5508]])\n",
    "\n",
    "# Preparing model                  \n",
    "ml_new = smf.ols('AveragePrice ~ tot_ava1+ tot_ava2+ tot_ava3+ Total_Bags+Small_Bags+ Large_Bags+ XLargeBags+ type+ year+ region', data = data1).fit() # regression model\n",
    "\n",
    "# Summary\n",
    "ml_new.summary()"
   ]
  },
  {
   "cell_type": "code",
   "execution_count": 33,
   "id": "69cd4cc7",
   "metadata": {},
   "outputs": [
    {
     "name": "stdout",
     "output_type": "stream",
     "text": [
      "       feature           VIF\n",
      "0     tot_ava1  1.061149e+01\n",
      "1     tot_ava2  1.411728e+01\n",
      "2     tot_ava3  5.606669e+00\n",
      "3   Total_Bags  2.502000e+14\n",
      "4   Small_Bags  1.429714e+14\n",
      "5   Large_Bags  1.521486e+13\n",
      "6  XLarge Bags  7.855572e+10\n",
      "7         type  2.119405e+00\n",
      "8         year  5.050186e+00\n",
      "9       region  4.159892e+00\n"
     ]
    }
   ],
   "source": [
    "from statsmodels.stats.outliers_influence import variance_inflation_factor\n",
    "data2 = data.iloc[:,1:]  \n",
    "  \n",
    "# VIF dataframe\n",
    "vif_data = pd.DataFrame()\n",
    "vif_data[\"feature\"] = data2.columns\n",
    "  \n",
    "# calculating VIF for each feature\n",
    "vif_data[\"VIF\"] = [variance_inflation_factor(data2.values, i)\n",
    "                          for i in range(len(data2.columns))]\n",
    "  \n",
    "print(vif_data)"
   ]
  },
  {
   "cell_type": "markdown",
   "id": "fe300df8",
   "metadata": {},
   "source": [
    "as weight is having highest VIF we will drop it"
   ]
  },
  {
   "cell_type": "code",
   "execution_count": 34,
   "id": "4bf748b9",
   "metadata": {},
   "outputs": [],
   "source": [
    "data1_new.drop(['Total_Bags'],axis=1,inplace=True) #drop zero variance column"
   ]
  },
  {
   "cell_type": "code",
   "execution_count": 35,
   "id": "d02ff08c",
   "metadata": {},
   "outputs": [
    {
     "data": {
      "text/html": [
       "<table class=\"simpletable\">\n",
       "<caption>OLS Regression Results</caption>\n",
       "<tr>\n",
       "  <th>Dep. Variable:</th>      <td>AveragePrice</td>   <th>  R-squared:         </th> <td>   0.902</td> \n",
       "</tr>\n",
       "<tr>\n",
       "  <th>Model:</th>                   <td>OLS</td>       <th>  Adj. R-squared:    </th> <td>   0.902</td> \n",
       "</tr>\n",
       "<tr>\n",
       "  <th>Method:</th>             <td>Least Squares</td>  <th>  F-statistic:       </th> <td>1.874e+04</td>\n",
       "</tr>\n",
       "<tr>\n",
       "  <th>Date:</th>             <td>Mon, 25 Apr 2022</td> <th>  Prob (F-statistic):</th>  <td>  0.00</td>  \n",
       "</tr>\n",
       "<tr>\n",
       "  <th>Time:</th>                 <td>07:56:27</td>     <th>  Log-Likelihood:    </th> <td> -4662.5</td> \n",
       "</tr>\n",
       "<tr>\n",
       "  <th>No. Observations:</th>      <td> 18249</td>      <th>  AIC:               </th> <td>   9345.</td> \n",
       "</tr>\n",
       "<tr>\n",
       "  <th>Df Residuals:</th>          <td> 18239</td>      <th>  BIC:               </th> <td>   9423.</td> \n",
       "</tr>\n",
       "<tr>\n",
       "  <th>Df Model:</th>              <td>     9</td>      <th>                     </th>     <td> </td>    \n",
       "</tr>\n",
       "<tr>\n",
       "  <th>Covariance Type:</th>      <td>nonrobust</td>    <th>                     </th>     <td> </td>    \n",
       "</tr>\n",
       "</table>\n",
       "<table class=\"simpletable\">\n",
       "<tr>\n",
       "       <td></td>         <th>coef</th>     <th>std err</th>      <th>t</th>      <th>P>|t|</th>  <th>[0.025</th>    <th>0.975]</th>  \n",
       "</tr>\n",
       "<tr>\n",
       "  <th>Intercept</th>  <td>    0.1635</td> <td>    0.011</td> <td>   15.320</td> <td> 0.000</td> <td>    0.143</td> <td>    0.184</td>\n",
       "</tr>\n",
       "<tr>\n",
       "  <th>tot_ava1</th>   <td>    0.3594</td> <td>    0.008</td> <td>   44.442</td> <td> 0.000</td> <td>    0.344</td> <td>    0.375</td>\n",
       "</tr>\n",
       "<tr>\n",
       "  <th>tot_ava2</th>   <td>    0.1084</td> <td>    0.005</td> <td>   20.389</td> <td> 0.000</td> <td>    0.098</td> <td>    0.119</td>\n",
       "</tr>\n",
       "<tr>\n",
       "  <th>tot_ava3</th>   <td>    0.6914</td> <td>    0.012</td> <td>   55.361</td> <td> 0.000</td> <td>    0.667</td> <td>    0.716</td>\n",
       "</tr>\n",
       "<tr>\n",
       "  <th>Small_Bags</th> <td>   -0.1247</td> <td>    0.008</td> <td>  -16.135</td> <td> 0.000</td> <td>   -0.140</td> <td>   -0.110</td>\n",
       "</tr>\n",
       "<tr>\n",
       "  <th>Large_Bags</th> <td>   -0.0933</td> <td>    0.004</td> <td>  -21.394</td> <td> 0.000</td> <td>   -0.102</td> <td>   -0.085</td>\n",
       "</tr>\n",
       "<tr>\n",
       "  <th>XLargeBags</th> <td>    0.0194</td> <td>    0.003</td> <td>    6.470</td> <td> 0.000</td> <td>    0.013</td> <td>    0.025</td>\n",
       "</tr>\n",
       "<tr>\n",
       "  <th>type</th>       <td>   -0.0158</td> <td>    0.002</td> <td>   -6.655</td> <td> 0.000</td> <td>   -0.020</td> <td>   -0.011</td>\n",
       "</tr>\n",
       "<tr>\n",
       "  <th>year</th>       <td>    0.0401</td> <td>    0.002</td> <td>   16.907</td> <td> 0.000</td> <td>    0.035</td> <td>    0.045</td>\n",
       "</tr>\n",
       "<tr>\n",
       "  <th>region</th>     <td>   -0.1163</td> <td>    0.007</td> <td>  -15.693</td> <td> 0.000</td> <td>   -0.131</td> <td>   -0.102</td>\n",
       "</tr>\n",
       "</table>\n",
       "<table class=\"simpletable\">\n",
       "<tr>\n",
       "  <th>Omnibus:</th>       <td>10434.121</td> <th>  Durbin-Watson:     </th>  <td>   0.164</td>  \n",
       "</tr>\n",
       "<tr>\n",
       "  <th>Prob(Omnibus):</th>  <td> 0.000</td>   <th>  Jarque-Bera (JB):  </th> <td>1188224.696</td>\n",
       "</tr>\n",
       "<tr>\n",
       "  <th>Skew:</th>           <td> 1.807</td>   <th>  Prob(JB):          </th>  <td>    0.00</td>  \n",
       "</tr>\n",
       "<tr>\n",
       "  <th>Kurtosis:</th>       <td>42.365</td>   <th>  Cond. No.          </th>  <td>    13.8</td>  \n",
       "</tr>\n",
       "</table><br/><br/>Notes:<br/>[1] Standard Errors assume that the covariance matrix of the errors is correctly specified."
      ],
      "text/plain": [
       "<class 'statsmodels.iolib.summary.Summary'>\n",
       "\"\"\"\n",
       "                            OLS Regression Results                            \n",
       "==============================================================================\n",
       "Dep. Variable:           AveragePrice   R-squared:                       0.902\n",
       "Model:                            OLS   Adj. R-squared:                  0.902\n",
       "Method:                 Least Squares   F-statistic:                 1.874e+04\n",
       "Date:                Mon, 25 Apr 2022   Prob (F-statistic):               0.00\n",
       "Time:                        07:56:27   Log-Likelihood:                -4662.5\n",
       "No. Observations:               18249   AIC:                             9345.\n",
       "Df Residuals:                   18239   BIC:                             9423.\n",
       "Df Model:                           9                                         \n",
       "Covariance Type:            nonrobust                                         \n",
       "==============================================================================\n",
       "                 coef    std err          t      P>|t|      [0.025      0.975]\n",
       "------------------------------------------------------------------------------\n",
       "Intercept      0.1635      0.011     15.320      0.000       0.143       0.184\n",
       "tot_ava1       0.3594      0.008     44.442      0.000       0.344       0.375\n",
       "tot_ava2       0.1084      0.005     20.389      0.000       0.098       0.119\n",
       "tot_ava3       0.6914      0.012     55.361      0.000       0.667       0.716\n",
       "Small_Bags    -0.1247      0.008    -16.135      0.000      -0.140      -0.110\n",
       "Large_Bags    -0.0933      0.004    -21.394      0.000      -0.102      -0.085\n",
       "XLargeBags     0.0194      0.003      6.470      0.000       0.013       0.025\n",
       "type          -0.0158      0.002     -6.655      0.000      -0.020      -0.011\n",
       "year           0.0401      0.002     16.907      0.000       0.035       0.045\n",
       "region        -0.1163      0.007    -15.693      0.000      -0.131      -0.102\n",
       "==============================================================================\n",
       "Omnibus:                    10434.121   Durbin-Watson:                   0.164\n",
       "Prob(Omnibus):                  0.000   Jarque-Bera (JB):          1188224.696\n",
       "Skew:                           1.807   Prob(JB):                         0.00\n",
       "Kurtosis:                      42.365   Cond. No.                         13.8\n",
       "==============================================================================\n",
       "\n",
       "Notes:\n",
       "[1] Standard Errors assume that the covariance matrix of the errors is correctly specified.\n",
       "\"\"\""
      ]
     },
     "execution_count": 35,
     "metadata": {},
     "output_type": "execute_result"
    }
   ],
   "source": [
    "# Preparing model                  \n",
    "ml_new = smf.ols('AveragePrice ~ tot_ava1+ tot_ava2+ tot_ava3+Small_Bags+ Large_Bags+ XLargeBags+ type+ year+ region', data = data1).fit() # regression model\n",
    "\n",
    "# Summary\n",
    "ml_new.summary()"
   ]
  },
  {
   "cell_type": "code",
   "execution_count": 36,
   "id": "851f1422",
   "metadata": {},
   "outputs": [
    {
     "name": "stdout",
     "output_type": "stream",
     "text": [
      "      feature        VIF\n",
      "0    tot_ava1  12.048091\n",
      "1    tot_ava2   5.203768\n",
      "2    tot_ava3  28.981024\n",
      "3  Small_Bags  11.105959\n",
      "4  Large_Bags   3.525909\n",
      "5  XLargeBags   1.087967\n",
      "6        type   1.042192\n",
      "7        year   1.052980\n",
      "8      region   1.031199\n"
     ]
    }
   ],
   "source": [
    "data2 = data1_new.iloc[:,1:]  \n",
    "  \n",
    "# VIF dataframe\n",
    "vif_data = pd.DataFrame()\n",
    "vif_data[\"feature\"] = data2.columns\n",
    "  \n",
    "# calculating VIF for each feature\n",
    "vif_data[\"VIF\"] = [variance_inflation_factor(data2.values, i)\n",
    "                          for i in range(len(data2.columns))]\n",
    "  \n",
    "print(vif_data)"
   ]
  },
  {
   "cell_type": "code",
   "execution_count": 37,
   "id": "237ad7fc",
   "metadata": {},
   "outputs": [],
   "source": [
    "data1_new.drop(['tot_ava3'],axis=1,inplace=True) #drop zero variance column"
   ]
  },
  {
   "cell_type": "code",
   "execution_count": 38,
   "id": "46321291",
   "metadata": {},
   "outputs": [
    {
     "data": {
      "text/html": [
       "<table class=\"simpletable\">\n",
       "<caption>OLS Regression Results</caption>\n",
       "<tr>\n",
       "  <th>Dep. Variable:</th>      <td>AveragePrice</td>   <th>  R-squared:         </th> <td>   0.886</td> \n",
       "</tr>\n",
       "<tr>\n",
       "  <th>Model:</th>                   <td>OLS</td>       <th>  Adj. R-squared:    </th> <td>   0.886</td> \n",
       "</tr>\n",
       "<tr>\n",
       "  <th>Method:</th>             <td>Least Squares</td>  <th>  F-statistic:       </th> <td>1.772e+04</td>\n",
       "</tr>\n",
       "<tr>\n",
       "  <th>Date:</th>             <td>Mon, 25 Apr 2022</td> <th>  Prob (F-statistic):</th>  <td>  0.00</td>  \n",
       "</tr>\n",
       "<tr>\n",
       "  <th>Time:</th>                 <td>07:57:19</td>     <th>  Log-Likelihood:    </th> <td> -6079.8</td> \n",
       "</tr>\n",
       "<tr>\n",
       "  <th>No. Observations:</th>      <td> 18249</td>      <th>  AIC:               </th> <td>1.218e+04</td>\n",
       "</tr>\n",
       "<tr>\n",
       "  <th>Df Residuals:</th>          <td> 18240</td>      <th>  BIC:               </th> <td>1.225e+04</td>\n",
       "</tr>\n",
       "<tr>\n",
       "  <th>Df Model:</th>              <td>     8</td>      <th>                     </th>     <td> </td>    \n",
       "</tr>\n",
       "<tr>\n",
       "  <th>Covariance Type:</th>      <td>nonrobust</td>    <th>                     </th>     <td> </td>    \n",
       "</tr>\n",
       "</table>\n",
       "<table class=\"simpletable\">\n",
       "<tr>\n",
       "       <td></td>         <th>coef</th>     <th>std err</th>      <th>t</th>      <th>P>|t|</th>  <th>[0.025</th>    <th>0.975]</th>  \n",
       "</tr>\n",
       "<tr>\n",
       "  <th>Intercept</th>  <td>    0.1861</td> <td>    0.012</td> <td>   16.148</td> <td> 0.000</td> <td>    0.163</td> <td>    0.209</td>\n",
       "</tr>\n",
       "<tr>\n",
       "  <th>tot_ava1</th>   <td>    0.6465</td> <td>    0.007</td> <td>   96.422</td> <td> 0.000</td> <td>    0.633</td> <td>    0.660</td>\n",
       "</tr>\n",
       "<tr>\n",
       "  <th>tot_ava2</th>   <td>    0.0596</td> <td>    0.006</td> <td>   10.531</td> <td> 0.000</td> <td>    0.049</td> <td>    0.071</td>\n",
       "</tr>\n",
       "<tr>\n",
       "  <th>Small_Bags</th> <td>    0.2274</td> <td>    0.005</td> <td>   47.949</td> <td> 0.000</td> <td>    0.218</td> <td>    0.237</td>\n",
       "</tr>\n",
       "<tr>\n",
       "  <th>Large_Bags</th> <td>    0.0465</td> <td>    0.004</td> <td>   12.086</td> <td> 0.000</td> <td>    0.039</td> <td>    0.054</td>\n",
       "</tr>\n",
       "<tr>\n",
       "  <th>XLargeBags</th> <td>    0.0218</td> <td>    0.003</td> <td>    6.742</td> <td> 0.000</td> <td>    0.015</td> <td>    0.028</td>\n",
       "</tr>\n",
       "<tr>\n",
       "  <th>type</th>       <td>   -0.0071</td> <td>    0.003</td> <td>   -2.757</td> <td> 0.006</td> <td>   -0.012</td> <td>   -0.002</td>\n",
       "</tr>\n",
       "<tr>\n",
       "  <th>year</th>       <td>    0.0425</td> <td>    0.003</td> <td>   16.580</td> <td> 0.000</td> <td>    0.038</td> <td>    0.048</td>\n",
       "</tr>\n",
       "<tr>\n",
       "  <th>region</th>     <td>   -0.1323</td> <td>    0.008</td> <td>  -16.542</td> <td> 0.000</td> <td>   -0.148</td> <td>   -0.117</td>\n",
       "</tr>\n",
       "</table>\n",
       "<table class=\"simpletable\">\n",
       "<tr>\n",
       "  <th>Omnibus:</th>       <td>8250.820</td> <th>  Durbin-Watson:     </th>  <td>   0.195</td>  \n",
       "</tr>\n",
       "<tr>\n",
       "  <th>Prob(Omnibus):</th>  <td> 0.000</td>  <th>  Jarque-Bera (JB):  </th> <td>1007158.204</td>\n",
       "</tr>\n",
       "<tr>\n",
       "  <th>Skew:</th>           <td> 1.177</td>  <th>  Prob(JB):          </th>  <td>    0.00</td>  \n",
       "</tr>\n",
       "<tr>\n",
       "  <th>Kurtosis:</th>       <td>39.318</td>  <th>  Cond. No.          </th>  <td>    10.4</td>  \n",
       "</tr>\n",
       "</table><br/><br/>Notes:<br/>[1] Standard Errors assume that the covariance matrix of the errors is correctly specified."
      ],
      "text/plain": [
       "<class 'statsmodels.iolib.summary.Summary'>\n",
       "\"\"\"\n",
       "                            OLS Regression Results                            \n",
       "==============================================================================\n",
       "Dep. Variable:           AveragePrice   R-squared:                       0.886\n",
       "Model:                            OLS   Adj. R-squared:                  0.886\n",
       "Method:                 Least Squares   F-statistic:                 1.772e+04\n",
       "Date:                Mon, 25 Apr 2022   Prob (F-statistic):               0.00\n",
       "Time:                        07:57:19   Log-Likelihood:                -6079.8\n",
       "No. Observations:               18249   AIC:                         1.218e+04\n",
       "Df Residuals:                   18240   BIC:                         1.225e+04\n",
       "Df Model:                           8                                         \n",
       "Covariance Type:            nonrobust                                         \n",
       "==============================================================================\n",
       "                 coef    std err          t      P>|t|      [0.025      0.975]\n",
       "------------------------------------------------------------------------------\n",
       "Intercept      0.1861      0.012     16.148      0.000       0.163       0.209\n",
       "tot_ava1       0.6465      0.007     96.422      0.000       0.633       0.660\n",
       "tot_ava2       0.0596      0.006     10.531      0.000       0.049       0.071\n",
       "Small_Bags     0.2274      0.005     47.949      0.000       0.218       0.237\n",
       "Large_Bags     0.0465      0.004     12.086      0.000       0.039       0.054\n",
       "XLargeBags     0.0218      0.003      6.742      0.000       0.015       0.028\n",
       "type          -0.0071      0.003     -2.757      0.006      -0.012      -0.002\n",
       "year           0.0425      0.003     16.580      0.000       0.038       0.048\n",
       "region        -0.1323      0.008    -16.542      0.000      -0.148      -0.117\n",
       "==============================================================================\n",
       "Omnibus:                     8250.820   Durbin-Watson:                   0.195\n",
       "Prob(Omnibus):                  0.000   Jarque-Bera (JB):          1007158.204\n",
       "Skew:                           1.177   Prob(JB):                         0.00\n",
       "Kurtosis:                      39.318   Cond. No.                         10.4\n",
       "==============================================================================\n",
       "\n",
       "Notes:\n",
       "[1] Standard Errors assume that the covariance matrix of the errors is correctly specified.\n",
       "\"\"\""
      ]
     },
     "execution_count": 38,
     "metadata": {},
     "output_type": "execute_result"
    }
   ],
   "source": [
    "# Preparing model                  \n",
    "ml_new = smf.ols('AveragePrice ~ tot_ava1+ tot_ava2+ Small_Bags+ Large_Bags+ XLargeBags+ type+ year+ region', data = data1).fit() # regression model\n",
    "\n",
    "# Summary\n",
    "ml_new.summary()"
   ]
  },
  {
   "cell_type": "code",
   "execution_count": 39,
   "id": "ec13c75d",
   "metadata": {},
   "outputs": [
    {
     "name": "stdout",
     "output_type": "stream",
     "text": [
      "      feature       VIF\n",
      "0    tot_ava1  7.099848\n",
      "1    tot_ava2  5.068615\n",
      "2  Small_Bags  3.543087\n",
      "3  Large_Bags  2.347357\n",
      "4  XLargeBags  1.087871\n",
      "5        type  1.038139\n",
      "6        year  1.052635\n",
      "7      region  1.031129\n"
     ]
    }
   ],
   "source": [
    "data2 = data1_new.iloc[:,1:]  \n",
    "  \n",
    "# VIF dataframe\n",
    "vif_data = pd.DataFrame()\n",
    "vif_data[\"feature\"] = data2.columns\n",
    "  \n",
    "# calculating VIF for each feature\n",
    "vif_data[\"VIF\"] = [variance_inflation_factor(data2.values, i)\n",
    "                          for i in range(len(data2.columns))]\n",
    "  \n",
    "print(vif_data)"
   ]
  },
  {
   "cell_type": "code",
   "execution_count": 40,
   "id": "7c2835ad",
   "metadata": {},
   "outputs": [
    {
     "data": {
      "text/html": [
       "<table class=\"simpletable\">\n",
       "<caption>OLS Regression Results</caption>\n",
       "<tr>\n",
       "  <th>Dep. Variable:</th>      <td>AveragePrice</td>   <th>  R-squared:         </th> <td>   0.886</td> \n",
       "</tr>\n",
       "<tr>\n",
       "  <th>Model:</th>                   <td>OLS</td>       <th>  Adj. R-squared:    </th> <td>   0.886</td> \n",
       "</tr>\n",
       "<tr>\n",
       "  <th>Method:</th>             <td>Least Squares</td>  <th>  F-statistic:       </th> <td>1.772e+04</td>\n",
       "</tr>\n",
       "<tr>\n",
       "  <th>Date:</th>             <td>Mon, 25 Apr 2022</td> <th>  Prob (F-statistic):</th>  <td>  0.00</td>  \n",
       "</tr>\n",
       "<tr>\n",
       "  <th>Time:</th>                 <td>07:58:03</td>     <th>  Log-Likelihood:    </th> <td> -6079.8</td> \n",
       "</tr>\n",
       "<tr>\n",
       "  <th>No. Observations:</th>      <td> 18249</td>      <th>  AIC:               </th> <td>1.218e+04</td>\n",
       "</tr>\n",
       "<tr>\n",
       "  <th>Df Residuals:</th>          <td> 18240</td>      <th>  BIC:               </th> <td>1.225e+04</td>\n",
       "</tr>\n",
       "<tr>\n",
       "  <th>Df Model:</th>              <td>     8</td>      <th>                     </th>     <td> </td>    \n",
       "</tr>\n",
       "<tr>\n",
       "  <th>Covariance Type:</th>      <td>nonrobust</td>    <th>                     </th>     <td> </td>    \n",
       "</tr>\n",
       "</table>\n",
       "<table class=\"simpletable\">\n",
       "<tr>\n",
       "       <td></td>         <th>coef</th>     <th>std err</th>      <th>t</th>      <th>P>|t|</th>  <th>[0.025</th>    <th>0.975]</th>  \n",
       "</tr>\n",
       "<tr>\n",
       "  <th>Intercept</th>  <td>    0.1861</td> <td>    0.012</td> <td>   16.148</td> <td> 0.000</td> <td>    0.163</td> <td>    0.209</td>\n",
       "</tr>\n",
       "<tr>\n",
       "  <th>tot_ava1</th>   <td>    0.6465</td> <td>    0.007</td> <td>   96.422</td> <td> 0.000</td> <td>    0.633</td> <td>    0.660</td>\n",
       "</tr>\n",
       "<tr>\n",
       "  <th>tot_ava2</th>   <td>    0.0596</td> <td>    0.006</td> <td>   10.531</td> <td> 0.000</td> <td>    0.049</td> <td>    0.071</td>\n",
       "</tr>\n",
       "<tr>\n",
       "  <th>Small_Bags</th> <td>    0.2274</td> <td>    0.005</td> <td>   47.949</td> <td> 0.000</td> <td>    0.218</td> <td>    0.237</td>\n",
       "</tr>\n",
       "<tr>\n",
       "  <th>Large_Bags</th> <td>    0.0465</td> <td>    0.004</td> <td>   12.086</td> <td> 0.000</td> <td>    0.039</td> <td>    0.054</td>\n",
       "</tr>\n",
       "<tr>\n",
       "  <th>XLargeBags</th> <td>    0.0218</td> <td>    0.003</td> <td>    6.742</td> <td> 0.000</td> <td>    0.015</td> <td>    0.028</td>\n",
       "</tr>\n",
       "<tr>\n",
       "  <th>type</th>       <td>   -0.0071</td> <td>    0.003</td> <td>   -2.757</td> <td> 0.006</td> <td>   -0.012</td> <td>   -0.002</td>\n",
       "</tr>\n",
       "<tr>\n",
       "  <th>year</th>       <td>    0.0425</td> <td>    0.003</td> <td>   16.580</td> <td> 0.000</td> <td>    0.038</td> <td>    0.048</td>\n",
       "</tr>\n",
       "<tr>\n",
       "  <th>region</th>     <td>   -0.1323</td> <td>    0.008</td> <td>  -16.542</td> <td> 0.000</td> <td>   -0.148</td> <td>   -0.117</td>\n",
       "</tr>\n",
       "</table>\n",
       "<table class=\"simpletable\">\n",
       "<tr>\n",
       "  <th>Omnibus:</th>       <td>8250.820</td> <th>  Durbin-Watson:     </th>  <td>   0.195</td>  \n",
       "</tr>\n",
       "<tr>\n",
       "  <th>Prob(Omnibus):</th>  <td> 0.000</td>  <th>  Jarque-Bera (JB):  </th> <td>1007158.204</td>\n",
       "</tr>\n",
       "<tr>\n",
       "  <th>Skew:</th>           <td> 1.177</td>  <th>  Prob(JB):          </th>  <td>    0.00</td>  \n",
       "</tr>\n",
       "<tr>\n",
       "  <th>Kurtosis:</th>       <td>39.318</td>  <th>  Cond. No.          </th>  <td>    10.4</td>  \n",
       "</tr>\n",
       "</table><br/><br/>Notes:<br/>[1] Standard Errors assume that the covariance matrix of the errors is correctly specified."
      ],
      "text/plain": [
       "<class 'statsmodels.iolib.summary.Summary'>\n",
       "\"\"\"\n",
       "                            OLS Regression Results                            \n",
       "==============================================================================\n",
       "Dep. Variable:           AveragePrice   R-squared:                       0.886\n",
       "Model:                            OLS   Adj. R-squared:                  0.886\n",
       "Method:                 Least Squares   F-statistic:                 1.772e+04\n",
       "Date:                Mon, 25 Apr 2022   Prob (F-statistic):               0.00\n",
       "Time:                        07:58:03   Log-Likelihood:                -6079.8\n",
       "No. Observations:               18249   AIC:                         1.218e+04\n",
       "Df Residuals:                   18240   BIC:                         1.225e+04\n",
       "Df Model:                           8                                         \n",
       "Covariance Type:            nonrobust                                         \n",
       "==============================================================================\n",
       "                 coef    std err          t      P>|t|      [0.025      0.975]\n",
       "------------------------------------------------------------------------------\n",
       "Intercept      0.1861      0.012     16.148      0.000       0.163       0.209\n",
       "tot_ava1       0.6465      0.007     96.422      0.000       0.633       0.660\n",
       "tot_ava2       0.0596      0.006     10.531      0.000       0.049       0.071\n",
       "Small_Bags     0.2274      0.005     47.949      0.000       0.218       0.237\n",
       "Large_Bags     0.0465      0.004     12.086      0.000       0.039       0.054\n",
       "XLargeBags     0.0218      0.003      6.742      0.000       0.015       0.028\n",
       "type          -0.0071      0.003     -2.757      0.006      -0.012      -0.002\n",
       "year           0.0425      0.003     16.580      0.000       0.038       0.048\n",
       "region        -0.1323      0.008    -16.542      0.000      -0.148      -0.117\n",
       "==============================================================================\n",
       "Omnibus:                     8250.820   Durbin-Watson:                   0.195\n",
       "Prob(Omnibus):                  0.000   Jarque-Bera (JB):          1007158.204\n",
       "Skew:                           1.177   Prob(JB):                         0.00\n",
       "Kurtosis:                      39.318   Cond. No.                         10.4\n",
       "==============================================================================\n",
       "\n",
       "Notes:\n",
       "[1] Standard Errors assume that the covariance matrix of the errors is correctly specified.\n",
       "\"\"\""
      ]
     },
     "execution_count": 40,
     "metadata": {},
     "output_type": "execute_result"
    }
   ],
   "source": [
    "# Final model\n",
    "final_ml = smf.ols('AveragePrice ~ tot_ava1+ tot_ava2+ Small_Bags+ Large_Bags+ XLargeBags+ type+ year+ region', data = data1).fit() # regression model\n",
    "final_ml.summary()     "
   ]
  },
  {
   "cell_type": "code",
   "execution_count": 41,
   "id": "1adbf9e6",
   "metadata": {},
   "outputs": [],
   "source": [
    "# Prediction\n",
    "pred = final_ml.predict(data1)"
   ]
  },
  {
   "cell_type": "code",
   "execution_count": 42,
   "id": "9b2de0eb",
   "metadata": {},
   "outputs": [
    {
     "data": {
      "image/png": "[encoded data removed]",
      "text/plain": [
       "<Figure size 432x288 with 1 Axes>"
      ]
     },
     "metadata": {},
     "output_type": "display_data"
    }
   ],
   "source": [
    "import matplotlib.pyplot as plt \n",
    "# Q-Q plot\n",
    "res = final_ml.resid\n",
    "sm.qqplot(res)\n",
    "plt.show()"
   ]
  },
  {
   "cell_type": "code",
   "execution_count": 43,
   "id": "dbf13157",
   "metadata": {},
   "outputs": [
    {
     "data": {
      "image/png": "[encoded data removed]",
      "text/plain": [
       "<Figure size 432x288 with 1 Axes>"
      ]
     },
     "metadata": {},
     "output_type": "display_data"
    }
   ],
   "source": [
    "# Q-Q plot\n",
    "from scipy import stats\n",
    "import pylab\n",
    "stats.probplot(res, dist = \"norm\", plot = pylab)\n",
    "plt.show()"
   ]
  },
  {
   "cell_type": "code",
   "execution_count": 44,
   "id": "8365f86b",
   "metadata": {},
   "outputs": [
    {
     "data": {
      "image/png": "[encoded data removed]",
      "text/plain": [
       "<Figure size 432x288 with 1 Axes>"
      ]
     },
     "metadata": {},
     "output_type": "display_data"
    }
   ],
   "source": [
    "# Residuals vs Fitted plot\n",
    "sns.residplot(x = pred, y = data.AveragePrice, lowess = True)\n",
    "plt.xlabel('Fitted')\n",
    "plt.ylabel('Residual')\n",
    "plt.title('Fitted vs Residual')\n",
    "plt.show()"
   ]
  },
  {
   "cell_type": "code",
   "execution_count": 45,
   "id": "2d1736eb",
   "metadata": {},
   "outputs": [],
   "source": [
    "### Splitting the data into train and test data \n",
    "from sklearn.model_selection import train_test_split\n",
    "data_train, data_test = train_test_split(data1_new, test_size = 0.2) # 20% test data"
   ]
  },
  {
   "cell_type": "code",
   "execution_count": 46,
   "id": "b204be30",
   "metadata": {},
   "outputs": [
    {
     "data": {
      "text/plain": [
       "0.31868126508559486"
      ]
     },
     "execution_count": 46,
     "metadata": {},
     "output_type": "execute_result"
    }
   ],
   "source": [
    "# preparing the model on train data \n",
    "model_train = smf.ols('AveragePrice ~ tot_ava1+ tot_ava2+ Small_Bags+ Large_Bags+ XLargeBags+ type+ year+ region', data = data1).fit() # regression model\n",
    "\n",
    "# prediction on test data set \n",
    "test_pred = model_train.predict(data_test)\n",
    "\n",
    "# test residual values \n",
    "test_resid = test_pred - data_test.AveragePrice\n",
    "# RMSE value for test data \n",
    "test_rmse = np.sqrt(np.mean(test_resid * test_resid))\n",
    "test_rmse"
   ]
  },
  {
   "cell_type": "code",
   "execution_count": 47,
   "id": "30d50e97",
   "metadata": {},
   "outputs": [
    {
     "data": {
      "text/html": [
       "<table class=\"simpletable\">\n",
       "<caption>OLS Regression Results</caption>\n",
       "<tr>\n",
       "  <th>Dep. Variable:</th>      <td>AveragePrice</td>   <th>  R-squared:         </th> <td>   0.886</td> \n",
       "</tr>\n",
       "<tr>\n",
       "  <th>Model:</th>                   <td>OLS</td>       <th>  Adj. R-squared:    </th> <td>   0.886</td> \n",
       "</tr>\n",
       "<tr>\n",
       "  <th>Method:</th>             <td>Least Squares</td>  <th>  F-statistic:       </th> <td>1.772e+04</td>\n",
       "</tr>\n",
       "<tr>\n",
       "  <th>Date:</th>             <td>Mon, 25 Apr 2022</td> <th>  Prob (F-statistic):</th>  <td>  0.00</td>  \n",
       "</tr>\n",
       "<tr>\n",
       "  <th>Time:</th>                 <td>07:59:57</td>     <th>  Log-Likelihood:    </th> <td> -6079.8</td> \n",
       "</tr>\n",
       "<tr>\n",
       "  <th>No. Observations:</th>      <td> 18249</td>      <th>  AIC:               </th> <td>1.218e+04</td>\n",
       "</tr>\n",
       "<tr>\n",
       "  <th>Df Residuals:</th>          <td> 18240</td>      <th>  BIC:               </th> <td>1.225e+04</td>\n",
       "</tr>\n",
       "<tr>\n",
       "  <th>Df Model:</th>              <td>     8</td>      <th>                     </th>     <td> </td>    \n",
       "</tr>\n",
       "<tr>\n",
       "  <th>Covariance Type:</th>      <td>nonrobust</td>    <th>                     </th>     <td> </td>    \n",
       "</tr>\n",
       "</table>\n",
       "<table class=\"simpletable\">\n",
       "<tr>\n",
       "       <td></td>         <th>coef</th>     <th>std err</th>      <th>t</th>      <th>P>|t|</th>  <th>[0.025</th>    <th>0.975]</th>  \n",
       "</tr>\n",
       "<tr>\n",
       "  <th>Intercept</th>  <td>    0.1861</td> <td>    0.012</td> <td>   16.148</td> <td> 0.000</td> <td>    0.163</td> <td>    0.209</td>\n",
       "</tr>\n",
       "<tr>\n",
       "  <th>tot_ava1</th>   <td>    0.6465</td> <td>    0.007</td> <td>   96.422</td> <td> 0.000</td> <td>    0.633</td> <td>    0.660</td>\n",
       "</tr>\n",
       "<tr>\n",
       "  <th>tot_ava2</th>   <td>    0.0596</td> <td>    0.006</td> <td>   10.531</td> <td> 0.000</td> <td>    0.049</td> <td>    0.071</td>\n",
       "</tr>\n",
       "<tr>\n",
       "  <th>Small_Bags</th> <td>    0.2274</td> <td>    0.005</td> <td>   47.949</td> <td> 0.000</td> <td>    0.218</td> <td>    0.237</td>\n",
       "</tr>\n",
       "<tr>\n",
       "  <th>Large_Bags</th> <td>    0.0465</td> <td>    0.004</td> <td>   12.086</td> <td> 0.000</td> <td>    0.039</td> <td>    0.054</td>\n",
       "</tr>\n",
       "<tr>\n",
       "  <th>XLargeBags</th> <td>    0.0218</td> <td>    0.003</td> <td>    6.742</td> <td> 0.000</td> <td>    0.015</td> <td>    0.028</td>\n",
       "</tr>\n",
       "<tr>\n",
       "  <th>type</th>       <td>   -0.0071</td> <td>    0.003</td> <td>   -2.757</td> <td> 0.006</td> <td>   -0.012</td> <td>   -0.002</td>\n",
       "</tr>\n",
       "<tr>\n",
       "  <th>year</th>       <td>    0.0425</td> <td>    0.003</td> <td>   16.580</td> <td> 0.000</td> <td>    0.038</td> <td>    0.048</td>\n",
       "</tr>\n",
       "<tr>\n",
       "  <th>region</th>     <td>   -0.1323</td> <td>    0.008</td> <td>  -16.542</td> <td> 0.000</td> <td>   -0.148</td> <td>   -0.117</td>\n",
       "</tr>\n",
       "</table>\n",
       "<table class=\"simpletable\">\n",
       "<tr>\n",
       "  <th>Omnibus:</th>       <td>8250.820</td> <th>  Durbin-Watson:     </th>  <td>   0.195</td>  \n",
       "</tr>\n",
       "<tr>\n",
       "  <th>Prob(Omnibus):</th>  <td> 0.000</td>  <th>  Jarque-Bera (JB):  </th> <td>1007158.204</td>\n",
       "</tr>\n",
       "<tr>\n",
       "  <th>Skew:</th>           <td> 1.177</td>  <th>  Prob(JB):          </th>  <td>    0.00</td>  \n",
       "</tr>\n",
       "<tr>\n",
       "  <th>Kurtosis:</th>       <td>39.318</td>  <th>  Cond. No.          </th>  <td>    10.4</td>  \n",
       "</tr>\n",
       "</table><br/><br/>Notes:<br/>[1] Standard Errors assume that the covariance matrix of the errors is correctly specified."
      ],
      "text/plain": [
       "<class 'statsmodels.iolib.summary.Summary'>\n",
       "\"\"\"\n",
       "                            OLS Regression Results                            \n",
       "==============================================================================\n",
       "Dep. Variable:           AveragePrice   R-squared:                       0.886\n",
       "Model:                            OLS   Adj. R-squared:                  0.886\n",
       "Method:                 Least Squares   F-statistic:                 1.772e+04\n",
       "Date:                Mon, 25 Apr 2022   Prob (F-statistic):               0.00\n",
       "Time:                        07:59:57   Log-Likelihood:                -6079.8\n",
       "No. Observations:               18249   AIC:                         1.218e+04\n",
       "Df Residuals:                   18240   BIC:                         1.225e+04\n",
       "Df Model:                           8                                         \n",
       "Covariance Type:            nonrobust                                         \n",
       "==============================================================================\n",
       "                 coef    std err          t      P>|t|      [0.025      0.975]\n",
       "------------------------------------------------------------------------------\n",
       "Intercept      0.1861      0.012     16.148      0.000       0.163       0.209\n",
       "tot_ava1       0.6465      0.007     96.422      0.000       0.633       0.660\n",
       "tot_ava2       0.0596      0.006     10.531      0.000       0.049       0.071\n",
       "Small_Bags     0.2274      0.005     47.949      0.000       0.218       0.237\n",
       "Large_Bags     0.0465      0.004     12.086      0.000       0.039       0.054\n",
       "XLargeBags     0.0218      0.003      6.742      0.000       0.015       0.028\n",
       "type          -0.0071      0.003     -2.757      0.006      -0.012      -0.002\n",
       "year           0.0425      0.003     16.580      0.000       0.038       0.048\n",
       "region        -0.1323      0.008    -16.542      0.000      -0.148      -0.117\n",
       "==============================================================================\n",
       "Omnibus:                     8250.820   Durbin-Watson:                   0.195\n",
       "Prob(Omnibus):                  0.000   Jarque-Bera (JB):          1007158.204\n",
       "Skew:                           1.177   Prob(JB):                         0.00\n",
       "Kurtosis:                      39.318   Cond. No.                         10.4\n",
       "==============================================================================\n",
       "\n",
       "Notes:\n",
       "[1] Standard Errors assume that the covariance matrix of the errors is correctly specified.\n",
       "\"\"\""
      ]
     },
     "execution_count": 47,
     "metadata": {},
     "output_type": "execute_result"
    }
   ],
   "source": [
    "model_train.summary()"
   ]
  },
  {
   "cell_type": "code",
   "execution_count": 48,
   "id": "b6084832",
   "metadata": {},
   "outputs": [
    {
     "data": {
      "text/plain": [
       "0.3388114819683834"
      ]
     },
     "execution_count": 48,
     "metadata": {},
     "output_type": "execute_result"
    }
   ],
   "source": [
    "# train_data prediction\n",
    "train_pred = model_train.predict(data_train)\n",
    "\n",
    "# train residual values \n",
    "train_resid  = train_pred - data_train.AveragePrice\n",
    "# RMSE value for train data \n",
    "train_rmse = np.sqrt(np.mean(train_resid * train_resid))\n",
    "train_rmse"
   ]
  },
  {
   "cell_type": "code",
   "execution_count": 49,
   "id": "91ea238a",
   "metadata": {},
   "outputs": [
    {
     "data": {
      "text/html": [
       "<table class=\"simpletable\">\n",
       "<caption>OLS Regression Results</caption>\n",
       "<tr>\n",
       "  <th>Dep. Variable:</th>      <td>AveragePrice</td>   <th>  R-squared:         </th> <td>   0.886</td> \n",
       "</tr>\n",
       "<tr>\n",
       "  <th>Model:</th>                   <td>OLS</td>       <th>  Adj. R-squared:    </th> <td>   0.886</td> \n",
       "</tr>\n",
       "<tr>\n",
       "  <th>Method:</th>             <td>Least Squares</td>  <th>  F-statistic:       </th> <td>1.772e+04</td>\n",
       "</tr>\n",
       "<tr>\n",
       "  <th>Date:</th>             <td>Mon, 25 Apr 2022</td> <th>  Prob (F-statistic):</th>  <td>  0.00</td>  \n",
       "</tr>\n",
       "<tr>\n",
       "  <th>Time:</th>                 <td>08:00:07</td>     <th>  Log-Likelihood:    </th> <td> -6079.8</td> \n",
       "</tr>\n",
       "<tr>\n",
       "  <th>No. Observations:</th>      <td> 18249</td>      <th>  AIC:               </th> <td>1.218e+04</td>\n",
       "</tr>\n",
       "<tr>\n",
       "  <th>Df Residuals:</th>          <td> 18240</td>      <th>  BIC:               </th> <td>1.225e+04</td>\n",
       "</tr>\n",
       "<tr>\n",
       "  <th>Df Model:</th>              <td>     8</td>      <th>                     </th>     <td> </td>    \n",
       "</tr>\n",
       "<tr>\n",
       "  <th>Covariance Type:</th>      <td>nonrobust</td>    <th>                     </th>     <td> </td>    \n",
       "</tr>\n",
       "</table>\n",
       "<table class=\"simpletable\">\n",
       "<tr>\n",
       "       <td></td>         <th>coef</th>     <th>std err</th>      <th>t</th>      <th>P>|t|</th>  <th>[0.025</th>    <th>0.975]</th>  \n",
       "</tr>\n",
       "<tr>\n",
       "  <th>Intercept</th>  <td>    0.1861</td> <td>    0.012</td> <td>   16.148</td> <td> 0.000</td> <td>    0.163</td> <td>    0.209</td>\n",
       "</tr>\n",
       "<tr>\n",
       "  <th>tot_ava1</th>   <td>    0.6465</td> <td>    0.007</td> <td>   96.422</td> <td> 0.000</td> <td>    0.633</td> <td>    0.660</td>\n",
       "</tr>\n",
       "<tr>\n",
       "  <th>tot_ava2</th>   <td>    0.0596</td> <td>    0.006</td> <td>   10.531</td> <td> 0.000</td> <td>    0.049</td> <td>    0.071</td>\n",
       "</tr>\n",
       "<tr>\n",
       "  <th>Small_Bags</th> <td>    0.2274</td> <td>    0.005</td> <td>   47.949</td> <td> 0.000</td> <td>    0.218</td> <td>    0.237</td>\n",
       "</tr>\n",
       "<tr>\n",
       "  <th>Large_Bags</th> <td>    0.0465</td> <td>    0.004</td> <td>   12.086</td> <td> 0.000</td> <td>    0.039</td> <td>    0.054</td>\n",
       "</tr>\n",
       "<tr>\n",
       "  <th>XLargeBags</th> <td>    0.0218</td> <td>    0.003</td> <td>    6.742</td> <td> 0.000</td> <td>    0.015</td> <td>    0.028</td>\n",
       "</tr>\n",
       "<tr>\n",
       "  <th>type</th>       <td>   -0.0071</td> <td>    0.003</td> <td>   -2.757</td> <td> 0.006</td> <td>   -0.012</td> <td>   -0.002</td>\n",
       "</tr>\n",
       "<tr>\n",
       "  <th>year</th>       <td>    0.0425</td> <td>    0.003</td> <td>   16.580</td> <td> 0.000</td> <td>    0.038</td> <td>    0.048</td>\n",
       "</tr>\n",
       "<tr>\n",
       "  <th>region</th>     <td>   -0.1323</td> <td>    0.008</td> <td>  -16.542</td> <td> 0.000</td> <td>   -0.148</td> <td>   -0.117</td>\n",
       "</tr>\n",
       "</table>\n",
       "<table class=\"simpletable\">\n",
       "<tr>\n",
       "  <th>Omnibus:</th>       <td>8250.820</td> <th>  Durbin-Watson:     </th>  <td>   0.195</td>  \n",
       "</tr>\n",
       "<tr>\n",
       "  <th>Prob(Omnibus):</th>  <td> 0.000</td>  <th>  Jarque-Bera (JB):  </th> <td>1007158.204</td>\n",
       "</tr>\n",
       "<tr>\n",
       "  <th>Skew:</th>           <td> 1.177</td>  <th>  Prob(JB):          </th>  <td>    0.00</td>  \n",
       "</tr>\n",
       "<tr>\n",
       "  <th>Kurtosis:</th>       <td>39.318</td>  <th>  Cond. No.          </th>  <td>    10.4</td>  \n",
       "</tr>\n",
       "</table><br/><br/>Notes:<br/>[1] Standard Errors assume that the covariance matrix of the errors is correctly specified."
      ],
      "text/plain": [
       "<class 'statsmodels.iolib.summary.Summary'>\n",
       "\"\"\"\n",
       "                            OLS Regression Results                            \n",
       "==============================================================================\n",
       "Dep. Variable:           AveragePrice   R-squared:                       0.886\n",
       "Model:                            OLS   Adj. R-squared:                  0.886\n",
       "Method:                 Least Squares   F-statistic:                 1.772e+04\n",
       "Date:                Mon, 25 Apr 2022   Prob (F-statistic):               0.00\n",
       "Time:                        08:00:07   Log-Likelihood:                -6079.8\n",
       "No. Observations:               18249   AIC:                         1.218e+04\n",
       "Df Residuals:                   18240   BIC:                         1.225e+04\n",
       "Df Model:                           8                                         \n",
       "Covariance Type:            nonrobust                                         \n",
       "==============================================================================\n",
       "                 coef    std err          t      P>|t|      [0.025      0.975]\n",
       "------------------------------------------------------------------------------\n",
       "Intercept      0.1861      0.012     16.148      0.000       0.163       0.209\n",
       "tot_ava1       0.6465      0.007     96.422      0.000       0.633       0.660\n",
       "tot_ava2       0.0596      0.006     10.531      0.000       0.049       0.071\n",
       "Small_Bags     0.2274      0.005     47.949      0.000       0.218       0.237\n",
       "Large_Bags     0.0465      0.004     12.086      0.000       0.039       0.054\n",
       "XLargeBags     0.0218      0.003      6.742      0.000       0.015       0.028\n",
       "type          -0.0071      0.003     -2.757      0.006      -0.012      -0.002\n",
       "year           0.0425      0.003     16.580      0.000       0.038       0.048\n",
       "region        -0.1323      0.008    -16.542      0.000      -0.148      -0.117\n",
       "==============================================================================\n",
       "Omnibus:                     8250.820   Durbin-Watson:                   0.195\n",
       "Prob(Omnibus):                  0.000   Jarque-Bera (JB):          1007158.204\n",
       "Skew:                           1.177   Prob(JB):                         0.00\n",
       "Kurtosis:                      39.318   Cond. No.                         10.4\n",
       "==============================================================================\n",
       "\n",
       "Notes:\n",
       "[1] Standard Errors assume that the covariance matrix of the errors is correctly specified.\n",
       "\"\"\""
      ]
     },
     "execution_count": 49,
     "metadata": {},
     "output_type": "execute_result"
    }
   ],
   "source": [
    "model_train.summary()"
   ]
  }
 ],
 "metadata": {
  "kernelspec": {
   "display_name": "Python 3 (ipykernel)",
   "language": "python",
   "name": "python3"
  },
  "language_info": {
   "codemirror_mode": {
    "name": "ipython",
    "version": 3
   },
   "file_extension": ".py",
   "mimetype": "text/x-python",
   "name": "python",
   "nbconvert_exporter": "python",
   "pygments_lexer": "ipython3",
   "version": "3.9.5"
  },
  "toc": {
   "base_numbering": 1,
   "nav_menu": {},
   "number_sections": true,
   "sideBar": true,
   "skip_h1_title": false,
   "title_cell": "Table of Contents",
   "title_sidebar": "Contents",
   "toc_cell": false,
   "toc_position": {
    "height": "calc(100% - 180px)",
    "left": "10px",
    "top": "150px",
    "width": "223px"
   },
   "toc_section_display": true,
   "toc_window_display": true
  },
  "varInspector": {
   "cols": {
    "lenName": 16,
    "lenType": 16,
    "lenVar": 40
   },
   "kernels_config": {
    "python": {
     "delete_cmd_postfix": "",
     "delete_cmd_prefix": "del ",
     "library": "var_list.py",
     "varRefreshCmd": "print(var_dic_list())"
    },
    "r": {
     "delete_cmd_postfix": ") ",
     "delete_cmd_prefix": "rm(",
     "library": "var_list.r",
     "varRefreshCmd": "cat(var_dic_list()) "
    }
   },
   "types_to_exclude": [
    "module",
    "function",
    "builtin_function_or_method",
    "instance",
    "_Feature"
   ],
   "window_display": false
  }
 },
 "nbformat": 4,
 "nbformat_minor": 5
}
