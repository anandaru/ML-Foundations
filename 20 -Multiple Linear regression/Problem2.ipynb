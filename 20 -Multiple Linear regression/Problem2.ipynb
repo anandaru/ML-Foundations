{
 "cells": [
  {
   "cell_type": "markdown",
   "id": "6a664308",
   "metadata": {},
   "source": [
    "## Problem2"
   ]
  },
  {
   "cell_type": "markdown",
   "id": "ddff265b",
   "metadata": {},
   "source": [
    "Perform multilinear regression with price as the output variable and document the different RMSE values."
   ]
  },
  {
   "cell_type": "code",
   "execution_count": 1,
   "id": "dd5a9f0c",
   "metadata": {},
   "outputs": [],
   "source": [
    "import pandas as pd\n",
    "import numpy as np\n",
    "from sklearn.preprocessing import LabelEncoder\n",
    "\n",
    "data = pd.read_csv('Computer_Data.csv')"
   ]
  },
  {
   "cell_type": "code",
   "execution_count": 2,
   "id": "c2fefa3b",
   "metadata": {},
   "outputs": [
    {
     "data": {
      "text/plain": [
       "(6259, 11)"
      ]
     },
     "execution_count": 2,
     "metadata": {},
     "output_type": "execute_result"
    }
   ],
   "source": [
    "data.shape"
   ]
  },
  {
   "cell_type": "markdown",
   "id": "bea94c9a",
   "metadata": {},
   "source": [
    "### Null values imputation"
   ]
  },
  {
   "cell_type": "code",
   "execution_count": 3,
   "id": "2a51ce1f",
   "metadata": {},
   "outputs": [
    {
     "data": {
      "text/plain": [
       "Unnamed: 0    0\n",
       "price         0\n",
       "speed         0\n",
       "hd            0\n",
       "ram           0\n",
       "screen        0\n",
       "cd            0\n",
       "multi         0\n",
       "premium       0\n",
       "ads           0\n",
       "trend         0\n",
       "dtype: int64"
      ]
     },
     "execution_count": 3,
     "metadata": {},
     "output_type": "execute_result"
    }
   ],
   "source": [
    "data.isnull().sum()"
   ]
  },
  {
   "cell_type": "markdown",
   "id": "e307a1ad",
   "metadata": {},
   "source": [
    "We observe that Actual_Shipment_Time, Shipment_Delay and Delivery_Status are null for the same set of rows. Remaining null values (406) are in Planned_TimeofTravel. We can drop these 82008 rows."
   ]
  },
  {
   "cell_type": "code",
   "execution_count": 43,
   "id": "9c57a1b9",
   "metadata": {},
   "outputs": [],
   "source": [
    "#Drop null valued rows\n",
    "#data.dropna(inplace=True)"
   ]
  },
  {
   "cell_type": "code",
   "execution_count": 4,
   "id": "8af90837",
   "metadata": {},
   "outputs": [
    {
     "data": {
      "text/plain": [
       "(6259, 11)"
      ]
     },
     "execution_count": 4,
     "metadata": {},
     "output_type": "execute_result"
    }
   ],
   "source": [
    "data.shape"
   ]
  },
  {
   "cell_type": "code",
   "execution_count": 5,
   "id": "3a20e55b",
   "metadata": {},
   "outputs": [
    {
     "data": {
      "text/plain": [
       "0"
      ]
     },
     "execution_count": 5,
     "metadata": {},
     "output_type": "execute_result"
    }
   ],
   "source": [
    "data.isnull().sum().sum()"
   ]
  },
  {
   "cell_type": "code",
   "execution_count": 6,
   "id": "64c10d1b",
   "metadata": {},
   "outputs": [
    {
     "data": {
      "text/html": [
       "<div>\n",
       "<style scoped>\n",
       "    .dataframe tbody tr th:only-of-type {\n",
       "        vertical-align: middle;\n",
       "    }\n",
       "\n",
       "    .dataframe tbody tr th {\n",
       "        vertical-align: top;\n",
       "    }\n",
       "\n",
       "    .dataframe thead th {\n",
       "        text-align: right;\n",
       "    }\n",
       "</style>\n",
       "<table border=\"1\" class=\"dataframe\">\n",
       "  <thead>\n",
       "    <tr style=\"text-align: right;\">\n",
       "      <th></th>\n",
       "      <th>Unnamed: 0</th>\n",
       "      <th>price</th>\n",
       "      <th>speed</th>\n",
       "      <th>hd</th>\n",
       "      <th>ram</th>\n",
       "      <th>screen</th>\n",
       "      <th>cd</th>\n",
       "      <th>multi</th>\n",
       "      <th>premium</th>\n",
       "      <th>ads</th>\n",
       "      <th>trend</th>\n",
       "    </tr>\n",
       "  </thead>\n",
       "  <tbody>\n",
       "    <tr>\n",
       "      <th>0</th>\n",
       "      <td>1</td>\n",
       "      <td>1499</td>\n",
       "      <td>25</td>\n",
       "      <td>80</td>\n",
       "      <td>4</td>\n",
       "      <td>14</td>\n",
       "      <td>no</td>\n",
       "      <td>no</td>\n",
       "      <td>yes</td>\n",
       "      <td>94</td>\n",
       "      <td>1</td>\n",
       "    </tr>\n",
       "    <tr>\n",
       "      <th>1</th>\n",
       "      <td>2</td>\n",
       "      <td>1795</td>\n",
       "      <td>33</td>\n",
       "      <td>85</td>\n",
       "      <td>2</td>\n",
       "      <td>14</td>\n",
       "      <td>no</td>\n",
       "      <td>no</td>\n",
       "      <td>yes</td>\n",
       "      <td>94</td>\n",
       "      <td>1</td>\n",
       "    </tr>\n",
       "    <tr>\n",
       "      <th>2</th>\n",
       "      <td>3</td>\n",
       "      <td>1595</td>\n",
       "      <td>25</td>\n",
       "      <td>170</td>\n",
       "      <td>4</td>\n",
       "      <td>15</td>\n",
       "      <td>no</td>\n",
       "      <td>no</td>\n",
       "      <td>yes</td>\n",
       "      <td>94</td>\n",
       "      <td>1</td>\n",
       "    </tr>\n",
       "    <tr>\n",
       "      <th>3</th>\n",
       "      <td>4</td>\n",
       "      <td>1849</td>\n",
       "      <td>25</td>\n",
       "      <td>170</td>\n",
       "      <td>8</td>\n",
       "      <td>14</td>\n",
       "      <td>no</td>\n",
       "      <td>no</td>\n",
       "      <td>no</td>\n",
       "      <td>94</td>\n",
       "      <td>1</td>\n",
       "    </tr>\n",
       "    <tr>\n",
       "      <th>4</th>\n",
       "      <td>5</td>\n",
       "      <td>3295</td>\n",
       "      <td>33</td>\n",
       "      <td>340</td>\n",
       "      <td>16</td>\n",
       "      <td>14</td>\n",
       "      <td>no</td>\n",
       "      <td>no</td>\n",
       "      <td>yes</td>\n",
       "      <td>94</td>\n",
       "      <td>1</td>\n",
       "    </tr>\n",
       "  </tbody>\n",
       "</table>\n",
       "</div>"
      ],
      "text/plain": [
       "   Unnamed: 0  price  speed   hd  ram  screen  cd multi premium  ads  trend\n",
       "0           1   1499     25   80    4      14  no    no     yes   94      1\n",
       "1           2   1795     33   85    2      14  no    no     yes   94      1\n",
       "2           3   1595     25  170    4      15  no    no     yes   94      1\n",
       "3           4   1849     25  170    8      14  no    no      no   94      1\n",
       "4           5   3295     33  340   16      14  no    no     yes   94      1"
      ]
     },
     "execution_count": 6,
     "metadata": {},
     "output_type": "execute_result"
    }
   ],
   "source": [
    "data.head()"
   ]
  },
  {
   "cell_type": "code",
   "execution_count": 7,
   "id": "925de32b",
   "metadata": {},
   "outputs": [],
   "source": [
    "data.drop(['Unnamed: 0'],axis=1,inplace=True)"
   ]
  },
  {
   "cell_type": "code",
   "execution_count": 8,
   "id": "53406ec0",
   "metadata": {},
   "outputs": [
    {
     "data": {
      "text/html": [
       "<div>\n",
       "<style scoped>\n",
       "    .dataframe tbody tr th:only-of-type {\n",
       "        vertical-align: middle;\n",
       "    }\n",
       "\n",
       "    .dataframe tbody tr th {\n",
       "        vertical-align: top;\n",
       "    }\n",
       "\n",
       "    .dataframe thead th {\n",
       "        text-align: right;\n",
       "    }\n",
       "</style>\n",
       "<table border=\"1\" class=\"dataframe\">\n",
       "  <thead>\n",
       "    <tr style=\"text-align: right;\">\n",
       "      <th></th>\n",
       "      <th>price</th>\n",
       "      <th>speed</th>\n",
       "      <th>hd</th>\n",
       "      <th>ram</th>\n",
       "      <th>screen</th>\n",
       "      <th>cd</th>\n",
       "      <th>multi</th>\n",
       "      <th>premium</th>\n",
       "      <th>ads</th>\n",
       "      <th>trend</th>\n",
       "    </tr>\n",
       "  </thead>\n",
       "  <tbody>\n",
       "    <tr>\n",
       "      <th>0</th>\n",
       "      <td>1499</td>\n",
       "      <td>25</td>\n",
       "      <td>80</td>\n",
       "      <td>4</td>\n",
       "      <td>14</td>\n",
       "      <td>no</td>\n",
       "      <td>no</td>\n",
       "      <td>yes</td>\n",
       "      <td>94</td>\n",
       "      <td>1</td>\n",
       "    </tr>\n",
       "    <tr>\n",
       "      <th>1</th>\n",
       "      <td>1795</td>\n",
       "      <td>33</td>\n",
       "      <td>85</td>\n",
       "      <td>2</td>\n",
       "      <td>14</td>\n",
       "      <td>no</td>\n",
       "      <td>no</td>\n",
       "      <td>yes</td>\n",
       "      <td>94</td>\n",
       "      <td>1</td>\n",
       "    </tr>\n",
       "    <tr>\n",
       "      <th>2</th>\n",
       "      <td>1595</td>\n",
       "      <td>25</td>\n",
       "      <td>170</td>\n",
       "      <td>4</td>\n",
       "      <td>15</td>\n",
       "      <td>no</td>\n",
       "      <td>no</td>\n",
       "      <td>yes</td>\n",
       "      <td>94</td>\n",
       "      <td>1</td>\n",
       "    </tr>\n",
       "    <tr>\n",
       "      <th>3</th>\n",
       "      <td>1849</td>\n",
       "      <td>25</td>\n",
       "      <td>170</td>\n",
       "      <td>8</td>\n",
       "      <td>14</td>\n",
       "      <td>no</td>\n",
       "      <td>no</td>\n",
       "      <td>no</td>\n",
       "      <td>94</td>\n",
       "      <td>1</td>\n",
       "    </tr>\n",
       "    <tr>\n",
       "      <th>4</th>\n",
       "      <td>3295</td>\n",
       "      <td>33</td>\n",
       "      <td>340</td>\n",
       "      <td>16</td>\n",
       "      <td>14</td>\n",
       "      <td>no</td>\n",
       "      <td>no</td>\n",
       "      <td>yes</td>\n",
       "      <td>94</td>\n",
       "      <td>1</td>\n",
       "    </tr>\n",
       "  </tbody>\n",
       "</table>\n",
       "</div>"
      ],
      "text/plain": [
       "   price  speed   hd  ram  screen  cd multi premium  ads  trend\n",
       "0   1499     25   80    4      14  no    no     yes   94      1\n",
       "1   1795     33   85    2      14  no    no     yes   94      1\n",
       "2   1595     25  170    4      15  no    no     yes   94      1\n",
       "3   1849     25  170    8      14  no    no      no   94      1\n",
       "4   3295     33  340   16      14  no    no     yes   94      1"
      ]
     },
     "execution_count": 8,
     "metadata": {},
     "output_type": "execute_result"
    }
   ],
   "source": [
    "data.head()"
   ]
  },
  {
   "cell_type": "markdown",
   "id": "8a46ff07",
   "metadata": {},
   "source": [
    "### EDA"
   ]
  },
  {
   "cell_type": "code",
   "execution_count": 9,
   "id": "71a31a59",
   "metadata": {},
   "outputs": [
    {
     "data": {
      "text/plain": [
       "yes    5647\n",
       "no      612\n",
       "Name: premium, dtype: int64"
      ]
     },
     "execution_count": 9,
     "metadata": {},
     "output_type": "execute_result"
    }
   ],
   "source": [
    "data.premium.value_counts()"
   ]
  },
  {
   "cell_type": "code",
   "execution_count": 10,
   "id": "bd46de20",
   "metadata": {},
   "outputs": [
    {
     "data": {
      "text/plain": [
       "no     5386\n",
       "yes     873\n",
       "Name: multi, dtype: int64"
      ]
     },
     "execution_count": 10,
     "metadata": {},
     "output_type": "execute_result"
    }
   ],
   "source": [
    "data.multi.value_counts()"
   ]
  },
  {
   "cell_type": "code",
   "execution_count": 14,
   "id": "4b6c9671",
   "metadata": {},
   "outputs": [
    {
     "data": {
      "text/plain": [
       "no     3351\n",
       "yes    2908\n",
       "Name: cd, dtype: int64"
      ]
     },
     "execution_count": 14,
     "metadata": {},
     "output_type": "execute_result"
    }
   ],
   "source": [
    "data.cd.value_counts()"
   ]
  },
  {
   "cell_type": "code",
   "execution_count": 17,
   "id": "a7cc955b",
   "metadata": {},
   "outputs": [
    {
     "name": "stderr",
     "output_type": "stream",
     "text": [
      "C:\\Users\\AANAND~1.ORA\\AppData\\Local\\Temp/ipykernel_13552/445316826.py:1: FutureWarning: Dropping of nuisance columns in DataFrame reductions (with 'numeric_only=None') is deprecated; in a future version this will raise TypeError.  Select only valid columns before calling the reduction.\n",
      "  data.var()\n"
     ]
    },
    {
     "data": {
      "text/plain": [
       "price     337333.234902\n",
       "speed        447.649767\n",
       "hd         66847.298501\n",
       "ram           31.709275\n",
       "screen         0.819234\n",
       "ads         5600.319735\n",
       "trend         61.999622\n",
       "dtype: float64"
      ]
     },
     "execution_count": 17,
     "metadata": {},
     "output_type": "execute_result"
    }
   ],
   "source": [
    "data.var()"
   ]
  },
  {
   "cell_type": "code",
   "execution_count": 12,
   "id": "1a21f27a",
   "metadata": {
    "colab": {
     "base_uri": "https://localhost:8080/"
    },
    "id": "Rsq4bmTDGCEn",
    "outputId": "aec76732-f84d-4225-f251-7542a1dcde26"
   },
   "outputs": [
    {
     "data": {
      "text/plain": [
       "Index(['price', 'speed', 'hd', 'ram', 'screen', 'cd', 'multi', 'premium',\n",
       "       'ads', 'trend'],\n",
       "      dtype='object')"
      ]
     },
     "execution_count": 12,
     "metadata": {},
     "output_type": "execute_result"
    }
   ],
   "source": [
    "data.columns"
   ]
  },
  {
   "cell_type": "code",
   "execution_count": 13,
   "id": "d9cbc935",
   "metadata": {
    "colab": {
     "base_uri": "https://localhost:8080/"
    },
    "id": "LBPSSSi4TWB6",
    "outputId": "beb87f14-d643-401b-e815-fd8673999a72"
   },
   "outputs": [
    {
     "name": "stdout",
     "output_type": "stream",
     "text": [
      "<class 'pandas.core.frame.DataFrame'>\n",
      "RangeIndex: 6259 entries, 0 to 6258\n",
      "Data columns (total 10 columns):\n",
      " #   Column   Non-Null Count  Dtype \n",
      "---  ------   --------------  ----- \n",
      " 0   price    6259 non-null   int64 \n",
      " 1   speed    6259 non-null   int64 \n",
      " 2   hd       6259 non-null   int64 \n",
      " 3   ram      6259 non-null   int64 \n",
      " 4   screen   6259 non-null   int64 \n",
      " 5   cd       6259 non-null   object\n",
      " 6   multi    6259 non-null   object\n",
      " 7   premium  6259 non-null   object\n",
      " 8   ads      6259 non-null   int64 \n",
      " 9   trend    6259 non-null   int64 \n",
      "dtypes: int64(7), object(3)\n",
      "memory usage: 489.1+ KB\n"
     ]
    }
   ],
   "source": [
    "data.info()"
   ]
  },
  {
   "cell_type": "code",
   "execution_count": 19,
   "id": "b1080559",
   "metadata": {},
   "outputs": [
    {
     "data": {
      "text/html": [
       "<div>\n",
       "<style scoped>\n",
       "    .dataframe tbody tr th:only-of-type {\n",
       "        vertical-align: middle;\n",
       "    }\n",
       "\n",
       "    .dataframe tbody tr th {\n",
       "        vertical-align: top;\n",
       "    }\n",
       "\n",
       "    .dataframe thead th {\n",
       "        text-align: right;\n",
       "    }\n",
       "</style>\n",
       "<table border=\"1\" class=\"dataframe\">\n",
       "  <thead>\n",
       "    <tr style=\"text-align: right;\">\n",
       "      <th></th>\n",
       "      <th>price</th>\n",
       "      <th>speed</th>\n",
       "      <th>hd</th>\n",
       "      <th>ram</th>\n",
       "      <th>screen</th>\n",
       "      <th>ads</th>\n",
       "      <th>trend</th>\n",
       "    </tr>\n",
       "  </thead>\n",
       "  <tbody>\n",
       "    <tr>\n",
       "      <th>price</th>\n",
       "      <td>1.000000</td>\n",
       "      <td>0.300976</td>\n",
       "      <td>0.430258</td>\n",
       "      <td>0.622748</td>\n",
       "      <td>0.296041</td>\n",
       "      <td>0.054540</td>\n",
       "      <td>-0.199987</td>\n",
       "    </tr>\n",
       "    <tr>\n",
       "      <th>speed</th>\n",
       "      <td>0.300976</td>\n",
       "      <td>1.000000</td>\n",
       "      <td>0.372304</td>\n",
       "      <td>0.234760</td>\n",
       "      <td>0.189074</td>\n",
       "      <td>-0.215232</td>\n",
       "      <td>0.405438</td>\n",
       "    </tr>\n",
       "    <tr>\n",
       "      <th>hd</th>\n",
       "      <td>0.430258</td>\n",
       "      <td>0.372304</td>\n",
       "      <td>1.000000</td>\n",
       "      <td>0.777726</td>\n",
       "      <td>0.232802</td>\n",
       "      <td>-0.323222</td>\n",
       "      <td>0.577790</td>\n",
       "    </tr>\n",
       "    <tr>\n",
       "      <th>ram</th>\n",
       "      <td>0.622748</td>\n",
       "      <td>0.234760</td>\n",
       "      <td>0.777726</td>\n",
       "      <td>1.000000</td>\n",
       "      <td>0.208954</td>\n",
       "      <td>-0.181670</td>\n",
       "      <td>0.276844</td>\n",
       "    </tr>\n",
       "    <tr>\n",
       "      <th>screen</th>\n",
       "      <td>0.296041</td>\n",
       "      <td>0.189074</td>\n",
       "      <td>0.232802</td>\n",
       "      <td>0.208954</td>\n",
       "      <td>1.000000</td>\n",
       "      <td>-0.093919</td>\n",
       "      <td>0.188614</td>\n",
       "    </tr>\n",
       "    <tr>\n",
       "      <th>ads</th>\n",
       "      <td>0.054540</td>\n",
       "      <td>-0.215232</td>\n",
       "      <td>-0.323222</td>\n",
       "      <td>-0.181670</td>\n",
       "      <td>-0.093919</td>\n",
       "      <td>1.000000</td>\n",
       "      <td>-0.318553</td>\n",
       "    </tr>\n",
       "    <tr>\n",
       "      <th>trend</th>\n",
       "      <td>-0.199987</td>\n",
       "      <td>0.405438</td>\n",
       "      <td>0.577790</td>\n",
       "      <td>0.276844</td>\n",
       "      <td>0.188614</td>\n",
       "      <td>-0.318553</td>\n",
       "      <td>1.000000</td>\n",
       "    </tr>\n",
       "  </tbody>\n",
       "</table>\n",
       "</div>"
      ],
      "text/plain": [
       "           price     speed        hd       ram    screen       ads     trend\n",
       "price   1.000000  0.300976  0.430258  0.622748  0.296041  0.054540 -0.199987\n",
       "speed   0.300976  1.000000  0.372304  0.234760  0.189074 -0.215232  0.405438\n",
       "hd      0.430258  0.372304  1.000000  0.777726  0.232802 -0.323222  0.577790\n",
       "ram     0.622748  0.234760  0.777726  1.000000  0.208954 -0.181670  0.276844\n",
       "screen  0.296041  0.189074  0.232802  0.208954  1.000000 -0.093919  0.188614\n",
       "ads     0.054540 -0.215232 -0.323222 -0.181670 -0.093919  1.000000 -0.318553\n",
       "trend  -0.199987  0.405438  0.577790  0.276844  0.188614 -0.318553  1.000000"
      ]
     },
     "execution_count": 19,
     "metadata": {},
     "output_type": "execute_result"
    }
   ],
   "source": [
    "data.corr()"
   ]
  },
  {
   "cell_type": "code",
   "execution_count": 18,
   "id": "0ea5f645",
   "metadata": {},
   "outputs": [
    {
     "data": {
      "text/plain": [
       "<AxesSubplot:>"
      ]
     },
     "execution_count": 18,
     "metadata": {},
     "output_type": "execute_result"
    },
    {
     "data": {
      "image/png": "[encoded data removed]",
      "text/plain": [
       "<Figure size 432x288 with 2 Axes>"
      ]
     },
     "metadata": {},
     "output_type": "display_data"
    }
   ],
   "source": [
    "import seaborn as sns\n",
    "sns.set()\n",
    "sns.heatmap(data.corr())"
   ]
  },
  {
   "cell_type": "code",
   "execution_count": 51,
   "id": "42e34807",
   "metadata": {
    "id": "AtWtsnOkGdGq"
   },
   "outputs": [],
   "source": [
    "import matplotlib.pyplot as plt"
   ]
  },
  {
   "cell_type": "markdown",
   "id": "6b20dea6",
   "metadata": {
    "id": "L0faGgMlvXcA"
   },
   "source": [
    "#### Label Encode"
   ]
  },
  {
   "cell_type": "code",
   "execution_count": 21,
   "id": "04f1edef",
   "metadata": {},
   "outputs": [],
   "source": [
    "# Label encode Class variable\n",
    "from sklearn.preprocessing import LabelEncoder\n",
    "encoder = LabelEncoder()\n",
    "data['cd'] = encoder.fit_transform(data['cd'])\n",
    "data['multi'] = encoder.fit_transform(data['multi'])\n",
    "data['premium'] = encoder.fit_transform(data['premium'])"
   ]
  },
  {
   "cell_type": "code",
   "execution_count": 22,
   "id": "ed266ad9",
   "metadata": {},
   "outputs": [
    {
     "name": "stdout",
     "output_type": "stream",
     "text": [
      "<class 'pandas.core.frame.DataFrame'>\n",
      "RangeIndex: 6259 entries, 0 to 6258\n",
      "Data columns (total 10 columns):\n",
      " #   Column   Non-Null Count  Dtype\n",
      "---  ------   --------------  -----\n",
      " 0   price    6259 non-null   int64\n",
      " 1   speed    6259 non-null   int64\n",
      " 2   hd       6259 non-null   int64\n",
      " 3   ram      6259 non-null   int64\n",
      " 4   screen   6259 non-null   int64\n",
      " 5   cd       6259 non-null   int32\n",
      " 6   multi    6259 non-null   int32\n",
      " 7   premium  6259 non-null   int32\n",
      " 8   ads      6259 non-null   int64\n",
      " 9   trend    6259 non-null   int64\n",
      "dtypes: int32(3), int64(7)\n",
      "memory usage: 415.8 KB\n"
     ]
    }
   ],
   "source": [
    "data.info()\n"
   ]
  },
  {
   "cell_type": "code",
   "execution_count": 23,
   "id": "d742adcf",
   "metadata": {},
   "outputs": [
    {
     "data": {
      "text/html": [
       "<div>\n",
       "<style scoped>\n",
       "    .dataframe tbody tr th:only-of-type {\n",
       "        vertical-align: middle;\n",
       "    }\n",
       "\n",
       "    .dataframe tbody tr th {\n",
       "        vertical-align: top;\n",
       "    }\n",
       "\n",
       "    .dataframe thead th {\n",
       "        text-align: right;\n",
       "    }\n",
       "</style>\n",
       "<table border=\"1\" class=\"dataframe\">\n",
       "  <thead>\n",
       "    <tr style=\"text-align: right;\">\n",
       "      <th></th>\n",
       "      <th>price</th>\n",
       "      <th>speed</th>\n",
       "      <th>hd</th>\n",
       "      <th>ram</th>\n",
       "      <th>screen</th>\n",
       "      <th>cd</th>\n",
       "      <th>multi</th>\n",
       "      <th>premium</th>\n",
       "      <th>ads</th>\n",
       "      <th>trend</th>\n",
       "    </tr>\n",
       "  </thead>\n",
       "  <tbody>\n",
       "    <tr>\n",
       "      <th>0</th>\n",
       "      <td>1499</td>\n",
       "      <td>25</td>\n",
       "      <td>80</td>\n",
       "      <td>4</td>\n",
       "      <td>14</td>\n",
       "      <td>0</td>\n",
       "      <td>0</td>\n",
       "      <td>1</td>\n",
       "      <td>94</td>\n",
       "      <td>1</td>\n",
       "    </tr>\n",
       "    <tr>\n",
       "      <th>1</th>\n",
       "      <td>1795</td>\n",
       "      <td>33</td>\n",
       "      <td>85</td>\n",
       "      <td>2</td>\n",
       "      <td>14</td>\n",
       "      <td>0</td>\n",
       "      <td>0</td>\n",
       "      <td>1</td>\n",
       "      <td>94</td>\n",
       "      <td>1</td>\n",
       "    </tr>\n",
       "    <tr>\n",
       "      <th>2</th>\n",
       "      <td>1595</td>\n",
       "      <td>25</td>\n",
       "      <td>170</td>\n",
       "      <td>4</td>\n",
       "      <td>15</td>\n",
       "      <td>0</td>\n",
       "      <td>0</td>\n",
       "      <td>1</td>\n",
       "      <td>94</td>\n",
       "      <td>1</td>\n",
       "    </tr>\n",
       "    <tr>\n",
       "      <th>3</th>\n",
       "      <td>1849</td>\n",
       "      <td>25</td>\n",
       "      <td>170</td>\n",
       "      <td>8</td>\n",
       "      <td>14</td>\n",
       "      <td>0</td>\n",
       "      <td>0</td>\n",
       "      <td>0</td>\n",
       "      <td>94</td>\n",
       "      <td>1</td>\n",
       "    </tr>\n",
       "    <tr>\n",
       "      <th>4</th>\n",
       "      <td>3295</td>\n",
       "      <td>33</td>\n",
       "      <td>340</td>\n",
       "      <td>16</td>\n",
       "      <td>14</td>\n",
       "      <td>0</td>\n",
       "      <td>0</td>\n",
       "      <td>1</td>\n",
       "      <td>94</td>\n",
       "      <td>1</td>\n",
       "    </tr>\n",
       "  </tbody>\n",
       "</table>\n",
       "</div>"
      ],
      "text/plain": [
       "   price  speed   hd  ram  screen  cd  multi  premium  ads  trend\n",
       "0   1499     25   80    4      14   0      0        1   94      1\n",
       "1   1795     33   85    2      14   0      0        1   94      1\n",
       "2   1595     25  170    4      15   0      0        1   94      1\n",
       "3   1849     25  170    8      14   0      0        0   94      1\n",
       "4   3295     33  340   16      14   0      0        1   94      1"
      ]
     },
     "execution_count": 23,
     "metadata": {},
     "output_type": "execute_result"
    }
   ],
   "source": [
    "data.head()"
   ]
  },
  {
   "cell_type": "markdown",
   "id": "11dff19c",
   "metadata": {},
   "source": [
    "#### Drop Duplicates"
   ]
  },
  {
   "cell_type": "code",
   "execution_count": 24,
   "id": "0cb7d6e2",
   "metadata": {},
   "outputs": [
    {
     "data": {
      "text/plain": [
       "76"
      ]
     },
     "execution_count": 24,
     "metadata": {},
     "output_type": "execute_result"
    }
   ],
   "source": [
    "data.duplicated().sum()"
   ]
  },
  {
   "cell_type": "code",
   "execution_count": 25,
   "id": "bbbac585",
   "metadata": {},
   "outputs": [],
   "source": [
    "data.drop_duplicates(subset=None, keep='first', inplace=True)"
   ]
  },
  {
   "cell_type": "code",
   "execution_count": 26,
   "id": "fc9a1f22",
   "metadata": {},
   "outputs": [
    {
     "data": {
      "text/plain": [
       "0"
      ]
     },
     "execution_count": 26,
     "metadata": {},
     "output_type": "execute_result"
    }
   ],
   "source": [
    "data.duplicated().sum()"
   ]
  },
  {
   "cell_type": "code",
   "execution_count": 27,
   "id": "f6a82cd6",
   "metadata": {},
   "outputs": [
    {
     "data": {
      "text/plain": [
       "(6183, 10)"
      ]
     },
     "execution_count": 27,
     "metadata": {},
     "output_type": "execute_result"
    }
   ],
   "source": [
    "data.shape"
   ]
  },
  {
   "cell_type": "code",
   "execution_count": 28,
   "id": "a394f69b",
   "metadata": {
    "scrolled": true
   },
   "outputs": [
    {
     "data": {
      "text/plain": [
       "price      int64\n",
       "speed      int64\n",
       "hd         int64\n",
       "ram        int64\n",
       "screen     int64\n",
       "cd         int32\n",
       "multi      int32\n",
       "premium    int32\n",
       "ads        int64\n",
       "trend      int64\n",
       "dtype: object"
      ]
     },
     "execution_count": 28,
     "metadata": {},
     "output_type": "execute_result"
    }
   ],
   "source": [
    "data.dtypes"
   ]
  },
  {
   "cell_type": "code",
   "execution_count": 29,
   "id": "825b0f38",
   "metadata": {},
   "outputs": [
    {
     "data": {
      "text/plain": [
       "Index(['price', 'speed', 'hd', 'ram', 'screen', 'cd', 'multi', 'premium',\n",
       "       'ads', 'trend'],\n",
       "      dtype='object')"
      ]
     },
     "execution_count": 29,
     "metadata": {},
     "output_type": "execute_result"
    }
   ],
   "source": [
    "data.columns"
   ]
  },
  {
   "cell_type": "markdown",
   "id": "61aa49e6",
   "metadata": {},
   "source": [
    "#### standardize"
   ]
  },
  {
   "cell_type": "code",
   "execution_count": 30,
   "id": "d1d46cba",
   "metadata": {
    "scrolled": true
   },
   "outputs": [
    {
     "data": {
      "text/html": [
       "<div>\n",
       "<style scoped>\n",
       "    .dataframe tbody tr th:only-of-type {\n",
       "        vertical-align: middle;\n",
       "    }\n",
       "\n",
       "    .dataframe tbody tr th {\n",
       "        vertical-align: top;\n",
       "    }\n",
       "\n",
       "    .dataframe thead th {\n",
       "        text-align: right;\n",
       "    }\n",
       "</style>\n",
       "<table border=\"1\" class=\"dataframe\">\n",
       "  <thead>\n",
       "    <tr style=\"text-align: right;\">\n",
       "      <th></th>\n",
       "      <th>speed</th>\n",
       "      <th>hd</th>\n",
       "      <th>ram</th>\n",
       "      <th>screen</th>\n",
       "      <th>cd</th>\n",
       "      <th>multi</th>\n",
       "      <th>premium</th>\n",
       "      <th>ads</th>\n",
       "      <th>trend</th>\n",
       "    </tr>\n",
       "  </thead>\n",
       "  <tbody>\n",
       "    <tr>\n",
       "      <th>0</th>\n",
       "      <td>25</td>\n",
       "      <td>80</td>\n",
       "      <td>4</td>\n",
       "      <td>14</td>\n",
       "      <td>0</td>\n",
       "      <td>0</td>\n",
       "      <td>1</td>\n",
       "      <td>94</td>\n",
       "      <td>1</td>\n",
       "    </tr>\n",
       "    <tr>\n",
       "      <th>1</th>\n",
       "      <td>33</td>\n",
       "      <td>85</td>\n",
       "      <td>2</td>\n",
       "      <td>14</td>\n",
       "      <td>0</td>\n",
       "      <td>0</td>\n",
       "      <td>1</td>\n",
       "      <td>94</td>\n",
       "      <td>1</td>\n",
       "    </tr>\n",
       "    <tr>\n",
       "      <th>2</th>\n",
       "      <td>25</td>\n",
       "      <td>170</td>\n",
       "      <td>4</td>\n",
       "      <td>15</td>\n",
       "      <td>0</td>\n",
       "      <td>0</td>\n",
       "      <td>1</td>\n",
       "      <td>94</td>\n",
       "      <td>1</td>\n",
       "    </tr>\n",
       "    <tr>\n",
       "      <th>3</th>\n",
       "      <td>25</td>\n",
       "      <td>170</td>\n",
       "      <td>8</td>\n",
       "      <td>14</td>\n",
       "      <td>0</td>\n",
       "      <td>0</td>\n",
       "      <td>0</td>\n",
       "      <td>94</td>\n",
       "      <td>1</td>\n",
       "    </tr>\n",
       "    <tr>\n",
       "      <th>4</th>\n",
       "      <td>33</td>\n",
       "      <td>340</td>\n",
       "      <td>16</td>\n",
       "      <td>14</td>\n",
       "      <td>0</td>\n",
       "      <td>0</td>\n",
       "      <td>1</td>\n",
       "      <td>94</td>\n",
       "      <td>1</td>\n",
       "    </tr>\n",
       "    <tr>\n",
       "      <th>...</th>\n",
       "      <td>...</td>\n",
       "      <td>...</td>\n",
       "      <td>...</td>\n",
       "      <td>...</td>\n",
       "      <td>...</td>\n",
       "      <td>...</td>\n",
       "      <td>...</td>\n",
       "      <td>...</td>\n",
       "      <td>...</td>\n",
       "    </tr>\n",
       "    <tr>\n",
       "      <th>6254</th>\n",
       "      <td>100</td>\n",
       "      <td>528</td>\n",
       "      <td>8</td>\n",
       "      <td>15</td>\n",
       "      <td>0</td>\n",
       "      <td>0</td>\n",
       "      <td>1</td>\n",
       "      <td>39</td>\n",
       "      <td>35</td>\n",
       "    </tr>\n",
       "    <tr>\n",
       "      <th>6255</th>\n",
       "      <td>66</td>\n",
       "      <td>850</td>\n",
       "      <td>16</td>\n",
       "      <td>15</td>\n",
       "      <td>1</td>\n",
       "      <td>1</td>\n",
       "      <td>1</td>\n",
       "      <td>39</td>\n",
       "      <td>35</td>\n",
       "    </tr>\n",
       "    <tr>\n",
       "      <th>6256</th>\n",
       "      <td>100</td>\n",
       "      <td>1200</td>\n",
       "      <td>24</td>\n",
       "      <td>15</td>\n",
       "      <td>1</td>\n",
       "      <td>0</td>\n",
       "      <td>1</td>\n",
       "      <td>39</td>\n",
       "      <td>35</td>\n",
       "    </tr>\n",
       "    <tr>\n",
       "      <th>6257</th>\n",
       "      <td>100</td>\n",
       "      <td>850</td>\n",
       "      <td>16</td>\n",
       "      <td>15</td>\n",
       "      <td>1</td>\n",
       "      <td>0</td>\n",
       "      <td>1</td>\n",
       "      <td>39</td>\n",
       "      <td>35</td>\n",
       "    </tr>\n",
       "    <tr>\n",
       "      <th>6258</th>\n",
       "      <td>100</td>\n",
       "      <td>850</td>\n",
       "      <td>16</td>\n",
       "      <td>17</td>\n",
       "      <td>1</td>\n",
       "      <td>0</td>\n",
       "      <td>1</td>\n",
       "      <td>39</td>\n",
       "      <td>35</td>\n",
       "    </tr>\n",
       "  </tbody>\n",
       "</table>\n",
       "<p>6183 rows × 9 columns</p>\n",
       "</div>"
      ],
      "text/plain": [
       "      speed    hd  ram  screen  cd  multi  premium  ads  trend\n",
       "0        25    80    4      14   0      0        1   94      1\n",
       "1        33    85    2      14   0      0        1   94      1\n",
       "2        25   170    4      15   0      0        1   94      1\n",
       "3        25   170    8      14   0      0        0   94      1\n",
       "4        33   340   16      14   0      0        1   94      1\n",
       "...     ...   ...  ...     ...  ..    ...      ...  ...    ...\n",
       "6254    100   528    8      15   0      0        1   39     35\n",
       "6255     66   850   16      15   1      1        1   39     35\n",
       "6256    100  1200   24      15   1      0        1   39     35\n",
       "6257    100   850   16      15   1      0        1   39     35\n",
       "6258    100   850   16      17   1      0        1   39     35\n",
       "\n",
       "[6183 rows x 9 columns]"
      ]
     },
     "execution_count": 30,
     "metadata": {},
     "output_type": "execute_result"
    }
   ],
   "source": [
    "data.iloc[:,1:]"
   ]
  },
  {
   "cell_type": "code",
   "execution_count": 33,
   "id": "d3a5406d",
   "metadata": {},
   "outputs": [],
   "source": [
    "### Standardization\n",
    "from sklearn.compose import ColumnTransformer\n",
    "from sklearn.compose import make_column_transformer\n",
    "from sklearn.preprocessing import StandardScaler\n",
    "# Initialise the Scaler\n",
    "#scaler = MinMaxScaler()\n",
    "# To scale data\n",
    "#scaler.fit_transform(data.iloc[:,0:4])\n",
    "#ct = ColumnTransformer([('MinMax', MinMaxScaler(), data.iloc[:,0:4])],'passthrough')\n",
    "\n",
    "numerical_columns = ['speed', 'hd', 'ram', 'screen', 'cd', 'multi', 'premium','ads', 'trend']\n",
    "#column_trans = make_column_transformer((numerical_columns, RobustScaler()),remainder='passthrough')\n",
    "#column_trans.fit_transform(data)\n",
    "\n",
    "preprocess = make_column_transformer(\n",
    "    (StandardScaler(),numerical_columns),\n",
    "    ('passthrough',['price'])\n",
    ")\n",
    "data1= preprocess.fit_transform(data)\n",
    "data1= pd.DataFrame(data1)\n",
    "data1.columns= ['speed', 'hd', 'ram', 'screen', 'cd', 'multi', 'premium','ads', 'trend','price']"
   ]
  },
  {
   "cell_type": "code",
   "execution_count": 34,
   "id": "24e014af",
   "metadata": {
    "scrolled": true
   },
   "outputs": [
    {
     "data": {
      "text/html": [
       "<div>\n",
       "<style scoped>\n",
       "    .dataframe tbody tr th:only-of-type {\n",
       "        vertical-align: middle;\n",
       "    }\n",
       "\n",
       "    .dataframe tbody tr th {\n",
       "        vertical-align: top;\n",
       "    }\n",
       "\n",
       "    .dataframe thead th {\n",
       "        text-align: right;\n",
       "    }\n",
       "</style>\n",
       "<table border=\"1\" class=\"dataframe\">\n",
       "  <thead>\n",
       "    <tr style=\"text-align: right;\">\n",
       "      <th></th>\n",
       "      <th>speed</th>\n",
       "      <th>hd</th>\n",
       "      <th>ram</th>\n",
       "      <th>screen</th>\n",
       "      <th>cd</th>\n",
       "      <th>multi</th>\n",
       "      <th>premium</th>\n",
       "      <th>ads</th>\n",
       "      <th>trend</th>\n",
       "      <th>price</th>\n",
       "    </tr>\n",
       "  </thead>\n",
       "  <tbody>\n",
       "    <tr>\n",
       "      <th>0</th>\n",
       "      <td>-1.280364</td>\n",
       "      <td>-1.301897</td>\n",
       "      <td>-0.762182</td>\n",
       "      <td>-0.677077</td>\n",
       "      <td>-0.930441</td>\n",
       "      <td>-0.401406</td>\n",
       "      <td>0.330842</td>\n",
       "      <td>-1.693151</td>\n",
       "      <td>-1.891109</td>\n",
       "      <td>1499.0</td>\n",
       "    </tr>\n",
       "    <tr>\n",
       "      <th>1</th>\n",
       "      <td>-0.902808</td>\n",
       "      <td>-1.282625</td>\n",
       "      <td>-1.116244</td>\n",
       "      <td>-0.677077</td>\n",
       "      <td>-0.930441</td>\n",
       "      <td>-0.401406</td>\n",
       "      <td>0.330842</td>\n",
       "      <td>-1.693151</td>\n",
       "      <td>-1.891109</td>\n",
       "      <td>1795.0</td>\n",
       "    </tr>\n",
       "    <tr>\n",
       "      <th>2</th>\n",
       "      <td>-1.280364</td>\n",
       "      <td>-0.954993</td>\n",
       "      <td>-0.762182</td>\n",
       "      <td>0.425179</td>\n",
       "      <td>-0.930441</td>\n",
       "      <td>-0.401406</td>\n",
       "      <td>0.330842</td>\n",
       "      <td>-1.693151</td>\n",
       "      <td>-1.891109</td>\n",
       "      <td>1595.0</td>\n",
       "    </tr>\n",
       "    <tr>\n",
       "      <th>3</th>\n",
       "      <td>-1.280364</td>\n",
       "      <td>-0.954993</td>\n",
       "      <td>-0.054057</td>\n",
       "      <td>-0.677077</td>\n",
       "      <td>-0.930441</td>\n",
       "      <td>-0.401406</td>\n",
       "      <td>-3.022593</td>\n",
       "      <td>-1.693151</td>\n",
       "      <td>-1.891109</td>\n",
       "      <td>1849.0</td>\n",
       "    </tr>\n",
       "    <tr>\n",
       "      <th>4</th>\n",
       "      <td>-0.902808</td>\n",
       "      <td>-0.299729</td>\n",
       "      <td>1.362193</td>\n",
       "      <td>-0.677077</td>\n",
       "      <td>-0.930441</td>\n",
       "      <td>-0.401406</td>\n",
       "      <td>0.330842</td>\n",
       "      <td>-1.693151</td>\n",
       "      <td>-1.891109</td>\n",
       "      <td>3295.0</td>\n",
       "    </tr>\n",
       "    <tr>\n",
       "      <th>...</th>\n",
       "      <td>...</td>\n",
       "      <td>...</td>\n",
       "      <td>...</td>\n",
       "      <td>...</td>\n",
       "      <td>...</td>\n",
       "      <td>...</td>\n",
       "      <td>...</td>\n",
       "      <td>...</td>\n",
       "      <td>...</td>\n",
       "      <td>...</td>\n",
       "    </tr>\n",
       "    <tr>\n",
       "      <th>6178</th>\n",
       "      <td>2.259219</td>\n",
       "      <td>0.424916</td>\n",
       "      <td>-0.054057</td>\n",
       "      <td>0.425179</td>\n",
       "      <td>-0.930441</td>\n",
       "      <td>-0.401406</td>\n",
       "      <td>0.330842</td>\n",
       "      <td>-2.426949</td>\n",
       "      <td>2.411363</td>\n",
       "      <td>1690.0</td>\n",
       "    </tr>\n",
       "    <tr>\n",
       "      <th>6179</th>\n",
       "      <td>0.654608</td>\n",
       "      <td>1.666064</td>\n",
       "      <td>1.362193</td>\n",
       "      <td>0.425179</td>\n",
       "      <td>1.074759</td>\n",
       "      <td>2.491243</td>\n",
       "      <td>0.330842</td>\n",
       "      <td>-2.426949</td>\n",
       "      <td>2.411363</td>\n",
       "      <td>2223.0</td>\n",
       "    </tr>\n",
       "    <tr>\n",
       "      <th>6180</th>\n",
       "      <td>2.259219</td>\n",
       "      <td>3.015137</td>\n",
       "      <td>2.778442</td>\n",
       "      <td>0.425179</td>\n",
       "      <td>1.074759</td>\n",
       "      <td>-0.401406</td>\n",
       "      <td>0.330842</td>\n",
       "      <td>-2.426949</td>\n",
       "      <td>2.411363</td>\n",
       "      <td>2654.0</td>\n",
       "    </tr>\n",
       "    <tr>\n",
       "      <th>6181</th>\n",
       "      <td>2.259219</td>\n",
       "      <td>1.666064</td>\n",
       "      <td>1.362193</td>\n",
       "      <td>0.425179</td>\n",
       "      <td>1.074759</td>\n",
       "      <td>-0.401406</td>\n",
       "      <td>0.330842</td>\n",
       "      <td>-2.426949</td>\n",
       "      <td>2.411363</td>\n",
       "      <td>2195.0</td>\n",
       "    </tr>\n",
       "    <tr>\n",
       "      <th>6182</th>\n",
       "      <td>2.259219</td>\n",
       "      <td>1.666064</td>\n",
       "      <td>1.362193</td>\n",
       "      <td>2.629691</td>\n",
       "      <td>1.074759</td>\n",
       "      <td>-0.401406</td>\n",
       "      <td>0.330842</td>\n",
       "      <td>-2.426949</td>\n",
       "      <td>2.411363</td>\n",
       "      <td>2490.0</td>\n",
       "    </tr>\n",
       "  </tbody>\n",
       "</table>\n",
       "<p>6183 rows × 10 columns</p>\n",
       "</div>"
      ],
      "text/plain": [
       "         speed        hd       ram    screen        cd     multi   premium  \\\n",
       "0    -1.280364 -1.301897 -0.762182 -0.677077 -0.930441 -0.401406  0.330842   \n",
       "1    -0.902808 -1.282625 -1.116244 -0.677077 -0.930441 -0.401406  0.330842   \n",
       "2    -1.280364 -0.954993 -0.762182  0.425179 -0.930441 -0.401406  0.330842   \n",
       "3    -1.280364 -0.954993 -0.054057 -0.677077 -0.930441 -0.401406 -3.022593   \n",
       "4    -0.902808 -0.299729  1.362193 -0.677077 -0.930441 -0.401406  0.330842   \n",
       "...        ...       ...       ...       ...       ...       ...       ...   \n",
       "6178  2.259219  0.424916 -0.054057  0.425179 -0.930441 -0.401406  0.330842   \n",
       "6179  0.654608  1.666064  1.362193  0.425179  1.074759  2.491243  0.330842   \n",
       "6180  2.259219  3.015137  2.778442  0.425179  1.074759 -0.401406  0.330842   \n",
       "6181  2.259219  1.666064  1.362193  0.425179  1.074759 -0.401406  0.330842   \n",
       "6182  2.259219  1.666064  1.362193  2.629691  1.074759 -0.401406  0.330842   \n",
       "\n",
       "           ads     trend   price  \n",
       "0    -1.693151 -1.891109  1499.0  \n",
       "1    -1.693151 -1.891109  1795.0  \n",
       "2    -1.693151 -1.891109  1595.0  \n",
       "3    -1.693151 -1.891109  1849.0  \n",
       "4    -1.693151 -1.891109  3295.0  \n",
       "...        ...       ...     ...  \n",
       "6178 -2.426949  2.411363  1690.0  \n",
       "6179 -2.426949  2.411363  2223.0  \n",
       "6180 -2.426949  2.411363  2654.0  \n",
       "6181 -2.426949  2.411363  2195.0  \n",
       "6182 -2.426949  2.411363  2490.0  \n",
       "\n",
       "[6183 rows x 10 columns]"
      ]
     },
     "execution_count": 34,
     "metadata": {},
     "output_type": "execute_result"
    }
   ],
   "source": [
    "data1"
   ]
  },
  {
   "cell_type": "code",
   "execution_count": 95,
   "id": "34d5a0a0",
   "metadata": {},
   "outputs": [],
   "source": [
    "#data1.rename(columns = {'R&D Spend':'RDSpend', 'Marketing Spend':'MarketingSpend'}, inplace = True)"
   ]
  },
  {
   "cell_type": "code",
   "execution_count": 35,
   "id": "ddea18bb",
   "metadata": {},
   "outputs": [
    {
     "data": {
      "text/html": [
       "<table class=\"simpletable\">\n",
       "<caption>OLS Regression Results</caption>\n",
       "<tr>\n",
       "  <th>Dep. Variable:</th>          <td>price</td>      <th>  R-squared:         </th> <td>   0.775</td> \n",
       "</tr>\n",
       "<tr>\n",
       "  <th>Model:</th>                   <td>OLS</td>       <th>  Adj. R-squared:    </th> <td>   0.775</td> \n",
       "</tr>\n",
       "<tr>\n",
       "  <th>Method:</th>             <td>Least Squares</td>  <th>  F-statistic:       </th> <td>   2366.</td> \n",
       "</tr>\n",
       "<tr>\n",
       "  <th>Date:</th>             <td>Sun, 24 Apr 2022</td> <th>  Prob (F-statistic):</th>  <td>  0.00</td>  \n",
       "</tr>\n",
       "<tr>\n",
       "  <th>Time:</th>                 <td>10:08:39</td>     <th>  Log-Likelihood:    </th> <td> -43522.</td> \n",
       "</tr>\n",
       "<tr>\n",
       "  <th>No. Observations:</th>      <td>  6183</td>      <th>  AIC:               </th> <td>8.706e+04</td>\n",
       "</tr>\n",
       "<tr>\n",
       "  <th>Df Residuals:</th>          <td>  6173</td>      <th>  BIC:               </th> <td>8.713e+04</td>\n",
       "</tr>\n",
       "<tr>\n",
       "  <th>Df Model:</th>              <td>     9</td>      <th>                     </th>     <td> </td>    \n",
       "</tr>\n",
       "<tr>\n",
       "  <th>Covariance Type:</th>      <td>nonrobust</td>    <th>                     </th>     <td> </td>    \n",
       "</tr>\n",
       "</table>\n",
       "<table class=\"simpletable\">\n",
       "<tr>\n",
       "      <td></td>         <th>coef</th>     <th>std err</th>      <th>t</th>      <th>P>|t|</th>  <th>[0.025</th>    <th>0.975]</th>  \n",
       "</tr>\n",
       "<tr>\n",
       "  <th>Intercept</th> <td> 2221.8379</td> <td>    3.512</td> <td>  632.695</td> <td> 0.000</td> <td> 2214.954</td> <td> 2228.722</td>\n",
       "</tr>\n",
       "<tr>\n",
       "  <th>speed</th>     <td>  197.7007</td> <td>    3.947</td> <td>   50.091</td> <td> 0.000</td> <td>  189.963</td> <td>  205.438</td>\n",
       "</tr>\n",
       "<tr>\n",
       "  <th>hd</th>        <td>  203.4252</td> <td>    7.192</td> <td>   28.284</td> <td> 0.000</td> <td>  189.326</td> <td>  217.524</td>\n",
       "</tr>\n",
       "<tr>\n",
       "  <th>ram</th>       <td>  271.7608</td> <td>    6.051</td> <td>   44.908</td> <td> 0.000</td> <td>  259.898</td> <td>  283.624</td>\n",
       "</tr>\n",
       "<tr>\n",
       "  <th>screen</th>    <td>  111.9447</td> <td>    3.652</td> <td>   30.656</td> <td> 0.000</td> <td>  104.786</td> <td>  119.103</td>\n",
       "</tr>\n",
       "<tr>\n",
       "  <th>cd</th>        <td>   30.2916</td> <td>    4.787</td> <td>    6.328</td> <td> 0.000</td> <td>   20.907</td> <td>   39.676</td>\n",
       "</tr>\n",
       "<tr>\n",
       "  <th>multi</th>     <td>   36.4446</td> <td>    3.987</td> <td>    9.141</td> <td> 0.000</td> <td>   28.628</td> <td>   44.261</td>\n",
       "</tr>\n",
       "<tr>\n",
       "  <th>premium</th>   <td> -152.4244</td> <td>    3.702</td> <td>  -41.171</td> <td> 0.000</td> <td> -159.682</td> <td> -145.167</td>\n",
       "</tr>\n",
       "<tr>\n",
       "  <th>ads</th>       <td>   48.4104</td> <td>    3.876</td> <td>   12.489</td> <td> 0.000</td> <td>   40.812</td> <td>   56.009</td>\n",
       "</tr>\n",
       "<tr>\n",
       "  <th>trend</th>     <td> -410.6548</td> <td>    4.996</td> <td>  -82.191</td> <td> 0.000</td> <td> -420.449</td> <td> -400.860</td>\n",
       "</tr>\n",
       "</table>\n",
       "<table class=\"simpletable\">\n",
       "<tr>\n",
       "  <th>Omnibus:</th>       <td>1003.154</td> <th>  Durbin-Watson:     </th> <td>   1.941</td>\n",
       "</tr>\n",
       "<tr>\n",
       "  <th>Prob(Omnibus):</th>  <td> 0.000</td>  <th>  Jarque-Bera (JB):  </th> <td>3132.516</td>\n",
       "</tr>\n",
       "<tr>\n",
       "  <th>Skew:</th>           <td> 0.834</td>  <th>  Prob(JB):          </th> <td>    0.00</td>\n",
       "</tr>\n",
       "<tr>\n",
       "  <th>Kurtosis:</th>       <td> 6.062</td>  <th>  Cond. No.          </th> <td>    4.61</td>\n",
       "</tr>\n",
       "</table><br/><br/>Notes:<br/>[1] Standard Errors assume that the covariance matrix of the errors is correctly specified."
      ],
      "text/plain": [
       "<class 'statsmodels.iolib.summary.Summary'>\n",
       "\"\"\"\n",
       "                            OLS Regression Results                            \n",
       "==============================================================================\n",
       "Dep. Variable:                  price   R-squared:                       0.775\n",
       "Model:                            OLS   Adj. R-squared:                  0.775\n",
       "Method:                 Least Squares   F-statistic:                     2366.\n",
       "Date:                Sun, 24 Apr 2022   Prob (F-statistic):               0.00\n",
       "Time:                        10:08:39   Log-Likelihood:                -43522.\n",
       "No. Observations:                6183   AIC:                         8.706e+04\n",
       "Df Residuals:                    6173   BIC:                         8.713e+04\n",
       "Df Model:                           9                                         \n",
       "Covariance Type:            nonrobust                                         \n",
       "==============================================================================\n",
       "                 coef    std err          t      P>|t|      [0.025      0.975]\n",
       "------------------------------------------------------------------------------\n",
       "Intercept   2221.8379      3.512    632.695      0.000    2214.954    2228.722\n",
       "speed        197.7007      3.947     50.091      0.000     189.963     205.438\n",
       "hd           203.4252      7.192     28.284      0.000     189.326     217.524\n",
       "ram          271.7608      6.051     44.908      0.000     259.898     283.624\n",
       "screen       111.9447      3.652     30.656      0.000     104.786     119.103\n",
       "cd            30.2916      4.787      6.328      0.000      20.907      39.676\n",
       "multi         36.4446      3.987      9.141      0.000      28.628      44.261\n",
       "premium     -152.4244      3.702    -41.171      0.000    -159.682    -145.167\n",
       "ads           48.4104      3.876     12.489      0.000      40.812      56.009\n",
       "trend       -410.6548      4.996    -82.191      0.000    -420.449    -400.860\n",
       "==============================================================================\n",
       "Omnibus:                     1003.154   Durbin-Watson:                   1.941\n",
       "Prob(Omnibus):                  0.000   Jarque-Bera (JB):             3132.516\n",
       "Skew:                           0.834   Prob(JB):                         0.00\n",
       "Kurtosis:                       6.062   Cond. No.                         4.61\n",
       "==============================================================================\n",
       "\n",
       "Notes:\n",
       "[1] Standard Errors assume that the covariance matrix of the errors is correctly specified.\n",
       "\"\"\""
      ]
     },
     "execution_count": 35,
     "metadata": {},
     "output_type": "execute_result"
    }
   ],
   "source": [
    "# preparing model considering all the variables \n",
    "import statsmodels.formula.api as smf # for regression model\n",
    "         \n",
    "ml1 = smf.ols('price ~ speed+ hd+ ram+ screen+ cd+ multi+ premium+ads+ trend', data = data1).fit() # regression model\n",
    "# Summary\n",
    "ml1.summary()\n",
    "# p-values for WT, VOL are more than 0.05"
   ]
  },
  {
   "cell_type": "code",
   "execution_count": 36,
   "id": "23ff06a8",
   "metadata": {},
   "outputs": [
    {
     "data": {
      "text/html": [
       "<div>\n",
       "<style scoped>\n",
       "    .dataframe tbody tr th:only-of-type {\n",
       "        vertical-align: middle;\n",
       "    }\n",
       "\n",
       "    .dataframe tbody tr th {\n",
       "        vertical-align: top;\n",
       "    }\n",
       "\n",
       "    .dataframe thead th {\n",
       "        text-align: right;\n",
       "    }\n",
       "</style>\n",
       "<table border=\"1\" class=\"dataframe\">\n",
       "  <thead>\n",
       "    <tr style=\"text-align: right;\">\n",
       "      <th></th>\n",
       "      <th>speed</th>\n",
       "      <th>hd</th>\n",
       "      <th>ram</th>\n",
       "      <th>screen</th>\n",
       "      <th>cd</th>\n",
       "      <th>multi</th>\n",
       "      <th>premium</th>\n",
       "      <th>ads</th>\n",
       "      <th>trend</th>\n",
       "      <th>price</th>\n",
       "    </tr>\n",
       "  </thead>\n",
       "  <tbody>\n",
       "    <tr>\n",
       "      <th>speed</th>\n",
       "      <td>1.000000</td>\n",
       "      <td>0.370356</td>\n",
       "      <td>0.232566</td>\n",
       "      <td>0.187519</td>\n",
       "      <td>0.256327</td>\n",
       "      <td>0.082750</td>\n",
       "      <td>0.115851</td>\n",
       "      <td>-0.214349</td>\n",
       "      <td>0.404830</td>\n",
       "      <td>0.298515</td>\n",
       "    </tr>\n",
       "    <tr>\n",
       "      <th>hd</th>\n",
       "      <td>0.370356</td>\n",
       "      <td>1.000000</td>\n",
       "      <td>0.777399</td>\n",
       "      <td>0.232675</td>\n",
       "      <td>0.504095</td>\n",
       "      <td>0.093263</td>\n",
       "      <td>0.198093</td>\n",
       "      <td>-0.323342</td>\n",
       "      <td>0.577599</td>\n",
       "      <td>0.428845</td>\n",
       "    </tr>\n",
       "    <tr>\n",
       "      <th>ram</th>\n",
       "      <td>0.232566</td>\n",
       "      <td>0.777399</td>\n",
       "      <td>1.000000</td>\n",
       "      <td>0.208871</td>\n",
       "      <td>0.439434</td>\n",
       "      <td>0.046050</td>\n",
       "      <td>0.198393</td>\n",
       "      <td>-0.181463</td>\n",
       "      <td>0.276938</td>\n",
       "      <td>0.621144</td>\n",
       "    </tr>\n",
       "    <tr>\n",
       "      <th>screen</th>\n",
       "      <td>0.187519</td>\n",
       "      <td>0.232675</td>\n",
       "      <td>0.208871</td>\n",
       "      <td>1.000000</td>\n",
       "      <td>0.132148</td>\n",
       "      <td>-0.000020</td>\n",
       "      <td>0.020148</td>\n",
       "      <td>-0.092144</td>\n",
       "      <td>0.189549</td>\n",
       "      <td>0.295094</td>\n",
       "    </tr>\n",
       "    <tr>\n",
       "      <th>cd</th>\n",
       "      <td>0.256327</td>\n",
       "      <td>0.504095</td>\n",
       "      <td>0.439434</td>\n",
       "      <td>0.132148</td>\n",
       "      <td>1.000000</td>\n",
       "      <td>0.431415</td>\n",
       "      <td>0.216475</td>\n",
       "      <td>-0.063234</td>\n",
       "      <td>0.445833</td>\n",
       "      <td>0.196410</td>\n",
       "    </tr>\n",
       "    <tr>\n",
       "      <th>multi</th>\n",
       "      <td>0.082750</td>\n",
       "      <td>0.093263</td>\n",
       "      <td>0.046050</td>\n",
       "      <td>-0.000020</td>\n",
       "      <td>0.431415</td>\n",
       "      <td>1.000000</td>\n",
       "      <td>0.124958</td>\n",
       "      <td>-0.031505</td>\n",
       "      <td>0.210566</td>\n",
       "      <td>-0.016641</td>\n",
       "    </tr>\n",
       "    <tr>\n",
       "      <th>premium</th>\n",
       "      <td>0.115851</td>\n",
       "      <td>0.198093</td>\n",
       "      <td>0.198393</td>\n",
       "      <td>0.020148</td>\n",
       "      <td>0.216475</td>\n",
       "      <td>0.124958</td>\n",
       "      <td>1.000000</td>\n",
       "      <td>-0.154920</td>\n",
       "      <td>0.041870</td>\n",
       "      <td>-0.080130</td>\n",
       "    </tr>\n",
       "    <tr>\n",
       "      <th>ads</th>\n",
       "      <td>-0.214349</td>\n",
       "      <td>-0.323342</td>\n",
       "      <td>-0.181463</td>\n",
       "      <td>-0.092144</td>\n",
       "      <td>-0.063234</td>\n",
       "      <td>-0.031505</td>\n",
       "      <td>-0.154920</td>\n",
       "      <td>1.000000</td>\n",
       "      <td>-0.320626</td>\n",
       "      <td>0.056434</td>\n",
       "    </tr>\n",
       "    <tr>\n",
       "      <th>trend</th>\n",
       "      <td>0.404830</td>\n",
       "      <td>0.577599</td>\n",
       "      <td>0.276938</td>\n",
       "      <td>0.189549</td>\n",
       "      <td>0.445833</td>\n",
       "      <td>0.210566</td>\n",
       "      <td>0.041870</td>\n",
       "      <td>-0.320626</td>\n",
       "      <td>1.000000</td>\n",
       "      <td>-0.201662</td>\n",
       "    </tr>\n",
       "    <tr>\n",
       "      <th>price</th>\n",
       "      <td>0.298515</td>\n",
       "      <td>0.428845</td>\n",
       "      <td>0.621144</td>\n",
       "      <td>0.295094</td>\n",
       "      <td>0.196410</td>\n",
       "      <td>-0.016641</td>\n",
       "      <td>-0.080130</td>\n",
       "      <td>0.056434</td>\n",
       "      <td>-0.201662</td>\n",
       "      <td>1.000000</td>\n",
       "    </tr>\n",
       "  </tbody>\n",
       "</table>\n",
       "</div>"
      ],
      "text/plain": [
       "            speed        hd       ram    screen        cd     multi   premium  \\\n",
       "speed    1.000000  0.370356  0.232566  0.187519  0.256327  0.082750  0.115851   \n",
       "hd       0.370356  1.000000  0.777399  0.232675  0.504095  0.093263  0.198093   \n",
       "ram      0.232566  0.777399  1.000000  0.208871  0.439434  0.046050  0.198393   \n",
       "screen   0.187519  0.232675  0.208871  1.000000  0.132148 -0.000020  0.020148   \n",
       "cd       0.256327  0.504095  0.439434  0.132148  1.000000  0.431415  0.216475   \n",
       "multi    0.082750  0.093263  0.046050 -0.000020  0.431415  1.000000  0.124958   \n",
       "premium  0.115851  0.198093  0.198393  0.020148  0.216475  0.124958  1.000000   \n",
       "ads     -0.214349 -0.323342 -0.181463 -0.092144 -0.063234 -0.031505 -0.154920   \n",
       "trend    0.404830  0.577599  0.276938  0.189549  0.445833  0.210566  0.041870   \n",
       "price    0.298515  0.428845  0.621144  0.295094  0.196410 -0.016641 -0.080130   \n",
       "\n",
       "              ads     trend     price  \n",
       "speed   -0.214349  0.404830  0.298515  \n",
       "hd      -0.323342  0.577599  0.428845  \n",
       "ram     -0.181463  0.276938  0.621144  \n",
       "screen  -0.092144  0.189549  0.295094  \n",
       "cd      -0.063234  0.445833  0.196410  \n",
       "multi   -0.031505  0.210566 -0.016641  \n",
       "premium -0.154920  0.041870 -0.080130  \n",
       "ads      1.000000 -0.320626  0.056434  \n",
       "trend   -0.320626  1.000000 -0.201662  \n",
       "price    0.056434 -0.201662  1.000000  "
      ]
     },
     "execution_count": 36,
     "metadata": {},
     "output_type": "execute_result"
    }
   ],
   "source": [
    "data1.corr()"
   ]
  },
  {
   "cell_type": "markdown",
   "id": "7a905f50",
   "metadata": {},
   "source": [
    "we find hd has highest collinearity and correlation and dropped in our model above. We didnt get better R squrared above , hence final model contains hd"
   ]
  },
  {
   "cell_type": "code",
   "execution_count": 41,
   "id": "7c2835ad",
   "metadata": {},
   "outputs": [
    {
     "data": {
      "text/html": [
       "<table class=\"simpletable\">\n",
       "<caption>OLS Regression Results</caption>\n",
       "<tr>\n",
       "  <th>Dep. Variable:</th>          <td>price</td>      <th>  R-squared:         </th> <td>   0.775</td> \n",
       "</tr>\n",
       "<tr>\n",
       "  <th>Model:</th>                   <td>OLS</td>       <th>  Adj. R-squared:    </th> <td>   0.775</td> \n",
       "</tr>\n",
       "<tr>\n",
       "  <th>Method:</th>             <td>Least Squares</td>  <th>  F-statistic:       </th> <td>   2366.</td> \n",
       "</tr>\n",
       "<tr>\n",
       "  <th>Date:</th>             <td>Sun, 24 Apr 2022</td> <th>  Prob (F-statistic):</th>  <td>  0.00</td>  \n",
       "</tr>\n",
       "<tr>\n",
       "  <th>Time:</th>                 <td>10:24:21</td>     <th>  Log-Likelihood:    </th> <td> -43522.</td> \n",
       "</tr>\n",
       "<tr>\n",
       "  <th>No. Observations:</th>      <td>  6183</td>      <th>  AIC:               </th> <td>8.706e+04</td>\n",
       "</tr>\n",
       "<tr>\n",
       "  <th>Df Residuals:</th>          <td>  6173</td>      <th>  BIC:               </th> <td>8.713e+04</td>\n",
       "</tr>\n",
       "<tr>\n",
       "  <th>Df Model:</th>              <td>     9</td>      <th>                     </th>     <td> </td>    \n",
       "</tr>\n",
       "<tr>\n",
       "  <th>Covariance Type:</th>      <td>nonrobust</td>    <th>                     </th>     <td> </td>    \n",
       "</tr>\n",
       "</table>\n",
       "<table class=\"simpletable\">\n",
       "<tr>\n",
       "      <td></td>         <th>coef</th>     <th>std err</th>      <th>t</th>      <th>P>|t|</th>  <th>[0.025</th>    <th>0.975]</th>  \n",
       "</tr>\n",
       "<tr>\n",
       "  <th>Intercept</th> <td> 2221.8379</td> <td>    3.512</td> <td>  632.695</td> <td> 0.000</td> <td> 2214.954</td> <td> 2228.722</td>\n",
       "</tr>\n",
       "<tr>\n",
       "  <th>speed</th>     <td>  197.7007</td> <td>    3.947</td> <td>   50.091</td> <td> 0.000</td> <td>  189.963</td> <td>  205.438</td>\n",
       "</tr>\n",
       "<tr>\n",
       "  <th>hd</th>        <td>  203.4252</td> <td>    7.192</td> <td>   28.284</td> <td> 0.000</td> <td>  189.326</td> <td>  217.524</td>\n",
       "</tr>\n",
       "<tr>\n",
       "  <th>ram</th>       <td>  271.7608</td> <td>    6.051</td> <td>   44.908</td> <td> 0.000</td> <td>  259.898</td> <td>  283.624</td>\n",
       "</tr>\n",
       "<tr>\n",
       "  <th>screen</th>    <td>  111.9447</td> <td>    3.652</td> <td>   30.656</td> <td> 0.000</td> <td>  104.786</td> <td>  119.103</td>\n",
       "</tr>\n",
       "<tr>\n",
       "  <th>cd</th>        <td>   30.2916</td> <td>    4.787</td> <td>    6.328</td> <td> 0.000</td> <td>   20.907</td> <td>   39.676</td>\n",
       "</tr>\n",
       "<tr>\n",
       "  <th>multi</th>     <td>   36.4446</td> <td>    3.987</td> <td>    9.141</td> <td> 0.000</td> <td>   28.628</td> <td>   44.261</td>\n",
       "</tr>\n",
       "<tr>\n",
       "  <th>premium</th>   <td> -152.4244</td> <td>    3.702</td> <td>  -41.171</td> <td> 0.000</td> <td> -159.682</td> <td> -145.167</td>\n",
       "</tr>\n",
       "<tr>\n",
       "  <th>ads</th>       <td>   48.4104</td> <td>    3.876</td> <td>   12.489</td> <td> 0.000</td> <td>   40.812</td> <td>   56.009</td>\n",
       "</tr>\n",
       "<tr>\n",
       "  <th>trend</th>     <td> -410.6548</td> <td>    4.996</td> <td>  -82.191</td> <td> 0.000</td> <td> -420.449</td> <td> -400.860</td>\n",
       "</tr>\n",
       "</table>\n",
       "<table class=\"simpletable\">\n",
       "<tr>\n",
       "  <th>Omnibus:</th>       <td>1003.154</td> <th>  Durbin-Watson:     </th> <td>   1.941</td>\n",
       "</tr>\n",
       "<tr>\n",
       "  <th>Prob(Omnibus):</th>  <td> 0.000</td>  <th>  Jarque-Bera (JB):  </th> <td>3132.516</td>\n",
       "</tr>\n",
       "<tr>\n",
       "  <th>Skew:</th>           <td> 0.834</td>  <th>  Prob(JB):          </th> <td>    0.00</td>\n",
       "</tr>\n",
       "<tr>\n",
       "  <th>Kurtosis:</th>       <td> 6.062</td>  <th>  Cond. No.          </th> <td>    4.61</td>\n",
       "</tr>\n",
       "</table><br/><br/>Notes:<br/>[1] Standard Errors assume that the covariance matrix of the errors is correctly specified."
      ],
      "text/plain": [
       "<class 'statsmodels.iolib.summary.Summary'>\n",
       "\"\"\"\n",
       "                            OLS Regression Results                            \n",
       "==============================================================================\n",
       "Dep. Variable:                  price   R-squared:                       0.775\n",
       "Model:                            OLS   Adj. R-squared:                  0.775\n",
       "Method:                 Least Squares   F-statistic:                     2366.\n",
       "Date:                Sun, 24 Apr 2022   Prob (F-statistic):               0.00\n",
       "Time:                        10:24:21   Log-Likelihood:                -43522.\n",
       "No. Observations:                6183   AIC:                         8.706e+04\n",
       "Df Residuals:                    6173   BIC:                         8.713e+04\n",
       "Df Model:                           9                                         \n",
       "Covariance Type:            nonrobust                                         \n",
       "==============================================================================\n",
       "                 coef    std err          t      P>|t|      [0.025      0.975]\n",
       "------------------------------------------------------------------------------\n",
       "Intercept   2221.8379      3.512    632.695      0.000    2214.954    2228.722\n",
       "speed        197.7007      3.947     50.091      0.000     189.963     205.438\n",
       "hd           203.4252      7.192     28.284      0.000     189.326     217.524\n",
       "ram          271.7608      6.051     44.908      0.000     259.898     283.624\n",
       "screen       111.9447      3.652     30.656      0.000     104.786     119.103\n",
       "cd            30.2916      4.787      6.328      0.000      20.907      39.676\n",
       "multi         36.4446      3.987      9.141      0.000      28.628      44.261\n",
       "premium     -152.4244      3.702    -41.171      0.000    -159.682    -145.167\n",
       "ads           48.4104      3.876     12.489      0.000      40.812      56.009\n",
       "trend       -410.6548      4.996    -82.191      0.000    -420.449    -400.860\n",
       "==============================================================================\n",
       "Omnibus:                     1003.154   Durbin-Watson:                   1.941\n",
       "Prob(Omnibus):                  0.000   Jarque-Bera (JB):             3132.516\n",
       "Skew:                           0.834   Prob(JB):                         0.00\n",
       "Kurtosis:                       6.062   Cond. No.                         4.61\n",
       "==============================================================================\n",
       "\n",
       "Notes:\n",
       "[1] Standard Errors assume that the covariance matrix of the errors is correctly specified.\n",
       "\"\"\""
      ]
     },
     "execution_count": 41,
     "metadata": {},
     "output_type": "execute_result"
    }
   ],
   "source": [
    "# Final model\n",
    "final_ml = smf.ols('price ~ speed+ hd+ ram+ screen+ cd+ multi+ premium+ads+ trend', data = data1).fit() # regression model\n",
    "final_ml.summary()     "
   ]
  },
  {
   "cell_type": "code",
   "execution_count": 42,
   "id": "1adbf9e6",
   "metadata": {},
   "outputs": [],
   "source": [
    "# Prediction\n",
    "pred = final_ml.predict(data1)"
   ]
  },
  {
   "cell_type": "code",
   "execution_count": 48,
   "id": "9b2de0eb",
   "metadata": {},
   "outputs": [
    {
     "data": {
      "image/png": "[encoded data removed]",
      "text/plain": [
       "<Figure size 432x288 with 1 Axes>"
      ]
     },
     "metadata": {},
     "output_type": "display_data"
    }
   ],
   "source": [
    "import matplotlib.pyplot as plt \n",
    "# Q-Q plot\n",
    "res = final_ml.resid\n",
    "sm.qqplot(res)\n",
    "plt.show()"
   ]
  },
  {
   "cell_type": "code",
   "execution_count": 49,
   "id": "dbf13157",
   "metadata": {},
   "outputs": [
    {
     "data": {
      "image/png": "[encoded data removed]",
      "text/plain": [
       "<Figure size 432x288 with 1 Axes>"
      ]
     },
     "metadata": {},
     "output_type": "display_data"
    }
   ],
   "source": [
    "# Q-Q plot\n",
    "from scipy import stats\n",
    "import pylab\n",
    "stats.probplot(res, dist = \"norm\", plot = pylab)\n",
    "plt.show()"
   ]
  },
  {
   "cell_type": "code",
   "execution_count": 50,
   "id": "8365f86b",
   "metadata": {},
   "outputs": [
    {
     "data": {
      "image/png": "[encoded data removed]",
      "text/plain": [
       "<Figure size 432x288 with 1 Axes>"
      ]
     },
     "metadata": {},
     "output_type": "display_data"
    }
   ],
   "source": [
    "# Residuals vs Fitted plot\n",
    "sns.residplot(x = pred, y = data.price, lowess = True)\n",
    "plt.xlabel('Fitted')\n",
    "plt.ylabel('Residual')\n",
    "plt.title('Fitted vs Residual')\n",
    "plt.show()"
   ]
  },
  {
   "cell_type": "code",
   "execution_count": 53,
   "id": "2d1736eb",
   "metadata": {},
   "outputs": [],
   "source": [
    "### Splitting the data into train and test data \n",
    "from sklearn.model_selection import train_test_split\n",
    "data_train, data_test = train_test_split(data1, test_size = 0.2) # 20% test data"
   ]
  },
  {
   "cell_type": "code",
   "execution_count": 55,
   "id": "b204be30",
   "metadata": {},
   "outputs": [
    {
     "data": {
      "text/plain": [
       "273.5552398207428"
      ]
     },
     "execution_count": 55,
     "metadata": {},
     "output_type": "execute_result"
    }
   ],
   "source": [
    "# preparing the model on train data \n",
    "model_train = smf.ols('price ~ speed+ hd+ ram+ screen+ cd+ multi+ premium+ads+ trend', data = data1).fit()\n",
    "\n",
    "# prediction on test data set \n",
    "test_pred = model_train.predict(data_test)\n",
    "\n",
    "# test residual values \n",
    "test_resid = test_pred - data_test.price\n",
    "# RMSE value for test data \n",
    "test_rmse = np.sqrt(np.mean(test_resid * test_resid))\n",
    "test_rmse"
   ]
  },
  {
   "cell_type": "code",
   "execution_count": 56,
   "id": "30d50e97",
   "metadata": {},
   "outputs": [
    {
     "data": {
      "text/html": [
       "<table class=\"simpletable\">\n",
       "<caption>OLS Regression Results</caption>\n",
       "<tr>\n",
       "  <th>Dep. Variable:</th>          <td>price</td>      <th>  R-squared:         </th> <td>   0.775</td> \n",
       "</tr>\n",
       "<tr>\n",
       "  <th>Model:</th>                   <td>OLS</td>       <th>  Adj. R-squared:    </th> <td>   0.775</td> \n",
       "</tr>\n",
       "<tr>\n",
       "  <th>Method:</th>             <td>Least Squares</td>  <th>  F-statistic:       </th> <td>   2366.</td> \n",
       "</tr>\n",
       "<tr>\n",
       "  <th>Date:</th>             <td>Sun, 24 Apr 2022</td> <th>  Prob (F-statistic):</th>  <td>  0.00</td>  \n",
       "</tr>\n",
       "<tr>\n",
       "  <th>Time:</th>                 <td>10:27:39</td>     <th>  Log-Likelihood:    </th> <td> -43522.</td> \n",
       "</tr>\n",
       "<tr>\n",
       "  <th>No. Observations:</th>      <td>  6183</td>      <th>  AIC:               </th> <td>8.706e+04</td>\n",
       "</tr>\n",
       "<tr>\n",
       "  <th>Df Residuals:</th>          <td>  6173</td>      <th>  BIC:               </th> <td>8.713e+04</td>\n",
       "</tr>\n",
       "<tr>\n",
       "  <th>Df Model:</th>              <td>     9</td>      <th>                     </th>     <td> </td>    \n",
       "</tr>\n",
       "<tr>\n",
       "  <th>Covariance Type:</th>      <td>nonrobust</td>    <th>                     </th>     <td> </td>    \n",
       "</tr>\n",
       "</table>\n",
       "<table class=\"simpletable\">\n",
       "<tr>\n",
       "      <td></td>         <th>coef</th>     <th>std err</th>      <th>t</th>      <th>P>|t|</th>  <th>[0.025</th>    <th>0.975]</th>  \n",
       "</tr>\n",
       "<tr>\n",
       "  <th>Intercept</th> <td> 2221.8379</td> <td>    3.512</td> <td>  632.695</td> <td> 0.000</td> <td> 2214.954</td> <td> 2228.722</td>\n",
       "</tr>\n",
       "<tr>\n",
       "  <th>speed</th>     <td>  197.7007</td> <td>    3.947</td> <td>   50.091</td> <td> 0.000</td> <td>  189.963</td> <td>  205.438</td>\n",
       "</tr>\n",
       "<tr>\n",
       "  <th>hd</th>        <td>  203.4252</td> <td>    7.192</td> <td>   28.284</td> <td> 0.000</td> <td>  189.326</td> <td>  217.524</td>\n",
       "</tr>\n",
       "<tr>\n",
       "  <th>ram</th>       <td>  271.7608</td> <td>    6.051</td> <td>   44.908</td> <td> 0.000</td> <td>  259.898</td> <td>  283.624</td>\n",
       "</tr>\n",
       "<tr>\n",
       "  <th>screen</th>    <td>  111.9447</td> <td>    3.652</td> <td>   30.656</td> <td> 0.000</td> <td>  104.786</td> <td>  119.103</td>\n",
       "</tr>\n",
       "<tr>\n",
       "  <th>cd</th>        <td>   30.2916</td> <td>    4.787</td> <td>    6.328</td> <td> 0.000</td> <td>   20.907</td> <td>   39.676</td>\n",
       "</tr>\n",
       "<tr>\n",
       "  <th>multi</th>     <td>   36.4446</td> <td>    3.987</td> <td>    9.141</td> <td> 0.000</td> <td>   28.628</td> <td>   44.261</td>\n",
       "</tr>\n",
       "<tr>\n",
       "  <th>premium</th>   <td> -152.4244</td> <td>    3.702</td> <td>  -41.171</td> <td> 0.000</td> <td> -159.682</td> <td> -145.167</td>\n",
       "</tr>\n",
       "<tr>\n",
       "  <th>ads</th>       <td>   48.4104</td> <td>    3.876</td> <td>   12.489</td> <td> 0.000</td> <td>   40.812</td> <td>   56.009</td>\n",
       "</tr>\n",
       "<tr>\n",
       "  <th>trend</th>     <td> -410.6548</td> <td>    4.996</td> <td>  -82.191</td> <td> 0.000</td> <td> -420.449</td> <td> -400.860</td>\n",
       "</tr>\n",
       "</table>\n",
       "<table class=\"simpletable\">\n",
       "<tr>\n",
       "  <th>Omnibus:</th>       <td>1003.154</td> <th>  Durbin-Watson:     </th> <td>   1.941</td>\n",
       "</tr>\n",
       "<tr>\n",
       "  <th>Prob(Omnibus):</th>  <td> 0.000</td>  <th>  Jarque-Bera (JB):  </th> <td>3132.516</td>\n",
       "</tr>\n",
       "<tr>\n",
       "  <th>Skew:</th>           <td> 0.834</td>  <th>  Prob(JB):          </th> <td>    0.00</td>\n",
       "</tr>\n",
       "<tr>\n",
       "  <th>Kurtosis:</th>       <td> 6.062</td>  <th>  Cond. No.          </th> <td>    4.61</td>\n",
       "</tr>\n",
       "</table><br/><br/>Notes:<br/>[1] Standard Errors assume that the covariance matrix of the errors is correctly specified."
      ],
      "text/plain": [
       "<class 'statsmodels.iolib.summary.Summary'>\n",
       "\"\"\"\n",
       "                            OLS Regression Results                            \n",
       "==============================================================================\n",
       "Dep. Variable:                  price   R-squared:                       0.775\n",
       "Model:                            OLS   Adj. R-squared:                  0.775\n",
       "Method:                 Least Squares   F-statistic:                     2366.\n",
       "Date:                Sun, 24 Apr 2022   Prob (F-statistic):               0.00\n",
       "Time:                        10:27:39   Log-Likelihood:                -43522.\n",
       "No. Observations:                6183   AIC:                         8.706e+04\n",
       "Df Residuals:                    6173   BIC:                         8.713e+04\n",
       "Df Model:                           9                                         \n",
       "Covariance Type:            nonrobust                                         \n",
       "==============================================================================\n",
       "                 coef    std err          t      P>|t|      [0.025      0.975]\n",
       "------------------------------------------------------------------------------\n",
       "Intercept   2221.8379      3.512    632.695      0.000    2214.954    2228.722\n",
       "speed        197.7007      3.947     50.091      0.000     189.963     205.438\n",
       "hd           203.4252      7.192     28.284      0.000     189.326     217.524\n",
       "ram          271.7608      6.051     44.908      0.000     259.898     283.624\n",
       "screen       111.9447      3.652     30.656      0.000     104.786     119.103\n",
       "cd            30.2916      4.787      6.328      0.000      20.907      39.676\n",
       "multi         36.4446      3.987      9.141      0.000      28.628      44.261\n",
       "premium     -152.4244      3.702    -41.171      0.000    -159.682    -145.167\n",
       "ads           48.4104      3.876     12.489      0.000      40.812      56.009\n",
       "trend       -410.6548      4.996    -82.191      0.000    -420.449    -400.860\n",
       "==============================================================================\n",
       "Omnibus:                     1003.154   Durbin-Watson:                   1.941\n",
       "Prob(Omnibus):                  0.000   Jarque-Bera (JB):             3132.516\n",
       "Skew:                           0.834   Prob(JB):                         0.00\n",
       "Kurtosis:                       6.062   Cond. No.                         4.61\n",
       "==============================================================================\n",
       "\n",
       "Notes:\n",
       "[1] Standard Errors assume that the covariance matrix of the errors is correctly specified.\n",
       "\"\"\""
      ]
     },
     "execution_count": 56,
     "metadata": {},
     "output_type": "execute_result"
    }
   ],
   "source": [
    "model_train.summary()"
   ]
  },
  {
   "cell_type": "code",
   "execution_count": 57,
   "id": "b6084832",
   "metadata": {},
   "outputs": [
    {
     "data": {
      "text/plain": [
       "276.49457853115564"
      ]
     },
     "execution_count": 57,
     "metadata": {},
     "output_type": "execute_result"
    }
   ],
   "source": [
    "# train_data prediction\n",
    "train_pred = model_train.predict(data_train)\n",
    "\n",
    "# train residual values \n",
    "train_resid  = train_pred - data_train.price\n",
    "# RMSE value for train data \n",
    "train_rmse = np.sqrt(np.mean(train_resid * train_resid))\n",
    "train_rmse"
   ]
  },
  {
   "cell_type": "code",
   "execution_count": 58,
   "id": "91ea238a",
   "metadata": {},
   "outputs": [
    {
     "data": {
      "text/html": [
       "<table class=\"simpletable\">\n",
       "<caption>OLS Regression Results</caption>\n",
       "<tr>\n",
       "  <th>Dep. Variable:</th>          <td>price</td>      <th>  R-squared:         </th> <td>   0.775</td> \n",
       "</tr>\n",
       "<tr>\n",
       "  <th>Model:</th>                   <td>OLS</td>       <th>  Adj. R-squared:    </th> <td>   0.775</td> \n",
       "</tr>\n",
       "<tr>\n",
       "  <th>Method:</th>             <td>Least Squares</td>  <th>  F-statistic:       </th> <td>   2366.</td> \n",
       "</tr>\n",
       "<tr>\n",
       "  <th>Date:</th>             <td>Sun, 24 Apr 2022</td> <th>  Prob (F-statistic):</th>  <td>  0.00</td>  \n",
       "</tr>\n",
       "<tr>\n",
       "  <th>Time:</th>                 <td>10:27:50</td>     <th>  Log-Likelihood:    </th> <td> -43522.</td> \n",
       "</tr>\n",
       "<tr>\n",
       "  <th>No. Observations:</th>      <td>  6183</td>      <th>  AIC:               </th> <td>8.706e+04</td>\n",
       "</tr>\n",
       "<tr>\n",
       "  <th>Df Residuals:</th>          <td>  6173</td>      <th>  BIC:               </th> <td>8.713e+04</td>\n",
       "</tr>\n",
       "<tr>\n",
       "  <th>Df Model:</th>              <td>     9</td>      <th>                     </th>     <td> </td>    \n",
       "</tr>\n",
       "<tr>\n",
       "  <th>Covariance Type:</th>      <td>nonrobust</td>    <th>                     </th>     <td> </td>    \n",
       "</tr>\n",
       "</table>\n",
       "<table class=\"simpletable\">\n",
       "<tr>\n",
       "      <td></td>         <th>coef</th>     <th>std err</th>      <th>t</th>      <th>P>|t|</th>  <th>[0.025</th>    <th>0.975]</th>  \n",
       "</tr>\n",
       "<tr>\n",
       "  <th>Intercept</th> <td> 2221.8379</td> <td>    3.512</td> <td>  632.695</td> <td> 0.000</td> <td> 2214.954</td> <td> 2228.722</td>\n",
       "</tr>\n",
       "<tr>\n",
       "  <th>speed</th>     <td>  197.7007</td> <td>    3.947</td> <td>   50.091</td> <td> 0.000</td> <td>  189.963</td> <td>  205.438</td>\n",
       "</tr>\n",
       "<tr>\n",
       "  <th>hd</th>        <td>  203.4252</td> <td>    7.192</td> <td>   28.284</td> <td> 0.000</td> <td>  189.326</td> <td>  217.524</td>\n",
       "</tr>\n",
       "<tr>\n",
       "  <th>ram</th>       <td>  271.7608</td> <td>    6.051</td> <td>   44.908</td> <td> 0.000</td> <td>  259.898</td> <td>  283.624</td>\n",
       "</tr>\n",
       "<tr>\n",
       "  <th>screen</th>    <td>  111.9447</td> <td>    3.652</td> <td>   30.656</td> <td> 0.000</td> <td>  104.786</td> <td>  119.103</td>\n",
       "</tr>\n",
       "<tr>\n",
       "  <th>cd</th>        <td>   30.2916</td> <td>    4.787</td> <td>    6.328</td> <td> 0.000</td> <td>   20.907</td> <td>   39.676</td>\n",
       "</tr>\n",
       "<tr>\n",
       "  <th>multi</th>     <td>   36.4446</td> <td>    3.987</td> <td>    9.141</td> <td> 0.000</td> <td>   28.628</td> <td>   44.261</td>\n",
       "</tr>\n",
       "<tr>\n",
       "  <th>premium</th>   <td> -152.4244</td> <td>    3.702</td> <td>  -41.171</td> <td> 0.000</td> <td> -159.682</td> <td> -145.167</td>\n",
       "</tr>\n",
       "<tr>\n",
       "  <th>ads</th>       <td>   48.4104</td> <td>    3.876</td> <td>   12.489</td> <td> 0.000</td> <td>   40.812</td> <td>   56.009</td>\n",
       "</tr>\n",
       "<tr>\n",
       "  <th>trend</th>     <td> -410.6548</td> <td>    4.996</td> <td>  -82.191</td> <td> 0.000</td> <td> -420.449</td> <td> -400.860</td>\n",
       "</tr>\n",
       "</table>\n",
       "<table class=\"simpletable\">\n",
       "<tr>\n",
       "  <th>Omnibus:</th>       <td>1003.154</td> <th>  Durbin-Watson:     </th> <td>   1.941</td>\n",
       "</tr>\n",
       "<tr>\n",
       "  <th>Prob(Omnibus):</th>  <td> 0.000</td>  <th>  Jarque-Bera (JB):  </th> <td>3132.516</td>\n",
       "</tr>\n",
       "<tr>\n",
       "  <th>Skew:</th>           <td> 0.834</td>  <th>  Prob(JB):          </th> <td>    0.00</td>\n",
       "</tr>\n",
       "<tr>\n",
       "  <th>Kurtosis:</th>       <td> 6.062</td>  <th>  Cond. No.          </th> <td>    4.61</td>\n",
       "</tr>\n",
       "</table><br/><br/>Notes:<br/>[1] Standard Errors assume that the covariance matrix of the errors is correctly specified."
      ],
      "text/plain": [
       "<class 'statsmodels.iolib.summary.Summary'>\n",
       "\"\"\"\n",
       "                            OLS Regression Results                            \n",
       "==============================================================================\n",
       "Dep. Variable:                  price   R-squared:                       0.775\n",
       "Model:                            OLS   Adj. R-squared:                  0.775\n",
       "Method:                 Least Squares   F-statistic:                     2366.\n",
       "Date:                Sun, 24 Apr 2022   Prob (F-statistic):               0.00\n",
       "Time:                        10:27:50   Log-Likelihood:                -43522.\n",
       "No. Observations:                6183   AIC:                         8.706e+04\n",
       "Df Residuals:                    6173   BIC:                         8.713e+04\n",
       "Df Model:                           9                                         \n",
       "Covariance Type:            nonrobust                                         \n",
       "==============================================================================\n",
       "                 coef    std err          t      P>|t|      [0.025      0.975]\n",
       "------------------------------------------------------------------------------\n",
       "Intercept   2221.8379      3.512    632.695      0.000    2214.954    2228.722\n",
       "speed        197.7007      3.947     50.091      0.000     189.963     205.438\n",
       "hd           203.4252      7.192     28.284      0.000     189.326     217.524\n",
       "ram          271.7608      6.051     44.908      0.000     259.898     283.624\n",
       "screen       111.9447      3.652     30.656      0.000     104.786     119.103\n",
       "cd            30.2916      4.787      6.328      0.000      20.907      39.676\n",
       "multi         36.4446      3.987      9.141      0.000      28.628      44.261\n",
       "premium     -152.4244      3.702    -41.171      0.000    -159.682    -145.167\n",
       "ads           48.4104      3.876     12.489      0.000      40.812      56.009\n",
       "trend       -410.6548      4.996    -82.191      0.000    -420.449    -400.860\n",
       "==============================================================================\n",
       "Omnibus:                     1003.154   Durbin-Watson:                   1.941\n",
       "Prob(Omnibus):                  0.000   Jarque-Bera (JB):             3132.516\n",
       "Skew:                           0.834   Prob(JB):                         0.00\n",
       "Kurtosis:                       6.062   Cond. No.                         4.61\n",
       "==============================================================================\n",
       "\n",
       "Notes:\n",
       "[1] Standard Errors assume that the covariance matrix of the errors is correctly specified.\n",
       "\"\"\""
      ]
     },
     "execution_count": 58,
     "metadata": {},
     "output_type": "execute_result"
    }
   ],
   "source": [
    "model_train.summary()"
   ]
  }
 ],
 "metadata": {
  "kernelspec": {
   "display_name": "Python 3 (ipykernel)",
   "language": "python",
   "name": "python3"
  },
  "language_info": {
   "codemirror_mode": {
    "name": "ipython",
    "version": 3
   },
   "file_extension": ".py",
   "mimetype": "text/x-python",
   "name": "python",
   "nbconvert_exporter": "python",
   "pygments_lexer": "ipython3",
   "version": "3.9.5"
  },
  "toc": {
   "base_numbering": 1,
   "nav_menu": {},
   "number_sections": true,
   "sideBar": true,
   "skip_h1_title": false,
   "title_cell": "Table of Contents",
   "title_sidebar": "Contents",
   "toc_cell": false,
   "toc_position": {
    "height": "calc(100% - 180px)",
    "left": "10px",
    "top": "150px",
    "width": "223px"
   },
   "toc_section_display": true,
   "toc_window_display": true
  },
  "varInspector": {
   "cols": {
    "lenName": 16,
    "lenType": 16,
    "lenVar": 40
   },
   "kernels_config": {
    "python": {
     "delete_cmd_postfix": "",
     "delete_cmd_prefix": "del ",
     "library": "var_list.py",
     "varRefreshCmd": "print(var_dic_list())"
    },
    "r": {
     "delete_cmd_postfix": ") ",
     "delete_cmd_prefix": "rm(",
     "library": "var_list.r",
     "varRefreshCmd": "cat(var_dic_list()) "
    }
   },
   "types_to_exclude": [
    "module",
    "function",
    "builtin_function_or_method",
    "instance",
    "_Feature"
   ],
   "window_display": false
  }
 },
 "nbformat": 4,
 "nbformat_minor": 5
}
