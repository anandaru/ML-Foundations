{
 "cells": [
  {
   "cell_type": "markdown",
   "id": "681736b2",
   "metadata": {},
   "source": [
    "The Entertainment Company, which is an online movie watching platform, wants to improve its   \n",
    "collection of movies and showcase those that are highly rated and recommend those movies to its   \n",
    "customer by their movie watching footprint. For this, the company has collected the data and shared   \n",
    "it with you to provide some analytical insights and also to come up with a recommendation algorithm so   \n",
    "that it can automate its process for effective recommendations. The ratings are between -9 and +9.  "
   ]
  },
  {
   "cell_type": "code",
   "execution_count": 18,
   "id": "662cab13",
   "metadata": {},
   "outputs": [],
   "source": [
    "import pandas as pd\n",
    "# import Dataset \n",
    "ent = pd.read_csv(\"Entertainment.csv\", encoding = 'utf8')"
   ]
  },
  {
   "cell_type": "code",
   "execution_count": 19,
   "id": "cbc8587b",
   "metadata": {},
   "outputs": [
    {
     "data": {
      "text/plain": [
       "(51, 4)"
      ]
     },
     "execution_count": 19,
     "metadata": {},
     "output_type": "execute_result"
    }
   ],
   "source": [
    "ent.shape # shape"
   ]
  },
  {
   "cell_type": "code",
   "execution_count": 20,
   "id": "476e8dda",
   "metadata": {},
   "outputs": [
    {
     "data": {
      "text/plain": [
       "Index(['Id', 'Titles', 'Category', 'Reviews'], dtype='object')"
      ]
     },
     "execution_count": 20,
     "metadata": {},
     "output_type": "execute_result"
    }
   ],
   "source": [
    "ent.columns"
   ]
  },
  {
   "cell_type": "code",
   "execution_count": 21,
   "id": "85fe527c",
   "metadata": {},
   "outputs": [
    {
     "data": {
      "text/html": [
       "<div>\n",
       "<style scoped>\n",
       "    .dataframe tbody tr th:only-of-type {\n",
       "        vertical-align: middle;\n",
       "    }\n",
       "\n",
       "    .dataframe tbody tr th {\n",
       "        vertical-align: top;\n",
       "    }\n",
       "\n",
       "    .dataframe thead th {\n",
       "        text-align: right;\n",
       "    }\n",
       "</style>\n",
       "<table border=\"1\" class=\"dataframe\">\n",
       "  <thead>\n",
       "    <tr style=\"text-align: right;\">\n",
       "      <th></th>\n",
       "      <th>Id</th>\n",
       "      <th>Titles</th>\n",
       "      <th>Category</th>\n",
       "      <th>Reviews</th>\n",
       "    </tr>\n",
       "  </thead>\n",
       "  <tbody>\n",
       "    <tr>\n",
       "      <th>32</th>\n",
       "      <td>6590</td>\n",
       "      <td>Babe (1995)</td>\n",
       "      <td>Comedy, Drama, Shounen, Sports</td>\n",
       "      <td>-1.41</td>\n",
       "    </tr>\n",
       "    <tr>\n",
       "      <th>47</th>\n",
       "      <td>7464</td>\n",
       "      <td>Mighty Aphrodite (1995)</td>\n",
       "      <td>Psychological, Seinen, Sports</td>\n",
       "      <td>-7.86</td>\n",
       "    </tr>\n",
       "    <tr>\n",
       "      <th>2</th>\n",
       "      <td>9702</td>\n",
       "      <td>Grumpier Old Men (1995)</td>\n",
       "      <td>Action, Comedy, Historical, Parody, Samurai, S...</td>\n",
       "      <td>99.00</td>\n",
       "    </tr>\n",
       "    <tr>\n",
       "      <th>6</th>\n",
       "      <td>1803</td>\n",
       "      <td>Sabrina (1995)</td>\n",
       "      <td>Action, Adventure, Shounen, Super Power</td>\n",
       "      <td>99.00</td>\n",
       "    </tr>\n",
       "    <tr>\n",
       "      <th>28</th>\n",
       "      <td>4647</td>\n",
       "      <td>City of Lost Children (1995)</td>\n",
       "      <td>Adventure, Fantasy, Historical, Mystery, Seine...</td>\n",
       "      <td>99.00</td>\n",
       "    </tr>\n",
       "    <tr>\n",
       "      <th>34</th>\n",
       "      <td>7547</td>\n",
       "      <td>It Takes Two (1995)</td>\n",
       "      <td>Drama, Fantasy, Shoujo, Slice of Life, Superna...</td>\n",
       "      <td>5.92</td>\n",
       "    </tr>\n",
       "    <tr>\n",
       "      <th>18</th>\n",
       "      <td>9679</td>\n",
       "      <td>Ace Ventura: When Nature Calls (1995)</td>\n",
       "      <td>Fantasy, Slice of Life</td>\n",
       "      <td>99.00</td>\n",
       "    </tr>\n",
       "    <tr>\n",
       "      <th>29</th>\n",
       "      <td>5871</td>\n",
       "      <td>Shanghai Triad (Yao a yao yao dao waipo qiao) ...</td>\n",
       "      <td>Action, Adventure, Comedy, Mecha, Sci-Fi</td>\n",
       "      <td>99.00</td>\n",
       "    </tr>\n",
       "  </tbody>\n",
       "</table>\n",
       "</div>"
      ],
      "text/plain": [
       "      Id                                             Titles  \\\n",
       "32  6590                                        Babe (1995)   \n",
       "47  7464                            Mighty Aphrodite (1995)   \n",
       "2   9702                            Grumpier Old Men (1995)   \n",
       "6   1803                                     Sabrina (1995)   \n",
       "28  4647                       City of Lost Children (1995)   \n",
       "34  7547                                It Takes Two (1995)   \n",
       "18  9679              Ace Ventura: When Nature Calls (1995)   \n",
       "29  5871  Shanghai Triad (Yao a yao yao dao waipo qiao) ...   \n",
       "\n",
       "                                             Category  Reviews  \n",
       "32                     Comedy, Drama, Shounen, Sports    -1.41  \n",
       "47                      Psychological, Seinen, Sports    -7.86  \n",
       "2   Action, Comedy, Historical, Parody, Samurai, S...    99.00  \n",
       "6             Action, Adventure, Shounen, Super Power    99.00  \n",
       "28  Adventure, Fantasy, Historical, Mystery, Seine...    99.00  \n",
       "34  Drama, Fantasy, Shoujo, Slice of Life, Superna...     5.92  \n",
       "18                             Fantasy, Slice of Life    99.00  \n",
       "29           Action, Adventure, Comedy, Mecha, Sci-Fi    99.00  "
      ]
     },
     "execution_count": 21,
     "metadata": {},
     "output_type": "execute_result"
    }
   ],
   "source": [
    "ent.sample(8)"
   ]
  },
  {
   "cell_type": "code",
   "execution_count": 22,
   "id": "eafe813b",
   "metadata": {},
   "outputs": [
    {
     "data": {
      "text/plain": [
       "0                 Drama, Romance, School, Supernatural\n",
       "1    Action, Adventure, Drama, Fantasy, Magic, Mili...\n",
       "2    Action, Comedy, Historical, Parody, Samurai, S...\n",
       "3                                     Sci-Fi, Thriller\n",
       "4    Action, Comedy, Historical, Parody, Samurai, S...\n",
       "Name: Category, dtype: object"
      ]
     },
     "execution_count": 22,
     "metadata": {},
     "output_type": "execute_result"
    }
   ],
   "source": [
    "ent['Category'].head()"
   ]
  },
  {
   "cell_type": "code",
   "execution_count": 23,
   "id": "8457c7e7",
   "metadata": {},
   "outputs": [
    {
     "data": {
      "text/plain": [
       "0"
      ]
     },
     "execution_count": 23,
     "metadata": {},
     "output_type": "execute_result"
    }
   ],
   "source": [
    "#check NaN values \n",
    "ent['Category'].isnull().sum() "
   ]
  },
  {
   "cell_type": "code",
   "execution_count": 24,
   "id": "032099a6",
   "metadata": {},
   "outputs": [
    {
     "data": {
      "text/plain": [
       "(51, 34)"
      ]
     },
     "execution_count": 24,
     "metadata": {},
     "output_type": "execute_result"
    }
   ],
   "source": [
    "from sklearn.feature_extraction.text import TfidfVectorizer #term frequencey- inverse document frequncy is a numerical statistic that is intended to reflect how important a word is to document in a collecion or corpus\n",
    "\n",
    "# Creating a Tfidf Vectorizer to remove all stop words\n",
    "tfidf = TfidfVectorizer(stop_words = \"english\")    # taking stop words from tfid vectorizer \n",
    "\n",
    "# Preparing the Tfidf matrix by fitting and transforming\n",
    "tfidf_matrix = tfidf.fit_transform(ent.Category)   #Transform a count matrix to a normalized tf or tf-idf representation\n",
    "tfidf_matrix.shape "
   ]
  },
  {
   "cell_type": "code",
   "execution_count": 25,
   "id": "cd258a09",
   "metadata": {},
   "outputs": [],
   "source": [
    "#compute similarities pairwise\n",
    "from sklearn.metrics.pairwise import linear_kernel\n",
    "\n",
    "# Computing the cosine similarity on Tfidf matrix\n",
    "cosine_sim_matrix = linear_kernel(tfidf_matrix, tfidf_matrix)\n",
    "\n"
   ]
  },
  {
   "cell_type": "code",
   "execution_count": 26,
   "id": "797b3834",
   "metadata": {},
   "outputs": [
    {
     "data": {
      "text/plain": [
       "array([1.        , 0.09421367, 0.        , 0.        , 0.        ,\n",
       "       0.42359591, 0.        , 0.10686286, 0.        , 0.        ,\n",
       "       0.54177871, 0.58035645, 0.        , 0.08421361, 0.42359591,\n",
       "       0.43279274, 0.58230377, 0.12767481, 0.        , 0.17811026,\n",
       "       0.15484034, 0.26510856, 0.10403276, 0.11097268, 0.        ,\n",
       "       0.62594265, 0.39703131, 0.12767481, 0.12767481, 0.        ,\n",
       "       0.39430628, 0.25267036, 0.15484034, 0.12767481, 0.25267036,\n",
       "       0.474735  , 0.17942927, 0.1620291 , 0.08147575, 0.51531804,\n",
       "       0.12938023, 0.        , 0.34279311, 0.42359591, 0.15484034,\n",
       "       0.52359466, 0.25267036, 0.        , 0.12767481, 0.16772551,\n",
       "       0.31295101])"
      ]
     },
     "execution_count": 26,
     "metadata": {},
     "output_type": "execute_result"
    }
   ],
   "source": [
    "cosine_sim_matrix[0]"
   ]
  },
  {
   "cell_type": "code",
   "execution_count": 27,
   "id": "29c79982",
   "metadata": {},
   "outputs": [
    {
     "data": {
      "text/plain": [
       "41"
      ]
     },
     "execution_count": 27,
     "metadata": {},
     "output_type": "execute_result"
    }
   ],
   "source": [
    "# creating a mapping of anime name to index number \n",
    "ent_index = pd.Series(ent.index, index = ent['Titles']).drop_duplicates()\n",
    "ent_id = ent_index['To Die For (1995)']\n",
    "ent_id\n"
   ]
  },
  {
   "cell_type": "code",
   "execution_count": 28,
   "id": "8927ec3d",
   "metadata": {},
   "outputs": [],
   "source": [
    "def get_recommendations(Name, topN):    \n",
    "    # topN = 10\n",
    "    # Getting the movie index using its title \n",
    "    ent_id = ent_index[Name]\n",
    "    \n",
    "    # Getting the pair wise similarity score for all the anime's with that \n",
    "    cosine_scores = list(enumerate(cosine_sim_matrix[ent_id]))\n",
    "    \n",
    "    # Sorting the cosine_similarity scores based on scores \n",
    "    cosine_scores = sorted(cosine_scores, key=lambda x:x[1], reverse = True)\n",
    "    \n",
    "    # Get the scores of top N most similar movies \n",
    "    cosine_scores_N = cosine_scores[0: topN+1]\n",
    "    \n",
    "    # Getting the movie index \n",
    "    ent_idx  =  [i[0] for i in cosine_scores_N]\n",
    "    ent_scores =  [i[1] for i in cosine_scores_N]\n",
    "    \n",
    "    # Similar movies and scores\n",
    "    ent_similar_show = pd.DataFrame(columns=[\"Titles\", \"scores\"])\n",
    "    ent_similar_show[\"Titles\"] = ent.loc[ent_idx, \"Titles\"]\n",
    "    ent_similar_show[\"scores\"] = ent_scores\n",
    "    ent_similar_show.reset_index(inplace = True)  \n",
    "    return (ent_similar_show)"
   ]
  },
  {
   "cell_type": "code",
   "execution_count": 29,
   "id": "66f17b0f",
   "metadata": {},
   "outputs": [
    {
     "data": {
      "text/html": [
       "<div>\n",
       "<style scoped>\n",
       "    .dataframe tbody tr th:only-of-type {\n",
       "        vertical-align: middle;\n",
       "    }\n",
       "\n",
       "    .dataframe tbody tr th {\n",
       "        vertical-align: top;\n",
       "    }\n",
       "\n",
       "    .dataframe thead th {\n",
       "        text-align: right;\n",
       "    }\n",
       "</style>\n",
       "<table border=\"1\" class=\"dataframe\">\n",
       "  <thead>\n",
       "    <tr style=\"text-align: right;\">\n",
       "      <th></th>\n",
       "      <th>index</th>\n",
       "      <th>Titles</th>\n",
       "      <th>scores</th>\n",
       "    </tr>\n",
       "  </thead>\n",
       "  <tbody>\n",
       "    <tr>\n",
       "      <th>0</th>\n",
       "      <td>41</td>\n",
       "      <td>To Die For (1995)</td>\n",
       "      <td>1.000000</td>\n",
       "    </tr>\n",
       "    <tr>\n",
       "      <th>1</th>\n",
       "      <td>2</td>\n",
       "      <td>Grumpier Old Men (1995)</td>\n",
       "      <td>0.509671</td>\n",
       "    </tr>\n",
       "    <tr>\n",
       "      <th>2</th>\n",
       "      <td>4</td>\n",
       "      <td>Father of the Bride Part II (1995)</td>\n",
       "      <td>0.509671</td>\n",
       "    </tr>\n",
       "    <tr>\n",
       "      <th>3</th>\n",
       "      <td>8</td>\n",
       "      <td>Sudden Death (1995)</td>\n",
       "      <td>0.509671</td>\n",
       "    </tr>\n",
       "    <tr>\n",
       "      <th>4</th>\n",
       "      <td>9</td>\n",
       "      <td>GoldenEye (1995)</td>\n",
       "      <td>0.509671</td>\n",
       "    </tr>\n",
       "    <tr>\n",
       "      <th>5</th>\n",
       "      <td>12</td>\n",
       "      <td>Balto (1995)</td>\n",
       "      <td>0.509671</td>\n",
       "    </tr>\n",
       "    <tr>\n",
       "      <th>6</th>\n",
       "      <td>23</td>\n",
       "      <td>Powder (1995)</td>\n",
       "      <td>0.445853</td>\n",
       "    </tr>\n",
       "    <tr>\n",
       "      <th>7</th>\n",
       "      <td>39</td>\n",
       "      <td>Restoration (1995)</td>\n",
       "      <td>0.254424</td>\n",
       "    </tr>\n",
       "    <tr>\n",
       "      <th>8</th>\n",
       "      <td>42</td>\n",
       "      <td>How to Make an American Quilt (1995)</td>\n",
       "      <td>0.247151</td>\n",
       "    </tr>\n",
       "    <tr>\n",
       "      <th>9</th>\n",
       "      <td>20</td>\n",
       "      <td>Get Shorty (1995)</td>\n",
       "      <td>0.242524</td>\n",
       "    </tr>\n",
       "    <tr>\n",
       "      <th>10</th>\n",
       "      <td>32</td>\n",
       "      <td>Babe (1995)</td>\n",
       "      <td>0.242524</td>\n",
       "    </tr>\n",
       "  </tbody>\n",
       "</table>\n",
       "</div>"
      ],
      "text/plain": [
       "    index                                Titles    scores\n",
       "0      41                     To Die For (1995)  1.000000\n",
       "1       2               Grumpier Old Men (1995)  0.509671\n",
       "2       4    Father of the Bride Part II (1995)  0.509671\n",
       "3       8                   Sudden Death (1995)  0.509671\n",
       "4       9                      GoldenEye (1995)  0.509671\n",
       "5      12                          Balto (1995)  0.509671\n",
       "6      23                         Powder (1995)  0.445853\n",
       "7      39                    Restoration (1995)  0.254424\n",
       "8      42  How to Make an American Quilt (1995)  0.247151\n",
       "9      20                     Get Shorty (1995)  0.242524\n",
       "10     32                           Babe (1995)  0.242524"
      ]
     },
     "execution_count": 29,
     "metadata": {},
     "output_type": "execute_result"
    }
   ],
   "source": [
    "# Enter your movie name and number of movie's to be recommended \n",
    "get_recommendations('To Die For (1995)', topN = 10)\n"
   ]
  }
 ],
 "metadata": {
  "kernelspec": {
   "display_name": "Python 3 (ipykernel)",
   "language": "python",
   "name": "python3"
  },
  "language_info": {
   "codemirror_mode": {
    "name": "ipython",
    "version": 3
   },
   "file_extension": ".py",
   "mimetype": "text/x-python",
   "name": "python",
   "nbconvert_exporter": "python",
   "pygments_lexer": "ipython3",
   "version": "3.9.5"
  },
  "toc": {
   "base_numbering": 1,
   "nav_menu": {},
   "number_sections": true,
   "sideBar": true,
   "skip_h1_title": false,
   "title_cell": "Table of Contents",
   "title_sidebar": "Contents",
   "toc_cell": false,
   "toc_position": {},
   "toc_section_display": true,
   "toc_window_display": false
  },
  "varInspector": {
   "cols": {
    "lenName": 16,
    "lenType": 16,
    "lenVar": 40
   },
   "kernels_config": {
    "python": {
     "delete_cmd_postfix": "",
     "delete_cmd_prefix": "del ",
     "library": "var_list.py",
     "varRefreshCmd": "print(var_dic_list())"
    },
    "r": {
     "delete_cmd_postfix": ") ",
     "delete_cmd_prefix": "rm(",
     "library": "var_list.r",
     "varRefreshCmd": "cat(var_dic_list()) "
    }
   },
   "types_to_exclude": [
    "module",
    "function",
    "builtin_function_or_method",
    "instance",
    "_Feature"
   ],
   "window_display": false
  }
 },
 "nbformat": 4,
 "nbformat_minor": 5
}
