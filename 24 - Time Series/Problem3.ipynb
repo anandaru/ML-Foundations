{
 "cells": [
  {
   "cell_type": "markdown",
   "id": "46e1b28b",
   "metadata": {},
   "source": [
    "## Problem3"
   ]
  },
  {
   "cell_type": "markdown",
   "id": "5c52cbf0",
   "metadata": {},
   "source": [
    "A plastics manufacturing plant has recorded their monthly sales data from 1949 to 1953. Perform forecasting on the data and bring out insights from it and forecast the sale for the next year. "
   ]
  },
  {
   "cell_type": "code",
   "execution_count": 1,
   "id": "9cda3d58",
   "metadata": {},
   "outputs": [
    {
     "data": {
      "text/html": [
       "<div>\n",
       "<style scoped>\n",
       "    .dataframe tbody tr th:only-of-type {\n",
       "        vertical-align: middle;\n",
       "    }\n",
       "\n",
       "    .dataframe tbody tr th {\n",
       "        vertical-align: top;\n",
       "    }\n",
       "\n",
       "    .dataframe thead th {\n",
       "        text-align: right;\n",
       "    }\n",
       "</style>\n",
       "<table border=\"1\" class=\"dataframe\">\n",
       "  <thead>\n",
       "    <tr style=\"text-align: right;\">\n",
       "      <th></th>\n",
       "      <th>Month</th>\n",
       "      <th>Sales</th>\n",
       "    </tr>\n",
       "  </thead>\n",
       "  <tbody>\n",
       "    <tr>\n",
       "      <th>0</th>\n",
       "      <td>Jan-49</td>\n",
       "      <td>742</td>\n",
       "    </tr>\n",
       "    <tr>\n",
       "      <th>1</th>\n",
       "      <td>Feb-49</td>\n",
       "      <td>697</td>\n",
       "    </tr>\n",
       "    <tr>\n",
       "      <th>2</th>\n",
       "      <td>Mar-49</td>\n",
       "      <td>776</td>\n",
       "    </tr>\n",
       "    <tr>\n",
       "      <th>3</th>\n",
       "      <td>Apr-49</td>\n",
       "      <td>898</td>\n",
       "    </tr>\n",
       "    <tr>\n",
       "      <th>4</th>\n",
       "      <td>May-49</td>\n",
       "      <td>1030</td>\n",
       "    </tr>\n",
       "  </tbody>\n",
       "</table>\n",
       "</div>"
      ],
      "text/plain": [
       "    Month  Sales\n",
       "0  Jan-49    742\n",
       "1  Feb-49    697\n",
       "2  Mar-49    776\n",
       "3  Apr-49    898\n",
       "4  May-49   1030"
      ]
     },
     "execution_count": 1,
     "metadata": {},
     "output_type": "execute_result"
    }
   ],
   "source": [
    "import pandas as pd\n",
    "sales = pd.read_csv(\"PlasticSales.csv\")\n",
    "sales.head()"
   ]
  },
  {
   "cell_type": "code",
   "execution_count": 2,
   "id": "2e79a9cd",
   "metadata": {},
   "outputs": [
    {
     "data": {
      "text/plain": [
       "Month    object\n",
       "Sales     int64\n",
       "dtype: object"
      ]
     },
     "execution_count": 2,
     "metadata": {},
     "output_type": "execute_result"
    }
   ],
   "source": [
    "sales.dtypes"
   ]
  },
  {
   "cell_type": "code",
   "execution_count": 3,
   "id": "e5597d19",
   "metadata": {},
   "outputs": [
    {
     "data": {
      "text/plain": [
       "(60, 2)"
      ]
     },
     "execution_count": 3,
     "metadata": {},
     "output_type": "execute_result"
    }
   ],
   "source": [
    "sales.shape"
   ]
  },
  {
   "cell_type": "code",
   "execution_count": 6,
   "id": "c504cc46",
   "metadata": {},
   "outputs": [
    {
     "data": {
      "text/plain": [
       "'Jan'"
      ]
     },
     "execution_count": 6,
     "metadata": {},
     "output_type": "execute_result"
    }
   ],
   "source": [
    "p = sales['Month'][0]\n",
    "p[0:3]"
   ]
  },
  {
   "cell_type": "code",
   "execution_count": 4,
   "id": "433d45b0",
   "metadata": {
    "scrolled": true
   },
   "outputs": [
    {
     "data": {
      "text/plain": [
       "Index(['Month', 'Sales', 't', 't_square', 'log_Sales'], dtype='object')"
      ]
     },
     "execution_count": 4,
     "metadata": {},
     "output_type": "execute_result"
    }
   ],
   "source": [
    "# Pre processing\n",
    "import numpy as np\n",
    "\n",
    "sales[\"t\"] = np.arange(1,61)\n",
    "\n",
    "sales[\"t_square\"] = sales[\"t\"] * sales[\"t\"]\n",
    "sales[\"log_Sales\"] = np.log(sales[\"Sales\"])\n",
    "sales.columns"
   ]
  },
  {
   "cell_type": "code",
   "execution_count": 7,
   "id": "eaf14143",
   "metadata": {},
   "outputs": [
    {
     "name": "stderr",
     "output_type": "stream",
     "text": [
      "C:\\Users\\AANAND~1.ORA\\AppData\\Local\\Temp/ipykernel_2068/1095229312.py:6: SettingWithCopyWarning: \n",
      "A value is trying to be set on a copy of a slice from a DataFrame\n",
      "\n",
      "See the caveats in the documentation: https://pandas.pydata.org/pandas-docs/stable/user_guide/indexing.html#returning-a-view-versus-a-copy\n",
      "  sales['months'][i]= p[0:3]\n",
      "c:\\users\\aanand.oradev\\appdata\\local\\programs\\python\\python39\\lib\\site-packages\\pandas\\core\\indexing.py:1732: SettingWithCopyWarning: \n",
      "A value is trying to be set on a copy of a slice from a DataFrame\n",
      "\n",
      "See the caveats in the documentation: https://pandas.pydata.org/pandas-docs/stable/user_guide/indexing.html#returning-a-view-versus-a-copy\n",
      "  self._setitem_single_block(indexer, value, name)\n"
     ]
    }
   ],
   "source": [
    "sales['months']= 0\n",
    "\n",
    "   \n",
    "for i in range(60):\n",
    "    p = sales['Month'][i]\n",
    "    sales['months'][i]= p[0:3]\n",
    "    \n",
    "month_dummies = pd.DataFrame(pd.get_dummies(sales['months']))\n",
    "sales1 = pd.concat([sales, month_dummies], axis = 1)"
   ]
  },
  {
   "cell_type": "code",
   "execution_count": 8,
   "id": "9d44bc5e",
   "metadata": {},
   "outputs": [
    {
     "data": {
      "text/plain": [
       "<AxesSubplot:>"
      ]
     },
     "execution_count": 8,
     "metadata": {},
     "output_type": "execute_result"
    },
    {
     "data": {
      "image/png": "[encoded data removed]",
      "text/plain": [
       "<Figure size 432x288 with 1 Axes>"
      ]
     },
     "metadata": {
      "needs_background": "light"
     },
     "output_type": "display_data"
    }
   ],
   "source": [
    "# Visualization - Time plot\n",
    "sales1.Sales.plot()\n",
    "\n"
   ]
  },
  {
   "cell_type": "code",
   "execution_count": 9,
   "id": "f85f78cf",
   "metadata": {},
   "outputs": [
    {
     "data": {
      "text/plain": [
       "(60, 18)"
      ]
     },
     "execution_count": 9,
     "metadata": {},
     "output_type": "execute_result"
    }
   ],
   "source": [
    "sales1.shape\n"
   ]
  },
  {
   "cell_type": "code",
   "execution_count": 10,
   "id": "e97805d9",
   "metadata": {},
   "outputs": [
    {
     "data": {
      "text/html": [
       "<div>\n",
       "<style scoped>\n",
       "    .dataframe tbody tr th:only-of-type {\n",
       "        vertical-align: middle;\n",
       "    }\n",
       "\n",
       "    .dataframe tbody tr th {\n",
       "        vertical-align: top;\n",
       "    }\n",
       "\n",
       "    .dataframe thead th {\n",
       "        text-align: right;\n",
       "    }\n",
       "</style>\n",
       "<table border=\"1\" class=\"dataframe\">\n",
       "  <thead>\n",
       "    <tr style=\"text-align: right;\">\n",
       "      <th></th>\n",
       "      <th>Month</th>\n",
       "      <th>Sales</th>\n",
       "      <th>t</th>\n",
       "      <th>t_square</th>\n",
       "      <th>log_Sales</th>\n",
       "      <th>months</th>\n",
       "      <th>Apr</th>\n",
       "      <th>Aug</th>\n",
       "      <th>Dec</th>\n",
       "      <th>Feb</th>\n",
       "      <th>Jan</th>\n",
       "      <th>Jul</th>\n",
       "      <th>Jun</th>\n",
       "      <th>Mar</th>\n",
       "      <th>May</th>\n",
       "      <th>Nov</th>\n",
       "      <th>Oct</th>\n",
       "      <th>Sep</th>\n",
       "    </tr>\n",
       "  </thead>\n",
       "  <tbody>\n",
       "    <tr>\n",
       "      <th>0</th>\n",
       "      <td>Jan-49</td>\n",
       "      <td>742</td>\n",
       "      <td>1</td>\n",
       "      <td>1</td>\n",
       "      <td>6.609349</td>\n",
       "      <td>Jan</td>\n",
       "      <td>0</td>\n",
       "      <td>0</td>\n",
       "      <td>0</td>\n",
       "      <td>0</td>\n",
       "      <td>1</td>\n",
       "      <td>0</td>\n",
       "      <td>0</td>\n",
       "      <td>0</td>\n",
       "      <td>0</td>\n",
       "      <td>0</td>\n",
       "      <td>0</td>\n",
       "      <td>0</td>\n",
       "    </tr>\n",
       "    <tr>\n",
       "      <th>1</th>\n",
       "      <td>Feb-49</td>\n",
       "      <td>697</td>\n",
       "      <td>2</td>\n",
       "      <td>4</td>\n",
       "      <td>6.546785</td>\n",
       "      <td>Feb</td>\n",
       "      <td>0</td>\n",
       "      <td>0</td>\n",
       "      <td>0</td>\n",
       "      <td>1</td>\n",
       "      <td>0</td>\n",
       "      <td>0</td>\n",
       "      <td>0</td>\n",
       "      <td>0</td>\n",
       "      <td>0</td>\n",
       "      <td>0</td>\n",
       "      <td>0</td>\n",
       "      <td>0</td>\n",
       "    </tr>\n",
       "    <tr>\n",
       "      <th>2</th>\n",
       "      <td>Mar-49</td>\n",
       "      <td>776</td>\n",
       "      <td>3</td>\n",
       "      <td>9</td>\n",
       "      <td>6.654153</td>\n",
       "      <td>Mar</td>\n",
       "      <td>0</td>\n",
       "      <td>0</td>\n",
       "      <td>0</td>\n",
       "      <td>0</td>\n",
       "      <td>0</td>\n",
       "      <td>0</td>\n",
       "      <td>0</td>\n",
       "      <td>1</td>\n",
       "      <td>0</td>\n",
       "      <td>0</td>\n",
       "      <td>0</td>\n",
       "      <td>0</td>\n",
       "    </tr>\n",
       "    <tr>\n",
       "      <th>3</th>\n",
       "      <td>Apr-49</td>\n",
       "      <td>898</td>\n",
       "      <td>4</td>\n",
       "      <td>16</td>\n",
       "      <td>6.800170</td>\n",
       "      <td>Apr</td>\n",
       "      <td>1</td>\n",
       "      <td>0</td>\n",
       "      <td>0</td>\n",
       "      <td>0</td>\n",
       "      <td>0</td>\n",
       "      <td>0</td>\n",
       "      <td>0</td>\n",
       "      <td>0</td>\n",
       "      <td>0</td>\n",
       "      <td>0</td>\n",
       "      <td>0</td>\n",
       "      <td>0</td>\n",
       "    </tr>\n",
       "    <tr>\n",
       "      <th>4</th>\n",
       "      <td>May-49</td>\n",
       "      <td>1030</td>\n",
       "      <td>5</td>\n",
       "      <td>25</td>\n",
       "      <td>6.937314</td>\n",
       "      <td>May</td>\n",
       "      <td>0</td>\n",
       "      <td>0</td>\n",
       "      <td>0</td>\n",
       "      <td>0</td>\n",
       "      <td>0</td>\n",
       "      <td>0</td>\n",
       "      <td>0</td>\n",
       "      <td>0</td>\n",
       "      <td>1</td>\n",
       "      <td>0</td>\n",
       "      <td>0</td>\n",
       "      <td>0</td>\n",
       "    </tr>\n",
       "    <tr>\n",
       "      <th>5</th>\n",
       "      <td>Jun-49</td>\n",
       "      <td>1107</td>\n",
       "      <td>6</td>\n",
       "      <td>36</td>\n",
       "      <td>7.009409</td>\n",
       "      <td>Jun</td>\n",
       "      <td>0</td>\n",
       "      <td>0</td>\n",
       "      <td>0</td>\n",
       "      <td>0</td>\n",
       "      <td>0</td>\n",
       "      <td>0</td>\n",
       "      <td>1</td>\n",
       "      <td>0</td>\n",
       "      <td>0</td>\n",
       "      <td>0</td>\n",
       "      <td>0</td>\n",
       "      <td>0</td>\n",
       "    </tr>\n",
       "    <tr>\n",
       "      <th>6</th>\n",
       "      <td>Jul-49</td>\n",
       "      <td>1165</td>\n",
       "      <td>7</td>\n",
       "      <td>49</td>\n",
       "      <td>7.060476</td>\n",
       "      <td>Jul</td>\n",
       "      <td>0</td>\n",
       "      <td>0</td>\n",
       "      <td>0</td>\n",
       "      <td>0</td>\n",
       "      <td>0</td>\n",
       "      <td>1</td>\n",
       "      <td>0</td>\n",
       "      <td>0</td>\n",
       "      <td>0</td>\n",
       "      <td>0</td>\n",
       "      <td>0</td>\n",
       "      <td>0</td>\n",
       "    </tr>\n",
       "    <tr>\n",
       "      <th>7</th>\n",
       "      <td>Aug-49</td>\n",
       "      <td>1216</td>\n",
       "      <td>8</td>\n",
       "      <td>64</td>\n",
       "      <td>7.103322</td>\n",
       "      <td>Aug</td>\n",
       "      <td>0</td>\n",
       "      <td>1</td>\n",
       "      <td>0</td>\n",
       "      <td>0</td>\n",
       "      <td>0</td>\n",
       "      <td>0</td>\n",
       "      <td>0</td>\n",
       "      <td>0</td>\n",
       "      <td>0</td>\n",
       "      <td>0</td>\n",
       "      <td>0</td>\n",
       "      <td>0</td>\n",
       "    </tr>\n",
       "    <tr>\n",
       "      <th>8</th>\n",
       "      <td>Sep-49</td>\n",
       "      <td>1208</td>\n",
       "      <td>9</td>\n",
       "      <td>81</td>\n",
       "      <td>7.096721</td>\n",
       "      <td>Sep</td>\n",
       "      <td>0</td>\n",
       "      <td>0</td>\n",
       "      <td>0</td>\n",
       "      <td>0</td>\n",
       "      <td>0</td>\n",
       "      <td>0</td>\n",
       "      <td>0</td>\n",
       "      <td>0</td>\n",
       "      <td>0</td>\n",
       "      <td>0</td>\n",
       "      <td>0</td>\n",
       "      <td>1</td>\n",
       "    </tr>\n",
       "    <tr>\n",
       "      <th>9</th>\n",
       "      <td>Oct-49</td>\n",
       "      <td>1131</td>\n",
       "      <td>10</td>\n",
       "      <td>100</td>\n",
       "      <td>7.030857</td>\n",
       "      <td>Oct</td>\n",
       "      <td>0</td>\n",
       "      <td>0</td>\n",
       "      <td>0</td>\n",
       "      <td>0</td>\n",
       "      <td>0</td>\n",
       "      <td>0</td>\n",
       "      <td>0</td>\n",
       "      <td>0</td>\n",
       "      <td>0</td>\n",
       "      <td>0</td>\n",
       "      <td>1</td>\n",
       "      <td>0</td>\n",
       "    </tr>\n",
       "    <tr>\n",
       "      <th>10</th>\n",
       "      <td>Nov-49</td>\n",
       "      <td>971</td>\n",
       "      <td>11</td>\n",
       "      <td>121</td>\n",
       "      <td>6.878326</td>\n",
       "      <td>Nov</td>\n",
       "      <td>0</td>\n",
       "      <td>0</td>\n",
       "      <td>0</td>\n",
       "      <td>0</td>\n",
       "      <td>0</td>\n",
       "      <td>0</td>\n",
       "      <td>0</td>\n",
       "      <td>0</td>\n",
       "      <td>0</td>\n",
       "      <td>1</td>\n",
       "      <td>0</td>\n",
       "      <td>0</td>\n",
       "    </tr>\n",
       "    <tr>\n",
       "      <th>11</th>\n",
       "      <td>Dec-49</td>\n",
       "      <td>783</td>\n",
       "      <td>12</td>\n",
       "      <td>144</td>\n",
       "      <td>6.663133</td>\n",
       "      <td>Dec</td>\n",
       "      <td>0</td>\n",
       "      <td>0</td>\n",
       "      <td>1</td>\n",
       "      <td>0</td>\n",
       "      <td>0</td>\n",
       "      <td>0</td>\n",
       "      <td>0</td>\n",
       "      <td>0</td>\n",
       "      <td>0</td>\n",
       "      <td>0</td>\n",
       "      <td>0</td>\n",
       "      <td>0</td>\n",
       "    </tr>\n",
       "    <tr>\n",
       "      <th>12</th>\n",
       "      <td>Jan-50</td>\n",
       "      <td>741</td>\n",
       "      <td>13</td>\n",
       "      <td>169</td>\n",
       "      <td>6.608001</td>\n",
       "      <td>Jan</td>\n",
       "      <td>0</td>\n",
       "      <td>0</td>\n",
       "      <td>0</td>\n",
       "      <td>0</td>\n",
       "      <td>1</td>\n",
       "      <td>0</td>\n",
       "      <td>0</td>\n",
       "      <td>0</td>\n",
       "      <td>0</td>\n",
       "      <td>0</td>\n",
       "      <td>0</td>\n",
       "      <td>0</td>\n",
       "    </tr>\n",
       "    <tr>\n",
       "      <th>13</th>\n",
       "      <td>Feb-50</td>\n",
       "      <td>700</td>\n",
       "      <td>14</td>\n",
       "      <td>196</td>\n",
       "      <td>6.551080</td>\n",
       "      <td>Feb</td>\n",
       "      <td>0</td>\n",
       "      <td>0</td>\n",
       "      <td>0</td>\n",
       "      <td>1</td>\n",
       "      <td>0</td>\n",
       "      <td>0</td>\n",
       "      <td>0</td>\n",
       "      <td>0</td>\n",
       "      <td>0</td>\n",
       "      <td>0</td>\n",
       "      <td>0</td>\n",
       "      <td>0</td>\n",
       "    </tr>\n",
       "    <tr>\n",
       "      <th>14</th>\n",
       "      <td>Mar-50</td>\n",
       "      <td>774</td>\n",
       "      <td>15</td>\n",
       "      <td>225</td>\n",
       "      <td>6.651572</td>\n",
       "      <td>Mar</td>\n",
       "      <td>0</td>\n",
       "      <td>0</td>\n",
       "      <td>0</td>\n",
       "      <td>0</td>\n",
       "      <td>0</td>\n",
       "      <td>0</td>\n",
       "      <td>0</td>\n",
       "      <td>1</td>\n",
       "      <td>0</td>\n",
       "      <td>0</td>\n",
       "      <td>0</td>\n",
       "      <td>0</td>\n",
       "    </tr>\n",
       "    <tr>\n",
       "      <th>15</th>\n",
       "      <td>Apr-50</td>\n",
       "      <td>932</td>\n",
       "      <td>16</td>\n",
       "      <td>256</td>\n",
       "      <td>6.837333</td>\n",
       "      <td>Apr</td>\n",
       "      <td>1</td>\n",
       "      <td>0</td>\n",
       "      <td>0</td>\n",
       "      <td>0</td>\n",
       "      <td>0</td>\n",
       "      <td>0</td>\n",
       "      <td>0</td>\n",
       "      <td>0</td>\n",
       "      <td>0</td>\n",
       "      <td>0</td>\n",
       "      <td>0</td>\n",
       "      <td>0</td>\n",
       "    </tr>\n",
       "    <tr>\n",
       "      <th>16</th>\n",
       "      <td>May-50</td>\n",
       "      <td>1099</td>\n",
       "      <td>17</td>\n",
       "      <td>289</td>\n",
       "      <td>7.002156</td>\n",
       "      <td>May</td>\n",
       "      <td>0</td>\n",
       "      <td>0</td>\n",
       "      <td>0</td>\n",
       "      <td>0</td>\n",
       "      <td>0</td>\n",
       "      <td>0</td>\n",
       "      <td>0</td>\n",
       "      <td>0</td>\n",
       "      <td>1</td>\n",
       "      <td>0</td>\n",
       "      <td>0</td>\n",
       "      <td>0</td>\n",
       "    </tr>\n",
       "    <tr>\n",
       "      <th>17</th>\n",
       "      <td>Jun-50</td>\n",
       "      <td>1223</td>\n",
       "      <td>18</td>\n",
       "      <td>324</td>\n",
       "      <td>7.109062</td>\n",
       "      <td>Jun</td>\n",
       "      <td>0</td>\n",
       "      <td>0</td>\n",
       "      <td>0</td>\n",
       "      <td>0</td>\n",
       "      <td>0</td>\n",
       "      <td>0</td>\n",
       "      <td>1</td>\n",
       "      <td>0</td>\n",
       "      <td>0</td>\n",
       "      <td>0</td>\n",
       "      <td>0</td>\n",
       "      <td>0</td>\n",
       "    </tr>\n",
       "    <tr>\n",
       "      <th>18</th>\n",
       "      <td>Jul-50</td>\n",
       "      <td>1290</td>\n",
       "      <td>19</td>\n",
       "      <td>361</td>\n",
       "      <td>7.162397</td>\n",
       "      <td>Jul</td>\n",
       "      <td>0</td>\n",
       "      <td>0</td>\n",
       "      <td>0</td>\n",
       "      <td>0</td>\n",
       "      <td>0</td>\n",
       "      <td>1</td>\n",
       "      <td>0</td>\n",
       "      <td>0</td>\n",
       "      <td>0</td>\n",
       "      <td>0</td>\n",
       "      <td>0</td>\n",
       "      <td>0</td>\n",
       "    </tr>\n",
       "    <tr>\n",
       "      <th>19</th>\n",
       "      <td>Aug-50</td>\n",
       "      <td>1349</td>\n",
       "      <td>20</td>\n",
       "      <td>400</td>\n",
       "      <td>7.207119</td>\n",
       "      <td>Aug</td>\n",
       "      <td>0</td>\n",
       "      <td>1</td>\n",
       "      <td>0</td>\n",
       "      <td>0</td>\n",
       "      <td>0</td>\n",
       "      <td>0</td>\n",
       "      <td>0</td>\n",
       "      <td>0</td>\n",
       "      <td>0</td>\n",
       "      <td>0</td>\n",
       "      <td>0</td>\n",
       "      <td>0</td>\n",
       "    </tr>\n",
       "  </tbody>\n",
       "</table>\n",
       "</div>"
      ],
      "text/plain": [
       "     Month  Sales   t  t_square  log_Sales months  Apr  Aug  Dec  Feb  Jan  \\\n",
       "0   Jan-49    742   1         1   6.609349    Jan    0    0    0    0    1   \n",
       "1   Feb-49    697   2         4   6.546785    Feb    0    0    0    1    0   \n",
       "2   Mar-49    776   3         9   6.654153    Mar    0    0    0    0    0   \n",
       "3   Apr-49    898   4        16   6.800170    Apr    1    0    0    0    0   \n",
       "4   May-49   1030   5        25   6.937314    May    0    0    0    0    0   \n",
       "5   Jun-49   1107   6        36   7.009409    Jun    0    0    0    0    0   \n",
       "6   Jul-49   1165   7        49   7.060476    Jul    0    0    0    0    0   \n",
       "7   Aug-49   1216   8        64   7.103322    Aug    0    1    0    0    0   \n",
       "8   Sep-49   1208   9        81   7.096721    Sep    0    0    0    0    0   \n",
       "9   Oct-49   1131  10       100   7.030857    Oct    0    0    0    0    0   \n",
       "10  Nov-49    971  11       121   6.878326    Nov    0    0    0    0    0   \n",
       "11  Dec-49    783  12       144   6.663133    Dec    0    0    1    0    0   \n",
       "12  Jan-50    741  13       169   6.608001    Jan    0    0    0    0    1   \n",
       "13  Feb-50    700  14       196   6.551080    Feb    0    0    0    1    0   \n",
       "14  Mar-50    774  15       225   6.651572    Mar    0    0    0    0    0   \n",
       "15  Apr-50    932  16       256   6.837333    Apr    1    0    0    0    0   \n",
       "16  May-50   1099  17       289   7.002156    May    0    0    0    0    0   \n",
       "17  Jun-50   1223  18       324   7.109062    Jun    0    0    0    0    0   \n",
       "18  Jul-50   1290  19       361   7.162397    Jul    0    0    0    0    0   \n",
       "19  Aug-50   1349  20       400   7.207119    Aug    0    1    0    0    0   \n",
       "\n",
       "    Jul  Jun  Mar  May  Nov  Oct  Sep  \n",
       "0     0    0    0    0    0    0    0  \n",
       "1     0    0    0    0    0    0    0  \n",
       "2     0    0    1    0    0    0    0  \n",
       "3     0    0    0    0    0    0    0  \n",
       "4     0    0    0    1    0    0    0  \n",
       "5     0    1    0    0    0    0    0  \n",
       "6     1    0    0    0    0    0    0  \n",
       "7     0    0    0    0    0    0    0  \n",
       "8     0    0    0    0    0    0    1  \n",
       "9     0    0    0    0    0    1    0  \n",
       "10    0    0    0    0    1    0    0  \n",
       "11    0    0    0    0    0    0    0  \n",
       "12    0    0    0    0    0    0    0  \n",
       "13    0    0    0    0    0    0    0  \n",
       "14    0    0    1    0    0    0    0  \n",
       "15    0    0    0    0    0    0    0  \n",
       "16    0    0    0    1    0    0    0  \n",
       "17    0    1    0    0    0    0    0  \n",
       "18    1    0    0    0    0    0    0  \n",
       "19    0    0    0    0    0    0    0  "
      ]
     },
     "execution_count": 10,
     "metadata": {},
     "output_type": "execute_result"
    }
   ],
   "source": [
    "sales1.head(20)"
   ]
  },
  {
   "cell_type": "code",
   "execution_count": 11,
   "id": "c9216937",
   "metadata": {},
   "outputs": [],
   "source": [
    "# Data Partition\n",
    "Train = sales1.head(56)\n",
    "Test = sales1.tail(4)\n",
    "\n"
   ]
  },
  {
   "cell_type": "code",
   "execution_count": 12,
   "id": "507ad57d",
   "metadata": {},
   "outputs": [
    {
     "data": {
      "text/html": [
       "<table class=\"simpletable\">\n",
       "<caption>OLS Regression Results</caption>\n",
       "<tr>\n",
       "  <th>Dep. Variable:</th>          <td>Sales</td>      <th>  R-squared:         </th> <td>   0.365</td>\n",
       "</tr>\n",
       "<tr>\n",
       "  <th>Model:</th>                   <td>OLS</td>       <th>  Adj. R-squared:    </th> <td>   0.353</td>\n",
       "</tr>\n",
       "<tr>\n",
       "  <th>Method:</th>             <td>Least Squares</td>  <th>  F-statistic:       </th> <td>   31.03</td>\n",
       "</tr>\n",
       "<tr>\n",
       "  <th>Date:</th>             <td>Thu, 12 May 2022</td> <th>  Prob (F-statistic):</th> <td>8.25e-07</td>\n",
       "</tr>\n",
       "<tr>\n",
       "  <th>Time:</th>                 <td>12:32:55</td>     <th>  Log-Likelihood:    </th> <td> -379.41</td>\n",
       "</tr>\n",
       "<tr>\n",
       "  <th>No. Observations:</th>      <td>    56</td>      <th>  AIC:               </th> <td>   762.8</td>\n",
       "</tr>\n",
       "<tr>\n",
       "  <th>Df Residuals:</th>          <td>    54</td>      <th>  BIC:               </th> <td>   766.9</td>\n",
       "</tr>\n",
       "<tr>\n",
       "  <th>Df Model:</th>              <td>     1</td>      <th>                     </th>     <td> </td>   \n",
       "</tr>\n",
       "<tr>\n",
       "  <th>Covariance Type:</th>      <td>nonrobust</td>    <th>                     </th>     <td> </td>   \n",
       "</tr>\n",
       "</table>\n",
       "<table class=\"simpletable\">\n",
       "<tr>\n",
       "      <td></td>         <th>coef</th>     <th>std err</th>      <th>t</th>      <th>P>|t|</th>  <th>[0.025</th>    <th>0.975]</th>  \n",
       "</tr>\n",
       "<tr>\n",
       "  <th>Intercept</th> <td>  871.4123</td> <td>   58.463</td> <td>   14.905</td> <td> 0.000</td> <td>  754.201</td> <td>  988.623</td>\n",
       "</tr>\n",
       "<tr>\n",
       "  <th>t</th>         <td>    9.9392</td> <td>    1.784</td> <td>    5.570</td> <td> 0.000</td> <td>    6.362</td> <td>   13.517</td>\n",
       "</tr>\n",
       "</table>\n",
       "<table class=\"simpletable\">\n",
       "<tr>\n",
       "  <th>Omnibus:</th>       <td>34.156</td> <th>  Durbin-Watson:     </th> <td>   0.316</td>\n",
       "</tr>\n",
       "<tr>\n",
       "  <th>Prob(Omnibus):</th> <td> 0.000</td> <th>  Jarque-Bera (JB):  </th> <td>   5.030</td>\n",
       "</tr>\n",
       "<tr>\n",
       "  <th>Skew:</th>          <td>-0.211</td> <th>  Prob(JB):          </th> <td>  0.0809</td>\n",
       "</tr>\n",
       "<tr>\n",
       "  <th>Kurtosis:</th>      <td> 1.593</td> <th>  Cond. No.          </th> <td>    66.5</td>\n",
       "</tr>\n",
       "</table><br/><br/>Notes:<br/>[1] Standard Errors assume that the covariance matrix of the errors is correctly specified."
      ],
      "text/plain": [
       "<class 'statsmodels.iolib.summary.Summary'>\n",
       "\"\"\"\n",
       "                            OLS Regression Results                            \n",
       "==============================================================================\n",
       "Dep. Variable:                  Sales   R-squared:                       0.365\n",
       "Model:                            OLS   Adj. R-squared:                  0.353\n",
       "Method:                 Least Squares   F-statistic:                     31.03\n",
       "Date:                Thu, 12 May 2022   Prob (F-statistic):           8.25e-07\n",
       "Time:                        12:32:55   Log-Likelihood:                -379.41\n",
       "No. Observations:                  56   AIC:                             762.8\n",
       "Df Residuals:                      54   BIC:                             766.9\n",
       "Df Model:                           1                                         \n",
       "Covariance Type:            nonrobust                                         \n",
       "==============================================================================\n",
       "                 coef    std err          t      P>|t|      [0.025      0.975]\n",
       "------------------------------------------------------------------------------\n",
       "Intercept    871.4123     58.463     14.905      0.000     754.201     988.623\n",
       "t              9.9392      1.784      5.570      0.000       6.362      13.517\n",
       "==============================================================================\n",
       "Omnibus:                       34.156   Durbin-Watson:                   0.316\n",
       "Prob(Omnibus):                  0.000   Jarque-Bera (JB):                5.030\n",
       "Skew:                          -0.211   Prob(JB):                       0.0809\n",
       "Kurtosis:                       1.593   Cond. No.                         66.5\n",
       "==============================================================================\n",
       "\n",
       "Notes:\n",
       "[1] Standard Errors assume that the covariance matrix of the errors is correctly specified.\n",
       "\"\"\""
      ]
     },
     "execution_count": 12,
     "metadata": {},
     "output_type": "execute_result"
    }
   ],
   "source": [
    "# to change the index value in pandas data frame \n",
    "# Test.set_index(np.arange(1,13))\n",
    "\n",
    "####################### L I N E A R ##########################\n",
    "import statsmodels.formula.api as smf \n",
    "\n",
    "linear_model = smf.ols('Sales ~ t', data = Train).fit()\n",
    "\n",
    "linear_model.summary()\n"
   ]
  },
  {
   "cell_type": "code",
   "execution_count": 13,
   "id": "f9150e35",
   "metadata": {},
   "outputs": [
    {
     "data": {
      "text/plain": [
       "287.444483800074"
      ]
     },
     "execution_count": 13,
     "metadata": {},
     "output_type": "execute_result"
    }
   ],
   "source": [
    "pred_linear =  pd.Series(linear_model.predict(pd.DataFrame(Test['t'])))\n",
    "rmse_linear = np.sqrt(np.mean((np.array(Test['Sales']) - np.array(pred_linear))**2))\n",
    "rmse_linear"
   ]
  },
  {
   "cell_type": "code",
   "execution_count": 14,
   "id": "a491b433",
   "metadata": {},
   "outputs": [
    {
     "data": {
      "text/plain": [
       "295.6343369874729"
      ]
     },
     "execution_count": 14,
     "metadata": {},
     "output_type": "execute_result"
    }
   ],
   "source": [
    "##################### Exponential ##############################\n",
    "\n",
    "Exp = smf.ols('log_Sales ~ t', data = Train).fit()\n",
    "pred_Exp = pd.Series(Exp.predict(pd.DataFrame(Test['t'])))\n",
    "rmse_Exp = np.sqrt(np.mean((np.array(Test['Sales']) - np.array(np.exp(pred_Exp)))**2))\n",
    "rmse_Exp\n",
    "\n"
   ]
  },
  {
   "cell_type": "code",
   "execution_count": 15,
   "id": "2a037d80",
   "metadata": {},
   "outputs": [
    {
     "data": {
      "text/plain": [
       "309.368252776009"
      ]
     },
     "execution_count": 15,
     "metadata": {},
     "output_type": "execute_result"
    }
   ],
   "source": [
    "#################### Quadratic ###############################\n",
    "\n",
    "Quad = smf.ols('Sales ~ t + t_square', data = Train).fit()\n",
    "pred_Quad = pd.Series(Quad.predict(Test[[\"t\", \"t_square\"]]))\n",
    "rmse_Quad = np.sqrt(np.mean((np.array(Test['Sales']) - np.array(pred_Quad))**2))\n",
    "rmse_Quad\n",
    "\n"
   ]
  },
  {
   "cell_type": "code",
   "execution_count": 16,
   "id": "9d9fafe2",
   "metadata": {},
   "outputs": [
    {
     "data": {
      "text/plain": [
       "69.89366924121299"
      ]
     },
     "execution_count": 16,
     "metadata": {},
     "output_type": "execute_result"
    }
   ],
   "source": [
    "################### Additive seasonality ########################\n",
    "\n",
    "add_sea = smf.ols('Sales ~ Jan+Feb+Mar+Apr+May+Jun+Jul+Aug+Sep+Oct+Nov+ Dec', data=Train).fit()\n",
    "pred_add_sea = pd.Series(add_sea.predict(Test[['Jan','Feb','Mar','Apr','May','Jun','Jul','Aug','Sep','Oct','Nov','Dec']]))\n",
    "rmse_add_sea = np.sqrt(np.mean((np.array(Test['Sales']) - np.array(pred_add_sea))**2))\n",
    "rmse_add_sea\n",
    "\n"
   ]
  },
  {
   "cell_type": "code",
   "execution_count": 17,
   "id": "7dc88d35",
   "metadata": {},
   "outputs": [
    {
     "data": {
      "text/plain": [
       "76.08885833163521"
      ]
     },
     "execution_count": 17,
     "metadata": {},
     "output_type": "execute_result"
    }
   ],
   "source": [
    "################## Multiplicative Seasonality ##################\n",
    "\n",
    "Mul_sea = smf.ols('log_Sales ~ Jan+Feb+Mar+Apr+May+Jun+Jul+Aug+Sep+Oct+Nov',data = Train).fit()\n",
    "pred_Mult_sea = pd.Series(Mul_sea.predict(Test))\n",
    "rmse_Mult_sea = np.sqrt(np.mean((np.array(Test['Sales']) - np.array(np.exp(pred_Mult_sea)))**2))\n",
    "rmse_Mult_sea\n",
    "\n"
   ]
  },
  {
   "cell_type": "code",
   "execution_count": 18,
   "id": "de48e489",
   "metadata": {},
   "outputs": [
    {
     "data": {
      "text/plain": [
       "296.52107554902204"
      ]
     },
     "execution_count": 18,
     "metadata": {},
     "output_type": "execute_result"
    }
   ],
   "source": [
    "################## Additive Seasonality Quadratic Trend ############################\n",
    "\n",
    "add_sea_Quad = smf.ols('Sales ~ t+t_square+Jan+Feb+Mar+Apr+May+Jun+Jul+Aug+Sep+Oct+Nov',data=Train).fit()\n",
    "pred_add_sea_quad = pd.Series(add_sea_Quad.predict(Test[['Jan','Feb','Mar','Apr','May','Jun','Jul','Aug','Sep','Oct','Nov','t','t_square']]))\n",
    "rmse_add_sea_quad = np.sqrt(np.mean((np.array(Test['Sales'])-np.array(pred_add_sea_quad))**2))\n",
    "rmse_add_sea_quad \n",
    "\n"
   ]
  },
  {
   "cell_type": "code",
   "execution_count": 19,
   "id": "7ab4e181",
   "metadata": {},
   "outputs": [
    {
     "data": {
      "text/html": [
       "<div>\n",
       "<style scoped>\n",
       "    .dataframe tbody tr th:only-of-type {\n",
       "        vertical-align: middle;\n",
       "    }\n",
       "\n",
       "    .dataframe tbody tr th {\n",
       "        vertical-align: top;\n",
       "    }\n",
       "\n",
       "    .dataframe thead th {\n",
       "        text-align: right;\n",
       "    }\n",
       "</style>\n",
       "<table border=\"1\" class=\"dataframe\">\n",
       "  <thead>\n",
       "    <tr style=\"text-align: right;\">\n",
       "      <th></th>\n",
       "      <th>MODEL</th>\n",
       "      <th>RMSE_Values</th>\n",
       "    </tr>\n",
       "  </thead>\n",
       "  <tbody>\n",
       "    <tr>\n",
       "      <th>0</th>\n",
       "      <td>rmse_linear</td>\n",
       "      <td>287.444484</td>\n",
       "    </tr>\n",
       "    <tr>\n",
       "      <th>1</th>\n",
       "      <td>rmse_Exp</td>\n",
       "      <td>295.634337</td>\n",
       "    </tr>\n",
       "    <tr>\n",
       "      <th>2</th>\n",
       "      <td>rmse_Quad</td>\n",
       "      <td>309.368253</td>\n",
       "    </tr>\n",
       "    <tr>\n",
       "      <th>3</th>\n",
       "      <td>rmse_add_sea</td>\n",
       "      <td>69.893669</td>\n",
       "    </tr>\n",
       "    <tr>\n",
       "      <th>4</th>\n",
       "      <td>rmse_add_sea_quad</td>\n",
       "      <td>296.521076</td>\n",
       "    </tr>\n",
       "    <tr>\n",
       "      <th>5</th>\n",
       "      <td>rmse_Mult_sea</td>\n",
       "      <td>76.088858</td>\n",
       "    </tr>\n",
       "    <tr>\n",
       "      <th>6</th>\n",
       "      <td>rmse_Mult_add_sea</td>\n",
       "      <td>271.273775</td>\n",
       "    </tr>\n",
       "  </tbody>\n",
       "</table>\n",
       "</div>"
      ],
      "text/plain": [
       "               MODEL  RMSE_Values\n",
       "0        rmse_linear   287.444484\n",
       "1           rmse_Exp   295.634337\n",
       "2          rmse_Quad   309.368253\n",
       "3       rmse_add_sea    69.893669\n",
       "4  rmse_add_sea_quad   296.521076\n",
       "5      rmse_Mult_sea    76.088858\n",
       "6  rmse_Mult_add_sea   271.273775"
      ]
     },
     "execution_count": 19,
     "metadata": {},
     "output_type": "execute_result"
    }
   ],
   "source": [
    "################## Multiplicative Seasonality Linear Trend  ###########\n",
    "\n",
    "Mul_Add_sea = smf.ols('log_Sales ~ t+Jan+Feb+Mar+Apr+May+Jun+Jul+Aug+Sep+Oct+Nov',data = Train).fit()\n",
    "pred_Mult_add_sea = pd.Series(Mul_Add_sea.predict(Test))\n",
    "rmse_Mult_add_sea = np.sqrt(np.mean((np.array(Test['Sales'])-np.array(np.exp(pred_Mult_add_sea)))**2))\n",
    "rmse_Mult_add_sea \n",
    "\n",
    "################## Testing #######################################\n",
    "\n",
    "data = {\"MODEL\":pd.Series([\"rmse_linear\",\"rmse_Exp\",\"rmse_Quad\",\"rmse_add_sea\",\"rmse_add_sea_quad\",\"rmse_Mult_sea\",\"rmse_Mult_add_sea\"]),\"RMSE_Values\":pd.Series([rmse_linear,rmse_Exp,rmse_Quad,rmse_add_sea,rmse_add_sea_quad,rmse_Mult_sea,rmse_Mult_add_sea])}\n",
    "table_rmse = pd.DataFrame(data)\n",
    "table_rmse\n",
    "\n"
   ]
  },
  {
   "cell_type": "markdown",
   "id": "3b347d4b",
   "metadata": {},
   "source": [
    "'rmse_add_sea' has the least value among the models prepared so far Predicting new values \n"
   ]
  },
  {
   "cell_type": "code",
   "execution_count": null,
   "id": "ef25a378",
   "metadata": {},
   "outputs": [],
   "source": []
  }
 ],
 "metadata": {
  "kernelspec": {
   "display_name": "Python 3 (ipykernel)",
   "language": "python",
   "name": "python3"
  },
  "language_info": {
   "codemirror_mode": {
    "name": "ipython",
    "version": 3
   },
   "file_extension": ".py",
   "mimetype": "text/x-python",
   "name": "python",
   "nbconvert_exporter": "python",
   "pygments_lexer": "ipython3",
   "version": "3.9.5"
  },
  "toc": {
   "base_numbering": 1,
   "nav_menu": {},
   "number_sections": true,
   "sideBar": true,
   "skip_h1_title": false,
   "title_cell": "Table of Contents",
   "title_sidebar": "Contents",
   "toc_cell": false,
   "toc_position": {},
   "toc_section_display": true,
   "toc_window_display": true
  },
  "varInspector": {
   "cols": {
    "lenName": 16,
    "lenType": 16,
    "lenVar": 40
   },
   "kernels_config": {
    "python": {
     "delete_cmd_postfix": "",
     "delete_cmd_prefix": "del ",
     "library": "var_list.py",
     "varRefreshCmd": "print(var_dic_list())"
    },
    "r": {
     "delete_cmd_postfix": ") ",
     "delete_cmd_prefix": "rm(",
     "library": "var_list.r",
     "varRefreshCmd": "cat(var_dic_list()) "
    }
   },
   "types_to_exclude": [
    "module",
    "function",
    "builtin_function_or_method",
    "instance",
    "_Feature"
   ],
   "window_display": false
  }
 },
 "nbformat": 4,
 "nbformat_minor": 5
}
