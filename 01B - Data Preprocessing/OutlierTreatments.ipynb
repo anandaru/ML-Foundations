{
 "cells": [
  {
   "cell_type": "markdown",
   "id": "cd3ef64d",
   "metadata": {},
   "source": [
    "## Outlier Treatments"
   ]
  },
  {
   "cell_type": "markdown",
   "id": "c8e915af",
   "metadata": {},
   "source": [
    "Most of the datasets have extreme values or exceptions in their observations.   \n",
    "These values affect the predictions (Accuracy) of the model in one way or the other,   \n",
    "removing these values is not a very good option. For these types of scenarios, we have various   \n",
    "techniques to treat such values.   "
   ]
  },
  {
   "cell_type": "code",
   "execution_count": 48,
   "id": "2e589ad9",
   "metadata": {},
   "outputs": [],
   "source": [
    "import matplotlib.pyplot as plt\n",
    "import pandas as pd\n",
    "%matplotlib inline\n",
    "import seaborn as sns\n",
    "import numpy as np"
   ]
  },
  {
   "cell_type": "code",
   "execution_count": 49,
   "id": "329ea36d",
   "metadata": {},
   "outputs": [],
   "source": [
    "sns.set()"
   ]
  },
  {
   "cell_type": "code",
   "execution_count": 50,
   "id": "18805289",
   "metadata": {},
   "outputs": [],
   "source": [
    "boston = pd.read_csv('boston_data.csv')"
   ]
  },
  {
   "cell_type": "markdown",
   "id": "fc06c397",
   "metadata": {},
   "source": [
    "### Exploratory Data Analysis"
   ]
  },
  {
   "cell_type": "code",
   "execution_count": 51,
   "id": "c3a7643b",
   "metadata": {},
   "outputs": [
    {
     "data": {
      "text/html": [
       "<div>\n",
       "<style scoped>\n",
       "    .dataframe tbody tr th:only-of-type {\n",
       "        vertical-align: middle;\n",
       "    }\n",
       "\n",
       "    .dataframe tbody tr th {\n",
       "        vertical-align: top;\n",
       "    }\n",
       "\n",
       "    .dataframe thead th {\n",
       "        text-align: right;\n",
       "    }\n",
       "</style>\n",
       "<table border=\"1\" class=\"dataframe\">\n",
       "  <thead>\n",
       "    <tr style=\"text-align: right;\">\n",
       "      <th></th>\n",
       "      <th>crim</th>\n",
       "      <th>zn</th>\n",
       "      <th>indus</th>\n",
       "      <th>chas</th>\n",
       "      <th>nox</th>\n",
       "      <th>rm</th>\n",
       "      <th>age</th>\n",
       "      <th>dis</th>\n",
       "      <th>rad</th>\n",
       "      <th>tax</th>\n",
       "      <th>ptratio</th>\n",
       "      <th>black</th>\n",
       "      <th>lstat</th>\n",
       "      <th>medv</th>\n",
       "    </tr>\n",
       "  </thead>\n",
       "  <tbody>\n",
       "    <tr>\n",
       "      <th>323</th>\n",
       "      <td>0.98843</td>\n",
       "      <td>0.0</td>\n",
       "      <td>8.14</td>\n",
       "      <td>0.0</td>\n",
       "      <td>0.538</td>\n",
       "      <td>5.813</td>\n",
       "      <td>100.0</td>\n",
       "      <td>4.0952</td>\n",
       "      <td>4.0</td>\n",
       "      <td>307.0</td>\n",
       "      <td>21.0</td>\n",
       "      <td>394.54</td>\n",
       "      <td>19.88</td>\n",
       "      <td>14.5</td>\n",
       "    </tr>\n",
       "    <tr>\n",
       "      <th>251</th>\n",
       "      <td>0.04301</td>\n",
       "      <td>80.0</td>\n",
       "      <td>1.91</td>\n",
       "      <td>0.0</td>\n",
       "      <td>0.413</td>\n",
       "      <td>5.663</td>\n",
       "      <td>21.9</td>\n",
       "      <td>10.5857</td>\n",
       "      <td>4.0</td>\n",
       "      <td>334.0</td>\n",
       "      <td>22.0</td>\n",
       "      <td>382.80</td>\n",
       "      <td>8.05</td>\n",
       "      <td>18.2</td>\n",
       "    </tr>\n",
       "    <tr>\n",
       "      <th>23</th>\n",
       "      <td>0.06664</td>\n",
       "      <td>0.0</td>\n",
       "      <td>4.05</td>\n",
       "      <td>0.0</td>\n",
       "      <td>0.510</td>\n",
       "      <td>6.546</td>\n",
       "      <td>33.1</td>\n",
       "      <td>3.1323</td>\n",
       "      <td>5.0</td>\n",
       "      <td>296.0</td>\n",
       "      <td>16.6</td>\n",
       "      <td>390.96</td>\n",
       "      <td>5.33</td>\n",
       "      <td>29.4</td>\n",
       "    </tr>\n",
       "    <tr>\n",
       "      <th>310</th>\n",
       "      <td>8.49213</td>\n",
       "      <td>0.0</td>\n",
       "      <td>18.10</td>\n",
       "      <td>0.0</td>\n",
       "      <td>0.584</td>\n",
       "      <td>6.348</td>\n",
       "      <td>86.1</td>\n",
       "      <td>2.0527</td>\n",
       "      <td>24.0</td>\n",
       "      <td>666.0</td>\n",
       "      <td>20.2</td>\n",
       "      <td>83.45</td>\n",
       "      <td>17.64</td>\n",
       "      <td>14.5</td>\n",
       "    </tr>\n",
       "    <tr>\n",
       "      <th>208</th>\n",
       "      <td>5.69175</td>\n",
       "      <td>0.0</td>\n",
       "      <td>18.10</td>\n",
       "      <td>0.0</td>\n",
       "      <td>0.583</td>\n",
       "      <td>6.114</td>\n",
       "      <td>79.8</td>\n",
       "      <td>3.5459</td>\n",
       "      <td>24.0</td>\n",
       "      <td>666.0</td>\n",
       "      <td>20.2</td>\n",
       "      <td>392.68</td>\n",
       "      <td>14.98</td>\n",
       "      <td>19.1</td>\n",
       "    </tr>\n",
       "  </tbody>\n",
       "</table>\n",
       "</div>"
      ],
      "text/plain": [
       "        crim    zn  indus  chas    nox     rm    age      dis   rad    tax  \\\n",
       "323  0.98843   0.0   8.14   0.0  0.538  5.813  100.0   4.0952   4.0  307.0   \n",
       "251  0.04301  80.0   1.91   0.0  0.413  5.663   21.9  10.5857   4.0  334.0   \n",
       "23   0.06664   0.0   4.05   0.0  0.510  6.546   33.1   3.1323   5.0  296.0   \n",
       "310  8.49213   0.0  18.10   0.0  0.584  6.348   86.1   2.0527  24.0  666.0   \n",
       "208  5.69175   0.0  18.10   0.0  0.583  6.114   79.8   3.5459  24.0  666.0   \n",
       "\n",
       "     ptratio   black  lstat  medv  \n",
       "323     21.0  394.54  19.88  14.5  \n",
       "251     22.0  382.80   8.05  18.2  \n",
       "23      16.6  390.96   5.33  29.4  \n",
       "310     20.2   83.45  17.64  14.5  \n",
       "208     20.2  392.68  14.98  19.1  "
      ]
     },
     "execution_count": 51,
     "metadata": {},
     "output_type": "execute_result"
    }
   ],
   "source": [
    "boston.sample(5)"
   ]
  },
  {
   "cell_type": "code",
   "execution_count": 52,
   "id": "f1846347",
   "metadata": {},
   "outputs": [
    {
     "data": {
      "text/plain": [
       "(404, 14)"
      ]
     },
     "execution_count": 52,
     "metadata": {},
     "output_type": "execute_result"
    }
   ],
   "source": [
    "boston.shape"
   ]
  },
  {
   "cell_type": "code",
   "execution_count": 53,
   "id": "140e7ab6",
   "metadata": {},
   "outputs": [
    {
     "data": {
      "text/plain": [
       "crim       float64\n",
       "zn         float64\n",
       "indus      float64\n",
       "chas       float64\n",
       "nox        float64\n",
       "rm         float64\n",
       "age        float64\n",
       "dis        float64\n",
       "rad        float64\n",
       "tax        float64\n",
       "ptratio    float64\n",
       "black      float64\n",
       "lstat      float64\n",
       "medv       float64\n",
       "dtype: object"
      ]
     },
     "execution_count": 53,
     "metadata": {},
     "output_type": "execute_result"
    }
   ],
   "source": [
    "boston.dtypes"
   ]
  },
  {
   "cell_type": "code",
   "execution_count": 54,
   "id": "d57572d5",
   "metadata": {},
   "outputs": [
    {
     "data": {
      "text/plain": [
       "0"
      ]
     },
     "execution_count": 54,
     "metadata": {},
     "output_type": "execute_result"
    }
   ],
   "source": [
    "boston.isnull().sum().sum()"
   ]
  },
  {
   "cell_type": "code",
   "execution_count": 55,
   "id": "35104409",
   "metadata": {},
   "outputs": [
    {
     "data": {
      "text/plain": [
       "0"
      ]
     },
     "execution_count": 55,
     "metadata": {},
     "output_type": "execute_result"
    }
   ],
   "source": [
    "boston.duplicated().sum()"
   ]
  },
  {
   "cell_type": "code",
   "execution_count": 56,
   "id": "9da1bb97",
   "metadata": {},
   "outputs": [
    {
     "data": {
      "text/html": [
       "<div>\n",
       "<style scoped>\n",
       "    .dataframe tbody tr th:only-of-type {\n",
       "        vertical-align: middle;\n",
       "    }\n",
       "\n",
       "    .dataframe tbody tr th {\n",
       "        vertical-align: top;\n",
       "    }\n",
       "\n",
       "    .dataframe thead th {\n",
       "        text-align: right;\n",
       "    }\n",
       "</style>\n",
       "<table border=\"1\" class=\"dataframe\">\n",
       "  <thead>\n",
       "    <tr style=\"text-align: right;\">\n",
       "      <th></th>\n",
       "      <th>count</th>\n",
       "      <th>mean</th>\n",
       "      <th>std</th>\n",
       "      <th>min</th>\n",
       "      <th>25%</th>\n",
       "      <th>50%</th>\n",
       "      <th>75%</th>\n",
       "      <th>max</th>\n",
       "    </tr>\n",
       "  </thead>\n",
       "  <tbody>\n",
       "    <tr>\n",
       "      <th>crim</th>\n",
       "      <td>404.0</td>\n",
       "      <td>3.730912</td>\n",
       "      <td>8.943922</td>\n",
       "      <td>0.00632</td>\n",
       "      <td>0.082382</td>\n",
       "      <td>0.253715</td>\n",
       "      <td>4.053158</td>\n",
       "      <td>88.9762</td>\n",
       "    </tr>\n",
       "    <tr>\n",
       "      <th>zn</th>\n",
       "      <td>404.0</td>\n",
       "      <td>10.509901</td>\n",
       "      <td>22.053733</td>\n",
       "      <td>0.00000</td>\n",
       "      <td>0.000000</td>\n",
       "      <td>0.000000</td>\n",
       "      <td>12.500000</td>\n",
       "      <td>95.0000</td>\n",
       "    </tr>\n",
       "    <tr>\n",
       "      <th>indus</th>\n",
       "      <td>404.0</td>\n",
       "      <td>11.189901</td>\n",
       "      <td>6.814909</td>\n",
       "      <td>0.46000</td>\n",
       "      <td>5.190000</td>\n",
       "      <td>9.795000</td>\n",
       "      <td>18.100000</td>\n",
       "      <td>27.7400</td>\n",
       "    </tr>\n",
       "    <tr>\n",
       "      <th>chas</th>\n",
       "      <td>404.0</td>\n",
       "      <td>0.069307</td>\n",
       "      <td>0.254290</td>\n",
       "      <td>0.00000</td>\n",
       "      <td>0.000000</td>\n",
       "      <td>0.000000</td>\n",
       "      <td>0.000000</td>\n",
       "      <td>1.0000</td>\n",
       "    </tr>\n",
       "    <tr>\n",
       "      <th>nox</th>\n",
       "      <td>404.0</td>\n",
       "      <td>0.556710</td>\n",
       "      <td>0.117321</td>\n",
       "      <td>0.39200</td>\n",
       "      <td>0.453000</td>\n",
       "      <td>0.538000</td>\n",
       "      <td>0.631000</td>\n",
       "      <td>0.8710</td>\n",
       "    </tr>\n",
       "    <tr>\n",
       "      <th>rm</th>\n",
       "      <td>404.0</td>\n",
       "      <td>6.301450</td>\n",
       "      <td>0.675830</td>\n",
       "      <td>3.56100</td>\n",
       "      <td>5.902750</td>\n",
       "      <td>6.230500</td>\n",
       "      <td>6.629250</td>\n",
       "      <td>8.7800</td>\n",
       "    </tr>\n",
       "    <tr>\n",
       "      <th>age</th>\n",
       "      <td>404.0</td>\n",
       "      <td>68.601733</td>\n",
       "      <td>28.066143</td>\n",
       "      <td>2.90000</td>\n",
       "      <td>45.800000</td>\n",
       "      <td>76.600000</td>\n",
       "      <td>94.150000</td>\n",
       "      <td>100.0000</td>\n",
       "    </tr>\n",
       "    <tr>\n",
       "      <th>dis</th>\n",
       "      <td>404.0</td>\n",
       "      <td>3.799666</td>\n",
       "      <td>2.109916</td>\n",
       "      <td>1.16910</td>\n",
       "      <td>2.087875</td>\n",
       "      <td>3.207450</td>\n",
       "      <td>5.222125</td>\n",
       "      <td>12.1265</td>\n",
       "    </tr>\n",
       "    <tr>\n",
       "      <th>rad</th>\n",
       "      <td>404.0</td>\n",
       "      <td>9.836634</td>\n",
       "      <td>8.834741</td>\n",
       "      <td>1.00000</td>\n",
       "      <td>4.000000</td>\n",
       "      <td>5.000000</td>\n",
       "      <td>24.000000</td>\n",
       "      <td>24.0000</td>\n",
       "    </tr>\n",
       "    <tr>\n",
       "      <th>tax</th>\n",
       "      <td>404.0</td>\n",
       "      <td>411.688119</td>\n",
       "      <td>171.073553</td>\n",
       "      <td>187.00000</td>\n",
       "      <td>281.000000</td>\n",
       "      <td>330.000000</td>\n",
       "      <td>666.000000</td>\n",
       "      <td>711.0000</td>\n",
       "    </tr>\n",
       "    <tr>\n",
       "      <th>ptratio</th>\n",
       "      <td>404.0</td>\n",
       "      <td>18.444554</td>\n",
       "      <td>2.150295</td>\n",
       "      <td>12.60000</td>\n",
       "      <td>17.375000</td>\n",
       "      <td>19.000000</td>\n",
       "      <td>20.200000</td>\n",
       "      <td>22.0000</td>\n",
       "    </tr>\n",
       "    <tr>\n",
       "      <th>black</th>\n",
       "      <td>404.0</td>\n",
       "      <td>355.068243</td>\n",
       "      <td>94.489572</td>\n",
       "      <td>0.32000</td>\n",
       "      <td>374.710000</td>\n",
       "      <td>391.065000</td>\n",
       "      <td>396.007500</td>\n",
       "      <td>396.9000</td>\n",
       "    </tr>\n",
       "    <tr>\n",
       "      <th>lstat</th>\n",
       "      <td>404.0</td>\n",
       "      <td>12.598936</td>\n",
       "      <td>6.925173</td>\n",
       "      <td>1.73000</td>\n",
       "      <td>7.135000</td>\n",
       "      <td>11.265000</td>\n",
       "      <td>16.910000</td>\n",
       "      <td>34.3700</td>\n",
       "    </tr>\n",
       "    <tr>\n",
       "      <th>medv</th>\n",
       "      <td>404.0</td>\n",
       "      <td>22.312376</td>\n",
       "      <td>8.837019</td>\n",
       "      <td>5.00000</td>\n",
       "      <td>17.100000</td>\n",
       "      <td>21.400000</td>\n",
       "      <td>25.000000</td>\n",
       "      <td>50.0000</td>\n",
       "    </tr>\n",
       "  </tbody>\n",
       "</table>\n",
       "</div>"
      ],
      "text/plain": [
       "         count        mean         std        min         25%         50%  \\\n",
       "crim     404.0    3.730912    8.943922    0.00632    0.082382    0.253715   \n",
       "zn       404.0   10.509901   22.053733    0.00000    0.000000    0.000000   \n",
       "indus    404.0   11.189901    6.814909    0.46000    5.190000    9.795000   \n",
       "chas     404.0    0.069307    0.254290    0.00000    0.000000    0.000000   \n",
       "nox      404.0    0.556710    0.117321    0.39200    0.453000    0.538000   \n",
       "rm       404.0    6.301450    0.675830    3.56100    5.902750    6.230500   \n",
       "age      404.0   68.601733   28.066143    2.90000   45.800000   76.600000   \n",
       "dis      404.0    3.799666    2.109916    1.16910    2.087875    3.207450   \n",
       "rad      404.0    9.836634    8.834741    1.00000    4.000000    5.000000   \n",
       "tax      404.0  411.688119  171.073553  187.00000  281.000000  330.000000   \n",
       "ptratio  404.0   18.444554    2.150295   12.60000   17.375000   19.000000   \n",
       "black    404.0  355.068243   94.489572    0.32000  374.710000  391.065000   \n",
       "lstat    404.0   12.598936    6.925173    1.73000    7.135000   11.265000   \n",
       "medv     404.0   22.312376    8.837019    5.00000   17.100000   21.400000   \n",
       "\n",
       "                75%       max  \n",
       "crim       4.053158   88.9762  \n",
       "zn        12.500000   95.0000  \n",
       "indus     18.100000   27.7400  \n",
       "chas       0.000000    1.0000  \n",
       "nox        0.631000    0.8710  \n",
       "rm         6.629250    8.7800  \n",
       "age       94.150000  100.0000  \n",
       "dis        5.222125   12.1265  \n",
       "rad       24.000000   24.0000  \n",
       "tax      666.000000  711.0000  \n",
       "ptratio   20.200000   22.0000  \n",
       "black    396.007500  396.9000  \n",
       "lstat     16.910000   34.3700  \n",
       "medv      25.000000   50.0000  "
      ]
     },
     "execution_count": 56,
     "metadata": {},
     "output_type": "execute_result"
    }
   ],
   "source": [
    "boston.describe().T"
   ]
  },
  {
   "cell_type": "markdown",
   "id": "496576c6",
   "metadata": {},
   "source": [
    "### Scaling"
   ]
  },
  {
   "cell_type": "code",
   "execution_count": 57,
   "id": "42dcdf5d",
   "metadata": {},
   "outputs": [],
   "source": [
    "from sklearn.preprocessing import MinMaxScaler\n",
    "#Normalize data to view boxplot\n",
    "scalerMM = MinMaxScaler()\n",
    "boston_norm= pd.DataFrame(scalerMM.fit_transform(boston))\n",
    "boston_norm.columns=boston.columns"
   ]
  },
  {
   "cell_type": "markdown",
   "id": "ab6563b9",
   "metadata": {},
   "source": [
    "### View Outliers"
   ]
  },
  {
   "cell_type": "code",
   "execution_count": 58,
   "id": "12a04817",
   "metadata": {},
   "outputs": [
    {
     "data": {
      "text/plain": [
       "<AxesSubplot:>"
      ]
     },
     "execution_count": 58,
     "metadata": {},
     "output_type": "execute_result"
    },
    {
     "data": {
      "image/png": "[encoded data removed]",
      "text/plain": [
       "<Figure size 720x720 with 1 Axes>"
      ]
     },
     "metadata": {},
     "output_type": "display_data"
    }
   ],
   "source": [
    "#View outliers for each feature\n",
    "plt.figure(figsize=(10,10))\n",
    "sns.set_style(\"dark\")\n",
    "sns.boxplot(data=boston_norm, orient=\"h\", palette = 'flare')"
   ]
  },
  {
   "cell_type": "code",
   "execution_count": 59,
   "id": "19e1104b",
   "metadata": {},
   "outputs": [],
   "source": [
    "#function to get outliers from all numeric features\n",
    "def IQR_Outliers (X, features):\n",
    "    \n",
    "    Outlier_df = pd.DataFrame()\n",
    "    ulimit=[]\n",
    "    llimit=[]\n",
    "    no_of_outliers =[]\n",
    "    perc = []\n",
    "    feature = []\n",
    "\n",
    "\n",
    "    indices = [x for x in X.index]\n",
    "    print('Number of samples: ', len(indices))\n",
    "    \n",
    "    out_indexlist = []\n",
    "        \n",
    "    for col in features:\n",
    "       \n",
    "        #Using nanpercentile instead of percentile because of nan values\n",
    "        Q1 = np.nanpercentile(X[col], 25.)\n",
    "        Q3 = np.nanpercentile(X[col], 75.)\n",
    "        \n",
    "        cut_off = (Q3 - Q1) * 1.5\n",
    "        upper, lower = Q3 + cut_off, Q1 - cut_off\n",
    "        \n",
    "        feature.append(col)        \n",
    "        ulimit.append(upper)\n",
    "        llimit.append(lower)\n",
    "                \n",
    "        outliers_index = X[col][(X[col] < lower) | (X[col] > upper)].index.tolist()\n",
    "        outliers = X[col][(X[col] < lower) | (X[col] > upper)].values\n",
    "        \n",
    "\n",
    "        no_of_outliers.append(len(outliers))\n",
    "        perc.append(round((len(outliers)*100)/len(indices),2))\n",
    "\n",
    "        out_indexlist.extend(outliers_index)\n",
    "    \n",
    "    Outlier_df['feature'] = feature\n",
    "    Outlier_df['no_of_outliers']= no_of_outliers \n",
    "    Outlier_df['percentage']= perc\n",
    "    Outlier_df['upper_limit']= ulimit\n",
    "    Outlier_df['lower_limit']= llimit\n",
    "                   \n",
    "    #using set to remove duplicates\n",
    "    out_indexlist = list(set(out_indexlist))\n",
    "    out_indexlist.sort()\n",
    "    print('\\nNumber of rows with outliers: ', len(out_indexlist))\n",
    "    return Outlier_df   \n"
   ]
  },
  {
   "cell_type": "code",
   "execution_count": 60,
   "id": "04897e7c",
   "metadata": {
    "scrolled": true
   },
   "outputs": [
    {
     "name": "stdout",
     "output_type": "stream",
     "text": [
      "Number of samples:  404\n",
      "\n",
      "Number of rows with outliers:  176\n"
     ]
    },
    {
     "data": {
      "text/html": [
       "<div>\n",
       "<style scoped>\n",
       "    .dataframe tbody tr th:only-of-type {\n",
       "        vertical-align: middle;\n",
       "    }\n",
       "\n",
       "    .dataframe tbody tr th {\n",
       "        vertical-align: top;\n",
       "    }\n",
       "\n",
       "    .dataframe thead th {\n",
       "        text-align: right;\n",
       "    }\n",
       "</style>\n",
       "<table border=\"1\" class=\"dataframe\">\n",
       "  <thead>\n",
       "    <tr style=\"text-align: right;\">\n",
       "      <th></th>\n",
       "      <th>feature</th>\n",
       "      <th>no_of_outliers</th>\n",
       "      <th>percentage</th>\n",
       "      <th>upper_limit</th>\n",
       "      <th>lower_limit</th>\n",
       "    </tr>\n",
       "  </thead>\n",
       "  <tbody>\n",
       "    <tr>\n",
       "      <th>0</th>\n",
       "      <td>crim</td>\n",
       "      <td>42</td>\n",
       "      <td>10.40</td>\n",
       "      <td>0.112431</td>\n",
       "      <td>-0.066091</td>\n",
       "    </tr>\n",
       "    <tr>\n",
       "      <th>1</th>\n",
       "      <td>zn</td>\n",
       "      <td>49</td>\n",
       "      <td>12.13</td>\n",
       "      <td>0.328947</td>\n",
       "      <td>-0.197368</td>\n",
       "    </tr>\n",
       "    <tr>\n",
       "      <th>2</th>\n",
       "      <td>indus</td>\n",
       "      <td>0</td>\n",
       "      <td>0.00</td>\n",
       "      <td>1.356488</td>\n",
       "      <td>-0.536474</td>\n",
       "    </tr>\n",
       "    <tr>\n",
       "      <th>3</th>\n",
       "      <td>chas</td>\n",
       "      <td>28</td>\n",
       "      <td>6.93</td>\n",
       "      <td>0.000000</td>\n",
       "      <td>0.000000</td>\n",
       "    </tr>\n",
       "    <tr>\n",
       "      <th>4</th>\n",
       "      <td>nox</td>\n",
       "      <td>0</td>\n",
       "      <td>0.00</td>\n",
       "      <td>1.056367</td>\n",
       "      <td>-0.430063</td>\n",
       "    </tr>\n",
       "    <tr>\n",
       "      <th>5</th>\n",
       "      <td>rm</td>\n",
       "      <td>21</td>\n",
       "      <td>5.20</td>\n",
       "      <td>0.796704</td>\n",
       "      <td>0.239893</td>\n",
       "    </tr>\n",
       "    <tr>\n",
       "      <th>6</th>\n",
       "      <td>age</td>\n",
       "      <td>0</td>\n",
       "      <td>0.00</td>\n",
       "      <td>1.686663</td>\n",
       "      <td>-0.305098</td>\n",
       "    </tr>\n",
       "    <tr>\n",
       "      <th>7</th>\n",
       "      <td>dis</td>\n",
       "      <td>5</td>\n",
       "      <td>1.24</td>\n",
       "      <td>0.798949</td>\n",
       "      <td>-0.345210</td>\n",
       "    </tr>\n",
       "    <tr>\n",
       "      <th>8</th>\n",
       "      <td>rad</td>\n",
       "      <td>0</td>\n",
       "      <td>0.00</td>\n",
       "      <td>2.304348</td>\n",
       "      <td>-1.173913</td>\n",
       "    </tr>\n",
       "    <tr>\n",
       "      <th>9</th>\n",
       "      <td>tax</td>\n",
       "      <td>0</td>\n",
       "      <td>0.00</td>\n",
       "      <td>2.016221</td>\n",
       "      <td>-0.922710</td>\n",
       "    </tr>\n",
       "    <tr>\n",
       "      <th>10</th>\n",
       "      <td>ptratio</td>\n",
       "      <td>12</td>\n",
       "      <td>2.97</td>\n",
       "      <td>1.259309</td>\n",
       "      <td>0.057181</td>\n",
       "    </tr>\n",
       "    <tr>\n",
       "      <th>11</th>\n",
       "      <td>black</td>\n",
       "      <td>61</td>\n",
       "      <td>15.10</td>\n",
       "      <td>1.078304</td>\n",
       "      <td>0.863492</td>\n",
       "    </tr>\n",
       "    <tr>\n",
       "      <th>12</th>\n",
       "      <td>lstat</td>\n",
       "      <td>2</td>\n",
       "      <td>0.50</td>\n",
       "      <td>0.914292</td>\n",
       "      <td>-0.283624</td>\n",
       "    </tr>\n",
       "    <tr>\n",
       "      <th>13</th>\n",
       "      <td>medv</td>\n",
       "      <td>27</td>\n",
       "      <td>6.68</td>\n",
       "      <td>0.707778</td>\n",
       "      <td>0.005556</td>\n",
       "    </tr>\n",
       "  </tbody>\n",
       "</table>\n",
       "</div>"
      ],
      "text/plain": [
       "    feature  no_of_outliers  percentage  upper_limit  lower_limit\n",
       "0      crim              42       10.40     0.112431    -0.066091\n",
       "1        zn              49       12.13     0.328947    -0.197368\n",
       "2     indus               0        0.00     1.356488    -0.536474\n",
       "3      chas              28        6.93     0.000000     0.000000\n",
       "4       nox               0        0.00     1.056367    -0.430063\n",
       "5        rm              21        5.20     0.796704     0.239893\n",
       "6       age               0        0.00     1.686663    -0.305098\n",
       "7       dis               5        1.24     0.798949    -0.345210\n",
       "8       rad               0        0.00     2.304348    -1.173913\n",
       "9       tax               0        0.00     2.016221    -0.922710\n",
       "10  ptratio              12        2.97     1.259309     0.057181\n",
       "11    black              61       15.10     1.078304     0.863492\n",
       "12    lstat               2        0.50     0.914292    -0.283624\n",
       "13     medv              27        6.68     0.707778     0.005556"
      ]
     },
     "execution_count": 60,
     "metadata": {},
     "output_type": "execute_result"
    }
   ],
   "source": [
    "#get outliers from all numeric features\n",
    "IQR_Outliers(boston_norm, boston_norm.columns)"
   ]
  },
  {
   "cell_type": "markdown",
   "id": "8d270ee6",
   "metadata": {},
   "source": [
    "We observe that 9 features have outliers based on cutoff 1.5 IQR."
   ]
  },
  {
   "cell_type": "code",
   "execution_count": 61,
   "id": "e4f1d15b",
   "metadata": {},
   "outputs": [
    {
     "name": "stdout",
     "output_type": "stream",
     "text": [
      "Number of samples:  404\n",
      "\n",
      "Number of rows with outliers:  176\n"
     ]
    },
    {
     "data": {
      "text/html": [
       "<div>\n",
       "<style scoped>\n",
       "    .dataframe tbody tr th:only-of-type {\n",
       "        vertical-align: middle;\n",
       "    }\n",
       "\n",
       "    .dataframe tbody tr th {\n",
       "        vertical-align: top;\n",
       "    }\n",
       "\n",
       "    .dataframe thead th {\n",
       "        text-align: right;\n",
       "    }\n",
       "</style>\n",
       "<table border=\"1\" class=\"dataframe\">\n",
       "  <thead>\n",
       "    <tr style=\"text-align: right;\">\n",
       "      <th></th>\n",
       "      <th>feature</th>\n",
       "      <th>no_of_outliers</th>\n",
       "      <th>percentage</th>\n",
       "      <th>upper_limit</th>\n",
       "      <th>lower_limit</th>\n",
       "    </tr>\n",
       "  </thead>\n",
       "  <tbody>\n",
       "    <tr>\n",
       "      <th>0</th>\n",
       "      <td>crim</td>\n",
       "      <td>42</td>\n",
       "      <td>10.40</td>\n",
       "      <td>0.112431</td>\n",
       "      <td>-0.066091</td>\n",
       "    </tr>\n",
       "    <tr>\n",
       "      <th>1</th>\n",
       "      <td>zn</td>\n",
       "      <td>49</td>\n",
       "      <td>12.13</td>\n",
       "      <td>0.328947</td>\n",
       "      <td>-0.197368</td>\n",
       "    </tr>\n",
       "    <tr>\n",
       "      <th>3</th>\n",
       "      <td>chas</td>\n",
       "      <td>28</td>\n",
       "      <td>6.93</td>\n",
       "      <td>0.000000</td>\n",
       "      <td>0.000000</td>\n",
       "    </tr>\n",
       "    <tr>\n",
       "      <th>5</th>\n",
       "      <td>rm</td>\n",
       "      <td>21</td>\n",
       "      <td>5.20</td>\n",
       "      <td>0.796704</td>\n",
       "      <td>0.239893</td>\n",
       "    </tr>\n",
       "    <tr>\n",
       "      <th>7</th>\n",
       "      <td>dis</td>\n",
       "      <td>5</td>\n",
       "      <td>1.24</td>\n",
       "      <td>0.798949</td>\n",
       "      <td>-0.345210</td>\n",
       "    </tr>\n",
       "    <tr>\n",
       "      <th>10</th>\n",
       "      <td>ptratio</td>\n",
       "      <td>12</td>\n",
       "      <td>2.97</td>\n",
       "      <td>1.259309</td>\n",
       "      <td>0.057181</td>\n",
       "    </tr>\n",
       "    <tr>\n",
       "      <th>11</th>\n",
       "      <td>black</td>\n",
       "      <td>61</td>\n",
       "      <td>15.10</td>\n",
       "      <td>1.078304</td>\n",
       "      <td>0.863492</td>\n",
       "    </tr>\n",
       "    <tr>\n",
       "      <th>12</th>\n",
       "      <td>lstat</td>\n",
       "      <td>2</td>\n",
       "      <td>0.50</td>\n",
       "      <td>0.914292</td>\n",
       "      <td>-0.283624</td>\n",
       "    </tr>\n",
       "    <tr>\n",
       "      <th>13</th>\n",
       "      <td>medv</td>\n",
       "      <td>27</td>\n",
       "      <td>6.68</td>\n",
       "      <td>0.707778</td>\n",
       "      <td>0.005556</td>\n",
       "    </tr>\n",
       "  </tbody>\n",
       "</table>\n",
       "</div>"
      ],
      "text/plain": [
       "    feature  no_of_outliers  percentage  upper_limit  lower_limit\n",
       "0      crim              42       10.40     0.112431    -0.066091\n",
       "1        zn              49       12.13     0.328947    -0.197368\n",
       "3      chas              28        6.93     0.000000     0.000000\n",
       "5        rm              21        5.20     0.796704     0.239893\n",
       "7       dis               5        1.24     0.798949    -0.345210\n",
       "10  ptratio              12        2.97     1.259309     0.057181\n",
       "11    black              61       15.10     1.078304     0.863492\n",
       "12    lstat               2        0.50     0.914292    -0.283624\n",
       "13     medv              27        6.68     0.707778     0.005556"
      ]
     },
     "execution_count": 61,
     "metadata": {},
     "output_type": "execute_result"
    }
   ],
   "source": [
    "df = IQR_Outliers(boston_norm, boston_norm.columns)\n",
    "df[df['no_of_outliers']>0]"
   ]
  },
  {
   "cell_type": "code",
   "execution_count": 62,
   "id": "cd7ddf94",
   "metadata": {},
   "outputs": [
    {
     "data": {
      "text/plain": [
       "['crim', 'zn', 'chas', 'rm', 'dis', 'ptratio', 'black', 'lstat', 'medv']"
      ]
     },
     "execution_count": 62,
     "metadata": {},
     "output_type": "execute_result"
    }
   ],
   "source": [
    "#all columns with outliers as a list\n",
    "list(df[df['no_of_outliers']>0]['feature'])"
   ]
  },
  {
   "cell_type": "markdown",
   "id": "ebacb07c",
   "metadata": {},
   "source": [
    "### Custom Transformer"
   ]
  },
  {
   "cell_type": "markdown",
   "id": "22d831e7",
   "metadata": {},
   "source": [
    "We will author a custom Transformer to cap the outliers at 1.5*IQR left and right"
   ]
  },
  {
   "cell_type": "code",
   "execution_count": 63,
   "id": "8208e49e",
   "metadata": {},
   "outputs": [],
   "source": [
    "from sklearn.base import BaseEstimator,TransformerMixin\n",
    "class OutlierCapper(BaseEstimator,TransformerMixin):\n",
    "    #def __init__(self,factor=1.5):\n",
    "        #self.factor = factor\n",
    "        \n",
    "        \n",
    "    def outlier_cap(self,X,y=None):\n",
    "        print(X)\n",
    "        X = pd.Series(X).copy()\n",
    "        q1 = X.quantile(0.25)\n",
    "        q3 = X.quantile(0.75)\n",
    "        iqr = q3 - q1\n",
    "        lower_bound = q1 - (1.5 * iqr)\n",
    "        upper_bound = q3 + (1.5 * iqr)\n",
    "        X.loc[(X < lower_bound)] = lower_bound \n",
    "        X.loc[(X > upper_bound)] = upper_bound \n",
    "        return pd.Series(X)\n",
    "    \n",
    "    def fit(self,X,y=None):\n",
    "        return self\n",
    "    \n",
    "    def transform(self,X,y=None):\n",
    "        return X.apply(self.outlier_cap)\n",
    "    \n",
    "    def fit_transform(self,X,y=None):\n",
    "        return self.fit(X,y).transform(X)"
   ]
  },
  {
   "cell_type": "code",
   "execution_count": 64,
   "id": "aa580bee",
   "metadata": {},
   "outputs": [],
   "source": [
    "from sklearn.compose import ColumnTransformer\n",
    "\n",
    "outlierTreatment = ColumnTransformer([\n",
    "    ('outlier_capper',OutlierCapper(),['crim', 'zn', 'chas', 'rm', 'dis', 'ptratio', 'black', 'lstat', 'medv'])],remainder='passthrough')"
   ]
  },
  {
   "cell_type": "code",
   "execution_count": 65,
   "id": "ae99bd79",
   "metadata": {},
   "outputs": [
    {
     "name": "stdout",
     "output_type": "stream",
     "text": [
      "0      0.001713\n",
      "1      0.001090\n",
      "2      0.003856\n",
      "3      0.030658\n",
      "4      0.000416\n",
      "         ...   \n",
      "399    0.104786\n",
      "400    0.574683\n",
      "401    0.000098\n",
      "402    0.000160\n",
      "403    0.000856\n",
      "Name: crim, Length: 404, dtype: float64\n",
      "0      0.000000\n",
      "1      0.263158\n",
      "2      0.000000\n",
      "3      0.000000\n",
      "4      0.221053\n",
      "         ...   \n",
      "399    0.000000\n",
      "400    0.000000\n",
      "401    0.947368\n",
      "402    0.894737\n",
      "403    0.315789\n",
      "Name: zn, Length: 404, dtype: float64\n",
      "0      0.0\n",
      "1      0.0\n",
      "2      0.0\n",
      "3      0.0\n",
      "4      0.0\n",
      "      ... \n",
      "399    0.0\n",
      "400    0.0\n",
      "401    1.0\n",
      "402    0.0\n",
      "403    0.0\n",
      "Name: chas, Length: 404, dtype: float64\n",
      "0      0.459858\n",
      "1      0.453344\n",
      "2      0.461966\n",
      "3      0.390113\n",
      "4      0.489366\n",
      "         ...   \n",
      "399    0.502778\n",
      "400    0.420770\n",
      "401    0.835792\n",
      "402    0.540717\n",
      "403    0.559494\n",
      "Name: rm, Length: 404, dtype: float64\n",
      "0      0.375837\n",
      "1      0.525937\n",
      "2      0.176447\n",
      "3      0.032544\n",
      "4      0.515232\n",
      "         ...   \n",
      "399    0.099704\n",
      "400    0.022259\n",
      "401    0.430385\n",
      "402    0.731789\n",
      "403    0.458211\n",
      "Name: dis, Length: 404, dtype: float64\n",
      "0      0.702128\n",
      "1      0.755319\n",
      "2      0.617021\n",
      "3      0.223404\n",
      "4      0.446809\n",
      "         ...   \n",
      "399    0.808511\n",
      "400    0.808511\n",
      "401    0.106383\n",
      "402    0.500000\n",
      "403    0.425532\n",
      "Name: ptratio, Length: 404, dtype: float64\n",
      "0      0.949670\n",
      "1      1.000000\n",
      "2      0.998336\n",
      "3      0.886404\n",
      "4      0.992612\n",
      "         ...   \n",
      "399    1.000000\n",
      "400    0.005749\n",
      "401    0.996520\n",
      "402    1.000000\n",
      "403    0.955898\n",
      "Name: black, Length: 404, dtype: float64\n",
      "0      0.249694\n",
      "1      0.229473\n",
      "2      0.252451\n",
      "3      0.604167\n",
      "4      0.235907\n",
      "         ...   \n",
      "399    0.502451\n",
      "400    0.256740\n",
      "401    0.043811\n",
      "402    0.123775\n",
      "403    0.141850\n",
      "Name: lstat, Length: 404, dtype: float64\n",
      "0      0.371111\n",
      "1      0.324444\n",
      "2      0.340000\n",
      "3      0.231111\n",
      "4      0.344444\n",
      "         ...   \n",
      "399    0.202222\n",
      "400    0.222222\n",
      "401    1.000000\n",
      "402    0.437778\n",
      "403    0.415556\n",
      "Name: medv, Length: 404, dtype: float64\n"
     ]
    }
   ],
   "source": [
    "data_without_outliers = pd.DataFrame(outlierTreatment.fit_transform(boston_norm),columns=boston_norm.columns)"
   ]
  },
  {
   "cell_type": "code",
   "execution_count": 66,
   "id": "13ebdc79",
   "metadata": {},
   "outputs": [
    {
     "data": {
      "text/plain": [
       "<AxesSubplot:>"
      ]
     },
     "execution_count": 66,
     "metadata": {},
     "output_type": "execute_result"
    },
    {
     "data": {
      "image/png": "[encoded data removed]",
      "text/plain": [
       "<Figure size 360x360 with 1 Axes>"
      ]
     },
     "metadata": {},
     "output_type": "display_data"
    }
   ],
   "source": [
    "#View boxplot post outlier treatment\n",
    "plt.figure(figsize=(5,5))\n",
    "sns.set_style(\"dark\")\n",
    "df = pd.DataFrame(data = data_without_outliers, columns = ['crim', 'zn', 'chas', 'rm', 'dis', 'ptratio', 'black', 'lstat', 'medv'])\n",
    "sns.boxplot(data=df, orient=\"h\", palette = 'flare')"
   ]
  },
  {
   "cell_type": "code",
   "execution_count": 67,
   "id": "a7f7fe37",
   "metadata": {},
   "outputs": [
    {
     "data": {
      "text/plain": [
       "<AxesSubplot:>"
      ]
     },
     "execution_count": 67,
     "metadata": {},
     "output_type": "execute_result"
    },
    {
     "data": {
      "image/png": "[encoded data removed]",
      "text/plain": [
       "<Figure size 360x360 with 1 Axes>"
      ]
     },
     "metadata": {},
     "output_type": "display_data"
    }
   ],
   "source": [
    "#Compare with earlier plot\n",
    "plt.figure(figsize=(5,5))\n",
    "sns.set_style(\"dark\")\n",
    "df = pd.DataFrame(data = boston_norm, columns = ['crim', 'zn', 'chas', 'rm', 'dis', 'ptratio', 'black', 'lstat', 'medv'])\n",
    "sns.boxplot(data=df, orient=\"h\", palette = 'flare')"
   ]
  }
 ],
 "metadata": {
  "kernelspec": {
   "display_name": "Python 3 (ipykernel)",
   "language": "python",
   "name": "python3"
  },
  "language_info": {
   "codemirror_mode": {
    "name": "ipython",
    "version": 3
   },
   "file_extension": ".py",
   "mimetype": "text/x-python",
   "name": "python",
   "nbconvert_exporter": "python",
   "pygments_lexer": "ipython3",
   "version": "3.9.5"
  },
  "toc": {
   "base_numbering": 1,
   "nav_menu": {},
   "number_sections": true,
   "sideBar": true,
   "skip_h1_title": false,
   "title_cell": "Table of Contents",
   "title_sidebar": "Contents",
   "toc_cell": false,
   "toc_position": {},
   "toc_section_display": true,
   "toc_window_display": false
  },
  "varInspector": {
   "cols": {
    "lenName": 16,
    "lenType": 16,
    "lenVar": 40
   },
   "kernels_config": {
    "python": {
     "delete_cmd_postfix": "",
     "delete_cmd_prefix": "del ",
     "library": "var_list.py",
     "varRefreshCmd": "print(var_dic_list())"
    },
    "r": {
     "delete_cmd_postfix": ") ",
     "delete_cmd_prefix": "rm(",
     "library": "var_list.r",
     "varRefreshCmd": "cat(var_dic_list()) "
    }
   },
   "types_to_exclude": [
    "module",
    "function",
    "builtin_function_or_method",
    "instance",
    "_Feature"
   ],
   "window_display": false
  }
 },
 "nbformat": 4,
 "nbformat_minor": 5
}
