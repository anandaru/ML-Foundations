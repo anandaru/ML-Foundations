{
 "cells": [
  {
   "cell_type": "markdown",
   "id": "57d46744",
   "metadata": {},
   "source": [
    "## Missing Values"
   ]
  },
  {
   "cell_type": "markdown",
   "id": "5e5b0a4c",
   "metadata": {},
   "source": [
    "Prepare the dataset by performing the preprocessing techniques, to have the standard scale to data"
   ]
  },
  {
   "cell_type": "code",
   "execution_count": 1,
   "id": "461fff3d",
   "metadata": {},
   "outputs": [],
   "source": [
    "import matplotlib.pyplot as plt\n",
    "import pandas as pd\n",
    "%matplotlib inline\n",
    "import seaborn as sns\n",
    "import numpy as np"
   ]
  },
  {
   "cell_type": "code",
   "execution_count": 2,
   "id": "77693a4f",
   "metadata": {},
   "outputs": [],
   "source": [
    "sns.set()"
   ]
  },
  {
   "cell_type": "code",
   "execution_count": 3,
   "id": "f6e6dbb8",
   "metadata": {},
   "outputs": [],
   "source": [
    "claimants = pd.read_csv('claimants.csv')"
   ]
  },
  {
   "cell_type": "markdown",
   "id": "fc06c397",
   "metadata": {},
   "source": [
    "### Exploratory Data Analysis"
   ]
  },
  {
   "cell_type": "code",
   "execution_count": 4,
   "id": "c3a7643b",
   "metadata": {},
   "outputs": [
    {
     "data": {
      "text/html": [
       "<div>\n",
       "<style scoped>\n",
       "    .dataframe tbody tr th:only-of-type {\n",
       "        vertical-align: middle;\n",
       "    }\n",
       "\n",
       "    .dataframe tbody tr th {\n",
       "        vertical-align: top;\n",
       "    }\n",
       "\n",
       "    .dataframe thead th {\n",
       "        text-align: right;\n",
       "    }\n",
       "</style>\n",
       "<table border=\"1\" class=\"dataframe\">\n",
       "  <thead>\n",
       "    <tr style=\"text-align: right;\">\n",
       "      <th></th>\n",
       "      <th>CASENUM</th>\n",
       "      <th>ATTORNEY</th>\n",
       "      <th>CLMSEX</th>\n",
       "      <th>CLMINSUR</th>\n",
       "      <th>SEATBELT</th>\n",
       "      <th>CLMAGE</th>\n",
       "      <th>LOSS</th>\n",
       "    </tr>\n",
       "  </thead>\n",
       "  <tbody>\n",
       "    <tr>\n",
       "      <th>84</th>\n",
       "      <td>1001</td>\n",
       "      <td>0</td>\n",
       "      <td>0.0</td>\n",
       "      <td>1.0</td>\n",
       "      <td>0.0</td>\n",
       "      <td>40.0</td>\n",
       "      <td>0.834</td>\n",
       "    </tr>\n",
       "    <tr>\n",
       "      <th>1068</th>\n",
       "      <td>17433</td>\n",
       "      <td>1</td>\n",
       "      <td>0.0</td>\n",
       "      <td>1.0</td>\n",
       "      <td>0.0</td>\n",
       "      <td>17.0</td>\n",
       "      <td>0.050</td>\n",
       "    </tr>\n",
       "    <tr>\n",
       "      <th>747</th>\n",
       "      <td>9193</td>\n",
       "      <td>1</td>\n",
       "      <td>1.0</td>\n",
       "      <td>1.0</td>\n",
       "      <td>0.0</td>\n",
       "      <td>NaN</td>\n",
       "      <td>0.848</td>\n",
       "    </tr>\n",
       "    <tr>\n",
       "      <th>905</th>\n",
       "      <td>13354</td>\n",
       "      <td>1</td>\n",
       "      <td>0.0</td>\n",
       "      <td>1.0</td>\n",
       "      <td>0.0</td>\n",
       "      <td>NaN</td>\n",
       "      <td>3.330</td>\n",
       "    </tr>\n",
       "    <tr>\n",
       "      <th>914</th>\n",
       "      <td>13514</td>\n",
       "      <td>0</td>\n",
       "      <td>0.0</td>\n",
       "      <td>1.0</td>\n",
       "      <td>0.0</td>\n",
       "      <td>10.0</td>\n",
       "      <td>1.073</td>\n",
       "    </tr>\n",
       "  </tbody>\n",
       "</table>\n",
       "</div>"
      ],
      "text/plain": [
       "      CASENUM  ATTORNEY  CLMSEX  CLMINSUR  SEATBELT  CLMAGE   LOSS\n",
       "84       1001         0     0.0       1.0       0.0    40.0  0.834\n",
       "1068    17433         1     0.0       1.0       0.0    17.0  0.050\n",
       "747      9193         1     1.0       1.0       0.0     NaN  0.848\n",
       "905     13354         1     0.0       1.0       0.0     NaN  3.330\n",
       "914     13514         0     0.0       1.0       0.0    10.0  1.073"
      ]
     },
     "execution_count": 4,
     "metadata": {},
     "output_type": "execute_result"
    }
   ],
   "source": [
    "claimants.sample(5)"
   ]
  },
  {
   "cell_type": "code",
   "execution_count": 5,
   "id": "f1846347",
   "metadata": {},
   "outputs": [
    {
     "data": {
      "text/plain": [
       "(1340, 7)"
      ]
     },
     "execution_count": 5,
     "metadata": {},
     "output_type": "execute_result"
    }
   ],
   "source": [
    "claimants.shape"
   ]
  },
  {
   "cell_type": "code",
   "execution_count": 6,
   "id": "140e7ab6",
   "metadata": {},
   "outputs": [
    {
     "data": {
      "text/plain": [
       "CASENUM       int64\n",
       "ATTORNEY      int64\n",
       "CLMSEX      float64\n",
       "CLMINSUR    float64\n",
       "SEATBELT    float64\n",
       "CLMAGE      float64\n",
       "LOSS        float64\n",
       "dtype: object"
      ]
     },
     "execution_count": 6,
     "metadata": {},
     "output_type": "execute_result"
    }
   ],
   "source": [
    "claimants.dtypes"
   ]
  },
  {
   "cell_type": "code",
   "execution_count": 7,
   "id": "d5442068",
   "metadata": {},
   "outputs": [
    {
     "name": "stdout",
     "output_type": "stream",
     "text": [
      "<class 'pandas.core.frame.DataFrame'>\n",
      "RangeIndex: 1340 entries, 0 to 1339\n",
      "Data columns (total 7 columns):\n",
      " #   Column    Non-Null Count  Dtype  \n",
      "---  ------    --------------  -----  \n",
      " 0   CASENUM   1340 non-null   int64  \n",
      " 1   ATTORNEY  1340 non-null   int64  \n",
      " 2   CLMSEX    1328 non-null   float64\n",
      " 3   CLMINSUR  1299 non-null   float64\n",
      " 4   SEATBELT  1292 non-null   float64\n",
      " 5   CLMAGE    1151 non-null   float64\n",
      " 6   LOSS      1340 non-null   float64\n",
      "dtypes: float64(5), int64(2)\n",
      "memory usage: 73.4 KB\n"
     ]
    }
   ],
   "source": [
    "claimants.info()"
   ]
  },
  {
   "cell_type": "markdown",
   "id": "7a6cbd69",
   "metadata": {},
   "source": [
    "### Data Preprocessing"
   ]
  },
  {
   "cell_type": "markdown",
   "id": "802fd242",
   "metadata": {},
   "source": [
    "#### Check for missing Values"
   ]
  },
  {
   "cell_type": "code",
   "execution_count": 8,
   "id": "d57572d5",
   "metadata": {},
   "outputs": [
    {
     "data": {
      "text/plain": [
       "290"
      ]
     },
     "execution_count": 8,
     "metadata": {},
     "output_type": "execute_result"
    }
   ],
   "source": [
    "claimants.isnull().sum().sum()"
   ]
  },
  {
   "cell_type": "code",
   "execution_count": 9,
   "id": "a51a5a02",
   "metadata": {},
   "outputs": [
    {
     "data": {
      "text/plain": [
       "CASENUM       0\n",
       "ATTORNEY      0\n",
       "CLMSEX       12\n",
       "CLMINSUR     41\n",
       "SEATBELT     48\n",
       "CLMAGE      189\n",
       "LOSS          0\n",
       "dtype: int64"
      ]
     },
     "execution_count": 9,
     "metadata": {},
     "output_type": "execute_result"
    }
   ],
   "source": [
    "claimants.isnull().sum()"
   ]
  },
  {
   "cell_type": "code",
   "execution_count": 10,
   "id": "8833df50",
   "metadata": {},
   "outputs": [
    {
     "data": {
      "text/plain": [
       "Index(['CLMSEX', 'CLMINSUR', 'SEATBELT', 'CLMAGE'], dtype='object')"
      ]
     },
     "execution_count": 10,
     "metadata": {},
     "output_type": "execute_result"
    }
   ],
   "source": [
    "claimants.columns[claimants.isna().any()]"
   ]
  },
  {
   "cell_type": "markdown",
   "id": "adc0ab1c",
   "metadata": {},
   "source": [
    "We have 'CLMSEX', 'CLMINSUR', 'SEATBELT', 'CLMAGE' having null values"
   ]
  },
  {
   "cell_type": "code",
   "execution_count": 11,
   "id": "b3147090",
   "metadata": {},
   "outputs": [
    {
     "data": {
      "text/plain": [
       "2"
      ]
     },
     "execution_count": 11,
     "metadata": {},
     "output_type": "execute_result"
    }
   ],
   "source": [
    "claimants['CLMSEX'].nunique()"
   ]
  },
  {
   "cell_type": "code",
   "execution_count": 12,
   "id": "f88b2cdb",
   "metadata": {},
   "outputs": [
    {
     "data": {
      "text/plain": [
       "array([ 0.,  1., nan])"
      ]
     },
     "execution_count": 12,
     "metadata": {},
     "output_type": "execute_result"
    }
   ],
   "source": [
    "claimants['CLMSEX'].unique()"
   ]
  },
  {
   "cell_type": "code",
   "execution_count": 13,
   "id": "01d2d4bc",
   "metadata": {
    "scrolled": true
   },
   "outputs": [
    {
     "data": {
      "text/plain": [
       "<AxesSubplot:xlabel='CLMSEX', ylabel='count'>"
      ]
     },
     "execution_count": 13,
     "metadata": {},
     "output_type": "execute_result"
    },
    {
     "data": {
      "image/png": "[encoded data removed]",
      "text/plain": [
       "<Figure size 432x288 with 1 Axes>"
      ]
     },
     "metadata": {},
     "output_type": "display_data"
    }
   ],
   "source": [
    "sns.countplot(x=\"CLMSEX\", data=claimants)"
   ]
  },
  {
   "cell_type": "markdown",
   "id": "82fba52a",
   "metadata": {},
   "source": [
    "### Replace null values with Random sample"
   ]
  },
  {
   "cell_type": "code",
   "execution_count": 14,
   "id": "cf4ba872",
   "metadata": {},
   "outputs": [
    {
     "data": {
      "text/plain": [
       "12"
      ]
     },
     "execution_count": 14,
     "metadata": {},
     "output_type": "execute_result"
    }
   ],
   "source": [
    "# copy the CLMSEX column\n",
    "claimants['CLMSEX_Random'] = claimants['CLMSEX']\n",
    "\n",
    "# get the count of missing values for age\n",
    "missing_count = claimants['CLMSEX'].isna().sum()\n",
    "\n",
    "missing_count"
   ]
  },
  {
   "cell_type": "code",
   "execution_count": 15,
   "id": "aa15a98a",
   "metadata": {},
   "outputs": [],
   "source": [
    "# drop all null valued rows and get a sample from remaining records (sample size = missing count)\n",
    "random_sample = claimants['CLMSEX'].dropna().sample(missing_count, random_state = 0)\n",
    "\n",
    "#random_sample.index has indexes from original dataframe sample\n",
    "#assign missing value indexes to random sample\n",
    "random_sample.index = claimants[claimants['CLMSEX'].isna()].index\n",
    "\n",
    "#assign the random sample (with indexes) to rows where boolean series claimants['CLMSEX'].isna() is true\n",
    "claimants.loc[claimants['CLMSEX'].isna(), 'CLMSEX_Random'] = random_sample"
   ]
  },
  {
   "cell_type": "code",
   "execution_count": 16,
   "id": "4612050a",
   "metadata": {},
   "outputs": [
    {
     "data": {
      "text/plain": [
       "<AxesSubplot:xlabel='CLMSEX_Random', ylabel='count'>"
      ]
     },
     "execution_count": 16,
     "metadata": {},
     "output_type": "execute_result"
    },
    {
     "data": {
      "image/png": "[encoded data removed]",
      "text/plain": [
       "<Figure size 432x288 with 1 Axes>"
      ]
     },
     "metadata": {},
     "output_type": "display_data"
    }
   ],
   "source": [
    "sns.countplot(x=\"CLMSEX_Random\", data=claimants)"
   ]
  },
  {
   "cell_type": "code",
   "execution_count": 17,
   "id": "35104409",
   "metadata": {
    "scrolled": true
   },
   "outputs": [
    {
     "data": {
      "text/plain": [
       "array([0., 1.])"
      ]
     },
     "execution_count": 17,
     "metadata": {},
     "output_type": "execute_result"
    }
   ],
   "source": [
    "claimants['CLMSEX_Random'].unique()"
   ]
  },
  {
   "cell_type": "code",
   "execution_count": 18,
   "id": "eee4d9dd",
   "metadata": {},
   "outputs": [
    {
     "data": {
      "text/plain": [
       "CASENUM            0\n",
       "ATTORNEY           0\n",
       "CLMSEX            12\n",
       "CLMINSUR          41\n",
       "SEATBELT          48\n",
       "CLMAGE           189\n",
       "LOSS               0\n",
       "CLMSEX_Random      0\n",
       "dtype: int64"
      ]
     },
     "execution_count": 18,
     "metadata": {},
     "output_type": "execute_result"
    }
   ],
   "source": [
    "claimants.isnull().sum()"
   ]
  },
  {
   "cell_type": "markdown",
   "id": "8c2c8e6b",
   "metadata": {},
   "source": [
    "We have imputed the null values with random sample for  CLMSEX , creating a new column CLMSEX_Random "
   ]
  },
  {
   "cell_type": "code",
   "execution_count": 19,
   "id": "77769163",
   "metadata": {},
   "outputs": [
    {
     "data": {
      "text/plain": [
       "2"
      ]
     },
     "execution_count": 19,
     "metadata": {},
     "output_type": "execute_result"
    }
   ],
   "source": [
    "claimants['CLMINSUR'].nunique()"
   ]
  },
  {
   "cell_type": "code",
   "execution_count": 20,
   "id": "8e2e3d4e",
   "metadata": {},
   "outputs": [
    {
     "data": {
      "text/plain": [
       "array([ 1.,  0., nan])"
      ]
     },
     "execution_count": 20,
     "metadata": {},
     "output_type": "execute_result"
    }
   ],
   "source": [
    "claimants['CLMINSUR'].unique()"
   ]
  },
  {
   "cell_type": "code",
   "execution_count": 21,
   "id": "1ae7e39a",
   "metadata": {},
   "outputs": [
    {
     "data": {
      "text/plain": [
       "<AxesSubplot:xlabel='CLMINSUR', ylabel='count'>"
      ]
     },
     "execution_count": 21,
     "metadata": {},
     "output_type": "execute_result"
    },
    {
     "data": {
      "image/png": "[encoded data removed]",
      "text/plain": [
       "<Figure size 432x288 with 1 Axes>"
      ]
     },
     "metadata": {},
     "output_type": "display_data"
    }
   ],
   "source": [
    "sns.countplot(x=\"CLMINSUR\", data=claimants)"
   ]
  },
  {
   "cell_type": "code",
   "execution_count": 22,
   "id": "747b76e7",
   "metadata": {},
   "outputs": [
    {
     "data": {
      "text/plain": [
       "41"
      ]
     },
     "execution_count": 22,
     "metadata": {},
     "output_type": "execute_result"
    }
   ],
   "source": [
    "# copy the CLMSEX column\n",
    "claimants['CLMINSUR_Random'] = claimants['CLMINSUR']\n",
    "\n",
    "# get the count of missing values for age\n",
    "missing_count = claimants['CLMINSUR'].isna().sum()\n",
    "\n",
    "missing_count"
   ]
  },
  {
   "cell_type": "code",
   "execution_count": 23,
   "id": "26498b5b",
   "metadata": {},
   "outputs": [],
   "source": [
    "# drop all null valued rows and get a sample from remaining records (sample size = missing count)\n",
    "random_sample = claimants['CLMINSUR'].dropna().sample(missing_count, random_state = 0)\n",
    "\n",
    "#random_sample.index has indexes from original dataframe sample\n",
    "#assign missing value indexes to random sample\n",
    "random_sample.index = claimants[claimants['CLMINSUR'].isna()].index\n",
    "\n",
    "#assign the random sample (with indexes) to rows where boolean series claimants['CLMSEX'].isna() is true\n",
    "claimants.loc[claimants['CLMINSUR'].isna(), 'CLMINSUR_Random'] = random_sample"
   ]
  },
  {
   "cell_type": "code",
   "execution_count": 24,
   "id": "559a71f4",
   "metadata": {},
   "outputs": [
    {
     "data": {
      "text/plain": [
       "<AxesSubplot:xlabel='CLMINSUR_Random', ylabel='count'>"
      ]
     },
     "execution_count": 24,
     "metadata": {},
     "output_type": "execute_result"
    },
    {
     "data": {
      "image/png": "[encoded data removed]",
      "text/plain": [
       "<Figure size 432x288 with 1 Axes>"
      ]
     },
     "metadata": {},
     "output_type": "display_data"
    }
   ],
   "source": [
    "sns.countplot(x=\"CLMINSUR_Random\", data=claimants)"
   ]
  },
  {
   "cell_type": "code",
   "execution_count": 25,
   "id": "b909c593",
   "metadata": {},
   "outputs": [
    {
     "data": {
      "text/plain": [
       "array([1., 0.])"
      ]
     },
     "execution_count": 25,
     "metadata": {},
     "output_type": "execute_result"
    }
   ],
   "source": [
    "claimants['CLMINSUR_Random'].unique()"
   ]
  },
  {
   "cell_type": "code",
   "execution_count": 26,
   "id": "8e261571",
   "metadata": {},
   "outputs": [
    {
     "data": {
      "text/plain": [
       "CASENUM              0\n",
       "ATTORNEY             0\n",
       "CLMSEX              12\n",
       "CLMINSUR            41\n",
       "SEATBELT            48\n",
       "CLMAGE             189\n",
       "LOSS                 0\n",
       "CLMSEX_Random        0\n",
       "CLMINSUR_Random      0\n",
       "dtype: int64"
      ]
     },
     "execution_count": 26,
     "metadata": {},
     "output_type": "execute_result"
    }
   ],
   "source": [
    "claimants.isnull().sum()"
   ]
  },
  {
   "cell_type": "markdown",
   "id": "33ca3721",
   "metadata": {},
   "source": [
    "We have imputed the null values with random sample for CLMINSUR , creating a new column CLMINSUR_Random"
   ]
  },
  {
   "cell_type": "code",
   "execution_count": 27,
   "id": "5697a5f5",
   "metadata": {},
   "outputs": [
    {
     "data": {
      "text/plain": [
       "2"
      ]
     },
     "execution_count": 27,
     "metadata": {},
     "output_type": "execute_result"
    }
   ],
   "source": [
    "claimants['SEATBELT'].nunique()"
   ]
  },
  {
   "cell_type": "code",
   "execution_count": 28,
   "id": "54d4c5bd",
   "metadata": {},
   "outputs": [
    {
     "data": {
      "text/plain": [
       "array([ 0.,  1., nan])"
      ]
     },
     "execution_count": 28,
     "metadata": {},
     "output_type": "execute_result"
    }
   ],
   "source": [
    "claimants['SEATBELT'].unique()"
   ]
  },
  {
   "cell_type": "code",
   "execution_count": 29,
   "id": "ec947212",
   "metadata": {},
   "outputs": [
    {
     "data": {
      "text/plain": [
       "<AxesSubplot:xlabel='SEATBELT', ylabel='count'>"
      ]
     },
     "execution_count": 29,
     "metadata": {},
     "output_type": "execute_result"
    },
    {
     "data": {
      "image/png": "[encoded data removed]",
      "text/plain": [
       "<Figure size 432x288 with 1 Axes>"
      ]
     },
     "metadata": {},
     "output_type": "display_data"
    }
   ],
   "source": [
    "sns.countplot(x=\"SEATBELT\", data=claimants)"
   ]
  },
  {
   "cell_type": "code",
   "execution_count": 30,
   "id": "c2cb47cd",
   "metadata": {},
   "outputs": [
    {
     "data": {
      "text/plain": [
       "48"
      ]
     },
     "execution_count": 30,
     "metadata": {},
     "output_type": "execute_result"
    }
   ],
   "source": [
    "# copy the CLMSEX column\n",
    "claimants['SEATBELT_Random'] = claimants['SEATBELT']\n",
    "\n",
    "# get the count of missing values for age\n",
    "missing_count = claimants['SEATBELT'].isna().sum()\n",
    "\n",
    "missing_count"
   ]
  },
  {
   "cell_type": "code",
   "execution_count": 31,
   "id": "8d11f674",
   "metadata": {},
   "outputs": [],
   "source": [
    "# drop all null valued rows and get a sample from remaining records (sample size = missing count)\n",
    "random_sample = claimants['SEATBELT'].dropna().sample(missing_count, random_state = 0)\n",
    "\n",
    "#random_sample.index has indexes from original dataframe sample\n",
    "#assign missing value indexes to random sample\n",
    "random_sample.index = claimants[claimants['SEATBELT'].isna()].index\n",
    "\n",
    "#assign the random sample (with indexes) to rows where boolean series claimants['CLMSEX'].isna() is true\n",
    "claimants.loc[claimants['SEATBELT'].isna(), 'SEATBELT_Random'] = random_sample"
   ]
  },
  {
   "cell_type": "code",
   "execution_count": 32,
   "id": "6a87dab3",
   "metadata": {},
   "outputs": [
    {
     "data": {
      "text/plain": [
       "<AxesSubplot:xlabel='SEATBELT_Random', ylabel='count'>"
      ]
     },
     "execution_count": 32,
     "metadata": {},
     "output_type": "execute_result"
    },
    {
     "data": {
      "image/png": "[encoded data removed]",
      "text/plain": [
       "<Figure size 432x288 with 1 Axes>"
      ]
     },
     "metadata": {},
     "output_type": "display_data"
    }
   ],
   "source": [
    "sns.countplot(x=\"SEATBELT_Random\", data=claimants)"
   ]
  },
  {
   "cell_type": "code",
   "execution_count": 33,
   "id": "f07a38c3",
   "metadata": {},
   "outputs": [
    {
     "data": {
      "text/plain": [
       "array([0., 1.])"
      ]
     },
     "execution_count": 33,
     "metadata": {},
     "output_type": "execute_result"
    }
   ],
   "source": [
    "claimants['SEATBELT_Random'].unique()"
   ]
  },
  {
   "cell_type": "code",
   "execution_count": 34,
   "id": "25c4522e",
   "metadata": {},
   "outputs": [
    {
     "data": {
      "text/plain": [
       "CASENUM              0\n",
       "ATTORNEY             0\n",
       "CLMSEX              12\n",
       "CLMINSUR            41\n",
       "SEATBELT            48\n",
       "CLMAGE             189\n",
       "LOSS                 0\n",
       "CLMSEX_Random        0\n",
       "CLMINSUR_Random      0\n",
       "SEATBELT_Random      0\n",
       "dtype: int64"
      ]
     },
     "execution_count": 34,
     "metadata": {},
     "output_type": "execute_result"
    }
   ],
   "source": [
    "claimants.isnull().sum()"
   ]
  },
  {
   "cell_type": "markdown",
   "id": "7970aaf0",
   "metadata": {},
   "source": [
    "### Replace null values with Median"
   ]
  },
  {
   "cell_type": "code",
   "execution_count": 35,
   "id": "ae2a5f16",
   "metadata": {},
   "outputs": [
    {
     "data": {
      "text/plain": [
       "68"
      ]
     },
     "execution_count": 35,
     "metadata": {},
     "output_type": "execute_result"
    }
   ],
   "source": [
    "claimants['CLMAGE'].nunique()"
   ]
  },
  {
   "cell_type": "code",
   "execution_count": 36,
   "id": "7b45a21d",
   "metadata": {},
   "outputs": [
    {
     "data": {
      "text/plain": [
       "0       50.0\n",
       "1       18.0\n",
       "2        5.0\n",
       "3       31.0\n",
       "4       30.0\n",
       "        ... \n",
       "1335     NaN\n",
       "1336    46.0\n",
       "1337    39.0\n",
       "1338     8.0\n",
       "1339    30.0\n",
       "Name: CLMAGE, Length: 1340, dtype: float64"
      ]
     },
     "execution_count": 36,
     "metadata": {},
     "output_type": "execute_result"
    }
   ],
   "source": [
    "claimants['CLMAGE']"
   ]
  },
  {
   "cell_type": "code",
   "execution_count": 37,
   "id": "311b6672",
   "metadata": {},
   "outputs": [
    {
     "data": {
      "text/plain": [
       "count    1151.000000\n",
       "mean       28.414422\n",
       "std        20.304451\n",
       "min         0.000000\n",
       "25%         9.000000\n",
       "50%        30.000000\n",
       "75%        43.000000\n",
       "max        95.000000\n",
       "Name: CLMAGE, dtype: float64"
      ]
     },
     "execution_count": 37,
     "metadata": {},
     "output_type": "execute_result"
    }
   ],
   "source": [
    "claimants['CLMAGE'].describe()"
   ]
  },
  {
   "cell_type": "code",
   "execution_count": 38,
   "id": "a1c4d5f4",
   "metadata": {},
   "outputs": [
    {
     "data": {
      "text/plain": [
       "30.0"
      ]
     },
     "execution_count": 38,
     "metadata": {},
     "output_type": "execute_result"
    }
   ],
   "source": [
    "claimants['CLMAGE'].median()"
   ]
  },
  {
   "cell_type": "code",
   "execution_count": 39,
   "id": "f67631f7",
   "metadata": {},
   "outputs": [],
   "source": [
    "from sklearn.impute import SimpleImputer\n",
    "median_imputer = SimpleImputer(missing_values=np.nan, strategy='median')\n",
    "claimants[\"CLMAGE_median\"] = pd.DataFrame(median_imputer.fit_transform(claimants[[\"CLMAGE\"]]))"
   ]
  },
  {
   "cell_type": "code",
   "execution_count": 40,
   "id": "d43f2106",
   "metadata": {},
   "outputs": [
    {
     "data": {
      "text/plain": [
       "CASENUM              0\n",
       "ATTORNEY             0\n",
       "CLMSEX              12\n",
       "CLMINSUR            41\n",
       "SEATBELT            48\n",
       "CLMAGE             189\n",
       "LOSS                 0\n",
       "CLMSEX_Random        0\n",
       "CLMINSUR_Random      0\n",
       "SEATBELT_Random      0\n",
       "CLMAGE_median        0\n",
       "dtype: int64"
      ]
     },
     "execution_count": 40,
     "metadata": {},
     "output_type": "execute_result"
    }
   ],
   "source": [
    "claimants.isnull().sum()"
   ]
  },
  {
   "cell_type": "code",
   "execution_count": 41,
   "id": "3cc4ed55",
   "metadata": {},
   "outputs": [],
   "source": [
    "# Drop the missing value columns\n",
    "claimants.drop(['CLMSEX', 'CLMINSUR', 'SEATBELT', 'CLMAGE'],inplace=True, axis=1)"
   ]
  },
  {
   "cell_type": "code",
   "execution_count": 42,
   "id": "5bc7976a",
   "metadata": {},
   "outputs": [
    {
     "name": "stdout",
     "output_type": "stream",
     "text": [
      "<class 'pandas.core.frame.DataFrame'>\n",
      "RangeIndex: 1340 entries, 0 to 1339\n",
      "Data columns (total 7 columns):\n",
      " #   Column           Non-Null Count  Dtype  \n",
      "---  ------           --------------  -----  \n",
      " 0   CASENUM          1340 non-null   int64  \n",
      " 1   ATTORNEY         1340 non-null   int64  \n",
      " 2   LOSS             1340 non-null   float64\n",
      " 3   CLMSEX_Random    1340 non-null   float64\n",
      " 4   CLMINSUR_Random  1340 non-null   float64\n",
      " 5   SEATBELT_Random  1340 non-null   float64\n",
      " 6   CLMAGE_median    1340 non-null   float64\n",
      "dtypes: float64(5), int64(2)\n",
      "memory usage: 73.4 KB\n"
     ]
    }
   ],
   "source": [
    "claimants.info()"
   ]
  },
  {
   "cell_type": "code",
   "execution_count": 43,
   "id": "6a4b203a",
   "metadata": {},
   "outputs": [
    {
     "data": {
      "text/plain": [
       "CASENUM            0\n",
       "ATTORNEY           0\n",
       "LOSS               0\n",
       "CLMSEX_Random      0\n",
       "CLMINSUR_Random    0\n",
       "SEATBELT_Random    0\n",
       "CLMAGE_median      0\n",
       "dtype: int64"
      ]
     },
     "execution_count": 43,
     "metadata": {},
     "output_type": "execute_result"
    }
   ],
   "source": [
    "#final dataframe with null value imputation done\n",
    "claimants.isnull().sum()"
   ]
  }
 ],
 "metadata": {
  "kernelspec": {
   "display_name": "Python 3 (ipykernel)",
   "language": "python",
   "name": "python3"
  },
  "language_info": {
   "codemirror_mode": {
    "name": "ipython",
    "version": 3
   },
   "file_extension": ".py",
   "mimetype": "text/x-python",
   "name": "python",
   "nbconvert_exporter": "python",
   "pygments_lexer": "ipython3",
   "version": "3.9.5"
  },
  "toc": {
   "base_numbering": 1,
   "nav_menu": {},
   "number_sections": true,
   "sideBar": true,
   "skip_h1_title": false,
   "title_cell": "Table of Contents",
   "title_sidebar": "Contents",
   "toc_cell": false,
   "toc_position": {},
   "toc_section_display": true,
   "toc_window_display": false
  },
  "varInspector": {
   "cols": {
    "lenName": 16,
    "lenType": 16,
    "lenVar": 40
   },
   "kernels_config": {
    "python": {
     "delete_cmd_postfix": "",
     "delete_cmd_prefix": "del ",
     "library": "var_list.py",
     "varRefreshCmd": "print(var_dic_list())"
    },
    "r": {
     "delete_cmd_postfix": ") ",
     "delete_cmd_prefix": "rm(",
     "library": "var_list.r",
     "varRefreshCmd": "cat(var_dic_list()) "
    }
   },
   "types_to_exclude": [
    "module",
    "function",
    "builtin_function_or_method",
    "instance",
    "_Feature"
   ],
   "window_display": false
  }
 },
 "nbformat": 4,
 "nbformat_minor": 5
}
