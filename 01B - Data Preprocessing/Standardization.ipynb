{
 "cells": [
  {
   "cell_type": "markdown",
   "id": "57d46744",
   "metadata": {},
   "source": [
    "## Standardization"
   ]
  },
  {
   "cell_type": "markdown",
   "id": "5e5b0a4c",
   "metadata": {},
   "source": [
    "Prepare the dataset by performing the preprocessing techniques, to have the standard scale to data"
   ]
  },
  {
   "cell_type": "code",
   "execution_count": 1,
   "id": "461fff3d",
   "metadata": {},
   "outputs": [],
   "source": [
    "import matplotlib.pyplot as plt\n",
    "import pandas as pd\n",
    "%matplotlib inline\n",
    "import seaborn as sns\n",
    "import numpy as np"
   ]
  },
  {
   "cell_type": "code",
   "execution_count": 2,
   "id": "77693a4f",
   "metadata": {},
   "outputs": [],
   "source": [
    "sns.set()"
   ]
  },
  {
   "cell_type": "code",
   "execution_count": 3,
   "id": "f6e6dbb8",
   "metadata": {},
   "outputs": [],
   "source": [
    "seeds = pd.read_csv('Seeds_data.csv')"
   ]
  },
  {
   "cell_type": "markdown",
   "id": "fc06c397",
   "metadata": {},
   "source": [
    "### Exploratory Data Analysis"
   ]
  },
  {
   "cell_type": "code",
   "execution_count": 4,
   "id": "c3a7643b",
   "metadata": {},
   "outputs": [
    {
     "data": {
      "text/html": [
       "<div>\n",
       "<style scoped>\n",
       "    .dataframe tbody tr th:only-of-type {\n",
       "        vertical-align: middle;\n",
       "    }\n",
       "\n",
       "    .dataframe tbody tr th {\n",
       "        vertical-align: top;\n",
       "    }\n",
       "\n",
       "    .dataframe thead th {\n",
       "        text-align: right;\n",
       "    }\n",
       "</style>\n",
       "<table border=\"1\" class=\"dataframe\">\n",
       "  <thead>\n",
       "    <tr style=\"text-align: right;\">\n",
       "      <th></th>\n",
       "      <th>Area</th>\n",
       "      <th>Perimeter</th>\n",
       "      <th>Compactness</th>\n",
       "      <th>length</th>\n",
       "      <th>Width</th>\n",
       "      <th>Assymetry_coeff</th>\n",
       "      <th>len_ker_grove</th>\n",
       "      <th>Type</th>\n",
       "    </tr>\n",
       "  </thead>\n",
       "  <tbody>\n",
       "    <tr>\n",
       "      <th>102</th>\n",
       "      <td>19.46</td>\n",
       "      <td>16.50</td>\n",
       "      <td>0.8985</td>\n",
       "      <td>6.113</td>\n",
       "      <td>3.892</td>\n",
       "      <td>4.308</td>\n",
       "      <td>6.009</td>\n",
       "      <td>2</td>\n",
       "    </tr>\n",
       "    <tr>\n",
       "      <th>38</th>\n",
       "      <td>14.80</td>\n",
       "      <td>14.52</td>\n",
       "      <td>0.8823</td>\n",
       "      <td>5.656</td>\n",
       "      <td>3.288</td>\n",
       "      <td>3.112</td>\n",
       "      <td>5.309</td>\n",
       "      <td>1</td>\n",
       "    </tr>\n",
       "    <tr>\n",
       "      <th>117</th>\n",
       "      <td>19.15</td>\n",
       "      <td>16.45</td>\n",
       "      <td>0.8890</td>\n",
       "      <td>6.245</td>\n",
       "      <td>3.815</td>\n",
       "      <td>3.084</td>\n",
       "      <td>6.185</td>\n",
       "      <td>2</td>\n",
       "    </tr>\n",
       "    <tr>\n",
       "      <th>133</th>\n",
       "      <td>16.16</td>\n",
       "      <td>15.33</td>\n",
       "      <td>0.8644</td>\n",
       "      <td>5.845</td>\n",
       "      <td>3.395</td>\n",
       "      <td>4.266</td>\n",
       "      <td>5.795</td>\n",
       "      <td>2</td>\n",
       "    </tr>\n",
       "    <tr>\n",
       "      <th>5</th>\n",
       "      <td>14.38</td>\n",
       "      <td>14.21</td>\n",
       "      <td>0.8951</td>\n",
       "      <td>5.386</td>\n",
       "      <td>3.312</td>\n",
       "      <td>2.462</td>\n",
       "      <td>4.956</td>\n",
       "      <td>1</td>\n",
       "    </tr>\n",
       "  </tbody>\n",
       "</table>\n",
       "</div>"
      ],
      "text/plain": [
       "      Area  Perimeter   Compactness  length  Width  Assymetry_coeff  \\\n",
       "102  19.46       16.50       0.8985   6.113  3.892            4.308   \n",
       "38   14.80       14.52       0.8823   5.656  3.288            3.112   \n",
       "117  19.15       16.45       0.8890   6.245  3.815            3.084   \n",
       "133  16.16       15.33       0.8644   5.845  3.395            4.266   \n",
       "5    14.38       14.21       0.8951   5.386  3.312            2.462   \n",
       "\n",
       "     len_ker_grove  Type  \n",
       "102          6.009     2  \n",
       "38           5.309     1  \n",
       "117          6.185     2  \n",
       "133          5.795     2  \n",
       "5            4.956     1  "
      ]
     },
     "execution_count": 4,
     "metadata": {},
     "output_type": "execute_result"
    }
   ],
   "source": [
    "seeds.sample(5)"
   ]
  },
  {
   "cell_type": "code",
   "execution_count": 5,
   "id": "f1846347",
   "metadata": {},
   "outputs": [
    {
     "data": {
      "text/plain": [
       "(210, 8)"
      ]
     },
     "execution_count": 5,
     "metadata": {},
     "output_type": "execute_result"
    }
   ],
   "source": [
    "seeds.shape"
   ]
  },
  {
   "cell_type": "code",
   "execution_count": 6,
   "id": "140e7ab6",
   "metadata": {},
   "outputs": [
    {
     "data": {
      "text/plain": [
       "Area               float64\n",
       "Perimeter          float64\n",
       "Compactness        float64\n",
       "length             float64\n",
       "Width              float64\n",
       "Assymetry_coeff    float64\n",
       "len_ker_grove      float64\n",
       "Type                 int64\n",
       "dtype: object"
      ]
     },
     "execution_count": 6,
     "metadata": {},
     "output_type": "execute_result"
    }
   ],
   "source": [
    "seeds.dtypes"
   ]
  },
  {
   "cell_type": "code",
   "execution_count": 7,
   "id": "d5442068",
   "metadata": {},
   "outputs": [
    {
     "name": "stdout",
     "output_type": "stream",
     "text": [
      "<class 'pandas.core.frame.DataFrame'>\n",
      "RangeIndex: 210 entries, 0 to 209\n",
      "Data columns (total 8 columns):\n",
      " #   Column           Non-Null Count  Dtype  \n",
      "---  ------           --------------  -----  \n",
      " 0   Area             210 non-null    float64\n",
      " 1   Perimeter        210 non-null    float64\n",
      " 2   Compactness      210 non-null    float64\n",
      " 3   length           210 non-null    float64\n",
      " 4   Width            210 non-null    float64\n",
      " 5   Assymetry_coeff  210 non-null    float64\n",
      " 6   len_ker_grove    210 non-null    float64\n",
      " 7   Type             210 non-null    int64  \n",
      "dtypes: float64(7), int64(1)\n",
      "memory usage: 13.2 KB\n"
     ]
    }
   ],
   "source": [
    "seeds.info()"
   ]
  },
  {
   "cell_type": "markdown",
   "id": "18140939",
   "metadata": {},
   "source": [
    "Animals , Gender   ,Homly    and Types     are nominal features. We will apply onehot encoding to these features."
   ]
  },
  {
   "cell_type": "code",
   "execution_count": 8,
   "id": "d57572d5",
   "metadata": {},
   "outputs": [
    {
     "data": {
      "text/plain": [
       "0"
      ]
     },
     "execution_count": 8,
     "metadata": {},
     "output_type": "execute_result"
    }
   ],
   "source": [
    "seeds.isnull().sum().sum()"
   ]
  },
  {
   "cell_type": "code",
   "execution_count": 9,
   "id": "35104409",
   "metadata": {
    "scrolled": true
   },
   "outputs": [
    {
     "data": {
      "text/plain": [
       "0"
      ]
     },
     "execution_count": 9,
     "metadata": {},
     "output_type": "execute_result"
    }
   ],
   "source": [
    "seeds.duplicated().sum()"
   ]
  },
  {
   "cell_type": "markdown",
   "id": "7a6cbd69",
   "metadata": {},
   "source": [
    "### Data Preprocessing"
   ]
  },
  {
   "cell_type": "code",
   "execution_count": 10,
   "id": "ce91bef1",
   "metadata": {},
   "outputs": [],
   "source": [
    "from sklearn.preprocessing import StandardScaler\n",
    "from sklearn.compose import ColumnTransformer\n",
    "from sklearn.pipeline import Pipeline\n",
    "\n",
    "#Create a columntransformer with StandardScaler to scale mean to zero\n",
    "preprocessor = ColumnTransformer(\n",
    "    transformers=[\n",
    "        (\"scaling\", StandardScaler(), slice(0,8)),\n",
    "    ]\n",
    ")\n"
   ]
  },
  {
   "cell_type": "markdown",
   "id": "9acdf10e",
   "metadata": {},
   "source": [
    "### Create Preprocessing Pipeline"
   ]
  },
  {
   "cell_type": "code",
   "execution_count": 11,
   "id": "27a540b8",
   "metadata": {},
   "outputs": [],
   "source": [
    "#Create a preprocessing pipeline\n",
    "pipe = Pipeline(\n",
    "    steps=[(\"preprocessor\", preprocessor)]\n",
    ")"
   ]
  },
  {
   "cell_type": "code",
   "execution_count": 12,
   "id": "5fe53efd",
   "metadata": {},
   "outputs": [],
   "source": [
    "# Apply the tranformation\n",
    "seeds_transformed = pipe.fit_transform(seeds) "
   ]
  },
  {
   "cell_type": "code",
   "execution_count": 13,
   "id": "f0df5f08",
   "metadata": {},
   "outputs": [
    {
     "data": {
      "text/plain": [
       "(210, 8)"
      ]
     },
     "execution_count": 13,
     "metadata": {},
     "output_type": "execute_result"
    }
   ],
   "source": [
    "seeds_transformed.shape"
   ]
  },
  {
   "cell_type": "code",
   "execution_count": 14,
   "id": "b5ffdebe",
   "metadata": {},
   "outputs": [
    {
     "data": {
      "text/plain": [
       "array([[ 1.42097769e-01,  2.15462437e-01,  6.06017918e-05, ...,\n",
       "        -9.86151745e-01, -3.83577423e-01, -1.22474487e+00],\n",
       "       [ 1.11880257e-02,  8.22375713e-03,  4.28515270e-01, ...,\n",
       "        -1.78816620e+00, -9.22013487e-01, -1.22474487e+00],\n",
       "       [-1.92066576e-01, -3.60200562e-01,  1.44238325e+00, ...,\n",
       "        -6.67479334e-01, -1.18919199e+00, -1.22474487e+00],\n",
       "       ...,\n",
       "       [-5.67570840e-01, -6.90247348e-01,  7.33948301e-01, ...,\n",
       "         3.07658816e+00, -7.18060432e-01,  1.22474487e+00],\n",
       "       [-1.03608992e+00, -1.03564515e+00, -8.01701104e-01, ...,\n",
       "        -6.81351965e-02, -7.42534799e-01,  1.22474487e+00],\n",
       "       [-8.77620233e-01, -9.35863561e-01, -1.10234659e-01, ...,\n",
       "         1.29122264e+00, -7.03783718e-01,  1.22474487e+00]])"
      ]
     },
     "execution_count": 14,
     "metadata": {},
     "output_type": "execute_result"
    }
   ],
   "source": [
    "#View transformed data\n",
    "seeds_transformed"
   ]
  },
  {
   "cell_type": "code",
   "execution_count": 15,
   "id": "cddbed5e",
   "metadata": {},
   "outputs": [],
   "source": [
    "#convert array to dataframe \n",
    "seeds_transformed_df= pd.DataFrame(seeds_transformed)"
   ]
  },
  {
   "cell_type": "code",
   "execution_count": 16,
   "id": "c1d5d100",
   "metadata": {},
   "outputs": [],
   "source": [
    "#add column names\n",
    "seeds_transformed_df.columns= seeds.columns"
   ]
  },
  {
   "cell_type": "code",
   "execution_count": 17,
   "id": "ab3de0b1",
   "metadata": {},
   "outputs": [
    {
     "data": {
      "text/html": [
       "<div>\n",
       "<style scoped>\n",
       "    .dataframe tbody tr th:only-of-type {\n",
       "        vertical-align: middle;\n",
       "    }\n",
       "\n",
       "    .dataframe tbody tr th {\n",
       "        vertical-align: top;\n",
       "    }\n",
       "\n",
       "    .dataframe thead th {\n",
       "        text-align: right;\n",
       "    }\n",
       "</style>\n",
       "<table border=\"1\" class=\"dataframe\">\n",
       "  <thead>\n",
       "    <tr style=\"text-align: right;\">\n",
       "      <th></th>\n",
       "      <th>Area</th>\n",
       "      <th>Perimeter</th>\n",
       "      <th>Compactness</th>\n",
       "      <th>length</th>\n",
       "      <th>Width</th>\n",
       "      <th>Assymetry_coeff</th>\n",
       "      <th>len_ker_grove</th>\n",
       "      <th>Type</th>\n",
       "    </tr>\n",
       "  </thead>\n",
       "  <tbody>\n",
       "    <tr>\n",
       "      <th>0</th>\n",
       "      <td>0.142098</td>\n",
       "      <td>0.215462</td>\n",
       "      <td>0.000061</td>\n",
       "      <td>0.304218</td>\n",
       "      <td>0.140671</td>\n",
       "      <td>-0.986152</td>\n",
       "      <td>-0.383577</td>\n",
       "      <td>-1.224745</td>\n",
       "    </tr>\n",
       "    <tr>\n",
       "      <th>1</th>\n",
       "      <td>0.011188</td>\n",
       "      <td>0.008224</td>\n",
       "      <td>0.428515</td>\n",
       "      <td>-0.168625</td>\n",
       "      <td>0.196494</td>\n",
       "      <td>-1.788166</td>\n",
       "      <td>-0.922013</td>\n",
       "      <td>-1.224745</td>\n",
       "    </tr>\n",
       "    <tr>\n",
       "      <th>2</th>\n",
       "      <td>-0.192067</td>\n",
       "      <td>-0.360201</td>\n",
       "      <td>1.442383</td>\n",
       "      <td>-0.763637</td>\n",
       "      <td>0.207127</td>\n",
       "      <td>-0.667479</td>\n",
       "      <td>-1.189192</td>\n",
       "      <td>-1.224745</td>\n",
       "    </tr>\n",
       "    <tr>\n",
       "      <th>3</th>\n",
       "      <td>-0.347091</td>\n",
       "      <td>-0.475333</td>\n",
       "      <td>1.039381</td>\n",
       "      <td>-0.688978</td>\n",
       "      <td>0.318773</td>\n",
       "      <td>-0.960818</td>\n",
       "      <td>-1.229983</td>\n",
       "      <td>-1.224745</td>\n",
       "    </tr>\n",
       "    <tr>\n",
       "      <th>4</th>\n",
       "      <td>0.445257</td>\n",
       "      <td>0.330595</td>\n",
       "      <td>1.374509</td>\n",
       "      <td>0.066666</td>\n",
       "      <td>0.805230</td>\n",
       "      <td>-1.563495</td>\n",
       "      <td>-0.475356</td>\n",
       "      <td>-1.224745</td>\n",
       "    </tr>\n",
       "    <tr>\n",
       "      <th>...</th>\n",
       "      <td>...</td>\n",
       "      <td>...</td>\n",
       "      <td>...</td>\n",
       "      <td>...</td>\n",
       "      <td>...</td>\n",
       "      <td>...</td>\n",
       "      <td>...</td>\n",
       "      <td>...</td>\n",
       "    </tr>\n",
       "    <tr>\n",
       "      <th>205</th>\n",
       "      <td>-0.915515</td>\n",
       "      <td>-1.043321</td>\n",
       "      <td>0.309736</td>\n",
       "      <td>-1.112048</td>\n",
       "      <td>-0.739205</td>\n",
       "      <td>-0.046135</td>\n",
       "      <td>-1.097413</td>\n",
       "      <td>1.224745</td>\n",
       "    </tr>\n",
       "    <tr>\n",
       "      <th>206</th>\n",
       "      <td>-1.246235</td>\n",
       "      <td>-1.288937</td>\n",
       "      <td>-0.844122</td>\n",
       "      <td>-1.105261</td>\n",
       "      <td>-1.233636</td>\n",
       "      <td>0.416540</td>\n",
       "      <td>-0.826156</td>\n",
       "      <td>1.224745</td>\n",
       "    </tr>\n",
       "    <tr>\n",
       "      <th>207</th>\n",
       "      <td>-0.567571</td>\n",
       "      <td>-0.690247</td>\n",
       "      <td>0.733948</td>\n",
       "      <td>-0.888070</td>\n",
       "      <td>-0.071988</td>\n",
       "      <td>3.076588</td>\n",
       "      <td>-0.718060</td>\n",
       "      <td>1.224745</td>\n",
       "    </tr>\n",
       "    <tr>\n",
       "      <th>208</th>\n",
       "      <td>-1.036090</td>\n",
       "      <td>-1.035645</td>\n",
       "      <td>-0.801701</td>\n",
       "      <td>-1.026077</td>\n",
       "      <td>-1.124649</td>\n",
       "      <td>-0.068135</td>\n",
       "      <td>-0.742535</td>\n",
       "      <td>1.224745</td>\n",
       "    </tr>\n",
       "    <tr>\n",
       "      <th>209</th>\n",
       "      <td>-0.877620</td>\n",
       "      <td>-0.935864</td>\n",
       "      <td>-0.110235</td>\n",
       "      <td>-0.872233</td>\n",
       "      <td>-0.757812</td>\n",
       "      <td>1.291223</td>\n",
       "      <td>-0.703784</td>\n",
       "      <td>1.224745</td>\n",
       "    </tr>\n",
       "  </tbody>\n",
       "</table>\n",
       "<p>210 rows × 8 columns</p>\n",
       "</div>"
      ],
      "text/plain": [
       "         Area  Perimeter   Compactness    length     Width  Assymetry_coeff  \\\n",
       "0    0.142098    0.215462     0.000061  0.304218  0.140671        -0.986152   \n",
       "1    0.011188    0.008224     0.428515 -0.168625  0.196494        -1.788166   \n",
       "2   -0.192067   -0.360201     1.442383 -0.763637  0.207127        -0.667479   \n",
       "3   -0.347091   -0.475333     1.039381 -0.688978  0.318773        -0.960818   \n",
       "4    0.445257    0.330595     1.374509  0.066666  0.805230        -1.563495   \n",
       "..        ...         ...          ...       ...       ...              ...   \n",
       "205 -0.915515   -1.043321     0.309736 -1.112048 -0.739205        -0.046135   \n",
       "206 -1.246235   -1.288937    -0.844122 -1.105261 -1.233636         0.416540   \n",
       "207 -0.567571   -0.690247     0.733948 -0.888070 -0.071988         3.076588   \n",
       "208 -1.036090   -1.035645    -0.801701 -1.026077 -1.124649        -0.068135   \n",
       "209 -0.877620   -0.935864    -0.110235 -0.872233 -0.757812         1.291223   \n",
       "\n",
       "     len_ker_grove      Type  \n",
       "0        -0.383577 -1.224745  \n",
       "1        -0.922013 -1.224745  \n",
       "2        -1.189192 -1.224745  \n",
       "3        -1.229983 -1.224745  \n",
       "4        -0.475356 -1.224745  \n",
       "..             ...       ...  \n",
       "205      -1.097413  1.224745  \n",
       "206      -0.826156  1.224745  \n",
       "207      -0.718060  1.224745  \n",
       "208      -0.742535  1.224745  \n",
       "209      -0.703784  1.224745  \n",
       "\n",
       "[210 rows x 8 columns]"
      ]
     },
     "execution_count": 17,
     "metadata": {},
     "output_type": "execute_result"
    }
   ],
   "source": [
    "#View standardized dataframe\n",
    "seeds_transformed_df"
   ]
  }
 ],
 "metadata": {
  "kernelspec": {
   "display_name": "Python 3 (ipykernel)",
   "language": "python",
   "name": "python3"
  },
  "language_info": {
   "codemirror_mode": {
    "name": "ipython",
    "version": 3
   },
   "file_extension": ".py",
   "mimetype": "text/x-python",
   "name": "python",
   "nbconvert_exporter": "python",
   "pygments_lexer": "ipython3",
   "version": "3.9.5"
  },
  "toc": {
   "base_numbering": 1,
   "nav_menu": {},
   "number_sections": true,
   "sideBar": true,
   "skip_h1_title": false,
   "title_cell": "Table of Contents",
   "title_sidebar": "Contents",
   "toc_cell": false,
   "toc_position": {},
   "toc_section_display": true,
   "toc_window_display": false
  },
  "varInspector": {
   "cols": {
    "lenName": 16,
    "lenType": 16,
    "lenVar": 40
   },
   "kernels_config": {
    "python": {
     "delete_cmd_postfix": "",
     "delete_cmd_prefix": "del ",
     "library": "var_list.py",
     "varRefreshCmd": "print(var_dic_list())"
    },
    "r": {
     "delete_cmd_postfix": ") ",
     "delete_cmd_prefix": "rm(",
     "library": "var_list.r",
     "varRefreshCmd": "cat(var_dic_list()) "
    }
   },
   "types_to_exclude": [
    "module",
    "function",
    "builtin_function_or_method",
    "instance",
    "_Feature"
   ],
   "window_display": false
  }
 },
 "nbformat": 4,
 "nbformat_minor": 5
}
