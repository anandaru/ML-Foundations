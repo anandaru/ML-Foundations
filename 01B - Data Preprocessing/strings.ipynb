{
 "cells": [
  {
   "cell_type": "markdown",
   "id": "2bdfe8d7",
   "metadata": {},
   "source": [
    "## Q1"
   ]
  },
  {
   "cell_type": "markdown",
   "id": "446ab097",
   "metadata": {},
   "source": [
    "Create a string “Grow Gratitude”.\n",
    "Code for the following tasks:  \n"
   ]
  },
  {
   "cell_type": "markdown",
   "id": "b77217aa",
   "metadata": {},
   "source": [
    "a)How do you access the letter “G” of “Growth”? "
   ]
  },
  {
   "cell_type": "code",
   "execution_count": 3,
   "id": "19a959b5",
   "metadata": {},
   "outputs": [
    {
     "data": {
      "text/plain": [
       "0"
      ]
     },
     "execution_count": 3,
     "metadata": {},
     "output_type": "execute_result"
    }
   ],
   "source": [
    "s= 'Grow Gratitude'\n",
    "s.find('G')"
   ]
  },
  {
   "cell_type": "markdown",
   "id": "b193f719",
   "metadata": {},
   "source": [
    "b)How do you find the length of the string?"
   ]
  },
  {
   "cell_type": "code",
   "execution_count": 4,
   "id": "02022cd2",
   "metadata": {},
   "outputs": [
    {
     "data": {
      "text/plain": [
       "14"
      ]
     },
     "execution_count": 4,
     "metadata": {},
     "output_type": "execute_result"
    }
   ],
   "source": [
    "len(s)"
   ]
  },
  {
   "cell_type": "markdown",
   "id": "b8879316",
   "metadata": {},
   "source": [
    "c)Count how many times “G” is in the string."
   ]
  },
  {
   "cell_type": "code",
   "execution_count": 5,
   "id": "a314b6a0",
   "metadata": {},
   "outputs": [
    {
     "data": {
      "text/plain": [
       "2"
      ]
     },
     "execution_count": 5,
     "metadata": {},
     "output_type": "execute_result"
    }
   ],
   "source": [
    "s.count('G')"
   ]
  },
  {
   "cell_type": "markdown",
   "id": "5fe82698",
   "metadata": {},
   "source": [
    "## Q2"
   ]
  },
  {
   "cell_type": "markdown",
   "id": "45a3d82d",
   "metadata": {},
   "source": [
    "2.Create a string “Being aware of a single shortcoming within yourself is far more useful than being aware of a thousand in someone else.”\n",
    "Code for the following:  \n",
    "a)Count the number of characters in the string.\n"
   ]
  },
  {
   "cell_type": "code",
   "execution_count": 7,
   "id": "8f065623",
   "metadata": {},
   "outputs": [
    {
     "data": {
      "text/plain": [
       "98"
      ]
     },
     "execution_count": 7,
     "metadata": {},
     "output_type": "execute_result"
    }
   ],
   "source": [
    "s1= 'Being aware of a single shortcoming within yourself is far more useful than being aware of a thousand in someone else.'\n",
    "len(s1)-s1.count(' ') #includes fullstop"
   ]
  },
  {
   "cell_type": "code",
   "execution_count": 8,
   "id": "32a1f97f",
   "metadata": {},
   "outputs": [
    {
     "data": {
      "text/plain": [
       "97"
      ]
     },
     "execution_count": 8,
     "metadata": {},
     "output_type": "execute_result"
    }
   ],
   "source": [
    "#if only alphabets\n",
    "len([char for char in s1 if char.isalpha()])"
   ]
  },
  {
   "cell_type": "markdown",
   "id": "c270ff2e",
   "metadata": {},
   "source": [
    "## Q3"
   ]
  },
  {
   "cell_type": "markdown",
   "id": "3e4ab1b5",
   "metadata": {},
   "source": [
    "3.Create a string \"Idealistic as it may sound, altruism should be the driving force in business, not just competition and a desire for wealth\"\n",
    "Code for the following tasks:\n",
    "\n"
   ]
  },
  {
   "cell_type": "code",
   "execution_count": 50,
   "id": "536520ec",
   "metadata": {},
   "outputs": [
    {
     "data": {
      "text/plain": [
       "['Idealistic',\n",
       " 'as',\n",
       " 'it',\n",
       " 'may',\n",
       " 'sound',\n",
       " 'altruism',\n",
       " 'should',\n",
       " 'be',\n",
       " 'the',\n",
       " 'driving',\n",
       " 'force',\n",
       " 'in',\n",
       " 'business',\n",
       " 'not',\n",
       " 'just',\n",
       " 'competition',\n",
       " 'and',\n",
       " 'a',\n",
       " 'desire',\n",
       " 'for',\n",
       " 'wealth']"
      ]
     },
     "execution_count": 50,
     "metadata": {},
     "output_type": "execute_result"
    }
   ],
   "source": [
    "import re\n",
    "lst1= re.split(',| ', s2)\n",
    "lst1 = list(filter(None, lst1))\n",
    "lst1"
   ]
  },
  {
   "cell_type": "markdown",
   "id": "9a641013",
   "metadata": {},
   "source": [
    "a)get one char of the word"
   ]
  },
  {
   "cell_type": "markdown",
   "id": "68383d4c",
   "metadata": {},
   "source": [
    "b)get the first three char"
   ]
  },
  {
   "cell_type": "code",
   "execution_count": 27,
   "id": "f2ab884f",
   "metadata": {},
   "outputs": [
    {
     "name": "stdout",
     "output_type": "stream",
     "text": [
      "Ide\n",
      "as\n",
      "it\n",
      "may\n",
      "sou\n",
      "alt\n",
      "sho\n",
      "be\n",
      "the\n",
      "dri\n",
      "for\n",
      "in\n",
      "bus\n",
      "not\n",
      "jus\n",
      "com\n",
      "and\n",
      "a\n",
      "des\n",
      "for\n",
      "wea\n"
     ]
    }
   ],
   "source": [
    "lst= s2.split()\n",
    "for w in lst:\n",
    "    print(w[0:3])"
   ]
  },
  {
   "cell_type": "markdown",
   "id": "e0fb9311",
   "metadata": {},
   "source": [
    "c)get the last three char"
   ]
  },
  {
   "cell_type": "code",
   "execution_count": 53,
   "id": "340ce80b",
   "metadata": {},
   "outputs": [
    {
     "name": "stdout",
     "output_type": "stream",
     "text": [
      "tic\n",
      "as\n",
      "it\n",
      "may\n",
      "und\n",
      "ism\n",
      "uld\n",
      "be\n",
      "the\n",
      "ing\n",
      "rce\n",
      "in\n",
      "ess\n",
      "not\n",
      "ust\n",
      "ion\n",
      "and\n",
      "a\n",
      "ire\n",
      "for\n",
      "lth\n"
     ]
    }
   ],
   "source": [
    "import re\n",
    "s2 = 'Idealistic as it may sound, altruism should be the driving force in business, not just competition and a desire for wealth'\n",
    "lst1= re.split(',| ', s2)\n",
    "lst1= list(filter(None, lst1))\n",
    "for w in lst1:\n",
    "    print(w[-3:])\n",
    "    \n"
   ]
  },
  {
   "cell_type": "markdown",
   "id": "12e24e3b",
   "metadata": {},
   "source": [
    "## Q4"
   ]
  },
  {
   "cell_type": "markdown",
   "id": "57c79f9a",
   "metadata": {},
   "source": [
    "4.create a string \"stay positive and optimistic\". Now write a code to split on whitespace.\n",
    "Write a code to find if:"
   ]
  },
  {
   "cell_type": "markdown",
   "id": "07f03dfd",
   "metadata": {},
   "source": [
    "a)The string starts with “H”"
   ]
  },
  {
   "cell_type": "code",
   "execution_count": 63,
   "id": "1fa5d821",
   "metadata": {},
   "outputs": [
    {
     "name": "stdout",
     "output_type": "stream",
     "text": [
      "False\n"
     ]
    }
   ],
   "source": [
    "s2= 'stay positive and optimistic'\n",
    "lst3= s2.split()\n",
    "a=0\n",
    "for item in lst3:    \n",
    "    if item.startswith('H'):\n",
    "        a=1\n",
    "        break\n",
    "if a==1:\n",
    "    print('True')\n",
    "else:\n",
    "    print('False')"
   ]
  },
  {
   "cell_type": "markdown",
   "id": "1012cb6c",
   "metadata": {},
   "source": [
    "b)The string ends with “d”"
   ]
  },
  {
   "cell_type": "code",
   "execution_count": 64,
   "id": "8e429327",
   "metadata": {},
   "outputs": [
    {
     "name": "stdout",
     "output_type": "stream",
     "text": [
      "False\n"
     ]
    }
   ],
   "source": [
    "s2= 'stay positive and optimistic'\n",
    "lst3= s2.split()\n",
    "a=0\n",
    "for item in lst3:    \n",
    "    if item.startswith('d'):\n",
    "        a=1\n",
    "        break\n",
    "if a==1:\n",
    "    print('True')\n",
    "else:\n",
    "    print('False')"
   ]
  },
  {
   "cell_type": "markdown",
   "id": "99cbc66a",
   "metadata": {},
   "source": [
    "c)The string ends with “c”"
   ]
  },
  {
   "cell_type": "code",
   "execution_count": 65,
   "id": "faafc468",
   "metadata": {},
   "outputs": [
    {
     "name": "stdout",
     "output_type": "stream",
     "text": [
      "True\n"
     ]
    }
   ],
   "source": [
    "s2= 'stay positive and optimistic'\n",
    "lst3= s2.split()\n",
    "a=0\n",
    "for item in lst3:    \n",
    "    if item.endswith('c'):\n",
    "        a=1\n",
    "        break\n",
    "if a==1:\n",
    "    print('True')\n",
    "else:\n",
    "    print('False')"
   ]
  },
  {
   "cell_type": "markdown",
   "id": "87db096c",
   "metadata": {},
   "source": [
    "## Q5"
   ]
  },
  {
   "cell_type": "markdown",
   "id": "ad95ddbf",
   "metadata": {},
   "source": [
    "5.Write a code to print \" 🪐 \" one hundred and eight times."
   ]
  },
  {
   "cell_type": "code",
   "execution_count": 67,
   "id": "32d4a48f",
   "metadata": {},
   "outputs": [
    {
     "data": {
      "text/plain": [
       "' 🪐  🪐  🪐  🪐  🪐  🪐  🪐  🪐  🪐  🪐  🪐  🪐  🪐  🪐  🪐  🪐  🪐  🪐  🪐  🪐  🪐  🪐  🪐  🪐  🪐  🪐  🪐  🪐  🪐  🪐  🪐  🪐  🪐  🪐  🪐  🪐  🪐  🪐  🪐  🪐  🪐  🪐  🪐  🪐  🪐  🪐  🪐  🪐  🪐  🪐  🪐  🪐  🪐  🪐  🪐  🪐  🪐  🪐  🪐  🪐  🪐  🪐  🪐  🪐  🪐  🪐  🪐  🪐  🪐  🪐  🪐  🪐  🪐  🪐  🪐  🪐  🪐  🪐  🪐  🪐  🪐  🪐  🪐  🪐  🪐  🪐  🪐  🪐  🪐  🪐  🪐  🪐  🪐  🪐  🪐  🪐  🪐  🪐  🪐  🪐 '"
      ]
     },
     "execution_count": 67,
     "metadata": {},
     "output_type": "execute_result"
    }
   ],
   "source": [
    "s=\" 🪐 \"\n",
    "s *100"
   ]
  },
  {
   "cell_type": "markdown",
   "id": "40c54fca",
   "metadata": {},
   "source": [
    "## Q6"
   ]
  },
  {
   "cell_type": "markdown",
   "id": "0e88be88",
   "metadata": {},
   "source": [
    "Write a code to print \" o \" one hundred and eight times. (only in R)"
   ]
  },
  {
   "cell_type": "markdown",
   "id": "c3180505",
   "metadata": {},
   "source": [
    "NA"
   ]
  },
  {
   "cell_type": "markdown",
   "id": "48fba877",
   "metadata": {},
   "source": [
    "## Q7"
   ]
  },
  {
   "cell_type": "markdown",
   "id": "e6bdd699",
   "metadata": {},
   "source": [
    "7.Create a string “Grow Gratitude” and write a code to replace “Grow” with “Growth of”"
   ]
  },
  {
   "cell_type": "code",
   "execution_count": 68,
   "id": "920a4b73",
   "metadata": {},
   "outputs": [
    {
     "data": {
      "text/plain": [
       "'Growth of Gratitude'"
      ]
     },
     "execution_count": 68,
     "metadata": {},
     "output_type": "execute_result"
    }
   ],
   "source": [
    "s4= 'Grow Gratitude'\n",
    "s4.replace('Grow','Growth of')"
   ]
  },
  {
   "cell_type": "markdown",
   "id": "6169de1c",
   "metadata": {},
   "source": [
    "## Q8"
   ]
  },
  {
   "cell_type": "markdown",
   "id": "57cdd35f",
   "metadata": {},
   "source": [
    "8.A story was printed in a pdf, which isn’t making any sense. i.e.:\n",
    "'.elgnujehtotniffo deps mehtfohtoB .eerfnoilehttesotseporeht no dewangdnanar eh ,ylkciuQ .elbuortninoilehtdecitondnatsapdeklawesuomeht ,nooS .repmihwotdetratsdnatuotegotgnilggurts saw noilehT .eert a tsniagapumihdeityehT .mehthtiwnoilehtkootdnatserofehtotniemacsretnuhwef a ,yad enO .ogmihteldnaecnedifnocs’esuomeht ta dehgualnoilehT ”.emevasuoy fi yademosuoyotplehtaergfo eb lliw I ,uoyesimorp I“ .eerfmihtesotnoilehtdetseuqeryletarepsedesuomehtnehwesuomehttaeottuoba saw eH .yrgnaetiuqpuekow eh dna ,peels s’noilehtdebrutsidsihT .nufroftsujydobsihnwoddnapugninnurdetratsesuom a nehwelgnujehtnignipeelsecno saw noil A'\n",
    "You have noticed that the story is printed in a reversed order.   \n",
    "Rectify the same and write a code to print the same story in a correct order.  "
   ]
  },
  {
   "cell_type": "code",
   "execution_count": 94,
   "id": "ec66d445",
   "metadata": {},
   "outputs": [
    {
     "data": {
      "text/plain": [
       "['.elgnujehtotniffo',\n",
       " 'deps',\n",
       " 'mehtfohtoB',\n",
       " '.eerfnoilehttesotseporeht',\n",
       " 'no',\n",
       " 'dewangdnanar',\n",
       " 'eh',\n",
       " ',ylkciuQ',\n",
       " '.elbuortninoilehtdecitondnatsapdeklawesuomeht',\n",
       " ',nooS',\n",
       " '.repmihwotdetratsdnatuotegotgnilggurts',\n",
       " 'saw',\n",
       " 'noilehT',\n",
       " '.eert',\n",
       " 'a',\n",
       " 'tsniagapumihdeityehT',\n",
       " '.mehthtiwnoilehtkootdnatserofehtotniemacsretnuhwef',\n",
       " 'a',\n",
       " ',yad',\n",
       " 'enO',\n",
       " '.ogmihteldnaecnedifnocs’esuomeht',\n",
       " 'ta',\n",
       " 'dehgualnoilehT',\n",
       " '”.emevasuoy',\n",
       " 'fi',\n",
       " 'yademosuoyotplehtaergfo',\n",
       " 'eb',\n",
       " 'lliw',\n",
       " 'I',\n",
       " ',uoyesimorp',\n",
       " 'I“',\n",
       " '.eerfmihtesotnoilehtdetseuqeryletarepsedesuomehtnehwesuomehttaeottuoba',\n",
       " 'saw',\n",
       " 'eH',\n",
       " '.yrgnaetiuqpuekow',\n",
       " 'eh',\n",
       " 'dna',\n",
       " ',peels',\n",
       " 's’noilehtdebrutsidsihT',\n",
       " '.nufroftsujydobsihnwoddnapugninnurdetratsesuom',\n",
       " 'a',\n",
       " 'nehwelgnujehtnignipeelsecno',\n",
       " 'saw',\n",
       " 'noil',\n",
       " 'A']"
      ]
     },
     "execution_count": 94,
     "metadata": {},
     "output_type": "execute_result"
    }
   ],
   "source": [
    "s='.elgnujehtotniffo deps mehtfohtoB .eerfnoilehttesotseporeht no dewangdnanar eh ,ylkciuQ .elbuortninoilehtdecitondnatsapdeklawesuomeht ,nooS .repmihwotdetratsdnatuotegotgnilggurts saw noilehT .eert a tsniagapumihdeityehT .mehthtiwnoilehtkootdnatserofehtotniemacsretnuhwef a ,yad enO .ogmihteldnaecnedifnocs’esuomeht ta dehgualnoilehT ”.emevasuoy fi yademosuoyotplehtaergfo eb lliw I ,uoyesimorp I“ .eerfmihtesotnoilehtdetseuqeryletarepsedesuomehtnehwesuomehttaeottuoba saw eH .yrgnaetiuqpuekow eh dna ,peels s’noilehtdebrutsidsihT .nufroftsujydobsihnwoddnapugninnurdetratsesuom a nehwelgnujehtnignipeelsecno saw noil A' \n",
    "lst = s.split()\n",
    "lst"
   ]
  },
  {
   "cell_type": "code",
   "execution_count": 95,
   "id": "1a4ab806",
   "metadata": {},
   "outputs": [
    {
     "data": {
      "text/plain": [
       "' A lion was oncesleepinginthejunglewhen a mousestartedrunningupanddownhisbodyjustforfun. Thisdisturbedthelion’s sleep, and he wokeupquiteangry. He was abouttoeatthemousewhenthemousedesperatelyrequestedtheliontosethimfree. “I promiseyou, I will be ofgreathelptoyousomeday if yousaveme.” Thelionlaughed at themouse’sconfidenceandlethimgo. One day, a fewhunterscameintotheforestandtookthelionwiththem. Theytiedhimupagainst a tree. Thelion was strugglingtogetoutandstartedtowhimper. Soon, themousewalkedpastandnoticedthelionintrouble. Quickly, he ranandgnawed on theropestosetthelionfree. Bothofthem sped offintothejungle.'"
      ]
     },
     "execution_count": 95,
     "metadata": {},
     "output_type": "execute_result"
    }
   ],
   "source": [
    "lst1=[]\n",
    "sentence=''\n",
    "lst = s.split()\n",
    "for w in lst:\n",
    "    lst1.append(w[::-1])\n",
    "for w in reversed(lst1):\n",
    "    sentence =  sentence + ' '+ w  \n",
    "sentence  "
   ]
  }
 ],
 "metadata": {
  "kernelspec": {
   "display_name": "Python 3 (ipykernel)",
   "language": "python",
   "name": "python3"
  },
  "language_info": {
   "codemirror_mode": {
    "name": "ipython",
    "version": 3
   },
   "file_extension": ".py",
   "mimetype": "text/x-python",
   "name": "python",
   "nbconvert_exporter": "python",
   "pygments_lexer": "ipython3",
   "version": "3.9.5"
  },
  "toc": {
   "base_numbering": 1,
   "nav_menu": {},
   "number_sections": true,
   "sideBar": true,
   "skip_h1_title": false,
   "title_cell": "Table of Contents",
   "title_sidebar": "Contents",
   "toc_cell": false,
   "toc_position": {},
   "toc_section_display": true,
   "toc_window_display": true
  },
  "varInspector": {
   "cols": {
    "lenName": 16,
    "lenType": 16,
    "lenVar": 40
   },
   "kernels_config": {
    "python": {
     "delete_cmd_postfix": "",
     "delete_cmd_prefix": "del ",
     "library": "var_list.py",
     "varRefreshCmd": "print(var_dic_list())"
    },
    "r": {
     "delete_cmd_postfix": ") ",
     "delete_cmd_prefix": "rm(",
     "library": "var_list.r",
     "varRefreshCmd": "cat(var_dic_list()) "
    }
   },
   "types_to_exclude": [
    "module",
    "function",
    "builtin_function_or_method",
    "instance",
    "_Feature"
   ],
   "window_display": false
  }
 },
 "nbformat": 4,
 "nbformat_minor": 5
}
